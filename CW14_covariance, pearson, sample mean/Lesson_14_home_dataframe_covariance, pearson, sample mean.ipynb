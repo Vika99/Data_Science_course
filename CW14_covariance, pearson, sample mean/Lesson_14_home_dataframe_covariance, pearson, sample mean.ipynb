{
 "cells": [
  {
   "cell_type": "code",
   "execution_count": 71,
   "id": "de366da1",
   "metadata": {},
   "outputs": [],
   "source": [
    "import numpy as np\n",
    "from scipy import stats\n",
    "from matplotlib import pyplot as plt\n",
    "\n",
    "import pandas as pd\n",
    "from matplotlib import pyplot as plt\n",
    "import seaborn as sns\n",
    "%matplotlib inline"
   ]
  },
  {
   "cell_type": "code",
   "execution_count": 72,
   "id": "841e286a",
   "metadata": {},
   "outputs": [],
   "source": [
    "df = pd.read_csv('Churn_Modelling1.csv')"
   ]
  },
  {
   "cell_type": "code",
   "execution_count": 73,
   "id": "4ac16a28",
   "metadata": {},
   "outputs": [
    {
     "data": {
      "text/html": [
       "<div>\n",
       "<style scoped>\n",
       "    .dataframe tbody tr th:only-of-type {\n",
       "        vertical-align: middle;\n",
       "    }\n",
       "\n",
       "    .dataframe tbody tr th {\n",
       "        vertical-align: top;\n",
       "    }\n",
       "\n",
       "    .dataframe thead th {\n",
       "        text-align: right;\n",
       "    }\n",
       "</style>\n",
       "<table border=\"1\" class=\"dataframe\">\n",
       "  <thead>\n",
       "    <tr style=\"text-align: right;\">\n",
       "      <th></th>\n",
       "      <th>RowNumber</th>\n",
       "      <th>CustomerId</th>\n",
       "      <th>Surname</th>\n",
       "      <th>CreditScore</th>\n",
       "      <th>Geography</th>\n",
       "      <th>Gender</th>\n",
       "      <th>Age</th>\n",
       "      <th>Tenure</th>\n",
       "      <th>Balance</th>\n",
       "      <th>NumOfProducts</th>\n",
       "      <th>HasCrCard</th>\n",
       "      <th>IsActiveMember</th>\n",
       "      <th>EstimatedSalary</th>\n",
       "      <th>Exited</th>\n",
       "    </tr>\n",
       "  </thead>\n",
       "  <tbody>\n",
       "    <tr>\n",
       "      <th>0</th>\n",
       "      <td>1</td>\n",
       "      <td>15634602</td>\n",
       "      <td>Hargrave</td>\n",
       "      <td>619</td>\n",
       "      <td>France</td>\n",
       "      <td>Female</td>\n",
       "      <td>42</td>\n",
       "      <td>2</td>\n",
       "      <td>0.00</td>\n",
       "      <td>1</td>\n",
       "      <td>1</td>\n",
       "      <td>1</td>\n",
       "      <td>101348.88</td>\n",
       "      <td>1</td>\n",
       "    </tr>\n",
       "    <tr>\n",
       "      <th>1</th>\n",
       "      <td>2</td>\n",
       "      <td>15647311</td>\n",
       "      <td>Hill</td>\n",
       "      <td>608</td>\n",
       "      <td>Spain</td>\n",
       "      <td>Female</td>\n",
       "      <td>41</td>\n",
       "      <td>1</td>\n",
       "      <td>83807.86</td>\n",
       "      <td>1</td>\n",
       "      <td>0</td>\n",
       "      <td>1</td>\n",
       "      <td>112542.58</td>\n",
       "      <td>0</td>\n",
       "    </tr>\n",
       "    <tr>\n",
       "      <th>2</th>\n",
       "      <td>3</td>\n",
       "      <td>15619304</td>\n",
       "      <td>Onio</td>\n",
       "      <td>502</td>\n",
       "      <td>France</td>\n",
       "      <td>Female</td>\n",
       "      <td>42</td>\n",
       "      <td>8</td>\n",
       "      <td>159660.80</td>\n",
       "      <td>3</td>\n",
       "      <td>1</td>\n",
       "      <td>0</td>\n",
       "      <td>113931.57</td>\n",
       "      <td>1</td>\n",
       "    </tr>\n",
       "    <tr>\n",
       "      <th>3</th>\n",
       "      <td>4</td>\n",
       "      <td>15701354</td>\n",
       "      <td>Boni</td>\n",
       "      <td>699</td>\n",
       "      <td>France</td>\n",
       "      <td>Female</td>\n",
       "      <td>39</td>\n",
       "      <td>1</td>\n",
       "      <td>0.00</td>\n",
       "      <td>2</td>\n",
       "      <td>0</td>\n",
       "      <td>0</td>\n",
       "      <td>93826.63</td>\n",
       "      <td>0</td>\n",
       "    </tr>\n",
       "    <tr>\n",
       "      <th>4</th>\n",
       "      <td>5</td>\n",
       "      <td>15737888</td>\n",
       "      <td>Mitchell</td>\n",
       "      <td>850</td>\n",
       "      <td>Spain</td>\n",
       "      <td>Female</td>\n",
       "      <td>43</td>\n",
       "      <td>2</td>\n",
       "      <td>125510.82</td>\n",
       "      <td>1</td>\n",
       "      <td>1</td>\n",
       "      <td>1</td>\n",
       "      <td>79084.10</td>\n",
       "      <td>0</td>\n",
       "    </tr>\n",
       "    <tr>\n",
       "      <th>...</th>\n",
       "      <td>...</td>\n",
       "      <td>...</td>\n",
       "      <td>...</td>\n",
       "      <td>...</td>\n",
       "      <td>...</td>\n",
       "      <td>...</td>\n",
       "      <td>...</td>\n",
       "      <td>...</td>\n",
       "      <td>...</td>\n",
       "      <td>...</td>\n",
       "      <td>...</td>\n",
       "      <td>...</td>\n",
       "      <td>...</td>\n",
       "      <td>...</td>\n",
       "    </tr>\n",
       "    <tr>\n",
       "      <th>9995</th>\n",
       "      <td>9996</td>\n",
       "      <td>15606229</td>\n",
       "      <td>Obijiaku</td>\n",
       "      <td>771</td>\n",
       "      <td>France</td>\n",
       "      <td>Male</td>\n",
       "      <td>39</td>\n",
       "      <td>5</td>\n",
       "      <td>0.00</td>\n",
       "      <td>2</td>\n",
       "      <td>1</td>\n",
       "      <td>0</td>\n",
       "      <td>96270.64</td>\n",
       "      <td>0</td>\n",
       "    </tr>\n",
       "    <tr>\n",
       "      <th>9996</th>\n",
       "      <td>9997</td>\n",
       "      <td>15569892</td>\n",
       "      <td>Johnstone</td>\n",
       "      <td>516</td>\n",
       "      <td>France</td>\n",
       "      <td>Male</td>\n",
       "      <td>35</td>\n",
       "      <td>10</td>\n",
       "      <td>57369.61</td>\n",
       "      <td>1</td>\n",
       "      <td>1</td>\n",
       "      <td>1</td>\n",
       "      <td>101699.77</td>\n",
       "      <td>0</td>\n",
       "    </tr>\n",
       "    <tr>\n",
       "      <th>9997</th>\n",
       "      <td>9998</td>\n",
       "      <td>15584532</td>\n",
       "      <td>Liu</td>\n",
       "      <td>709</td>\n",
       "      <td>France</td>\n",
       "      <td>Female</td>\n",
       "      <td>36</td>\n",
       "      <td>7</td>\n",
       "      <td>0.00</td>\n",
       "      <td>1</td>\n",
       "      <td>0</td>\n",
       "      <td>1</td>\n",
       "      <td>42085.58</td>\n",
       "      <td>1</td>\n",
       "    </tr>\n",
       "    <tr>\n",
       "      <th>9998</th>\n",
       "      <td>9999</td>\n",
       "      <td>15682355</td>\n",
       "      <td>Sabbatini</td>\n",
       "      <td>772</td>\n",
       "      <td>Germany</td>\n",
       "      <td>Male</td>\n",
       "      <td>42</td>\n",
       "      <td>3</td>\n",
       "      <td>75075.31</td>\n",
       "      <td>2</td>\n",
       "      <td>1</td>\n",
       "      <td>0</td>\n",
       "      <td>92888.52</td>\n",
       "      <td>1</td>\n",
       "    </tr>\n",
       "    <tr>\n",
       "      <th>9999</th>\n",
       "      <td>10000</td>\n",
       "      <td>15628319</td>\n",
       "      <td>Walker</td>\n",
       "      <td>792</td>\n",
       "      <td>France</td>\n",
       "      <td>Female</td>\n",
       "      <td>28</td>\n",
       "      <td>4</td>\n",
       "      <td>130142.79</td>\n",
       "      <td>1</td>\n",
       "      <td>1</td>\n",
       "      <td>0</td>\n",
       "      <td>38190.78</td>\n",
       "      <td>0</td>\n",
       "    </tr>\n",
       "  </tbody>\n",
       "</table>\n",
       "<p>10000 rows × 14 columns</p>\n",
       "</div>"
      ],
      "text/plain": [
       "      RowNumber  CustomerId    Surname  CreditScore Geography  Gender  Age  \\\n",
       "0             1    15634602   Hargrave          619    France  Female   42   \n",
       "1             2    15647311       Hill          608     Spain  Female   41   \n",
       "2             3    15619304       Onio          502    France  Female   42   \n",
       "3             4    15701354       Boni          699    France  Female   39   \n",
       "4             5    15737888   Mitchell          850     Spain  Female   43   \n",
       "...         ...         ...        ...          ...       ...     ...  ...   \n",
       "9995       9996    15606229   Obijiaku          771    France    Male   39   \n",
       "9996       9997    15569892  Johnstone          516    France    Male   35   \n",
       "9997       9998    15584532        Liu          709    France  Female   36   \n",
       "9998       9999    15682355  Sabbatini          772   Germany    Male   42   \n",
       "9999      10000    15628319     Walker          792    France  Female   28   \n",
       "\n",
       "      Tenure    Balance  NumOfProducts  HasCrCard  IsActiveMember  \\\n",
       "0          2       0.00              1          1               1   \n",
       "1          1   83807.86              1          0               1   \n",
       "2          8  159660.80              3          1               0   \n",
       "3          1       0.00              2          0               0   \n",
       "4          2  125510.82              1          1               1   \n",
       "...      ...        ...            ...        ...             ...   \n",
       "9995       5       0.00              2          1               0   \n",
       "9996      10   57369.61              1          1               1   \n",
       "9997       7       0.00              1          0               1   \n",
       "9998       3   75075.31              2          1               0   \n",
       "9999       4  130142.79              1          1               0   \n",
       "\n",
       "      EstimatedSalary  Exited  \n",
       "0           101348.88       1  \n",
       "1           112542.58       0  \n",
       "2           113931.57       1  \n",
       "3            93826.63       0  \n",
       "4            79084.10       0  \n",
       "...               ...     ...  \n",
       "9995         96270.64       0  \n",
       "9996        101699.77       0  \n",
       "9997         42085.58       1  \n",
       "9998         92888.52       1  \n",
       "9999         38190.78       0  \n",
       "\n",
       "[10000 rows x 14 columns]"
      ]
     },
     "execution_count": 73,
     "metadata": {},
     "output_type": "execute_result"
    }
   ],
   "source": [
    "df"
   ]
  },
  {
   "cell_type": "code",
   "execution_count": 74,
   "id": "7070cf14",
   "metadata": {},
   "outputs": [],
   "source": [
    "#           для столбца Age определите :\n",
    "#         a)  размах вариации\n",
    "#         b) среднее по выборке\n",
    "#         c)медиану\n",
    "#         d)стандартное отклонение\n"
   ]
  },
  {
   "cell_type": "code",
   "execution_count": 75,
   "id": "2a036b31",
   "metadata": {},
   "outputs": [
    {
     "data": {
      "text/html": [
       "<div>\n",
       "<style scoped>\n",
       "    .dataframe tbody tr th:only-of-type {\n",
       "        vertical-align: middle;\n",
       "    }\n",
       "\n",
       "    .dataframe tbody tr th {\n",
       "        vertical-align: top;\n",
       "    }\n",
       "\n",
       "    .dataframe thead th {\n",
       "        text-align: right;\n",
       "    }\n",
       "</style>\n",
       "<table border=\"1\" class=\"dataframe\">\n",
       "  <thead>\n",
       "    <tr style=\"text-align: right;\">\n",
       "      <th></th>\n",
       "      <th>Age</th>\n",
       "    </tr>\n",
       "  </thead>\n",
       "  <tbody>\n",
       "    <tr>\n",
       "      <th>0</th>\n",
       "      <td>42</td>\n",
       "    </tr>\n",
       "    <tr>\n",
       "      <th>1</th>\n",
       "      <td>41</td>\n",
       "    </tr>\n",
       "    <tr>\n",
       "      <th>2</th>\n",
       "      <td>42</td>\n",
       "    </tr>\n",
       "    <tr>\n",
       "      <th>3</th>\n",
       "      <td>39</td>\n",
       "    </tr>\n",
       "    <tr>\n",
       "      <th>4</th>\n",
       "      <td>43</td>\n",
       "    </tr>\n",
       "    <tr>\n",
       "      <th>...</th>\n",
       "      <td>...</td>\n",
       "    </tr>\n",
       "    <tr>\n",
       "      <th>9995</th>\n",
       "      <td>39</td>\n",
       "    </tr>\n",
       "    <tr>\n",
       "      <th>9996</th>\n",
       "      <td>35</td>\n",
       "    </tr>\n",
       "    <tr>\n",
       "      <th>9997</th>\n",
       "      <td>36</td>\n",
       "    </tr>\n",
       "    <tr>\n",
       "      <th>9998</th>\n",
       "      <td>42</td>\n",
       "    </tr>\n",
       "    <tr>\n",
       "      <th>9999</th>\n",
       "      <td>28</td>\n",
       "    </tr>\n",
       "  </tbody>\n",
       "</table>\n",
       "<p>10000 rows × 1 columns</p>\n",
       "</div>"
      ],
      "text/plain": [
       "      Age\n",
       "0      42\n",
       "1      41\n",
       "2      42\n",
       "3      39\n",
       "4      43\n",
       "...   ...\n",
       "9995   39\n",
       "9996   35\n",
       "9997   36\n",
       "9998   42\n",
       "9999   28\n",
       "\n",
       "[10000 rows x 1 columns]"
      ]
     },
     "execution_count": 75,
     "metadata": {},
     "output_type": "execute_result"
    }
   ],
   "source": [
    "# достаним наш столбец\n",
    "df.loc[0:,[\"Age\"]]"
   ]
  },
  {
   "cell_type": "code",
   "execution_count": 76,
   "id": "3ce61fc7",
   "metadata": {},
   "outputs": [
    {
     "name": "stdout",
     "output_type": "stream",
     "text": [
      "Max value is: 92 \n",
      "Min value is: 18\n",
      "размах вариации= 74\n"
     ]
    }
   ],
   "source": [
    "# a)  размах вариации\n",
    "# формула: R = Xmax - Xmin\n",
    "\n",
    "Xmax = df['Age'].max()\n",
    "Xmin = df['Age'].min()\n",
    "print(\"Max value is:\", Xmax,'\\n' \"Min value is:\",Xmin)\n",
    "R = Xmax - Xmin\n",
    "print(\"размах вариации=\",R)"
   ]
  },
  {
   "cell_type": "code",
   "execution_count": 77,
   "id": "f67234f4",
   "metadata": {},
   "outputs": [
    {
     "name": "stdout",
     "output_type": "stream",
     "text": [
      "среднее по выборке 38.9218\n"
     ]
    }
   ],
   "source": [
    "# b) среднее по выборке\n",
    "\n",
    "average  = df['Age'].mean()\n",
    "average\n",
    "print(\"среднее по выборке\",average)"
   ]
  },
  {
   "cell_type": "code",
   "execution_count": 78,
   "id": "8c44e9b1",
   "metadata": {},
   "outputs": [
    {
     "name": "stdout",
     "output_type": "stream",
     "text": [
      "среднее по выборке 38.9218\n"
     ]
    }
   ],
   "source": [
    "# b) среднее по выборке\n",
    "average =df['Age'].sum()/10000\n",
    "average\n",
    "print(\"среднее по выборке\",average)"
   ]
  },
  {
   "cell_type": "code",
   "execution_count": 79,
   "id": "d3cbb68c",
   "metadata": {},
   "outputs": [
    {
     "name": "stdout",
     "output_type": "stream",
     "text": [
      "медиана =  37.0\n"
     ]
    }
   ],
   "source": [
    "#   c)медиану\n",
    "\n",
    "median = df['Age'].median()\n",
    "print(\"медиана = \",median)"
   ]
  },
  {
   "cell_type": "code",
   "execution_count": 80,
   "id": "4151c568",
   "metadata": {},
   "outputs": [],
   "source": [
    "# d)стандартное отклонение:\n",
    "# 1. от наших значений в столбике Age отнимаем среднее значение по выборке:\n",
    "lin_div = df['Age'] - average"
   ]
  },
  {
   "cell_type": "code",
   "execution_count": 81,
   "id": "f1ce80b1",
   "metadata": {},
   "outputs": [
    {
     "data": {
      "text/plain": [
       "0        3.0782\n",
       "1        2.0782\n",
       "2        3.0782\n",
       "3        0.0782\n",
       "4        4.0782\n",
       "         ...   \n",
       "9995     0.0782\n",
       "9996    -3.9218\n",
       "9997    -2.9218\n",
       "9998     3.0782\n",
       "9999   -10.9218\n",
       "Name: Age, Length: 10000, dtype: float64"
      ]
     },
     "execution_count": 81,
     "metadata": {},
     "output_type": "execute_result"
    }
   ],
   "source": [
    "lin_div"
   ]
  },
  {
   "cell_type": "code",
   "execution_count": 82,
   "id": "af333580",
   "metadata": {},
   "outputs": [
    {
     "name": "stdout",
     "output_type": "stream",
     "text": [
      "стандартное отклонение =  7.94097904\n"
     ]
    }
   ],
   "source": [
    "#2. Берем lin_div по модулю, суммируем значения и делим на общее количество и получаем наше стандартное отклонение.\n",
    "\n",
    "standartDeviation = np.abs(lin_div).sum()/10000\n",
    "print(\"стандартное отклонение = \",standartDeviation)"
   ]
  },
  {
   "cell_type": "code",
   "execution_count": 85,
   "id": "79dc9999",
   "metadata": {},
   "outputs": [
    {
     "data": {
      "text/plain": [
       "10.487806451704591"
      ]
     },
     "execution_count": 85,
     "metadata": {},
     "output_type": "execute_result"
    }
   ],
   "source": [
    "# ЭТО РПАВИЛЬНОЕ РЕШЕНИЕ ДЛЯ СТАНДАРТНОГО ОТКЛОНЕНИЯ!!!\n",
    "df['Age'].std()"
   ]
  },
  {
   "cell_type": "code",
   "execution_count": 84,
   "id": "fad972e4",
   "metadata": {},
   "outputs": [],
   "source": [
    "                          # Те же самые параметры рассчитайте для столбца Balance."
   ]
  },
  {
   "cell_type": "code",
   "execution_count": 54,
   "id": "70a49200",
   "metadata": {},
   "outputs": [
    {
     "data": {
      "text/html": [
       "<div>\n",
       "<style scoped>\n",
       "    .dataframe tbody tr th:only-of-type {\n",
       "        vertical-align: middle;\n",
       "    }\n",
       "\n",
       "    .dataframe tbody tr th {\n",
       "        vertical-align: top;\n",
       "    }\n",
       "\n",
       "    .dataframe thead th {\n",
       "        text-align: right;\n",
       "    }\n",
       "</style>\n",
       "<table border=\"1\" class=\"dataframe\">\n",
       "  <thead>\n",
       "    <tr style=\"text-align: right;\">\n",
       "      <th></th>\n",
       "      <th>Balance</th>\n",
       "    </tr>\n",
       "  </thead>\n",
       "  <tbody>\n",
       "    <tr>\n",
       "      <th>0</th>\n",
       "      <td>0.00</td>\n",
       "    </tr>\n",
       "    <tr>\n",
       "      <th>1</th>\n",
       "      <td>83807.86</td>\n",
       "    </tr>\n",
       "    <tr>\n",
       "      <th>2</th>\n",
       "      <td>159660.80</td>\n",
       "    </tr>\n",
       "    <tr>\n",
       "      <th>3</th>\n",
       "      <td>0.00</td>\n",
       "    </tr>\n",
       "    <tr>\n",
       "      <th>4</th>\n",
       "      <td>125510.82</td>\n",
       "    </tr>\n",
       "    <tr>\n",
       "      <th>...</th>\n",
       "      <td>...</td>\n",
       "    </tr>\n",
       "    <tr>\n",
       "      <th>9995</th>\n",
       "      <td>0.00</td>\n",
       "    </tr>\n",
       "    <tr>\n",
       "      <th>9996</th>\n",
       "      <td>57369.61</td>\n",
       "    </tr>\n",
       "    <tr>\n",
       "      <th>9997</th>\n",
       "      <td>0.00</td>\n",
       "    </tr>\n",
       "    <tr>\n",
       "      <th>9998</th>\n",
       "      <td>75075.31</td>\n",
       "    </tr>\n",
       "    <tr>\n",
       "      <th>9999</th>\n",
       "      <td>130142.79</td>\n",
       "    </tr>\n",
       "  </tbody>\n",
       "</table>\n",
       "<p>10000 rows × 1 columns</p>\n",
       "</div>"
      ],
      "text/plain": [
       "        Balance\n",
       "0          0.00\n",
       "1      83807.86\n",
       "2     159660.80\n",
       "3          0.00\n",
       "4     125510.82\n",
       "...         ...\n",
       "9995       0.00\n",
       "9996   57369.61\n",
       "9997       0.00\n",
       "9998   75075.31\n",
       "9999  130142.79\n",
       "\n",
       "[10000 rows x 1 columns]"
      ]
     },
     "execution_count": 54,
     "metadata": {},
     "output_type": "execute_result"
    }
   ],
   "source": [
    "# достаним наш столбец\n",
    "df.loc[0:,[\"Balance\"]]"
   ]
  },
  {
   "cell_type": "code",
   "execution_count": 18,
   "id": "eb2e825e",
   "metadata": {},
   "outputs": [
    {
     "data": {
      "text/plain": [
       "0.00         3617\n",
       "130170.82       2\n",
       "105473.74       2\n",
       "85304.27        1\n",
       "159397.75       1\n",
       "             ... \n",
       "81556.89        1\n",
       "112687.69       1\n",
       "108698.96       1\n",
       "238387.56       1\n",
       "130142.79       1\n",
       "Name: Balance, Length: 6382, dtype: int64"
      ]
     },
     "execution_count": 18,
     "metadata": {},
     "output_type": "execute_result"
    }
   ],
   "source": [
    "# мы видим, что у нас есть нулевые значения( 3617 раз!), \n",
    "# но мы их не заменяем ...\n",
    "df[\"Balance\"].value_counts()"
   ]
  },
  {
   "cell_type": "code",
   "execution_count": 55,
   "id": "233310eb",
   "metadata": {},
   "outputs": [
    {
     "name": "stdout",
     "output_type": "stream",
     "text": [
      "Max value is: 250898.09 \n",
      "Min value is: 0.0\n",
      "размах вариации= 250898.09\n"
     ]
    }
   ],
   "source": [
    "# a)  размах вариации\n",
    "# формула: R = Xmax - Xmin\n",
    "\n",
    "Xmax = df['Balance'].max()\n",
    "Xmin = df['Balance'].min()\n",
    "print(\"Max value is:\", Xmax,'\\n' \"Min value is:\",Xmin)\n",
    "R = Xmax - Xmin\n",
    "print(\"размах вариации=\",R)"
   ]
  },
  {
   "cell_type": "code",
   "execution_count": 56,
   "id": "8bca0a2a",
   "metadata": {},
   "outputs": [
    {
     "name": "stdout",
     "output_type": "stream",
     "text": [
      "среднее по выборке  76485.88928799961\n"
     ]
    }
   ],
   "source": [
    "# b) среднее по выборке\n",
    "average = df[\"Balance\"].mean()\n",
    "average\n",
    "print(\"среднее по выборке = \",average)"
   ]
  },
  {
   "cell_type": "code",
   "execution_count": 21,
   "id": "ddc6c100",
   "metadata": {},
   "outputs": [],
   "source": [
    "# замена нулевых значений\n",
    "# df.loc[(df.Balance == 0.00),'Balance'] = 76485.88928799961"
   ]
  },
  {
   "cell_type": "code",
   "execution_count": 57,
   "id": "58438ce5",
   "metadata": {},
   "outputs": [
    {
     "data": {
      "text/plain": [
       "0            0.00\n",
       "1        83807.86\n",
       "2       159660.80\n",
       "3            0.00\n",
       "4       125510.82\n",
       "          ...    \n",
       "9995         0.00\n",
       "9996     57369.61\n",
       "9997         0.00\n",
       "9998     75075.31\n",
       "9999    130142.79\n",
       "Name: Balance, Length: 10000, dtype: float64"
      ]
     },
     "execution_count": 57,
     "metadata": {},
     "output_type": "execute_result"
    }
   ],
   "source": [
    "df[\"Balance\"]"
   ]
  },
  {
   "cell_type": "code",
   "execution_count": 58,
   "id": "66ceff23",
   "metadata": {},
   "outputs": [
    {
     "name": "stdout",
     "output_type": "stream",
     "text": [
      "медиана =  97198.54000000001\n"
     ]
    }
   ],
   "source": [
    "#   c)медиану\n",
    "\n",
    "median = df['Balance'].median()\n",
    "print(\"медиана = \",median)"
   ]
  },
  {
   "cell_type": "code",
   "execution_count": 59,
   "id": "31e4332e",
   "metadata": {},
   "outputs": [
    {
     "data": {
      "text/plain": [
       "0      -76485.889288\n",
       "1        7321.970712\n",
       "2       83174.910712\n",
       "3      -76485.889288\n",
       "4       49024.930712\n",
       "            ...     \n",
       "9995   -76485.889288\n",
       "9996   -19116.279288\n",
       "9997   -76485.889288\n",
       "9998    -1410.579288\n",
       "9999    53656.900712\n",
       "Name: Balance, Length: 10000, dtype: float64"
      ]
     },
     "execution_count": 59,
     "metadata": {},
     "output_type": "execute_result"
    }
   ],
   "source": [
    "# d)стандартное отклонение:\n",
    "# 1. от наших значений в столбике Balance отнимаем среднее значение по выборке:\n",
    "lin_div = df['Balance'] - average\n",
    "lin_div"
   ]
  },
  {
   "cell_type": "code",
   "execution_count": 60,
   "id": "9ef0f293",
   "metadata": {},
   "outputs": [
    {
     "name": "stdout",
     "output_type": "stream",
     "text": [
      "стандартное отклонение =  56660.71196486566\n"
     ]
    }
   ],
   "source": [
    "#2. Берем lin_div по модулю, суммируем значения и делим на общее количество и получаем наше стандартное отклонение.\n",
    "\n",
    "standartDeviation = np.abs(lin_div).sum()/10000\n",
    "print(\"стандартное отклонение = \",standartDeviation)"
   ]
  },
  {
   "cell_type": "code",
   "execution_count": null,
   "id": "28f8b765",
   "metadata": {},
   "outputs": [],
   "source": []
  },
  {
   "cell_type": "code",
   "execution_count": null,
   "id": "a458bec7",
   "metadata": {},
   "outputs": [],
   "source": [
    "# Отфильтруйте данные - выберите для анализа записи о клиентах из Германии.\n",
    "# Рассчитайте для столбца Balance отфильтрованного датасета  \n",
    "# размах вариации\n",
    "# среднее по выборке\n",
    "# медиану\n",
    "# стандартное отклонение\n",
    "# для клиентов из Германии.\n"
   ]
  },
  {
   "cell_type": "code",
   "execution_count": null,
   "id": "d08d5abf",
   "metadata": {},
   "outputs": [],
   "source": [
    "# Отфильтруйте данные - выберите для анализа записи о клиентах из Германии.\n",
    "df[(df['Geography'] == 'Germany')&(df['HasCrCard'] == 1)]['Age'].mean() "
   ]
  },
  {
   "cell_type": "code",
   "execution_count": 61,
   "id": "30b6c22f",
   "metadata": {},
   "outputs": [
    {
     "data": {
      "text/html": [
       "<div>\n",
       "<style scoped>\n",
       "    .dataframe tbody tr th:only-of-type {\n",
       "        vertical-align: middle;\n",
       "    }\n",
       "\n",
       "    .dataframe tbody tr th {\n",
       "        vertical-align: top;\n",
       "    }\n",
       "\n",
       "    .dataframe thead th {\n",
       "        text-align: right;\n",
       "    }\n",
       "</style>\n",
       "<table border=\"1\" class=\"dataframe\">\n",
       "  <thead>\n",
       "    <tr style=\"text-align: right;\">\n",
       "      <th></th>\n",
       "      <th>RowNumber</th>\n",
       "      <th>CustomerId</th>\n",
       "      <th>Surname</th>\n",
       "      <th>CreditScore</th>\n",
       "      <th>Geography</th>\n",
       "      <th>Gender</th>\n",
       "      <th>Age</th>\n",
       "      <th>Tenure</th>\n",
       "      <th>Balance</th>\n",
       "      <th>NumOfProducts</th>\n",
       "      <th>HasCrCard</th>\n",
       "      <th>IsActiveMember</th>\n",
       "      <th>EstimatedSalary</th>\n",
       "      <th>Exited</th>\n",
       "    </tr>\n",
       "  </thead>\n",
       "  <tbody>\n",
       "    <tr>\n",
       "      <th>7</th>\n",
       "      <td>8</td>\n",
       "      <td>15656148</td>\n",
       "      <td>Obinna</td>\n",
       "      <td>376</td>\n",
       "      <td>Germany</td>\n",
       "      <td>Female</td>\n",
       "      <td>29</td>\n",
       "      <td>4</td>\n",
       "      <td>115046.74</td>\n",
       "      <td>4</td>\n",
       "      <td>1</td>\n",
       "      <td>0</td>\n",
       "      <td>119346.88</td>\n",
       "      <td>1</td>\n",
       "    </tr>\n",
       "    <tr>\n",
       "      <th>15</th>\n",
       "      <td>16</td>\n",
       "      <td>15643966</td>\n",
       "      <td>Goforth</td>\n",
       "      <td>616</td>\n",
       "      <td>Germany</td>\n",
       "      <td>Male</td>\n",
       "      <td>45</td>\n",
       "      <td>3</td>\n",
       "      <td>143129.41</td>\n",
       "      <td>2</td>\n",
       "      <td>0</td>\n",
       "      <td>1</td>\n",
       "      <td>64327.26</td>\n",
       "      <td>0</td>\n",
       "    </tr>\n",
       "    <tr>\n",
       "      <th>16</th>\n",
       "      <td>17</td>\n",
       "      <td>15737452</td>\n",
       "      <td>Romeo</td>\n",
       "      <td>653</td>\n",
       "      <td>Germany</td>\n",
       "      <td>Male</td>\n",
       "      <td>58</td>\n",
       "      <td>1</td>\n",
       "      <td>132602.88</td>\n",
       "      <td>1</td>\n",
       "      <td>1</td>\n",
       "      <td>0</td>\n",
       "      <td>5097.67</td>\n",
       "      <td>1</td>\n",
       "    </tr>\n",
       "    <tr>\n",
       "      <th>26</th>\n",
       "      <td>27</td>\n",
       "      <td>15736816</td>\n",
       "      <td>Young</td>\n",
       "      <td>756</td>\n",
       "      <td>Germany</td>\n",
       "      <td>Male</td>\n",
       "      <td>36</td>\n",
       "      <td>2</td>\n",
       "      <td>136815.64</td>\n",
       "      <td>1</td>\n",
       "      <td>1</td>\n",
       "      <td>1</td>\n",
       "      <td>170041.95</td>\n",
       "      <td>0</td>\n",
       "    </tr>\n",
       "    <tr>\n",
       "      <th>28</th>\n",
       "      <td>29</td>\n",
       "      <td>15728693</td>\n",
       "      <td>McWilliams</td>\n",
       "      <td>574</td>\n",
       "      <td>Germany</td>\n",
       "      <td>Female</td>\n",
       "      <td>43</td>\n",
       "      <td>3</td>\n",
       "      <td>141349.43</td>\n",
       "      <td>1</td>\n",
       "      <td>1</td>\n",
       "      <td>1</td>\n",
       "      <td>100187.43</td>\n",
       "      <td>0</td>\n",
       "    </tr>\n",
       "    <tr>\n",
       "      <th>...</th>\n",
       "      <td>...</td>\n",
       "      <td>...</td>\n",
       "      <td>...</td>\n",
       "      <td>...</td>\n",
       "      <td>...</td>\n",
       "      <td>...</td>\n",
       "      <td>...</td>\n",
       "      <td>...</td>\n",
       "      <td>...</td>\n",
       "      <td>...</td>\n",
       "      <td>...</td>\n",
       "      <td>...</td>\n",
       "      <td>...</td>\n",
       "      <td>...</td>\n",
       "    </tr>\n",
       "    <tr>\n",
       "      <th>9982</th>\n",
       "      <td>9983</td>\n",
       "      <td>15768163</td>\n",
       "      <td>Griffin</td>\n",
       "      <td>655</td>\n",
       "      <td>Germany</td>\n",
       "      <td>Female</td>\n",
       "      <td>46</td>\n",
       "      <td>7</td>\n",
       "      <td>137145.12</td>\n",
       "      <td>1</td>\n",
       "      <td>1</td>\n",
       "      <td>0</td>\n",
       "      <td>115146.40</td>\n",
       "      <td>1</td>\n",
       "    </tr>\n",
       "    <tr>\n",
       "      <th>9984</th>\n",
       "      <td>9985</td>\n",
       "      <td>15696175</td>\n",
       "      <td>Echezonachukwu</td>\n",
       "      <td>602</td>\n",
       "      <td>Germany</td>\n",
       "      <td>Male</td>\n",
       "      <td>35</td>\n",
       "      <td>7</td>\n",
       "      <td>90602.42</td>\n",
       "      <td>2</td>\n",
       "      <td>1</td>\n",
       "      <td>1</td>\n",
       "      <td>51695.41</td>\n",
       "      <td>0</td>\n",
       "    </tr>\n",
       "    <tr>\n",
       "      <th>9986</th>\n",
       "      <td>9987</td>\n",
       "      <td>15581736</td>\n",
       "      <td>Bartlett</td>\n",
       "      <td>673</td>\n",
       "      <td>Germany</td>\n",
       "      <td>Male</td>\n",
       "      <td>47</td>\n",
       "      <td>1</td>\n",
       "      <td>183579.54</td>\n",
       "      <td>2</td>\n",
       "      <td>0</td>\n",
       "      <td>1</td>\n",
       "      <td>34047.54</td>\n",
       "      <td>0</td>\n",
       "    </tr>\n",
       "    <tr>\n",
       "      <th>9990</th>\n",
       "      <td>9991</td>\n",
       "      <td>15798964</td>\n",
       "      <td>Nkemakonam</td>\n",
       "      <td>714</td>\n",
       "      <td>Germany</td>\n",
       "      <td>Male</td>\n",
       "      <td>33</td>\n",
       "      <td>3</td>\n",
       "      <td>35016.60</td>\n",
       "      <td>1</td>\n",
       "      <td>1</td>\n",
       "      <td>0</td>\n",
       "      <td>53667.08</td>\n",
       "      <td>0</td>\n",
       "    </tr>\n",
       "    <tr>\n",
       "      <th>9998</th>\n",
       "      <td>9999</td>\n",
       "      <td>15682355</td>\n",
       "      <td>Sabbatini</td>\n",
       "      <td>772</td>\n",
       "      <td>Germany</td>\n",
       "      <td>Male</td>\n",
       "      <td>42</td>\n",
       "      <td>3</td>\n",
       "      <td>75075.31</td>\n",
       "      <td>2</td>\n",
       "      <td>1</td>\n",
       "      <td>0</td>\n",
       "      <td>92888.52</td>\n",
       "      <td>1</td>\n",
       "    </tr>\n",
       "  </tbody>\n",
       "</table>\n",
       "<p>2509 rows × 14 columns</p>\n",
       "</div>"
      ],
      "text/plain": [
       "      RowNumber  CustomerId         Surname  CreditScore Geography  Gender  \\\n",
       "7             8    15656148          Obinna          376   Germany  Female   \n",
       "15           16    15643966         Goforth          616   Germany    Male   \n",
       "16           17    15737452           Romeo          653   Germany    Male   \n",
       "26           27    15736816           Young          756   Germany    Male   \n",
       "28           29    15728693      McWilliams          574   Germany  Female   \n",
       "...         ...         ...             ...          ...       ...     ...   \n",
       "9982       9983    15768163         Griffin          655   Germany  Female   \n",
       "9984       9985    15696175  Echezonachukwu          602   Germany    Male   \n",
       "9986       9987    15581736        Bartlett          673   Germany    Male   \n",
       "9990       9991    15798964      Nkemakonam          714   Germany    Male   \n",
       "9998       9999    15682355       Sabbatini          772   Germany    Male   \n",
       "\n",
       "      Age  Tenure    Balance  NumOfProducts  HasCrCard  IsActiveMember  \\\n",
       "7      29       4  115046.74              4          1               0   \n",
       "15     45       3  143129.41              2          0               1   \n",
       "16     58       1  132602.88              1          1               0   \n",
       "26     36       2  136815.64              1          1               1   \n",
       "28     43       3  141349.43              1          1               1   \n",
       "...   ...     ...        ...            ...        ...             ...   \n",
       "9982   46       7  137145.12              1          1               0   \n",
       "9984   35       7   90602.42              2          1               1   \n",
       "9986   47       1  183579.54              2          0               1   \n",
       "9990   33       3   35016.60              1          1               0   \n",
       "9998   42       3   75075.31              2          1               0   \n",
       "\n",
       "      EstimatedSalary  Exited  \n",
       "7           119346.88       1  \n",
       "15           64327.26       0  \n",
       "16            5097.67       1  \n",
       "26          170041.95       0  \n",
       "28          100187.43       0  \n",
       "...               ...     ...  \n",
       "9982        115146.40       1  \n",
       "9984         51695.41       0  \n",
       "9986         34047.54       0  \n",
       "9990         53667.08       0  \n",
       "9998         92888.52       1  \n",
       "\n",
       "[2509 rows x 14 columns]"
      ]
     },
     "execution_count": 61,
     "metadata": {},
     "output_type": "execute_result"
    }
   ],
   "source": [
    "# все наши данные по Германии\n",
    "df[(df['Geography'] == 'Germany')]"
   ]
  },
  {
   "cell_type": "code",
   "execution_count": 62,
   "id": "bf34e6e8",
   "metadata": {},
   "outputs": [
    {
     "data": {
      "text/plain": [
       "7       115046.74\n",
       "15      143129.41\n",
       "16      132602.88\n",
       "26      136815.64\n",
       "28      141349.43\n",
       "          ...    \n",
       "9982    137145.12\n",
       "9984     90602.42\n",
       "9986    183579.54\n",
       "9990     35016.60\n",
       "9998     75075.31\n",
       "Name: Balance, Length: 2509, dtype: float64"
      ]
     },
     "execution_count": 62,
     "metadata": {},
     "output_type": "execute_result"
    }
   ],
   "source": [
    "# достаним баланс только \n",
    "GermanyBalance = df[(df['Geography'] == 'Germany')]['Balance']\n",
    "GermanyBalance"
   ]
  },
  {
   "cell_type": "code",
   "execution_count": 64,
   "id": "74c6541e",
   "metadata": {},
   "outputs": [
    {
     "name": "stdout",
     "output_type": "stream",
     "text": [
      "Max value is: 214346.96 \n",
      "Min value is: 27288.43\n",
      "размах вариации= 187058.53\n"
     ]
    }
   ],
   "source": [
    "# a)  размах вариации\n",
    "# формула: R = Xmax - Xmin\n",
    "\n",
    "GermanyBalanceMax = df[(df['Geography'] == 'Germany')]['Balance'].max()\n",
    "GermanyBalanceMin = df[(df['Geography']== 'Germany')]['Balance'].min()\n",
    "print(\"Max value is:\", GermanyBalanceMax,'\\n' \"Min value is:\",GermanyBalanceMin)\n",
    "R = GermanyBalanceMax - GermanyBalanceMin\n",
    "print(\"размах вариации=\",R)"
   ]
  },
  {
   "cell_type": "code",
   "execution_count": 65,
   "id": "806b6cf2",
   "metadata": {
    "scrolled": true
   },
   "outputs": [
    {
     "name": "stdout",
     "output_type": "stream",
     "text": [
      "среднее по выборке  119730.11613391782\n"
     ]
    }
   ],
   "source": [
    "# b) среднее по выборке\n",
    "average = df[(df['Geography'] == 'Germany')]['Balance'].mean()\n",
    "average\n",
    "print(\"среднее по выборке = \",average)"
   ]
  },
  {
   "cell_type": "code",
   "execution_count": 67,
   "id": "5b998cf8",
   "metadata": {},
   "outputs": [
    {
     "name": "stdout",
     "output_type": "stream",
     "text": [
      "медиана =  119703.1\n"
     ]
    }
   ],
   "source": [
    "#   c)медиану\n",
    "\n",
    "median = df[(df['Geography']=='Germany')]['Balance'].median()\n",
    "print(\"медиана = \",median)"
   ]
  },
  {
   "cell_type": "code",
   "execution_count": 68,
   "id": "653bbc5b",
   "metadata": {},
   "outputs": [
    {
     "data": {
      "text/plain": [
       "7       -4683.376134\n",
       "15      23399.293866\n",
       "16      12872.763866\n",
       "26      17085.523866\n",
       "28      21619.313866\n",
       "            ...     \n",
       "9982    17415.003866\n",
       "9984   -29127.696134\n",
       "9986    63849.423866\n",
       "9990   -84713.516134\n",
       "9998   -44654.806134\n",
       "Name: Balance, Length: 2509, dtype: float64"
      ]
     },
     "execution_count": 68,
     "metadata": {},
     "output_type": "execute_result"
    }
   ],
   "source": [
    "# d)стандартное отклонение:\n",
    "# 1. от наших значений в столбике Balance отнимаем среднее значение по выборке:\n",
    "lin_div = df[(df['Geography']=='Germany')]['Balance'] - average\n",
    "lin_div"
   ]
  },
  {
   "cell_type": "code",
   "execution_count": 69,
   "id": "1fc732eb",
   "metadata": {},
   "outputs": [
    {
     "name": "stdout",
     "output_type": "stream",
     "text": [
      "стандартное отклонение =  5312.282694840175\n"
     ]
    }
   ],
   "source": [
    "#2. Берем lin_div по модулю, суммируем значения и делим на общее количество и получаем наше стандартное отклонение.\n",
    "\n",
    "standartDeviation = np.abs(lin_div).sum()/10000\n",
    "print(\"стандартное отклонение = \",standartDeviation)"
   ]
  },
  {
   "cell_type": "code",
   "execution_count": null,
   "id": "b8fb8060",
   "metadata": {},
   "outputs": [],
   "source": [
    "# Соотнесите с результатами общего датасета Balance общий и Balance Германии, сделайте предположения о чем говорят данные. \n",
    "\n",
    "\n",
    "                                                # ОБЩИЙ Balance:\n",
    "    # размах вариации = 250898.09\n",
    "    # среднее по выборке = 76485.88928799961\n",
    "    # медиана =  97198.54000000001\n",
    "    # стандартное отклонение =  56660.71196486566\n",
    "    \n",
    "                                                # Germany Balance:\n",
    "        # размах вариации = 187058.53\n",
    "        # среднее по выборке = 119730.11613391782\n",
    "        # медиана =  119703.1\n",
    "        # стандартное отклонение =  5312.282694840175\n",
    "        \n",
    "        \n",
    "# Размах вариации Германии меньше по сравнению с общим размахом.\n",
    "# Среднее по выборке и медиана в Германии практически совпали и имеют значения выше,чем общие значения по всем странам,\n",
    "# что говорит о том, что баланс клиентов Германии выше в среднем на 43,245 тыс. по сравнению с клиентами других стран\n",
    "# Каждое значение в выборке Германии в среднем откланяется на 5312.3 от среднего значения, в то время как в общей выборке \n",
    "# значения отклоняются на 56660.7., что почти в 11 раз больше,чем по сравнению с Германией. Стандартное отклонение Германии\n",
    "# обладает меньшей вариабельностью и среднее значение более точное."
   ]
  }
 ],
 "metadata": {
  "kernelspec": {
   "display_name": "Python 3 (ipykernel)",
   "language": "python",
   "name": "python3"
  },
  "language_info": {
   "codemirror_mode": {
    "name": "ipython",
    "version": 3
   },
   "file_extension": ".py",
   "mimetype": "text/x-python",
   "name": "python",
   "nbconvert_exporter": "python",
   "pygments_lexer": "ipython3",
   "version": "3.9.7"
  }
 },
 "nbformat": 4,
 "nbformat_minor": 5
}
