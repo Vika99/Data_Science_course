{
 "cells": [
  {
   "cell_type": "code",
   "execution_count": 5,
   "id": "ac7177a1",
   "metadata": {},
   "outputs": [],
   "source": [
    "import numpy as np"
   ]
  },
  {
   "cell_type": "code",
   "execution_count": 61,
   "id": "5ad1dc55",
   "metadata": {},
   "outputs": [
    {
     "data": {
      "text/plain": [
       "array([[4., 7., 3., ..., 5., 8., 8.],\n",
       "       [1., 0., 3., ..., 1., 4., 9.],\n",
       "       [6., 0., 1., ..., 6., 6., 5.],\n",
       "       ...,\n",
       "       [2., 4., 0., ..., 7., 6., 3.],\n",
       "       [5., 1., 1., ..., 8., 7., 2.],\n",
       "       [8., 8., 0., ..., 8., 4., 3.]])"
      ]
     },
     "execution_count": 61,
     "metadata": {},
     "output_type": "execute_result"
    }
   ],
   "source": [
    "A = np.loadtxt('matrix.txt')\n",
    "A"
   ]
  },
  {
   "cell_type": "code",
   "execution_count": 62,
   "id": "3091ebcc",
   "metadata": {},
   "outputs": [],
   "source": [
    "# подсчитай количество девяток в матрице А"
   ]
  },
  {
   "cell_type": "code",
   "execution_count": 63,
   "id": "475c71ac",
   "metadata": {},
   "outputs": [
    {
     "data": {
      "text/plain": [
       "(100, 120)"
      ]
     },
     "execution_count": 63,
     "metadata": {},
     "output_type": "execute_result"
    }
   ],
   "source": [
    "A.shape"
   ]
  },
  {
   "cell_type": "code",
   "execution_count": 85,
   "id": "633b2476",
   "metadata": {},
   "outputs": [
    {
     "name": "stdout",
     "output_type": "stream",
     "text": [
      "[array([1., 0., 3., 4., 8., 4., 7., 9., 8., 1., 9., 6., 9., 0., 2., 8., 6.,\n",
      "       5., 3., 2., 8., 1., 9., 0., 2., 5., 7., 3., 4., 9., 8., 4., 7., 5.,\n",
      "       2., 9., 5., 5., 5., 4., 8., 6., 4., 8., 3., 5., 5., 9., 9., 2., 0.,\n",
      "       4., 6., 6., 9., 6., 4., 5., 8., 3., 6., 5., 4., 1., 6., 4., 8., 5.,\n",
      "       5., 4., 4., 6., 2., 8., 0., 4., 2., 2., 0., 8., 9., 6., 0., 7., 9.,\n",
      "       6., 2., 2., 6., 5., 1., 2., 1., 3., 9., 1., 9., 9., 0., 3., 7., 7.,\n",
      "       6., 6., 7., 8., 1., 6., 0., 0., 7., 8., 1., 5., 6., 9., 6., 1., 4.,\n",
      "       9.])]\n",
      "[9.0, 9.0, 9.0, 9.0, 9.0, 9.0, 9.0, 9.0, 9.0, 9.0, 9.0, 9.0, 9.0, 9.0, 9.0, 9.0]\n"
     ]
    }
   ],
   "source": [
    "# достаем вторую строку и считаем девятки в ней :\n",
    "countn=[]\n",
    "readline = []\n",
    "readline.append(A[1])\n",
    "print(readline)\n",
    "for i in range(len(readline)):\n",
    "    for j in range (len(readline[i])):\n",
    "        if readline[i][j] == 9:\n",
    "            countn.append(readline[i][j])\n",
    "print(countn)"
   ]
  },
  {
   "cell_type": "code",
   "execution_count": 87,
   "id": "4588b41b",
   "metadata": {},
   "outputs": [
    {
     "data": {
      "text/plain": [
       "16"
      ]
     },
     "execution_count": 87,
     "metadata": {},
     "output_type": "execute_result"
    }
   ],
   "source": [
    "len(countn)"
   ]
  },
  {
   "cell_type": "code",
   "execution_count": 91,
   "id": "cc51564d",
   "metadata": {},
   "outputs": [],
   "source": [
    "# ВАРИАНТ 1\n",
    "count = []\n",
    "for i in range(len(A)):\n",
    "    for j in range(len(A[i])):\n",
    "        if A[i][j] == 9:\n",
    "            count.append(A[i][j])\n",
    "        #   print(count)\n",
    "        #    print(A[i][j\n",
    "        \n",
    "# описание действий:\n",
    "# 1. Создаем пустой лист,куда далее будем вносить наш результат\n",
    "# 2. цикл for проходит по каждому элементу (i) из нашего массива A (по строкам)\n",
    "# 3. также нужно пройтись по столбцам, пишем цикл for,который проходит по каждому столбику ,учитывая строки из предыдущего for цикла(A[i])\n",
    "# 4. если наш элемент по строчке и столбику равен 9,то\n",
    "# 5. мы вносим нашу девятку в наш вышепредставленный пустой лист"
   ]
  },
  {
   "cell_type": "code",
   "execution_count": 92,
   "id": "b3a96929",
   "metadata": {},
   "outputs": [
    {
     "data": {
      "text/plain": [
       "1166"
      ]
     },
     "execution_count": 92,
     "metadata": {},
     "output_type": "execute_result"
    }
   ],
   "source": [
    "# количество девяток (9)\n",
    "len(count)"
   ]
  },
  {
   "cell_type": "code",
   "execution_count": 93,
   "id": "c6cac82c",
   "metadata": {},
   "outputs": [],
   "source": [
    "# ВАРИАНТ 2\n",
    "count = []\n",
    "for i in range(len(A)):\n",
    "    for j in range(len(A)):\n",
    "        if A[i][j] == 9:\n",
    "            count.append(A[i][j])"
   ]
  },
  {
   "cell_type": "code",
   "execution_count": 94,
   "id": "e2dc5ec6",
   "metadata": {},
   "outputs": [
    {
     "data": {
      "text/plain": [
       "975"
      ]
     },
     "execution_count": 94,
     "metadata": {},
     "output_type": "execute_result"
    }
   ],
   "source": [
    "# количество девяток (9)\n",
    "len(count)"
   ]
  },
  {
   "cell_type": "code",
   "execution_count": null,
   "id": "234428f8",
   "metadata": {},
   "outputs": [],
   "source": []
  },
  {
   "cell_type": "code",
   "execution_count": null,
   "id": "e73b0190",
   "metadata": {},
   "outputs": [],
   "source": [
    "# ВОПРОС: В ЧЕМ РАЗНИЦА МЕЖДУ ВАРИАНТ1 И ВАРИАНТ 2?"
   ]
  },
  {
   "cell_type": "code",
   "execution_count": null,
   "id": "072a7766",
   "metadata": {},
   "outputs": [],
   "source": []
  },
  {
   "cell_type": "code",
   "execution_count": 97,
   "id": "d4432990",
   "metadata": {},
   "outputs": [
    {
     "name": "stdout",
     "output_type": "stream",
     "text": [
      "1166\n"
     ]
    }
   ],
   "source": [
    "                                                             # ПРАВИЛЬНОЕ РЕШЕНИЕ\n",
    "# считаем девятки в нашем массиве!\n",
    "count = 0\n",
    "for i in range(A.shape[0]):\n",
    "    for j in range(A.shape[1]):\n",
    "        if A[i][j] == 9:\n",
    "            count +=1\n",
    "print(count)"
   ]
  },
  {
   "cell_type": "code",
   "execution_count": null,
   "id": "d62e0694",
   "metadata": {},
   "outputs": [],
   "source": []
  }
 ],
 "metadata": {
  "kernelspec": {
   "display_name": "Python 3 (ipykernel)",
   "language": "python",
   "name": "python3"
  },
  "language_info": {
   "codemirror_mode": {
    "name": "ipython",
    "version": 3
   },
   "file_extension": ".py",
   "mimetype": "text/x-python",
   "name": "python",
   "nbconvert_exporter": "python",
   "pygments_lexer": "ipython3",
   "version": "3.9.7"
  }
 },
 "nbformat": 4,
 "nbformat_minor": 5
}
