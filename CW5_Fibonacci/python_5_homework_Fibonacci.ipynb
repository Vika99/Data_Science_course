{
 "cells": [
  {
   "cell_type": "code",
   "execution_count": 1,
   "id": "17d38091",
   "metadata": {},
   "outputs": [],
   "source": [
    "#Fibonacci recursion #1 :\n",
    "\n",
    "def Fibonacci(n):\n",
    "    \n",
    "# if n<0, no decisions, Fibonacci is from 0.    \n",
    "    if n < 0:\n",
    "        print ('there are no decisions')\n",
    "#if n = 0 we will have 0        \n",
    "    elif n == 0:\n",
    "        return 0\n",
    "#if n = 1 we will have 0 + 1 = 1        \n",
    "    elif n == 1:\n",
    "        return 1\n",
    "    else:\n",
    "        return (Fibonacci (n-1) + Fibonacci(n-2))"
   ]
  },
  {
   "cell_type": "code",
   "execution_count": 2,
   "id": "b14a0c36",
   "metadata": {},
   "outputs": [
    {
     "data": {
      "text/plain": [
       "34"
      ]
     },
     "execution_count": 2,
     "metadata": {},
     "output_type": "execute_result"
    }
   ],
   "source": [
    "Fibonacci(9)"
   ]
  },
  {
   "cell_type": "code",
   "execution_count": 8,
   "id": "d4383c4d",
   "metadata": {},
   "outputs": [
    {
     "name": "stdout",
     "output_type": "stream",
     "text": [
      "34\n",
      "the number please enter:9\n",
      "0\n",
      "1\n",
      "1\n",
      "2\n",
      "3\n",
      "5\n",
      "8\n",
      "13\n",
      "21\n"
     ]
    }
   ],
   "source": [
    "#Fibonacci recursion #2 i found this decision and I like it!:\n",
    "\n",
    "\n",
    "def Fibonacci_2(n):\n",
    "    \n",
    "    if n <=1:\n",
    "        return n\n",
    "    else:\n",
    "        return (Fibonacci_2(n-1) + Fibonacci_2(n-2))\n",
    "    \n",
    "print (Fibonacci_2(9))    \n",
    "\n",
    "n = int(input (\"the number please enter:\"))  \n",
    "\n",
    "#cheking if the number(n) is valid!\n",
    "\n",
    "if n<=0:\n",
    "    print(\"please, enter a positive number\")\n",
    "else:\n",
    "    for i in range (n):\n",
    "        print(Fibonacci_2(i))\n",
    "        \n",
    "\n"
   ]
  },
  {
   "cell_type": "code",
   "execution_count": 9,
   "id": "c48f9765",
   "metadata": {},
   "outputs": [],
   "source": [
    "# palindrome:\n",
    "#Return True if the word is a palindrome, False otherwise.\n",
    "#[::-1] Python slicing for string reversal provides a convenient way:\n",
    "\n",
    "def IsPalindrome(w):\n",
    "    if w == w[:: -1]:\n",
    "        return True\n",
    "    else:\n",
    "        return False\n",
    "    \n",
    "    \n"
   ]
  },
  {
   "cell_type": "code",
   "execution_count": 12,
   "id": "2e48daac",
   "metadata": {},
   "outputs": [
    {
     "data": {
      "text/plain": [
       "True"
      ]
     },
     "execution_count": 12,
     "metadata": {},
     "output_type": "execute_result"
    }
   ],
   "source": [
    "IsPalindrome('madam')"
   ]
  },
  {
   "cell_type": "code",
   "execution_count": 11,
   "id": "38645fa8",
   "metadata": {},
   "outputs": [
    {
     "data": {
      "text/plain": [
       "False"
      ]
     },
     "execution_count": 11,
     "metadata": {},
     "output_type": "execute_result"
    }
   ],
   "source": [
    "IsPalindrome(\"vika\")"
   ]
  },
  {
   "cell_type": "code",
   "execution_count": null,
   "id": "cfe31a08",
   "metadata": {},
   "outputs": [],
   "source": []
  }
 ],
 "metadata": {
  "kernelspec": {
   "display_name": "Python 3 (ipykernel)",
   "language": "python",
   "name": "python3"
  },
  "language_info": {
   "codemirror_mode": {
    "name": "ipython",
    "version": 3
   },
   "file_extension": ".py",
   "mimetype": "text/x-python",
   "name": "python",
   "nbconvert_exporter": "python",
   "pygments_lexer": "ipython3",
   "version": "3.9.7"
  }
 },
 "nbformat": 4,
 "nbformat_minor": 5
}
