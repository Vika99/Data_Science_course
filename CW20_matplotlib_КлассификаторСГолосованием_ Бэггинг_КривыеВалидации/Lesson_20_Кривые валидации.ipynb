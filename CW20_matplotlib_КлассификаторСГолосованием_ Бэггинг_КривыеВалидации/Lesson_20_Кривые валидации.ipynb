{
 "cells": [
  {
   "cell_type": "markdown",
   "id": "b59d7fb7",
   "metadata": {},
   "source": [
    "Доброго всем дня! \n",
    "\n",
    "На прошлом уроке мы с Вами строили кривые обучения, которые иллюстрируют зависимость производительности модели от количества данных, на которых модель обучалась.\n",
    "\n",
    "Кроме этих кривых, рассматривают еще кривые валидации. Это кривые - характеризующие зависимость показателей производительности модели (метрик) от сложности модели.\n",
    "То есть берется, например, решающее дерево, фиксируется его максимальная глубина (параметр, характеризующий сложность модели) равная 2, дерево обучается на ВСЕМ обучающем наборе после чего запоминаются его метрики на обучающем и тестовом наборе данных. \n",
    "Затем глубина устанавливается в 3 и проделывается все то же самое (обучение, оценка, запомнили оценку) \n",
    "и так далее … до разумной глубины дерева\n",
    "После чего строим графики оценок.\n",
    "\n",
    "Задача\n",
    "Используя код написанный на уроке (хотя это и не обязательно) напишите функцию, строящую кривые валидации.\n",
    "В качестве модели возьмите DecisionTreeClassifier\n",
    "В качестве набора данных возьмите набор о поступающих в колледж из 19-го домашнего задания.\n"
   ]
  },
  {
   "cell_type": "code",
   "execution_count": 136,
   "id": "539e9681",
   "metadata": {},
   "outputs": [],
   "source": [
    "import pandas as pd\n",
    "from matplotlib import pyplot as plt\n",
    "import seaborn as sns\n",
    "%matplotlib inline\n",
    "import numpy as np\n",
    "from sklearn.metrics import confusion_matrix, precision_score, \\\n",
    "              recall_score, f1_score, precision_recall_curve, roc_curve, roc_auc_score, \\\n",
    "              auc, mean_squared_error, accuracy_score\n",
    "import math\n",
    "plt.rcParams[\"figure.figsize\"] = (12,6)\n",
    "from sklearn.pipeline import make_pipeline\n",
    "from sklearn.model_selection import train_test_split \n",
    "from sklearn.model_selection import learning_curve\n",
    "from sklearn.tree import DecisionTreeClassifier\n",
    "from sklearn.preprocessing import StandardScaler"
   ]
  },
  {
   "cell_type": "code",
   "execution_count": 87,
   "id": "a1ef3d4b",
   "metadata": {},
   "outputs": [],
   "source": [
    "df = pd.read_csv('data.csv')"
   ]
  },
  {
   "cell_type": "code",
   "execution_count": 88,
   "id": "80d12226",
   "metadata": {},
   "outputs": [
    {
     "data": {
      "text/html": [
       "<div>\n",
       "<style scoped>\n",
       "    .dataframe tbody tr th:only-of-type {\n",
       "        vertical-align: middle;\n",
       "    }\n",
       "\n",
       "    .dataframe tbody tr th {\n",
       "        vertical-align: top;\n",
       "    }\n",
       "\n",
       "    .dataframe thead th {\n",
       "        text-align: right;\n",
       "    }\n",
       "</style>\n",
       "<table border=\"1\" class=\"dataframe\">\n",
       "  <thead>\n",
       "    <tr style=\"text-align: right;\">\n",
       "      <th></th>\n",
       "      <th>type_school</th>\n",
       "      <th>school_accreditation</th>\n",
       "      <th>gender</th>\n",
       "      <th>interest</th>\n",
       "      <th>residence</th>\n",
       "      <th>parent_age</th>\n",
       "      <th>parent_salary</th>\n",
       "      <th>house_area</th>\n",
       "      <th>average_grades</th>\n",
       "      <th>parent_was_in_college</th>\n",
       "      <th>in_college</th>\n",
       "    </tr>\n",
       "  </thead>\n",
       "  <tbody>\n",
       "    <tr>\n",
       "      <th>0</th>\n",
       "      <td>Academic</td>\n",
       "      <td>A</td>\n",
       "      <td>Male</td>\n",
       "      <td>Less Interested</td>\n",
       "      <td>Urban</td>\n",
       "      <td>56</td>\n",
       "      <td>6950000</td>\n",
       "      <td>83.0</td>\n",
       "      <td>84.09</td>\n",
       "      <td>False</td>\n",
       "      <td>True</td>\n",
       "    </tr>\n",
       "    <tr>\n",
       "      <th>1</th>\n",
       "      <td>Academic</td>\n",
       "      <td>A</td>\n",
       "      <td>Male</td>\n",
       "      <td>Less Interested</td>\n",
       "      <td>Urban</td>\n",
       "      <td>57</td>\n",
       "      <td>4410000</td>\n",
       "      <td>76.8</td>\n",
       "      <td>86.91</td>\n",
       "      <td>False</td>\n",
       "      <td>True</td>\n",
       "    </tr>\n",
       "    <tr>\n",
       "      <th>2</th>\n",
       "      <td>Academic</td>\n",
       "      <td>B</td>\n",
       "      <td>Female</td>\n",
       "      <td>Very Interested</td>\n",
       "      <td>Urban</td>\n",
       "      <td>50</td>\n",
       "      <td>6500000</td>\n",
       "      <td>80.6</td>\n",
       "      <td>87.43</td>\n",
       "      <td>False</td>\n",
       "      <td>True</td>\n",
       "    </tr>\n",
       "    <tr>\n",
       "      <th>3</th>\n",
       "      <td>Vocational</td>\n",
       "      <td>B</td>\n",
       "      <td>Male</td>\n",
       "      <td>Very Interested</td>\n",
       "      <td>Rural</td>\n",
       "      <td>49</td>\n",
       "      <td>6600000</td>\n",
       "      <td>78.2</td>\n",
       "      <td>82.12</td>\n",
       "      <td>True</td>\n",
       "      <td>True</td>\n",
       "    </tr>\n",
       "    <tr>\n",
       "      <th>4</th>\n",
       "      <td>Academic</td>\n",
       "      <td>A</td>\n",
       "      <td>Female</td>\n",
       "      <td>Very Interested</td>\n",
       "      <td>Urban</td>\n",
       "      <td>57</td>\n",
       "      <td>5250000</td>\n",
       "      <td>75.1</td>\n",
       "      <td>86.79</td>\n",
       "      <td>False</td>\n",
       "      <td>False</td>\n",
       "    </tr>\n",
       "    <tr>\n",
       "      <th>...</th>\n",
       "      <td>...</td>\n",
       "      <td>...</td>\n",
       "      <td>...</td>\n",
       "      <td>...</td>\n",
       "      <td>...</td>\n",
       "      <td>...</td>\n",
       "      <td>...</td>\n",
       "      <td>...</td>\n",
       "      <td>...</td>\n",
       "      <td>...</td>\n",
       "      <td>...</td>\n",
       "    </tr>\n",
       "    <tr>\n",
       "      <th>995</th>\n",
       "      <td>Vocational</td>\n",
       "      <td>A</td>\n",
       "      <td>Female</td>\n",
       "      <td>Very Interested</td>\n",
       "      <td>Rural</td>\n",
       "      <td>49</td>\n",
       "      <td>7420000</td>\n",
       "      <td>63.6</td>\n",
       "      <td>85.99</td>\n",
       "      <td>True</td>\n",
       "      <td>True</td>\n",
       "    </tr>\n",
       "    <tr>\n",
       "      <th>996</th>\n",
       "      <td>Academic</td>\n",
       "      <td>B</td>\n",
       "      <td>Female</td>\n",
       "      <td>Less Interested</td>\n",
       "      <td>Rural</td>\n",
       "      <td>51</td>\n",
       "      <td>7480000</td>\n",
       "      <td>84.3</td>\n",
       "      <td>89.72</td>\n",
       "      <td>True</td>\n",
       "      <td>True</td>\n",
       "    </tr>\n",
       "    <tr>\n",
       "      <th>997</th>\n",
       "      <td>Vocational</td>\n",
       "      <td>A</td>\n",
       "      <td>Male</td>\n",
       "      <td>Less Interested</td>\n",
       "      <td>Urban</td>\n",
       "      <td>49</td>\n",
       "      <td>5550000</td>\n",
       "      <td>75.2</td>\n",
       "      <td>79.56</td>\n",
       "      <td>False</td>\n",
       "      <td>True</td>\n",
       "    </tr>\n",
       "    <tr>\n",
       "      <th>998</th>\n",
       "      <td>Academic</td>\n",
       "      <td>B</td>\n",
       "      <td>Male</td>\n",
       "      <td>Uncertain</td>\n",
       "      <td>Rural</td>\n",
       "      <td>53</td>\n",
       "      <td>5840000</td>\n",
       "      <td>105.8</td>\n",
       "      <td>87.18</td>\n",
       "      <td>True</td>\n",
       "      <td>True</td>\n",
       "    </tr>\n",
       "    <tr>\n",
       "      <th>999</th>\n",
       "      <td>Academic</td>\n",
       "      <td>B</td>\n",
       "      <td>Male</td>\n",
       "      <td>Quiet Interested</td>\n",
       "      <td>Urban</td>\n",
       "      <td>50</td>\n",
       "      <td>2940000</td>\n",
       "      <td>69.1</td>\n",
       "      <td>86.13</td>\n",
       "      <td>True</td>\n",
       "      <td>False</td>\n",
       "    </tr>\n",
       "  </tbody>\n",
       "</table>\n",
       "<p>1000 rows × 11 columns</p>\n",
       "</div>"
      ],
      "text/plain": [
       "    type_school school_accreditation  gender          interest residence  \\\n",
       "0      Academic                    A    Male   Less Interested     Urban   \n",
       "1      Academic                    A    Male   Less Interested     Urban   \n",
       "2      Academic                    B  Female   Very Interested     Urban   \n",
       "3    Vocational                    B    Male   Very Interested     Rural   \n",
       "4      Academic                    A  Female   Very Interested     Urban   \n",
       "..          ...                  ...     ...               ...       ...   \n",
       "995  Vocational                    A  Female   Very Interested     Rural   \n",
       "996    Academic                    B  Female   Less Interested     Rural   \n",
       "997  Vocational                    A    Male   Less Interested     Urban   \n",
       "998    Academic                    B    Male         Uncertain     Rural   \n",
       "999    Academic                    B    Male  Quiet Interested     Urban   \n",
       "\n",
       "     parent_age  parent_salary  house_area  average_grades  \\\n",
       "0            56        6950000        83.0           84.09   \n",
       "1            57        4410000        76.8           86.91   \n",
       "2            50        6500000        80.6           87.43   \n",
       "3            49        6600000        78.2           82.12   \n",
       "4            57        5250000        75.1           86.79   \n",
       "..          ...            ...         ...             ...   \n",
       "995          49        7420000        63.6           85.99   \n",
       "996          51        7480000        84.3           89.72   \n",
       "997          49        5550000        75.2           79.56   \n",
       "998          53        5840000       105.8           87.18   \n",
       "999          50        2940000        69.1           86.13   \n",
       "\n",
       "     parent_was_in_college  in_college  \n",
       "0                    False        True  \n",
       "1                    False        True  \n",
       "2                    False        True  \n",
       "3                     True        True  \n",
       "4                    False       False  \n",
       "..                     ...         ...  \n",
       "995                   True        True  \n",
       "996                   True        True  \n",
       "997                  False        True  \n",
       "998                   True        True  \n",
       "999                   True       False  \n",
       "\n",
       "[1000 rows x 11 columns]"
      ]
     },
     "execution_count": 88,
     "metadata": {},
     "output_type": "execute_result"
    }
   ],
   "source": [
    "df"
   ]
  },
  {
   "cell_type": "code",
   "execution_count": 89,
   "id": "1b43f0a7",
   "metadata": {},
   "outputs": [],
   "source": [
    "df['in_college'] = df['in_college'].astype('int')"
   ]
  },
  {
   "cell_type": "code",
   "execution_count": 90,
   "id": "59fa2d0e",
   "metadata": {},
   "outputs": [],
   "source": [
    "df['type_school'] = df['type_school'].map({'Academic':0, 'Vocational':1})\n",
    "df['school_accreditation'] = df['school_accreditation'].map({'A':0, 'B':1})\n",
    "df['gender'] = df['gender'].map({'Male':0, 'Female':1})\n",
    "df['residence'] = df['residence'].map({'Urban':0, 'Rural':1})\n",
    "df['interest'] = df['interest'].map({'Very Interested':0, 'Uncertain':1,'Less Interested':2,'Quiet Interested':3,'Not Interested':4})"
   ]
  },
  {
   "cell_type": "code",
   "execution_count": 91,
   "id": "cca01cfd",
   "metadata": {},
   "outputs": [],
   "source": [
    "X = df.drop(['in_college'], axis = 1)\n",
    "Y = df['in_college']"
   ]
  },
  {
   "cell_type": "code",
   "execution_count": 79,
   "id": "e4296c2d",
   "metadata": {},
   "outputs": [],
   "source": []
  },
  {
   "cell_type": "code",
   "execution_count": 81,
   "id": "c3f6305d",
   "metadata": {},
   "outputs": [
    {
     "data": {
      "text/plain": [
       "0      1\n",
       "1      1\n",
       "2      1\n",
       "3      1\n",
       "4      0\n",
       "      ..\n",
       "995    1\n",
       "996    1\n",
       "997    1\n",
       "998    1\n",
       "999    0\n",
       "Name: in_college, Length: 1000, dtype: int32"
      ]
     },
     "execution_count": 81,
     "metadata": {},
     "output_type": "execute_result"
    }
   ],
   "source": [
    "Y"
   ]
  },
  {
   "cell_type": "code",
   "execution_count": null,
   "id": "b701e2e8",
   "metadata": {},
   "outputs": [],
   "source": []
  },
  {
   "cell_type": "code",
   "execution_count": 131,
   "id": "374ed05c",
   "metadata": {},
   "outputs": [],
   "source": [
    "# Передаем какую-то модель и полное наше множество.\n",
    "def plot_learning_curve(model,X, Y):\n",
    "    \n",
    "    X_train, X_test, y_train, y_test = train_test_split(X, Y, test_size=0.2, random_state=1)\n",
    "\n",
    "# Create a pipeline; This will be passed as an estimator to learning curve method\n",
    "\n",
    "    pipeline = make_pipeline(StandardScaler(),\n",
    "                        model)\n",
    "\n",
    "# Use learning curve to get training and test scores along with train sizes\n",
    "\n",
    "    train_sizes, train_scores, test_scores = learning_curve(estimator=pipeline, X=X_train, y=y_train,\n",
    "                                                       cv=10, train_sizes=np.linspace(0.1, 1.0, 10),\n",
    "                                                     n_jobs=-1)\n",
    "# Calculate training and test mean and std\n",
    "#\n",
    "    train_mean = np.mean(train_scores, axis=1)\n",
    "    train_std = np.std(train_scores, axis=1)\n",
    "    test_mean = np.mean(test_scores, axis=1)\n",
    "    test_std = np.std(test_scores, axis=1)\n",
    "#\n",
    "# Plot the learning curve\n",
    "#\n",
    "    plt.plot(train_sizes, train_mean, color='blue', marker='o', markersize=5, label='Training Accuracy')\n",
    "#plt.fill_between(train_sizes, train_mean + train_std, train_mean - train_std, alpha=0.15, color='blue')\n",
    "    plt.plot(train_sizes, test_mean, color='green', marker='+', markersize=5, linestyle='--', label='Validation Accuracy')\n",
    "#plt.fill_between(train_sizes, test_mean + test_std, test_mean - test_std, alpha=0.15, color='green')\n",
    "    plt.title('Learning Curve')\n",
    "    plt.xlabel('Training Data Size')\n",
    "    plt.ylabel('Model accuracy')\n",
    "    plt.grid()\n",
    "    plt.legend(loc='lower right')\n",
    "    #plt.show()\n"
   ]
  },
  {
   "cell_type": "code",
   "execution_count": 134,
   "id": "0c8aada2",
   "metadata": {},
   "outputs": [],
   "source": [
    "clf = DecisionTreeClassifier(max_depth = 5)"
   ]
  },
  {
   "cell_type": "code",
   "execution_count": null,
   "id": "dea978f6",
   "metadata": {},
   "outputs": [],
   "source": []
  },
  {
   "cell_type": "code",
   "execution_count": 135,
   "id": "288db1cd",
   "metadata": {},
   "outputs": [
    {
     "data": {
      "image/png": "[encoded data removed]",
      "text/plain": [
       "<Figure size 864x432 with 1 Axes>"
      ]
     },
     "metadata": {
      "needs_background": "light"
     },
     "output_type": "display_data"
    }
   ],
   "source": [
    "plot_learning_curve(clf,X,Y)"
   ]
  },
  {
   "cell_type": "code",
   "execution_count": null,
   "id": "19b327cf",
   "metadata": {},
   "outputs": [],
   "source": []
  },
  {
   "cell_type": "markdown",
   "id": "125f645f",
   "metadata": {},
   "source": [
    "Для модели с переоснащением/высокой дисперсией существует большой разрыв между точностью обучения и проверки.\n",
    "Кроме того, точность обучения может оказаться выше желаемой.\n",
    "Чтобы уменьшить переоснащение, рассмотрите возможность добавления дополнительных функций и данных \n",
    "(хотя добавление данных может не всегда работать).\n",
    "Для регуляризованных моделей рассмотрите возможность увеличения значения регуляризации. \n",
    "Но будьте осторожны, иначе модель не подойдет.\n"
   ]
  },
  {
   "cell_type": "markdown",
   "id": "2eb8ed8b",
   "metadata": {},
   "source": [
    "For training sample size less than 500, the difference between training and validation accuracy is much larger. This is the case of overfitting\n",
    "For training size greater than 500, the model is better. It is a sign of good(but we need better...) bias-variance trade-off."
   ]
  },
  {
   "cell_type": "code",
   "execution_count": null,
   "id": "2c34cb28",
   "metadata": {},
   "outputs": [],
   "source": []
  },
  {
   "cell_type": "markdown",
   "id": "5f1a1ea6",
   "metadata": {},
   "source": [
    "# ВАРИАНТ НОМЕР 2 ПРАВИЛЬНОЕ РЕШЕНИЕ:"
   ]
  },
  {
   "cell_type": "code",
   "execution_count": 141,
   "id": "808c5224",
   "metadata": {},
   "outputs": [],
   "source": [
    "df = pd.read_csv('data.csv')"
   ]
  },
  {
   "cell_type": "code",
   "execution_count": 142,
   "id": "05ef6e03",
   "metadata": {},
   "outputs": [],
   "source": [
    "df['in_college'] = df['in_college'].astype('int')"
   ]
  },
  {
   "cell_type": "code",
   "execution_count": 143,
   "id": "0744141c",
   "metadata": {},
   "outputs": [],
   "source": [
    "df['type_school'] = df['type_school'].map({'Academic':0, 'Vocational':1})\n",
    "df['school_accreditation'] = df['school_accreditation'].map({'A':0, 'B':1})\n",
    "df['gender'] = df['gender'].map({'Male':0, 'Female':1})\n",
    "df['residence'] = df['residence'].map({'Urban':0, 'Rural':1})\n",
    "df['interest'] = df['interest'].map({'Very Interested':0, 'Uncertain':1,'Less Interested':2,'Quiet Interested':3,'Not Interested':4})"
   ]
  },
  {
   "cell_type": "code",
   "execution_count": 144,
   "id": "e3093a44",
   "metadata": {},
   "outputs": [],
   "source": [
    "X = df.drop(['in_college'], axis = 1)\n",
    "Y = df['in_college']"
   ]
  },
  {
   "cell_type": "code",
   "execution_count": null,
   "id": "7c85e98f",
   "metadata": {},
   "outputs": [],
   "source": []
  },
  {
   "cell_type": "code",
   "execution_count": 152,
   "id": "ba1df84c",
   "metadata": {},
   "outputs": [],
   "source": [
    "# Передаем какую-то модель и полное наше множество.\n",
    "def plot_lc_cl (X, Y, depth):\n",
    "    X_t, X_v, Y_t, Y_v = train_test_split(X, Y, test_size = 0.2, random_state = 5)\n",
    "#списки заводим для накопления ошибок (значения метрик accracy) \n",
    "    acc_t, acc_v = [], [] \n",
    "#    (1, len(X_t)) - это значит мы идем от первого элемента до конца длины нашего множества.\n",
    "    for m in depth:\n",
    "        model = DecisionTreeClassifier(max_depth = m)\n",
    "#        срез это фактически первый элемент и на нем обучаем данные и так по одному идет\n",
    "        model.fit (X_t, Y_t)\n",
    "        pred_t = model.predict(X_t)\n",
    "        pred_v = model.predict(X_v)\n",
    "        \n",
    "        acc_t.append(accuracy_score(Y_t, pred_t))\n",
    "        acc_v.append(accuracy_score(Y_v, pred_v))\n",
    "    plt.plot(acc_t, 'r--^')\n",
    "    plt.plot(acc_v, 'b-o')\n",
    "    plt.grid()"
   ]
  },
  {
   "cell_type": "code",
   "execution_count": 153,
   "id": "9f978c81",
   "metadata": {},
   "outputs": [
    {
     "data": {
      "image/png": "[encoded data removed]",
      "text/plain": [
       "<Figure size 864x432 with 1 Axes>"
      ]
     },
     "metadata": {
      "needs_background": "light"
     },
     "output_type": "display_data"
    }
   ],
   "source": [
    "plot_lc_cl(X,Y,np.array(range(2,20,1)))"
   ]
  },
  {
   "cell_type": "code",
   "execution_count": null,
   "id": "18077143",
   "metadata": {},
   "outputs": [],
   "source": []
  }
 ],
 "metadata": {
  "kernelspec": {
   "display_name": "Python 3 (ipykernel)",
   "language": "python",
   "name": "python3"
  },
  "language_info": {
   "codemirror_mode": {
    "name": "ipython",
    "version": 3
   },
   "file_extension": ".py",
   "mimetype": "text/x-python",
   "name": "python",
   "nbconvert_exporter": "python",
   "pygments_lexer": "ipython3",
   "version": "3.9.7"
  }
 },
 "nbformat": 4,
 "nbformat_minor": 5
}
