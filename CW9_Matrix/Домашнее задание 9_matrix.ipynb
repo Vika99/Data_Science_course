{
 "cells": [
  {
   "cell_type": "markdown",
   "id": "1c0097f2",
   "metadata": {},
   "source": [
    "1. Дана матрица В системы уравнений\n",
    "\n",
    "       [ -8,   6,  -4,   0,   7,   1,   1,  -7,  -3,  -8,   5,  -8],\n",
    "       [ -4,  -6,   7,  -8,   7,  -7,  -4,   4,   5,   4,  -6,  -4],\n",
    "       [  0,   1,  -7,  -4,  -6,  -8,   1,   7,   7,   1,  -5,  -1],\n",
    "       [ -8,   4,  -6,  -8,   0,  -6,   7,  -3,   6,   2,   7,   6],\n",
    "       [ 12,  -1, -19,   2, -10, -16,  -3,   5,  -7, -13,   5,   9],\n",
    "       [ -2,  -4,  -4,   0,   4,   0,   1,   0,   4,  -5,  -4,   4],\n",
    "       [  6,  -1,  -6,   3,  -2,  -4,  -2,  -1,  -7,  -7,   5,   5],\n",
    "       [  3,   0,  -8,   6,   2,  -4,  -6,  -7,  -2,  -5,  -6,   1],\n",
    "       [  6,  -3,  -1,  -3,   2,   1,  -5,  -2,   3,  -2,   6,   0],\n",
    "       [ -8,  -2,   3,  -1,   7,  -1,  -2,   3,  -5,   6,   7,  -1],\n",
    "       [ -7,  -7,   3,  -2,   5,  -1,  -6,  -6,  -5,   4,   0,  -8],\n",
    "       [ -1,  -8,  -1,   7,  -6,  -1,   2,  -2,   6,  -7,   3,  -2]\n",
    "       \n",
    "и вектор b свободных членов \n",
    "\n",
    "       [ 3,  4, -7, -6,  5, -4, -4, -3, -6, -7, -7, -7]\n",
    "\n",
    "Проверьте совместность системы уравнений с помощью теоремы Кронекера-Капелли"
   ]
  },
  {
   "cell_type": "code",
   "execution_count": null,
   "id": "9045e874",
   "metadata": {},
   "outputs": [],
   "source": [
    "# rang A = rang(A/B) - Ранг основной матрицы равен рангу расширенной матрицы\n",
    "# СЛАУ совместна тогда и только тогда, когда ранг её основной матрицы A равен рангу её расширенной матрицы\n",
    "import numpy as np\n",
    "from numpy import linalg as LA"
   ]
  },
  {
   "cell_type": "code",
   "execution_count": 44,
   "id": "6527386c",
   "metadata": {},
   "outputs": [],
   "source": [
    "B = np.array([[ -8,   6,  -4,   0,   7,   1,   1,  -7,  -3,  -8,   5,  -8],\n",
    "[ -4,  -6,   7,  -8,   7,  -7,  -4,   4,   5,   4,  -6,  -4],\n",
    "[  0,   1,  -7,  -4,  -6,  -8,   1,   7,   7,   1,  -5,  -1],\n",
    "[ -8,   4,  -6,  -8,   0,  -6,   7,  -3,   6,   2,   7,   6],\n",
    "[ 12,  -1, -19,   2, -10, -16,  -3,   5,  -7, -13,   5,   9],\n",
    "[ -2,  -4,  -4,   0,   4,   0,   1,   0,   4,  -5,  -4,   4],\n",
    "[  6,  -1,  -6,   3,  -2,  -4,  -2,  -1,  -7,  -7,   5,   5],\n",
    "[  3,   0,  -8,   6,   2,  -4,  -6,  -7,  -2,  -5,  -6,   1],\n",
    "[  6,  -3,  -1,  -3,   2,   1,  -5,  -2,   3,  -2,   6,   0],\n",
    "[ -8,  -2,   3,  -1,   7,  -1,  -2,   3,  -5,   6,   7,  -1],\n",
    "[ -7,  -7,   3,  -2,   5,  -1,  -6,  -6,  -5,   4,   0,  -8],\n",
    "[ -1,  -8,  -1,   7,  -6,  -1,   2,  -2,   6,  -7,   3,  -2]])"
   ]
  },
  {
   "cell_type": "code",
   "execution_count": 20,
   "id": "d2ade7e4",
   "metadata": {},
   "outputs": [
    {
     "data": {
      "text/plain": [
       "array([[ -8,   6,  -4,   0,   7,   1,   1,  -7,  -3,  -8,   5,  -8],\n",
       "       [ -4,  -6,   7,  -8,   7,  -7,  -4,   4,   5,   4,  -6,  -4],\n",
       "       [  0,   1,  -7,  -4,  -6,  -8,   1,   7,   7,   1,  -5,  -1],\n",
       "       [ -8,   4,  -6,  -8,   0,  -6,   7,  -3,   6,   2,   7,   6],\n",
       "       [ 12,  -1, -19,   2, -10, -16,  -3,   5,  -7, -13,   5,   9],\n",
       "       [ -2,  -4,  -4,   0,   4,   0,   1,   0,   4,  -5,  -4,   4],\n",
       "       [  6,  -1,  -6,   3,  -2,  -4,  -2,  -1,  -7,  -7,   5,   5],\n",
       "       [  3,   0,  -8,   6,   2,  -4,  -6,  -7,  -2,  -5,  -6,   1],\n",
       "       [  6,  -3,  -1,  -3,   2,   1,  -5,  -2,   3,  -2,   6,   0],\n",
       "       [ -8,  -2,   3,  -1,   7,  -1,  -2,   3,  -5,   6,   7,  -1],\n",
       "       [ -7,  -7,   3,  -2,   5,  -1,  -6,  -6,  -5,   4,   0,  -8],\n",
       "       [ -1,  -8,  -1,   7,  -6,  -1,   2,  -2,   6,  -7,   3,  -2]])"
      ]
     },
     "execution_count": 20,
     "metadata": {},
     "output_type": "execute_result"
    }
   ],
   "source": [
    "B"
   ]
  },
  {
   "cell_type": "code",
   "execution_count": 21,
   "id": "3c93aa95",
   "metadata": {},
   "outputs": [],
   "source": [
    "b = np.array([[ 3,  4, -7, -6,  5, -4, -4, -3, -6, -7, -7, -7]])"
   ]
  },
  {
   "cell_type": "code",
   "execution_count": 22,
   "id": "b8781e27",
   "metadata": {},
   "outputs": [
    {
     "data": {
      "text/plain": [
       "array([[ 3,  4, -7, -6,  5, -4, -4, -3, -6, -7, -7, -7]])"
      ]
     },
     "execution_count": 22,
     "metadata": {},
     "output_type": "execute_result"
    }
   ],
   "source": [
    "b"
   ]
  },
  {
   "cell_type": "code",
   "execution_count": 33,
   "id": "d0b474ce",
   "metadata": {},
   "outputs": [],
   "source": [
    "#нужно посчитать ранг матрицы:\n",
    "rank1 = LA.matrix_rank(B)"
   ]
  },
  {
   "cell_type": "code",
   "execution_count": 34,
   "id": "c86a2763",
   "metadata": {},
   "outputs": [
    {
     "data": {
      "text/plain": [
       "11"
      ]
     },
     "execution_count": 34,
     "metadata": {},
     "output_type": "execute_result"
    }
   ],
   "source": [
    "rank1"
   ]
  },
  {
   "cell_type": "code",
   "execution_count": 35,
   "id": "e8a79f29",
   "metadata": {},
   "outputs": [
    {
     "data": {
      "text/plain": [
       "array([[ -8,   6,  -4,   0,   7,   1,   1,  -7,  -3,  -8,   5,  -8,   3],\n",
       "       [ -4,  -6,   7,  -8,   7,  -7,  -4,   4,   5,   4,  -6,  -4,   4],\n",
       "       [  0,   1,  -7,  -4,  -6,  -8,   1,   7,   7,   1,  -5,  -1,  -7],\n",
       "       [ -8,   4,  -6,  -8,   0,  -6,   7,  -3,   6,   2,   7,   6,  -6],\n",
       "       [ 12,  -1, -19,   2, -10, -16,  -3,   5,  -7, -13,   5,   9,   5],\n",
       "       [ -2,  -4,  -4,   0,   4,   0,   1,   0,   4,  -5,  -4,   4,  -4],\n",
       "       [  6,  -1,  -6,   3,  -2,  -4,  -2,  -1,  -7,  -7,   5,   5,  -4],\n",
       "       [  3,   0,  -8,   6,   2,  -4,  -6,  -7,  -2,  -5,  -6,   1,  -3],\n",
       "       [  6,  -3,  -1,  -3,   2,   1,  -5,  -2,   3,  -2,   6,   0,  -6],\n",
       "       [ -8,  -2,   3,  -1,   7,  -1,  -2,   3,  -5,   6,   7,  -1,  -7],\n",
       "       [ -7,  -7,   3,  -2,   5,  -1,  -6,  -6,  -5,   4,   0,  -8,  -7],\n",
       "       [ -1,  -8,  -1,   7,  -6,  -1,   2,  -2,   6,  -7,   3,  -2,  -7]])"
      ]
     },
     "execution_count": 35,
     "metadata": {},
     "output_type": "execute_result"
    }
   ],
   "source": [
    "# функция сцепляет два массива и делаем транспонируемую матрицу(нам надо одна размерность)\n",
    "BB = np.concatenate((B.T,b),axis = 0).T\n",
    "BB\n"
   ]
  },
  {
   "cell_type": "code",
   "execution_count": 36,
   "id": "c9179594",
   "metadata": {},
   "outputs": [],
   "source": [
    "rank2 = LA.matrix_rank(BB)"
   ]
  },
  {
   "cell_type": "code",
   "execution_count": 37,
   "id": "1736ec4d",
   "metadata": {},
   "outputs": [
    {
     "data": {
      "text/plain": [
       "12"
      ]
     },
     "execution_count": 37,
     "metadata": {},
     "output_type": "execute_result"
    }
   ],
   "source": [
    "rank2"
   ]
  },
  {
   "cell_type": "code",
   "execution_count": 40,
   "id": "0c59ebf5",
   "metadata": {},
   "outputs": [
    {
     "name": "stdout",
     "output_type": "stream",
     "text": [
      "система несовместа,нет решений,так как rank1 не равен rank2 неудовлетворяет условию Кронекера-Капелли\n"
     ]
    }
   ],
   "source": [
    "if rank1 == rank2:\n",
    "    print('Система совместа и имеет решения:')\n",
    "elif rank1 != rank2:\n",
    "    print('система несовместа,нет решений,так как rank1 не равен rank2 неудовлетворяет условию Кронекера-Капелли')"
   ]
  },
  {
   "cell_type": "code",
   "execution_count": null,
   "id": "943a009f",
   "metadata": {},
   "outputs": [],
   "source": [
    "#РАНГ матрицы посчитать:\n",
    "def get_addition (A,i,j):\n",
    "    A_i = np.delete(A,i,axis = 0)\n",
    "    A_ij = np.delete(A_i,j,axis = 1)\n",
    "    return A_ij"
   ]
  },
  {
   "cell_type": "code",
   "execution_count": null,
   "id": "18df582b",
   "metadata": {},
   "outputs": [],
   "source": [
    "# как найти решения сисетмы?.."
   ]
  },
  {
   "cell_type": "markdown",
   "id": "8b80ae16",
   "metadata": {},
   "source": [
    "2. Постройте матрицу алгебраических дополнений для матрицы B из предыдущей задачи"
   ]
  },
  {
   "cell_type": "code",
   "execution_count": null,
   "id": "12cd000b",
   "metadata": {},
   "outputs": [],
   "source": [
    "B = np.array([[ -8,   6,  -4,   0,   7,   1,   1,  -7,  -3,  -8,   5,  -8],\n",
    "[ -4,  -6,   7,  -8,   7,  -7,  -4,   4,   5,   4,  -6,  -4],\n",
    "[  0,   1,  -7,  -4,  -6,  -8,   1,   7,   7,   1,  -5,  -1],\n",
    "[ -8,   4,  -6,  -8,   0,  -6,   7,  -3,   6,   2,   7,   6],\n",
    "[ 12,  -1, -19,   2, -10, -16,  -3,   5,  -7, -13,   5,   9],\n",
    "[ -2,  -4,  -4,   0,   4,   0,   1,   0,   4,  -5,  -4,   4],\n",
    "[  6,  -1,  -6,   3,  -2,  -4,  -2,  -1,  -7,  -7,   5,   5],\n",
    "[  3,   0,  -8,   6,   2,  -4,  -6,  -7,  -2,  -5,  -6,   1],\n",
    "[  6,  -3,  -1,  -3,   2,   1,  -5,  -2,   3,  -2,   6,   0],\n",
    "[ -8,  -2,   3,  -1,   7,  -1,  -2,   3,  -5,   6,   7,  -1],\n",
    "[ -7,  -7,   3,  -2,   5,  -1,  -6,  -6,  -5,   4,   0,  -8],\n",
    "[ -1,  -8,  -1,   7,  -6,  -1,   2,  -2,   6,  -7,   3,  -2]])"
   ]
  },
  {
   "cell_type": "code",
   "execution_count": null,
   "id": "b9880cf9",
   "metadata": {},
   "outputs": [],
   "source": [
    "B"
   ]
  },
  {
   "cell_type": "code",
   "execution_count": null,
   "id": "317d5748",
   "metadata": {},
   "outputs": [],
   "source": [
    "def get_addition (B,i,j):\n",
    "    B_i = np.delete(B,i,axis = 0)\n",
    "    B_ij = np.delete(B_i,j,axis = 1)\n",
    "    return A_ij"
   ]
  },
  {
   "cell_type": "code",
   "execution_count": null,
   "id": "a880d49d",
   "metadata": {},
   "outputs": [],
   "source": [
    "# достанет нам элемент из матрицы (4 строка, 0 столбец,мы начинаем отчет с (0,0!!!))\n",
    "m = get_addition (B,4,0)"
   ]
  },
  {
   "cell_type": "code",
   "execution_count": null,
   "id": "03e38f7d",
   "metadata": {},
   "outputs": [],
   "source": [
    "#посмотрим на детерминант этого числа\n",
    "LA.det(m)\n"
   ]
  },
  {
   "cell_type": "code",
   "execution_count": null,
   "id": "799c69fb",
   "metadata": {},
   "outputs": [],
   "source": [
    "\n",
    "#создадим нулевую матрицу, которую потом будем заполнять элементами\n",
    "BA = np.zeros((12,12))\n",
    "# перебираем строки из матрицы B\n",
    "for i in range(B.shape[0]):\n",
    "# бежим по строка и перебираем элементы по столбцам\n",
    "    for j in range(B.shape[1]):\n",
    "# достаем наши элементв по очереди\n",
    "        m.get_addition(B,i,j)\n",
    "# и ищем для каждого детерминанту\n",
    "        d = LA.det(m)\n",
    "# и в конце по формуле матрица алгебраического уравнения равна:\n",
    "        BA[i,j] = (-1)**(i+j)* round(d)"
   ]
  },
  {
   "cell_type": "code",
   "execution_count": null,
   "id": "678a60ac",
   "metadata": {},
   "outputs": [],
   "source": []
  }
 ],
 "metadata": {
  "kernelspec": {
   "display_name": "Python 3 (ipykernel)",
   "language": "python",
   "name": "python3"
  },
  "language_info": {
   "codemirror_mode": {
    "name": "ipython",
    "version": 3
   },
   "file_extension": ".py",
   "mimetype": "text/x-python",
   "name": "python",
   "nbconvert_exporter": "python",
   "pygments_lexer": "ipython3",
   "version": "3.9.7"
  }
 },
 "nbformat": 4,
 "nbformat_minor": 5
}
