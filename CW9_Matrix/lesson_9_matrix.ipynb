{
 "cells": [
  {
   "cell_type": "code",
   "execution_count": 1,
   "id": "c6b41818",
   "metadata": {},
   "outputs": [],
   "source": [
    "import numpy as np\n",
    "from numpy import linalg as LA"
   ]
  },
  {
   "cell_type": "code",
   "execution_count": 2,
   "id": "4fc19db3",
   "metadata": {},
   "outputs": [],
   "source": [
    "# выведет матрицу нам \n",
    "\n",
    "A = np.matrix('-4 -1 2; 10 4 -1; 8 3 1')"
   ]
  },
  {
   "cell_type": "code",
   "execution_count": 3,
   "id": "7f58abf5",
   "metadata": {},
   "outputs": [],
   "source": [
    "# СВОЙСТВА"
   ]
  },
  {
   "cell_type": "code",
   "execution_count": 4,
   "id": "f2ce4654",
   "metadata": {},
   "outputs": [
    {
     "data": {
      "text/plain": [
       "matrix([[-4, -1,  2],\n",
       "        [10,  4, -1],\n",
       "        [ 8,  3,  1]])"
      ]
     },
     "execution_count": 4,
     "metadata": {},
     "output_type": "execute_result"
    }
   ],
   "source": [
    "A"
   ]
  },
  {
   "cell_type": "code",
   "execution_count": 5,
   "id": "3cabff42",
   "metadata": {},
   "outputs": [
    {
     "data": {
      "text/plain": [
       "(-14, -14)"
      ]
     },
     "execution_count": 5,
     "metadata": {},
     "output_type": "execute_result"
    }
   ],
   "source": [
    "#1. СВОЙСТВО, определитель транспонированной матрицы равен не транспониованной \n",
    "round(LA.det(A)),round(LA.det(A.T))"
   ]
  },
  {
   "cell_type": "code",
   "execution_count": 6,
   "id": "ea194e0d",
   "metadata": {},
   "outputs": [],
   "source": [
    "#2. если есть столбей или строка,состоящая из нулей,определитель будет равен нулю.\n",
    "A = np.matrix('-4 -1 2; 0 0 0; 8 3 1')\n",
    "B = np.matrix('-4 0 2; 10 0 -1; 8 0 1')\n"
   ]
  },
  {
   "cell_type": "code",
   "execution_count": 7,
   "id": "5580c50a",
   "metadata": {},
   "outputs": [
    {
     "data": {
      "text/plain": [
       "matrix([[-4, -1,  2],\n",
       "        [ 0,  0,  0],\n",
       "        [ 8,  3,  1]])"
      ]
     },
     "execution_count": 7,
     "metadata": {},
     "output_type": "execute_result"
    }
   ],
   "source": [
    "A"
   ]
  },
  {
   "cell_type": "code",
   "execution_count": 8,
   "id": "93b07222",
   "metadata": {},
   "outputs": [
    {
     "data": {
      "text/plain": [
       "matrix([[-4,  0,  2],\n",
       "        [10,  0, -1],\n",
       "        [ 8,  0,  1]])"
      ]
     },
     "execution_count": 8,
     "metadata": {},
     "output_type": "execute_result"
    }
   ],
   "source": [
    "B"
   ]
  },
  {
   "cell_type": "code",
   "execution_count": 9,
   "id": "d2c9ba33",
   "metadata": {},
   "outputs": [
    {
     "data": {
      "text/plain": [
       "(0, 0)"
      ]
     },
     "execution_count": 9,
     "metadata": {},
     "output_type": "execute_result"
    }
   ],
   "source": [
    "round(LA.det(A)), round(LA.det(B))"
   ]
  },
  {
   "cell_type": "code",
   "execution_count": 12,
   "id": "9a714db0",
   "metadata": {},
   "outputs": [],
   "source": [
    "#3.При перестановке строк матрицы знак ее определителя меняется на противоположный\n",
    "A = np.matrix('-4 -1 2; 10 4 -1; 8 3 1')\n",
    "B = np.matrix('10 4 -1; -4 -1 2; 8 3 1')\n"
   ]
  },
  {
   "cell_type": "code",
   "execution_count": 13,
   "id": "4304a506",
   "metadata": {},
   "outputs": [
    {
     "data": {
      "text/plain": [
       "(-14, 14)"
      ]
     },
     "execution_count": 13,
     "metadata": {},
     "output_type": "execute_result"
    }
   ],
   "source": [
    "round(LA.det(A)), round(LA.det(B))"
   ]
  },
  {
   "cell_type": "code",
   "execution_count": null,
   "id": "812b0447",
   "metadata": {},
   "outputs": [],
   "source": [
    "#4. ЕСЛИ У МАТРИЦЫ ДВЕ ОДИНАКОВЫЕ СТРОКИ,ОПРЕДЕЛИТЕЛЬ РАВЕН НУЛЮ."
   ]
  },
  {
   "cell_type": "code",
   "execution_count": 14,
   "id": "688e01f8",
   "metadata": {},
   "outputs": [],
   "source": [
    "A = np.matrix('-4 -1 2; 8 3 1; 8 3 1')"
   ]
  },
  {
   "cell_type": "code",
   "execution_count": 15,
   "id": "6a6f2569",
   "metadata": {},
   "outputs": [
    {
     "data": {
      "text/plain": [
       "0"
      ]
     },
     "execution_count": 15,
     "metadata": {},
     "output_type": "execute_result"
    }
   ],
   "source": [
    "round(LA.det(A))"
   ]
  },
  {
   "cell_type": "code",
   "execution_count": 17,
   "id": "436a2032",
   "metadata": {},
   "outputs": [],
   "source": [
    "#ЕСЛИ все элементы матрицы умножить на число,то и определитель умножится на это число.\n",
    "\n",
    "A = np.matrix('-4 -1 2; 10 4 -1; 8 3 1')\n",
    "k = 2\n",
    "B = A.copy()"
   ]
  },
  {
   "cell_type": "code",
   "execution_count": 18,
   "id": "7b4b99a6",
   "metadata": {},
   "outputs": [
    {
     "data": {
      "text/plain": [
       "matrix([[-4, -1,  2],\n",
       "        [10,  4, -1],\n",
       "        [ 8,  3,  1]])"
      ]
     },
     "execution_count": 18,
     "metadata": {},
     "output_type": "execute_result"
    }
   ],
   "source": [
    "A"
   ]
  },
  {
   "cell_type": "code",
   "execution_count": 19,
   "id": "eba948a0",
   "metadata": {},
   "outputs": [
    {
     "data": {
      "text/plain": [
       "matrix([[-4, -1,  2],\n",
       "        [10,  4, -1],\n",
       "        [16,  6,  2]])"
      ]
     },
     "execution_count": 19,
     "metadata": {},
     "output_type": "execute_result"
    }
   ],
   "source": [
    "B"
   ]
  },
  {
   "cell_type": "code",
   "execution_count": 20,
   "id": "7828bc06",
   "metadata": {},
   "outputs": [
    {
     "data": {
      "text/plain": [
       "(-14, -28)"
      ]
     },
     "execution_count": 20,
     "metadata": {},
     "output_type": "execute_result"
    }
   ],
   "source": [
    "round(LA.det(A)), round(LA.det(B))"
   ]
  },
  {
   "cell_type": "code",
   "execution_count": 26,
   "id": "97d4cdeb",
   "metadata": {},
   "outputs": [],
   "source": [
    "# если все элементы строки или столбца можно представить как сумма слагаемых,\n",
    "#то определитель такой матрицы равен сумме определителя соответст. матриц\n",
    "\n",
    "A = np.matrix('-4 -1 2; 10 4 -1; 8 3 1')\n",
    "B = np.matrix('-4 -1 2; 8 5 1; 8 3 1')\n",
    "C = A.copy()"
   ]
  },
  {
   "cell_type": "code",
   "execution_count": 27,
   "id": "d4091772",
   "metadata": {},
   "outputs": [],
   "source": [
    "C[1,:] = A[1,:] + B[1,:]"
   ]
  },
  {
   "cell_type": "code",
   "execution_count": 28,
   "id": "01631067",
   "metadata": {},
   "outputs": [
    {
     "data": {
      "text/plain": [
       "matrix([[-4, -1,  2],\n",
       "        [10,  4, -1],\n",
       "        [ 8,  3,  1]])"
      ]
     },
     "execution_count": 28,
     "metadata": {},
     "output_type": "execute_result"
    }
   ],
   "source": [
    "A"
   ]
  },
  {
   "cell_type": "code",
   "execution_count": 29,
   "id": "a9c0f991",
   "metadata": {},
   "outputs": [
    {
     "data": {
      "text/plain": [
       "matrix([[-4, -1,  2],\n",
       "        [ 8,  5,  1],\n",
       "        [ 8,  3,  1]])"
      ]
     },
     "execution_count": 29,
     "metadata": {},
     "output_type": "execute_result"
    }
   ],
   "source": [
    "B"
   ]
  },
  {
   "cell_type": "code",
   "execution_count": 30,
   "id": "37a859f7",
   "metadata": {},
   "outputs": [
    {
     "data": {
      "text/plain": [
       "matrix([[-4, -1,  2],\n",
       "        [18,  9,  0],\n",
       "        [ 8,  3,  1]])"
      ]
     },
     "execution_count": 30,
     "metadata": {},
     "output_type": "execute_result"
    }
   ],
   "source": [
    "C"
   ]
  },
  {
   "cell_type": "code",
   "execution_count": 31,
   "id": "161cf20a",
   "metadata": {},
   "outputs": [
    {
     "data": {
      "text/plain": [
       "(-14, -40, -54)"
      ]
     },
     "execution_count": 31,
     "metadata": {},
     "output_type": "execute_result"
    }
   ],
   "source": [
    "round(LA.det(A)), round(LA.det(B)),round(LA.det(C))"
   ]
  },
  {
   "cell_type": "code",
   "execution_count": 32,
   "id": "4866cefb",
   "metadata": {},
   "outputs": [],
   "source": [
    "# Если к элементам одной строки прибавить элементы другой строки,умноженные на одно и тоже число ,то определительтарицы не изменится\n",
    "\n",
    "A = np.matrix('-4 -1 2; 10 4 -1; 8 3 1')\n",
    "k = 2\n",
    "B = A.copy()\n"
   ]
  },
  {
   "cell_type": "code",
   "execution_count": 33,
   "id": "08b51bf6",
   "metadata": {},
   "outputs": [],
   "source": [
    "B[1,:] = B[1,:] + k * B[0,:]"
   ]
  },
  {
   "cell_type": "code",
   "execution_count": 34,
   "id": "71e39e81",
   "metadata": {},
   "outputs": [
    {
     "data": {
      "text/plain": [
       "matrix([[-4, -1,  2],\n",
       "        [10,  4, -1],\n",
       "        [ 8,  3,  1]])"
      ]
     },
     "execution_count": 34,
     "metadata": {},
     "output_type": "execute_result"
    }
   ],
   "source": [
    "A"
   ]
  },
  {
   "cell_type": "code",
   "execution_count": 35,
   "id": "f27591d9",
   "metadata": {},
   "outputs": [
    {
     "data": {
      "text/plain": [
       "matrix([[-4, -1,  2],\n",
       "        [ 2,  2,  3],\n",
       "        [ 8,  3,  1]])"
      ]
     },
     "execution_count": 35,
     "metadata": {},
     "output_type": "execute_result"
    }
   ],
   "source": [
    "B"
   ]
  },
  {
   "cell_type": "code",
   "execution_count": 36,
   "id": "0768d87c",
   "metadata": {},
   "outputs": [],
   "source": [
    "#8 \n",
    "#Если строка или столбец матрицы являются линейной комбинацией  других строк(столбцов)б то определитель равен нулю и если\n",
    "#матрица содержит пропорциональные строки,то определитель равен нулю.\n",
    "#к это скаляр у нас \n",
    "\n",
    "A = np.matrix('-4 -1 2; 10 4 -1; 8 3 1')\n",
    "k = 2\n"
   ]
  },
  {
   "cell_type": "code",
   "execution_count": 37,
   "id": "2ab975dc",
   "metadata": {},
   "outputs": [
    {
     "data": {
      "text/plain": [
       "matrix([[-4, -1,  2],\n",
       "        [10,  4, -1],\n",
       "        [ 8,  3,  1]])"
      ]
     },
     "execution_count": 37,
     "metadata": {},
     "output_type": "execute_result"
    }
   ],
   "source": [
    "A"
   ]
  },
  {
   "cell_type": "code",
   "execution_count": 38,
   "id": "be43d576",
   "metadata": {},
   "outputs": [],
   "source": [
    "A[1,:] = A[0,:] + k*A[2,:]"
   ]
  },
  {
   "cell_type": "code",
   "execution_count": 76,
   "id": "73d73faf",
   "metadata": {},
   "outputs": [
    {
     "data": {
      "text/plain": [
       "array([[1, 2],\n",
       "       [3, 4]])"
      ]
     },
     "execution_count": 76,
     "metadata": {},
     "output_type": "execute_result"
    }
   ],
   "source": [
    "A"
   ]
  },
  {
   "cell_type": "code",
   "execution_count": 77,
   "id": "61f91396",
   "metadata": {},
   "outputs": [
    {
     "data": {
      "text/plain": [
       "-2"
      ]
     },
     "execution_count": 77,
     "metadata": {},
     "output_type": "execute_result"
    }
   ],
   "source": [
    "round(LA.det(A))"
   ]
  },
  {
   "cell_type": "code",
   "execution_count": 78,
   "id": "fa75a09f",
   "metadata": {},
   "outputs": [],
   "source": [
    "#РАНГ матрицы посчитать\n",
    "\n",
    "def get_addition (A,i,j):\n",
    "    A_i = np.delete(A,i,axis = 0)\n",
    "    A_ij = np.delete(A_i,j,axis = 1)\n",
    "    return A_ij\n",
    "\n"
   ]
  },
  {
   "cell_type": "code",
   "execution_count": null,
   "id": "5488cbf0",
   "metadata": {},
   "outputs": [],
   "source": []
  },
  {
   "cell_type": "code",
   "execution_count": 80,
   "id": "3737e8ec",
   "metadata": {},
   "outputs": [
    {
     "data": {
      "text/plain": [
       "matrix([[ 1,  2,  0,  5],\n",
       "        [ 2,  4, -1,  0],\n",
       "        [ 4,  4,  3,  2],\n",
       "        [ 1,  0,  2,  1]])"
      ]
     },
     "execution_count": 80,
     "metadata": {},
     "output_type": "execute_result"
    }
   ],
   "source": [
    "A = np.matrix('1 2 0 5; 2 4 -1 0; 4 4 3 2; 1 0 2 1')\n",
    "A"
   ]
  },
  {
   "cell_type": "code",
   "execution_count": 81,
   "id": "5ddd9710",
   "metadata": {},
   "outputs": [
    {
     "data": {
      "text/plain": [
       "0.0"
      ]
     },
     "execution_count": 81,
     "metadata": {},
     "output_type": "execute_result"
    }
   ],
   "source": [
    "LA.det(A)"
   ]
  },
  {
   "cell_type": "code",
   "execution_count": 84,
   "id": "ebd07c1e",
   "metadata": {},
   "outputs": [
    {
     "data": {
      "text/plain": [
       "matrix([[ 4, -1,  0],\n",
       "        [ 4,  3,  2],\n",
       "        [ 0,  2,  1]])"
      ]
     },
     "execution_count": 84,
     "metadata": {},
     "output_type": "execute_result"
    }
   ],
   "source": [
    "A11 = get_addition (A,0,0)\n",
    "A11"
   ]
  },
  {
   "cell_type": "code",
   "execution_count": 86,
   "id": "8e16f57c",
   "metadata": {},
   "outputs": [
    {
     "data": {
      "text/plain": [
       "0.0"
      ]
     },
     "execution_count": 86,
     "metadata": {},
     "output_type": "execute_result"
    }
   ],
   "source": [
    "LA.det(A11)"
   ]
  },
  {
   "cell_type": "code",
   "execution_count": 51,
   "id": "8d30b7ee",
   "metadata": {},
   "outputs": [
    {
     "data": {
      "text/plain": [
       "3"
      ]
     },
     "execution_count": 51,
     "metadata": {},
     "output_type": "execute_result"
    }
   ],
   "source": [
    "LA.matrix_rank(A)"
   ]
  },
  {
   "cell_type": "code",
   "execution_count": 63,
   "id": "3b48d252",
   "metadata": {},
   "outputs": [],
   "source": [
    "#РЕШАЕМ СИСТЕМУ УРАВНЕНИЙ\n",
    "\n",
    "A = np.array([[1,2],[1,2]])\n",
    "b = np.array([[4,-3]])\n"
   ]
  },
  {
   "cell_type": "code",
   "execution_count": 64,
   "id": "9778ab96",
   "metadata": {},
   "outputs": [],
   "source": [
    "AA = np.concatenate((A.T,b),axis = 0).T\n",
    "# функция сцепляет два массива и делаем транспонируемую матрицу(нам надо одна размерность)"
   ]
  },
  {
   "cell_type": "code",
   "execution_count": 65,
   "id": "07a76e9c",
   "metadata": {},
   "outputs": [
    {
     "data": {
      "text/plain": [
       "array([[ 1,  2,  4],\n",
       "       [ 1,  2, -3]])"
      ]
     },
     "execution_count": 65,
     "metadata": {},
     "output_type": "execute_result"
    }
   ],
   "source": [
    "AA"
   ]
  },
  {
   "cell_type": "code",
   "execution_count": 66,
   "id": "79fef792",
   "metadata": {},
   "outputs": [
    {
     "data": {
      "text/plain": [
       "(1, 2)"
      ]
     },
     "execution_count": 66,
     "metadata": {},
     "output_type": "execute_result"
    }
   ],
   "source": [
    "LA.matrix_rank(A), LA.matrix_rank(AA)"
   ]
  },
  {
   "cell_type": "code",
   "execution_count": 67,
   "id": "7b39ef59",
   "metadata": {},
   "outputs": [
    {
     "data": {
      "text/plain": [
       "array([[1, 2],\n",
       "       [1, 2]])"
      ]
     },
     "execution_count": 67,
     "metadata": {},
     "output_type": "execute_result"
    }
   ],
   "source": [
    "A"
   ]
  },
  {
   "cell_type": "code",
   "execution_count": 68,
   "id": "ca83e79e",
   "metadata": {},
   "outputs": [
    {
     "data": {
      "text/plain": [
       "array([[ 4, -3]])"
      ]
     },
     "execution_count": 68,
     "metadata": {},
     "output_type": "execute_result"
    }
   ],
   "source": [
    "b"
   ]
  },
  {
   "cell_type": "code",
   "execution_count": null,
   "id": "0084a23b",
   "metadata": {},
   "outputs": [],
   "source": [
    "# нет решений в системе! ранг должен совпать, если ранки одинаковые,то значит есть решение...\n",
    "#чтобы проверить надо использовать функцию solve\n",
    "# LA.solve(A,b)"
   ]
  },
  {
   "cell_type": "code",
   "execution_count": 71,
   "id": "428fc926",
   "metadata": {},
   "outputs": [],
   "source": [
    "A = np.array([[1,2],[3,4]])\n",
    "A1 = np.array([[4,-2],[-3,1]])/(-2)"
   ]
  },
  {
   "cell_type": "code",
   "execution_count": 72,
   "id": "66a283b7",
   "metadata": {},
   "outputs": [
    {
     "data": {
      "text/plain": [
       "array([[1., 0.],\n",
       "       [0., 1.]])"
      ]
     },
     "execution_count": 72,
     "metadata": {},
     "output_type": "execute_result"
    }
   ],
   "source": [
    "A@A1"
   ]
  },
  {
   "cell_type": "code",
   "execution_count": null,
   "id": "f60d4f6b",
   "metadata": {},
   "outputs": [],
   "source": [
    "# достанет нам элемент из матрицы (4 строка, 0 столбец,мы начинаем отчет с (0,0!!!))\n",
    "m = get_addition (B,4,0)\n",
    "\n",
    "#посмотрим на детерминант этого числа\n",
    "LA.det(m)\n",
    "\n",
    "\n",
    "\n",
    "#создадим нулевую матрицу, которую потом будем заполнять элементами\n",
    "BA = np.zeros((12,12))\n",
    "\n",
    "for i in range(B.shape[0])"
   ]
  }
 ],
 "metadata": {
  "kernelspec": {
   "display_name": "Python 3 (ipykernel)",
   "language": "python",
   "name": "python3"
  },
  "language_info": {
   "codemirror_mode": {
    "name": "ipython",
    "version": 3
   },
   "file_extension": ".py",
   "mimetype": "text/x-python",
   "name": "python",
   "nbconvert_exporter": "python",
   "pygments_lexer": "ipython3",
   "version": "3.9.7"
  }
 },
 "nbformat": 4,
 "nbformat_minor": 5
}
