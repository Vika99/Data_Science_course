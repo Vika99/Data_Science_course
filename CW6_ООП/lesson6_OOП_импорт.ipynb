{
 "cells": [
  {
   "cell_type": "code",
   "execution_count": 1,
   "id": "fb806415",
   "metadata": {},
   "outputs": [],
   "source": [
    "import cat_mod as cm"
   ]
  },
  {
   "cell_type": "code",
   "execution_count": 2,
   "id": "907af89f",
   "metadata": {},
   "outputs": [
    {
     "name": "stdout",
     "output_type": "stream",
     "text": [
      "new cat was born\n",
      "new cat was born\n"
     ]
    }
   ],
   "source": [
    "cat = cm.Cat('Bagira')\n",
    "tiger = cm.Tiger('sher')"
   ]
  },
  {
   "cell_type": "code",
   "execution_count": 3,
   "id": "fcc530be",
   "metadata": {},
   "outputs": [
    {
     "name": "stdout",
     "output_type": "stream",
     "text": [
      "Объект класса Cat \n",
      "name:Bagira\n"
     ]
    }
   ],
   "source": [
    "print (cat)"
   ]
  },
  {
   "cell_type": "code",
   "execution_count": 4,
   "id": "53ed4c02",
   "metadata": {},
   "outputs": [
    {
     "name": "stdout",
     "output_type": "stream",
     "text": [
      "Объект класса Cat \n",
      "name:sher\n"
     ]
    }
   ],
   "source": [
    "print (tiger)"
   ]
  },
  {
   "cell_type": "code",
   "execution_count": null,
   "id": "9691745a",
   "metadata": {},
   "outputs": [],
   "source": []
  }
 ],
 "metadata": {
  "kernelspec": {
   "display_name": "Python 3 (ipykernel)",
   "language": "python",
   "name": "python3"
  },
  "language_info": {
   "codemirror_mode": {
    "name": "ipython",
    "version": 3
   },
   "file_extension": ".py",
   "mimetype": "text/x-python",
   "name": "python",
   "nbconvert_exporter": "python",
   "pygments_lexer": "ipython3",
   "version": "3.9.7"
  }
 },
 "nbformat": 4,
 "nbformat_minor": 5
}
