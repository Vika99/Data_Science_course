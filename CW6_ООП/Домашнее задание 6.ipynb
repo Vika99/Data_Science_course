{
 "cells": [
  {
   "cell_type": "markdown",
   "id": "e6f60c98",
   "metadata": {},
   "source": [
    "1.Дополните разработанный на уроке класс Cat атрибутом сытости кошки, который может принимать значения от 1 до 5.\n",
    "Кроме того дополните класс двумя методами:\n",
    "\n",
    "1.1. \"покормить кошку\", в результате работы которого уровень сытости кошки повышается на 1, а вес увеличивается на 30 гр.\n",
    "\n",
    "1.2. \"поиграть с кошкой\", в результате работы которого уровень сытости кошки снижается на 1, а вес уменбшается на 10 гр.\n",
    "\n",
    "Исходный класс приведен ниже"
   ]
  },
  {
   "cell_type": "code",
   "execution_count": 1,
   "id": "a1ad2a08",
   "metadata": {},
   "outputs": [],
   "source": [
    "class Cat():\n",
    "    \n",
    "    total = 0\n",
    "    \n",
    "    @staticmethod\n",
    "    def count ():\n",
    "        print ('Всего кошек ', Cat.total)\n",
    "    \n",
    "    def __init__(self, name):\n",
    "        print ('Родилась новая кошка')\n",
    "        self.name = name\n",
    "        Cat.total += 1\n",
    "        self.__w = 300 \n",
    "        self.fullness = 1\n",
    "    \n",
    "    def get_weight (self):\n",
    "        return self.__w\n",
    "\n",
    "    \n",
    "    def set_weight (self, we):\n",
    "        if we > 250:\n",
    "            self.__w = we\n",
    "            \n",
    " #......           \n",
    "    def feed (self) :\n",
    "        if (self.fullness +1) > 5:\n",
    "            print('Кошка и так сыта')\n",
    "        else :\n",
    "            self.fullness +=1\n",
    "            self.set_weight(self.__w +30)\n",
    "            print(\"Кошка покормлена и поправилась на 30 грамм\")\n",
    " #.......\n",
    "    def play(self):\n",
    "        if (self.fullness - 1) < 1:\n",
    "            print('Кошка голодная, покормите ее')\n",
    "        else :\n",
    "            self.fullness -=1\n",
    "            self.set_weight(self.__w -10)\n",
    "            print('Кошка поиграла,похудела на 10 грамм')\n",
    "        \n",
    "    \n",
    "    def __str__(self):\n",
    "        res = 'Объект класса Cat \\nname: '+self.name\n",
    "        return res\n",
    "    \n",
    "    def talk(self):\n",
    "        print (self.name, 'Мяу')"
   ]
  },
  {
   "cell_type": "code",
   "execution_count": null,
   "id": "f46d2420",
   "metadata": {},
   "outputs": [],
   "source": []
  },
  {
   "cell_type": "code",
   "execution_count": null,
   "id": "3be64ff8",
   "metadata": {},
   "outputs": [],
   "source": []
  },
  {
   "cell_type": "markdown",
   "id": "17b89061",
   "metadata": {},
   "source": [
    "2. Напишите интерактивную программу, которая по вводу числа (буквы) с клавиатуры позволит (): \n",
    "2.1. Поговорить с кошкой (вызвать метод talk())\n",
    "2.2. Покормить кошку\n",
    "2.3. Поиграть с кошкой\n",
    "2.4. Взвесить кошку (вызвать метод get_weight())\n",
    "2.5. завершить работу"
   ]
  },
  {
   "cell_type": "code",
   "execution_count": 2,
   "id": "f659dce7",
   "metadata": {},
   "outputs": [],
   "source": [
    "def Menu(CatGame):\n",
    "    \n",
    "    answer = True\n",
    "    while answer:\n",
    "        print('1.Поговорить с кошкой\\n 2.Покормить кошку\\n 3.Поиграть с кошкой\\n 4.Взвесить кошку\\n 5.завершить работу')\n",
    "          \n",
    "        answer = input(\"Что вы выберете?\")\n",
    "        if answer == '1.':\n",
    "            CatGame.talk()\n",
    "        elif answer == '2.':\n",
    "            CatGame.feed()\n",
    "        elif answer == '3.':\n",
    "            CatGame.play()\n",
    "        elif answer == '4.':\n",
    "            CatGame.get_weight()\n",
    "        elif answer == '5.':\n",
    "            print(\"Вы завершили игру! Можете вернуться в начало\")"
   ]
  },
  {
   "cell_type": "code",
   "execution_count": 3,
   "id": "33a2b757",
   "metadata": {},
   "outputs": [
    {
     "name": "stdout",
     "output_type": "stream",
     "text": [
      "Родилась новая кошка\n"
     ]
    }
   ],
   "source": [
    "# Мы создаем кота вначале и передаем его в нашу меню функцию \n",
    "CatGame = Cat(\"Kesha\")"
   ]
  },
  {
   "cell_type": "code",
   "execution_count": 4,
   "id": "86131f65",
   "metadata": {},
   "outputs": [
    {
     "name": "stdout",
     "output_type": "stream",
     "text": [
      "1.Поговорить с кошкой\n",
      " 2.Покормить кошку\n",
      " 3.Поиграть с кошкой\n",
      " 4.Взвесить кошку\n",
      " 5.завершить работу\n",
      "Что вы выберете?1\n",
      "1.Поговорить с кошкой\n",
      " 2.Покормить кошку\n",
      " 3.Поиграть с кошкой\n",
      " 4.Взвесить кошку\n",
      " 5.завершить работу\n"
     ]
    },
    {
     "ename": "KeyboardInterrupt",
     "evalue": "Interrupted by user",
     "output_type": "error",
     "traceback": [
      "\u001b[1;31m---------------------------------------------------------------------------\u001b[0m",
      "\u001b[1;31mKeyboardInterrupt\u001b[0m                         Traceback (most recent call last)",
      "\u001b[1;32m~\\AppData\\Local\\Temp/ipykernel_16040/4228700455.py\u001b[0m in \u001b[0;36m<module>\u001b[1;34m\u001b[0m\n\u001b[0;32m      1\u001b[0m \u001b[1;31m# после того,как мы создали кота,мы его передаем в меню наше\u001b[0m\u001b[1;33m\u001b[0m\u001b[1;33m\u001b[0m\u001b[0m\n\u001b[1;32m----> 2\u001b[1;33m \u001b[0mMenu\u001b[0m\u001b[1;33m(\u001b[0m\u001b[0mCatGame\u001b[0m\u001b[1;33m)\u001b[0m\u001b[1;33m\u001b[0m\u001b[1;33m\u001b[0m\u001b[0m\n\u001b[0m",
      "\u001b[1;32m~\\AppData\\Local\\Temp/ipykernel_16040/2749692505.py\u001b[0m in \u001b[0;36mMenu\u001b[1;34m(CatGame)\u001b[0m\n\u001b[0;32m      5\u001b[0m         \u001b[0mprint\u001b[0m\u001b[1;33m(\u001b[0m\u001b[1;34m'1.Поговорить с кошкой\\n 2.Покормить кошку\\n 3.Поиграть с кошкой\\n 4.Взвесить кошку\\n 5.завершить работу'\u001b[0m\u001b[1;33m)\u001b[0m\u001b[1;33m\u001b[0m\u001b[1;33m\u001b[0m\u001b[0m\n\u001b[0;32m      6\u001b[0m \u001b[1;33m\u001b[0m\u001b[0m\n\u001b[1;32m----> 7\u001b[1;33m         \u001b[0manswer\u001b[0m \u001b[1;33m=\u001b[0m \u001b[0minput\u001b[0m\u001b[1;33m(\u001b[0m\u001b[1;34m\"Что вы выберете?\"\u001b[0m\u001b[1;33m)\u001b[0m\u001b[1;33m\u001b[0m\u001b[1;33m\u001b[0m\u001b[0m\n\u001b[0m\u001b[0;32m      8\u001b[0m         \u001b[1;32mif\u001b[0m \u001b[0manswer\u001b[0m \u001b[1;33m==\u001b[0m \u001b[1;34m'1.'\u001b[0m\u001b[1;33m:\u001b[0m\u001b[1;33m\u001b[0m\u001b[1;33m\u001b[0m\u001b[0m\n\u001b[0;32m      9\u001b[0m             \u001b[0mCatGame\u001b[0m\u001b[1;33m.\u001b[0m\u001b[0mtalk\u001b[0m\u001b[1;33m(\u001b[0m\u001b[1;33m)\u001b[0m\u001b[1;33m\u001b[0m\u001b[1;33m\u001b[0m\u001b[0m\n",
      "\u001b[1;32m~\\anaconda3\\lib\\site-packages\\ipykernel\\kernelbase.py\u001b[0m in \u001b[0;36mraw_input\u001b[1;34m(self, prompt)\u001b[0m\n\u001b[0;32m   1004\u001b[0m                 \u001b[1;34m\"raw_input was called, but this frontend does not support input requests.\"\u001b[0m\u001b[1;33m\u001b[0m\u001b[1;33m\u001b[0m\u001b[0m\n\u001b[0;32m   1005\u001b[0m             )\n\u001b[1;32m-> 1006\u001b[1;33m         return self._input_request(\n\u001b[0m\u001b[0;32m   1007\u001b[0m             \u001b[0mstr\u001b[0m\u001b[1;33m(\u001b[0m\u001b[0mprompt\u001b[0m\u001b[1;33m)\u001b[0m\u001b[1;33m,\u001b[0m\u001b[1;33m\u001b[0m\u001b[1;33m\u001b[0m\u001b[0m\n\u001b[0;32m   1008\u001b[0m             \u001b[0mself\u001b[0m\u001b[1;33m.\u001b[0m\u001b[0m_parent_ident\u001b[0m\u001b[1;33m[\u001b[0m\u001b[1;34m\"shell\"\u001b[0m\u001b[1;33m]\u001b[0m\u001b[1;33m,\u001b[0m\u001b[1;33m\u001b[0m\u001b[1;33m\u001b[0m\u001b[0m\n",
      "\u001b[1;32m~\\anaconda3\\lib\\site-packages\\ipykernel\\kernelbase.py\u001b[0m in \u001b[0;36m_input_request\u001b[1;34m(self, prompt, ident, parent, password)\u001b[0m\n\u001b[0;32m   1049\u001b[0m             \u001b[1;32mexcept\u001b[0m \u001b[0mKeyboardInterrupt\u001b[0m\u001b[1;33m:\u001b[0m\u001b[1;33m\u001b[0m\u001b[1;33m\u001b[0m\u001b[0m\n\u001b[0;32m   1050\u001b[0m                 \u001b[1;31m# re-raise KeyboardInterrupt, to truncate traceback\u001b[0m\u001b[1;33m\u001b[0m\u001b[1;33m\u001b[0m\u001b[0m\n\u001b[1;32m-> 1051\u001b[1;33m                 \u001b[1;32mraise\u001b[0m \u001b[0mKeyboardInterrupt\u001b[0m\u001b[1;33m(\u001b[0m\u001b[1;34m\"Interrupted by user\"\u001b[0m\u001b[1;33m)\u001b[0m \u001b[1;32mfrom\u001b[0m \u001b[1;32mNone\u001b[0m\u001b[1;33m\u001b[0m\u001b[1;33m\u001b[0m\u001b[0m\n\u001b[0m\u001b[0;32m   1052\u001b[0m             \u001b[1;32mexcept\u001b[0m \u001b[0mException\u001b[0m\u001b[1;33m:\u001b[0m\u001b[1;33m\u001b[0m\u001b[1;33m\u001b[0m\u001b[0m\n\u001b[0;32m   1053\u001b[0m                 \u001b[0mself\u001b[0m\u001b[1;33m.\u001b[0m\u001b[0mlog\u001b[0m\u001b[1;33m.\u001b[0m\u001b[0mwarning\u001b[0m\u001b[1;33m(\u001b[0m\u001b[1;34m\"Invalid Message:\"\u001b[0m\u001b[1;33m,\u001b[0m \u001b[0mexc_info\u001b[0m\u001b[1;33m=\u001b[0m\u001b[1;32mTrue\u001b[0m\u001b[1;33m)\u001b[0m\u001b[1;33m\u001b[0m\u001b[1;33m\u001b[0m\u001b[0m\n",
      "\u001b[1;31mKeyboardInterrupt\u001b[0m: Interrupted by user"
     ]
    }
   ],
   "source": [
    "# после того,как мы создали кота,мы его передаем в меню наше\n",
    "Menu(CatGame)"
   ]
  },
  {
   "cell_type": "code",
   "execution_count": null,
   "id": "0913b487",
   "metadata": {},
   "outputs": [],
   "source": []
  },
  {
   "cell_type": "markdown",
   "id": "ebe63d11",
   "metadata": {},
   "source": [
    "3. Создайте 2 массива одинаковой длинны (20 элементов)\n",
    "первый массив с помошью функции arrange, второй массив с помошью функции linspace (параметры на ваше усмотрение)\n",
    "1. Найдите поэлементные произведение, сумму и разность этих массивов.\n",
    "2. Умножте первый массив на 20\n",
    "3. на четные позиции второго массива поставьте 0\n",
    "4. Сравните массивы поэлементно.\n"
   ]
  },
  {
   "cell_type": "code",
   "execution_count": 43,
   "id": "1555a2bd",
   "metadata": {},
   "outputs": [],
   "source": [
    "# Создайте 2 массива одинаковой длинны (20 элементов) первый массив с помошью функции arrange,\n",
    "#второй массив с помошью функции linspace (параметры на ваше усмотрение)\n",
    "import numpy as np\n",
    "\n",
    "A =np.arange(2,42,2)\n",
    "B = np.linspace(1,50,20)"
   ]
  },
  {
   "cell_type": "code",
   "execution_count": 44,
   "id": "951778a3",
   "metadata": {},
   "outputs": [
    {
     "data": {
      "text/plain": [
       "array([ 2,  4,  6,  8, 10, 12, 14, 16, 18, 20, 22, 24, 26, 28, 30, 32, 34,\n",
       "       36, 38, 40])"
      ]
     },
     "execution_count": 44,
     "metadata": {},
     "output_type": "execute_result"
    }
   ],
   "source": [
    "A"
   ]
  },
  {
   "cell_type": "code",
   "execution_count": 45,
   "id": "60906f0f",
   "metadata": {},
   "outputs": [
    {
     "data": {
      "text/plain": [
       "20"
      ]
     },
     "execution_count": 45,
     "metadata": {},
     "output_type": "execute_result"
    }
   ],
   "source": [
    "len(A)"
   ]
  },
  {
   "cell_type": "code",
   "execution_count": 46,
   "id": "ae2b2de7",
   "metadata": {},
   "outputs": [
    {
     "data": {
      "text/plain": [
       "array([ 1.        ,  3.57894737,  6.15789474,  8.73684211, 11.31578947,\n",
       "       13.89473684, 16.47368421, 19.05263158, 21.63157895, 24.21052632,\n",
       "       26.78947368, 29.36842105, 31.94736842, 34.52631579, 37.10526316,\n",
       "       39.68421053, 42.26315789, 44.84210526, 47.42105263, 50.        ])"
      ]
     },
     "execution_count": 46,
     "metadata": {},
     "output_type": "execute_result"
    }
   ],
   "source": [
    "B"
   ]
  },
  {
   "cell_type": "code",
   "execution_count": 47,
   "id": "722f6a1c",
   "metadata": {},
   "outputs": [
    {
     "data": {
      "text/plain": [
       "20"
      ]
     },
     "execution_count": 47,
     "metadata": {},
     "output_type": "execute_result"
    }
   ],
   "source": [
    "len(B)"
   ]
  },
  {
   "cell_type": "code",
   "execution_count": 49,
   "id": "37ca6e17",
   "metadata": {},
   "outputs": [],
   "source": [
    "#Найдите поэлементные произведение, сумму и разность этих массивов.\n",
    "\n",
    "Sum = A + B\n",
    "Dif = A - B\n",
    "Prod = A * B\n"
   ]
  },
  {
   "cell_type": "code",
   "execution_count": 50,
   "id": "e5e1ca95",
   "metadata": {},
   "outputs": [
    {
     "data": {
      "text/plain": [
       "array([ 3.        ,  7.57894737, 12.15789474, 16.73684211, 21.31578947,\n",
       "       25.89473684, 30.47368421, 35.05263158, 39.63157895, 44.21052632,\n",
       "       48.78947368, 53.36842105, 57.94736842, 62.52631579, 67.10526316,\n",
       "       71.68421053, 76.26315789, 80.84210526, 85.42105263, 90.        ])"
      ]
     },
     "execution_count": 50,
     "metadata": {},
     "output_type": "execute_result"
    }
   ],
   "source": [
    "Sum "
   ]
  },
  {
   "cell_type": "code",
   "execution_count": 51,
   "id": "fd336e5c",
   "metadata": {},
   "outputs": [
    {
     "data": {
      "text/plain": [
       "array([  1.        ,   0.42105263,  -0.15789474,  -0.73684211,\n",
       "        -1.31578947,  -1.89473684,  -2.47368421,  -3.05263158,\n",
       "        -3.63157895,  -4.21052632,  -4.78947368,  -5.36842105,\n",
       "        -5.94736842,  -6.52631579,  -7.10526316,  -7.68421053,\n",
       "        -8.26315789,  -8.84210526,  -9.42105263, -10.        ])"
      ]
     },
     "execution_count": 51,
     "metadata": {},
     "output_type": "execute_result"
    }
   ],
   "source": [
    "Dif"
   ]
  },
  {
   "cell_type": "code",
   "execution_count": 52,
   "id": "fb4b40cf",
   "metadata": {},
   "outputs": [
    {
     "data": {
      "text/plain": [
       "array([   2.        ,   14.31578947,   36.94736842,   69.89473684,\n",
       "        113.15789474,  166.73684211,  230.63157895,  304.84210526,\n",
       "        389.36842105,  484.21052632,  589.36842105,  704.84210526,\n",
       "        830.63157895,  966.73684211, 1113.15789474, 1269.89473684,\n",
       "       1436.94736842, 1614.31578947, 1802.        , 2000.        ])"
      ]
     },
     "execution_count": 52,
     "metadata": {},
     "output_type": "execute_result"
    }
   ],
   "source": [
    "Prod"
   ]
  },
  {
   "cell_type": "code",
   "execution_count": 53,
   "id": "61b38842",
   "metadata": {},
   "outputs": [
    {
     "data": {
      "text/plain": [
       "array([ 40,  80, 120, 160, 200, 240, 280, 320, 360, 400, 440, 480, 520,\n",
       "       560, 600, 640, 680, 720, 760, 800])"
      ]
     },
     "execution_count": 53,
     "metadata": {},
     "output_type": "execute_result"
    }
   ],
   "source": [
    "# Умножте первый массив на 20\n",
    "A1 = A.copy()\n",
    "A1 = A1 * 20\n",
    "A1"
   ]
  },
  {
   "cell_type": "code",
   "execution_count": 63,
   "id": "354c8e46",
   "metadata": {},
   "outputs": [],
   "source": [
    "# на четные позиции второго массива поставьте 0\n",
    "for i in range(len(B)):\n",
    "    if i%2 == 1:\n",
    "        B[i] = 0\n",
    "      "
   ]
  },
  {
   "cell_type": "code",
   "execution_count": 64,
   "id": "31f8da0a",
   "metadata": {},
   "outputs": [
    {
     "data": {
      "text/plain": [
       "[]"
      ]
     },
     "execution_count": 64,
     "metadata": {},
     "output_type": "execute_result"
    }
   ],
   "source": [
    "B"
   ]
  },
  {
   "cell_type": "code",
   "execution_count": 56,
   "id": "8f32d40a",
   "metadata": {},
   "outputs": [
    {
     "name": "stdout",
     "output_type": "stream",
     "text": [
      "[]\n",
      "[]\n"
     ]
    }
   ],
   "source": [
    "# Сравните массивы поэлементно A).\n",
    "A\n",
    "B\n",
    "A,B = [],[]\n",
    "\n",
    "for i, x in enumerate(A):\n",
    "    for j, y in enumerate (B):\n",
    "        if x == y:\n",
    "            A.append(i)\n",
    "            B.append(j)\n",
    "            \n",
    "print(A)\n",
    "print(B)"
   ]
  },
  {
   "cell_type": "code",
   "execution_count": 57,
   "id": "f64c7918",
   "metadata": {},
   "outputs": [],
   "source": [
    "# Сравните массивы поэлементно B).\n",
    "\n",
    "for i in range(0,len(B)):\n",
    "    if B[i]==A[i]:\n",
    "        print(c.append(int(B[i])))"
   ]
  },
  {
   "cell_type": "code",
   "execution_count": 58,
   "id": "72a03dfd",
   "metadata": {},
   "outputs": [
    {
     "name": "stdout",
     "output_type": "stream",
     "text": [
      "[]\n"
     ]
    }
   ],
   "source": [
    "# Сравните массивы поэлементно C).\n",
    "# intersect1d() function find the intersection of two arrays and return the sorted, \n",
    "#unique values that are in both of the input arrays.\n",
    "A\n",
    "B\n",
    "print(np.intersect1d(A,B))"
   ]
  },
  {
   "cell_type": "code",
   "execution_count": null,
   "id": "11c3b3d7",
   "metadata": {},
   "outputs": [],
   "source": []
  }
 ],
 "metadata": {
  "kernelspec": {
   "display_name": "Python 3 (ipykernel)",
   "language": "python",
   "name": "python3"
  },
  "language_info": {
   "codemirror_mode": {
    "name": "ipython",
    "version": 3
   },
   "file_extension": ".py",
   "mimetype": "text/x-python",
   "name": "python",
   "nbconvert_exporter": "python",
   "pygments_lexer": "ipython3",
   "version": "3.9.7"
  }
 },
 "nbformat": 4,
 "nbformat_minor": 5
}
