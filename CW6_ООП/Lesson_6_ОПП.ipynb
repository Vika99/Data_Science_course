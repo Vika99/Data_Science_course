{
 "cells": [
  {
   "cell_type": "code",
   "execution_count": 29,
   "id": "9a61ffd5",
   "metadata": {},
   "outputs": [
    {
     "name": "stdout",
     "output_type": "stream",
     "text": [
      "Мяу\n"
     ]
    }
   ],
   "source": [
    "class Cat(object):\n",
    "    def talk(self):\n",
    "        print('Мяу')\n",
    "\n",
    "some_cat = Cat()\n",
    "some_cat.talk()"
   ]
  },
  {
   "cell_type": "code",
   "execution_count": 30,
   "id": "c92605f3",
   "metadata": {},
   "outputs": [],
   "source": [
    "class Cat(object):\n",
    "    \n",
    "    def __init__(self, name):\n",
    "        print('new cat was born')\n",
    "        self.name = name\n",
    " \n",
    "    def __str__(self):\n",
    "        res = 'Объект класса Cat \\nname:'+ self.name\n",
    "        return res\n",
    "#выше функция вернет, что res это объект класса Cat,добавить к строке имя объекта и вывести :\n",
    "#print(cat1) выведет нам:\n",
    "#Объект класса Cat \n",
    "#name:Bagira\n",
    "    def talk(self):\n",
    "        print(self.name,'Мяу')\n"
   ]
  },
  {
   "cell_type": "code",
   "execution_count": 31,
   "id": "1c6eaa1f",
   "metadata": {},
   "outputs": [
    {
     "name": "stdout",
     "output_type": "stream",
     "text": [
      "new cat was born\n"
     ]
    }
   ],
   "source": [
    "        \n",
    "cat1 = Cat('Bagira')"
   ]
  },
  {
   "cell_type": "code",
   "execution_count": 32,
   "id": "68038bbb",
   "metadata": {},
   "outputs": [
    {
     "data": {
      "text/plain": [
       "'Bagira'"
      ]
     },
     "execution_count": 32,
     "metadata": {},
     "output_type": "execute_result"
    }
   ],
   "source": [
    "cat1.name"
   ]
  },
  {
   "cell_type": "code",
   "execution_count": 33,
   "id": "58213bf6",
   "metadata": {},
   "outputs": [
    {
     "name": "stdout",
     "output_type": "stream",
     "text": [
      "Bagira Мяу\n"
     ]
    }
   ],
   "source": [
    "cat1.talk()"
   ]
  },
  {
   "cell_type": "code",
   "execution_count": 34,
   "id": "801de4a3",
   "metadata": {},
   "outputs": [
    {
     "name": "stdout",
     "output_type": "stream",
     "text": [
      "Объект класса Cat \n",
      "name:Bagira\n"
     ]
    }
   ],
   "source": [
    "print(cat1)"
   ]
  },
  {
   "cell_type": "code",
   "execution_count": 39,
   "id": "b82b0c40",
   "metadata": {},
   "outputs": [],
   "source": [
    "#статические методы\n",
    "\n",
    "class Cat(object):\n",
    "    total = 0\n",
    "#переменная принадлежит имеено классу!\n",
    "# пишем декоратор,метод будет статический и относится к классу\n",
    "\n",
    "    @staticmethod\n",
    "    def count():\n",
    "        print('total cats:',Cat.total)\n",
    "    \n",
    "    def __init__(self, name):\n",
    "        print('new cat was born')\n",
    "        self.name = name\n",
    "        Cat.total +=1\n",
    " \n",
    "    def __str__(self):\n",
    "        res = 'Объект класса Cat \\nname:'+ self.name\n",
    "        return res\n",
    "#выше функция вернет, что res это объект класса Cat,добавить к строке имя объекта и вывести :\n",
    "#print(cat1) выведет нам:\n",
    "#Объект класса Cat \n",
    "#name:Bagira\n",
    "    def talk(self):\n",
    "        print(self.name,'Мяу')\n"
   ]
  },
  {
   "cell_type": "code",
   "execution_count": 79,
   "id": "d2be82fc",
   "metadata": {},
   "outputs": [
    {
     "name": "stdout",
     "output_type": "stream",
     "text": [
      "total cats: 2\n"
     ]
    }
   ],
   "source": [
    "Cat.count()"
   ]
  },
  {
   "cell_type": "code",
   "execution_count": 71,
   "id": "b995f120",
   "metadata": {},
   "outputs": [
    {
     "name": "stdout",
     "output_type": "stream",
     "text": [
      "new cat was born\n"
     ]
    }
   ],
   "source": [
    "cat1 = Cat('Bagira')"
   ]
  },
  {
   "cell_type": "code",
   "execution_count": 72,
   "id": "401ce9f3",
   "metadata": {},
   "outputs": [
    {
     "name": "stdout",
     "output_type": "stream",
     "text": [
      "new cat was born\n"
     ]
    }
   ],
   "source": [
    "cat1 = Cat('Viki')"
   ]
  },
  {
   "cell_type": "code",
   "execution_count": 73,
   "id": "1c4eeb72",
   "metadata": {},
   "outputs": [],
   "source": [
    "# инкапсуляция\n",
    "\n",
    "class Cat(object):\n",
    "    total = 0\n",
    "#переменная принадлежит имеено классу!\n",
    "# пишем декоратор,метод будет статический и относится к классу\n",
    "\n",
    "    @staticmethod\n",
    "    def count():\n",
    "        print('total cats:',Cat.total)\n",
    "    \n",
    "    def __init__(self, name):\n",
    "        print('new cat was born')\n",
    "        self.name = name\n",
    "        Cat.total +=1\n",
    "        self.__weight = 300\n",
    "        \n",
    "        \n",
    "    def get_weight(self):\n",
    "        return self.__weight\n",
    "    \n",
    "    def set_weight(self,weight_cat):\n",
    "        if weight_cat>250:\n",
    "            self.__weight = weight_cat\n",
    "        \n",
    "        \n",
    "    \n",
    "    \n",
    " \n",
    "    def __str__(self):\n",
    "        res = 'Объект класса Cat \\nname:'+ self.name\n",
    "        return res\n",
    "#выше функция вернет, что res это объект класса Cat,добавить к строке имя объекта и вывести :\n",
    "#print(cat1) выведет нам:\n",
    "#Объект класса Cat \n",
    "#name:Bagira\n",
    "    def talk(self):\n",
    "        print(self.name,'Мяу')\n"
   ]
  },
  {
   "cell_type": "code",
   "execution_count": 74,
   "id": "fa593d2f",
   "metadata": {},
   "outputs": [
    {
     "name": "stdout",
     "output_type": "stream",
     "text": [
      "new cat was born\n"
     ]
    }
   ],
   "source": [
    "cat= Cat('Тузик')"
   ]
  },
  {
   "cell_type": "code",
   "execution_count": 75,
   "id": "658e497b",
   "metadata": {},
   "outputs": [
    {
     "data": {
      "text/plain": [
       "300"
      ]
     },
     "execution_count": 75,
     "metadata": {},
     "output_type": "execute_result"
    }
   ],
   "source": [
    "cat.get_weight()"
   ]
  },
  {
   "cell_type": "code",
   "execution_count": 76,
   "id": "64978420",
   "metadata": {},
   "outputs": [],
   "source": [
    "cat.set_weight(500)"
   ]
  },
  {
   "cell_type": "code",
   "execution_count": 92,
   "id": "d348bd40",
   "metadata": {},
   "outputs": [],
   "source": [
    "# наследование\n",
    "\n",
    "class Tiger (Cat):\n",
    "\n",
    "    #определяем констркутор и далее еще вызываем конструктор класса родительского с помощью super()\n",
    "    def __init__(self, name):\n",
    "        super().__init__(name)\n",
    "        self.__stripe_count = 30\n",
    "        \n",
    "        \n",
    "    def __talk(self):\n",
    "        print('RRRR')\n"
   ]
  },
  {
   "cell_type": "code",
   "execution_count": 93,
   "id": "6f4fb77f",
   "metadata": {},
   "outputs": [
    {
     "name": "stdout",
     "output_type": "stream",
     "text": [
      "new cat was born\n"
     ]
    }
   ],
   "source": [
    "tigra = Tiger('Тигра')"
   ]
  },
  {
   "cell_type": "code",
   "execution_count": 94,
   "id": "62fe7bdb",
   "metadata": {},
   "outputs": [
    {
     "name": "stdout",
     "output_type": "stream",
     "text": [
      "Объект класса Cat \n",
      "name:Тигра\n"
     ]
    }
   ],
   "source": [
    "print(tigra)"
   ]
  },
  {
   "cell_type": "code",
   "execution_count": 95,
   "id": "84cf6451",
   "metadata": {},
   "outputs": [],
   "source": [
    "tigra.set_weight(200000)"
   ]
  },
  {
   "cell_type": "code",
   "execution_count": 96,
   "id": "c8c8eef4",
   "metadata": {},
   "outputs": [
    {
     "data": {
      "text/plain": [
       "200000"
      ]
     },
     "execution_count": 96,
     "metadata": {},
     "output_type": "execute_result"
    }
   ],
   "source": [
    "tigra.get_weight()"
   ]
  },
  {
   "cell_type": "code",
   "execution_count": 97,
   "id": "69b463db",
   "metadata": {},
   "outputs": [
    {
     "name": "stdout",
     "output_type": "stream",
     "text": [
      "Тигра Мяу\n"
     ]
    }
   ],
   "source": [
    "tigra.talk()"
   ]
  },
  {
   "cell_type": "code",
   "execution_count": 89,
   "id": "3b87c80c",
   "metadata": {},
   "outputs": [
    {
     "data": {
      "text/plain": [
       "30"
      ]
     },
     "execution_count": 89,
     "metadata": {},
     "output_type": "execute_result"
    }
   ],
   "source": [
    "tigra.stripe_count"
   ]
  },
  {
   "cell_type": "code",
   "execution_count": 91,
   "id": "f9ca0a69",
   "metadata": {},
   "outputs": [
    {
     "name": "stdout",
     "output_type": "stream",
     "text": [
      "RRRR\n"
     ]
    }
   ],
   "source": [
    "tigra.talk()"
   ]
  },
  {
   "cell_type": "code",
   "execution_count": 98,
   "id": "2544527a",
   "metadata": {},
   "outputs": [],
   "source": [
    "import numpy as np\n"
   ]
  },
  {
   "cell_type": "code",
   "execution_count": 99,
   "id": "c1ebe84f",
   "metadata": {},
   "outputs": [],
   "source": [
    "a = np.array([0,2,1])"
   ]
  },
  {
   "cell_type": "code",
   "execution_count": 101,
   "id": "ca3806fc",
   "metadata": {},
   "outputs": [
    {
     "data": {
      "text/plain": [
       "(array([0, 2, 1]), numpy.ndarray)"
      ]
     },
     "execution_count": 101,
     "metadata": {},
     "output_type": "execute_result"
    }
   ],
   "source": [
    "a, type(a)"
   ]
  },
  {
   "cell_type": "code",
   "execution_count": 103,
   "id": "58dcdcf7",
   "metadata": {},
   "outputs": [
    {
     "data": {
      "text/plain": [
       "(dtype('int32'), 'int32', 4)"
      ]
     },
     "execution_count": 103,
     "metadata": {},
     "output_type": "execute_result"
    }
   ],
   "source": [
    "a.dtype, a.dtype.name, a.itemsize"
   ]
  },
  {
   "cell_type": "code",
   "execution_count": 105,
   "id": "5cf185ef",
   "metadata": {},
   "outputs": [
    {
     "data": {
      "text/plain": [
       "1"
      ]
     },
     "execution_count": 105,
     "metadata": {},
     "output_type": "execute_result"
    }
   ],
   "source": [
    "a.ndim"
   ]
  },
  {
   "cell_type": "code",
   "execution_count": 106,
   "id": "414fb025",
   "metadata": {},
   "outputs": [
    {
     "data": {
      "text/plain": [
       "(3,)"
      ]
     },
     "execution_count": 106,
     "metadata": {},
     "output_type": "execute_result"
    }
   ],
   "source": [
    "a.shape"
   ]
  },
  {
   "cell_type": "code",
   "execution_count": 107,
   "id": "b04ece0f",
   "metadata": {},
   "outputs": [
    {
     "data": {
      "text/plain": [
       "3"
      ]
     },
     "execution_count": 107,
     "metadata": {},
     "output_type": "execute_result"
    }
   ],
   "source": [
    "a.size"
   ]
  },
  {
   "cell_type": "code",
   "execution_count": 108,
   "id": "d1cc44a6",
   "metadata": {},
   "outputs": [
    {
     "data": {
      "text/plain": [
       "3"
      ]
     },
     "execution_count": 108,
     "metadata": {},
     "output_type": "execute_result"
    }
   ],
   "source": [
    "len(a)"
   ]
  },
  {
   "cell_type": "code",
   "execution_count": 110,
   "id": "5d34556d",
   "metadata": {},
   "outputs": [
    {
     "data": {
      "text/plain": [
       "array([0., 0., 0., 0., 0.])"
      ]
     },
     "execution_count": 110,
     "metadata": {},
     "output_type": "execute_result"
    }
   ],
   "source": [
    "a= np.zeros(5)\n",
    "a"
   ]
  },
  {
   "cell_type": "code",
   "execution_count": 112,
   "id": "ae9f4cba",
   "metadata": {},
   "outputs": [
    {
     "data": {
      "text/plain": [
       "array([1, 1, 1, 1, 1], dtype=int64)"
      ]
     },
     "execution_count": 112,
     "metadata": {},
     "output_type": "execute_result"
    }
   ],
   "source": [
    "b = np.ones(5,dtype = np.int64)\n",
    "b"
   ]
  },
  {
   "cell_type": "code",
   "execution_count": 113,
   "id": "dd4639d3",
   "metadata": {},
   "outputs": [
    {
     "data": {
      "text/plain": [
       "array([0., 0., 0., 0., 0.])"
      ]
     },
     "execution_count": 113,
     "metadata": {},
     "output_type": "execute_result"
    }
   ],
   "source": [
    "b = np.zeros_like(a)\n",
    "b"
   ]
  },
  {
   "cell_type": "code",
   "execution_count": 119,
   "id": "76af4d3e",
   "metadata": {},
   "outputs": [
    {
     "data": {
      "text/plain": [
       "array([0, 2, 4, 6, 8])"
      ]
     },
     "execution_count": 119,
     "metadata": {},
     "output_type": "execute_result"
    }
   ],
   "source": [
    "a = np.arange(0,9,2)\n",
    "a"
   ]
  },
  {
   "cell_type": "code",
   "execution_count": 117,
   "id": "4cf88b01",
   "metadata": {},
   "outputs": [
    {
     "data": {
      "text/plain": [
       "array([0., 2., 4., 6., 8.])"
      ]
     },
     "execution_count": 117,
     "metadata": {},
     "output_type": "execute_result"
    }
   ],
   "source": [
    "a = np.linspace(0,8,5)\n",
    "a"
   ]
  },
  {
   "cell_type": "code",
   "execution_count": 118,
   "id": "230293d0",
   "metadata": {},
   "outputs": [
    {
     "data": {
      "text/plain": [
       "array([ 1.        ,  1.77827941,  3.16227766,  5.62341325, 10.        ])"
      ]
     },
     "execution_count": 118,
     "metadata": {},
     "output_type": "execute_result"
    }
   ],
   "source": [
    "b = np.logspace(0,1,5)\n",
    "b"
   ]
  },
  {
   "cell_type": "code",
   "execution_count": 120,
   "id": "73da3b41",
   "metadata": {},
   "outputs": [
    {
     "data": {
      "text/plain": [
       "(20, 0, 8, 0, 4.0, 2.8284271247461903)"
      ]
     },
     "execution_count": 120,
     "metadata": {},
     "output_type": "execute_result"
    }
   ],
   "source": [
    "a.sum(), a.prod(),a.max(), a.min(),a.mean(),a.std()\n",
    "# a.prod() - перемножает элементы\n",
    "# a.mean() среднее арифметическое\n",
    "# a.std() - стандартное отклонение"
   ]
  },
  {
   "cell_type": "code",
   "execution_count": 121,
   "id": "171ba43c",
   "metadata": {},
   "outputs": [
    {
     "data": {
      "text/plain": [
       "array([ 1.        , -2.56      ,  3.16227766,  5.62341325, 10.        ])"
      ]
     },
     "execution_count": 121,
     "metadata": {},
     "output_type": "execute_result"
    }
   ],
   "source": [
    "b[1] = -2.56\n",
    "b"
   ]
  },
  {
   "cell_type": "code",
   "execution_count": 122,
   "id": "8324bbb4",
   "metadata": {},
   "outputs": [
    {
     "data": {
      "text/plain": [
       "array([ True, False, False, False, False])"
      ]
     },
     "execution_count": 122,
     "metadata": {},
     "output_type": "execute_result"
    }
   ],
   "source": [
    "# по элементное сравнение можем делать, <,>...\n",
    "b == 1"
   ]
  },
  {
   "cell_type": "code",
   "execution_count": null,
   "id": "6b5d0b63",
   "metadata": {},
   "outputs": [],
   "source": [
    "#примет true , если хоть одно значение есть true\n",
    "np.any(b)"
   ]
  },
  {
   "cell_type": "code",
   "execution_count": null,
   "id": "256a3a41",
   "metadata": {},
   "outputs": [],
   "source": [
    "#все элементы должны быть true\n",
    "np.all(b)"
   ]
  },
  {
   "cell_type": "code",
   "execution_count": 123,
   "id": "8c7944b0",
   "metadata": {},
   "outputs": [
    {
     "name": "stderr",
     "output_type": "stream",
     "text": [
      "C:\\Users\\laptop\\AppData\\Local\\Temp/ipykernel_15056/2405814306.py:1: RuntimeWarning: divide by zero encountered in true_divide\n",
      "  r = np.array([0.0,0.0,1.0,-1.0])/np.array([1.0,0.0,0.0,0.0])\n",
      "C:\\Users\\laptop\\AppData\\Local\\Temp/ipykernel_15056/2405814306.py:1: RuntimeWarning: invalid value encountered in true_divide\n",
      "  r = np.array([0.0,0.0,1.0,-1.0])/np.array([1.0,0.0,0.0,0.0])\n"
     ]
    }
   ],
   "source": [
    "r = np.array([0.0,0.0,1.0,-1.0])/np.array([1.0,0.0,0.0,0.0])\n",
    "#ошибки при делении на ноль не будет"
   ]
  },
  {
   "cell_type": "code",
   "execution_count": 124,
   "id": "9a48c93f",
   "metadata": {},
   "outputs": [
    {
     "data": {
      "text/plain": [
       "array([  0.,  nan,  inf, -inf])"
      ]
     },
     "execution_count": 124,
     "metadata": {},
     "output_type": "execute_result"
    }
   ],
   "source": [
    "r"
   ]
  },
  {
   "cell_type": "code",
   "execution_count": 125,
   "id": "6a064c90",
   "metadata": {},
   "outputs": [
    {
     "data": {
      "text/plain": [
       "nan"
      ]
     },
     "execution_count": 125,
     "metadata": {},
     "output_type": "execute_result"
    }
   ],
   "source": [
    "r[1]"
   ]
  },
  {
   "cell_type": "code",
   "execution_count": 127,
   "id": "f8b112d9",
   "metadata": {},
   "outputs": [
    {
     "data": {
      "text/plain": [
       "True"
      ]
     },
     "execution_count": 127,
     "metadata": {},
     "output_type": "execute_result"
    }
   ],
   "source": [
    "np.isnan(r[1])"
   ]
  },
  {
   "cell_type": "code",
   "execution_count": 128,
   "id": "9088c093",
   "metadata": {},
   "outputs": [
    {
     "name": "stdout",
     "output_type": "stream",
     "text": [
      "0\n",
      "2\n",
      "4\n",
      "6\n",
      "8\n"
     ]
    }
   ],
   "source": [
    "for i in range(len(a)):\n",
    "    print(a[i])"
   ]
  },
  {
   "cell_type": "code",
   "execution_count": 132,
   "id": "76fecf81",
   "metadata": {},
   "outputs": [
    {
     "data": {
      "text/plain": [
       "(array([ 0.        ,  2.        ,  4.        ,  6.        ,  8.        ,\n",
       "         1.        , -2.56      ,  3.16227766,  5.62341325, 10.        ]),\n",
       " array([ 1.        , -2.56      ,  3.16227766,  5.62341325, 10.        ]))"
      ]
     },
     "execution_count": 132,
     "metadata": {},
     "output_type": "execute_result"
    }
   ],
   "source": [
    "a,b"
   ]
  },
  {
   "cell_type": "code",
   "execution_count": 130,
   "id": "a8d6b7fe",
   "metadata": {},
   "outputs": [
    {
     "data": {
      "text/plain": [
       "array([ 0.        ,  2.        ,  4.        ,  6.        ,  8.        ,\n",
       "        1.        , -2.56      ,  3.16227766,  5.62341325, 10.        ])"
      ]
     },
     "execution_count": 130,
     "metadata": {},
     "output_type": "execute_result"
    }
   ],
   "source": [
    "a = np.hstack((a,b))\n",
    "a"
   ]
  },
  {
   "cell_type": "code",
   "execution_count": 133,
   "id": "87e14d2e",
   "metadata": {},
   "outputs": [
    {
     "data": {
      "text/plain": [
       "array([ 0.        ,  2.        ,  4.        ,  6.        ,  8.        ,\n",
       "        1.        , -2.56      ,  3.16227766,  5.62341325, 10.        ])"
      ]
     },
     "execution_count": 133,
     "metadata": {},
     "output_type": "execute_result"
    }
   ],
   "source": [
    "c = a.copy()\n",
    "c"
   ]
  },
  {
   "cell_type": "code",
   "execution_count": 134,
   "id": "38297a17",
   "metadata": {},
   "outputs": [
    {
     "data": {
      "text/plain": [
       "[array([0., 2., 4.]),\n",
       " array([6., 8., 1.]),\n",
       " array([-2.56      ,  3.16227766,  5.62341325, 10.        ])]"
      ]
     },
     "execution_count": 134,
     "metadata": {},
     "output_type": "execute_result"
    }
   ],
   "source": [
    "np.hsplit(a,[3,6])"
   ]
  },
  {
   "cell_type": "code",
   "execution_count": 135,
   "id": "b7791347",
   "metadata": {},
   "outputs": [
    {
     "data": {
      "text/plain": [
       "array([ 0.        ,  4.        ,  6.        ,  8.        , -2.56      ,\n",
       "        3.16227766,  5.62341325, 10.        ])"
      ]
     },
     "execution_count": 135,
     "metadata": {},
     "output_type": "execute_result"
    }
   ],
   "source": [
    "a = np.delete(a,[1,5])\n",
    "a"
   ]
  },
  {
   "cell_type": "code",
   "execution_count": 136,
   "id": "58992bdc",
   "metadata": {},
   "outputs": [
    {
     "data": {
      "text/plain": [
       "8"
      ]
     },
     "execution_count": 136,
     "metadata": {},
     "output_type": "execute_result"
    }
   ],
   "source": [
    "len(a)"
   ]
  },
  {
   "cell_type": "code",
   "execution_count": 137,
   "id": "2d2ca256",
   "metadata": {},
   "outputs": [],
   "source": [
    "a = np.insert(a,3, [0.,1.])"
   ]
  },
  {
   "cell_type": "code",
   "execution_count": 138,
   "id": "36c0df7b",
   "metadata": {},
   "outputs": [
    {
     "data": {
      "text/plain": [
       "array([ 0.        ,  4.        ,  6.        ,  0.        ,  1.        ,\n",
       "        8.        , -2.56      ,  3.16227766,  5.62341325, 10.        ])"
      ]
     },
     "execution_count": 138,
     "metadata": {},
     "output_type": "execute_result"
    }
   ],
   "source": [
    "a"
   ]
  },
  {
   "cell_type": "code",
   "execution_count": 139,
   "id": "0bbb9c39",
   "metadata": {},
   "outputs": [
    {
     "data": {
      "text/plain": [
       "array([ 0.        ,  6.        ,  1.        , -2.56      ,  5.62341325])"
      ]
     },
     "execution_count": 139,
     "metadata": {},
     "output_type": "execute_result"
    }
   ],
   "source": [
    "a[::2]"
   ]
  },
  {
   "cell_type": "code",
   "execution_count": 140,
   "id": "8781fb24",
   "metadata": {},
   "outputs": [
    {
     "data": {
      "text/plain": [
       "array([ 3.        ,  4.        ,  3.        ,  0.        ,  3.        ,\n",
       "        8.        ,  3.        ,  3.16227766,  3.        , 10.        ])"
      ]
     },
     "execution_count": 140,
     "metadata": {},
     "output_type": "execute_result"
    }
   ],
   "source": [
    "a[::2] = 3\n",
    "a"
   ]
  },
  {
   "cell_type": "code",
   "execution_count": 141,
   "id": "492ac876",
   "metadata": {},
   "outputs": [
    {
     "data": {
      "text/plain": [
       "array([ 1.,  1., 56.,  1.,  1.])"
      ]
     },
     "execution_count": 141,
     "metadata": {},
     "output_type": "execute_result"
    }
   ],
   "source": [
    "c = np.ones(5)\n",
    "c[2] = 56\n",
    "c"
   ]
  },
  {
   "cell_type": "code",
   "execution_count": 143,
   "id": "b4454cd5",
   "metadata": {},
   "outputs": [
    {
     "data": {
      "text/plain": [
       "array([ 1.        ,  4.        ,  1.        ,  0.        , 56.        ,\n",
       "        8.        ,  1.        ,  3.16227766,  1.        , 10.        ])"
      ]
     },
     "execution_count": 143,
     "metadata": {},
     "output_type": "execute_result"
    }
   ],
   "source": [
    "a[::2] = c\n",
    "a"
   ]
  },
  {
   "cell_type": "code",
   "execution_count": 150,
   "id": "ef4cc58e",
   "metadata": {},
   "outputs": [
    {
     "data": {
      "text/plain": [
       "array([ 2.,  1.,  0., 56.])"
      ]
     },
     "execution_count": 150,
     "metadata": {},
     "output_type": "execute_result"
    }
   ],
   "source": [
    "b = a[1:5].copy()\n",
    "b"
   ]
  },
  {
   "cell_type": "code",
   "execution_count": 151,
   "id": "a1ef7834",
   "metadata": {},
   "outputs": [],
   "source": [
    "b[0]=3"
   ]
  },
  {
   "cell_type": "code",
   "execution_count": 152,
   "id": "84233bd9",
   "metadata": {},
   "outputs": [
    {
     "data": {
      "text/plain": [
       "array([ 3.,  1.,  0., 56.])"
      ]
     },
     "execution_count": 152,
     "metadata": {},
     "output_type": "execute_result"
    }
   ],
   "source": [
    "b"
   ]
  },
  {
   "cell_type": "code",
   "execution_count": 153,
   "id": "89d9fbb8",
   "metadata": {},
   "outputs": [],
   "source": [
    "a = np.array([[1,0],[0,-1]])"
   ]
  },
  {
   "cell_type": "code",
   "execution_count": 154,
   "id": "88c49790",
   "metadata": {},
   "outputs": [
    {
     "data": {
      "text/plain": [
       "4"
      ]
     },
     "execution_count": 154,
     "metadata": {},
     "output_type": "execute_result"
    }
   ],
   "source": [
    "a.size"
   ]
  },
  {
   "cell_type": "code",
   "execution_count": 155,
   "id": "185fccf1",
   "metadata": {},
   "outputs": [
    {
     "data": {
      "text/plain": [
       "2"
      ]
     },
     "execution_count": 155,
     "metadata": {},
     "output_type": "execute_result"
    }
   ],
   "source": [
    "len(a)"
   ]
  },
  {
   "cell_type": "code",
   "execution_count": 157,
   "id": "ede77461",
   "metadata": {},
   "outputs": [
    {
     "data": {
      "text/plain": [
       "(2, 2)"
      ]
     },
     "execution_count": 157,
     "metadata": {},
     "output_type": "execute_result"
    }
   ],
   "source": [
    "a.shape"
   ]
  },
  {
   "cell_type": "code",
   "execution_count": 158,
   "id": "a960ed41",
   "metadata": {},
   "outputs": [
    {
     "data": {
      "text/plain": [
       "2"
      ]
     },
     "execution_count": 158,
     "metadata": {},
     "output_type": "execute_result"
    }
   ],
   "source": [
    "a.ndim"
   ]
  },
  {
   "cell_type": "code",
   "execution_count": null,
   "id": "cf0a00d3",
   "metadata": {},
   "outputs": [],
   "source": [
    " "
   ]
  }
 ],
 "metadata": {
  "kernelspec": {
   "display_name": "Python 3 (ipykernel)",
   "language": "python",
   "name": "python3"
  },
  "language_info": {
   "codemirror_mode": {
    "name": "ipython",
    "version": 3
   },
   "file_extension": ".py",
   "mimetype": "text/x-python",
   "name": "python",
   "nbconvert_exporter": "python",
   "pygments_lexer": "ipython3",
   "version": "3.9.7"
  }
 },
 "nbformat": 4,
 "nbformat_minor": 5
}
