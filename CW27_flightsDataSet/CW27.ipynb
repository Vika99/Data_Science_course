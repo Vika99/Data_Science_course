{
 "cells": [
  {
   "cell_type": "code",
   "execution_count": null,
   "id": "74199109",
   "metadata": {},
   "outputs": [],
   "source": []
  },
  {
   "cell_type": "code",
   "execution_count": null,
   "id": "02f08c55",
   "metadata": {},
   "outputs": [],
   "source": []
  },
  {
   "cell_type": "code",
   "execution_count": null,
   "id": "6e15d76f",
   "metadata": {},
   "outputs": [],
   "source": []
  },
  {
   "cell_type": "code",
   "execution_count": null,
   "id": "eff2a65f",
   "metadata": {},
   "outputs": [],
   "source": []
  },
  {
   "cell_type": "code",
   "execution_count": 7,
   "id": "7f7c0530",
   "metadata": {},
   "outputs": [],
   "source": [
    "from tensorflow.keras.datasets import mnist\n",
    "(train_images, train_labels), (test_images, test_labels) = mnist.load_data()"
   ]
  },
  {
   "cell_type": "code",
   "execution_count": 3,
   "id": "a755a8fc",
   "metadata": {},
   "outputs": [],
   "source": [
    "# подготовка данных\n",
    "train_images = train_images.reshape((60000, 28 * 28))\n",
    "\n",
    "train_images = train_images.astype(\"float32\") / 255\n",
    "\n",
    "test_images = test_images.reshape((10000, 28 * 28))\n",
    "\n",
    "test_images = test_images.astype(\"float32\") / 255"
   ]
  },
  {
   "cell_type": "code",
   "execution_count": 2,
   "id": "8bca2403",
   "metadata": {},
   "outputs": [
    {
     "name": "stderr",
     "output_type": "stream",
     "text": [
      "2022-07-07 13:25:54.479143: W tensorflow/stream_executor/platform/default/dso_loader.cc:64] Could not load dynamic library 'libcuda.so.1'; dlerror: libcuda.so.1: cannot open shared object file: No such file or directory\n",
      "2022-07-07 13:25:54.479209: W tensorflow/stream_executor/cuda/cuda_driver.cc:269] failed call to cuInit: UNKNOWN ERROR (303)\n",
      "2022-07-07 13:25:54.479258: I tensorflow/stream_executor/cuda/cuda_diagnostics.cc:156] kernel driver does not appear to be running on this host (sergey-home): /proc/driver/nvidia/version does not exist\n",
      "2022-07-07 13:25:54.510673: I tensorflow/core/platform/cpu_feature_guard.cc:151] This TensorFlow binary is optimized with oneAPI Deep Neural Network Library (oneDNN) to use the following CPU instructions in performance-critical operations:  AVX2 FMA\n",
      "To enable them in other operations, rebuild TensorFlow with the appropriate compiler flags.\n"
     ]
    }
   ],
   "source": [
    "# Архитектура и модель\n",
    "from tensorflow.keras import models\n",
    "from tensorflow.keras import layers\n",
    "\n",
    "model = models.Sequential()\n",
    "\n",
    "model.add(layers.Dense(512, activation=\"relu\", input_shape = (28*28,)))\n",
    "model.add(layers.Dense(10, activation=\"softmax\"))\n",
    "\n",
    "# Компиляция модели\n",
    "model.compile(optimizer=optimizer=keras.optimizers.RMSprop(1e-4),\n",
    "              loss=\"sparse_categorical_crossentropy\",\n",
    "              metrics=[\"accuracy\"])"
   ]
  },
  {
   "cell_type": "code",
   "execution_count": 26,
   "id": "df4583f1",
   "metadata": {},
   "outputs": [],
   "source": [
    "#history = model.fit(train_images, train_labels, validation_data = (test_images, test_labels), epochs=10, batch_size=128)"
   ]
  },
  {
   "cell_type": "code",
   "execution_count": null,
   "id": "87f2a94d",
   "metadata": {},
   "outputs": [],
   "source": [
    "# повысим шаг обучения\n",
    "from tensorflow.keras import models\n",
    "from tensorflow.keras import layers\n",
    "\n",
    "model = models.Sequential()\n",
    "\n",
    "model.add(layers.Dense(512, activation=\"relu\", input_shape = (28*28,)))\n",
    "model.add(layers.Dense(10, activation=\"softmax\"))\n",
    "\n",
    "# Компиляция модели\n",
    "model.compile(optimizer=optimizer=keras.optimizers.RMSprop(1.),\n",
    "              loss=\"sparse_categorical_crossentropy\",\n",
    "              metrics=[\"accuracy\"])"
   ]
  },
  {
   "cell_type": "code",
   "execution_count": null,
   "id": "89c62b0d",
   "metadata": {},
   "outputs": [],
   "source": [
    "history = model.fit(train_images, train_labels, validation_data = (test_images, test_labels), epochs=10, batch_size=128)"
   ]
  },
  {
   "cell_type": "code",
   "execution_count": null,
   "id": "c94a8266",
   "metadata": {},
   "outputs": [],
   "source": [
    "# Добавить слои"
   ]
  },
  {
   "cell_type": "code",
   "execution_count": null,
   "id": "4547409f",
   "metadata": {},
   "outputs": [],
   "source": []
  },
  {
   "cell_type": "code",
   "execution_count": null,
   "id": "a54d00fc",
   "metadata": {},
   "outputs": [],
   "source": [
    "# снизить количество нейронов"
   ]
  },
  {
   "cell_type": "code",
   "execution_count": null,
   "id": "6b1af4fd",
   "metadata": {},
   "outputs": [],
   "source": []
  },
  {
   "cell_type": "code",
   "execution_count": null,
   "id": "1491b68d",
   "metadata": {},
   "outputs": [],
   "source": [
    "# Добавить регуляризацию kernel_regularizer=regularizers.l2(0.002)"
   ]
  },
  {
   "cell_type": "code",
   "execution_count": null,
   "id": "6bb8ba2c",
   "metadata": {},
   "outputs": [],
   "source": []
  },
  {
   "cell_type": "code",
   "execution_count": null,
   "id": "51e626eb",
   "metadata": {},
   "outputs": [],
   "source": [
    "# Добавить Dropout"
   ]
  },
  {
   "cell_type": "code",
   "execution_count": null,
   "id": "bc42502f",
   "metadata": {},
   "outputs": [],
   "source": []
  },
  {
   "cell_type": "code",
   "execution_count": null,
   "id": "a20a3494",
   "metadata": {},
   "outputs": [],
   "source": []
  },
  {
   "cell_type": "code",
   "execution_count": null,
   "id": "f7255078",
   "metadata": {},
   "outputs": [],
   "source": []
  },
  {
   "cell_type": "code",
   "execution_count": null,
   "id": "a3699e8b",
   "metadata": {},
   "outputs": [],
   "source": []
  },
  {
   "cell_type": "code",
   "execution_count": null,
   "id": "e5d0d40e",
   "metadata": {},
   "outputs": [],
   "source": []
  },
  {
   "cell_type": "code",
   "execution_count": null,
   "id": "cfac9186",
   "metadata": {},
   "outputs": [],
   "source": []
  },
  {
   "cell_type": "code",
   "execution_count": null,
   "id": "a69f4c08",
   "metadata": {},
   "outputs": [],
   "source": []
  },
  {
   "cell_type": "code",
   "execution_count": null,
   "id": "a66e9980",
   "metadata": {},
   "outputs": [],
   "source": []
  },
  {
   "cell_type": "code",
   "execution_count": null,
   "id": "fd936018",
   "metadata": {},
   "outputs": [],
   "source": []
  },
  {
   "cell_type": "code",
   "execution_count": 10,
   "id": "0ba8e792",
   "metadata": {},
   "outputs": [],
   "source": [
    "import numpy as np"
   ]
  },
  {
   "cell_type": "code",
   "execution_count": 13,
   "id": "a34700e1",
   "metadata": {},
   "outputs": [],
   "source": [
    "train_images = np.expand_dims(train_images, axis = 3)"
   ]
  },
  {
   "cell_type": "code",
   "execution_count": 14,
   "id": "7eb38eaa",
   "metadata": {
    "scrolled": true
   },
   "outputs": [
    {
     "data": {
      "text/plain": [
       "(60000, 28, 28, 1)"
      ]
     },
     "execution_count": 14,
     "metadata": {},
     "output_type": "execute_result"
    }
   ],
   "source": [
    "train_images.shape"
   ]
  },
  {
   "cell_type": "code",
   "execution_count": 15,
   "id": "3f6ab9ad",
   "metadata": {},
   "outputs": [],
   "source": [
    "test_images = np.expand_dims(test_images, axis = 3)"
   ]
  },
  {
   "cell_type": "code",
   "execution_count": null,
   "id": "5ecd8432",
   "metadata": {},
   "outputs": [],
   "source": []
  },
  {
   "cell_type": "code",
   "execution_count": null,
   "id": "649497ce",
   "metadata": {},
   "outputs": [],
   "source": []
  },
  {
   "cell_type": "code",
   "execution_count": null,
   "id": "a72d5d2f",
   "metadata": {},
   "outputs": [],
   "source": []
  },
  {
   "cell_type": "code",
   "execution_count": null,
   "id": "8412ada2",
   "metadata": {},
   "outputs": [],
   "source": []
  },
  {
   "cell_type": "code",
   "execution_count": 27,
   "id": "f8ea5d35",
   "metadata": {},
   "outputs": [],
   "source": [
    "Conv_model = models.Sequential()\n",
    "\n",
    "Conv_model.add(layers.Conv2D(32, (3,3), activation = 'relu', input_shape = (28, 28,1)))\n",
    "Conv_model.add(layers.MaxPooling2D(2,2))\n",
    "Conv_model.add(layers.Conv2D(64, (3,3), activation = 'relu'))\n",
    "Conv_model.add(layers.MaxPooling2D(2,2))\n",
    "Conv_model.add(layers.Conv2D(64, (3,3), activation = 'relu'))\n"
   ]
  },
  {
   "cell_type": "code",
   "execution_count": 33,
   "id": "10cf31a2",
   "metadata": {},
   "outputs": [],
   "source": [
    "#Conv_model.summary()"
   ]
  },
  {
   "cell_type": "code",
   "execution_count": 29,
   "id": "1f1d599e",
   "metadata": {},
   "outputs": [],
   "source": [
    "\n",
    "Conv_model.add(layers.Flatten())\n",
    "Conv_model.add(layers.Dense(64, activation = 'relu'))\n",
    "Conv_model.add(layers.Dense(10, activation = 'softmax'))"
   ]
  },
  {
   "cell_type": "code",
   "execution_count": null,
   "id": "92e0af4d",
   "metadata": {},
   "outputs": [],
   "source": []
  },
  {
   "cell_type": "code",
   "execution_count": 31,
   "id": "f8fd9ca1",
   "metadata": {},
   "outputs": [],
   "source": [
    "# Компиляция модели\n",
    "Conv_model.compile(optimizer=\"adam\",\n",
    "              loss=\"sparse_categorical_crossentropy\",\n",
    "              metrics=[\"accuracy\"])"
   ]
  },
  {
   "cell_type": "code",
   "execution_count": 32,
   "id": "b6207046",
   "metadata": {
    "collapsed": true
   },
   "outputs": [
    {
     "name": "stdout",
     "output_type": "stream",
     "text": [
      "Epoch 1/10\n",
      "469/469 [==============================] - 15s 31ms/step - loss: 0.4805 - accuracy: 0.9067 - val_loss: 0.1234 - val_accuracy: 0.9621\n",
      "Epoch 2/10\n",
      "469/469 [==============================] - 14s 30ms/step - loss: 0.0801 - accuracy: 0.9760 - val_loss: 0.0576 - val_accuracy: 0.9832\n",
      "Epoch 3/10\n",
      "469/469 [==============================] - 15s 31ms/step - loss: 0.0519 - accuracy: 0.9841 - val_loss: 0.0622 - val_accuracy: 0.9806\n",
      "Epoch 4/10\n",
      "469/469 [==============================] - 15s 31ms/step - loss: 0.0393 - accuracy: 0.9879 - val_loss: 0.0502 - val_accuracy: 0.9848\n",
      "Epoch 5/10\n",
      "469/469 [==============================] - 15s 31ms/step - loss: 0.0355 - accuracy: 0.9888 - val_loss: 0.0540 - val_accuracy: 0.9854\n",
      "Epoch 6/10\n",
      "469/469 [==============================] - 15s 31ms/step - loss: 0.0307 - accuracy: 0.9905 - val_loss: 0.0477 - val_accuracy: 0.9862\n",
      "Epoch 7/10\n",
      "469/469 [==============================] - 15s 31ms/step - loss: 0.0247 - accuracy: 0.9917 - val_loss: 0.0431 - val_accuracy: 0.9876\n",
      "Epoch 8/10\n",
      "469/469 [==============================] - 15s 33ms/step - loss: 0.0212 - accuracy: 0.9934 - val_loss: 0.0433 - val_accuracy: 0.9882\n",
      "Epoch 9/10\n",
      "469/469 [==============================] - 14s 31ms/step - loss: 0.0186 - accuracy: 0.9940 - val_loss: 0.0405 - val_accuracy: 0.9887\n",
      "Epoch 10/10\n",
      "469/469 [==============================] - 15s 31ms/step - loss: 0.0196 - accuracy: 0.9934 - val_loss: 0.0484 - val_accuracy: 0.9867\n"
     ]
    }
   ],
   "source": [
    "history = Conv_model.fit(train_images, train_labels, validation_data = (test_images, test_labels), epochs=10, batch_size=128)"
   ]
  },
  {
   "cell_type": "code",
   "execution_count": null,
   "id": "d7aa0267",
   "metadata": {},
   "outputs": [],
   "source": []
  },
  {
   "cell_type": "code",
   "execution_count": null,
   "id": "e0d34121",
   "metadata": {},
   "outputs": [],
   "source": []
  },
  {
   "cell_type": "code",
   "execution_count": 35,
   "id": "b1e683d9",
   "metadata": {},
   "outputs": [],
   "source": [
    "# Важность пулинга\n",
    "\n",
    "Conv_model = models.Sequential()\n",
    "\n",
    "Conv_model.add(layers.Conv2D(32, (3,3), activation = 'relu', input_shape = (28, 28,1)))\n",
    "Conv_model.add(layers.Conv2D(64, (3,3), activation = 'relu'))\n",
    "Conv_model.add(layers.Conv2D(64, (3,3), activation = 'relu'))\n",
    "#Conv_model.summary()"
   ]
  },
  {
   "cell_type": "code",
   "execution_count": null,
   "id": "2779ba19",
   "metadata": {},
   "outputs": [],
   "source": []
  },
  {
   "cell_type": "code",
   "execution_count": null,
   "id": "71bb0172",
   "metadata": {},
   "outputs": [],
   "source": []
  }
 ],
 "metadata": {
  "kernelspec": {
   "display_name": "Python 3 (ipykernel)",
   "language": "python",
   "name": "python3"
  },
  "language_info": {
   "codemirror_mode": {
    "name": "ipython",
    "version": 3
   },
   "file_extension": ".py",
   "mimetype": "text/x-python",
   "name": "python",
   "nbconvert_exporter": "python",
   "pygments_lexer": "ipython3",
   "version": "3.9.7"
  }
 },
 "nbformat": 4,
 "nbformat_minor": 5
}
