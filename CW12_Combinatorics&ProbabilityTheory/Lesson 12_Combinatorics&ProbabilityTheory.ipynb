{
 "cells": [
  {
   "cell_type": "code",
   "execution_count": 1,
   "id": "46c9eb4e",
   "metadata": {},
   "outputs": [],
   "source": [
    "import math "
   ]
  },
  {
   "cell_type": "code",
   "execution_count": 3,
   "id": "72e8fabe",
   "metadata": {},
   "outputs": [],
   "source": [
    "def counter (n,m):\n",
    "    C = math.factorial(n)/(math.factorial(n-m)*math.factorial(m))\n",
    "    return C"
   ]
  },
  {
   "cell_type": "code",
   "execution_count": 5,
   "id": "d2ef973d",
   "metadata": {},
   "outputs": [],
   "source": [
    "def p (n, m):\n",
    "    k = 1\n",
    "    for i in range (n-m+1, n+1):\n",
    "        k *= i\n",
    "    return k"
   ]
  },
  {
   "cell_type": "code",
   "execution_count": 6,
   "id": "98ca80c2",
   "metadata": {},
   "outputs": [
    {
     "data": {
      "text/plain": [
       "120"
      ]
     },
     "execution_count": 6,
     "metadata": {},
     "output_type": "execute_result"
    }
   ],
   "source": [
    "p(5,5)"
   ]
  },
  {
   "cell_type": "code",
   "execution_count": 7,
   "id": "227a3abf",
   "metadata": {},
   "outputs": [
    {
     "data": {
      "text/plain": [
       "120"
      ]
     },
     "execution_count": 7,
     "metadata": {},
     "output_type": "execute_result"
    }
   ],
   "source": [
    "math.factorial(5)"
   ]
  },
  {
   "cell_type": "code",
   "execution_count": 12,
   "id": "abea4b7f",
   "metadata": {},
   "outputs": [
    {
     "data": {
      "text/plain": [
       "10626"
      ]
     },
     "execution_count": 12,
     "metadata": {},
     "output_type": "execute_result"
    }
   ],
   "source": [
    "p(23,3)"
   ]
  },
  {
   "cell_type": "code",
   "execution_count": 14,
   "id": "0014dd1f",
   "metadata": {},
   "outputs": [
    {
     "data": {
      "text/plain": [
       "10626.0"
      ]
     },
     "execution_count": 14,
     "metadata": {},
     "output_type": "execute_result"
    }
   ],
   "source": []
  },
  {
   "cell_type": "code",
   "execution_count": 15,
   "id": "46b0af59",
   "metadata": {},
   "outputs": [
    {
     "data": {
      "text/plain": [
       "18"
      ]
     },
     "execution_count": 15,
     "metadata": {},
     "output_type": "execute_result"
    }
   ],
   "source": [
    "math.factorial(4)-math.factorial(3)"
   ]
  },
  {
   "cell_type": "code",
   "execution_count": 16,
   "id": "1913f1a4",
   "metadata": {},
   "outputs": [
    {
     "data": {
      "text/plain": [
       "7.0"
      ]
     },
     "execution_count": 16,
     "metadata": {},
     "output_type": "execute_result"
    }
   ],
   "source": [
    "counter(3,1)+counter(3,2)+counter(3,3)"
   ]
  },
  {
   "cell_type": "code",
   "execution_count": 20,
   "id": "3c9ca0d1",
   "metadata": {},
   "outputs": [
    {
     "data": {
      "text/plain": [
       "3510.0"
      ]
     },
     "execution_count": 20,
     "metadata": {},
     "output_type": "execute_result"
    }
   ],
   "source": [
    "counter(10,2)*counter(13,2)"
   ]
  },
  {
   "cell_type": "code",
   "execution_count": 19,
   "id": "4c6c9b0a",
   "metadata": {},
   "outputs": [
    {
     "data": {
      "text/plain": [
       "130.0"
      ]
     },
     "execution_count": 19,
     "metadata": {},
     "output_type": "execute_result"
    }
   ],
   "source": [
    "counter(23,2)-123\n"
   ]
  },
  {
   "cell_type": "code",
   "execution_count": 21,
   "id": "a9a5ca8c",
   "metadata": {},
   "outputs": [
    {
     "data": {
      "text/plain": [
       "24"
      ]
     },
     "execution_count": 21,
     "metadata": {},
     "output_type": "execute_result"
    }
   ],
   "source": [
    "p(4,4)"
   ]
  },
  {
   "cell_type": "code",
   "execution_count": 22,
   "id": "db1126a0",
   "metadata": {},
   "outputs": [
    {
     "data": {
      "text/plain": [
       "15.0"
      ]
     },
     "execution_count": 22,
     "metadata": {},
     "output_type": "execute_result"
    }
   ],
   "source": [
    "counter(4,1)+counter(4,2)+counter(4,3)+counter(4,4)"
   ]
  },
  {
   "cell_type": "code",
   "execution_count": 23,
   "id": "c704064f",
   "metadata": {},
   "outputs": [
    {
     "data": {
      "text/plain": [
       "12"
      ]
     },
     "execution_count": 23,
     "metadata": {},
     "output_type": "execute_result"
    }
   ],
   "source": [
    "p(4,2)"
   ]
  },
  {
   "cell_type": "code",
   "execution_count": null,
   "id": "5a121339",
   "metadata": {},
   "outputs": [],
   "source": []
  }
 ],
 "metadata": {
  "kernelspec": {
   "display_name": "Python 3 (ipykernel)",
   "language": "python",
   "name": "python3"
  },
  "language_info": {
   "codemirror_mode": {
    "name": "ipython",
    "version": 3
   },
   "file_extension": ".py",
   "mimetype": "text/x-python",
   "name": "python",
   "nbconvert_exporter": "python",
   "pygments_lexer": "ipython3",
   "version": "3.9.7"
  }
 },
 "nbformat": 4,
 "nbformat_minor": 5
}
