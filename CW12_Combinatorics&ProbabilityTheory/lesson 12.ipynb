{
 "cells": [
  {
   "cell_type": "code",
   "execution_count": 1,
   "id": "46c9eb4e",
   "metadata": {},
   "outputs": [],
   "source": [
    "import math "
   ]
  },
  {
   "cell_type": "code",
   "execution_count": null,
   "id": "bf225985",
   "metadata": {},
   "outputs": [],
   "source": [
    "#перестановка\n",
    "permutation = math.factorial(n)"
   ]
  },
  {
   "cell_type": "code",
   "execution_count": null,
   "id": "4df1336a",
   "metadata": {},
   "outputs": [],
   "source": []
  },
  {
   "cell_type": "code",
   "execution_count": 2,
   "id": "72e8fabe",
   "metadata": {},
   "outputs": [],
   "source": [
    "# функция сочетания:\n",
    "def counter (n,m):\n",
    "    C = math.factorial(n)/(math.factorial(n-m)*math.factorial(m))\n",
    "    return C"
   ]
  },
  {
   "cell_type": "code",
   "execution_count": 4,
   "id": "5572ce3c",
   "metadata": {},
   "outputs": [
    {
     "data": {
      "text/plain": [
       "1.0"
      ]
     },
     "execution_count": 4,
     "metadata": {},
     "output_type": "execute_result"
    }
   ],
   "source": [
    "counter(7,0)"
   ]
  },
  {
   "cell_type": "code",
   "execution_count": 5,
   "id": "d2ef973d",
   "metadata": {},
   "outputs": [],
   "source": [
    "# функция размещение вариант 1:\n",
    "def decomposition (n, m):\n",
    "    k = 1\n",
    "    for i in range (n-m+1, n+1):\n",
    "        k *= i\n",
    "    return k"
   ]
  },
  {
   "cell_type": "code",
   "execution_count": 6,
   "id": "98ca80c2",
   "metadata": {},
   "outputs": [
    {
     "data": {
      "text/plain": [
       "6"
      ]
     },
     "execution_count": 6,
     "metadata": {},
     "output_type": "execute_result"
    }
   ],
   "source": [
    "decomposition(3,3)"
   ]
  },
  {
   "cell_type": "code",
   "execution_count": 11,
   "id": "622b153e",
   "metadata": {},
   "outputs": [],
   "source": [
    "# функция размещения вариант 2:\n",
    "\n",
    "def decompositin2(n,m):\n",
    "    return counter (n,m) * math.factorial(m)\n",
    "    "
   ]
  },
  {
   "cell_type": "code",
   "execution_count": 13,
   "id": "86568749",
   "metadata": {},
   "outputs": [
    {
     "data": {
      "text/plain": [
       "6.0"
      ]
     },
     "execution_count": 13,
     "metadata": {},
     "output_type": "execute_result"
    }
   ],
   "source": [
    "decompositin2(3,3)"
   ]
  },
  {
   "cell_type": "code",
   "execution_count": null,
   "id": "3872998f",
   "metadata": {},
   "outputs": [],
   "source": [
    "# задачи"
   ]
  },
  {
   "cell_type": "code",
   "execution_count": null,
   "id": "ba17c8c9",
   "metadata": {},
   "outputs": [],
   "source": [
    "# №1 в ящике 15 деталей .сколько способов можно взять 4 детали?\n",
    "# функция сочетания,так как у нас нет никаких упорядочений:\n",
    "def counter (n,m):\n",
    "    C = math.factorial(n)/(math.factorial(n-m)*math.factorial(m))\n",
    "    return C\n"
   ]
  },
  {
   "cell_type": "code",
   "execution_count": 14,
   "id": "9c6e3697",
   "metadata": {},
   "outputs": [
    {
     "data": {
      "text/plain": [
       "1365.0"
      ]
     },
     "execution_count": 14,
     "metadata": {},
     "output_type": "execute_result"
    }
   ],
   "source": [
    "counter(15,4)"
   ]
  },
  {
   "cell_type": "code",
   "execution_count": 15,
   "id": "08e490ec",
   "metadata": {},
   "outputs": [
    {
     "data": {
      "text/plain": [
       "120"
      ]
     },
     "execution_count": 15,
     "metadata": {},
     "output_type": "execute_result"
    }
   ],
   "source": [
    "# № 2 сколькими способами можно рассадить 5 человек? (перестановка)\n",
    "\n",
    "#учавствуют только перестановки здесь\n",
    "permutation = math.factorial(5)\n",
    "permutation"
   ]
  },
  {
   "cell_type": "code",
   "execution_count": 16,
   "id": "ea7ea0b5",
   "metadata": {},
   "outputs": [
    {
     "data": {
      "text/plain": [
       "506.0"
      ]
     },
     "execution_count": 16,
     "metadata": {},
     "output_type": "execute_result"
    }
   ],
   "source": [
    "# № 3 в студенческой группе 23 человека. Солькими способами можно выбрать старосту и заместителя? \n",
    "# это рамещение,так как есть порядок,нужно конкретно старосту и заместителя зафиксировать и выбрать\n",
    "\n",
    "def decompositin2(n,m):\n",
    "    return counter (n,m) * math.factorial(m)\n",
    "\n",
    "\n",
    "decompositin2(23,2)"
   ]
  },
  {
   "cell_type": "code",
   "execution_count": 17,
   "id": "a7ef915a",
   "metadata": {},
   "outputs": [
    {
     "data": {
      "text/plain": [
       "24"
      ]
     },
     "execution_count": 17,
     "metadata": {},
     "output_type": "execute_result"
    }
   ],
   "source": [
    "# № 4 сколько четырехзначных чисел можно составить из 4-х карточек с цифрами 0,5,7,9? (перестановка)\n",
    "# считаем от 4 чисел сколько \n",
    "permutation = math.factorial(4)\n",
    "permutation"
   ]
  },
  {
   "cell_type": "code",
   "execution_count": 19,
   "id": "b064334c",
   "metadata": {},
   "outputs": [
    {
     "data": {
      "text/plain": [
       "6"
      ]
     },
     "execution_count": 19,
     "metadata": {},
     "output_type": "execute_result"
    }
   ],
   "source": [
    "#считаем от 3 чисел сколько,так как у нас есть ноль и это может быть трехзначное число\n",
    "permutation2 = math.factorial(3)\n",
    "permutation2"
   ]
  },
  {
   "cell_type": "code",
   "execution_count": 20,
   "id": "a39e894f",
   "metadata": {},
   "outputs": [
    {
     "data": {
      "text/plain": [
       "18"
      ]
     },
     "execution_count": 20,
     "metadata": {},
     "output_type": "execute_result"
    }
   ],
   "source": [
    "# вычитаем из 1-го 2-ое (24-6=18). Нам надо найти все комбинации,кроме тех,где ноль на первом месте,иначе это трехзначное число будет\n",
    "24-6"
   ]
  },
  {
   "cell_type": "code",
   "execution_count": 25,
   "id": "d2574de4",
   "metadata": {},
   "outputs": [],
   "source": [
    "# № 5 сколькими способами можно выбрать хотя бы один фрукт из трех?(можно выбрать 1,2 или 3)\n",
    "# будет сочетание\n",
    "def counter (n,m):\n",
    "    C = math.factorial(n)/(math.factorial(n-m)*math.factorial(m))\n",
    "    return C"
   ]
  },
  {
   "cell_type": "code",
   "execution_count": 27,
   "id": "5001bd41",
   "metadata": {},
   "outputs": [
    {
     "data": {
      "text/plain": [
       "7.0"
      ]
     },
     "execution_count": 27,
     "metadata": {},
     "output_type": "execute_result"
    }
   ],
   "source": [
    "counter(3,1) + counter(3,2) +counter(3,3)"
   ]
  },
  {
   "cell_type": "code",
   "execution_count": 28,
   "id": "51371f10",
   "metadata": {},
   "outputs": [
    {
     "data": {
      "text/plain": [
       "123.0"
      ]
     },
     "execution_count": 28,
     "metadata": {},
     "output_type": "execute_result"
    }
   ],
   "source": [
    "# № 6 студенческая группа,23 человека. 13 девушек,10 юношей. сколькими способами можно выбрать двух человек одного пола?\n",
    "# неупорядоченно,(сочетание)\n",
    "def counter (n,m):\n",
    "    C = math.factorial(n)/(math.factorial(n-m)*math.factorial(m))\n",
    "    return C\n",
    "\n",
    "counter(13,2) + counter(10,2)"
   ]
  },
  {
   "cell_type": "code",
   "execution_count": 30,
   "id": "2528469f",
   "metadata": {},
   "outputs": [
    {
     "data": {
      "text/plain": [
       "130"
      ]
     },
     "execution_count": 30,
     "metadata": {},
     "output_type": "execute_result"
    }
   ],
   "source": [
    "# № 7 студенческая группа,23 человека. 13 девушек,10 юношей. Сколькими способами можно составить пару из юноши и девушки\n",
    "\n",
    "10*13"
   ]
  },
  {
   "cell_type": "code",
   "execution_count": 31,
   "id": "f42803e1",
   "metadata": {},
   "outputs": [
    {
     "data": {
      "text/plain": [
       "3510.0"
      ]
     },
     "execution_count": 31,
     "metadata": {},
     "output_type": "execute_result"
    }
   ],
   "source": [
    "# № 7 студенческая группа,23 человека. 13 девушек,10 юношей. сколькими способами можно выбрать двух девушек и двух юношей для участия в квн\n",
    "\n",
    "counter(13,2) * counter(10,2)\n",
    "\n"
   ]
  },
  {
   "cell_type": "code",
   "execution_count": 32,
   "id": "9b96feea",
   "metadata": {},
   "outputs": [
    {
     "data": {
      "text/plain": [
       "24"
      ]
     },
     "execution_count": 32,
     "metadata": {},
     "output_type": "execute_result"
    }
   ],
   "source": [
    "# № 8 у васи дома 4 кота.\n",
    "# 1. сколькими способами можно рассадить котов по углам комнаты? (перестановка)\n",
    "\n",
    "permutation3 = math.factorial(4)\n",
    "permutation3"
   ]
  },
  {
   "cell_type": "code",
   "execution_count": 35,
   "id": "206613cb",
   "metadata": {},
   "outputs": [
    {
     "data": {
      "text/plain": [
       "15.0"
      ]
     },
     "execution_count": 35,
     "metadata": {},
     "output_type": "execute_result"
    }
   ],
   "source": [
    "# № 8 у васи дома 4 кота.\n",
    "#2. сколькими способами можно отпустить котов гулять? (сочетание)\n",
    "\n",
    "def counter (n,m):\n",
    "    C = math.factorial(n)/(math.factorial(n-m)*math.factorial(m))\n",
    "    return C\n",
    "counter(4,1) + counter(4,2) + counter(4,3) + counter(4,4)"
   ]
  },
  {
   "cell_type": "code",
   "execution_count": 37,
   "id": "978076db",
   "metadata": {},
   "outputs": [
    {
     "data": {
      "text/plain": [
       "12.0"
      ]
     },
     "execution_count": 37,
     "metadata": {},
     "output_type": "execute_result"
    }
   ],
   "source": [
    "# № 8 у васи дома 4 кота.\n",
    "#3. сколькими способами вася может взять на руки двух котов (одного в левую руку,второго в правую). \n",
    "# две руки они задают порядок ,4 кота,значит( размещение)\n",
    "\n",
    "def decompositin(n,m):\n",
    "    return counter (n,m) * math.factorial(m)\n",
    "    \n",
    "\n",
    "decompositin(4,2)"
   ]
  },
  {
   "cell_type": "code",
   "execution_count": null,
   "id": "97b6600a",
   "metadata": {},
   "outputs": [],
   "source": [
    "# ДОМАШНЕЕ ЗАДАНИЕ \n",
    "# задача перестановка с повторением общий случай!"
   ]
  },
  {
   "cell_type": "code",
   "execution_count": 50,
   "id": "f22f862b",
   "metadata": {},
   "outputs": [
    {
     "name": "stdout",
     "output_type": "stream",
     "text": [
      "вероятность,что шар будет белым: 0.5\n"
     ]
    }
   ],
   "source": [
    "# ЗАДАЧА 1. В урне находится 15 белых, 5 красных и 10 чёрных шаров. \n",
    "# Наугад извлекается 1 шар, найти вероятность того, что он будет: а) белым, б) красным, в) чёрным.\n",
    "\n",
    "# действие 1.возможные варианты из всех шаров мы вытащим только белые( 15 белых)\n",
    "# P(A)=m/n, где n общее число исходов,m - элементарные исходы,благоприятствующие\n",
    "print(\"вероятность,что шар будет белым:\", 15/30)"
   ]
  },
  {
   "cell_type": "code",
   "execution_count": 52,
   "id": "34cfefd1",
   "metadata": {},
   "outputs": [
    {
     "name": "stdout",
     "output_type": "stream",
     "text": [
      "вероятность,что шар будет красным: 0.17\n"
     ]
    }
   ],
   "source": [
    "# действие 2 (5 красных шаров):\n",
    "print(\"вероятность,что шар будет красным:\", round((5/30),2))"
   ]
  },
  {
   "cell_type": "code",
   "execution_count": 53,
   "id": "48bc4901",
   "metadata": {},
   "outputs": [
    {
     "name": "stdout",
     "output_type": "stream",
     "text": [
      "вероятность,что шар будет черным: 0.33\n"
     ]
    }
   ],
   "source": [
    "# действие 3 (10 черных шаров):\n",
    "print(\"вероятность,что шар будет черным:\", round((10/30),2))"
   ]
  },
  {
   "cell_type": "code",
   "execution_count": 55,
   "id": "5309c1e5",
   "metadata": {},
   "outputs": [
    {
     "name": "stdout",
     "output_type": "stream",
     "text": [
      "вероятность холодилька без дефекта: 0.83\n"
     ]
    }
   ],
   "source": [
    "# ЗАДАЧА 2: В магазин поступило 30 холодильников, пять из которых имеют заводской дефект. \n",
    "#  Случайным образом выбирают один холодильник. Какова вероятность того, что он будет без дефекта?\n",
    "\n",
    "# 30 - 5 = 25: без дефекта холодильники\n",
    "# значит наша вероятность холодилька без дефекта следующая:\n",
    "print(\"вероятность холодилька без дефекта:\", round((25/30),2))"
   ]
  },
  {
   "cell_type": "code",
   "execution_count": 59,
   "id": "4595b4f9",
   "metadata": {},
   "outputs": [
    {
     "data": {
      "text/plain": [
       "100"
      ]
     },
     "execution_count": 59,
     "metadata": {},
     "output_type": "execute_result"
    }
   ],
   "source": [
    "# ЗАДАЧА 3:Набирая номер телефона, абонент забыл две последние цифры, \n",
    "# но помнит, что одна из них – ноль, а другая – нечётная. Найти вероятность того, что он наберёт правильный номер.\n",
    "# наши комбинации: 01,03,05,07,09,10,30,50,70,90 (всего n = 10), m = 2 (размещение с повторением)\n",
    "# События несовместны\n",
    "# A = n**m (10**2)\n",
    "A = 10**2\n",
    "A"
   ]
  },
  {
   "cell_type": "code",
   "execution_count": 72,
   "id": "d7226dc8",
   "metadata": {},
   "outputs": [
    {
     "name": "stdout",
     "output_type": "stream",
     "text": [
      "вероятность наберёт правильный номер: 0.1\n"
     ]
    }
   ],
   "source": [
    "# P(A)=m/n, где n общее число исходов,m - элементарные исходы,благоприятствующие\n",
    "# m = 10, верно?\n",
    "print(\"вероятность наберёт правильный номер:\",10/100)"
   ]
  },
  {
   "cell_type": "code",
   "execution_count": 71,
   "id": "1fdf58e9",
   "metadata": {},
   "outputs": [
    {
     "name": "stdout",
     "output_type": "stream",
     "text": [
      "вероятность,что выпадет 5 очков 0.11\n"
     ]
    }
   ],
   "source": [
    "# ЗАДАЧА 4 a):Найти вероятность того, что при бросании двух игральных костей в сумме выпадет:\n",
    "#    а) пять очков;\n",
    "# 1. общее количество исходов:\n",
    "# Ctotal = 6 * 6 = 36\n",
    "\n",
    "# наши благоприятные исходы:\n",
    "# (1,4),(4,1),(2,3),(3,2)\n",
    "# у нас 4 благоприятых исхода\n",
    "\n",
    "print(\"вероятность,что выпадет 5 очков\", round((4/36),2))"
   ]
  },
  {
   "cell_type": "code",
   "execution_count": 73,
   "id": "8f616f40",
   "metadata": {},
   "outputs": [
    {
     "name": "stdout",
     "output_type": "stream",
     "text": [
      "вероятность,что выпадет не более четырёх очков 0.17\n"
     ]
    }
   ],
   "source": [
    "# ЗАДАЧА 4 b):не более четырёх очков;\n",
    "# 1. общее количество исходов:\n",
    "# Ctotal = 6 * 6 = 36\n",
    "\n",
    "# наши благоприятные исходы:\n",
    "# 2 очка: (1,1)\n",
    "# 3 очка: (1,2),(2,1)\n",
    "# 4 очка: (2,2),(1,3),(3,1)\n",
    "# всего : 1+2+3 = 6\n",
    "\n",
    "print(\"вероятность,что выпадет не более четырёх очков\", round((6/36),2))"
   ]
  },
  {
   "cell_type": "code",
   "execution_count": 74,
   "id": "1e63cb1c",
   "metadata": {},
   "outputs": [
    {
     "name": "stdout",
     "output_type": "stream",
     "text": [
      "вероятность,что выпадет от 3 до 9 очков включительно 0.19\n"
     ]
    }
   ],
   "source": [
    "# ЗАДАЧА 4 C):от 3 до 9 очков включительно;(МЫ ПОЙДЕМ ОТ ОБРАТНОГО)\n",
    "# 1. общее количество исходов:\n",
    "# Ctotal = 6 * 6 = 36\n",
    "\n",
    "# наши благоприятные исходы ОТ ОБРАТНОГО СЧИТАЕМ ОТ 2,10,11,12:\n",
    "# 2 очка: (1,1)\n",
    "# 10 очков: (4,6),(6,4),(5,5)\n",
    "# 11 очков: (5,6),(6,5)\n",
    "# 12 очков :(6,6)\n",
    "# всего : 1+3+2+1 = 7\n",
    "print(\"вероятность,что выпадет от 3 до 9 очков включительно\", round((7/36),2))"
   ]
  },
  {
   "cell_type": "code",
   "execution_count": 118,
   "id": "766c8875",
   "metadata": {},
   "outputs": [],
   "source": [
    "# ПЕРЕСТАНОВКА С ПОВТОРЕНИЯМИ ЗАДАЧА\n",
    "\n",
    "def permutationWithRepeat (*args):\n",
    "    T = []\n",
    "    for i in range(len(args)):\n",
    "        T.append(args[i])\n",
    "        print(T)\n",
    "   "
   ]
  },
  {
   "cell_type": "code",
   "execution_count": 119,
   "id": "ea65b793",
   "metadata": {},
   "outputs": [
    {
     "name": "stdout",
     "output_type": "stream",
     "text": [
      "['оборона']\n"
     ]
    }
   ],
   "source": [
    "permutationWithRepeat(\"оборона\")"
   ]
  },
  {
   "cell_type": "code",
   "execution_count": 135,
   "id": "961cea40",
   "metadata": {},
   "outputs": [
    {
     "name": "stdout",
     "output_type": "stream",
     "text": [
      "{'о': 7, 'б': 2, 'р': 1, 'н': 2, 'с': 3, 'п': 1, 'т': 1, 'ь': 1}\n",
      "18\n"
     ]
    }
   ],
   "source": [
    "# теперь считаем количество \n",
    "# повторений символов в строке\n",
    "line = 'обороноспособность'\n",
    "# строку в список символов \n",
    "lst = list(line)\n",
    "from collections import Counter\n",
    "m = dict(Counter(lst))\n",
    "print(m)\n",
    "print(len(line))\n"
   ]
  },
  {
   "cell_type": "code",
   "execution_count": 138,
   "id": "5e48d55a",
   "metadata": {},
   "outputs": [
    {
     "data": {
      "text/plain": [
       "30487493836800.0"
      ]
     },
     "execution_count": 138,
     "metadata": {},
     "output_type": "execute_result"
    }
   ],
   "source": [
    "P = math.factorial(18)/math.factorial(7)*math.factorial(2)*math.factorial(2)*math.factorial(3)\n",
    "P"
   ]
  },
  {
   "cell_type": "code",
   "execution_count": 142,
   "id": "8fdb2b37",
   "metadata": {},
   "outputs": [
    {
     "name": "stdout",
     "output_type": "stream",
     "text": [
      "5\n"
     ]
    }
   ],
   "source": [
    "my_list = \"hello\"\n",
    "totalLetters = 0\n",
    "for i in my_list:\n",
    "    amount+=1\n",
    "print(amount)"
   ]
  },
  {
   "cell_type": "code",
   "execution_count": null,
   "id": "fbf84cea",
   "metadata": {},
   "outputs": [],
   "source": []
  },
  {
   "cell_type": "code",
   "execution_count": null,
   "id": "6d922cc1",
   "metadata": {},
   "outputs": [],
   "source": []
  }
 ],
 "metadata": {
  "kernelspec": {
   "display_name": "Python 3 (ipykernel)",
   "language": "python",
   "name": "python3"
  },
  "language_info": {
   "codemirror_mode": {
    "name": "ipython",
    "version": 3
   },
   "file_extension": ".py",
   "mimetype": "text/x-python",
   "name": "python",
   "nbconvert_exporter": "python",
   "pygments_lexer": "ipython3",
   "version": "3.9.7"
  }
 },
 "nbformat": 4,
 "nbformat_minor": 5
}
