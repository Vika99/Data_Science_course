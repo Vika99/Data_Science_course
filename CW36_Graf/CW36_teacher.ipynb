{
 "cells": [
  {
   "cell_type": "code",
   "execution_count": null,
   "id": "9d101f76",
   "metadata": {},
   "outputs": [],
   "source": []
  },
  {
   "cell_type": "code",
   "execution_count": 7,
   "id": "6619c4f0",
   "metadata": {},
   "outputs": [],
   "source": [
    "class Stack ():\n",
    "        \n",
    "    def __init__(self):\n",
    "        self.__body = []\n",
    "        self.__count = 0\n",
    "      \n",
    "    def push(self, a):\n",
    "        self.__body.append(a)\n",
    "        self.__count += 1\n",
    "        \n",
    "    def get_counts (self):\n",
    "        return self.__count\n",
    "    \n",
    "    \n",
    "    def pop(self):\n",
    "        if self.__count > 0:\n",
    "            self.__count -= 1\n",
    "            return self.__body.pop()\n",
    "        else:\n",
    "            return 'empty'\n",
    "        "
   ]
  },
  {
   "cell_type": "code",
   "execution_count": 8,
   "id": "f7ace64a",
   "metadata": {},
   "outputs": [],
   "source": [
    "class Queue ():\n",
    "        \n",
    "    def __init__(self):\n",
    "        self.__body = []\n",
    "        self.__count = 0\n",
    "      \n",
    "    def push(self, a):\n",
    "        self.__body.append(a)\n",
    "        self.__count += 1\n",
    "        \n",
    "    def get_counts (self):\n",
    "        return self.__count\n",
    "\n",
    "        \n",
    "    def pop(self):\n",
    "        if self.__count > 0:\n",
    "            self.__count -= 1\n",
    "            return self.__body.pop(0)\n",
    "        else:\n",
    "            return 'empty'\n",
    "        \n",
    "        "
   ]
  },
  {
   "cell_type": "code",
   "execution_count": 9,
   "id": "ceabd1d9",
   "metadata": {},
   "outputs": [],
   "source": [
    "st = Queue()"
   ]
  },
  {
   "cell_type": "code",
   "execution_count": 10,
   "id": "2bc070ae",
   "metadata": {},
   "outputs": [],
   "source": [
    "for i in range(10):\n",
    "    st.push(i)"
   ]
  },
  {
   "cell_type": "code",
   "execution_count": 11,
   "id": "c7da9943",
   "metadata": {},
   "outputs": [],
   "source": [
    "st.push('string')"
   ]
  },
  {
   "cell_type": "code",
   "execution_count": 12,
   "id": "61431514",
   "metadata": {},
   "outputs": [
    {
     "data": {
      "text/plain": [
       "11"
      ]
     },
     "execution_count": 12,
     "metadata": {},
     "output_type": "execute_result"
    }
   ],
   "source": [
    "st.get_counts()"
   ]
  },
  {
   "cell_type": "code",
   "execution_count": 13,
   "id": "54a7b17f",
   "metadata": {},
   "outputs": [
    {
     "name": "stdout",
     "output_type": "stream",
     "text": [
      "0\n",
      "1\n",
      "2\n",
      "3\n",
      "4\n",
      "5\n",
      "6\n",
      "7\n",
      "8\n",
      "9\n",
      "string\n"
     ]
    }
   ],
   "source": [
    "for i in range(st.get_counts()):\n",
    "    print(st.pop())"
   ]
  },
  {
   "cell_type": "code",
   "execution_count": null,
   "id": "da4bf48a",
   "metadata": {},
   "outputs": [],
   "source": []
  },
  {
   "cell_type": "markdown",
   "id": "1614a496",
   "metadata": {},
   "source": [
    "# ЗАПИСЬ ГРАФОВ И АЛГОРИТМЫ"
   ]
  },
  {
   "cell_type": "code",
   "execution_count": 1,
   "id": "9f166492",
   "metadata": {},
   "outputs": [],
   "source": [
    "\n",
    "import numpy as np"
   ]
  },
  {
   "attachments": {
    "image.png": {
     "image/png": "[encoded data removed]"
    }
   },
   "cell_type": "markdown",
   "id": "cd1677d1",
   "metadata": {},
   "source": [
    "![image.png](attachment:image.png)"
   ]
  },
  {
   "cell_type": "code",
   "execution_count": 35,
   "id": "bc48f04b",
   "metadata": {},
   "outputs": [
    {
     "data": {
      "text/plain": [
       "[2, 1, 3, None, 2, 0, None, None, None, 3, 3]"
      ]
     },
     "execution_count": 35,
     "metadata": {},
     "output_type": "execute_result"
    }
   ],
   "source": [
    "D"
   ]
  },
  {
   "cell_type": "code",
   "execution_count": 91,
   "id": "0eaf6077",
   "metadata": {},
   "outputs": [
    {
     "data": {
      "text/plain": [
       "[5, 1, 0, 4, 2, 3, 8, 9, 10, 6, 7]"
      ]
     },
     "execution_count": 91,
     "metadata": {},
     "output_type": "execute_result"
    }
   ],
   "source": [
    "trace"
   ]
  },
  {
   "cell_type": "code",
   "execution_count": 2,
   "id": "2c46e4fa",
   "metadata": {},
   "outputs": [],
   "source": [
    "gr = np.zeros((11,11))"
   ]
  },
  {
   "cell_type": "code",
   "execution_count": 4,
   "id": "2f8c6cf7",
   "metadata": {},
   "outputs": [],
   "source": [
    "gr[0,1] = gr[1,0] = gr[0,2] = gr[2,0] = gr[0,3] = gr[3,0] = 1\n"
   ]
  },
  {
   "cell_type": "code",
   "execution_count": 3,
   "id": "4c0987fd",
   "metadata": {},
   "outputs": [],
   "source": [
    "s = [0,1,2,3,4,5,6,7,8,9,10]\n",
    "#список смежности,а ниже присваиваем список смежных вершин,с которыми граничит нулевая,первая и т.д."
   ]
  },
  {
   "cell_type": "code",
   "execution_count": 5,
   "id": "438d69ab",
   "metadata": {},
   "outputs": [],
   "source": [
    "s[0] = [1,2,3]\n",
    "s[1] = [0,4,5]\n",
    "s[2] = [0]\n",
    "s[3] = [0,6,7]\n",
    "s[4] = [1,8,9,10]\n",
    "s[5] = [1]\n",
    "s[6] = [3]\n",
    "s[7] = [3]\n",
    "s[8] = [4]\n",
    "s[9] = [4]\n",
    "s[10] = [4]\n"
   ]
  },
  {
   "cell_type": "code",
   "execution_count": 6,
   "id": "2a826a1d",
   "metadata": {},
   "outputs": [
    {
     "data": {
      "text/plain": [
       "[[1, 2, 3],\n",
       " [0, 4, 5],\n",
       " [0],\n",
       " [0, 6, 7],\n",
       " [1, 8, 9, 10],\n",
       " [1],\n",
       " [3],\n",
       " [3],\n",
       " [4],\n",
       " [4],\n",
       " [4]]"
      ]
     },
     "execution_count": 6,
     "metadata": {},
     "output_type": "execute_result"
    }
   ],
   "source": [
    "s"
   ]
  },
  {
   "cell_type": "code",
   "execution_count": 74,
   "id": "4ffe6e97",
   "metadata": {},
   "outputs": [
    {
     "data": {
      "text/plain": [
       "[1, 8, 9, 10]"
      ]
     },
     "execution_count": 74,
     "metadata": {},
     "output_type": "execute_result"
    }
   ],
   "source": [
    "s[4]"
   ]
  },
  {
   "cell_type": "markdown",
   "id": "0a8601be",
   "metadata": {},
   "source": [
    "# Алгоритм поиск в ширину"
   ]
  },
  {
   "cell_type": "markdown",
   "id": "adc1ca9b",
   "metadata": {},
   "source": [
    "данный алгоритм позволяет найти кратчайший путь(наименьшее число ребер) из одной вершины невзвешенного(ориентир. или неориентир.)графа до всех\n",
    "остальных вершин"
   ]
  },
  {
   "cell_type": "code",
   "execution_count": 17,
   "id": "905feb2f",
   "metadata": {},
   "outputs": [],
   "source": [
    "# Поиск в ширину\n",
    "start = 0\n",
    "D = [None] * 11\n",
    "# D- это массив где мы храним расстояния,пока заполняем их None, чтобы мы понимали просмотрели ли мы вершину\n",
    "D[start] = 0\n",
    "Q = Queue()\n",
    "Q.push(start)\n",
    "trace = [start]\n",
    "#trace  - этот массив нужен чтобы фиксировать порядок входа графа\n",
    "while Q.get_counts()>0:\n",
    "#пока в очереди есть элемент.достаем и смотрим его список смежностей s[u]\n",
    "    u = Q.pop()\n",
    "    for v in s[u]: \n",
    "        if D[v] is None: \n",
    "# if D[v] is None: если мы такую вершину еще не рассматривали, то расстояние D[u] до определ.первой вершины и добавляем единичку\n",
    "            D[v] = D[u] + 1 \n",
    "            Q.push(v)\n",
    "#Q.push(v) - эту очередь пушим для дальнейшей обработки.\n",
    "            trace.append(v)\n",
    "#trace.append(v) - запоминаем в массив для нас"
   ]
  },
  {
   "cell_type": "code",
   "execution_count": 18,
   "id": "4a1793ec",
   "metadata": {},
   "outputs": [
    {
     "data": {
      "text/plain": [
       "[0, 1, 1, 1, 2, 2, 2, 2, 3, 3, 3]"
      ]
     },
     "execution_count": 18,
     "metadata": {},
     "output_type": "execute_result"
    }
   ],
   "source": [
    "D"
   ]
  },
  {
   "cell_type": "code",
   "execution_count": 19,
   "id": "6a29a0e3",
   "metadata": {},
   "outputs": [
    {
     "data": {
      "text/plain": [
       "[0, 1, 2, 3, 4, 5, 6, 7, 8, 9, 10]"
      ]
     },
     "execution_count": 19,
     "metadata": {},
     "output_type": "execute_result"
    }
   ],
   "source": [
    "trace"
   ]
  },
  {
   "cell_type": "code",
   "execution_count": null,
   "id": "90989823",
   "metadata": {},
   "outputs": [],
   "source": []
  }
 ],
 "metadata": {
  "kernelspec": {
   "display_name": "Python 3 (ipykernel)",
   "language": "python",
   "name": "python3"
  },
  "language_info": {
   "codemirror_mode": {
    "name": "ipython",
    "version": 3
   },
   "file_extension": ".py",
   "mimetype": "text/x-python",
   "name": "python",
   "nbconvert_exporter": "python",
   "pygments_lexer": "ipython3",
   "version": "3.9.7"
  }
 },
 "nbformat": 4,
 "nbformat_minor": 5
}
