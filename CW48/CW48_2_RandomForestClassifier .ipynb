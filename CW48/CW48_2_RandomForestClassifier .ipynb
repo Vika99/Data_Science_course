{
 "cells": [
  {
   "cell_type": "code",
   "execution_count": 3,
   "id": "6509a737",
   "metadata": {},
   "outputs": [],
   "source": [
    "from sklearn.model_selection import GridSearchCV\n",
    "import pandas as pd\n",
    "import numpy as np\n",
    "import pipes_2 as pp\n",
    "from sklearn.ensemble import RandomForestClassifier     ### замена класса,меняем на другое дальше"
   ]
  },
  {
   "cell_type": "code",
   "execution_count": 4,
   "id": "5359d412",
   "metadata": {},
   "outputs": [],
   "source": [
    "df = pd.read_csv('air_train.csv')\n",
    "df = df.drop(['Unnamed: 0','id'], axis = 1)\n",
    "df = pp.myPipe.transform(df)\n",
    "X = df.drop(['satisfaction'], axis = 1)\n",
    "y = df.satisfaction\n",
    "\n",
    "t = pd.read_csv('air_test.csv')\n",
    "t = t.drop(['Unnamed: 0','id'], axis = 1)\n",
    "t = pp.myPipe.transform(t)\n",
    "X_t = t.drop(['satisfaction'], axis = 1)\n",
    "y_t = t.satisfaction"
   ]
  },
  {
   "cell_type": "code",
   "execution_count": 5,
   "id": "4898f400",
   "metadata": {},
   "outputs": [],
   "source": [
    "rf_clf = RandomForestClassifier()    ### замена класса"
   ]
  },
  {
   "cell_type": "code",
   "execution_count": 6,
   "id": "b4536858",
   "metadata": {},
   "outputs": [],
   "source": [
    "paramgrid = { 'n_estimators' :[10,20,30,40,100], 'max_depth':[5,15,19], 'criterion':['gini', 'entropy']}   ## замена параметров"
   ]
  },
  {
   "cell_type": "code",
   "execution_count": 7,
   "id": "876a2235",
   "metadata": {},
   "outputs": [],
   "source": [
    "GS_cv = GridSearchCV(rf_clf,param_grid = paramgrid, cv = 3,scoring = 'f1')\n",
    "# cv - количество разбиений"
   ]
  },
  {
   "cell_type": "code",
   "execution_count": 8,
   "id": "0953a2b2",
   "metadata": {},
   "outputs": [
    {
     "data": {
      "text/plain": [
       "GridSearchCV(cv=3, estimator=RandomForestClassifier(),\n",
       "             param_grid={'criterion': ['gini', 'entropy'],\n",
       "                         'max_depth': [5, 15, 19],\n",
       "                         'n_estimators': [10, 20, 30, 40, 100]},\n",
       "             scoring='f1')"
      ]
     },
     "execution_count": 8,
     "metadata": {},
     "output_type": "execute_result"
    }
   ],
   "source": [
    "GS_cv.fit(X,y)"
   ]
  },
  {
   "cell_type": "code",
   "execution_count": 9,
   "id": "c91fccdc",
   "metadata": {},
   "outputs": [
    {
     "data": {
      "text/plain": [
       "{'criterion': 'entropy', 'max_depth': 19, 'n_estimators': 100}"
      ]
     },
     "execution_count": 9,
     "metadata": {},
     "output_type": "execute_result"
    }
   ],
   "source": [
    "GS_cv.best_params_"
   ]
  },
  {
   "cell_type": "code",
   "execution_count": 10,
   "id": "77c6fad7",
   "metadata": {},
   "outputs": [],
   "source": [
    "best_gs_tree=GS_cv.best_estimator_"
   ]
  },
  {
   "cell_type": "code",
   "execution_count": 11,
   "id": "ba4fe0da",
   "metadata": {},
   "outputs": [
    {
     "data": {
      "text/plain": [
       "0.9627733292269788"
      ]
     },
     "execution_count": 11,
     "metadata": {},
     "output_type": "execute_result"
    }
   ],
   "source": [
    "best_gs_tree.score(X_t,y_t)"
   ]
  },
  {
   "cell_type": "code",
   "execution_count": 12,
   "id": "c06d4b70",
   "metadata": {},
   "outputs": [
    {
     "data": {
      "text/plain": [
       "0.9907991992608561"
      ]
     },
     "execution_count": 12,
     "metadata": {},
     "output_type": "execute_result"
    }
   ],
   "source": [
    "best_gs_tree.score(X,y)"
   ]
  },
  {
   "cell_type": "code",
   "execution_count": 13,
   "id": "058db0e8",
   "metadata": {},
   "outputs": [],
   "source": [
    "from sklearn.metrics import f1_score\n",
    "pred = best_gs_tree.predict(X_t)\n",
    "f1_score = (y_t,pred)"
   ]
  },
  {
   "cell_type": "code",
   "execution_count": 14,
   "id": "bdc1921a",
   "metadata": {},
   "outputs": [],
   "source": [
    "from sklearn.model_selection import cross_val_score"
   ]
  },
  {
   "cell_type": "code",
   "execution_count": 15,
   "id": "fffc1d04",
   "metadata": {},
   "outputs": [],
   "source": [
    "cs = cross_val_score(best_gs_tree,X,y, cv= 5, scoring = 'f1')"
   ]
  },
  {
   "cell_type": "code",
   "execution_count": 16,
   "id": "7466323f",
   "metadata": {},
   "outputs": [
    {
     "data": {
      "text/plain": [
       "array([0.95330586, 0.95601735, 0.95335852, 0.95624115, 0.9571493 ])"
      ]
     },
     "execution_count": 16,
     "metadata": {},
     "output_type": "execute_result"
    }
   ],
   "source": [
    "cs"
   ]
  },
  {
   "cell_type": "code",
   "execution_count": 17,
   "id": "5ea3f7dc",
   "metadata": {},
   "outputs": [
    {
     "data": {
      "text/plain": [
       "0.9552144361382833"
      ]
     },
     "execution_count": 17,
     "metadata": {},
     "output_type": "execute_result"
    }
   ],
   "source": [
    "cs.mean()"
   ]
  },
  {
   "cell_type": "code",
   "execution_count": null,
   "id": "833d33db",
   "metadata": {},
   "outputs": [],
   "source": []
  }
 ],
 "metadata": {
  "kernelspec": {
   "display_name": "Python 3 (ipykernel)",
   "language": "python",
   "name": "python3"
  },
  "language_info": {
   "codemirror_mode": {
    "name": "ipython",
    "version": 3
   },
   "file_extension": ".py",
   "mimetype": "text/x-python",
   "name": "python",
   "nbconvert_exporter": "python",
   "pygments_lexer": "ipython3",
   "version": "3.9.7"
  }
 },
 "nbformat": 4,
 "nbformat_minor": 5
}
