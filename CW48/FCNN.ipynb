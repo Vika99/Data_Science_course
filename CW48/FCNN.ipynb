{
 "cells": [
  {
   "cell_type": "code",
   "execution_count": 2,
   "id": "e0061676",
   "metadata": {},
   "outputs": [],
   "source": [
    "import pandas as pd\n",
    "import numpy as np\n",
    "import pipes2 as pp\n",
    "\n",
    "df = pd.read_csv('air_train.csv')\n",
    "df = df.drop(['Unnamed: 0','id'], axis = 1)\n",
    "\n",
    "df = pp.myPipe.transform(df)\n",
    "\n",
    "X = df.drop(['satisfaction'], axis = 1)\n",
    "y = df.satisfaction\n",
    "\n",
    "X = X - X.mean()\n",
    "X = X/X.std()\n"
   ]
  },
  {
   "cell_type": "code",
   "execution_count": 3,
   "id": "44983778",
   "metadata": {},
   "outputs": [],
   "source": [
    "df = pd.read_csv('air_test.csv')\n",
    "df = df.drop(['Unnamed: 0','id'], axis = 1)\n",
    "\n",
    "df = pp.myPipe.transform(df)\n",
    "\n",
    "X_t = df.drop(['satisfaction'], axis = 1)\n",
    "y_t = df.satisfaction\n",
    "\n",
    "X_t = X_t - X_t.mean()\n",
    "X_t = X_t/X_t.std()\n"
   ]
  },
  {
   "cell_type": "code",
   "execution_count": 4,
   "id": "480ce6a7",
   "metadata": {},
   "outputs": [
    {
     "data": {
      "text/plain": [
       "22"
      ]
     },
     "execution_count": 4,
     "metadata": {},
     "output_type": "execute_result"
    }
   ],
   "source": [
    "X.shape[1]"
   ]
  },
  {
   "cell_type": "code",
   "execution_count": 6,
   "id": "95aec428",
   "metadata": {},
   "outputs": [],
   "source": [
    "import tensorflow as tf\n",
    "from tensorflow.keras import models\n",
    "from tensorflow.keras import layers\n",
    "\n",
    "model = models.Sequential()\n",
    "\n",
    "model.add(layers.Dense(256, activation=\"relu\", input_shape = (X.shape[1],),)) \n",
    "#model.add(layers.Dropout(0.4))\n",
    "\n",
    "model.add(layers.Dense(256, activation=\"relu\"))\n",
    "model.add(layers.Dense(256, activation=\"relu\"))\n",
    "\n",
    "model.add(layers.Dense(1, activation=\"sigmoid\"))\n",
    "\n",
    "# Компиляция модели\n",
    "model.compile(optimizer=tf.keras.optimizers.Adam(1e-3),\n",
    "              loss=\"binary_crossentropy\",\n",
    "              metrics=[\"accuracy\"])"
   ]
  },
  {
   "cell_type": "code",
   "execution_count": null,
   "id": "27b95c7f",
   "metadata": {},
   "outputs": [
    {
     "name": "stdout",
     "output_type": "stream",
     "text": [
      "Epoch 1/150\n",
      "203/203 [==============================] - 2s 7ms/step - loss: 0.1937 - accuracy: 0.9207 - val_loss: 0.1314 - val_accuracy: 0.9448\n",
      "Epoch 2/150\n",
      "203/203 [==============================] - 1s 6ms/step - loss: 0.1179 - accuracy: 0.9508 - val_loss: 0.1092 - val_accuracy: 0.9556\n",
      "Epoch 3/150\n",
      "203/203 [==============================] - 1s 6ms/step - loss: 0.1016 - accuracy: 0.9575 - val_loss: 0.1018 - val_accuracy: 0.9559\n",
      "Epoch 4/150\n",
      "203/203 [==============================] - 1s 6ms/step - loss: 0.0949 - accuracy: 0.9590 - val_loss: 0.0998 - val_accuracy: 0.9556\n",
      "Epoch 5/150\n",
      "203/203 [==============================] - 1s 6ms/step - loss: 0.0885 - accuracy: 0.9619 - val_loss: 0.0958 - val_accuracy: 0.9597\n",
      "Epoch 6/150\n",
      "203/203 [==============================] - 1s 6ms/step - loss: 0.0842 - accuracy: 0.9636 - val_loss: 0.0966 - val_accuracy: 0.9587\n",
      "Epoch 7/150\n",
      "203/203 [==============================] - 1s 6ms/step - loss: 0.0816 - accuracy: 0.9644 - val_loss: 0.0928 - val_accuracy: 0.9593\n",
      "Epoch 8/150\n",
      "203/203 [==============================] - 1s 6ms/step - loss: 0.0786 - accuracy: 0.9660 - val_loss: 0.0921 - val_accuracy: 0.9624\n",
      "Epoch 9/150\n",
      "203/203 [==============================] - 1s 6ms/step - loss: 0.0767 - accuracy: 0.9663 - val_loss: 0.0920 - val_accuracy: 0.9613\n",
      "Epoch 10/150\n",
      "203/203 [==============================] - 1s 7ms/step - loss: 0.0745 - accuracy: 0.9668 - val_loss: 0.0913 - val_accuracy: 0.9612\n",
      "Epoch 11/150\n",
      "203/203 [==============================] - 1s 7ms/step - loss: 0.0727 - accuracy: 0.9682 - val_loss: 0.0920 - val_accuracy: 0.9621\n",
      "Epoch 12/150\n",
      "203/203 [==============================] - 1s 6ms/step - loss: 0.0701 - accuracy: 0.9692 - val_loss: 0.0921 - val_accuracy: 0.9614\n",
      "Epoch 13/150\n",
      "203/203 [==============================] - 1s 6ms/step - loss: 0.0693 - accuracy: 0.9694 - val_loss: 0.0943 - val_accuracy: 0.9607\n",
      "Epoch 14/150\n",
      "203/203 [==============================] - 1s 7ms/step - loss: 0.0679 - accuracy: 0.9698 - val_loss: 0.0935 - val_accuracy: 0.9608\n",
      "Epoch 15/150\n",
      "203/203 [==============================] - 1s 6ms/step - loss: 0.0675 - accuracy: 0.9703 - val_loss: 0.0921 - val_accuracy: 0.9633\n",
      "Epoch 16/150\n",
      "203/203 [==============================] - 1s 6ms/step - loss: 0.0642 - accuracy: 0.9718 - val_loss: 0.0954 - val_accuracy: 0.9622\n",
      "Epoch 17/150\n",
      "203/203 [==============================] - 1s 6ms/step - loss: 0.0622 - accuracy: 0.9723 - val_loss: 0.0968 - val_accuracy: 0.9611\n",
      "Epoch 18/150\n",
      "203/203 [==============================] - 1s 6ms/step - loss: 0.0614 - accuracy: 0.9728 - val_loss: 0.0980 - val_accuracy: 0.9617\n",
      "Epoch 19/150\n",
      "203/203 [==============================] - 1s 7ms/step - loss: 0.0607 - accuracy: 0.9730 - val_loss: 0.0997 - val_accuracy: 0.9625\n",
      "Epoch 20/150\n",
      "203/203 [==============================] - 1s 6ms/step - loss: 0.0578 - accuracy: 0.9739 - val_loss: 0.1006 - val_accuracy: 0.9613\n",
      "Epoch 21/150\n",
      "203/203 [==============================] - 1s 6ms/step - loss: 0.0553 - accuracy: 0.9751 - val_loss: 0.1099 - val_accuracy: 0.9599\n",
      "Epoch 22/150\n",
      "203/203 [==============================] - 1s 6ms/step - loss: 0.0611 - accuracy: 0.9731 - val_loss: 0.1016 - val_accuracy: 0.9599\n",
      "Epoch 23/150\n",
      "203/203 [==============================] - 1s 6ms/step - loss: 0.0525 - accuracy: 0.9769 - val_loss: 0.1050 - val_accuracy: 0.9603\n",
      "Epoch 24/150\n",
      "203/203 [==============================] - 1s 6ms/step - loss: 0.0507 - accuracy: 0.9772 - val_loss: 0.1073 - val_accuracy: 0.9613\n",
      "Epoch 25/150\n",
      "203/203 [==============================] - 1s 6ms/step - loss: 0.0506 - accuracy: 0.9769 - val_loss: 0.1085 - val_accuracy: 0.9598\n",
      "Epoch 26/150\n",
      "203/203 [==============================] - 1s 7ms/step - loss: 0.0485 - accuracy: 0.9784 - val_loss: 0.1153 - val_accuracy: 0.9626\n",
      "Epoch 27/150\n",
      "203/203 [==============================] - 1s 6ms/step - loss: 0.0473 - accuracy: 0.9791 - val_loss: 0.1191 - val_accuracy: 0.9605\n",
      "Epoch 28/150\n",
      "203/203 [==============================] - 1s 6ms/step - loss: 0.0468 - accuracy: 0.9788 - val_loss: 0.1174 - val_accuracy: 0.9576\n",
      "Epoch 29/150\n",
      "203/203 [==============================] - 1s 6ms/step - loss: 0.0451 - accuracy: 0.9802 - val_loss: 0.1222 - val_accuracy: 0.9591\n",
      "Epoch 30/150\n",
      "203/203 [==============================] - 1s 7ms/step - loss: 0.0428 - accuracy: 0.9810 - val_loss: 0.1263 - val_accuracy: 0.9585\n",
      "Epoch 31/150\n",
      "203/203 [==============================] - 1s 6ms/step - loss: 0.0420 - accuracy: 0.9816 - val_loss: 0.1339 - val_accuracy: 0.9573\n",
      "Epoch 32/150\n",
      "203/203 [==============================] - 1s 7ms/step - loss: 0.0415 - accuracy: 0.9817 - val_loss: 0.1318 - val_accuracy: 0.9583\n",
      "Epoch 33/150\n",
      "203/203 [==============================] - 1s 7ms/step - loss: 0.0381 - accuracy: 0.9832 - val_loss: 0.1451 - val_accuracy: 0.9593\n",
      "Epoch 34/150\n",
      "203/203 [==============================] - 1s 6ms/step - loss: 0.0363 - accuracy: 0.9841 - val_loss: 0.1405 - val_accuracy: 0.9584\n",
      "Epoch 35/150\n",
      "203/203 [==============================] - 1s 6ms/step - loss: 0.0341 - accuracy: 0.9850 - val_loss: 0.1468 - val_accuracy: 0.9592\n",
      "Epoch 36/150\n",
      "203/203 [==============================] - 1s 6ms/step - loss: 0.0388 - accuracy: 0.9838 - val_loss: 0.1495 - val_accuracy: 0.9545\n",
      "Epoch 37/150\n",
      "203/203 [==============================] - 1s 6ms/step - loss: 0.0324 - accuracy: 0.9856 - val_loss: 0.1467 - val_accuracy: 0.9587\n",
      "Epoch 38/150\n",
      "203/203 [==============================] - 1s 6ms/step - loss: 0.0301 - accuracy: 0.9870 - val_loss: 0.1613 - val_accuracy: 0.9569\n",
      "Epoch 39/150\n",
      "203/203 [==============================] - 1s 6ms/step - loss: 0.0300 - accuracy: 0.9869 - val_loss: 0.1635 - val_accuracy: 0.9569\n",
      "Epoch 40/150\n",
      "203/203 [==============================] - 1s 6ms/step - loss: 0.0284 - accuracy: 0.9881 - val_loss: 0.1701 - val_accuracy: 0.9574\n",
      "Epoch 41/150\n",
      "203/203 [==============================] - 1s 6ms/step - loss: 0.0266 - accuracy: 0.9889 - val_loss: 0.1703 - val_accuracy: 0.9563\n",
      "Epoch 42/150\n",
      "203/203 [==============================] - 1s 7ms/step - loss: 0.0263 - accuracy: 0.9889 - val_loss: 0.1749 - val_accuracy: 0.9572\n",
      "Epoch 43/150\n",
      "203/203 [==============================] - 1s 6ms/step - loss: 0.0292 - accuracy: 0.9878 - val_loss: 0.1808 - val_accuracy: 0.9568\n",
      "Epoch 44/150\n",
      "203/203 [==============================] - 1s 6ms/step - loss: 0.0260 - accuracy: 0.9893 - val_loss: 0.1724 - val_accuracy: 0.9573\n",
      "Epoch 45/150\n",
      "203/203 [==============================] - 1s 6ms/step - loss: 0.0226 - accuracy: 0.9908 - val_loss: 0.1827 - val_accuracy: 0.9569\n",
      "Epoch 46/150\n",
      "203/203 [==============================] - 1s 6ms/step - loss: 0.0196 - accuracy: 0.9921 - val_loss: 0.2022 - val_accuracy: 0.9578\n",
      "Epoch 47/150\n",
      "203/203 [==============================] - 1s 6ms/step - loss: 0.0183 - accuracy: 0.9928 - val_loss: 0.1997 - val_accuracy: 0.9560\n",
      "Epoch 48/150\n",
      "203/203 [==============================] - 1s 6ms/step - loss: 0.0209 - accuracy: 0.9917 - val_loss: 0.2257 - val_accuracy: 0.9562\n",
      "Epoch 49/150\n",
      "203/203 [==============================] - 1s 6ms/step - loss: 0.0279 - accuracy: 0.9896 - val_loss: 0.1997 - val_accuracy: 0.9568\n",
      "Epoch 50/150\n",
      " 57/203 [=======>......................] - ETA: 0s - loss: 0.0224 - accuracy: 0.9916"
     ]
    }
   ],
   "source": [
    "history = model.fit(X, y, validation_data = (X_t, y_t), \n",
    "                    epochs=150, batch_size=512)"
   ]
  },
  {
   "cell_type": "code",
   "execution_count": 44,
   "id": "64ef489c",
   "metadata": {},
   "outputs": [],
   "source": [
    "from sklearn.metrics import confusion_matrix, f1_score"
   ]
  },
  {
   "cell_type": "code",
   "execution_count": 41,
   "id": "caa8466b",
   "metadata": {},
   "outputs": [
    {
     "name": "stdout",
     "output_type": "stream",
     "text": [
      "812/812 [==============================] - 1s 724us/step\n"
     ]
    }
   ],
   "source": [
    "pr = model.predict(X_t)>0.5"
   ]
  },
  {
   "cell_type": "code",
   "execution_count": 45,
   "id": "7adc2678",
   "metadata": {},
   "outputs": [
    {
     "data": {
      "text/plain": [
       "0.9563199928612859"
      ]
     },
     "execution_count": 45,
     "metadata": {},
     "output_type": "execute_result"
    }
   ],
   "source": [
    "f1_score (y_t, pr)"
   ]
  },
  {
   "cell_type": "code",
   "execution_count": 43,
   "id": "17c07d5f",
   "metadata": {},
   "outputs": [
    {
     "data": {
      "text/plain": [
       "array([[14280,   293],\n",
       "       [  686, 10717]])"
      ]
     },
     "execution_count": 43,
     "metadata": {},
     "output_type": "execute_result"
    }
   ],
   "source": [
    "confusion_matrix(y_t, pr)"
   ]
  },
  {
   "cell_type": "code",
   "execution_count": null,
   "id": "7c047e9e",
   "metadata": {},
   "outputs": [],
   "source": [
    "# кросс-валидация"
   ]
  },
  {
   "cell_type": "code",
   "execution_count": 64,
   "id": "5096a5f8",
   "metadata": {},
   "outputs": [],
   "source": [
    "from sklearn.model_selection import StratifiedKFold"
   ]
  },
  {
   "cell_type": "code",
   "execution_count": 65,
   "id": "2a133269",
   "metadata": {},
   "outputs": [],
   "source": [
    "def create_model():\n",
    "    model = models.Sequential()\n",
    "\n",
    "    model.add(layers.Dense(256, activation=\"relu\", input_shape = (X.shape[1],), \n",
    "                       kernel_regularizer=tf.keras.regularizers.l2(0.002),)) \n",
    "                       #kernel_regularizer=tf.keras.regularizers.l2(0.002)))\n",
    "        #model.add(layers.Dropout(0.4))\n",
    "\n",
    "    model.add(layers.Dense(256, activation=\"relu\", kernel_regularizer=tf.keras.regularizers.l2(0.002)))\n",
    "    model.add(layers.Dense(256, activation=\"relu\"))\n",
    "\n",
    "    model.add(layers.Dense(1, activation=\"sigmoid\"))\n",
    "\n",
    "    # Компиляция модели\n",
    "    model.compile(optimizer=tf.keras.optimizers.Adam(1e-3),\n",
    "              loss=\"binary_crossentropy\",\n",
    "              metrics=[\"accuracy\"])\n",
    "    \n",
    "    return model"
   ]
  },
  {
   "cell_type": "code",
   "execution_count": 89,
   "id": "5e57590e",
   "metadata": {},
   "outputs": [],
   "source": [
    "def train_and_evaluate__model(model, data_train, labels_train, data_test, labels_test):\n",
    "    \n",
    "    history = model.fit(data_train, labels_train, validation_data = (data_test, labels_test), \n",
    "                        epochs=50, batch_size=512, verbose = 0)\n",
    "    \n",
    "    return history.history['val_accuracy'][-1]\n"
   ]
  },
  {
   "cell_type": "code",
   "execution_count": 90,
   "id": "8ae8d50d",
   "metadata": {},
   "outputs": [
    {
     "name": "stdout",
     "output_type": "stream",
     "text": [
      "split  1 val_acc : 0.9624657034873962\n",
      "split  2 val_acc : 0.9595303535461426\n",
      "split  3 val_acc : 0.9575573801994324\n",
      "split  4 val_acc : 0.9636206030845642\n",
      "split  5 val_acc : 0.963715136051178\n"
     ]
    }
   ],
   "source": [
    "kFold = StratifiedKFold(n_splits=5)\n",
    "i = 0\n",
    "for train, test in kFold.split(X, y):\n",
    "    model = None\n",
    "    model = create_model()\n",
    "    i += 1\n",
    "    v_a = train_and_evaluate__model(model, X[train], y[train], X[test], y[test])\n",
    "    print ('split ',i, 'val_acc :', v_a)"
   ]
  },
  {
   "cell_type": "code",
   "execution_count": 80,
   "id": "15200ee9",
   "metadata": {},
   "outputs": [],
   "source": [
    "X = np.asarray(X)"
   ]
  },
  {
   "cell_type": "code",
   "execution_count": 83,
   "id": "e95d70da",
   "metadata": {},
   "outputs": [
    {
     "data": {
      "text/plain": [
       "20579     1\n",
       "20581     1\n",
       "20584     1\n",
       "20585     1\n",
       "20590     1\n",
       "         ..\n",
       "103899    0\n",
       "103900    1\n",
       "103901    0\n",
       "103902    0\n",
       "103903    0\n",
       "Name: satisfaction, Length: 83123, dtype: int64"
      ]
     },
     "execution_count": 83,
     "metadata": {},
     "output_type": "execute_result"
    }
   ],
   "source": [
    "[train]"
   ]
  },
  {
   "cell_type": "code",
   "execution_count": null,
   "id": "c58ec23b",
   "metadata": {},
   "outputs": [],
   "source": []
  },
  {
   "cell_type": "code",
   "execution_count": null,
   "id": "ace2d07b",
   "metadata": {},
   "outputs": [],
   "source": []
  }
 ],
 "metadata": {
  "kernelspec": {
   "display_name": "Python 3 (ipykernel)",
   "language": "python",
   "name": "python3"
  },
  "language_info": {
   "codemirror_mode": {
    "name": "ipython",
    "version": 3
   },
   "file_extension": ".py",
   "mimetype": "text/x-python",
   "name": "python",
   "nbconvert_exporter": "python",
   "pygments_lexer": "ipython3",
   "version": "3.9.12"
  }
 },
 "nbformat": 4,
 "nbformat_minor": 5
}
