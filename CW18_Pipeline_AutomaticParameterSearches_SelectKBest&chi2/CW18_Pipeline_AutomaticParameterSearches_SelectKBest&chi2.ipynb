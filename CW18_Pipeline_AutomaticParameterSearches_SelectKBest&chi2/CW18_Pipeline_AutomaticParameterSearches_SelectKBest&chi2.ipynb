{
 "cells": [
  {
   "cell_type": "code",
   "execution_count": 20,
   "id": "b292e5df",
   "metadata": {},
   "outputs": [],
   "source": [
    "import pandas as pd\n",
    "from matplotlib import pyplot as plt\n",
    "import seaborn as sns\n",
    "%matplotlib inline\n",
    "import numpy as np\n",
    "from sklearn.metrics import confusion_matrix, precision_score, \\\n",
    "              recall_score, f1_score, precision_recall_curve, roc_curve, roc_auc_score, \\\n",
    "              auc, mean_squared_error\n",
    "import math"
   ]
  },
  {
   "cell_type": "markdown",
   "id": "b9decf6d",
   "metadata": {},
   "source": [
    "# sickit-learn"
   ]
  },
  {
   "cell_type": "markdown",
   "id": "68a5769a",
   "metadata": {},
   "source": [
    "## Fitting and predicting: estimator basics"
   ]
  },
  {
   "cell_type": "code",
   "execution_count": 21,
   "id": "3929ca1d",
   "metadata": {},
   "outputs": [
    {
     "data": {
      "text/plain": [
       "RandomForestClassifier(random_state=0)"
      ]
     },
     "execution_count": 21,
     "metadata": {},
     "output_type": "execute_result"
    }
   ],
   "source": [
    "#импортируем случайный лес,строит несколько деревьев\n",
    "#Classifier пишем,когда решаем задачу классификации,набор не является непрервыной величиной и \n",
    "#Regressor если величина прерывная\n",
    "\n",
    "from sklearn.ensemble import RandomForestClassifier\n",
    "clf = RandomForestClassifier(random_state=0)\n",
    "# random_state=0 писать можно любое число,нам нужен random_state для инициализации,и главное по пути работы не менять его.\n",
    "# передаем список из двух списков\n",
    "X = [[ 1,  2,  3],  # 2 samples, 3 features\n",
    "     [11, 12, 13]]\n",
    "#для двух примеров 2 метки\n",
    "y = [0, 1]  # classes of each sample\n",
    "clf.fit(X, y)\n"
   ]
  },
  {
   "cell_type": "code",
   "execution_count": 22,
   "id": "d66afeae",
   "metadata": {},
   "outputs": [
    {
     "data": {
      "text/plain": [
       "array([0, 1])"
      ]
     },
     "execution_count": 22,
     "metadata": {},
     "output_type": "execute_result"
    }
   ],
   "source": [
    "# получение прогнозов\n",
    "clf.predict(X)  # predict classes of the training data\n"
   ]
  },
  {
   "cell_type": "code",
   "execution_count": 23,
   "id": "71a5d923",
   "metadata": {},
   "outputs": [
    {
     "data": {
      "text/plain": [
       "array([0, 1])"
      ]
     },
     "execution_count": 23,
     "metadata": {},
     "output_type": "execute_result"
    }
   ],
   "source": [
    "#если одномерный массив оборачиаем в двое скобок\n",
    "#если список оборачиваем в скобочки clf.predict([X])\n",
    "#если X был массив,то тогда X = np.array([15,20,3]) ->  X =  X.reshape(1,-1) -> clf.predict(X)\n",
    "clf.predict([[4, 5, 6], [14, 15, 16]])  # predict classes of new data"
   ]
  },
  {
   "cell_type": "markdown",
   "id": "b4be2327",
   "metadata": {},
   "source": [
    "## Transformers and pre-processors"
   ]
  },
  {
   "cell_type": "code",
   "execution_count": 24,
   "id": "b0239a8a",
   "metadata": {},
   "outputs": [
    {
     "data": {
      "text/plain": [
       "StandardScaler()"
      ]
     },
     "execution_count": 24,
     "metadata": {},
     "output_type": "execute_result"
    }
   ],
   "source": [
    "from sklearn.preprocessing import StandardScaler\n",
    "X = [[0, 15],\n",
    "     [1, -10]]\n",
    "# scale data according to computed scaling values\n",
    "# считает среднее значение по каждому столбцу матрицы,вычитает среднее значение и все делит на стандартное отклонение.\n",
    "st_scaler = StandardScaler()\n",
    "st_scaler.fit(X)\n"
   ]
  },
  {
   "cell_type": "code",
   "execution_count": 27,
   "id": "80d898f7",
   "metadata": {},
   "outputs": [
    {
     "data": {
      "text/plain": [
       "array([[-1.,  1.],\n",
       "       [ 1., -1.]])"
      ]
     },
     "execution_count": 27,
     "metadata": {},
     "output_type": "execute_result"
    }
   ],
   "source": [
    "st_scaler.transform([[0.5, 6]])\n",
    "Xs = st_scaler.fit_transform(X)\n",
    "Xs"
   ]
  },
  {
   "cell_type": "markdown",
   "id": "18374ca0",
   "metadata": {},
   "source": [
    "## Pipelines: chaining pre-processors and estimators    "
   ]
  },
  {
   "cell_type": "code",
   "execution_count": 29,
   "id": "addd2dcc",
   "metadata": {},
   "outputs": [],
   "source": [
    "\n",
    "from sklearn.preprocessing import StandardScaler\n",
    "from sklearn.linear_model import LogisticRegression\n",
    "from sklearn.pipeline import make_pipeline\n",
    "from sklearn.datasets import load_iris\n",
    "from sklearn.model_selection import train_test_split\n",
    "from sklearn.metrics import accuracy_score\n",
    "\n",
    "# create a pipeline object\n",
    "#объединение несколько преобразований над данными в один объект и выполнение\n",
    "# МЫ ПОЛУЧИЛИ ТОЧНОСТЬ ПРОГНОЗА НА ТЕСТОВОМ МНОЖЕСТВЕ\n",
    "pipe = make_pipeline(\n",
    "     StandardScaler(),\n",
    "     LogisticRegression())\n",
    "\n"
   ]
  },
  {
   "cell_type": "code",
   "execution_count": 30,
   "id": "e3f57abb",
   "metadata": {},
   "outputs": [
    {
     "data": {
      "text/plain": [
       "0.9736842105263158"
      ]
     },
     "execution_count": 30,
     "metadata": {},
     "output_type": "execute_result"
    }
   ],
   "source": [
    "# load the iris dataset and split it into train and test sets\n",
    "# СРАЗУ ВОЗВРАЩАЕТ X, y :return_X_y=True?,ИНАЧЕ ВЕРНЕТ СЛОВАРЬ..\n",
    "X, y = load_iris(return_X_y=True)\n",
    "X_train, X_test, y_train, y_test = train_test_split(X, y, random_state=0)\n",
    "\n",
    "# fit the whole pipeline\n",
    "pipe.fit(X_train, y_train)\n",
    "\n",
    "# we can now use it like any other estimator\n",
    "accuracy_score(pipe.predict(X_test), y_test)\n"
   ]
  },
  {
   "cell_type": "code",
   "execution_count": null,
   "id": "85d6d1b5",
   "metadata": {},
   "outputs": [],
   "source": []
  },
  {
   "cell_type": "markdown",
   "id": "f4f697b7",
   "metadata": {},
   "source": [
    "## Model evaluation"
   ]
  },
  {
   "cell_type": "code",
   "execution_count": 31,
   "id": "0b264952",
   "metadata": {},
   "outputs": [],
   "source": [
    "from sklearn.datasets import make_regression\n",
    "from sklearn.linear_model import LinearRegression\n",
    "from sklearn.model_selection import cross_validate\n",
    "\n",
    "X, y = make_regression(n_samples=1000, random_state=0)\n",
    "lr = LinearRegression()\n",
    "\n",
    "#result = cross_validate(lr, X, y)  # defaults to 5-fold CV\n",
    "#result  # r_squared score is high because dataset is easy\n"
   ]
  },
  {
   "cell_type": "code",
   "execution_count": 32,
   "id": "95fe0150",
   "metadata": {},
   "outputs": [
    {
     "data": {
      "text/plain": [
       "{'fit_time': array([0.07202029, 0.00800943, 0.0080328 , 0.00796342, 0.00800753]),\n",
       " 'score_time': array([0.0080018, 0.       , 0.       , 0.       , 0.       ]),\n",
       " 'test_score': array([1., 1., 1., 1., 1.])}"
      ]
     },
     "execution_count": 32,
     "metadata": {},
     "output_type": "execute_result"
    }
   ],
   "source": [
    "#Передается регрессор,который еще не обучен и данные X, y\n",
    "#функция разобьет наши данные на 5 независимых множеств(4 для обучения,5-е для проверки)\n",
    "#и затем общие оценки нам выведутся\n",
    "#смысл - помогает застраховаться и понять обучили,переубоучили ли мы модель\n",
    "result = cross_validate(lr, X, y)  # defaults to 5-fold CV\n",
    "result  # r_squared score is high because dataset is easy"
   ]
  },
  {
   "cell_type": "markdown",
   "id": "56c677de",
   "metadata": {},
   "source": [
    "## Automatic parameter searches"
   ]
  },
  {
   "cell_type": "code",
   "execution_count": 33,
   "id": "04771e0d",
   "metadata": {},
   "outputs": [],
   "source": [
    "from sklearn.datasets import fetch_california_housing\n",
    "from sklearn.ensemble import RandomForestRegressor\n",
    "from sklearn.model_selection import RandomizedSearchCV\n",
    "from sklearn.model_selection import train_test_split\n",
    "from scipy.stats import randint\n"
   ]
  },
  {
   "cell_type": "code",
   "execution_count": 34,
   "id": "49002d74",
   "metadata": {},
   "outputs": [],
   "source": [
    "# СРЕДИ ПАР ВЫБИРАЕТ ЛУЧШИЕ ПАРАМЕТРЫ\n",
    "X, y = fetch_california_housing(return_X_y=True)\n",
    "X_train, X_test, y_train, y_test = train_test_split(X, y, random_state=0)\n",
    "\n"
   ]
  },
  {
   "cell_type": "code",
   "execution_count": 35,
   "id": "e6a61eb7",
   "metadata": {},
   "outputs": [
    {
     "data": {
      "text/plain": [
       "(20640, 8)"
      ]
     },
     "execution_count": 35,
     "metadata": {},
     "output_type": "execute_result"
    }
   ],
   "source": [
    "X.shape"
   ]
  },
  {
   "cell_type": "code",
   "execution_count": 36,
   "id": "fc6f646c",
   "metadata": {},
   "outputs": [],
   "source": [
    "#ЗАДАЕМ 5 ПАРАМЕТРОВ \n",
    "# define the parameter space that will be searched over\n",
    "param_distributions = {'n_estimators': randint(1, 5),\n",
    "                        'max_depth': randint(5, 10)}\n"
   ]
  },
  {
   "cell_type": "code",
   "execution_count": 38,
   "id": "96083f0f",
   "metadata": {},
   "outputs": [
    {
     "data": {
      "text/plain": [
       "{'max_depth': 9, 'n_estimators': 4}"
      ]
     },
     "execution_count": 38,
     "metadata": {},
     "output_type": "execute_result"
    }
   ],
   "source": [
    "# now create a searchCV object and fit it to the data\n",
    "search = RandomizedSearchCV(estimator=RandomForestRegressor(random_state=0),\n",
    "                             n_iter=5,\n",
    "                             param_distributions=param_distributions,\n",
    "                             random_state=0)\n",
    "\n",
    "search.fit(X_train, y_train)\n",
    "search.best_params_"
   ]
  },
  {
   "cell_type": "code",
   "execution_count": 40,
   "id": "513e3332",
   "metadata": {},
   "outputs": [
    {
     "data": {
      "text/plain": [
       "0.735363411343253"
      ]
     },
     "execution_count": 40,
     "metadata": {},
     "output_type": "execute_result"
    }
   ],
   "source": [
    "# the search object now acts like a normal random forest estimator\n",
    "# with max_depth=9 and n_estimators=4\n",
    "search.score(X_test, y_test)"
   ]
  },
  {
   "cell_type": "code",
   "execution_count": null,
   "id": "ecc898bb",
   "metadata": {},
   "outputs": [],
   "source": []
  },
  {
   "cell_type": "markdown",
   "id": "103723e7",
   "metadata": {},
   "source": [
    "# Деревья решений"
   ]
  },
  {
   "cell_type": "markdown",
   "id": "67e804da",
   "metadata": {},
   "source": [
    "### Классификация "
   ]
  },
  {
   "cell_type": "code",
   "execution_count": 43,
   "id": "f0a06edd",
   "metadata": {},
   "outputs": [
    {
     "data": {
      "text/plain": [
       "DecisionTreeClassifier(max_depth=2, random_state=42)"
      ]
     },
     "execution_count": 43,
     "metadata": {},
     "output_type": "execute_result"
    }
   ],
   "source": [
    "from sklearn.datasets import load_iris\n",
    "from sklearn.tree import DecisionTreeClassifier\n",
    "\n",
    "iris = load_iris()\n",
    "X = iris.data[:, 2:] # petal length and width\n",
    "y = iris.target\n",
    "\n",
    "tree_clf = DecisionTreeClassifier(max_depth=2, random_state=42)\n",
    "tree_clf.fit(X, y)"
   ]
  },
  {
   "cell_type": "code",
   "execution_count": 44,
   "id": "ceb83c06",
   "metadata": {},
   "outputs": [],
   "source": [
    "from sklearn.tree import export_graphviz"
   ]
  },
  {
   "cell_type": "code",
   "execution_count": 45,
   "id": "6e187be0",
   "metadata": {},
   "outputs": [],
   "source": [
    "export_graphviz (tree_clf, out_file = 'iris_tree.dot', \n",
    "                 feature_names = iris.feature_names[2:], \n",
    "                 class_names = iris.target_names,\n",
    "                 rounded = True,\n",
    "                 filled = True)"
   ]
  },
  {
   "cell_type": "code",
   "execution_count": 46,
   "id": "899a0895",
   "metadata": {},
   "outputs": [],
   "source": [
    "!dot -Tpng iris_tree.dot -o iris_tree.png"
   ]
  },
  {
   "cell_type": "code",
   "execution_count": 47,
   "id": "b7843e5c",
   "metadata": {},
   "outputs": [
    {
     "data": {
      "text/plain": [
       "array([[0.        , 0.90740741, 0.09259259]])"
      ]
     },
     "execution_count": 47,
     "metadata": {},
     "output_type": "execute_result"
    }
   ],
   "source": [
    "# Оценка вероятностей\n",
    "tree_clf.predict_proba([[5, 1.5]])"
   ]
  },
  {
   "cell_type": "code",
   "execution_count": null,
   "id": "d4cf29f2",
   "metadata": {},
   "outputs": [],
   "source": []
  },
  {
   "cell_type": "markdown",
   "id": "f47f4818",
   "metadata": {},
   "source": [
    "### Регрессия"
   ]
  },
  {
   "cell_type": "code",
   "execution_count": 48,
   "id": "ed2ca799",
   "metadata": {},
   "outputs": [],
   "source": [
    "# Quadratic training set + noise\n",
    "np.random.seed(42)\n",
    "m = 200\n",
    "X = np.random.rand(m, 1)\n",
    "y = 4 * (X - 0.5) ** 2\n",
    "y = y + np.random.randn(m, 1) / 10"
   ]
  },
  {
   "cell_type": "code",
   "execution_count": 49,
   "id": "d51d3a93",
   "metadata": {},
   "outputs": [
    {
     "data": {
      "text/plain": [
       "DecisionTreeRegressor(max_depth=2, random_state=42)"
      ]
     },
     "execution_count": 49,
     "metadata": {},
     "output_type": "execute_result"
    }
   ],
   "source": [
    "from sklearn.tree import DecisionTreeRegressor\n",
    "\n",
    "tree_reg = DecisionTreeRegressor(max_depth=2, random_state=42)\n",
    "tree_reg.fit(X, y)"
   ]
  },
  {
   "cell_type": "code",
   "execution_count": 50,
   "id": "86e1d574",
   "metadata": {},
   "outputs": [],
   "source": [
    "export_graphviz (tree_reg, out_file = 'Reg_tree.dot',\n",
    "                 rounded = True,\n",
    "                 filled = True)"
   ]
  },
  {
   "cell_type": "code",
   "execution_count": 51,
   "id": "30cda54a",
   "metadata": {},
   "outputs": [],
   "source": [
    "!dot -Tpng Reg_tree.dot -o Reg_tree.png"
   ]
  },
  {
   "cell_type": "code",
   "execution_count": null,
   "id": "e8dea4c8",
   "metadata": {},
   "outputs": [],
   "source": []
  },
  {
   "cell_type": "code",
   "execution_count": null,
   "id": "fe041720",
   "metadata": {},
   "outputs": [],
   "source": []
  },
  {
   "cell_type": "code",
   "execution_count": null,
   "id": "00b7e45d",
   "metadata": {},
   "outputs": [],
   "source": []
  },
  {
   "cell_type": "code",
   "execution_count": null,
   "id": "abe0aa29",
   "metadata": {},
   "outputs": [],
   "source": []
  },
  {
   "cell_type": "code",
   "execution_count": null,
   "id": "a5464e1c",
   "metadata": {},
   "outputs": [],
   "source": []
  },
  {
   "cell_type": "code",
   "execution_count": null,
   "id": "d531a944",
   "metadata": {},
   "outputs": [],
   "source": []
  },
  {
   "cell_type": "code",
   "execution_count": null,
   "id": "11efab59",
   "metadata": {},
   "outputs": [],
   "source": []
  },
  {
   "cell_type": "markdown",
   "id": "c1a5b939",
   "metadata": {},
   "source": [
    "## Отбор признаков"
   ]
  },
  {
   "cell_type": "code",
   "execution_count": 69,
   "id": "84a6746d",
   "metadata": {},
   "outputs": [],
   "source": [
    "from sklearn.feature_selection import SelectKBest,chi2\n",
    "#специальные методики,оценивают, какие признаки хорошо влияют на зависимые переменные,какие плохо и т.д.(хи квадрат используем)\n",
    "#нужно передать количество признаков,которое мы хотим отобрать и критерий по которому будем отбирать(наш хи-квадрат)"
   ]
  },
  {
   "cell_type": "code",
   "execution_count": 70,
   "id": "998b3765",
   "metadata": {},
   "outputs": [],
   "source": [
    "df = pd.read_csv('churn-bigml-80.csv')\n",
    "test_df = pd.read_csv('churn-bigml-20.csv')"
   ]
  },
  {
   "cell_type": "code",
   "execution_count": 71,
   "id": "d0c52ef3",
   "metadata": {},
   "outputs": [],
   "source": [
    "df['International plan'] = df['International plan'].map({'No':0, 'Yes':1})\n",
    "df['Voice mail plan'] = df['Voice mail plan'].map({'No':0, 'Yes':1})\n",
    "X = df.drop(['State', 'Churn'], axis = 1)\n",
    "Y = df['Churn']\n",
    "\n",
    "test_df['International plan'] = test_df['International plan'].map({'No':0, 'Yes':1})\n",
    "test_df['Voice mail plan'] = test_df['Voice mail plan'].map({'No':0, 'Yes':1})\n",
    "X_test = test_df.drop(['State', 'Churn'], axis = 1)\n",
    "Y_test = test_df['Churn']\n",
    "\n"
   ]
  },
  {
   "cell_type": "markdown",
   "id": "91aa0c51",
   "metadata": {},
   "source": [
    "### Отбор с помошью chi функции"
   ]
  },
  {
   "cell_type": "code",
   "execution_count": 72,
   "id": "ee47d356",
   "metadata": {},
   "outputs": [
    {
     "data": {
      "text/plain": [
       "SelectKBest(k=9, score_func=<function chi2 at 0x000001E02D85A0D0>)"
      ]
     },
     "execution_count": 72,
     "metadata": {},
     "output_type": "execute_result"
    }
   ],
   "source": [
    "#k - количество признаков\n",
    "Selector = SelectKBest(chi2, k=9)\n",
    "Selector.fit(X, Y)"
   ]
  },
  {
   "cell_type": "code",
   "execution_count": 73,
   "id": "ad2a683d",
   "metadata": {},
   "outputs": [
    {
     "data": {
      "text/plain": [
       "array([False, False,  True,  True,  True,  True, False,  True,  True,\n",
       "       False, False,  True, False, False, False,  True, False,  True])"
      ]
     },
     "execution_count": 73,
     "metadata": {},
     "output_type": "execute_result"
    }
   ],
   "source": [
    "#покажет признаки,которые он выбирает,что подходит нам и что нет,проверит степень влияния\n",
    "Selector.get_support()"
   ]
  },
  {
   "cell_type": "code",
   "execution_count": 74,
   "id": "5eaa9cb7",
   "metadata": {},
   "outputs": [
    {
     "data": {
      "text/plain": [
       "['International plan',\n",
       " 'Voice mail plan',\n",
       " 'Number vmail messages',\n",
       " 'Total day minutes',\n",
       " 'Total day charge',\n",
       " 'Total eve minutes',\n",
       " 'Total night minutes',\n",
       " 'Total intl calls',\n",
       " 'Customer service calls']"
      ]
     },
     "execution_count": 74,
     "metadata": {},
     "output_type": "execute_result"
    }
   ],
   "source": [
    "X.columns[Selector.get_support()].tolist()"
   ]
  },
  {
   "cell_type": "code",
   "execution_count": 75,
   "id": "656c3124",
   "metadata": {},
   "outputs": [],
   "source": [
    "drop_cols = X.columns[~Selector.get_support()].tolist()"
   ]
  },
  {
   "cell_type": "code",
   "execution_count": 76,
   "id": "dacf6798",
   "metadata": {},
   "outputs": [
    {
     "data": {
      "text/plain": [
       "['Account length',\n",
       " 'Area code',\n",
       " 'Total day calls',\n",
       " 'Total eve calls',\n",
       " 'Total eve charge',\n",
       " 'Total night calls',\n",
       " 'Total night charge',\n",
       " 'Total intl minutes',\n",
       " 'Total intl charge']"
      ]
     },
     "execution_count": 76,
     "metadata": {},
     "output_type": "execute_result"
    }
   ],
   "source": [
    "drop_cols"
   ]
  },
  {
   "cell_type": "code",
   "execution_count": 77,
   "id": "d59a60c5",
   "metadata": {},
   "outputs": [],
   "source": [
    "X_train = X.drop(drop_cols, axis = 1)"
   ]
  },
  {
   "cell_type": "code",
   "execution_count": 81,
   "id": "3d4cad50",
   "metadata": {},
   "outputs": [
    {
     "data": {
      "text/html": [
       "<div>\n",
       "<style scoped>\n",
       "    .dataframe tbody tr th:only-of-type {\n",
       "        vertical-align: middle;\n",
       "    }\n",
       "\n",
       "    .dataframe tbody tr th {\n",
       "        vertical-align: top;\n",
       "    }\n",
       "\n",
       "    .dataframe thead th {\n",
       "        text-align: right;\n",
       "    }\n",
       "</style>\n",
       "<table border=\"1\" class=\"dataframe\">\n",
       "  <thead>\n",
       "    <tr style=\"text-align: right;\">\n",
       "      <th></th>\n",
       "      <th>International plan</th>\n",
       "      <th>Voice mail plan</th>\n",
       "      <th>Number vmail messages</th>\n",
       "      <th>Total day minutes</th>\n",
       "      <th>Total day charge</th>\n",
       "      <th>Total eve minutes</th>\n",
       "      <th>Total night minutes</th>\n",
       "      <th>Total intl calls</th>\n",
       "      <th>Customer service calls</th>\n",
       "    </tr>\n",
       "  </thead>\n",
       "  <tbody>\n",
       "    <tr>\n",
       "      <th>0</th>\n",
       "      <td>0</td>\n",
       "      <td>0</td>\n",
       "      <td>0</td>\n",
       "      <td>184.5</td>\n",
       "      <td>31.37</td>\n",
       "      <td>351.6</td>\n",
       "      <td>215.8</td>\n",
       "      <td>4</td>\n",
       "      <td>1</td>\n",
       "    </tr>\n",
       "    <tr>\n",
       "      <th>1</th>\n",
       "      <td>0</td>\n",
       "      <td>0</td>\n",
       "      <td>0</td>\n",
       "      <td>129.1</td>\n",
       "      <td>21.95</td>\n",
       "      <td>228.5</td>\n",
       "      <td>208.8</td>\n",
       "      <td>6</td>\n",
       "      <td>4</td>\n",
       "    </tr>\n",
       "    <tr>\n",
       "      <th>2</th>\n",
       "      <td>0</td>\n",
       "      <td>0</td>\n",
       "      <td>0</td>\n",
       "      <td>332.9</td>\n",
       "      <td>56.59</td>\n",
       "      <td>317.8</td>\n",
       "      <td>160.6</td>\n",
       "      <td>9</td>\n",
       "      <td>4</td>\n",
       "    </tr>\n",
       "    <tr>\n",
       "      <th>3</th>\n",
       "      <td>0</td>\n",
       "      <td>0</td>\n",
       "      <td>0</td>\n",
       "      <td>110.4</td>\n",
       "      <td>18.77</td>\n",
       "      <td>137.3</td>\n",
       "      <td>189.6</td>\n",
       "      <td>6</td>\n",
       "      <td>2</td>\n",
       "    </tr>\n",
       "    <tr>\n",
       "      <th>4</th>\n",
       "      <td>0</td>\n",
       "      <td>0</td>\n",
       "      <td>0</td>\n",
       "      <td>119.3</td>\n",
       "      <td>20.28</td>\n",
       "      <td>215.1</td>\n",
       "      <td>178.7</td>\n",
       "      <td>1</td>\n",
       "      <td>1</td>\n",
       "    </tr>\n",
       "    <tr>\n",
       "      <th>...</th>\n",
       "      <td>...</td>\n",
       "      <td>...</td>\n",
       "      <td>...</td>\n",
       "      <td>...</td>\n",
       "      <td>...</td>\n",
       "      <td>...</td>\n",
       "      <td>...</td>\n",
       "      <td>...</td>\n",
       "      <td>...</td>\n",
       "    </tr>\n",
       "    <tr>\n",
       "      <th>662</th>\n",
       "      <td>0</td>\n",
       "      <td>1</td>\n",
       "      <td>26</td>\n",
       "      <td>137.1</td>\n",
       "      <td>23.31</td>\n",
       "      <td>155.7</td>\n",
       "      <td>247.6</td>\n",
       "      <td>7</td>\n",
       "      <td>2</td>\n",
       "    </tr>\n",
       "    <tr>\n",
       "      <th>663</th>\n",
       "      <td>0</td>\n",
       "      <td>1</td>\n",
       "      <td>29</td>\n",
       "      <td>83.6</td>\n",
       "      <td>14.21</td>\n",
       "      <td>203.9</td>\n",
       "      <td>229.5</td>\n",
       "      <td>3</td>\n",
       "      <td>1</td>\n",
       "    </tr>\n",
       "    <tr>\n",
       "      <th>664</th>\n",
       "      <td>0</td>\n",
       "      <td>0</td>\n",
       "      <td>0</td>\n",
       "      <td>193.9</td>\n",
       "      <td>32.96</td>\n",
       "      <td>85.0</td>\n",
       "      <td>210.1</td>\n",
       "      <td>8</td>\n",
       "      <td>3</td>\n",
       "    </tr>\n",
       "    <tr>\n",
       "      <th>665</th>\n",
       "      <td>0</td>\n",
       "      <td>0</td>\n",
       "      <td>0</td>\n",
       "      <td>169.8</td>\n",
       "      <td>28.87</td>\n",
       "      <td>197.7</td>\n",
       "      <td>193.7</td>\n",
       "      <td>4</td>\n",
       "      <td>1</td>\n",
       "    </tr>\n",
       "    <tr>\n",
       "      <th>666</th>\n",
       "      <td>1</td>\n",
       "      <td>0</td>\n",
       "      <td>0</td>\n",
       "      <td>213.8</td>\n",
       "      <td>36.35</td>\n",
       "      <td>159.6</td>\n",
       "      <td>139.2</td>\n",
       "      <td>10</td>\n",
       "      <td>2</td>\n",
       "    </tr>\n",
       "  </tbody>\n",
       "</table>\n",
       "<p>667 rows × 9 columns</p>\n",
       "</div>"
      ],
      "text/plain": [
       "     International plan  Voice mail plan  Number vmail messages  \\\n",
       "0                     0                0                      0   \n",
       "1                     0                0                      0   \n",
       "2                     0                0                      0   \n",
       "3                     0                0                      0   \n",
       "4                     0                0                      0   \n",
       "..                  ...              ...                    ...   \n",
       "662                   0                1                     26   \n",
       "663                   0                1                     29   \n",
       "664                   0                0                      0   \n",
       "665                   0                0                      0   \n",
       "666                   1                0                      0   \n",
       "\n",
       "     Total day minutes  Total day charge  Total eve minutes  \\\n",
       "0                184.5             31.37              351.6   \n",
       "1                129.1             21.95              228.5   \n",
       "2                332.9             56.59              317.8   \n",
       "3                110.4             18.77              137.3   \n",
       "4                119.3             20.28              215.1   \n",
       "..                 ...               ...                ...   \n",
       "662              137.1             23.31              155.7   \n",
       "663               83.6             14.21              203.9   \n",
       "664              193.9             32.96               85.0   \n",
       "665              169.8             28.87              197.7   \n",
       "666              213.8             36.35              159.6   \n",
       "\n",
       "     Total night minutes  Total intl calls  Customer service calls  \n",
       "0                  215.8                 4                       1  \n",
       "1                  208.8                 6                       4  \n",
       "2                  160.6                 9                       4  \n",
       "3                  189.6                 6                       2  \n",
       "4                  178.7                 1                       1  \n",
       "..                   ...               ...                     ...  \n",
       "662                247.6                 7                       2  \n",
       "663                229.5                 3                       1  \n",
       "664                210.1                 8                       3  \n",
       "665                193.7                 4                       1  \n",
       "666                139.2                10                       2  \n",
       "\n",
       "[667 rows x 9 columns]"
      ]
     },
     "execution_count": 81,
     "metadata": {},
     "output_type": "execute_result"
    }
   ],
   "source": [
    "X_test"
   ]
  },
  {
   "cell_type": "code",
   "execution_count": 78,
   "id": "62735d80",
   "metadata": {},
   "outputs": [],
   "source": [
    "X_test = X_test.drop(drop_cols, axis = 1)"
   ]
  },
  {
   "cell_type": "code",
   "execution_count": 82,
   "id": "987384d7",
   "metadata": {},
   "outputs": [],
   "source": [
    "from sklearn import tree\n",
    "from sklearn.ensemble import AdaBoostClassifier"
   ]
  },
  {
   "cell_type": "code",
   "execution_count": 83,
   "id": "82c5daeb",
   "metadata": {},
   "outputs": [],
   "source": [
    "Ada_clf = AdaBoostClassifier(base_estimator = tree.DecisionTreeClassifier(max_depth = 2))"
   ]
  },
  {
   "cell_type": "code",
   "execution_count": 84,
   "id": "866109df",
   "metadata": {},
   "outputs": [
    {
     "data": {
      "text/plain": [
       "AdaBoostClassifier(base_estimator=DecisionTreeClassifier(max_depth=2))"
      ]
     },
     "execution_count": 84,
     "metadata": {},
     "output_type": "execute_result"
    }
   ],
   "source": [
    "Ada_clf.fit(X_train,Y)"
   ]
  },
  {
   "cell_type": "code",
   "execution_count": 93,
   "id": "c2a49497",
   "metadata": {},
   "outputs": [
    {
     "data": {
      "text/plain": [
       "(0.9205397301349325, 0.959489872468117)"
      ]
     },
     "execution_count": 93,
     "metadata": {},
     "output_type": "execute_result"
    }
   ],
   "source": [
    "Ada_clf.score(X_test,Y_test), Ada_clf.score(X_train,Y)"
   ]
  },
  {
   "cell_type": "code",
   "execution_count": 94,
   "id": "55e7a006",
   "metadata": {},
   "outputs": [],
   "source": [
    "pred = Ada_clf.predict(X_test)"
   ]
  },
  {
   "cell_type": "code",
   "execution_count": 97,
   "id": "0402de67",
   "metadata": {},
   "outputs": [
    {
     "ename": "TypeError",
     "evalue": "'tuple' object is not callable",
     "output_type": "error",
     "traceback": [
      "\u001b[1;31m---------------------------------------------------------------------------\u001b[0m",
      "\u001b[1;31mTypeError\u001b[0m                                 Traceback (most recent call last)",
      "\u001b[1;32m~\\AppData\\Local\\Temp/ipykernel_13056/4030449363.py\u001b[0m in \u001b[0;36m<module>\u001b[1;34m\u001b[0m\n\u001b[1;32m----> 1\u001b[1;33m \u001b[0mprecision_score\u001b[0m\u001b[1;33m(\u001b[0m\u001b[0mY_test\u001b[0m\u001b[1;33m,\u001b[0m\u001b[0mpred\u001b[0m\u001b[1;33m)\u001b[0m\u001b[1;33m,\u001b[0m \u001b[0mrecall_score\u001b[0m\u001b[1;33m(\u001b[0m\u001b[0mY_test\u001b[0m\u001b[1;33m,\u001b[0m\u001b[0mpred\u001b[0m\u001b[1;33m)\u001b[0m\u001b[1;33m\u001b[0m\u001b[1;33m\u001b[0m\u001b[0m\n\u001b[0m",
      "\u001b[1;31mTypeError\u001b[0m: 'tuple' object is not callable"
     ]
    }
   ],
   "source": [
    "precision_score(Y_test,pred), recall_score(Y_test,pred)"
   ]
  },
  {
   "cell_type": "code",
   "execution_count": 159,
   "id": "7db38809",
   "metadata": {},
   "outputs": [
    {
     "data": {
      "text/plain": [
       "['International plan',\n",
       " 'Voice mail plan',\n",
       " 'Number vmail messages',\n",
       " 'Total day minutes',\n",
       " 'Total day charge',\n",
       " 'Total eve minutes',\n",
       " 'Total night minutes',\n",
       " 'Total intl calls',\n",
       " 'Customer service calls']"
      ]
     },
     "execution_count": 159,
     "metadata": {},
     "output_type": "execute_result"
    }
   ],
   "source": [
    "X.columns[Selector.get_support()].tolist()"
   ]
  },
  {
   "cell_type": "markdown",
   "id": "d5e6ef43",
   "metadata": {},
   "source": [
    "### Отбор случайным лесом"
   ]
  },
  {
   "cell_type": "code",
   "execution_count": 99,
   "id": "b659296a",
   "metadata": {},
   "outputs": [
    {
     "data": {
      "image/png": "[encoded data removed]",
      "text/plain": [
       "<Figure size 864x864 with 1 Axes>"
      ]
     },
     "metadata": {
      "needs_background": "light"
     },
     "output_type": "display_data"
    }
   ],
   "source": [
    "from sklearn.ensemble import RandomForestClassifier\n",
    "clf = RandomForestClassifier()\n",
    "clf.fit(X, Y)\n",
    "clf.feature_importances_\n",
    "\n",
    "# create a figure to plot a bar, where x axis is features, and Y indicating the importance of each feature\n",
    "plt.figure(figsize=(12,12))\n",
    "plt.bar(X.columns, clf.feature_importances_)\n",
    "plt.xticks(rotation=60);"
   ]
  },
  {
   "cell_type": "code",
   "execution_count": null,
   "id": "5f10e8e7",
   "metadata": {},
   "outputs": [],
   "source": []
  },
  {
   "cell_type": "markdown",
   "id": "75b0fa35",
   "metadata": {},
   "source": [
    "# Деревья решений"
   ]
  },
  {
   "cell_type": "code",
   "execution_count": 11,
   "id": "3f47dbfe",
   "metadata": {},
   "outputs": [
    {
     "data": {
      "text/plain": [
       "DecisionTreeClassifier(max_depth=2, random_state=42)"
      ]
     },
     "execution_count": 11,
     "metadata": {},
     "output_type": "execute_result"
    }
   ],
   "source": [
    "from sklearn.datasets import load_iris\n",
    "from sklearn.tree import DecisionTreeClassifier\n",
    "\n",
    "iris = load_iris()\n",
    "X = iris.data[:, 2:] # petal length and width\n",
    "y = iris.target\n",
    "\n"
   ]
  },
  {
   "cell_type": "code",
   "execution_count": null,
   "id": "627f57c1",
   "metadata": {},
   "outputs": [],
   "source": []
  },
  {
   "cell_type": "code",
   "execution_count": null,
   "id": "0c228813",
   "metadata": {},
   "outputs": [],
   "source": [
    "tree_clf = DecisionTreeClassifier(max_depth=2, random_state=42)\n",
    "tree_clf.fit(X, y)"
   ]
  },
  {
   "cell_type": "code",
   "execution_count": 12,
   "id": "19003dc8",
   "metadata": {},
   "outputs": [],
   "source": [
    "from sklearn.tree import export_graphviz"
   ]
  },
  {
   "cell_type": "code",
   "execution_count": 101,
   "id": "00ecbb0c",
   "metadata": {},
   "outputs": [],
   "source": [
    "export_graphviz (tree_clf, out_file = 'iris_tree.dot', \n",
    "                 feature_names = iris.feature_names[:2], \n",
    "                 class_names = iris.target_names,\n",
    "                 rounded = True,\n",
    "                 filled = True)"
   ]
  },
  {
   "cell_type": "code",
   "execution_count": 102,
   "id": "c73e330e",
   "metadata": {},
   "outputs": [],
   "source": [
    "!dot -Tpng iris_tree.dot -o iris_tree.png"
   ]
  },
  {
   "cell_type": "code",
   "execution_count": null,
   "id": "bb18e437",
   "metadata": {},
   "outputs": [],
   "source": []
  }
 ],
 "metadata": {
  "kernelspec": {
   "display_name": "Python 3 (ipykernel)",
   "language": "python",
   "name": "python3"
  },
  "language_info": {
   "codemirror_mode": {
    "name": "ipython",
    "version": 3
   },
   "file_extension": ".py",
   "mimetype": "text/x-python",
   "name": "python",
   "nbconvert_exporter": "python",
   "pygments_lexer": "ipython3",
   "version": "3.9.7"
  }
 },
 "nbformat": 4,
 "nbformat_minor": 5
}
