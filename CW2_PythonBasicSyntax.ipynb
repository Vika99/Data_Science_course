{
 "cells": [
  {
   "cell_type": "code",
   "execution_count": 22,
   "id": "d95742d7",
   "metadata": {},
   "outputs": [
    {
     "name": "stdout",
     "output_type": "stream",
     "text": [
      "Enter the Distance in kilometrs:100\n",
      "Enter the speed of the car in km/h:60\n",
      "The time spent by a car is: 1.67 hours\n"
     ]
    }
   ],
   "source": [
    "# Number 1:\n",
    "# Write a program that determines the time spent by a car on the road in hours,\n",
    "# for which the input parameters (input from the keyboard) are the distance in kilometers and the speed of the car in km/h\n",
    "\n",
    "D = input ('Enter the Distance in kilometrs:')\n",
    "S = input ('Enter the speed of the car in km/h:')\n",
    "\n",
    "try:\n",
    "    \n",
    "    D = float (D)\n",
    "    S = float (S)\n",
    "\n",
    "    T = round( D/S , 2)\n",
    "\n",
    "    print ('The time spent by a car is:', T , 'hours')\n",
    "    \n",
    "except:\n",
    "    print ('no decision')"
   ]
  },
  {
   "cell_type": "code",
   "execution_count": 15,
   "id": "292fa5ab",
   "metadata": {},
   "outputs": [
    {
     "name": "stdout",
     "output_type": "stream",
     "text": [
      "Enter the value of a:1\n",
      "Enter the value of b:4\n",
      "Enter the value of c:2\n",
      "-0.5857864376269049\n",
      "-3.414213562373095\n"
     ]
    }
   ],
   "source": [
    "# Number 2:\n",
    "# Write a program to solve a quadratic equation (a*x**2 + b*x + c = 0) \n",
    "# equation coefficients (a,b,c) must be entered from the prompt keyboard\n",
    "\n",
    "import math\n",
    "\n",
    "\n",
    "a = float (input ('Enter the value of a:'))\n",
    "b = float (input ('Enter the value of b:'))\n",
    "c = float (input ('Enter the value of c:'))\n",
    "\n",
    "\n",
    "# y = a*x**2 + b*x + c \n",
    "# We need to find the discriminant:\n",
    "\n",
    "d = (b**2) - (4*a*c)\n",
    "\n",
    "if (d < 0):\n",
    "    print ('The discriminant less than zero, there are no solutions.')\n",
    "    \n",
    "    \n",
    "elif (d == 0):\n",
    "    \n",
    "    x1 = -b/(2 * a)\n",
    "    print (x1)\n",
    "\n",
    "else:\n",
    "    \n",
    "    x1 = (-b + math.sqrt(d))/ (2*a)\n",
    "    x2 = (-b - math.sqrt(d))/ (2*a)\n",
    "    print (x1)\n",
    "    print (x2)\n",
    "\n"
   ]
  },
  {
   "cell_type": "code",
   "execution_count": 19,
   "id": "ef38331d",
   "metadata": {},
   "outputs": [
    {
     "name": "stdout",
     "output_type": "stream",
     "text": [
      "39.375\n",
      "-176.625\n",
      "-824.625\n",
      "largest_number is: 39.375\n",
      "lowest_number is: -824.625\n"
     ]
    }
   ],
   "source": [
    "# Number 3\n",
    "# Write a program that finds max and min values of the function:\n",
    "# y = -6*x**2 + 15*x + 30 on the segment [-4.75 ,13.25]\n",
    "\n",
    "\n",
    "# To find the value of the function at critical points:\n",
    "\n",
    "# F(x) = -12 * x + 15 -> x =1.25\n",
    "\n",
    "x1 = 1.25\n",
    "x2 = -4.75\n",
    "x3 = 13.25\n",
    "\n",
    "\n",
    "\n",
    "# we should check that critical point is on the segment:\n",
    "\n",
    "if (x1 >= -4.75 and x1 <= 13.25):\n",
    "    \n",
    "    y1 = -6 * x1**2 + 15 * x1 +30 \n",
    "    print (y1)\n",
    "    \n",
    "else:\n",
    "    print ('there is no critical point')\n",
    "    \n",
    "\n",
    "y2 = -6 * x2**2 + 15 * x2 +30 \n",
    "print (y2)\n",
    "    \n",
    "y3 = -6 * x3**2 + 15 * x3 +30 \n",
    "print (y3)\n",
    " \n",
    "#now we have our numbers (y1,y2,y3), let's find max and min values:\n",
    "numbers = [y1 , y2, y3 ]    \n",
    "\n",
    "largest_number = max (numbers)\n",
    "print ('largest_number is:', largest_number )\n",
    "\n",
    "lowest_number = min (numbers)\n",
    "print ('lowest_number is:', lowest_number)"
   ]
  },
  {
   "cell_type": "code",
   "execution_count": null,
   "id": "890ac150",
   "metadata": {},
   "outputs": [],
   "source": []
  }
 ],
 "metadata": {
  "kernelspec": {
   "display_name": "Python 3 (ipykernel)",
   "language": "python",
   "name": "python3"
  },
  "language_info": {
   "codemirror_mode": {
    "name": "ipython",
    "version": 3
   },
   "file_extension": ".py",
   "mimetype": "text/x-python",
   "name": "python",
   "nbconvert_exporter": "python",
   "pygments_lexer": "ipython3",
   "version": "3.9.7"
  }
 },
 "nbformat": 4,
 "nbformat_minor": 5
}
