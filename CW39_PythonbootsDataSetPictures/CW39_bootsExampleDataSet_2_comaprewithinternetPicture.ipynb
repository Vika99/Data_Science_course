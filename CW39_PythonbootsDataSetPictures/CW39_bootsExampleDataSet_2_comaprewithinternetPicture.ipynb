{
  "nbformat": 4,
  "nbformat_minor": 0,
  "metadata": {
    "colab": {
      "name": "CW39_bootsExampleDataSet_2_comaprewithinternetPicture.ipynb",
      "provenance": [],
      "collapsed_sections": []
    },
    "kernelspec": {
      "name": "python3",
      "display_name": "Python 3"
    },
    "language_info": {
      "name": "python"
    },
    "accelerator": "GPU",
    "gpuClass": "standard"
  },
  "cells": [
    {
      "cell_type": "code",
      "execution_count": 4,
      "metadata": {
        "id": "qcFG4XmTcxrH"
      },
      "outputs": [],
      "source": [
        "from google.colab import drive\n",
        "from google.colab import files"
      ]
    },
    {
      "cell_type": "code",
      "source": [
        "!mkdir GD"
      ],
      "metadata": {
        "id": "-8kkXK5jtq1K"
      },
      "execution_count": 5,
      "outputs": []
    },
    {
      "cell_type": "code",
      "source": [
        "drive.mount('/GD',force_remount=True)"
      ],
      "metadata": {
        "colab": {
          "base_uri": "https://localhost:8080/"
        },
        "id": "mlVbU2x_tq9H",
        "outputId": "a662fc5e-386d-46c9-f3ea-4a9d52cd00ec"
      },
      "execution_count": 6,
      "outputs": [
        {
          "output_type": "stream",
          "name": "stdout",
          "text": [
            "Mounted at /GD\n"
          ]
        }
      ]
    },
    {
      "cell_type": "code",
      "source": [
        "!cp -r /GD/'My Drive'/boots.zip  ."
      ],
      "metadata": {
        "id": "iCCDvBhntrAS"
      },
      "execution_count": 7,
      "outputs": []
    },
    {
      "cell_type": "code",
      "source": [
        "!ls"
      ],
      "metadata": {
        "colab": {
          "base_uri": "https://localhost:8080/"
        },
        "id": "U0h0mrS5trC-",
        "outputId": "6f165af2-0863-4641-eb3b-e128e1849a67"
      },
      "execution_count": 8,
      "outputs": [
        {
          "output_type": "stream",
          "name": "stdout",
          "text": [
            "boots.zip  GD  sample_data\n"
          ]
        }
      ]
    },
    {
      "cell_type": "code",
      "source": [
        "!unzip boots.zip"
      ],
      "metadata": {
        "colab": {
          "base_uri": "https://localhost:8080/"
        },
        "id": "CdbzDLPXu6Um",
        "outputId": "f8304885-a473-4998-fb31-914bf44ab0bd"
      },
      "execution_count": 9,
      "outputs": [
        {
          "output_type": "stream",
          "name": "stdout",
          "text": [
            "Archive:  boots.zip\n",
            "  inflating: test/adidas/0.jpg       \n",
            "  inflating: test/adidas/1.jpg       \n",
            "  inflating: test/adidas/10.jpg      \n",
            "  inflating: test/adidas/11.jpg      \n",
            "  inflating: test/adidas/12.jpg      \n",
            "  inflating: test/adidas/13.jpg      \n",
            "  inflating: test/adidas/14.jpg      \n",
            "  inflating: test/adidas/15.jpg      \n",
            "  inflating: test/adidas/16.jpg      \n",
            "  inflating: test/adidas/17.jpg      \n",
            "  inflating: test/adidas/18.jpg      \n",
            "  inflating: test/adidas/19.jpg      \n",
            "  inflating: test/adidas/2.jpg       \n",
            "  inflating: test/adidas/20.jpg      \n",
            "  inflating: test/adidas/21.jpg      \n",
            "  inflating: test/adidas/22.jpg      \n",
            "  inflating: test/adidas/23.jpg      \n",
            "  inflating: test/adidas/24.jpg      \n",
            "  inflating: test/adidas/25.jpg      \n",
            "  inflating: test/adidas/26.jpg      \n",
            "  inflating: test/adidas/27.jpg      \n",
            "  inflating: test/adidas/28.jpg      \n",
            "  inflating: test/adidas/29.jpg      \n",
            "  inflating: test/adidas/3.jpg       \n",
            "  inflating: test/adidas/30.jpg      \n",
            "  inflating: test/adidas/31.jpg      \n",
            "  inflating: test/adidas/32.jpg      \n",
            "  inflating: test/adidas/33.jpg      \n",
            "  inflating: test/adidas/34.jpg      \n",
            "  inflating: test/adidas/35.jpg      \n",
            "  inflating: test/adidas/36.jpg      \n",
            "  inflating: test/adidas/37.jpg      \n",
            "  inflating: test/adidas/4.jpg       \n",
            "  inflating: test/adidas/5.jpg       \n",
            "  inflating: test/adidas/6.jpg       \n",
            "  inflating: test/adidas/7.jpg       \n",
            "  inflating: test/adidas/8.jpg       \n",
            "  inflating: test/adidas/9.jpg       \n",
            "  inflating: test/converse/0.jpg     \n",
            "  inflating: test/converse/1.jpg     \n",
            "  inflating: test/converse/10.jpg    \n",
            "  inflating: test/converse/11.jpg    \n",
            "  inflating: test/converse/12.jpg    \n",
            "  inflating: test/converse/13.jpg    \n",
            "  inflating: test/converse/14.jpg    \n",
            "  inflating: test/converse/15.jpg    \n",
            "  inflating: test/converse/16.jpg    \n",
            "  inflating: test/converse/17.jpg    \n",
            "  inflating: test/converse/18.jpg    \n",
            "  inflating: test/converse/19.jpg    \n",
            "  inflating: test/converse/2.jpg     \n",
            "  inflating: test/converse/20.jpg    \n",
            "  inflating: test/converse/21.jpg    \n",
            "  inflating: test/converse/22.jpg    \n",
            "  inflating: test/converse/23.jpg    \n",
            "  inflating: test/converse/24.jpg    \n",
            "  inflating: test/converse/25.jpg    \n",
            "  inflating: test/converse/26.jpg    \n",
            "  inflating: test/converse/27.jpg    \n",
            "  inflating: test/converse/28.jpg    \n",
            "  inflating: test/converse/29.jpg    \n",
            "  inflating: test/converse/3.jpg     \n",
            "  inflating: test/converse/30.jpg    \n",
            "  inflating: test/converse/31.jpg    \n",
            "  inflating: test/converse/32.jpg    \n",
            "  inflating: test/converse/33.jpg    \n",
            "  inflating: test/converse/34.jpg    \n",
            "  inflating: test/converse/35.jpg    \n",
            "  inflating: test/converse/36.jpg    \n",
            "  inflating: test/converse/37.jpg    \n",
            "  inflating: test/converse/4.jpg     \n",
            "  inflating: test/converse/5.jpg     \n",
            "  inflating: test/converse/6.jpg     \n",
            "  inflating: test/converse/7.jpg     \n",
            "  inflating: test/converse/8.jpg     \n",
            "  inflating: test/converse/9.jpg     \n",
            "  inflating: test/nike/0.jpg         \n",
            "  inflating: test/nike/1.jpg         \n",
            "  inflating: test/nike/10.jpg        \n",
            "  inflating: test/nike/11.jpg        \n",
            "  inflating: test/nike/12.jpg        \n",
            "  inflating: test/nike/13.jpg        \n",
            "  inflating: test/nike/14.jpg        \n",
            "  inflating: test/nike/15.jpg        \n",
            "  inflating: test/nike/16.jpg        \n",
            "  inflating: test/nike/17.jpg        \n",
            "  inflating: test/nike/18.jpg        \n",
            "  inflating: test/nike/19.jpg        \n",
            "  inflating: test/nike/2.jpg         \n",
            "  inflating: test/nike/20.jpg        \n",
            "  inflating: test/nike/21.jpg        \n",
            "  inflating: test/nike/22.jpg        \n",
            "  inflating: test/nike/23.jpg        \n",
            "  inflating: test/nike/24.jpg        \n",
            "  inflating: test/nike/25.jpg        \n",
            "  inflating: test/nike/26.jpg        \n",
            "  inflating: test/nike/27.jpg        \n",
            "  inflating: test/nike/28.jpg        \n",
            "  inflating: test/nike/29.jpg        \n",
            "  inflating: test/nike/3.jpg         \n",
            "  inflating: test/nike/30.jpg        \n",
            "  inflating: test/nike/31.jpg        \n",
            "  inflating: test/nike/32.jpg        \n",
            "  inflating: test/nike/33.jpg        \n",
            "  inflating: test/nike/34.jpg        \n",
            "  inflating: test/nike/35.jpg        \n",
            "  inflating: test/nike/36.jpg        \n",
            "  inflating: test/nike/37.jpg        \n",
            "  inflating: test/nike/4.jpg         \n",
            "  inflating: test/nike/5.jpg         \n",
            "  inflating: test/nike/6.jpg         \n",
            "  inflating: test/nike/7.jpg         \n",
            "  inflating: test/nike/8.jpg         \n",
            "  inflating: test/nike/9.jpg         \n",
            "  inflating: train/adidas/100.jpg    \n",
            "  inflating: train/adidas/101.jpg    \n",
            "  inflating: train/adidas/102.jpg    \n",
            "  inflating: train/adidas/103.jpg    \n",
            "  inflating: train/adidas/104.jpg    \n",
            "  inflating: train/adidas/105.jpg    \n",
            "  inflating: train/adidas/106.jpg    \n",
            "  inflating: train/adidas/107.jpg    \n",
            "  inflating: train/adidas/108.jpg    \n",
            "  inflating: train/adidas/109.jpg    \n",
            "  inflating: train/adidas/110.jpg    \n",
            "  inflating: train/adidas/111.jpg    \n",
            "  inflating: train/adidas/112.jpg    \n",
            "  inflating: train/adidas/113.jpg    \n",
            "  inflating: train/adidas/114.jpg    \n",
            "  inflating: train/adidas/115.jpg    \n",
            "  inflating: train/adidas/116.jpg    \n",
            "  inflating: train/adidas/117.jpg    \n",
            "  inflating: train/adidas/118.jpg    \n",
            "  inflating: train/adidas/119.jpg    \n",
            "  inflating: train/adidas/120.jpg    \n",
            "  inflating: train/adidas/121.jpg    \n",
            "  inflating: train/adidas/122.jpg    \n",
            "  inflating: train/adidas/123.jpg    \n",
            "  inflating: train/adidas/124.jpg    \n",
            "  inflating: train/adidas/125.jpg    \n",
            "  inflating: train/adidas/126.jpg    \n",
            "  inflating: train/adidas/127.jpg    \n",
            "  inflating: train/adidas/128.jpg    \n",
            "  inflating: train/adidas/129.jpg    \n",
            "  inflating: train/adidas/130.jpg    \n",
            "  inflating: train/adidas/131.jpg    \n",
            "  inflating: train/adidas/132.jpg    \n",
            "  inflating: train/adidas/133.jpg    \n",
            "  inflating: train/adidas/134.jpg    \n",
            "  inflating: train/adidas/135.jpg    \n",
            "  inflating: train/adidas/136.jpg    \n",
            "  inflating: train/adidas/137.jpg    \n",
            "  inflating: train/adidas/138.jpg    \n",
            "  inflating: train/adidas/139.jpg    \n",
            "  inflating: train/adidas/140.jpg    \n",
            "  inflating: train/adidas/141.jpg    \n",
            "  inflating: train/adidas/142.jpg    \n",
            "  inflating: train/adidas/143.jpg    \n",
            "  inflating: train/adidas/144.jpg    \n",
            "  inflating: train/adidas/145.jpg    \n",
            "  inflating: train/adidas/146.jpg    \n",
            "  inflating: train/adidas/147.jpg    \n",
            "  inflating: train/adidas/148.jpg    \n",
            "  inflating: train/adidas/149.jpg    \n",
            "  inflating: train/adidas/150.jpg    \n",
            "  inflating: train/adidas/151.jpg    \n",
            "  inflating: train/adidas/152.jpg    \n",
            "  inflating: train/adidas/153.jpg    \n",
            "  inflating: train/adidas/154.jpg    \n",
            "  inflating: train/adidas/155.jpg    \n",
            "  inflating: train/adidas/156.jpg    \n",
            "  inflating: train/adidas/157.jpg    \n",
            "  inflating: train/adidas/158.jpg    \n",
            "  inflating: train/adidas/159.jpg    \n",
            "  inflating: train/adidas/160.jpg    \n",
            "  inflating: train/adidas/161.jpg    \n",
            "  inflating: train/adidas/162.jpg    \n",
            "  inflating: train/adidas/163.jpg    \n",
            "  inflating: train/adidas/164.jpg    \n",
            "  inflating: train/adidas/165.jpg    \n",
            "  inflating: train/adidas/166.jpg    \n",
            "  inflating: train/adidas/167.jpg    \n",
            "  inflating: train/adidas/168.jpg    \n",
            "  inflating: train/adidas/169.jpg    \n",
            "  inflating: train/adidas/170.jpg    \n",
            "  inflating: train/adidas/171.jpg    \n",
            "  inflating: train/adidas/172.jpg    \n",
            "  inflating: train/adidas/173.jpg    \n",
            "  inflating: train/adidas/174.jpg    \n",
            "  inflating: train/adidas/175.jpg    \n",
            "  inflating: train/adidas/176.jpg    \n",
            "  inflating: train/adidas/177.jpg    \n",
            "  inflating: train/adidas/178.jpg    \n",
            "  inflating: train/adidas/179.jpg    \n",
            "  inflating: train/adidas/180.jpg    \n",
            "  inflating: train/adidas/181.jpg    \n",
            "  inflating: train/adidas/182.jpg    \n",
            "  inflating: train/adidas/183.jpg    \n",
            "  inflating: train/adidas/184.jpg    \n",
            "  inflating: train/adidas/185.jpg    \n",
            "  inflating: train/adidas/186.jpg    \n",
            "  inflating: train/adidas/187.jpg    \n",
            "  inflating: train/adidas/188.jpg    \n",
            "  inflating: train/adidas/189.jpg    \n",
            "  inflating: train/adidas/190.jpg    \n",
            "  inflating: train/adidas/191.jpg    \n",
            "  inflating: train/adidas/192.jpg    \n",
            "  inflating: train/adidas/193.jpg    \n",
            "  inflating: train/adidas/194.jpg    \n",
            "  inflating: train/adidas/195.jpg    \n",
            "  inflating: train/adidas/196.jpg    \n",
            "  inflating: train/adidas/197.jpg    \n",
            "  inflating: train/adidas/198.jpg    \n",
            "  inflating: train/adidas/199.jpg    \n",
            "  inflating: train/adidas/200.jpg    \n",
            "  inflating: train/adidas/201.jpg    \n",
            "  inflating: train/adidas/202.jpg    \n",
            "  inflating: train/adidas/203.jpg    \n",
            "  inflating: train/adidas/204.jpg    \n",
            "  inflating: train/adidas/205.jpg    \n",
            "  inflating: train/adidas/206.jpg    \n",
            "  inflating: train/adidas/207.jpg    \n",
            "  inflating: train/adidas/208.jpg    \n",
            "  inflating: train/adidas/209.jpg    \n",
            "  inflating: train/adidas/210.jpg    \n",
            "  inflating: train/adidas/211.jpg    \n",
            "  inflating: train/adidas/212.jpg    \n",
            "  inflating: train/adidas/213.jpg    \n",
            "  inflating: train/adidas/214.jpg    \n",
            "  inflating: train/adidas/215.jpg    \n",
            "  inflating: train/adidas/216.jpg    \n",
            "  inflating: train/adidas/217.jpg    \n",
            "  inflating: train/adidas/218.jpg    \n",
            "  inflating: train/adidas/219.jpg    \n",
            "  inflating: train/adidas/220.jpg    \n",
            "  inflating: train/adidas/221.jpg    \n",
            "  inflating: train/adidas/222.jpg    \n",
            "  inflating: train/adidas/223.jpg    \n",
            "  inflating: train/adidas/224.jpg    \n",
            "  inflating: train/adidas/225.jpg    \n",
            "  inflating: train/adidas/226.jpg    \n",
            "  inflating: train/adidas/227.jpg    \n",
            "  inflating: train/adidas/228.jpg    \n",
            "  inflating: train/adidas/229.jpg    \n",
            "  inflating: train/adidas/230.jpg    \n",
            "  inflating: train/adidas/231.jpg    \n",
            "  inflating: train/adidas/232.jpg    \n",
            "  inflating: train/adidas/233.jpg    \n",
            "  inflating: train/adidas/234.jpg    \n",
            "  inflating: train/adidas/235.jpg    \n",
            "  inflating: train/adidas/236.jpg    \n",
            "  inflating: train/adidas/237.jpg    \n",
            "  inflating: train/adidas/238.jpg    \n",
            "  inflating: train/adidas/239.jpg    \n",
            "  inflating: train/adidas/240.jpg    \n",
            "  inflating: train/adidas/241.jpg    \n",
            "  inflating: train/adidas/242.jpg    \n",
            "  inflating: train/adidas/243.jpg    \n",
            "  inflating: train/adidas/244.jpg    \n",
            "  inflating: train/adidas/245.jpg    \n",
            "  inflating: train/adidas/246.jpg    \n",
            "  inflating: train/adidas/247.jpg    \n",
            "  inflating: train/adidas/248.jpg    \n",
            "  inflating: train/adidas/249.jpg    \n",
            "  inflating: train/adidas/250.jpg    \n",
            "  inflating: train/adidas/251.jpg    \n",
            "  inflating: train/adidas/252.jpg    \n",
            "  inflating: train/adidas/253.jpg    \n",
            "  inflating: train/adidas/254.jpg    \n",
            "  inflating: train/adidas/255.jpg    \n",
            "  inflating: train/adidas/256.jpg    \n",
            "  inflating: train/adidas/257.jpg    \n",
            "  inflating: train/adidas/258.jpg    \n",
            "  inflating: train/adidas/259.jpg    \n",
            "  inflating: train/adidas/260.jpg    \n",
            "  inflating: train/adidas/261.jpg    \n",
            "  inflating: train/adidas/262.jpg    \n",
            "  inflating: train/adidas/263.jpg    \n",
            "  inflating: train/adidas/264.jpg    \n",
            "  inflating: train/adidas/265.jpg    \n",
            "  inflating: train/adidas/266.jpg    \n",
            "  inflating: train/adidas/267.jpg    \n",
            "  inflating: train/adidas/268.jpg    \n",
            "  inflating: train/adidas/269.jpg    \n",
            "  inflating: train/adidas/270.jpg    \n",
            "  inflating: train/adidas/271.jpg    \n",
            "  inflating: train/adidas/272.jpg    \n",
            "  inflating: train/adidas/273.jpg    \n",
            "  inflating: train/adidas/274.jpg    \n",
            "  inflating: train/adidas/38.jpg     \n",
            "  inflating: train/adidas/39.jpg     \n",
            "  inflating: train/adidas/40.jpg     \n",
            "  inflating: train/adidas/41.jpg     \n",
            "  inflating: train/adidas/42.jpg     \n",
            "  inflating: train/adidas/43.jpg     \n",
            "  inflating: train/adidas/44.jpg     \n",
            "  inflating: train/adidas/45.jpg     \n",
            "  inflating: train/adidas/46.jpg     \n",
            "  inflating: train/adidas/47.jpg     \n",
            "  inflating: train/adidas/48.jpg     \n",
            "  inflating: train/adidas/49.jpg     \n",
            "  inflating: train/adidas/50.jpg     \n",
            "  inflating: train/adidas/51.jpg     \n",
            "  inflating: train/adidas/52.jpg     \n",
            "  inflating: train/adidas/53.jpg     \n",
            "  inflating: train/adidas/54.jpg     \n",
            "  inflating: train/adidas/55.jpg     \n",
            "  inflating: train/adidas/56.jpg     \n",
            "  inflating: train/adidas/57.jpg     \n",
            "  inflating: train/adidas/58.jpg     \n",
            "  inflating: train/adidas/59.jpg     \n",
            "  inflating: train/adidas/60.jpg     \n",
            "  inflating: train/adidas/61.jpg     \n",
            "  inflating: train/adidas/62.jpg     \n",
            "  inflating: train/adidas/63.jpg     \n",
            "  inflating: train/adidas/64.jpg     \n",
            "  inflating: train/adidas/65.jpg     \n",
            "  inflating: train/adidas/66.jpg     \n",
            "  inflating: train/adidas/67.jpg     \n",
            "  inflating: train/adidas/68.jpg     \n",
            "  inflating: train/adidas/69.jpg     \n",
            "  inflating: train/adidas/70.jpg     \n",
            "  inflating: train/adidas/71.jpg     \n",
            "  inflating: train/adidas/72.jpg     \n",
            "  inflating: train/adidas/73.jpg     \n",
            "  inflating: train/adidas/74.jpg     \n",
            "  inflating: train/adidas/75.jpg     \n",
            "  inflating: train/adidas/76.jpg     \n",
            "  inflating: train/adidas/77.jpg     \n",
            "  inflating: train/adidas/78.jpg     \n",
            "  inflating: train/adidas/79.jpg     \n",
            "  inflating: train/adidas/80.jpg     \n",
            "  inflating: train/adidas/81.jpg     \n",
            "  inflating: train/adidas/82.jpg     \n",
            "  inflating: train/adidas/83.jpg     \n",
            "  inflating: train/adidas/84.jpg     \n",
            "  inflating: train/adidas/85.jpg     \n",
            "  inflating: train/adidas/86.jpg     \n",
            "  inflating: train/adidas/87.jpg     \n",
            "  inflating: train/adidas/88.jpg     \n",
            "  inflating: train/adidas/89.jpg     \n",
            "  inflating: train/adidas/90.jpg     \n",
            "  inflating: train/adidas/91.jpg     \n",
            "  inflating: train/adidas/92.jpg     \n",
            "  inflating: train/adidas/93.jpg     \n",
            "  inflating: train/adidas/94.jpg     \n",
            "  inflating: train/adidas/95.jpg     \n",
            "  inflating: train/adidas/96.jpg     \n",
            "  inflating: train/adidas/97.jpg     \n",
            "  inflating: train/adidas/98.jpg     \n",
            "  inflating: train/adidas/99.jpg     \n",
            "  inflating: train/converse/100.jpg  \n",
            "  inflating: train/converse/101.jpg  \n",
            "  inflating: train/converse/102.jpg  \n",
            "  inflating: train/converse/103.jpg  \n",
            "  inflating: train/converse/104.jpg  \n",
            "  inflating: train/converse/105.jpg  \n",
            "  inflating: train/converse/106.jpg  \n",
            "  inflating: train/converse/107.jpg  \n",
            "  inflating: train/converse/108.jpg  \n",
            "  inflating: train/converse/109.jpg  \n",
            "  inflating: train/converse/110.jpg  \n",
            "  inflating: train/converse/111.jpg  \n",
            "  inflating: train/converse/112.jpg  \n",
            "  inflating: train/converse/113.jpg  \n",
            "  inflating: train/converse/114.jpg  \n",
            "  inflating: train/converse/115.jpg  \n",
            "  inflating: train/converse/116.jpg  \n",
            "  inflating: train/converse/117.jpg  \n",
            "  inflating: train/converse/118.jpg  \n",
            "  inflating: train/converse/119.jpg  \n",
            "  inflating: train/converse/120.jpg  \n",
            "  inflating: train/converse/121.jpg  \n",
            "  inflating: train/converse/122.jpg  \n",
            "  inflating: train/converse/123.jpg  \n",
            "  inflating: train/converse/124.jpg  \n",
            "  inflating: train/converse/125.jpg  \n",
            "  inflating: train/converse/126.jpg  \n",
            "  inflating: train/converse/127.jpg  \n",
            "  inflating: train/converse/128.jpg  \n",
            "  inflating: train/converse/129.jpg  \n",
            "  inflating: train/converse/130.jpg  \n",
            "  inflating: train/converse/131.jpg  \n",
            "  inflating: train/converse/132.jpg  \n",
            "  inflating: train/converse/133.jpg  \n",
            "  inflating: train/converse/134.jpg  \n",
            "  inflating: train/converse/135.jpg  \n",
            "  inflating: train/converse/136.jpg  \n",
            "  inflating: train/converse/137.jpg  \n",
            "  inflating: train/converse/138.jpg  \n",
            "  inflating: train/converse/139.jpg  \n",
            "  inflating: train/converse/140.jpg  \n",
            "  inflating: train/converse/141.jpg  \n",
            "  inflating: train/converse/142.jpg  \n",
            "  inflating: train/converse/143.jpg  \n",
            "  inflating: train/converse/144.jpg  \n",
            "  inflating: train/converse/145.jpg  \n",
            "  inflating: train/converse/146.jpg  \n",
            "  inflating: train/converse/147.jpg  \n",
            "  inflating: train/converse/148.jpg  \n",
            "  inflating: train/converse/149.jpg  \n",
            "  inflating: train/converse/150.jpg  \n",
            "  inflating: train/converse/151.jpg  \n",
            "  inflating: train/converse/152.jpg  \n",
            "  inflating: train/converse/153.jpg  \n",
            "  inflating: train/converse/154.jpg  \n",
            "  inflating: train/converse/155.jpg  \n",
            "  inflating: train/converse/156.jpg  \n",
            "  inflating: train/converse/157.jpg  \n",
            "  inflating: train/converse/158.jpg  \n",
            "  inflating: train/converse/159.jpg  \n",
            "  inflating: train/converse/160.jpg  \n",
            "  inflating: train/converse/161.jpg  \n",
            "  inflating: train/converse/162.jpg  \n",
            "  inflating: train/converse/163.jpg  \n",
            "  inflating: train/converse/164.jpg  \n",
            "  inflating: train/converse/165.jpg  \n",
            "  inflating: train/converse/166.jpg  \n",
            "  inflating: train/converse/167.jpg  \n",
            "  inflating: train/converse/168.jpg  \n",
            "  inflating: train/converse/169.jpg  \n",
            "  inflating: train/converse/170.jpg  \n",
            "  inflating: train/converse/171.jpg  \n",
            "  inflating: train/converse/172.jpg  \n",
            "  inflating: train/converse/173.jpg  \n",
            "  inflating: train/converse/174.jpg  \n",
            "  inflating: train/converse/175.jpg  \n",
            "  inflating: train/converse/176.jpg  \n",
            "  inflating: train/converse/177.jpg  \n",
            "  inflating: train/converse/178.jpg  \n",
            "  inflating: train/converse/179.jpg  \n",
            "  inflating: train/converse/180.jpg  \n",
            "  inflating: train/converse/181.jpg  \n",
            "  inflating: train/converse/182.jpg  \n",
            "  inflating: train/converse/183.jpg  \n",
            "  inflating: train/converse/184.jpg  \n",
            "  inflating: train/converse/185.jpg  \n",
            "  inflating: train/converse/186.jpg  \n",
            "  inflating: train/converse/187.jpg  \n",
            "  inflating: train/converse/188.jpg  \n",
            "  inflating: train/converse/189.jpg  \n",
            "  inflating: train/converse/190.jpg  \n",
            "  inflating: train/converse/191.jpg  \n",
            "  inflating: train/converse/192.jpg  \n",
            "  inflating: train/converse/193.jpg  \n",
            "  inflating: train/converse/194.jpg  \n",
            "  inflating: train/converse/195.jpg  \n",
            "  inflating: train/converse/196.jpg  \n",
            "  inflating: train/converse/197.jpg  \n",
            "  inflating: train/converse/198.jpg  \n",
            "  inflating: train/converse/199.jpg  \n",
            "  inflating: train/converse/200.jpg  \n",
            "  inflating: train/converse/201.jpg  \n",
            "  inflating: train/converse/202.jpg  \n",
            "  inflating: train/converse/203.jpg  \n",
            "  inflating: train/converse/204.jpg  \n",
            "  inflating: train/converse/205.jpg  \n",
            "  inflating: train/converse/206.jpg  \n",
            "  inflating: train/converse/207.jpg  \n",
            "  inflating: train/converse/208.jpg  \n",
            "  inflating: train/converse/209.jpg  \n",
            "  inflating: train/converse/210.jpg  \n",
            "  inflating: train/converse/211.jpg  \n",
            "  inflating: train/converse/212.jpg  \n",
            "  inflating: train/converse/213.jpg  \n",
            "  inflating: train/converse/214.jpg  \n",
            "  inflating: train/converse/215.jpg  \n",
            "  inflating: train/converse/216.jpg  \n",
            "  inflating: train/converse/217.jpg  \n",
            "  inflating: train/converse/218.jpg  \n",
            "  inflating: train/converse/219.jpg  \n",
            "  inflating: train/converse/220.jpg  \n",
            "  inflating: train/converse/221.jpg  \n",
            "  inflating: train/converse/222.jpg  \n",
            "  inflating: train/converse/223.jpg  \n",
            "  inflating: train/converse/224.jpg  \n",
            "  inflating: train/converse/225.jpg  \n",
            "  inflating: train/converse/226.jpg  \n",
            "  inflating: train/converse/227.jpg  \n",
            "  inflating: train/converse/228.jpg  \n",
            "  inflating: train/converse/229.jpg  \n",
            "  inflating: train/converse/230.jpg  \n",
            "  inflating: train/converse/231.jpg  \n",
            "  inflating: train/converse/232.jpg  \n",
            "  inflating: train/converse/233.jpg  \n",
            "  inflating: train/converse/234.jpg  \n",
            "  inflating: train/converse/235.jpg  \n",
            "  inflating: train/converse/236.jpg  \n",
            "  inflating: train/converse/237.jpg  \n",
            "  inflating: train/converse/238.jpg  \n",
            "  inflating: train/converse/239.jpg  \n",
            "  inflating: train/converse/240.jpg  \n",
            "  inflating: train/converse/241.jpg  \n",
            "  inflating: train/converse/242.jpg  \n",
            "  inflating: train/converse/243.jpg  \n",
            "  inflating: train/converse/244.jpg  \n",
            "  inflating: train/converse/245.jpg  \n",
            "  inflating: train/converse/246.jpg  \n",
            "  inflating: train/converse/247.jpg  \n",
            "  inflating: train/converse/248.jpg  \n",
            "  inflating: train/converse/249.jpg  \n",
            "  inflating: train/converse/250.jpg  \n",
            "  inflating: train/converse/251.jpg  \n",
            "  inflating: train/converse/252.jpg  \n",
            "  inflating: train/converse/253.jpg  \n",
            "  inflating: train/converse/254.jpg  \n",
            "  inflating: train/converse/255.jpg  \n",
            "  inflating: train/converse/256.jpg  \n",
            "  inflating: train/converse/257.jpg  \n",
            "  inflating: train/converse/258.jpg  \n",
            "  inflating: train/converse/259.jpg  \n",
            "  inflating: train/converse/260.jpg  \n",
            "  inflating: train/converse/261.jpg  \n",
            "  inflating: train/converse/262.jpg  \n",
            "  inflating: train/converse/263.jpg  \n",
            "  inflating: train/converse/264.jpg  \n",
            "  inflating: train/converse/265.jpg  \n",
            "  inflating: train/converse/266.jpg  \n",
            "  inflating: train/converse/267.jpg  \n",
            "  inflating: train/converse/268.jpg  \n",
            "  inflating: train/converse/269.jpg  \n",
            "  inflating: train/converse/270.jpg  \n",
            "  inflating: train/converse/271.jpg  \n",
            "  inflating: train/converse/272.jpg  \n",
            "  inflating: train/converse/273.jpg  \n",
            "  inflating: train/converse/274.jpg  \n",
            "  inflating: train/converse/38.jpg   \n",
            "  inflating: train/converse/39.jpg   \n",
            "  inflating: train/converse/40.jpg   \n",
            "  inflating: train/converse/41.jpg   \n",
            "  inflating: train/converse/42.jpg   \n",
            "  inflating: train/converse/43.jpg   \n",
            "  inflating: train/converse/44.jpg   \n",
            "  inflating: train/converse/45.jpg   \n",
            "  inflating: train/converse/46.jpg   \n",
            "  inflating: train/converse/47.jpg   \n",
            "  inflating: train/converse/48.jpg   \n",
            "  inflating: train/converse/49.jpg   \n",
            "  inflating: train/converse/50.jpg   \n",
            "  inflating: train/converse/51.jpg   \n",
            "  inflating: train/converse/52.jpg   \n",
            "  inflating: train/converse/53.jpg   \n",
            "  inflating: train/converse/54.jpg   \n",
            "  inflating: train/converse/55.jpg   \n",
            "  inflating: train/converse/56.jpg   \n",
            "  inflating: train/converse/57.jpg   \n",
            "  inflating: train/converse/58.jpg   \n",
            "  inflating: train/converse/59.jpg   \n",
            "  inflating: train/converse/60.jpg   \n",
            "  inflating: train/converse/61.jpg   \n",
            "  inflating: train/converse/62.jpg   \n",
            "  inflating: train/converse/63.jpg   \n",
            "  inflating: train/converse/64.jpg   \n",
            "  inflating: train/converse/65.jpg   \n",
            "  inflating: train/converse/66.jpg   \n",
            "  inflating: train/converse/67.jpg   \n",
            "  inflating: train/converse/68.jpg   \n",
            "  inflating: train/converse/69.jpg   \n",
            "  inflating: train/converse/70.jpg   \n",
            "  inflating: train/converse/71.jpg   \n",
            "  inflating: train/converse/72.jpg   \n",
            "  inflating: train/converse/73.jpg   \n",
            "  inflating: train/converse/74.jpg   \n",
            "  inflating: train/converse/75.jpg   \n",
            "  inflating: train/converse/76.jpg   \n",
            "  inflating: train/converse/77.jpg   \n",
            "  inflating: train/converse/78.jpg   \n",
            "  inflating: train/converse/79.jpg   \n",
            "  inflating: train/converse/80.jpg   \n",
            "  inflating: train/converse/81.jpg   \n",
            "  inflating: train/converse/82.jpg   \n",
            "  inflating: train/converse/83.jpg   \n",
            "  inflating: train/converse/84.jpg   \n",
            "  inflating: train/converse/85.jpg   \n",
            "  inflating: train/converse/86.jpg   \n",
            "  inflating: train/converse/87.jpg   \n",
            "  inflating: train/converse/88.jpg   \n",
            "  inflating: train/converse/89.jpg   \n",
            "  inflating: train/converse/90.jpg   \n",
            "  inflating: train/converse/91.jpg   \n",
            "  inflating: train/converse/92.jpg   \n",
            "  inflating: train/converse/93.jpg   \n",
            "  inflating: train/converse/94.jpg   \n",
            "  inflating: train/converse/95.jpg   \n",
            "  inflating: train/converse/96.jpg   \n",
            "  inflating: train/converse/97.jpg   \n",
            "  inflating: train/converse/98.jpg   \n",
            "  inflating: train/converse/99.jpg   \n",
            "  inflating: train/nike/100.jpg      \n",
            "  inflating: train/nike/101.jpg      \n",
            "  inflating: train/nike/102.jpg      \n",
            "  inflating: train/nike/103.jpg      \n",
            "  inflating: train/nike/104.jpg      \n",
            "  inflating: train/nike/105.jpg      \n",
            "  inflating: train/nike/106.jpg      \n",
            "  inflating: train/nike/107.jpg      \n",
            "  inflating: train/nike/108.jpg      \n",
            "  inflating: train/nike/109.jpg      \n",
            "  inflating: train/nike/110.jpg      \n",
            "  inflating: train/nike/111.jpg      \n",
            "  inflating: train/nike/112.jpg      \n",
            "  inflating: train/nike/113.jpg      \n",
            "  inflating: train/nike/114.jpg      \n",
            "  inflating: train/nike/115.jpg      \n",
            "  inflating: train/nike/116.jpg      \n",
            "  inflating: train/nike/117.jpg      \n",
            "  inflating: train/nike/118.jpg      \n",
            "  inflating: train/nike/119.jpg      \n",
            "  inflating: train/nike/120.jpg      \n",
            "  inflating: train/nike/121.jpg      \n",
            "  inflating: train/nike/122.jpg      \n",
            "  inflating: train/nike/123.jpg      \n",
            "  inflating: train/nike/124.jpg      \n",
            "  inflating: train/nike/125.jpg      \n",
            "  inflating: train/nike/126.jpg      \n",
            "  inflating: train/nike/127.jpg      \n",
            "  inflating: train/nike/128.jpg      \n",
            "  inflating: train/nike/129.jpg      \n",
            "  inflating: train/nike/130.jpg      \n",
            "  inflating: train/nike/131.jpg      \n",
            "  inflating: train/nike/132.jpg      \n",
            "  inflating: train/nike/133.jpg      \n",
            "  inflating: train/nike/134.jpg      \n",
            "  inflating: train/nike/135.jpg      \n",
            "  inflating: train/nike/136.jpg      \n",
            "  inflating: train/nike/137.jpg      \n",
            "  inflating: train/nike/138.jpg      \n",
            "  inflating: train/nike/139.jpg      \n",
            "  inflating: train/nike/140.jpg      \n",
            "  inflating: train/nike/141.jpg      \n",
            "  inflating: train/nike/142.jpg      \n",
            "  inflating: train/nike/143.jpg      \n",
            "  inflating: train/nike/144.jpg      \n",
            "  inflating: train/nike/145.jpg      \n",
            "  inflating: train/nike/146.jpg      \n",
            "  inflating: train/nike/147.jpg      \n",
            "  inflating: train/nike/148.jpg      \n",
            "  inflating: train/nike/149.jpg      \n",
            "  inflating: train/nike/150.jpg      \n",
            "  inflating: train/nike/151.jpg      \n",
            "  inflating: train/nike/152.jpg      \n",
            "  inflating: train/nike/153.jpg      \n",
            "  inflating: train/nike/154.jpg      \n",
            "  inflating: train/nike/155.jpg      \n",
            "  inflating: train/nike/156.jpg      \n",
            "  inflating: train/nike/157.jpg      \n",
            "  inflating: train/nike/158.jpg      \n",
            "  inflating: train/nike/159.jpg      \n",
            "  inflating: train/nike/160.jpg      \n",
            "  inflating: train/nike/161.jpg      \n",
            "  inflating: train/nike/162.jpg      \n",
            "  inflating: train/nike/163.jpg      \n",
            "  inflating: train/nike/164.jpg      \n",
            "  inflating: train/nike/165.jpg      \n",
            "  inflating: train/nike/166.jpg      \n",
            "  inflating: train/nike/167.jpg      \n",
            "  inflating: train/nike/168.jpg      \n",
            "  inflating: train/nike/169.jpg      \n",
            "  inflating: train/nike/170.jpg      \n",
            "  inflating: train/nike/171.jpg      \n",
            "  inflating: train/nike/172.jpg      \n",
            "  inflating: train/nike/173.jpg      \n",
            "  inflating: train/nike/174.jpg      \n",
            "  inflating: train/nike/175.jpg      \n",
            "  inflating: train/nike/176.jpg      \n",
            "  inflating: train/nike/177.jpg      \n",
            "  inflating: train/nike/178.jpg      \n",
            "  inflating: train/nike/179.jpg      \n",
            "  inflating: train/nike/180.jpg      \n",
            "  inflating: train/nike/181.jpg      \n",
            "  inflating: train/nike/182.jpg      \n",
            "  inflating: train/nike/183.jpg      \n",
            "  inflating: train/nike/184.jpg      \n",
            "  inflating: train/nike/185.jpg      \n",
            "  inflating: train/nike/186.jpg      \n",
            "  inflating: train/nike/187.jpg      \n",
            "  inflating: train/nike/188.jpg      \n",
            "  inflating: train/nike/189.jpg      \n",
            "  inflating: train/nike/190.jpg      \n",
            "  inflating: train/nike/191.jpg      \n",
            "  inflating: train/nike/192.jpg      \n",
            "  inflating: train/nike/193.jpg      \n",
            "  inflating: train/nike/194.jpg      \n",
            "  inflating: train/nike/195.jpg      \n",
            "  inflating: train/nike/196.jpg      \n",
            "  inflating: train/nike/197.jpg      \n",
            "  inflating: train/nike/198.jpg      \n",
            "  inflating: train/nike/199.jpg      \n",
            "  inflating: train/nike/200.jpg      \n",
            "  inflating: train/nike/201.jpg      \n",
            "  inflating: train/nike/202.jpg      \n",
            "  inflating: train/nike/203.jpg      \n",
            "  inflating: train/nike/204.jpg      \n",
            "  inflating: train/nike/205.jpg      \n",
            "  inflating: train/nike/206.jpg      \n",
            "  inflating: train/nike/207.jpg      \n",
            "  inflating: train/nike/208.jpg      \n",
            "  inflating: train/nike/209.jpg      \n",
            "  inflating: train/nike/210.jpg      \n",
            "  inflating: train/nike/211.jpg      \n",
            "  inflating: train/nike/212.jpg      \n",
            "  inflating: train/nike/213.jpg      \n",
            "  inflating: train/nike/214.jpg      \n",
            "  inflating: train/nike/215.jpg      \n",
            "  inflating: train/nike/216.jpg      \n",
            "  inflating: train/nike/217.jpg      \n",
            "  inflating: train/nike/218.jpg      \n",
            "  inflating: train/nike/219.jpg      \n",
            "  inflating: train/nike/220.jpg      \n",
            "  inflating: train/nike/221.jpg      \n",
            "  inflating: train/nike/222.jpg      \n",
            "  inflating: train/nike/223.jpg      \n",
            "  inflating: train/nike/224.jpg      \n",
            "  inflating: train/nike/225.jpg      \n",
            "  inflating: train/nike/226.jpg      \n",
            "  inflating: train/nike/227.jpg      \n",
            "  inflating: train/nike/228.jpg      \n",
            "  inflating: train/nike/229.jpg      \n",
            "  inflating: train/nike/230.jpg      \n",
            "  inflating: train/nike/231.jpg      \n",
            "  inflating: train/nike/232.jpg      \n",
            "  inflating: train/nike/233.jpg      \n",
            "  inflating: train/nike/234.jpg      \n",
            "  inflating: train/nike/235.jpg      \n",
            "  inflating: train/nike/236.jpg      \n",
            "  inflating: train/nike/237.jpg      \n",
            "  inflating: train/nike/238.jpg      \n",
            "  inflating: train/nike/239.jpg      \n",
            "  inflating: train/nike/240.jpg      \n",
            "  inflating: train/nike/241.jpg      \n",
            "  inflating: train/nike/242.jpg      \n",
            "  inflating: train/nike/243.jpg      \n",
            "  inflating: train/nike/244.jpg      \n",
            "  inflating: train/nike/245.jpg      \n",
            "  inflating: train/nike/246.jpg      \n",
            "  inflating: train/nike/247.jpg      \n",
            "  inflating: train/nike/248.jpg      \n",
            "  inflating: train/nike/249.jpg      \n",
            "  inflating: train/nike/250.jpg      \n",
            "  inflating: train/nike/251.jpg      \n",
            "  inflating: train/nike/252.jpg      \n",
            "  inflating: train/nike/253.jpg      \n",
            "  inflating: train/nike/254.jpg      \n",
            "  inflating: train/nike/255.jpg      \n",
            "  inflating: train/nike/256.jpg      \n",
            "  inflating: train/nike/257.jpg      \n",
            "  inflating: train/nike/258.jpg      \n",
            "  inflating: train/nike/259.jpg      \n",
            "  inflating: train/nike/260.jpg      \n",
            "  inflating: train/nike/261.jpg      \n",
            "  inflating: train/nike/262.jpg      \n",
            "  inflating: train/nike/263.jpg      \n",
            "  inflating: train/nike/264.jpg      \n",
            "  inflating: train/nike/265.jpg      \n",
            "  inflating: train/nike/266.jpg      \n",
            "  inflating: train/nike/267.jpg      \n",
            "  inflating: train/nike/268.jpg      \n",
            "  inflating: train/nike/269.jpg      \n",
            "  inflating: train/nike/270.jpg      \n",
            "  inflating: train/nike/271.jpg      \n",
            "  inflating: train/nike/272.jpg      \n",
            "  inflating: train/nike/273.jpg      \n",
            "  inflating: train/nike/274.jpg      \n",
            "  inflating: train/nike/38.jpg       \n",
            "  inflating: train/nike/39.jpg       \n",
            "  inflating: train/nike/40.jpg       \n",
            "  inflating: train/nike/41.jpg       \n",
            "  inflating: train/nike/42.jpg       \n",
            "  inflating: train/nike/43.jpg       \n",
            "  inflating: train/nike/44.jpg       \n",
            "  inflating: train/nike/45.jpg       \n",
            "  inflating: train/nike/46.jpg       \n",
            "  inflating: train/nike/47.jpg       \n",
            "  inflating: train/nike/48.jpg       \n",
            "  inflating: train/nike/49.jpg       \n",
            "  inflating: train/nike/50.jpg       \n",
            "  inflating: train/nike/51.jpg       \n",
            "  inflating: train/nike/52.jpg       \n",
            "  inflating: train/nike/53.jpg       \n",
            "  inflating: train/nike/54.jpg       \n",
            "  inflating: train/nike/55.jpg       \n",
            "  inflating: train/nike/56.jpg       \n",
            "  inflating: train/nike/57.jpg       \n",
            "  inflating: train/nike/58.jpg       \n",
            "  inflating: train/nike/59.jpg       \n",
            "  inflating: train/nike/60.jpg       \n",
            "  inflating: train/nike/61.jpg       \n",
            "  inflating: train/nike/62.jpg       \n",
            "  inflating: train/nike/63.jpg       \n",
            "  inflating: train/nike/64.jpg       \n",
            "  inflating: train/nike/65.jpg       \n",
            "  inflating: train/nike/66.jpg       \n",
            "  inflating: train/nike/67.jpg       \n",
            "  inflating: train/nike/68.jpg       \n",
            "  inflating: train/nike/69.jpg       \n",
            "  inflating: train/nike/70.jpg       \n",
            "  inflating: train/nike/71.jpg       \n",
            "  inflating: train/nike/72.jpg       \n",
            "  inflating: train/nike/73.jpg       \n",
            "  inflating: train/nike/74.jpg       \n",
            "  inflating: train/nike/75.jpg       \n",
            "  inflating: train/nike/76.jpg       \n",
            "  inflating: train/nike/77.jpg       \n",
            "  inflating: train/nike/78.jpg       \n",
            "  inflating: train/nike/79.jpg       \n",
            "  inflating: train/nike/80.jpg       \n",
            "  inflating: train/nike/81.jpg       \n",
            "  inflating: train/nike/82.jpg       \n",
            "  inflating: train/nike/83.jpg       \n",
            "  inflating: train/nike/84.jpg       \n",
            "  inflating: train/nike/85.jpg       \n",
            "  inflating: train/nike/86.jpg       \n",
            "  inflating: train/nike/87.jpg       \n",
            "  inflating: train/nike/88.jpg       \n",
            "  inflating: train/nike/89.jpg       \n",
            "  inflating: train/nike/90.jpg       \n",
            "  inflating: train/nike/91.jpg       \n",
            "  inflating: train/nike/92.jpg       \n",
            "  inflating: train/nike/93.jpg       \n",
            "  inflating: train/nike/94.jpg       \n",
            "  inflating: train/nike/95.jpg       \n",
            "  inflating: train/nike/96.jpg       \n",
            "  inflating: train/nike/97.jpg       \n",
            "  inflating: train/nike/98.jpg       \n",
            "  inflating: train/nike/99.jpg       \n"
          ]
        }
      ]
    },
    {
      "cell_type": "code",
      "source": [],
      "metadata": {
        "id": "dWYVD4iWvZWZ"
      },
      "execution_count": null,
      "outputs": []
    },
    {
      "cell_type": "code",
      "source": [
        "import tensorflow as tf\n",
        "import numpy as np\n",
        "from tensorflow.keras import layers\n",
        "from tensorflow.keras import models\n",
        "from tensorflow.keras import optimizers\n",
        "from tensorflow.keras.preprocessing import image\n",
        "from tensorflow.keras.preprocessing.image import ImageDataGenerator\n",
        "from tensorflow.keras.applications import VGG16\n",
        "#import os\n",
        "import pandas as pd\n",
        "import math\n",
        "import numpy as np\n",
        "import sys\n",
        "#import matplotlib.pyplot as plt\n",
        "import os\n",
        "\n",
        "Pic_X = 240   # Размеры картинки - входа НС\n",
        "Pic_Y = 240"
      ],
      "metadata": {
        "id": "BYWmgb9PvZaW"
      },
      "execution_count": 10,
      "outputs": []
    },
    {
      "cell_type": "code",
      "source": [
        "model = models.Sequential()\n",
        "model.add(layers.Conv2D(64,(3,3), activation = 'relu', input_shape = (Pic_Y,Pic_X,3)))\n",
        "\n",
        "model.add(layers.MaxPooling2D((2,2)))\n",
        "\n",
        "model.add(layers.Conv2D(128,(3,3), activation = 'relu'))\n",
        "\n",
        "model.add(layers.MaxPooling2D((2,2)))\n",
        "\n",
        "model.add(layers.Conv2D(256,(3,3), activation = 'relu'))\n",
        "\n",
        "model.add(layers.MaxPooling2D((2,2)))\n",
        "\n",
        "\n",
        "model.add(layers.Flatten())\n",
        "\n",
        "model.add(layers.Dropout(0.3))\n",
        "\n",
        "model.add(layers.Dense(32, activation = 'relu'))\n",
        "\n",
        "model.add(layers.Dropout(0.3))\n",
        "\n",
        "model.add(layers.Dense(3, activation = 'softmax'))\n",
        "\n",
        "model.compile(loss = 'categorical_crossentropy',\n",
        "             optimizer='adam', metrics=['acc'])"
      ],
      "metadata": {
        "id": "OHBNiQ6OwOsj"
      },
      "execution_count": 11,
      "outputs": []
    },
    {
      "cell_type": "code",
      "source": [
        "model.summary()"
      ],
      "metadata": {
        "colab": {
          "base_uri": "https://localhost:8080/"
        },
        "id": "pUuBhFaHw4oA",
        "outputId": "fde52b64-a92e-4232-d292-5a108caef286"
      },
      "execution_count": 12,
      "outputs": [
        {
          "output_type": "stream",
          "name": "stdout",
          "text": [
            "Model: \"sequential\"\n",
            "_________________________________________________________________\n",
            " Layer (type)                Output Shape              Param #   \n",
            "=================================================================\n",
            " conv2d (Conv2D)             (None, 238, 238, 64)      1792      \n",
            "                                                                 \n",
            " max_pooling2d (MaxPooling2D  (None, 119, 119, 64)     0         \n",
            " )                                                               \n",
            "                                                                 \n",
            " conv2d_1 (Conv2D)           (None, 117, 117, 128)     73856     \n",
            "                                                                 \n",
            " max_pooling2d_1 (MaxPooling  (None, 58, 58, 128)      0         \n",
            " 2D)                                                             \n",
            "                                                                 \n",
            " conv2d_2 (Conv2D)           (None, 56, 56, 256)       295168    \n",
            "                                                                 \n",
            " max_pooling2d_2 (MaxPooling  (None, 28, 28, 256)      0         \n",
            " 2D)                                                             \n",
            "                                                                 \n",
            " flatten (Flatten)           (None, 200704)            0         \n",
            "                                                                 \n",
            " dropout (Dropout)           (None, 200704)            0         \n",
            "                                                                 \n",
            " dense (Dense)               (None, 32)                6422560   \n",
            "                                                                 \n",
            " dropout_1 (Dropout)         (None, 32)                0         \n",
            "                                                                 \n",
            " dense_1 (Dense)             (None, 3)                 99        \n",
            "                                                                 \n",
            "=================================================================\n",
            "Total params: 6,793,475\n",
            "Trainable params: 6,793,475\n",
            "Non-trainable params: 0\n",
            "_________________________________________________________________\n"
          ]
        }
      ]
    },
    {
      "cell_type": "code",
      "source": [
        "#случайные картинки выбирают и прогоняют через нейронные сети - генераторы\n",
        "\n",
        "train_datagen = ImageDataGenerator(rescale = 1./255,\n",
        "                                  rotation_range = 5,\n",
        "                                   width_shift_range = 0.15,\n",
        "                                   height_shift_range = 0.15,\n",
        "                                   shear_range = 0.15,\n",
        "                                   zoom_range = 0.1,\n",
        "                                   fill_mode = 'nearest')\n",
        "\n",
        "test_datagen = ImageDataGenerator(rescale = 1./255)\n",
        "\n",
        "train_generator = train_datagen.flow_from_directory('train',\n",
        "                                                   target_size = (240,240),\n",
        "                                                   batch_size = 16,\n",
        "                                                   class_mode = 'categorical')\n",
        "\n",
        "test_generator = test_datagen.flow_from_directory('test',\n",
        "                                                   target_size = (240,240),\n",
        "                                                   batch_size = 16,\n",
        "                                                   class_mode = 'categorical')\n"
      ],
      "metadata": {
        "colab": {
          "base_uri": "https://localhost:8080/"
        },
        "id": "H8gxeRw5w42y",
        "outputId": "a5adc4dc-f67c-4d00-e02d-72a171e38d48"
      },
      "execution_count": 13,
      "outputs": [
        {
          "output_type": "stream",
          "name": "stdout",
          "text": [
            "Found 711 images belonging to 3 classes.\n",
            "Found 114 images belonging to 3 classes.\n"
          ]
        }
      ]
    },
    {
      "cell_type": "code",
      "source": [
        "test_generator"
      ],
      "metadata": {
        "colab": {
          "base_uri": "https://localhost:8080/"
        },
        "id": "5ydyy-7RP5aW",
        "outputId": "e2c264f6-5562-40da-b625-4e8c65f415c8"
      },
      "execution_count": 46,
      "outputs": [
        {
          "output_type": "execute_result",
          "data": {
            "text/plain": [
              "<keras.preprocessing.image.DirectoryIterator at 0x7f06a1d75c50>"
            ]
          },
          "metadata": {},
          "execution_count": 46
        }
      ]
    },
    {
      "cell_type": "code",
      "source": [
        "history = model.fit_generator(train_generator, steps_per_epoch=711/16,epochs=10,validation_data=test_generator,validation_steps=114/16)"
      ],
      "metadata": {
        "colab": {
          "base_uri": "https://localhost:8080/"
        },
        "id": "dy76GQN2yGgu",
        "outputId": "64404565-bc7c-4f37-841b-c008a78d03af"
      },
      "execution_count": 14,
      "outputs": [
        {
          "output_type": "stream",
          "name": "stderr",
          "text": [
            "/usr/local/lib/python3.7/dist-packages/ipykernel_launcher.py:1: UserWarning: `Model.fit_generator` is deprecated and will be removed in a future version. Please use `Model.fit`, which supports generators.\n",
            "  \"\"\"Entry point for launching an IPython kernel.\n"
          ]
        },
        {
          "output_type": "stream",
          "name": "stdout",
          "text": [
            "Epoch 1/10\n",
            "44/44 [==============================] - 24s 249ms/step - loss: 1.3445 - acc: 0.3122 - val_loss: 1.0986 - val_acc: 0.3333\n",
            "Epoch 2/10\n",
            "44/44 [==============================] - 12s 268ms/step - loss: 1.1019 - acc: 0.2996 - val_loss: 1.0986 - val_acc: 0.3333\n",
            "Epoch 3/10\n",
            "44/44 [==============================] - 11s 239ms/step - loss: 1.0991 - acc: 0.3221 - val_loss: 1.0986 - val_acc: 0.3333\n",
            "Epoch 4/10\n",
            "44/44 [==============================] - 10s 234ms/step - loss: 1.0989 - acc: 0.3333 - val_loss: 1.0986 - val_acc: 0.3333\n",
            "Epoch 5/10\n",
            "44/44 [==============================] - 11s 243ms/step - loss: 1.0987 - acc: 0.3333 - val_loss: 1.0986 - val_acc: 0.3333\n",
            "Epoch 6/10\n",
            "44/44 [==============================] - 11s 245ms/step - loss: 1.0987 - acc: 0.3333 - val_loss: 1.0985 - val_acc: 0.3421\n",
            "Epoch 7/10\n",
            "44/44 [==============================] - 10s 232ms/step - loss: 1.1072 - acc: 0.3179 - val_loss: 1.0984 - val_acc: 0.3333\n",
            "Epoch 8/10\n",
            "44/44 [==============================] - 10s 234ms/step - loss: 1.1021 - acc: 0.3390 - val_loss: 1.0962 - val_acc: 0.3333\n",
            "Epoch 9/10\n",
            "44/44 [==============================] - 10s 234ms/step - loss: 1.0983 - acc: 0.3347 - val_loss: 1.0864 - val_acc: 0.4386\n",
            "Epoch 10/10\n",
            "44/44 [==============================] - 10s 234ms/step - loss: 1.0928 - acc: 0.3615 - val_loss: 1.0894 - val_acc: 0.3421\n"
          ]
        }
      ]
    },
    {
      "cell_type": "code",
      "source": [
        "conv_base = VGG16(weights='imagenet',\n",
        " include_top=False,\n",
        " input_shape=(Pic_Y, Pic_X, 3))\n",
        "\n",
        "#перенос данных"
      ],
      "metadata": {
        "colab": {
          "base_uri": "https://localhost:8080/"
        },
        "id": "3dhOcQeHyGjQ",
        "outputId": "b2352332-9efb-479a-ea7d-a94c7fc7cc3d"
      },
      "execution_count": 15,
      "outputs": [
        {
          "output_type": "stream",
          "name": "stdout",
          "text": [
            "Downloading data from https://storage.googleapis.com/tensorflow/keras-applications/vgg16/vgg16_weights_tf_dim_ordering_tf_kernels_notop.h5\n",
            "58892288/58889256 [==============================] - 0s 0us/step\n",
            "58900480/58889256 [==============================] - 0s 0us/step\n"
          ]
        }
      ]
    },
    {
      "cell_type": "code",
      "source": [
        "model = models.Sequential()\n",
        "model.add(conv_base)\n",
        "model.add(layers.Flatten())\n",
        "model.add(layers.Dense(32, activation='relu'))\n",
        "model.add(layers.Dense(3, activation = 'softmax'))\n",
        "\n",
        "conv_base.trainable = False\n",
        "#важная часть False писать обязательно,чтобы не училось !!!!!\n",
        "\n",
        "model.compile(loss = 'categorical_crossentropy',\n",
        "             optimizer='adam', metrics=['acc'])"
      ],
      "metadata": {
        "id": "2kdPUqTXyGmU"
      },
      "execution_count": 16,
      "outputs": []
    },
    {
      "cell_type": "code",
      "source": [
        "model.summary()"
      ],
      "metadata": {
        "colab": {
          "base_uri": "https://localhost:8080/"
        },
        "id": "toVPe4g-4HJ3",
        "outputId": "4da33850-9d5c-454f-9241-5dd97ecab7e1"
      },
      "execution_count": 17,
      "outputs": [
        {
          "output_type": "stream",
          "name": "stdout",
          "text": [
            "Model: \"sequential_1\"\n",
            "_________________________________________________________________\n",
            " Layer (type)                Output Shape              Param #   \n",
            "=================================================================\n",
            " vgg16 (Functional)          (None, 7, 7, 512)         14714688  \n",
            "                                                                 \n",
            " flatten_1 (Flatten)         (None, 25088)             0         \n",
            "                                                                 \n",
            " dense_2 (Dense)             (None, 32)                802848    \n",
            "                                                                 \n",
            " dense_3 (Dense)             (None, 3)                 99        \n",
            "                                                                 \n",
            "=================================================================\n",
            "Total params: 15,517,635\n",
            "Trainable params: 802,947\n",
            "Non-trainable params: 14,714,688\n",
            "_________________________________________________________________\n"
          ]
        }
      ]
    },
    {
      "cell_type": "code",
      "source": [
        "history = model.fit_generator(train_generator, steps_per_epoch=711/16,epochs=10,validation_data=test_generator,validation_steps=114/16)"
      ],
      "metadata": {
        "colab": {
          "base_uri": "https://localhost:8080/"
        },
        "id": "jMcjYCPN4HMs",
        "outputId": "67e69540-1a5e-4b41-b49b-c085646231b2"
      },
      "execution_count": 18,
      "outputs": [
        {
          "output_type": "stream",
          "name": "stderr",
          "text": [
            "/usr/local/lib/python3.7/dist-packages/ipykernel_launcher.py:1: UserWarning: `Model.fit_generator` is deprecated and will be removed in a future version. Please use `Model.fit`, which supports generators.\n",
            "  \"\"\"Entry point for launching an IPython kernel.\n"
          ]
        },
        {
          "output_type": "stream",
          "name": "stdout",
          "text": [
            "Epoch 1/10\n",
            "44/44 [==============================] - 15s 284ms/step - loss: 1.0173 - acc: 0.5232 - val_loss: 0.6672 - val_acc: 0.7281\n",
            "Epoch 2/10\n",
            "44/44 [==============================] - 11s 243ms/step - loss: 0.5174 - acc: 0.8143 - val_loss: 0.5233 - val_acc: 0.7895\n",
            "Epoch 3/10\n",
            "44/44 [==============================] - 11s 243ms/step - loss: 0.4905 - acc: 0.8073 - val_loss: 0.6580 - val_acc: 0.7193\n",
            "Epoch 4/10\n",
            "44/44 [==============================] - 11s 242ms/step - loss: 0.4048 - acc: 0.8425 - val_loss: 0.5108 - val_acc: 0.8509\n",
            "Epoch 5/10\n",
            "44/44 [==============================] - 11s 243ms/step - loss: 0.3029 - acc: 0.9030 - val_loss: 0.4938 - val_acc: 0.7982\n",
            "Epoch 6/10\n",
            "44/44 [==============================] - 11s 245ms/step - loss: 0.2444 - acc: 0.9269 - val_loss: 0.4533 - val_acc: 0.8421\n",
            "Epoch 7/10\n",
            "44/44 [==============================] - 11s 244ms/step - loss: 0.2134 - acc: 0.9283 - val_loss: 0.4152 - val_acc: 0.8509\n",
            "Epoch 8/10\n",
            "44/44 [==============================] - 12s 276ms/step - loss: 0.1942 - acc: 0.9423 - val_loss: 0.4416 - val_acc: 0.8509\n",
            "Epoch 9/10\n",
            "44/44 [==============================] - 11s 242ms/step - loss: 0.2177 - acc: 0.9170 - val_loss: 0.4616 - val_acc: 0.8333\n",
            "Epoch 10/10\n",
            "44/44 [==============================] - 11s 243ms/step - loss: 0.1621 - acc: 0.9423 - val_loss: 0.5537 - val_acc: 0.8421\n"
          ]
        }
      ]
    },
    {
      "cell_type": "code",
      "source": [
        "model.save('nike_other_0.85.h5')"
      ],
      "metadata": {
        "id": "f5YzcbFm7VUZ"
      },
      "execution_count": 20,
      "outputs": []
    },
    {
      "cell_type": "code",
      "source": [
        "!cp nike_other_0.85.h5 /GD/'My Drive'/nike_other_0.85.h5"
      ],
      "metadata": {
        "id": "b1rmJ2om-gaH"
      },
      "execution_count": 21,
      "outputs": []
    },
    {
      "cell_type": "code",
      "source": [],
      "metadata": {
        "id": "23g-HQm2Or-1"
      },
      "execution_count": null,
      "outputs": []
    },
    {
      "cell_type": "code",
      "source": [],
      "metadata": {
        "id": "WcR5XAfoOsLc"
      },
      "execution_count": null,
      "outputs": []
    },
    {
      "cell_type": "code",
      "source": [
        "loaded_model = tf.keras.models.load_model('nike_other_0.85.h5')"
      ],
      "metadata": {
        "id": "_SXSaMVGG56y"
      },
      "execution_count": 23,
      "outputs": []
    },
    {
      "cell_type": "code",
      "source": [
        "score = model.evaluate(test_generator , verbose=0)\n",
        "print('Test loss:', score[0])\n",
        "print('Test accuracy:', score[1])"
      ],
      "metadata": {
        "colab": {
          "base_uri": "https://localhost:8080/"
        },
        "id": "-xZdX4CgKmhM",
        "outputId": "2daa2b7b-9be5-4a6d-e833-60229675ba4e"
      },
      "execution_count": 48,
      "outputs": [
        {
          "output_type": "stream",
          "name": "stdout",
          "text": [
            "Test loss: 0.5537337064743042\n",
            "Test accuracy: 0.8421052694320679\n"
          ]
        }
      ]
    },
    {
      "cell_type": "code",
      "source": [],
      "metadata": {
        "id": "cucMfzFVMgxB"
      },
      "execution_count": null,
      "outputs": []
    },
    {
      "cell_type": "code",
      "source": [],
      "metadata": {
        "id": "FfIBKSPmMg3b"
      },
      "execution_count": null,
      "outputs": []
    },
    {
      "cell_type": "code",
      "source": [
        "!cp -r /GD/'My Drive'/IMAGES_randomFromInternet.zip  ."
      ],
      "metadata": {
        "id": "Ov1F98aUMiGn"
      },
      "execution_count": 27,
      "outputs": []
    },
    {
      "cell_type": "code",
      "source": [
        "!ls"
      ],
      "metadata": {
        "colab": {
          "base_uri": "https://localhost:8080/"
        },
        "id": "XkOaR1sFMiKl",
        "outputId": "f3a0d061-409a-40df-df9b-b8d41dea34dc"
      },
      "execution_count": 28,
      "outputs": [
        {
          "output_type": "stream",
          "name": "stdout",
          "text": [
            "boots.zip  IMAGES_randomFromInternet.zip  sample_data  train\n",
            "GD\t   nike_other_0.85.h5\t\t  test\n"
          ]
        }
      ]
    },
    {
      "cell_type": "code",
      "source": [
        "!unzip IMAGES_randomFromInternet.zip"
      ],
      "metadata": {
        "colab": {
          "base_uri": "https://localhost:8080/"
        },
        "id": "p1zrbL_nMiNy",
        "outputId": "58b06bf9-87f5-43bd-fd68-9caf18c48686"
      },
      "execution_count": 29,
      "outputs": [
        {
          "output_type": "stream",
          "name": "stdout",
          "text": [
            "Archive:  IMAGES_randomFromInternet.zip\n",
            "   creating: IMAGES_randomFromInternet/adidas/\n",
            "  inflating: IMAGES_randomFromInternet/adidas/000001.jpg  \n",
            "  inflating: IMAGES_randomFromInternet/adidas/000002.jpg  \n",
            "  inflating: IMAGES_randomFromInternet/adidas/000003.jpg  \n",
            "  inflating: IMAGES_randomFromInternet/adidas/000004.jpg  \n",
            "  inflating: IMAGES_randomFromInternet/adidas/000005.jpg  \n",
            "  inflating: IMAGES_randomFromInternet/adidas/000006.jpg  \n",
            "  inflating: IMAGES_randomFromInternet/adidas/000007.jpg  \n",
            "  inflating: IMAGES_randomFromInternet/adidas/000008.jpg  \n",
            "  inflating: IMAGES_randomFromInternet/adidas/000009.jpg  \n",
            "  inflating: IMAGES_randomFromInternet/adidas/000010.jpg  \n",
            "  inflating: IMAGES_randomFromInternet/adidas/000011.jpg  \n",
            "  inflating: IMAGES_randomFromInternet/adidas/000013.jpg  \n",
            "  inflating: IMAGES_randomFromInternet/adidas/000014.jpg  \n",
            "  inflating: IMAGES_randomFromInternet/adidas/000015.jpg  \n",
            "  inflating: IMAGES_randomFromInternet/adidas/000016.jpg  \n",
            "  inflating: IMAGES_randomFromInternet/adidas/000017.jpg  \n",
            "  inflating: IMAGES_randomFromInternet/adidas/000018.jpg  \n",
            "  inflating: IMAGES_randomFromInternet/adidas/000019.jpg  \n",
            "  inflating: IMAGES_randomFromInternet/adidas/000021.jpg  \n",
            "  inflating: IMAGES_randomFromInternet/adidas/000022.jpg  \n",
            "  inflating: IMAGES_randomFromInternet/adidas/000023.jpg  \n",
            "  inflating: IMAGES_randomFromInternet/adidas/000024.jpg  \n",
            "  inflating: IMAGES_randomFromInternet/adidas/000025.jpg  \n",
            "  inflating: IMAGES_randomFromInternet/adidas/000026.jpg  \n",
            "  inflating: IMAGES_randomFromInternet/adidas/000027.png  \n",
            "  inflating: IMAGES_randomFromInternet/adidas/000028.jpg  \n",
            "  inflating: IMAGES_randomFromInternet/adidas/000029.jpg  \n",
            "  inflating: IMAGES_randomFromInternet/adidas/000030.jpg  \n",
            "  inflating: IMAGES_randomFromInternet/adidas/000031.jpg  \n",
            "  inflating: IMAGES_randomFromInternet/adidas/000032.jpg  \n",
            "  inflating: IMAGES_randomFromInternet/adidas/000034.jpg  \n",
            "  inflating: IMAGES_randomFromInternet/adidas/000035.jpg  \n",
            "  inflating: IMAGES_randomFromInternet/adidas/000036.jpg  \n",
            "  inflating: IMAGES_randomFromInternet/adidas/000037.jpg  \n",
            "  inflating: IMAGES_randomFromInternet/adidas/000038.jpg  \n",
            "  inflating: IMAGES_randomFromInternet/adidas/000039.jpg  \n",
            "  inflating: IMAGES_randomFromInternet/adidas/000040.jpg  \n",
            "  inflating: IMAGES_randomFromInternet/adidas/000041.jpg  \n",
            "  inflating: IMAGES_randomFromInternet/adidas/000042.jpg  \n",
            "  inflating: IMAGES_randomFromInternet/adidas/000043.jpg  \n",
            "  inflating: IMAGES_randomFromInternet/adidas/000044.jpg  \n",
            "  inflating: IMAGES_randomFromInternet/adidas/000045.jpg  \n",
            "  inflating: IMAGES_randomFromInternet/adidas/000046.jpg  \n",
            "  inflating: IMAGES_randomFromInternet/adidas/000047.jpg  \n",
            "  inflating: IMAGES_randomFromInternet/adidas/000048.jpg  \n",
            "  inflating: IMAGES_randomFromInternet/adidas/000050.jpg  \n",
            "   creating: IMAGES_randomFromInternet/converse/\n",
            "  inflating: IMAGES_randomFromInternet/converse/000001.jpg  \n",
            "  inflating: IMAGES_randomFromInternet/converse/000002.jpg  \n",
            "  inflating: IMAGES_randomFromInternet/converse/000003.jpg  \n",
            "  inflating: IMAGES_randomFromInternet/converse/000004.jpg  \n",
            "  inflating: IMAGES_randomFromInternet/converse/000005.png  \n",
            "  inflating: IMAGES_randomFromInternet/converse/000006.jpg  \n",
            "  inflating: IMAGES_randomFromInternet/converse/000007.png  \n",
            "  inflating: IMAGES_randomFromInternet/converse/000008.jpg  \n",
            "  inflating: IMAGES_randomFromInternet/converse/000009.jpg  \n",
            "  inflating: IMAGES_randomFromInternet/converse/000010.jpg  \n",
            "  inflating: IMAGES_randomFromInternet/converse/000011.jpg  \n",
            "  inflating: IMAGES_randomFromInternet/converse/000012.jpg  \n",
            "  inflating: IMAGES_randomFromInternet/converse/000013.jpg  \n",
            "  inflating: IMAGES_randomFromInternet/converse/000014.jpg  \n",
            "  inflating: IMAGES_randomFromInternet/converse/000016.jpg  \n",
            "  inflating: IMAGES_randomFromInternet/converse/000017.jpg  \n",
            "  inflating: IMAGES_randomFromInternet/converse/000018.jpg  \n",
            "  inflating: IMAGES_randomFromInternet/converse/000019.jpg  \n",
            "  inflating: IMAGES_randomFromInternet/converse/000020.jpg  \n",
            "  inflating: IMAGES_randomFromInternet/converse/000021.jpg  \n",
            "  inflating: IMAGES_randomFromInternet/converse/000022.jpg  \n",
            "  inflating: IMAGES_randomFromInternet/converse/000023.jpg  \n",
            "  inflating: IMAGES_randomFromInternet/converse/000024.jpg  \n",
            "  inflating: IMAGES_randomFromInternet/converse/000025.jpg  \n",
            "  inflating: IMAGES_randomFromInternet/converse/000026.jpg  \n",
            "  inflating: IMAGES_randomFromInternet/converse/000027.jpg  \n",
            "  inflating: IMAGES_randomFromInternet/converse/000028.jpg  \n",
            "  inflating: IMAGES_randomFromInternet/converse/000029.jpg  \n",
            "  inflating: IMAGES_randomFromInternet/converse/000030.jpg  \n",
            "  inflating: IMAGES_randomFromInternet/converse/000031.png  \n",
            "  inflating: IMAGES_randomFromInternet/converse/000032.jpg  \n",
            "  inflating: IMAGES_randomFromInternet/converse/000033.jpg  \n",
            "  inflating: IMAGES_randomFromInternet/converse/000034.jpg  \n",
            "  inflating: IMAGES_randomFromInternet/converse/000035.jpg  \n",
            "  inflating: IMAGES_randomFromInternet/converse/000036.jpg  \n",
            "  inflating: IMAGES_randomFromInternet/converse/000037.jpg  \n",
            "  inflating: IMAGES_randomFromInternet/converse/000038.jpg  \n",
            "  inflating: IMAGES_randomFromInternet/converse/000039.jpg  \n",
            "  inflating: IMAGES_randomFromInternet/converse/000040.jpg  \n",
            "  inflating: IMAGES_randomFromInternet/converse/000041.jpg  \n",
            "  inflating: IMAGES_randomFromInternet/converse/000042.jpg  \n",
            "  inflating: IMAGES_randomFromInternet/converse/000043.jpg  \n",
            "  inflating: IMAGES_randomFromInternet/converse/000044.jpg  \n",
            "  inflating: IMAGES_randomFromInternet/converse/000045.jpg  \n",
            "  inflating: IMAGES_randomFromInternet/converse/000046.jpg  \n",
            "  inflating: IMAGES_randomFromInternet/converse/000047.jpg  \n",
            "  inflating: IMAGES_randomFromInternet/converse/000048.jpg  \n",
            "  inflating: IMAGES_randomFromInternet/converse/000049.jpg  \n",
            "  inflating: IMAGES_randomFromInternet/converse/000050.jpg  \n",
            "   creating: IMAGES_randomFromInternet/nike/\n",
            "  inflating: IMAGES_randomFromInternet/nike/000001.png  \n",
            "  inflating: IMAGES_randomFromInternet/nike/000002.png  \n",
            "  inflating: IMAGES_randomFromInternet/nike/000003.png  \n",
            "  inflating: IMAGES_randomFromInternet/nike/000004.png  \n",
            "  inflating: IMAGES_randomFromInternet/nike/000005.png  \n",
            "  inflating: IMAGES_randomFromInternet/nike/000006.png  \n",
            "  inflating: IMAGES_randomFromInternet/nike/000007.png  \n",
            "  inflating: IMAGES_randomFromInternet/nike/000008.jpg  \n",
            "  inflating: IMAGES_randomFromInternet/nike/000009.png  \n",
            "  inflating: IMAGES_randomFromInternet/nike/000012.png  \n",
            "  inflating: IMAGES_randomFromInternet/nike/000013.png  \n",
            "  inflating: IMAGES_randomFromInternet/nike/000014.jpg  \n",
            "  inflating: IMAGES_randomFromInternet/nike/000015.png  \n",
            "  inflating: IMAGES_randomFromInternet/nike/000016.png  \n",
            "  inflating: IMAGES_randomFromInternet/nike/000017.png  \n",
            "  inflating: IMAGES_randomFromInternet/nike/000018.png  \n",
            "  inflating: IMAGES_randomFromInternet/nike/000019.png  \n",
            "  inflating: IMAGES_randomFromInternet/nike/000020.png  \n",
            "  inflating: IMAGES_randomFromInternet/nike/000021.jpg  \n",
            "  inflating: IMAGES_randomFromInternet/nike/000022.png  \n",
            "  inflating: IMAGES_randomFromInternet/nike/000023.png  \n",
            "  inflating: IMAGES_randomFromInternet/nike/000024.png  \n",
            "  inflating: IMAGES_randomFromInternet/nike/000026.png  \n",
            "  inflating: IMAGES_randomFromInternet/nike/000027.png  \n",
            "  inflating: IMAGES_randomFromInternet/nike/000028.png  \n",
            "  inflating: IMAGES_randomFromInternet/nike/000029.jpg  \n",
            "  inflating: IMAGES_randomFromInternet/nike/000031.png  \n",
            "  inflating: IMAGES_randomFromInternet/nike/000032.png  \n",
            "  inflating: IMAGES_randomFromInternet/nike/000033.png  \n",
            "  inflating: IMAGES_randomFromInternet/nike/000034.jpg  \n",
            "  inflating: IMAGES_randomFromInternet/nike/000035.png  \n",
            "  inflating: IMAGES_randomFromInternet/nike/000036.png  \n",
            "  inflating: IMAGES_randomFromInternet/nike/000037.jpg  \n",
            "  inflating: IMAGES_randomFromInternet/nike/000038.jpg  \n",
            "  inflating: IMAGES_randomFromInternet/nike/000039.jpg  \n",
            "  inflating: IMAGES_randomFromInternet/nike/000040.png  \n",
            "  inflating: IMAGES_randomFromInternet/nike/000041.png  \n",
            "  inflating: IMAGES_randomFromInternet/nike/000042.png  \n",
            "  inflating: IMAGES_randomFromInternet/nike/000043.png  \n",
            "  inflating: IMAGES_randomFromInternet/nike/000044.jpg  \n",
            "  inflating: IMAGES_randomFromInternet/nike/000045.jpg  \n",
            "  inflating: IMAGES_randomFromInternet/nike/000046.png  \n",
            "  inflating: IMAGES_randomFromInternet/nike/000047.png  \n",
            "  inflating: IMAGES_randomFromInternet/nike/000048.jpg  \n",
            "  inflating: IMAGES_randomFromInternet/nike/000049.jpg  \n",
            "  inflating: IMAGES_randomFromInternet/nike/000050.png  \n"
          ]
        }
      ]
    },
    {
      "cell_type": "code",
      "source": [
        "!ls IMAGES_randomFromInternet/nike"
      ],
      "metadata": {
        "colab": {
          "base_uri": "https://localhost:8080/"
        },
        "id": "rkjEqC1RMg8g",
        "outputId": "521ddb48-5bbd-4a4f-eeb6-4657347eca4c"
      },
      "execution_count": 32,
      "outputs": [
        {
          "output_type": "stream",
          "name": "stdout",
          "text": [
            "000001.png  000009.png\t000019.png  000028.png\t000037.jpg  000045.jpg\n",
            "000002.png  000012.png\t000020.png  000029.jpg\t000038.jpg  000046.png\n",
            "000003.png  000013.png\t000021.jpg  000031.png\t000039.jpg  000047.png\n",
            "000004.png  000014.jpg\t000022.png  000032.png\t000040.png  000048.jpg\n",
            "000005.png  000015.png\t000023.png  000033.png\t000041.png  000049.jpg\n",
            "000006.png  000016.png\t000024.png  000034.jpg\t000042.png  000050.png\n",
            "000007.png  000017.png\t000026.png  000035.png\t000043.png\n",
            "000008.jpg  000018.png\t000027.png  000036.png\t000044.jpg\n"
          ]
        }
      ]
    },
    {
      "cell_type": "code",
      "source": [],
      "metadata": {
        "id": "JW_R3AuHNmMd"
      },
      "execution_count": null,
      "outputs": []
    },
    {
      "cell_type": "code",
      "source": [
        "train_datagen_2 = ImageDataGenerator(rescale = 1./255)\n",
        "\n",
        "train_generator_2 = train_datagen_2.flow_from_directory('IMAGES_randomFromInternet',\n",
        "                                                   target_size = (240,240),\n",
        "                                                   batch_size = 50,\n",
        "                                                   class_mode = 'categorical')"
      ],
      "metadata": {
        "colab": {
          "base_uri": "https://localhost:8080/"
        },
        "id": "Kkl3dYc2RUog",
        "outputId": "462f3038-3c74-4597-e63d-4acc3fda737b"
      },
      "execution_count": 50,
      "outputs": [
        {
          "output_type": "stream",
          "name": "stdout",
          "text": [
            "Found 141 images belonging to 3 classes.\n"
          ]
        }
      ]
    },
    {
      "cell_type": "code",
      "source": [
        "score = model.evaluate(train_generator_2 , verbose=0)\n",
        "print('Test loss:', score[0])\n",
        "print('Test accuracy:', score[1])"
      ],
      "metadata": {
        "colab": {
          "base_uri": "https://localhost:8080/"
        },
        "id": "jPe8xUMwRUuD",
        "outputId": "15aa8821-9942-450d-ea4e-983969220efd"
      },
      "execution_count": 51,
      "outputs": [
        {
          "output_type": "stream",
          "name": "stderr",
          "text": [
            "/usr/local/lib/python3.7/dist-packages/PIL/Image.py:960: UserWarning: Palette images with Transparency expressed in bytes should be converted to RGBA images\n",
            "  \"Palette images with Transparency expressed in bytes should be \"\n"
          ]
        },
        {
          "output_type": "stream",
          "name": "stdout",
          "text": [
            "Test loss: 0.5483559370040894\n",
            "Test accuracy: 0.8510638475418091\n"
          ]
        }
      ]
    },
    {
      "cell_type": "code",
      "source": [],
      "metadata": {
        "id": "8utnHPS9NmQw"
      },
      "execution_count": null,
      "outputs": []
    },
    {
      "cell_type": "code",
      "source": [],
      "metadata": {
        "id": "V4UsRThzMhBO"
      },
      "execution_count": null,
      "outputs": []
    },
    {
      "cell_type": "code",
      "source": [
        "from tensorflow.keras.preprocessing import image\n",
        "import numpy as np"
      ],
      "metadata": {
        "id": "8wPg5bvTMVC8"
      },
      "execution_count": 26,
      "outputs": []
    },
    {
      "cell_type": "code",
      "source": [
        "filename = 'IMAGES_randomFromInternet/nike/000044.jpg'\n",
        "img = image.load_img(filename,target_size=(Pic_Y, Pic_X))\n",
        "arr = image.img_to_array(img)\n",
        "# далее так как нейросеты работают с пакетом картинок мы должны написать след: (даже если у нас одна картинка)!!!!!! -  нам надо МАССИВ ИЗ КАРТИНОК\n",
        "# мы добавляем первую ось,ось пакета называется!\n",
        "arr = np.expand_dims(arr, axis = 0)"
      ],
      "metadata": {
        "id": "9gBsymE9MWDv"
      },
      "execution_count": 33,
      "outputs": []
    },
    {
      "cell_type": "code",
      "source": [
        "arr.shape"
      ],
      "metadata": {
        "colab": {
          "base_uri": "https://localhost:8080/"
        },
        "id": "KFAkJOehKmrA",
        "outputId": "8006816b-5df2-4ed3-f7fc-4eb1c362bb15"
      },
      "execution_count": 34,
      "outputs": [
        {
          "output_type": "execute_result",
          "data": {
            "text/plain": [
              "(1, 240, 240, 3)"
            ]
          },
          "metadata": {},
          "execution_count": 34
        }
      ]
    },
    {
      "cell_type": "code",
      "source": [
        "pred  = model.predict(arr)\n",
        "pred"
      ],
      "metadata": {
        "colab": {
          "base_uri": "https://localhost:8080/"
        },
        "id": "-zMAm_1nIC6j",
        "outputId": "a175b327-137d-4d1d-a1a9-9cf7665e91f2"
      },
      "execution_count": 36,
      "outputs": [
        {
          "output_type": "execute_result",
          "data": {
            "text/plain": [
              "array([[0., 1., 0.]], dtype=float32)"
            ]
          },
          "metadata": {},
          "execution_count": 36
        }
      ]
    },
    {
      "cell_type": "code",
      "source": [
        "filename2 = 'IMAGES_randomFromInternet/converse/000042.jpg'\n",
        "img2 = image.load_img(filename2,target_size=(Pic_Y, Pic_X))\n",
        "arr2 = image.img_to_array(img2)\n",
        "# далее так как нейросеты работают с пакетом картинок мы должны написать след: (даже если у нас одна картинка)!!!!!! -  нам надо МАССИВ ИЗ КАРТИНОК\n",
        "# мы добавляем первую ось,ось пакета называется!\n",
        "arr2 = np.expand_dims(arr2, axis = 0)"
      ],
      "metadata": {
        "id": "46J1cuqbNokD"
      },
      "execution_count": 40,
      "outputs": []
    },
    {
      "cell_type": "code",
      "source": [
        "arr2.shape"
      ],
      "metadata": {
        "colab": {
          "base_uri": "https://localhost:8080/"
        },
        "id": "jfCtvdL6NooQ",
        "outputId": "fb56cf3c-8615-4cd2-861b-ea4163b76f41"
      },
      "execution_count": 42,
      "outputs": [
        {
          "output_type": "execute_result",
          "data": {
            "text/plain": [
              "(1, 240, 240, 3)"
            ]
          },
          "metadata": {},
          "execution_count": 42
        }
      ]
    },
    {
      "cell_type": "code",
      "source": [
        "pred2  = model.predict(arr2)\n",
        "pred2"
      ],
      "metadata": {
        "colab": {
          "base_uri": "https://localhost:8080/"
        },
        "id": "Z0xvvE9XN7NK",
        "outputId": "324a8e25-7ac8-4da1-de9b-c34ce0f276e3"
      },
      "execution_count": 43,
      "outputs": [
        {
          "output_type": "execute_result",
          "data": {
            "text/plain": [
              "array([[0., 1., 0.]], dtype=float32)"
            ]
          },
          "metadata": {},
          "execution_count": 43
        }
      ]
    }
  ]
}