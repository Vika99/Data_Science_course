{
 "cells": [
  {
   "cell_type": "code",
   "execution_count": 2,
   "id": "b6a3f4ed",
   "metadata": {},
   "outputs": [],
   "source": [
    "#set множество\n",
    "S = { 'red', 'green', 'blue', 'red'}"
   ]
  },
  {
   "cell_type": "code",
   "execution_count": 3,
   "id": "52f45cd5",
   "metadata": {},
   "outputs": [],
   "source": [
    "set1 = {'a', 'b', 'c', 'qwerty', (0,1,2,3,4,5,6,8), 34}\n"
   ]
  },
  {
   "cell_type": "code",
   "execution_count": 74,
   "id": "8787ba71",
   "metadata": {},
   "outputs": [
    {
     "data": {
      "text/plain": [
       "{(0, 1, 2, 3, 4, 5, 6, 8), '3', 34, 4, 6, 7, 'a', 'b', 'c', 'd', 'qwerty'}"
      ]
     },
     "execution_count": 74,
     "metadata": {},
     "output_type": "execute_result"
    }
   ],
   "source": [
    "set1"
   ]
  },
  {
   "cell_type": "code",
   "execution_count": 4,
   "id": "de681768",
   "metadata": {},
   "outputs": [],
   "source": [
    "string = 'abc, hello world'\n",
    "set2 = set(string)"
   ]
  },
  {
   "cell_type": "code",
   "execution_count": 6,
   "id": "b1f7d94e",
   "metadata": {},
   "outputs": [],
   "source": [
    "set1.update(['d','3',4,6,7])\n"
   ]
  },
  {
   "cell_type": "code",
   "execution_count": 7,
   "id": "5754f1b9",
   "metadata": {},
   "outputs": [
    {
     "data": {
      "text/plain": [
       "{' ', ',', 'a', 'b', 'c', 'd', 'e', 'h', 'l', 'o', 'r', 'w'}"
      ]
     },
     "execution_count": 7,
     "metadata": {},
     "output_type": "execute_result"
    }
   ],
   "source": [
    "set2"
   ]
  },
  {
   "cell_type": "code",
   "execution_count": 8,
   "id": "e291064e",
   "metadata": {},
   "outputs": [
    {
     "data": {
      "text/plain": [
       "{(0, 1, 2, 3, 4, 5, 6, 8), '3', 34, 4, 6, 7, 'a', 'b', 'c', 'd', 'qwerty'}"
      ]
     },
     "execution_count": 8,
     "metadata": {},
     "output_type": "execute_result"
    }
   ],
   "source": [
    "set1"
   ]
  },
  {
   "cell_type": "code",
   "execution_count": 75,
   "id": "2b49291b",
   "metadata": {},
   "outputs": [],
   "source": [
    "set1.update(['g',4,67.5])"
   ]
  },
  {
   "cell_type": "code",
   "execution_count": 76,
   "id": "0af37746",
   "metadata": {},
   "outputs": [
    {
     "data": {
      "text/plain": [
       "{(0, 1, 2, 3, 4, 5, 6, 8),\n",
       " '3',\n",
       " 34,\n",
       " 4,\n",
       " 6,\n",
       " 67.5,\n",
       " 7,\n",
       " 'a',\n",
       " 'b',\n",
       " 'c',\n",
       " 'd',\n",
       " 'g',\n",
       " 'qwerty'}"
      ]
     },
     "execution_count": 76,
     "metadata": {},
     "output_type": "execute_result"
    }
   ],
   "source": [
    "set1"
   ]
  },
  {
   "cell_type": "code",
   "execution_count": 78,
   "id": "6de47dcc",
   "metadata": {},
   "outputs": [],
   "source": [
    "set1.remove(6)"
   ]
  },
  {
   "cell_type": "code",
   "execution_count": 79,
   "id": "715c011c",
   "metadata": {},
   "outputs": [],
   "source": [
    "d = set2.pop()"
   ]
  },
  {
   "cell_type": "code",
   "execution_count": null,
   "id": "79ca9c16",
   "metadata": {},
   "outputs": [],
   "source": [
    "set2.clear()"
   ]
  },
  {
   "cell_type": "code",
   "execution_count": 80,
   "id": "eddaf297",
   "metadata": {},
   "outputs": [],
   "source": [
    "A = set(range(0,10))\n"
   ]
  },
  {
   "cell_type": "code",
   "execution_count": 81,
   "id": "ab030348",
   "metadata": {},
   "outputs": [],
   "source": [
    "B = set (range(7,15))"
   ]
  },
  {
   "cell_type": "code",
   "execution_count": 83,
   "id": "1eda718d",
   "metadata": {},
   "outputs": [
    {
     "data": {
      "text/plain": [
       "({0, 1, 2, 3, 4, 5, 6, 7, 8, 9}, {7, 8, 9, 10, 11, 12, 13, 14})"
      ]
     },
     "execution_count": 83,
     "metadata": {},
     "output_type": "execute_result"
    }
   ],
   "source": [
    "A,B"
   ]
  },
  {
   "cell_type": "code",
   "execution_count": 84,
   "id": "eeb7576f",
   "metadata": {},
   "outputs": [
    {
     "data": {
      "text/plain": [
       "False"
      ]
     },
     "execution_count": 84,
     "metadata": {},
     "output_type": "execute_result"
    }
   ],
   "source": [
    "A.isdisjoint(B)"
   ]
  },
  {
   "cell_type": "code",
   "execution_count": 85,
   "id": "87b4cc11",
   "metadata": {},
   "outputs": [
    {
     "data": {
      "text/plain": [
       "False"
      ]
     },
     "execution_count": 85,
     "metadata": {},
     "output_type": "execute_result"
    }
   ],
   "source": [
    "A==B"
   ]
  },
  {
   "cell_type": "code",
   "execution_count": 86,
   "id": "6b256a4f",
   "metadata": {},
   "outputs": [
    {
     "data": {
      "text/plain": [
       "False"
      ]
     },
     "execution_count": 86,
     "metadata": {},
     "output_type": "execute_result"
    }
   ],
   "source": [
    "A.issubset(B)\n"
   ]
  },
  {
   "cell_type": "code",
   "execution_count": 87,
   "id": "aa3ed3f3",
   "metadata": {},
   "outputs": [
    {
     "data": {
      "text/plain": [
       "False"
      ]
     },
     "execution_count": 87,
     "metadata": {},
     "output_type": "execute_result"
    }
   ],
   "source": [
    "A <= B"
   ]
  },
  {
   "cell_type": "code",
   "execution_count": 112,
   "id": "d3957c95",
   "metadata": {},
   "outputs": [
    {
     "data": {
      "text/plain": [
       "{7, 8, 9}"
      ]
     },
     "execution_count": 112,
     "metadata": {},
     "output_type": "execute_result"
    }
   ],
   "source": [
    "R = A & B\n",
    "R"
   ]
  },
  {
   "cell_type": "code",
   "execution_count": 88,
   "id": "56ba5874",
   "metadata": {},
   "outputs": [
    {
     "data": {
      "text/plain": [
       "{0, 1, 2, 3, 4, 5, 6, 7, 8, 9, 10, 11, 12, 13, 14}"
      ]
     },
     "execution_count": 88,
     "metadata": {},
     "output_type": "execute_result"
    }
   ],
   "source": [
    "A.union(B)"
   ]
  },
  {
   "cell_type": "code",
   "execution_count": 89,
   "id": "2dc8e990",
   "metadata": {},
   "outputs": [
    {
     "data": {
      "text/plain": [
       "{0, 1, 2, 3, 4, 5, 6}"
      ]
     },
     "execution_count": 89,
     "metadata": {},
     "output_type": "execute_result"
    }
   ],
   "source": [
    "A.difference(B)"
   ]
  },
  {
   "cell_type": "code",
   "execution_count": 91,
   "id": "c1e2cb14",
   "metadata": {},
   "outputs": [
    {
     "data": {
      "text/plain": [
       "{7, 8, 9}"
      ]
     },
     "execution_count": 91,
     "metadata": {},
     "output_type": "execute_result"
    }
   ],
   "source": [
    "R = A.intersection(B)\n",
    "R"
   ]
  },
  {
   "cell_type": "code",
   "execution_count": 92,
   "id": "c6541ba2",
   "metadata": {},
   "outputs": [
    {
     "data": {
      "text/plain": [
       "{0, 1, 2, 3, 4, 5, 6, 10, 11, 12, 13, 14}"
      ]
     },
     "execution_count": 92,
     "metadata": {},
     "output_type": "execute_result"
    }
   ],
   "source": [
    "R = A^B\n",
    "R"
   ]
  },
  {
   "cell_type": "code",
   "execution_count": null,
   "id": "3c1feb95",
   "metadata": {},
   "outputs": [],
   "source": [
    "####"
   ]
  },
  {
   "cell_type": "code",
   "execution_count": 108,
   "id": "26cd3337",
   "metadata": {},
   "outputs": [
    {
     "data": {
      "text/plain": [
       "{0, 1, 2, 3, 4, 5, 6, 10, 11, 12, 13, 14, 23}"
      ]
     },
     "execution_count": 108,
     "metadata": {},
     "output_type": "execute_result"
    }
   ],
   "source": [
    "w = R.copy()\n",
    "w.add(78)\n",
    "R"
   ]
  },
  {
   "cell_type": "code",
   "execution_count": 106,
   "id": "ea22fe81",
   "metadata": {},
   "outputs": [
    {
     "data": {
      "text/plain": [
       "{0, 1, 2, 3, 4, 5, 6, 10, 11, 12, 13, 14, 23}"
      ]
     },
     "execution_count": 106,
     "metadata": {},
     "output_type": "execute_result"
    }
   ],
   "source": [
    "R"
   ]
  },
  {
   "cell_type": "code",
   "execution_count": 102,
   "id": "fa9002af",
   "metadata": {},
   "outputs": [
    {
     "data": {
      "text/plain": [
       "{0, 1, 2, 3, 4, 5, 6, 10, 11, 12, 13, 14, 23}"
      ]
     },
     "execution_count": 102,
     "metadata": {},
     "output_type": "execute_result"
    }
   ],
   "source": [
    "w = R\n",
    "w"
   ]
  },
  {
   "cell_type": "code",
   "execution_count": 103,
   "id": "a786d44d",
   "metadata": {},
   "outputs": [
    {
     "data": {
      "text/plain": [
       "{0, 1, 2, 3, 4, 5, 6, 10, 11, 12, 13, 14, 23}"
      ]
     },
     "execution_count": 103,
     "metadata": {},
     "output_type": "execute_result"
    }
   ],
   "source": [
    "w.add(23)\n",
    "\n",
    "R"
   ]
  },
  {
   "cell_type": "code",
   "execution_count": 109,
   "id": "32bce8e0",
   "metadata": {},
   "outputs": [],
   "source": [
    "C = frozenset(range(7,15))"
   ]
  },
  {
   "cell_type": "code",
   "execution_count": 110,
   "id": "757eef8d",
   "metadata": {},
   "outputs": [
    {
     "data": {
      "text/plain": [
       "frozenset({7, 8, 9, 10, 11, 12, 13, 14})"
      ]
     },
     "execution_count": 110,
     "metadata": {},
     "output_type": "execute_result"
    }
   ],
   "source": [
    "C"
   ]
  },
  {
   "cell_type": "code",
   "execution_count": 111,
   "id": "7cb74adf",
   "metadata": {},
   "outputs": [
    {
     "ename": "AttributeError",
     "evalue": "'frozenset' object has no attribute 'add'",
     "output_type": "error",
     "traceback": [
      "\u001b[1;31m---------------------------------------------------------------------------\u001b[0m",
      "\u001b[1;31mAttributeError\u001b[0m                            Traceback (most recent call last)",
      "\u001b[1;32m~\\AppData\\Local\\Temp/ipykernel_19048/332491832.py\u001b[0m in \u001b[0;36m<module>\u001b[1;34m\u001b[0m\n\u001b[1;32m----> 1\u001b[1;33m \u001b[0mC\u001b[0m\u001b[1;33m.\u001b[0m\u001b[0madd\u001b[0m\u001b[1;33m(\u001b[0m\u001b[1;36m55\u001b[0m\u001b[1;33m)\u001b[0m\u001b[1;33m\u001b[0m\u001b[1;33m\u001b[0m\u001b[0m\n\u001b[0m",
      "\u001b[1;31mAttributeError\u001b[0m: 'frozenset' object has no attribute 'add'"
     ]
    }
   ],
   "source": [
    "C.add(55)"
   ]
  },
  {
   "cell_type": "code",
   "execution_count": 104,
   "id": "f4e6c3a9",
   "metadata": {},
   "outputs": [],
   "source": [
    "# Function"
   ]
  },
  {
   "cell_type": "code",
   "execution_count": 113,
   "id": "e8595f60",
   "metadata": {},
   "outputs": [],
   "source": [
    "li= [9,445, 67,89,34,23,0,-1]"
   ]
  },
  {
   "cell_type": "code",
   "execution_count": 114,
   "id": "e273007a",
   "metadata": {},
   "outputs": [
    {
     "data": {
      "text/plain": [
       "[-1, 0, 9, 23, 34, 67, 89, 445]"
      ]
     },
     "execution_count": 114,
     "metadata": {},
     "output_type": "execute_result"
    }
   ],
   "source": [
    "sorted(li)"
   ]
  },
  {
   "cell_type": "code",
   "execution_count": 116,
   "id": "08ebc423",
   "metadata": {},
   "outputs": [
    {
     "data": {
      "text/plain": [
       "[445, 89, 67, 34, 23, 9, 0, -1]"
      ]
     },
     "execution_count": 116,
     "metadata": {},
     "output_type": "execute_result"
    }
   ],
   "source": [
    "sorted (li, reverse = True)"
   ]
  },
  {
   "cell_type": "code",
   "execution_count": 117,
   "id": "ab8524d3",
   "metadata": {},
   "outputs": [
    {
     "data": {
      "text/plain": [
       "False"
      ]
     },
     "execution_count": 117,
     "metadata": {},
     "output_type": "execute_result"
    }
   ],
   "source": [
    "all(li)"
   ]
  },
  {
   "cell_type": "code",
   "execution_count": 118,
   "id": "4f51731a",
   "metadata": {},
   "outputs": [
    {
     "data": {
      "text/plain": [
       "True"
      ]
     },
     "execution_count": 118,
     "metadata": {},
     "output_type": "execute_result"
    }
   ],
   "source": [
    "any(li)"
   ]
  },
  {
   "cell_type": "code",
   "execution_count": 19,
   "id": "339d4bff",
   "metadata": {},
   "outputs": [
    {
     "name": "stdout",
     "output_type": "stream",
     "text": [
      "0 9\n",
      "1 445\n",
      "2 67\n",
      "3 89\n",
      "4 34\n",
      "5 23\n",
      "6 0\n",
      "7 -1\n"
     ]
    }
   ],
   "source": [
    "for i, val in enumerate(li):\n",
    "    print(i,val)"
   ]
  },
  {
   "cell_type": "code",
   "execution_count": null,
   "id": "85d77f60",
   "metadata": {},
   "outputs": [],
   "source": []
  },
  {
   "cell_type": "code",
   "execution_count": null,
   "id": "1f55bf00",
   "metadata": {},
   "outputs": [],
   "source": []
  },
  {
   "cell_type": "code",
   "execution_count": 119,
   "id": "926cf2ab",
   "metadata": {},
   "outputs": [],
   "source": [
    "s = 'http://abc.ru&count'\n",
    "value = 23\n",
    "\n"
   ]
  },
  {
   "cell_type": "raw",
   "id": "698ceb25",
   "metadata": {},
   "source": [
    "res = s + str(value)"
   ]
  },
  {
   "cell_type": "code",
   "execution_count": 28,
   "id": "1d3051e9",
   "metadata": {},
   "outputs": [
    {
     "ename": "NameError",
     "evalue": "name 'res' is not defined",
     "output_type": "error",
     "traceback": [
      "\u001b[1;31m---------------------------------------------------------------------------\u001b[0m",
      "\u001b[1;31mNameError\u001b[0m                                 Traceback (most recent call last)",
      "\u001b[1;32m~\\AppData\\Local\\Temp/ipykernel_19048/4228881522.py\u001b[0m in \u001b[0;36m<module>\u001b[1;34m\u001b[0m\n\u001b[1;32m----> 1\u001b[1;33m \u001b[0mprint\u001b[0m \u001b[1;33m(\u001b[0m\u001b[0mres\u001b[0m\u001b[1;33m)\u001b[0m\u001b[1;33m\u001b[0m\u001b[1;33m\u001b[0m\u001b[0m\n\u001b[0m",
      "\u001b[1;31mNameError\u001b[0m: name 'res' is not defined"
     ]
    }
   ],
   "source": [
    "print (res)"
   ]
  },
  {
   "cell_type": "code",
   "execution_count": null,
   "id": "a7a06977",
   "metadata": {},
   "outputs": [],
   "source": []
  },
  {
   "cell_type": "code",
   "execution_count": 29,
   "id": "f1f2ed18",
   "metadata": {},
   "outputs": [
    {
     "data": {
      "text/plain": [
       "'A'"
      ]
     },
     "execution_count": 29,
     "metadata": {},
     "output_type": "execute_result"
    }
   ],
   "source": [
    "chr(65)"
   ]
  },
  {
   "cell_type": "code",
   "execution_count": 31,
   "id": "9b01e24e",
   "metadata": {},
   "outputs": [
    {
     "data": {
      "text/plain": [
       "68"
      ]
     },
     "execution_count": 31,
     "metadata": {},
     "output_type": "execute_result"
    }
   ],
   "source": [
    "ord('D')"
   ]
  },
  {
   "cell_type": "code",
   "execution_count": 120,
   "id": "374451a3",
   "metadata": {},
   "outputs": [],
   "source": [
    "lis1 = list(range(20))\n",
    "lis2 = list (range (20 , 0,-1))\n"
   ]
  },
  {
   "cell_type": "code",
   "execution_count": 125,
   "id": "d9122aa9",
   "metadata": {},
   "outputs": [
    {
     "data": {
      "text/plain": [
       "[0, 1, 2, 3, 4, 5, 6, 7, 8, 9, 10, 11, 12, 13, 14, 15, 16, 17, 18, 19]"
      ]
     },
     "execution_count": 125,
     "metadata": {},
     "output_type": "execute_result"
    }
   ],
   "source": [
    "lis1"
   ]
  },
  {
   "cell_type": "code",
   "execution_count": 126,
   "id": "7d0222d8",
   "metadata": {},
   "outputs": [
    {
     "data": {
      "text/plain": [
       "list"
      ]
     },
     "execution_count": 126,
     "metadata": {},
     "output_type": "execute_result"
    }
   ],
   "source": [
    "type(lis1)"
   ]
  },
  {
   "cell_type": "code",
   "execution_count": 127,
   "id": "b8989d7c",
   "metadata": {},
   "outputs": [],
   "source": [
    "lis = slice(5,15,2)"
   ]
  },
  {
   "cell_type": "code",
   "execution_count": 129,
   "id": "057992ca",
   "metadata": {},
   "outputs": [
    {
     "data": {
      "text/plain": [
       "[5, 7, 9, 11, 13]"
      ]
     },
     "execution_count": 129,
     "metadata": {},
     "output_type": "execute_result"
    }
   ],
   "source": [
    "lis1[lis]"
   ]
  },
  {
   "cell_type": "code",
   "execution_count": 35,
   "id": "08bf476e",
   "metadata": {},
   "outputs": [
    {
     "data": {
      "text/plain": [
       "20"
      ]
     },
     "execution_count": 35,
     "metadata": {},
     "output_type": "execute_result"
    }
   ],
   "source": [
    "len(lis2)"
   ]
  },
  {
   "cell_type": "code",
   "execution_count": 36,
   "id": "85cdc596",
   "metadata": {},
   "outputs": [
    {
     "name": "stdout",
     "output_type": "stream",
     "text": [
      "0 20\n",
      "1 19\n",
      "2 18\n",
      "3 17\n",
      "4 16\n",
      "5 15\n",
      "6 14\n",
      "7 13\n",
      "8 12\n",
      "9 11\n",
      "10 10\n",
      "11 9\n",
      "12 8\n",
      "13 7\n",
      "14 6\n",
      "15 5\n",
      "16 4\n",
      "17 3\n",
      "18 2\n",
      "19 1\n"
     ]
    }
   ],
   "source": [
    "for x1,x2 in zip (lis1, lis2):\n",
    "    print (x1,x2)"
   ]
  },
  {
   "cell_type": "code",
   "execution_count": 38,
   "id": "7b8a5823",
   "metadata": {},
   "outputs": [
    {
     "data": {
      "text/plain": [
       "float"
      ]
     },
     "execution_count": 38,
     "metadata": {},
     "output_type": "execute_result"
    }
   ],
   "source": [
    "r = 55.45\n",
    "type (r)"
   ]
  },
  {
   "cell_type": "code",
   "execution_count": 39,
   "id": "0aaa5fb3",
   "metadata": {},
   "outputs": [],
   "source": [
    "#distance =sqrt ((x1 - x2)) **2 + (y1-y2)**2)\n",
    "import math\n",
    "\n",
    "def distance (x1,y1,x2,y2):\n",
    "    return math.sqrt ((x1 - x2) **2 + (y1-y2)**2)"
   ]
  },
  {
   "cell_type": "code",
   "execution_count": 42,
   "id": "c51f20f9",
   "metadata": {},
   "outputs": [
    {
     "name": "stdout",
     "output_type": "stream",
     "text": [
      "1.4142135623730951\n"
     ]
    }
   ],
   "source": [
    "d = distance(0,0,1,1)\n",
    "print (d)"
   ]
  },
  {
   "cell_type": "code",
   "execution_count": 43,
   "id": "a41f8d1d",
   "metadata": {},
   "outputs": [],
   "source": [
    "def yn (question):\n",
    "    print (question)\n",
    "    r = input ()\n",
    "    return r"
   ]
  },
  {
   "cell_type": "code",
   "execution_count": 44,
   "id": "a6cacb06",
   "metadata": {},
   "outputs": [
    {
     "name": "stdout",
     "output_type": "stream",
     "text": [
      "are you home?\n",
      "y\n"
     ]
    }
   ],
   "source": [
    "answer = yn ('are you home?')"
   ]
  },
  {
   "cell_type": "code",
   "execution_count": 45,
   "id": "c1b9a466",
   "metadata": {},
   "outputs": [
    {
     "data": {
      "text/plain": [
       "'y'"
      ]
     },
     "execution_count": 45,
     "metadata": {},
     "output_type": "execute_result"
    }
   ],
   "source": [
    "answer\n"
   ]
  },
  {
   "cell_type": "code",
   "execution_count": 50,
   "id": "57d99dcf",
   "metadata": {},
   "outputs": [],
   "source": [
    "def hello (name, city):\n",
    "    print ('hello ' + name + ' we are going to ' + city + '!')"
   ]
  },
  {
   "cell_type": "code",
   "execution_count": 52,
   "id": "dc9e0c3c",
   "metadata": {},
   "outputs": [
    {
     "name": "stdout",
     "output_type": "stream",
     "text": [
      "hello vika we are going to telaviv!\n"
     ]
    }
   ],
   "source": [
    "hello (name = 'vika', city = 'telaviv')"
   ]
  },
  {
   "cell_type": "code",
   "execution_count": 132,
   "id": "7f1e7010",
   "metadata": {},
   "outputs": [],
   "source": [
    "lines = []"
   ]
  },
  {
   "cell_type": "code",
   "execution_count": 133,
   "id": "bc5fdb93",
   "metadata": {},
   "outputs": [],
   "source": [
    "f = open ('some_text.txt', 'r', encoding = 'utf-8')"
   ]
  },
  {
   "cell_type": "code",
   "execution_count": 69,
   "id": "38c544f6",
   "metadata": {},
   "outputs": [
    {
     "name": "stdout",
     "output_type": "stream",
     "text": [
      "Это первая строка файла.\n",
      "\n",
      "А это вторая строка.\n",
      "\n",
      "Строка номер 3.\n",
      "\n",
      "Четвертая строка.\n",
      "\n"
     ]
    }
   ],
   "source": [
    "for line in f:\n",
    "    print (line)"
   ]
  },
  {
   "cell_type": "code",
   "execution_count": 65,
   "id": "e24e7b37",
   "metadata": {},
   "outputs": [],
   "source": [
    "lines = f.readlines()"
   ]
  },
  {
   "cell_type": "code",
   "execution_count": 66,
   "id": "408b8ebc",
   "metadata": {},
   "outputs": [
    {
     "data": {
      "text/plain": [
       "['Это первая строка файла.\\n',\n",
       " 'А это вторая строка.\\n',\n",
       " 'Строка номер 3.\\n',\n",
       " 'Четвертая строка.\\n']"
      ]
     },
     "execution_count": 66,
     "metadata": {},
     "output_type": "execute_result"
    }
   ],
   "source": [
    "lines"
   ]
  },
  {
   "cell_type": "code",
   "execution_count": 59,
   "id": "4381a692",
   "metadata": {},
   "outputs": [
    {
     "name": "stdout",
     "output_type": "stream",
     "text": [
      "Это первая строка файла.\n",
      "А это вторая строка.\n",
      "Строка номер 3.\n",
      "Четвертая строка.\n",
      "\n"
     ]
    }
   ],
   "source": [
    "print (f.read())"
   ]
  },
  {
   "cell_type": "code",
   "execution_count": 62,
   "id": "61e173a1",
   "metadata": {},
   "outputs": [
    {
     "name": "stdout",
     "output_type": "stream",
     "text": [
      "Это первая строка файла.\n",
      "\n"
     ]
    }
   ],
   "source": [
    "print (f.readline())"
   ]
  },
  {
   "cell_type": "code",
   "execution_count": null,
   "id": "2113f34f",
   "metadata": {},
   "outputs": [],
   "source": [
    "f.close()"
   ]
  },
  {
   "cell_type": "code",
   "execution_count": 161,
   "id": "c7dc4443",
   "metadata": {},
   "outputs": [],
   "source": [
    "li2 = [\"Это первая строка файла.\",\n",
    "\"А это вторая строка.\",\n",
    "\"Строка номер 3.\",\n",
    "\"Четвертая строка.\"]\n",
    "      "
   ]
  },
  {
   "cell_type": "code",
   "execution_count": 162,
   "id": "30f0c0c2",
   "metadata": {},
   "outputs": [],
   "source": [
    "f = open('another_text.txt', 'w', encoding = 'utf-8')"
   ]
  },
  {
   "cell_type": "code",
   "execution_count": 155,
   "id": "d2e7425b",
   "metadata": {},
   "outputs": [
    {
     "data": {
      "text/plain": [
       "21"
      ]
     },
     "execution_count": 155,
     "metadata": {},
     "output_type": "execute_result"
    }
   ],
   "source": [
    "f.write(li2[1] + '\\n')\n",
    "#f.write (li2[1])"
   ]
  },
  {
   "cell_type": "code",
   "execution_count": 165,
   "id": "eec6e7b4",
   "metadata": {},
   "outputs": [],
   "source": [
    "f.close()"
   ]
  },
  {
   "cell_type": "code",
   "execution_count": 164,
   "id": "322688c1",
   "metadata": {},
   "outputs": [],
   "source": [
    "f.writelines(li2)"
   ]
  },
  {
   "cell_type": "code",
   "execution_count": null,
   "id": "f3830b80",
   "metadata": {},
   "outputs": [],
   "source": []
  }
 ],
 "metadata": {
  "kernelspec": {
   "display_name": "Python 3 (ipykernel)",
   "language": "python",
   "name": "python3"
  },
  "language_info": {
   "codemirror_mode": {
    "name": "ipython",
    "version": 3
   },
   "file_extension": ".py",
   "mimetype": "text/x-python",
   "name": "python",
   "nbconvert_exporter": "python",
   "pygments_lexer": "ipython3",
   "version": "3.9.7"
  }
 },
 "nbformat": 4,
 "nbformat_minor": 5
}
