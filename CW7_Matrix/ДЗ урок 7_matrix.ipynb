{
 "cells": [
  {
   "cell_type": "markdown",
   "id": "28f325f0",
   "metadata": {},
   "source": [
    "Дана матрица А\n",
    "       \n",
    "       [ 9,  2,  2,  5,  1,  5,  7,  6,  8,  7,  1,  4],\n",
    "       [ 9,  4,  6, 10,  1,  2, 10,  1, 10,  1,  8,  2],\n",
    "       [ 7,  2,  9,  7,  7,  7, 10,  6,  8,  7,  8,  9],\n",
    "       [ 1,  3,  2, 10,  7,  1,  2,  1,  6, 10,  7,  1],\n",
    "       [ 6,  8,  1,  3,  9,  8,  2, 10,  2,  8,  5,  7],\n",
    "       [ 7,  4,  7,  5,  2,  9,  8,  2,  9, 10,  3,  6],\n",
    "       [ 6,  2,  1,  5,  7, 10,  4,  1,  3,  7,  5,  9],\n",
    "       [10,  5,  3,  4,  1,  3,  3,  3,  1,  3,  6,  2],\n",
    "       [ 5,  5,  4,  1,  4,  8,  5,  2,  9,  2,  9,  2],\n",
    "       [ 7,  3,  4,  3,  9,  3,  1, 10,  7,  1,  3,  4],\n",
    "       [ 7,  3,  7,  8,  6,  6,  9,  9,  2,  5,  6,  3],\n",
    "       [10,  5,  5,  6,  3,  2,  9,  2,  1,  1,  4,  6],\n",
    "       [ 8,  4, 10,  4, 10,  9,  4,  2,  5,  1,  5,  5],\n",
    "       [ 4,  9, 10,  1,  9,  3,  8,  4,  7,  9,  5,  6],\n",
    "       [10,  8,  9,  3, 10, 10,  9,  4,  7,  3,  7,  3],\n",
    "       [ 6, 10,  6, 10,  1,  1,  4,  5,  2,  6,  5,  2],\n",
    "       [ 2,  7, 10,  7,  5,  3, 10,  5,  4,  4,  9,  7],\n",
    "       [ 8, 10,  4,  2,  3,  3,  1,  5,  7,  7,  8, 10]]       \n",
    "       \n",
    "1. Определите размер матрицы\n",
    "2. Определите значений в 10 столбце, 15 строке\n",
    "3. Определите значение в 12 строке и 9 столбце\n",
    "Учтите, что строки и столбцы в матрице мы считаем с единицы.\n",
    "\n",
    "4. Транспонируйте матрицу А\n",
    "5. Каковы размеры транспонированной матрицы?\n",
    "\n"
   ]
  },
  {
   "cell_type": "code",
   "execution_count": 3,
   "id": "2aed7085",
   "metadata": {},
   "outputs": [],
   "source": [
    "import numpy as np"
   ]
  },
  {
   "cell_type": "code",
   "execution_count": 4,
   "id": "598b5540",
   "metadata": {},
   "outputs": [],
   "source": [
    "A = np.array([ [ 9,  2,  2,  5,  1,  5,  7,  6,  8,  7,  1,  4],\n",
    "   [ 9,  4,  6, 10,  1,  2, 10,  1, 10,  1,  8,  2],\n",
    "   [ 7,  2,  9,  7,  7,  7, 10,  6,  8,  7,  8,  9],\n",
    "   [ 1,  3,  2, 10,  7,  1,  2,  1,  6, 10,  7,  1],\n",
    "   [ 6,  8,  1,  3,  9,  8,  2, 10,  2,  8,  5,  7],\n",
    "   [ 7,  4,  7,  5,  2,  9,  8,  2,  9, 10,  3,  6],\n",
    "   [ 6,  2,  1,  5,  7, 10,  4,  1,  3,  7,  5,  9],\n",
    "   [10,  5,  3,  4,  1,  3,  3,  3,  1,  3,  6,  2],\n",
    "   [ 5,  5,  4,  1,  4,  8,  5,  2,  9,  2,  9,  2],\n",
    "   [ 7,  3,  4,  3,  9,  3,  1, 10,  7,  1,  3,  4],\n",
    "   [ 7,  3,  7,  8,  6,  6,  9,  9,  2,  5,  6,  3],\n",
    "   [10,  5,  5,  6,  3,  2,  9,  2,  1,  1,  4,  6],\n",
    "   [ 8,  4, 10,  4, 10,  9,  4,  2,  5,  1,  5,  5],\n",
    "   [ 4,  9, 10,  1,  9,  3,  8,  4,  7,  9,  5,  6],\n",
    "   [10,  8,  9,  3, 10, 10,  9,  4,  7,  3,  7,  3],\n",
    "   [ 6, 10,  6, 10,  1,  1,  4,  5,  2,  6,  5,  2],\n",
    "   [ 2,  7, 10,  7,  5,  3, 10,  5,  4,  4,  9,  7],\n",
    "   [ 8, 10,  4,  2,  3,  3,  1,  5,  7,  7,  8, 10]])"
   ]
  },
  {
   "cell_type": "code",
   "execution_count": 5,
   "id": "76b6bee8",
   "metadata": {},
   "outputs": [
    {
     "data": {
      "text/plain": [
       "array([[ 9,  2,  2,  5,  1,  5,  7,  6,  8,  7,  1,  4],\n",
       "       [ 9,  4,  6, 10,  1,  2, 10,  1, 10,  1,  8,  2],\n",
       "       [ 7,  2,  9,  7,  7,  7, 10,  6,  8,  7,  8,  9],\n",
       "       [ 1,  3,  2, 10,  7,  1,  2,  1,  6, 10,  7,  1],\n",
       "       [ 6,  8,  1,  3,  9,  8,  2, 10,  2,  8,  5,  7],\n",
       "       [ 7,  4,  7,  5,  2,  9,  8,  2,  9, 10,  3,  6],\n",
       "       [ 6,  2,  1,  5,  7, 10,  4,  1,  3,  7,  5,  9],\n",
       "       [10,  5,  3,  4,  1,  3,  3,  3,  1,  3,  6,  2],\n",
       "       [ 5,  5,  4,  1,  4,  8,  5,  2,  9,  2,  9,  2],\n",
       "       [ 7,  3,  4,  3,  9,  3,  1, 10,  7,  1,  3,  4],\n",
       "       [ 7,  3,  7,  8,  6,  6,  9,  9,  2,  5,  6,  3],\n",
       "       [10,  5,  5,  6,  3,  2,  9,  2,  1,  1,  4,  6],\n",
       "       [ 8,  4, 10,  4, 10,  9,  4,  2,  5,  1,  5,  5],\n",
       "       [ 4,  9, 10,  1,  9,  3,  8,  4,  7,  9,  5,  6],\n",
       "       [10,  8,  9,  3, 10, 10,  9,  4,  7,  3,  7,  3],\n",
       "       [ 6, 10,  6, 10,  1,  1,  4,  5,  2,  6,  5,  2],\n",
       "       [ 2,  7, 10,  7,  5,  3, 10,  5,  4,  4,  9,  7],\n",
       "       [ 8, 10,  4,  2,  3,  3,  1,  5,  7,  7,  8, 10]])"
      ]
     },
     "execution_count": 5,
     "metadata": {},
     "output_type": "execute_result"
    }
   ],
   "source": [
    "A"
   ]
  },
  {
   "cell_type": "code",
   "execution_count": 7,
   "id": "acf8fab0",
   "metadata": {},
   "outputs": [
    {
     "data": {
      "text/plain": [
       "(18, 12)"
      ]
     },
     "execution_count": 7,
     "metadata": {},
     "output_type": "execute_result"
    }
   ],
   "source": [
    "#1.Определите размер матрицы\n",
    "size = np.shape(A)\n",
    "size"
   ]
  },
  {
   "cell_type": "code",
   "execution_count": 17,
   "id": "38e6af0a",
   "metadata": {},
   "outputs": [
    {
     "data": {
      "text/plain": [
       "5"
      ]
     },
     "execution_count": 17,
     "metadata": {},
     "output_type": "execute_result"
    }
   ],
   "source": [
    "#2.Определите значений в 10 столбце, 15 строке\n",
    "B= A[14,9]\n",
    "B"
   ]
  },
  {
   "cell_type": "code",
   "execution_count": 18,
   "id": "dfe6fd63",
   "metadata": {},
   "outputs": [],
   "source": [
    "#3 Определите значение в 12 строке и 9 столбце Учтите, что строки и столбцы в матрице мы считаем с единицы.\n",
    "C = A[11,8]"
   ]
  },
  {
   "cell_type": "code",
   "execution_count": 19,
   "id": "bb72eaaa",
   "metadata": {},
   "outputs": [
    {
     "data": {
      "text/plain": [
       "1"
      ]
     },
     "execution_count": 19,
     "metadata": {},
     "output_type": "execute_result"
    }
   ],
   "source": [
    "C"
   ]
  },
  {
   "cell_type": "code",
   "execution_count": 21,
   "id": "8c83e5df",
   "metadata": {},
   "outputs": [
    {
     "data": {
      "text/plain": [
       "array([[ 9,  9,  7,  1,  6,  7,  6, 10,  5,  7,  7, 10,  8,  4, 10,  6,\n",
       "         2,  8],\n",
       "       [ 2,  4,  2,  3,  8,  4,  2,  5,  5,  3,  3,  5,  4,  9,  8, 10,\n",
       "         7, 10],\n",
       "       [ 2,  6,  9,  2,  1,  7,  1,  3,  4,  4,  7,  5, 10, 10,  9,  6,\n",
       "        10,  4],\n",
       "       [ 5, 10,  7, 10,  3,  5,  5,  4,  1,  3,  8,  6,  4,  1,  3, 10,\n",
       "         7,  2],\n",
       "       [ 1,  1,  7,  7,  9,  2,  7,  1,  4,  9,  6,  3, 10,  9, 10,  1,\n",
       "         5,  3],\n",
       "       [ 5,  2,  7,  1,  8,  9, 10,  3,  8,  3,  6,  2,  9,  3, 10,  1,\n",
       "         3,  3],\n",
       "       [ 7, 10, 10,  2,  2,  8,  4,  3,  5,  1,  9,  9,  4,  8,  9,  4,\n",
       "        10,  1],\n",
       "       [ 6,  1,  6,  1, 10,  2,  1,  3,  2, 10,  9,  2,  2,  4,  4,  5,\n",
       "         5,  5],\n",
       "       [ 8, 10,  8,  6,  2,  9,  3,  1,  9,  7,  2,  1,  5,  7,  7,  2,\n",
       "         4,  7],\n",
       "       [ 7,  1,  7, 10,  8, 10,  7,  3,  2,  1,  5,  1,  1,  9,  3,  6,\n",
       "         4,  7],\n",
       "       [ 1,  8,  8,  7,  5,  3,  5,  6,  9,  3,  6,  4,  5,  5,  7,  5,\n",
       "         9,  8],\n",
       "       [ 4,  2,  9,  1,  7,  6,  9,  2,  2,  4,  3,  6,  5,  6,  3,  2,\n",
       "         7, 10]])"
      ]
     },
     "execution_count": 21,
     "metadata": {},
     "output_type": "execute_result"
    }
   ],
   "source": [
    "#4Транспонируйте матрицу А\n",
    "\n",
    "AT= A.T\n",
    "AT"
   ]
  },
  {
   "cell_type": "code",
   "execution_count": 22,
   "id": "7647d843",
   "metadata": {},
   "outputs": [
    {
     "data": {
      "text/plain": [
       "(12, 18)"
      ]
     },
     "execution_count": 22,
     "metadata": {},
     "output_type": "execute_result"
    }
   ],
   "source": [
    "#5 Каковы размеры транспонированной матрицы?\n",
    "AT.shape"
   ]
  },
  {
   "cell_type": "markdown",
   "id": "078dc184",
   "metadata": {},
   "source": [
    "Возможно ли сложить матрицы А и B если\n",
    "\n",
    "A\n",
    "\n",
    "       [[ 5,  7,  4,  3,  9,  1,  3,  7],\n",
    "       [[ 7,  5,  6, 10, 10,  6,  7,  6]]\n",
    "    \n",
    "\n",
    "B\n",
    "\n",
    "       [[10,  4,  3],\n",
    "       [ 4,  8,  2],\n",
    "       [ 4,  6,  4],\n",
    "       [ 6,  1,  9]]    \n",
    "        "
   ]
  },
  {
   "cell_type": "code",
   "execution_count": 24,
   "id": "3cc28f41",
   "metadata": {},
   "outputs": [],
   "source": [
    "# Возможно ли сложить матрицы А и B если\n",
    "# Нет,разные размеры матриц\n",
    "\n",
    "A = np.array( [[ 5,  7,  4,  3,  9,  1,  3,  7],\n",
    "   [ 7,  5,  6, 10, 10,  6,  7,  6]])\n",
    "B = np.array([[10,  4,  3],\n",
    "   [ 4,  8,  2],\n",
    "   [ 4,  6,  4],\n",
    "   [ 6,  1,  9]])                "
   ]
  },
  {
   "cell_type": "code",
   "execution_count": 25,
   "id": "4cd13df2",
   "metadata": {},
   "outputs": [
    {
     "data": {
      "text/plain": [
       "array([[ 5,  7,  4,  3,  9,  1,  3,  7],\n",
       "       [ 7,  5,  6, 10, 10,  6,  7,  6]])"
      ]
     },
     "execution_count": 25,
     "metadata": {},
     "output_type": "execute_result"
    }
   ],
   "source": [
    "A"
   ]
  },
  {
   "cell_type": "code",
   "execution_count": 26,
   "id": "73def722",
   "metadata": {},
   "outputs": [
    {
     "data": {
      "text/plain": [
       "array([[10,  4,  3],\n",
       "       [ 4,  8,  2],\n",
       "       [ 4,  6,  4],\n",
       "       [ 6,  1,  9]])"
      ]
     },
     "execution_count": 26,
     "metadata": {},
     "output_type": "execute_result"
    }
   ],
   "source": [
    "B"
   ]
  },
  {
   "cell_type": "markdown",
   "id": "d5913a3c",
   "metadata": {},
   "source": [
    "Умножте матрицу А из предыдущей задачи на 15, а матрицу В на -4"
   ]
  },
  {
   "cell_type": "code",
   "execution_count": 28,
   "id": "12616d43",
   "metadata": {},
   "outputs": [
    {
     "data": {
      "text/plain": [
       "array([[ 75, 105,  60,  45, 135,  15,  45, 105],\n",
       "       [105,  75,  90, 150, 150,  90, 105,  90]])"
      ]
     },
     "execution_count": 28,
     "metadata": {},
     "output_type": "execute_result"
    }
   ],
   "source": [
    "#Умножте матрицу А из предыдущей задачи на 15, а матрицу В на -4\n",
    "A = np.array( [[ 5,  7,  4,  3,  9,  1,  3,  7],\n",
    "   [ 7,  5,  6, 10, 10,  6,  7,  6]])\n",
    "Anew = 15*A\n",
    "Anew"
   ]
  },
  {
   "cell_type": "code",
   "execution_count": 29,
   "id": "6dafb62d",
   "metadata": {},
   "outputs": [
    {
     "data": {
      "text/plain": [
       "array([[-40, -16, -12],\n",
       "       [-16, -32,  -8],\n",
       "       [-16, -24, -16],\n",
       "       [-24,  -4, -36]])"
      ]
     },
     "execution_count": 29,
     "metadata": {},
     "output_type": "execute_result"
    }
   ],
   "source": [
    "B = np.array([[10,  4,  3],\n",
    "   [ 4,  8,  2],\n",
    "   [ 4,  6,  4],\n",
    "   [ 6,  1,  9]])    \n",
    "\n",
    "Bnew = -4*B\n",
    "Bnew"
   ]
  },
  {
   "cell_type": "markdown",
   "id": "95d2bd63",
   "metadata": {},
   "source": [
    "Даны 2 матрицы\n",
    "\n",
    "A\n",
    "\n",
    "      [[ 8,  7,  1],\n",
    "       [ 7, 10,  6],\n",
    "       [ 4,  4,  3],\n",
    "       [ 4, 10,  3]]\n",
    "\n",
    "\n",
    "B\n",
    "\n",
    "      [[ 8, 10],\n",
    "       [ 7,  4],\n",
    "       [ 3,  3]]\n",
    "        \n",
    "Найдете произведение матриц А и В\n",
    "\n",
    "Существует ли произведение матриц В и А?"
   ]
  },
  {
   "cell_type": "code",
   "execution_count": 30,
   "id": "eeb75957",
   "metadata": {},
   "outputs": [
    {
     "data": {
      "text/plain": [
       "array([[ 8,  7,  1],\n",
       "       [ 7, 10,  6],\n",
       "       [ 4,  4,  3],\n",
       "       [ 4, 10,  3]])"
      ]
     },
     "execution_count": 30,
     "metadata": {},
     "output_type": "execute_result"
    }
   ],
   "source": [
    "A = np.array([[ 8,  7,  1],\n",
    "   [ 7, 10,  6],\n",
    "   [ 4,  4,  3],\n",
    "   [ 4, 10,  3]])\n",
    "\n",
    "A"
   ]
  },
  {
   "cell_type": "code",
   "execution_count": 31,
   "id": "2a5ff345",
   "metadata": {},
   "outputs": [
    {
     "data": {
      "text/plain": [
       "array([[ 8, 10],\n",
       "       [ 7,  4],\n",
       "       [ 3,  3]])"
      ]
     },
     "execution_count": 31,
     "metadata": {},
     "output_type": "execute_result"
    }
   ],
   "source": [
    "B = np.array(  [[ 8, 10],\n",
    "   [ 7,  4],\n",
    "   [ 3,  3]])\n",
    "\n",
    "B"
   ]
  },
  {
   "cell_type": "code",
   "execution_count": 32,
   "id": "a7ede861",
   "metadata": {},
   "outputs": [
    {
     "data": {
      "text/plain": [
       "array([[116, 111],\n",
       "       [144, 128],\n",
       "       [ 69,  65],\n",
       "       [111,  89]])"
      ]
     },
     "execution_count": 32,
     "metadata": {},
     "output_type": "execute_result"
    }
   ],
   "source": [
    "#Найдете произведение матриц А и В\n",
    "\n",
    "A@B"
   ]
  },
  {
   "cell_type": "code",
   "execution_count": 34,
   "id": "5f5607cf",
   "metadata": {},
   "outputs": [],
   "source": [
    "#Существует ли произведение матриц В и А?\n",
    "#B @ A\n",
    "\n",
    "Нельзя"
   ]
  },
  {
   "cell_type": "code",
   "execution_count": null,
   "id": "e45a0177",
   "metadata": {},
   "outputs": [],
   "source": []
  },
  {
   "cell_type": "markdown",
   "id": "e28be760",
   "metadata": {},
   "source": [
    "Дана матрица B\n",
    "\n",
    "      [[3, 6, 7, 5],\n",
    "       [3, 6, 4, 8],\n",
    "       [1, 3, 8, 8],\n",
    "       [8, 4, 9, 8]]\n",
    "\n",
    "Постройте обратную матрицу\n",
    "Проверьте свое построение"
   ]
  },
  {
   "cell_type": "code",
   "execution_count": 35,
   "id": "ff8c1859",
   "metadata": {},
   "outputs": [
    {
     "data": {
      "text/plain": [
       "array([[3, 6, 7, 5],\n",
       "       [3, 6, 4, 8],\n",
       "       [1, 3, 8, 8],\n",
       "       [8, 4, 9, 8]])"
      ]
     },
     "execution_count": 35,
     "metadata": {},
     "output_type": "execute_result"
    }
   ],
   "source": [
    "B  = np.array(  [[3, 6, 7, 5],\n",
    "   [3, 6, 4, 8],\n",
    "   [1, 3, 8, 8],\n",
    "   [8, 4, 9, 8]])\n",
    "B"
   ]
  },
  {
   "cell_type": "code",
   "execution_count": null,
   "id": "68893f30",
   "metadata": {},
   "outputs": [],
   "source": []
  },
  {
   "cell_type": "code",
   "execution_count": 38,
   "id": "71a937b5",
   "metadata": {},
   "outputs": [
    {
     "data": {
      "text/plain": [
       "(4, 4)"
      ]
     },
     "execution_count": 38,
     "metadata": {},
     "output_type": "execute_result"
    }
   ],
   "source": [
    "B.shape"
   ]
  },
  {
   "cell_type": "code",
   "execution_count": 39,
   "id": "21a86c75",
   "metadata": {},
   "outputs": [],
   "source": [
    "det = np.linalg.det(B)"
   ]
  },
  {
   "cell_type": "code",
   "execution_count": 40,
   "id": "a3cff642",
   "metadata": {},
   "outputs": [
    {
     "data": {
      "text/plain": [
       "1160.9999999999995"
      ]
     },
     "execution_count": 40,
     "metadata": {},
     "output_type": "execute_result"
    }
   ],
   "source": [
    "det"
   ]
  },
  {
   "cell_type": "code",
   "execution_count": 41,
   "id": "8d316cee",
   "metadata": {},
   "outputs": [
    {
     "data": {
      "text/plain": [
       "array([[-0.04823428,  0.01464255, -0.13953488,  0.15503876],\n",
       "       [ 0.20671835,  0.08010336, -0.11627907, -0.09302326],\n",
       "       [ 0.13092162, -0.18260121,  0.09302326,  0.00775194],\n",
       "       [-0.20241171,  0.15073213,  0.09302326,  0.00775194]])"
      ]
     },
     "execution_count": 41,
     "metadata": {},
     "output_type": "execute_result"
    }
   ],
   "source": [
    "#Постройте обратную матрицу Проверьте свое построение\n",
    "\n",
    "B1 = np.linalg.inv(B)\n",
    "B1"
   ]
  },
  {
   "cell_type": "code",
   "execution_count": 42,
   "id": "de83f719",
   "metadata": {},
   "outputs": [
    {
     "data": {
      "text/plain": [
       "array([[ 1.00000000e+00,  0.00000000e+00, -1.66533454e-16,\n",
       "         2.08166817e-17],\n",
       "       [ 0.00000000e+00,  1.00000000e+00, -2.22044605e-16,\n",
       "         1.38777878e-17],\n",
       "       [ 0.00000000e+00, -2.22044605e-16,  1.00000000e+00,\n",
       "         2.08166817e-17],\n",
       "       [ 0.00000000e+00,  0.00000000e+00,  0.00000000e+00,\n",
       "         1.00000000e+00]])"
      ]
     },
     "execution_count": 42,
     "metadata": {},
     "output_type": "execute_result"
    }
   ],
   "source": [
    "# ДОЛЖНЫ ПОЛУЧИТЬ ЕДИНИЧНУЮ МАТРИЦУ\n",
    "B@B1"
   ]
  },
  {
   "cell_type": "code",
   "execution_count": 43,
   "id": "179ae48b",
   "metadata": {},
   "outputs": [
    {
     "data": {
      "text/plain": [
       "array([[ 1.00000000e+00,  1.11022302e-16,  0.00000000e+00,\n",
       "         0.00000000e+00],\n",
       "       [ 1.11022302e-16,  1.00000000e+00,  0.00000000e+00,\n",
       "         0.00000000e+00],\n",
       "       [ 2.77555756e-17,  6.24500451e-17,  1.00000000e+00,\n",
       "         1.38777878e-17],\n",
       "       [-4.85722573e-17, -1.07552856e-16,  0.00000000e+00,\n",
       "         1.00000000e+00]])"
      ]
     },
     "execution_count": 43,
     "metadata": {},
     "output_type": "execute_result"
    }
   ],
   "source": [
    "B1@B"
   ]
  },
  {
   "cell_type": "markdown",
   "id": "945862bb",
   "metadata": {},
   "source": [
    "Решите матричное уравнение Ax=b\n",
    "Где матрица А\n",
    "\n",
    "      [[ 7,  3,  1,  3,  8,  2,  9,  1],\n",
    "       [ 2,  7,  9,  3,  4,  7,  1,  4],\n",
    "       [10,  6,  6,  9, 10,  5,  9,  7],\n",
    "       [ 8,  4,  8,  1,  8,  3,  4,  7],\n",
    "       [ 2,  4,  9,  7,  8,  9, 10,  5],\n",
    "       [ 8,  5,  1,  5,  3,  6,  9,  3],\n",
    "       [ 1,  1,  2,  9,  9,  3, 10,  6],\n",
    "       [ 2, 10,  7,  8,  6,  4,  3,  7]]\n",
    "\n",
    "Вектор b = [6, 2, 7, 5, 9, 2, 2, 4]\n",
    "\n",
    "Проверьте свое решение\n",
    "\n"
   ]
  },
  {
   "cell_type": "code",
   "execution_count": 56,
   "id": "0ff93574",
   "metadata": {},
   "outputs": [],
   "source": [
    "A = np.array( [[ 7,  3,  1,  3,  8,  2,  9,  1],\n",
    "   [ 2,  7,  9,  3,  4,  7,  1,  4],\n",
    "   [10,  6,  6,  9, 10,  5,  9,  7],\n",
    "   [ 8,  4,  8,  1,  8,  3,  4,  7],\n",
    "   [ 2,  4,  9,  7,  8,  9, 10,  5],\n",
    "   [ 8,  5,  1,  5,  3,  6,  9,  3],\n",
    "   [ 1,  1,  2,  9,  9,  3, 10,  6],\n",
    "   [ 2, 10,  7,  8,  6,  4,  3,  7]])\n",
    "\n",
    "b = np.array([6, 2, 7, 5, 9, 2, 2, 4])"
   ]
  },
  {
   "cell_type": "code",
   "execution_count": 57,
   "id": "e2fb1964",
   "metadata": {},
   "outputs": [
    {
     "data": {
      "text/plain": [
       "(8, 8)"
      ]
     },
     "execution_count": 57,
     "metadata": {},
     "output_type": "execute_result"
    }
   ],
   "source": [
    "A.shape"
   ]
  },
  {
   "cell_type": "code",
   "execution_count": 58,
   "id": "7eb41554",
   "metadata": {},
   "outputs": [
    {
     "data": {
      "text/plain": [
       "2048719.9999999972"
      ]
     },
     "execution_count": 58,
     "metadata": {},
     "output_type": "execute_result"
    }
   ],
   "source": [
    "# ПРОВЕРЯЕМ определитель, что он не равен нулю\n",
    "det = np.linalg.det(A)\n",
    "det"
   ]
  },
  {
   "cell_type": "code",
   "execution_count": 59,
   "id": "01e903b4",
   "metadata": {},
   "outputs": [
    {
     "data": {
      "text/plain": [
       "array([[-0.03225282, -0.02210795,  0.14918144, -0.00719766, -0.00986616,\n",
       "         0.00482204, -0.07900689, -0.05204225],\n",
       "       [ 0.10226288, -0.00770628, -0.13255301,  0.00594713, -0.030706  ,\n",
       "         0.0477586 , -0.02959311,  0.1432309 ],\n",
       "       [-0.05161369, -0.38466848,  0.12895174,  0.02690656,  0.36124117,\n",
       "        -0.13405736, -0.32807704,  0.1519583 ],\n",
       "       [-0.07693243, -0.08254764,  0.24335146, -0.14170506,  0.07233931,\n",
       "        -0.0855212 , -0.08434876,  0.01379398],\n",
       "       [ 0.14671844,  0.37577853, -0.03363808, -0.03847768, -0.25890068,\n",
       "        -0.06794242,  0.2435838 , -0.15831348],\n",
       "       [-0.00784929,  0.49866795, -0.05882551, -0.05971436, -0.27810975,\n",
       "         0.1146018 ,  0.28770208, -0.26235894],\n",
       "       [ 0.01889472, -0.35964407, -0.10744758,  0.07726776,  0.2597866 ,\n",
       "         0.04351498, -0.16534714,  0.17050646],\n",
       "       [-0.12670936,  0.04341833, -0.15183334,  0.16259128, -0.12773244,\n",
       "         0.13629193,  0.18700066, -0.00206958]])"
      ]
     },
     "execution_count": 59,
     "metadata": {},
     "output_type": "execute_result"
    }
   ],
   "source": [
    "# считаем обратную матрицу\n",
    "A1 = np.linalg.inv(A)\n",
    "A1"
   ]
  },
  {
   "cell_type": "code",
   "execution_count": 61,
   "id": "2c564ada",
   "metadata": {},
   "outputs": [
    {
     "data": {
      "text/plain": [
       "array([ 0.32521477,  0.03292983,  2.8929107 ,  0.73473486, -1.40806455,\n",
       "       -2.50792592,  1.80472685, -1.43458159])"
      ]
     },
     "execution_count": 61,
     "metadata": {},
     "output_type": "execute_result"
    }
   ],
   "source": [
    "x = A1@b\n",
    "x"
   ]
  },
  {
   "cell_type": "code",
   "execution_count": 62,
   "id": "5c769c09",
   "metadata": {},
   "outputs": [
    {
     "data": {
      "text/plain": [
       "array([6., 2., 7., 5., 9., 2., 2., 4.])"
      ]
     },
     "execution_count": 62,
     "metadata": {},
     "output_type": "execute_result"
    }
   ],
   "source": [
    "A@x"
   ]
  },
  {
   "cell_type": "markdown",
   "id": "5720ceb1",
   "metadata": {},
   "source": [
    "Посчитайте определитель матрицы А из предыдущего упражнения"
   ]
  },
  {
   "cell_type": "code",
   "execution_count": null,
   "id": "73ddf38a",
   "metadata": {},
   "outputs": [],
   "source": []
  }
 ],
 "metadata": {
  "kernelspec": {
   "display_name": "Python 3 (ipykernel)",
   "language": "python",
   "name": "python3"
  },
  "language_info": {
   "codemirror_mode": {
    "name": "ipython",
    "version": 3
   },
   "file_extension": ".py",
   "mimetype": "text/x-python",
   "name": "python",
   "nbconvert_exporter": "python",
   "pygments_lexer": "ipython3",
   "version": "3.9.7"
  }
 },
 "nbformat": 4,
 "nbformat_minor": 5
}
