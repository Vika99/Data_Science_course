{
 "cells": [
  {
   "cell_type": "code",
   "execution_count": 1,
   "id": "18270ffb",
   "metadata": {},
   "outputs": [],
   "source": [
    "import numpy as np\n",
    "# у нас есть векторы и мы должны решить :\n",
    "#1)*(a+b)\n",
    "#2)a*c + b*(4*c)\n",
    "# во втором примере мы умножаем скалярно, поэтому нам в ответе надо получить число !!! "
   ]
  },
  {
   "cell_type": "code",
   "execution_count": 4,
   "id": "89aad356",
   "metadata": {},
   "outputs": [],
   "source": [
    "#создаем массивы:\n",
    "\n",
    "a = np.array((55,-10,14,458,33,-21,5))\n",
    "b = np.array((89,15,9,45,-22,-8,18))\n",
    "c = np.array((42,-70,38,1742,176,-68,-16))\n",
    "\n"
   ]
  },
  {
   "cell_type": "code",
   "execution_count": 6,
   "id": "ba7f0b0d",
   "metadata": {},
   "outputs": [
    {
     "data": {
      "text/plain": [
       "25013"
      ]
     },
     "execution_count": 6,
     "metadata": {},
     "output_type": "execute_result"
    }
   ],
   "source": [
    "#чтобы получить скалярное произведение помимо умножения,также нужно сложение по правилу:a*b = x1*y1+x2*y2..!! important note\n",
    "(a*b).sum()"
   ]
  },
  {
   "cell_type": "code",
   "execution_count": 7,
   "id": "29df45ee",
   "metadata": {},
   "outputs": [
    {
     "data": {
      "text/plain": [
       "array([144,   5,  23, 503,  11, -29,  23])"
      ]
     },
     "execution_count": 7,
     "metadata": {},
     "output_type": "execute_result"
    }
   ],
   "source": [
    "a+b"
   ]
  },
  {
   "cell_type": "code",
   "execution_count": 8,
   "id": "94765cf5",
   "metadata": {},
   "outputs": [
    {
     "data": {
      "text/plain": [
       "array([ 288,   10,   46, 1006,   22,  -58,   46])"
      ]
     },
     "execution_count": 8,
     "metadata": {},
     "output_type": "execute_result"
    }
   ],
   "source": [
    "2*(a+b)"
   ]
  },
  {
   "cell_type": "code",
   "execution_count": 15,
   "id": "63b33a21",
   "metadata": {},
   "outputs": [
    {
     "data": {
      "text/plain": [
       "1119750"
      ]
     },
     "execution_count": 15,
     "metadata": {},
     "output_type": "execute_result"
    }
   ],
   "source": [
    "(a*c).sum() + 4 * (b*c).sum()"
   ]
  },
  {
   "cell_type": "code",
   "execution_count": 16,
   "id": "460f9cd7",
   "metadata": {},
   "outputs": [],
   "source": [
    "M = np.array([[2,-3],[4,-6]])\n",
    "N = np.array([[9,-6],[6,-4]])"
   ]
  },
  {
   "cell_type": "code",
   "execution_count": 17,
   "id": "99be7d73",
   "metadata": {},
   "outputs": [
    {
     "data": {
      "text/plain": [
       "array([[ 2, -3],\n",
       "       [ 4, -6]])"
      ]
     },
     "execution_count": 17,
     "metadata": {},
     "output_type": "execute_result"
    }
   ],
   "source": [
    "M"
   ]
  },
  {
   "cell_type": "code",
   "execution_count": 18,
   "id": "1d5eeb51",
   "metadata": {},
   "outputs": [
    {
     "data": {
      "text/plain": [
       "array([[ 9, -6],\n",
       "       [ 6, -4]])"
      ]
     },
     "execution_count": 18,
     "metadata": {},
     "output_type": "execute_result"
    }
   ],
   "source": [
    "N"
   ]
  },
  {
   "cell_type": "code",
   "execution_count": 19,
   "id": "485a44a0",
   "metadata": {},
   "outputs": [
    {
     "data": {
      "text/plain": [
       "array([[18, 18],\n",
       "       [24, 24]])"
      ]
     },
     "execution_count": 19,
     "metadata": {},
     "output_type": "execute_result"
    }
   ],
   "source": [
    "M*N"
   ]
  },
  {
   "cell_type": "code",
   "execution_count": 20,
   "id": "101f6a2b",
   "metadata": {},
   "outputs": [
    {
     "data": {
      "text/plain": [
       "array([[0, 0],\n",
       "       [0, 0]])"
      ]
     },
     "execution_count": 20,
     "metadata": {},
     "output_type": "execute_result"
    }
   ],
   "source": [
    "M @ N"
   ]
  },
  {
   "cell_type": "code",
   "execution_count": 21,
   "id": "73c4e55e",
   "metadata": {},
   "outputs": [
    {
     "data": {
      "text/plain": [
       "array([[-6,  9],\n",
       "       [-4,  6]])"
      ]
     },
     "execution_count": 21,
     "metadata": {},
     "output_type": "execute_result"
    }
   ],
   "source": [
    "N @ M"
   ]
  },
  {
   "cell_type": "code",
   "execution_count": 24,
   "id": "a0a8fa46",
   "metadata": {},
   "outputs": [],
   "source": [
    "B = N @ M"
   ]
  },
  {
   "cell_type": "code",
   "execution_count": 25,
   "id": "815cacf2",
   "metadata": {},
   "outputs": [
    {
     "data": {
      "text/plain": [
       "array([[-6,  9],\n",
       "       [-4,  6]])"
      ]
     },
     "execution_count": 25,
     "metadata": {},
     "output_type": "execute_result"
    }
   ],
   "source": [
    "B"
   ]
  },
  {
   "cell_type": "code",
   "execution_count": 26,
   "id": "638ce22e",
   "metadata": {},
   "outputs": [
    {
     "data": {
      "text/plain": [
       "array([[-6, -4],\n",
       "       [ 9,  6]])"
      ]
     },
     "execution_count": 26,
     "metadata": {},
     "output_type": "execute_result"
    }
   ],
   "source": [
    "B.T"
   ]
  },
  {
   "cell_type": "code",
   "execution_count": 27,
   "id": "88ded1df",
   "metadata": {},
   "outputs": [],
   "source": [
    "det = np.linalg.det(B)"
   ]
  },
  {
   "cell_type": "code",
   "execution_count": 28,
   "id": "466d1a37",
   "metadata": {},
   "outputs": [
    {
     "data": {
      "text/plain": [
       "0.0"
      ]
     },
     "execution_count": 28,
     "metadata": {},
     "output_type": "execute_result"
    }
   ],
   "source": [
    "det"
   ]
  },
  {
   "cell_type": "code",
   "execution_count": 35,
   "id": "22dc283f",
   "metadata": {},
   "outputs": [],
   "source": [
    "E = np.eye(2)"
   ]
  },
  {
   "cell_type": "code",
   "execution_count": 36,
   "id": "8878d976",
   "metadata": {},
   "outputs": [
    {
     "data": {
      "text/plain": [
       "array([[1., 0.],\n",
       "       [0., 1.]])"
      ]
     },
     "execution_count": 36,
     "metadata": {},
     "output_type": "execute_result"
    }
   ],
   "source": [
    "E"
   ]
  },
  {
   "cell_type": "code",
   "execution_count": 37,
   "id": "ffa8f160",
   "metadata": {},
   "outputs": [
    {
     "data": {
      "text/plain": [
       "array([[-6.,  9.],\n",
       "       [-4.,  6.]])"
      ]
     },
     "execution_count": 37,
     "metadata": {},
     "output_type": "execute_result"
    }
   ],
   "source": [
    "B @ E"
   ]
  },
  {
   "cell_type": "code",
   "execution_count": 38,
   "id": "b2097124",
   "metadata": {},
   "outputs": [],
   "source": [
    "A = np.array([[1,2,3],[4,89,6],[3,2,64]])\n",
    "b = np.array([8,9,11])\n"
   ]
  },
  {
   "cell_type": "code",
   "execution_count": 39,
   "id": "f4922351",
   "metadata": {},
   "outputs": [
    {
     "data": {
      "text/plain": [
       "array([[ 1,  2,  3],\n",
       "       [ 4, 89,  6],\n",
       "       [ 3,  2, 64]])"
      ]
     },
     "execution_count": 39,
     "metadata": {},
     "output_type": "execute_result"
    }
   ],
   "source": [
    "A"
   ]
  },
  {
   "cell_type": "code",
   "execution_count": 40,
   "id": "c7c3fa73",
   "metadata": {},
   "outputs": [
    {
     "data": {
      "text/plain": [
       "array([ 8,  9, 11])"
      ]
     },
     "execution_count": 40,
     "metadata": {},
     "output_type": "execute_result"
    }
   ],
   "source": [
    "b"
   ]
  },
  {
   "cell_type": "code",
   "execution_count": 41,
   "id": "9dc9c6f3",
   "metadata": {},
   "outputs": [],
   "source": [
    "A1 = np.linalg.inv(A)"
   ]
  },
  {
   "cell_type": "code",
   "execution_count": 42,
   "id": "de0222db",
   "metadata": {},
   "outputs": [
    {
     "data": {
      "text/plain": [
       "array([[ 1.28278041e+00, -2.75332882e-02, -5.75490860e-02],\n",
       "       [-5.37124803e-02,  1.24125480e-02,  1.35409614e-03],\n",
       "       [-5.84518167e-02,  9.02730761e-04,  1.82802979e-02]])"
      ]
     },
     "execution_count": 42,
     "metadata": {},
     "output_type": "execute_result"
    }
   ],
   "source": [
    "A1"
   ]
  },
  {
   "cell_type": "code",
   "execution_count": 45,
   "id": "b0cac7d4",
   "metadata": {},
   "outputs": [],
   "source": [
    "x = A1 @ b"
   ]
  },
  {
   "cell_type": "code",
   "execution_count": 46,
   "id": "473756f5",
   "metadata": {},
   "outputs": [
    {
     "data": {
      "text/plain": [
       "array([ 9.38140375, -0.30309185, -0.25840668])"
      ]
     },
     "execution_count": 46,
     "metadata": {},
     "output_type": "execute_result"
    }
   ],
   "source": [
    "x"
   ]
  },
  {
   "cell_type": "code",
   "execution_count": 47,
   "id": "fe0acf37",
   "metadata": {},
   "outputs": [
    {
     "data": {
      "text/plain": [
       "array([ 8.,  9., 11.])"
      ]
     },
     "execution_count": 47,
     "metadata": {},
     "output_type": "execute_result"
    }
   ],
   "source": [
    "# проверка подходит ли наш ответ \n",
    "A @ x"
   ]
  },
  {
   "cell_type": "code",
   "execution_count": null,
   "id": "02734fe5",
   "metadata": {},
   "outputs": [],
   "source": []
  }
 ],
 "metadata": {
  "kernelspec": {
   "display_name": "Python 3 (ipykernel)",
   "language": "python",
   "name": "python3"
  },
  "language_info": {
   "codemirror_mode": {
    "name": "ipython",
    "version": 3
   },
   "file_extension": ".py",
   "mimetype": "text/x-python",
   "name": "python",
   "nbconvert_exporter": "python",
   "pygments_lexer": "ipython3",
   "version": "3.9.7"
  }
 },
 "nbformat": 4,
 "nbformat_minor": 5
}
