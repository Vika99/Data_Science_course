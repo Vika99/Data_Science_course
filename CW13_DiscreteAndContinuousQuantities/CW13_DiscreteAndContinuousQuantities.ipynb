{
 "cells": [
  {
   "cell_type": "code",
   "execution_count": 140,
   "id": "02926849",
   "metadata": {},
   "outputs": [],
   "source": [
    "import numpy as np\n",
    "import math \n",
    "from matplotlib import pyplot as plt"
   ]
  },
  {
   "cell_type": "code",
   "execution_count": 95,
   "id": "7e6ffe35",
   "metadata": {},
   "outputs": [],
   "source": [
    "S = math.pi*10**2\n",
    "s = 6*12/2"
   ]
  },
  {
   "cell_type": "code",
   "execution_count": 96,
   "id": "b44753b0",
   "metadata": {},
   "outputs": [],
   "source": [
    "Sb = S -s"
   ]
  },
  {
   "cell_type": "code",
   "execution_count": 97,
   "id": "d844cdb5",
   "metadata": {},
   "outputs": [
    {
     "data": {
      "text/plain": [
       "0.8854084409738353"
      ]
     },
     "execution_count": 97,
     "metadata": {},
     "output_type": "execute_result"
    }
   ],
   "source": [
    "Sb/S"
   ]
  },
  {
   "cell_type": "code",
   "execution_count": 98,
   "id": "6b2f15c4",
   "metadata": {},
   "outputs": [],
   "source": [
    "x = np.array([1,2,3,4,5,6])\n",
    "p = ([1/6,1/6,1/6,1/6,1/6,1/6])"
   ]
  },
  {
   "cell_type": "code",
   "execution_count": 99,
   "id": "716ca5c5",
   "metadata": {},
   "outputs": [
    {
     "data": {
      "text/plain": [
       "array([1, 2, 3, 4, 5, 6])"
      ]
     },
     "execution_count": 99,
     "metadata": {},
     "output_type": "execute_result"
    }
   ],
   "source": [
    "x"
   ]
  },
  {
   "cell_type": "code",
   "execution_count": 100,
   "id": "229eb896",
   "metadata": {},
   "outputs": [
    {
     "data": {
      "text/plain": [
       "[0.16666666666666666,\n",
       " 0.16666666666666666,\n",
       " 0.16666666666666666,\n",
       " 0.16666666666666666,\n",
       " 0.16666666666666666,\n",
       " 0.16666666666666666]"
      ]
     },
     "execution_count": 100,
     "metadata": {},
     "output_type": "execute_result"
    }
   ],
   "source": [
    "p"
   ]
  },
  {
   "cell_type": "code",
   "execution_count": null,
   "id": "436a855e",
   "metadata": {},
   "outputs": [],
   "source": []
  },
  {
   "cell_type": "code",
   "execution_count": 101,
   "id": "d0ce1a87",
   "metadata": {},
   "outputs": [],
   "source": [
    "M = np.sum(x*p)"
   ]
  },
  {
   "cell_type": "code",
   "execution_count": 102,
   "id": "6dfffe62",
   "metadata": {},
   "outputs": [
    {
     "data": {
      "text/plain": [
       "3.5"
      ]
     },
     "execution_count": 102,
     "metadata": {},
     "output_type": "execute_result"
    }
   ],
   "source": [
    "M"
   ]
  },
  {
   "cell_type": "code",
   "execution_count": 82,
   "id": "feeb6262",
   "metadata": {},
   "outputs": [],
   "source": [
    "R= np.array([-100,100])\n",
    "p1 = np.array([19/37,18/37])"
   ]
  },
  {
   "cell_type": "code",
   "execution_count": 83,
   "id": "df47e7a8",
   "metadata": {},
   "outputs": [
    {
     "data": {
      "text/plain": [
       "-2.7027027027026946"
      ]
     },
     "execution_count": 83,
     "metadata": {},
     "output_type": "execute_result"
    }
   ],
   "source": [
    "n = np.sum(R*p1)\n",
    "n"
   ]
  },
  {
   "cell_type": "code",
   "execution_count": 84,
   "id": "53033e5f",
   "metadata": {},
   "outputs": [
    {
     "data": {
      "text/plain": [
       "-2.7027027027026946"
      ]
     },
     "execution_count": 84,
     "metadata": {},
     "output_type": "execute_result"
    }
   ],
   "source": [
    "R@p1"
   ]
  },
  {
   "cell_type": "code",
   "execution_count": 85,
   "id": "c35a4bad",
   "metadata": {},
   "outputs": [],
   "source": [
    "#mean()"
   ]
  },
  {
   "cell_type": "code",
   "execution_count": 103,
   "id": "520bb251",
   "metadata": {},
   "outputs": [
    {
     "data": {
      "text/plain": [
       "array([-2.5, -1.5, -0.5,  0.5,  1.5,  2.5])"
      ]
     },
     "execution_count": 103,
     "metadata": {},
     "output_type": "execute_result"
    }
   ],
   "source": [
    "D = x - M\n",
    "D"
   ]
  },
  {
   "cell_type": "code",
   "execution_count": 104,
   "id": "6abb28cc",
   "metadata": {},
   "outputs": [
    {
     "data": {
      "text/plain": [
       "array([6.25, 2.25, 0.25, 0.25, 2.25, 6.25])"
      ]
     },
     "execution_count": 104,
     "metadata": {},
     "output_type": "execute_result"
    }
   ],
   "source": [
    "D = D * D\n",
    "D"
   ]
  },
  {
   "cell_type": "code",
   "execution_count": 105,
   "id": "3af816c3",
   "metadata": {},
   "outputs": [
    {
     "data": {
      "text/plain": [
       "2.9166666666666665"
      ]
     },
     "execution_count": 105,
     "metadata": {},
     "output_type": "execute_result"
    }
   ],
   "source": [
    "Di = np.sum(D*p)\n",
    "Di"
   ]
  },
  {
   "cell_type": "code",
   "execution_count": 30,
   "id": "d447ea8c",
   "metadata": {},
   "outputs": [
    {
     "data": {
      "text/plain": [
       "1.707825127659933"
      ]
     },
     "execution_count": 30,
     "metadata": {},
     "output_type": "execute_result"
    }
   ],
   "source": [
    "math.sqrt(Di)"
   ]
  },
  {
   "cell_type": "code",
   "execution_count": 106,
   "id": "afd88a6a",
   "metadata": {},
   "outputs": [
    {
     "data": {
      "text/plain": [
       "1.707825127659933"
      ]
     },
     "execution_count": 106,
     "metadata": {},
     "output_type": "execute_result"
    }
   ],
   "source": [
    "#std\n",
    "np.std(x)"
   ]
  },
  {
   "cell_type": "code",
   "execution_count": null,
   "id": "05298023",
   "metadata": {},
   "outputs": [],
   "source": []
  },
  {
   "cell_type": "code",
   "execution_count": 109,
   "id": "f00fc830",
   "metadata": {},
   "outputs": [],
   "source": [
    "x = np.array([-2, 0, 3, 6, 7.5])\n",
    "p = np.array([0.2, 0.1, 0.2, 0.3, 0.2])"
   ]
  },
  {
   "cell_type": "code",
   "execution_count": 110,
   "id": "9b80d88b",
   "metadata": {},
   "outputs": [
    {
     "data": {
      "text/plain": [
       "3.5"
      ]
     },
     "execution_count": 110,
     "metadata": {},
     "output_type": "execute_result"
    }
   ],
   "source": [
    "M1 = np.sum(x*p)\n",
    "M1"
   ]
  },
  {
   "cell_type": "code",
   "execution_count": 111,
   "id": "88d04368",
   "metadata": {},
   "outputs": [
    {
     "data": {
      "text/plain": [
       "array([-5.5, -3.5, -0.5,  2.5,  4. ])"
      ]
     },
     "execution_count": 111,
     "metadata": {},
     "output_type": "execute_result"
    }
   ],
   "source": [
    "D = x - M1\n",
    "D"
   ]
  },
  {
   "cell_type": "code",
   "execution_count": 112,
   "id": "f66612de",
   "metadata": {},
   "outputs": [
    {
     "data": {
      "text/plain": [
       "array([30.25, 12.25,  0.25,  6.25, 16.  ])"
      ]
     },
     "execution_count": 112,
     "metadata": {},
     "output_type": "execute_result"
    }
   ],
   "source": [
    "D = D*D\n",
    "D"
   ]
  },
  {
   "cell_type": "code",
   "execution_count": 113,
   "id": "3134f7f1",
   "metadata": {},
   "outputs": [
    {
     "data": {
      "text/plain": [
       "12.399999999999999"
      ]
     },
     "execution_count": 113,
     "metadata": {},
     "output_type": "execute_result"
    }
   ],
   "source": [
    "Di = np.sum(D*p)\n",
    "Di"
   ]
  },
  {
   "cell_type": "code",
   "execution_count": 114,
   "id": "3a999503",
   "metadata": {},
   "outputs": [
    {
     "data": {
      "text/plain": [
       "3.5213633723318014"
      ]
     },
     "execution_count": 114,
     "metadata": {},
     "output_type": "execute_result"
    }
   ],
   "source": [
    "math.sqrt(Di)"
   ]
  },
  {
   "cell_type": "code",
   "execution_count": 39,
   "id": "428e112a",
   "metadata": {},
   "outputs": [
    {
     "data": {
      "text/plain": [
       "(2.9, 3.555277766926235)"
      ]
     },
     "execution_count": 39,
     "metadata": {},
     "output_type": "execute_result"
    }
   ],
   "source": [
    "np.mean(x), np.std(x)"
   ]
  },
  {
   "cell_type": "code",
   "execution_count": null,
   "id": "aaf3b21e",
   "metadata": {},
   "outputs": [],
   "source": []
  },
  {
   "cell_type": "code",
   "execution_count": 40,
   "id": "e58f6483",
   "metadata": {},
   "outputs": [
    {
     "data": {
      "text/plain": [
       "[<matplotlib.lines.Line2D at 0x23b9a8ffc70>]"
      ]
     },
     "execution_count": 40,
     "metadata": {},
     "output_type": "execute_result"
    },
    {
     "data": {
      "image/png": "[encoded data removed]",
      "text/plain": [
       "<Figure size 432x288 with 1 Axes>"
      ]
     },
     "metadata": {
      "needs_background": "light"
     },
     "output_type": "display_data"
    }
   ],
   "source": [
    "plt.plot(x,p)"
   ]
  },
  {
   "cell_type": "code",
   "execution_count": null,
   "id": "a17f42f6",
   "metadata": {},
   "outputs": [],
   "source": []
  },
  {
   "cell_type": "code",
   "execution_count": null,
   "id": "95debc4d",
   "metadata": {},
   "outputs": [],
   "source": []
  },
  {
   "cell_type": "code",
   "execution_count": null,
   "id": "0ddcd5c2",
   "metadata": {},
   "outputs": [],
   "source": []
  },
  {
   "cell_type": "code",
   "execution_count": 115,
   "id": "802ba72f",
   "metadata": {},
   "outputs": [],
   "source": [
    "x = np.array([-2, 0, 3, 7])\n",
    "p = np.array([0.4, 0.1, 0.3, .2])"
   ]
  },
  {
   "cell_type": "code",
   "execution_count": 120,
   "id": "13694990",
   "metadata": {},
   "outputs": [],
   "source": [
    "M = x.dot(p)"
   ]
  },
  {
   "cell_type": "code",
   "execution_count": 121,
   "id": "65754dcf",
   "metadata": {},
   "outputs": [],
   "source": [
    "x_M = (x - M)*(x - M)"
   ]
  },
  {
   "cell_type": "code",
   "execution_count": 122,
   "id": "ae6dbdb5",
   "metadata": {},
   "outputs": [],
   "source": [
    "di = x_M.dot(p)"
   ]
  },
  {
   "cell_type": "code",
   "execution_count": 123,
   "id": "2e7bb42f",
   "metadata": {},
   "outputs": [
    {
     "data": {
      "text/plain": [
       "11.850000000000001"
      ]
     },
     "execution_count": 123,
     "metadata": {},
     "output_type": "execute_result"
    }
   ],
   "source": [
    "di"
   ]
  },
  {
   "cell_type": "code",
   "execution_count": 124,
   "id": "e11f491f",
   "metadata": {},
   "outputs": [],
   "source": [
    "std = math.sqrt(di)"
   ]
  },
  {
   "cell_type": "code",
   "execution_count": 125,
   "id": "85c12136",
   "metadata": {},
   "outputs": [
    {
     "data": {
      "text/plain": [
       "(3.4423828956117015, 1.5)"
      ]
     },
     "execution_count": 125,
     "metadata": {},
     "output_type": "execute_result"
    }
   ],
   "source": [
    "std, M"
   ]
  },
  {
   "cell_type": "code",
   "execution_count": 116,
   "id": "2f04d0bf",
   "metadata": {},
   "outputs": [],
   "source": [
    "def F(x):\n",
    "    if x <= -2:\n",
    "        return 0\n",
    "    if -2 < x <= 0:\n",
    "        return 0.4;\n",
    "    if 0 < x <= 3:\n",
    "        return 0.5\n",
    "    if 3 < x <= 7:\n",
    "        return 0.8\n",
    "    if x > 7:\n",
    "        return 1\n",
    "    "
   ]
  },
  {
   "cell_type": "code",
   "execution_count": 117,
   "id": "27a2c655",
   "metadata": {},
   "outputs": [],
   "source": [
    "u = np.linspace (-5,10, 50)\n",
    "v = np.linspace (-5,10, 50)"
   ]
  },
  {
   "cell_type": "code",
   "execution_count": 118,
   "id": "263020fa",
   "metadata": {},
   "outputs": [],
   "source": [
    "for i in range(u.shape[0]):\n",
    "    v[i] = F(u[i])"
   ]
  },
  {
   "cell_type": "code",
   "execution_count": 119,
   "id": "2f89de65",
   "metadata": {},
   "outputs": [
    {
     "data": {
      "text/plain": [
       "<matplotlib.collections.PathCollection at 0x1a79f820fd0>"
      ]
     },
     "execution_count": 119,
     "metadata": {},
     "output_type": "execute_result"
    },
    {
     "data": {
      "image/png": "[encoded data removed]",
      "text/plain": [
       "<Figure size 432x288 with 1 Axes>"
      ]
     },
     "metadata": {
      "needs_background": "light"
     },
     "output_type": "display_data"
    }
   ],
   "source": [
    "plt.scatter(u,v)"
   ]
  },
  {
   "cell_type": "code",
   "execution_count": 66,
   "id": "94033308",
   "metadata": {},
   "outputs": [],
   "source": [
    "#F(-1.99)"
   ]
  },
  {
   "cell_type": "markdown",
   "id": "0feef30e",
   "metadata": {},
   "source": [
    "(-1<X<5), (4<X<=10),\n",
    "(3<=X<=7), \n",
    "(|X-M(X)|<δ(x))\n",
    "\n"
   ]
  },
  {
   "cell_type": "code",
   "execution_count": 67,
   "id": "e0c8fcf9",
   "metadata": {},
   "outputs": [],
   "source": [
    "#F(5) - F(-1)"
   ]
  },
  {
   "cell_type": "markdown",
   "id": "7d4832bc",
   "metadata": {},
   "source": [
    "данное правило может быть использовано только в случае интервала (a<=x<b), где a и b могут попасть в разрывы функции F\n"
   ]
  },
  {
   "cell_type": "markdown",
   "id": "97a1b4c0",
   "metadata": {},
   "source": [
    "F(7) - F(3) + p4"
   ]
  },
  {
   "cell_type": "code",
   "execution_count": 68,
   "id": "279738d5",
   "metadata": {},
   "outputs": [],
   "source": [
    "#F(7) - F(3) + 0.2"
   ]
  },
  {
   "cell_type": "code",
   "execution_count": 69,
   "id": "fee5817b",
   "metadata": {},
   "outputs": [],
   "source": [
    "#F(M+std) - F(M-std)"
   ]
  },
  {
   "cell_type": "code",
   "execution_count": null,
   "id": "a4d89e1d",
   "metadata": {},
   "outputs": [],
   "source": [
    "# непрерывное распределение"
   ]
  },
  {
   "cell_type": "code",
   "execution_count": 126,
   "id": "83ab2fe9",
   "metadata": {},
   "outputs": [],
   "source": [
    "def F(x):\n",
    "    if x <= 0:\n",
    "        return 0\n",
    "    if 0 < x <= 3:\n",
    "        return x**2/9;\n",
    "    if x > 3:\n",
    "        return 1\n"
   ]
  },
  {
   "cell_type": "code",
   "execution_count": 127,
   "id": "31631b27",
   "metadata": {},
   "outputs": [],
   "source": [
    "u = np.linspace (-3,5, 50)\n",
    "v = np.linspace (-3,5, 50)"
   ]
  },
  {
   "cell_type": "code",
   "execution_count": 128,
   "id": "1623d130",
   "metadata": {},
   "outputs": [],
   "source": [
    "for i in range(u.shape[0]):\n",
    "    v[i] = F(u[i])"
   ]
  },
  {
   "cell_type": "code",
   "execution_count": 129,
   "id": "a4ccf0aa",
   "metadata": {},
   "outputs": [
    {
     "data": {
      "text/plain": [
       "[<matplotlib.lines.Line2D at 0x1a79f930b80>]"
      ]
     },
     "execution_count": 129,
     "metadata": {},
     "output_type": "execute_result"
    },
    {
     "data": {
      "image/png": "[encoded data removed]",
      "text/plain": [
       "<Figure size 432x288 with 1 Axes>"
      ]
     },
     "metadata": {
      "needs_background": "light"
     },
     "output_type": "display_data"
    }
   ],
   "source": [
    "plt.plot(u,v)"
   ]
  },
  {
   "cell_type": "code",
   "execution_count": 70,
   "id": "d6da7114",
   "metadata": {},
   "outputs": [],
   "source": [
    "#F(-1)"
   ]
  },
  {
   "cell_type": "code",
   "execution_count": 71,
   "id": "9bfb605e",
   "metadata": {},
   "outputs": [],
   "source": [
    "#F(3) # вероятность того что случайная величина примет значение меньше трех"
   ]
  },
  {
   "cell_type": "code",
   "execution_count": 72,
   "id": "aebb629b",
   "metadata": {},
   "outputs": [],
   "source": [
    "#F(1) - F(0), F(2) - F(1), F(3) - F(2) # есть ли способ оценить концентрацию вероятностей?"
   ]
  },
  {
   "cell_type": "code",
   "execution_count": 132,
   "id": "4ff3c4d8",
   "metadata": {},
   "outputs": [],
   "source": [
    "# найдем производную F\n",
    "def f(x):\n",
    "      if x <= 0:\n",
    "        return 0\n",
    "      if 0 < x <= 3:\n",
    "        return 2*x/9\n",
    "      if x > 3:\n",
    "        return 0\n"
   ]
  },
  {
   "cell_type": "code",
   "execution_count": 133,
   "id": "ac40d51b",
   "metadata": {},
   "outputs": [],
   "source": [
    "u = np.linspace (-3,5, 50)\n",
    "v = np.linspace (-3,5, 50)"
   ]
  },
  {
   "cell_type": "code",
   "execution_count": 134,
   "id": "53f3cf52",
   "metadata": {},
   "outputs": [],
   "source": [
    "for i in range(u.shape[0]):\n",
    "    v[i] = f(u[i])"
   ]
  },
  {
   "cell_type": "code",
   "execution_count": 135,
   "id": "1eda7424",
   "metadata": {},
   "outputs": [
    {
     "data": {
      "text/plain": [
       "<matplotlib.collections.PathCollection at 0x1a79f9afd00>"
      ]
     },
     "execution_count": 135,
     "metadata": {},
     "output_type": "execute_result"
    },
    {
     "data": {
      "image/png": "[encoded data removed]",
      "text/plain": [
       "<Figure size 432x288 with 1 Axes>"
      ]
     },
     "metadata": {
      "needs_background": "light"
     },
     "output_type": "display_data"
    }
   ],
   "source": [
    "plt.scatter(u,v)"
   ]
  },
  {
   "cell_type": "code",
   "execution_count": 74,
   "id": "97248bad",
   "metadata": {},
   "outputs": [],
   "source": [
    "#f(3)*3"
   ]
  },
  {
   "cell_type": "code",
   "execution_count": 136,
   "id": "66845d78",
   "metadata": {},
   "outputs": [],
   "source": [
    "# Gauss scaley=False\n",
    "def f(x, sigma, a):\n",
    "    return 1/(sigma*math.sqrt(2*math.pi))*math.e**(-(x-a)**2/(2*sigma**2))"
   ]
  },
  {
   "cell_type": "code",
   "execution_count": 137,
   "id": "11cfe475",
   "metadata": {},
   "outputs": [],
   "source": [
    "u = np.linspace (-2,9, 100)\n",
    "v = np.linspace (-2,9, 100)"
   ]
  },
  {
   "cell_type": "code",
   "execution_count": 138,
   "id": "d7c95e46",
   "metadata": {},
   "outputs": [],
   "source": [
    "for i in range(u.shape[0]):\n",
    "    v[i] = f(u[i], 2, 3)"
   ]
  },
  {
   "cell_type": "code",
   "execution_count": 139,
   "id": "83de8dda",
   "metadata": {},
   "outputs": [
    {
     "data": {
      "text/plain": [
       "[<matplotlib.lines.Line2D at 0x1a79fa22910>]"
      ]
     },
     "execution_count": 139,
     "metadata": {},
     "output_type": "execute_result"
    },
    {
     "data": {
      "image/png": "[encoded data removed]",
      "text/plain": [
       "<Figure size 432x288 with 1 Axes>"
      ]
     },
     "metadata": {
      "needs_background": "light"
     },
     "output_type": "display_data"
    }
   ],
   "source": [
    "plt.plot(u,v)"
   ]
  },
  {
   "cell_type": "code",
   "execution_count": null,
   "id": "47981b78",
   "metadata": {},
   "outputs": [],
   "source": []
  },
  {
   "cell_type": "code",
   "execution_count": null,
   "id": "f9755f34",
   "metadata": {},
   "outputs": [],
   "source": [
    "#Зависимые случайные величины"
   ]
  },
  {
   "cell_type": "markdown",
   "id": "ed2dec67",
   "metadata": {},
   "source": [
    "оба игрока извлекут черву = 2/8  *  1/7   =  1/28  \n",
    "оба игрока извлекут не черву = 6/8  *  5/7   =  15/28\n",
    "один извлечёт черву, а другой нет = 2/8   *  6/7  =  6/28\n",
    "наоборот = 6/8 * 2/7   = 6/28"
   ]
  },
  {
   "cell_type": "code",
   "execution_count": null,
   "id": "4a5c01ac",
   "metadata": {},
   "outputs": [],
   "source": []
  },
  {
   "cell_type": "code",
   "execution_count": 48,
   "id": "c0e11d75",
   "metadata": {},
   "outputs": [],
   "source": [
    "mx = .25\n",
    "my = .25\n",
    "\n",
    "\n",
    "\n",
    "X = np.array([0,1])\n",
    "Y = np.array([0,1])"
   ]
  },
  {
   "cell_type": "code",
   "execution_count": 63,
   "id": "4d533d36",
   "metadata": {},
   "outputs": [],
   "source": [
    "p = np.array([[15/28, 6/28],[6/28, 1/28]])\n",
    "\n",
    "#p"
   ]
  },
  {
   "cell_type": "code",
   "execution_count": 50,
   "id": "4dea1879",
   "metadata": {},
   "outputs": [],
   "source": [
    "dx = X - mx\n",
    "dy = Y - my"
   ]
  },
  {
   "cell_type": "code",
   "execution_count": 51,
   "id": "57438e23",
   "metadata": {},
   "outputs": [],
   "source": [
    "s = np.zeros((2,2))"
   ]
  },
  {
   "cell_type": "code",
   "execution_count": 52,
   "id": "5a6435ed",
   "metadata": {},
   "outputs": [],
   "source": [
    "for i in range(2):\n",
    "    for j in range(2):\n",
    "        s[i,j] = dx[i]*dx[j]*p[i,j]"
   ]
  },
  {
   "cell_type": "code",
   "execution_count": 75,
   "id": "8ec137bd",
   "metadata": {},
   "outputs": [],
   "source": [
    "#s"
   ]
  },
  {
   "cell_type": "code",
   "execution_count": 76,
   "id": "0762d9e4",
   "metadata": {},
   "outputs": [],
   "source": [
    "#s.sum()"
   ]
  },
  {
   "cell_type": "code",
   "execution_count": null,
   "id": "df8599b7",
   "metadata": {},
   "outputs": [],
   "source": []
  }
 ],
 "metadata": {
  "kernelspec": {
   "display_name": "Python 3 (ipykernel)",
   "language": "python",
   "name": "python3"
  },
  "language_info": {
   "codemirror_mode": {
    "name": "ipython",
    "version": 3
   },
   "file_extension": ".py",
   "mimetype": "text/x-python",
   "name": "python",
   "nbconvert_exporter": "python",
   "pygments_lexer": "ipython3",
   "version": "3.9.7"
  }
 },
 "nbformat": 4,
 "nbformat_minor": 5
}
