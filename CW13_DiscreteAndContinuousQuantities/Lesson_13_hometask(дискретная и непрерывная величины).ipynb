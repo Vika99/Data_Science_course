{
 "cells": [
  {
   "cell_type": "code",
   "execution_count": 23,
   "id": "d1f09833",
   "metadata": {},
   "outputs": [],
   "source": [
    "                                     # ДИСКРЕТНАЯ СЛУЧАЙНАЯ ВЕЛИЧИНА\n",
    "# 1. Дискретная случайная величина Х распределена по следующему закону:\n",
    "\n",
    "# x = np.array([2.10,0.62,-0.93,-0.54,-0.28,0.60])\n",
    "# p = np.array([0.06,0.16,0.25,0.12,0.26,0.15]) \n",
    "\n",
    "# Найдите матожидание, дисперсию и стандартное отклонение сл. величины.\n",
    "\n",
    "# Напишите функцию распределения F(X).\n",
    "# Постройте график F(X)\n",
    "# С какой вероятностью случайная величина примет значения из отрезков \n",
    "# [-0.5, 0.5],  [0, 3]?\n"
   ]
  },
  {
   "cell_type": "code",
   "execution_count": 68,
   "id": "60d178d9",
   "metadata": {},
   "outputs": [],
   "source": [
    "import numpy as np\n",
    "import math\n",
    "from matplotlib import pyplot as plt"
   ]
  },
  {
   "cell_type": "code",
   "execution_count": 69,
   "id": "18644295",
   "metadata": {},
   "outputs": [],
   "source": [
    "# 1. записываем наши случайные величины и их вероятности. ВНИМАНИЕ. ОНИ НЕ УПОРЯДОЧЕНЫ.\n",
    "# надо их упорядочить,важно для построения функции.\n",
    "# x = np.array([2.10,0.62,-0.93,-0.54,-0.28,0.60])\n",
    "# p = np.array([0.06,0.16,0.25,0.12,0.26,0.15]) "
   ]
  },
  {
   "cell_type": "code",
   "execution_count": 70,
   "id": "d7d9c8bd",
   "metadata": {},
   "outputs": [],
   "source": [
    "# 1.  наши упорядоченные значения!\n",
    "x = np.array([-0.93,-0.54,-0.28,0.60,0.62,2.10])\n",
    "p = np.array([0.25,0.12,0.26,0.15,0.16,0.06])"
   ]
  },
  {
   "cell_type": "code",
   "execution_count": 71,
   "id": "21ebb88b",
   "metadata": {},
   "outputs": [],
   "source": [
    "# 2. строим функцию с нашими интервалами:\n",
    "def F(x):\n",
    "    if x<= -0.93:\n",
    "        return 0\n",
    "    if -0.93<x<=-0.54:\n",
    "        return 0.25\n",
    "    if -0.54<x<= -0.28:\n",
    "        return 0.37\n",
    "    if -0.28<x<=0.60:\n",
    "        return 0.63\n",
    "    if 0.60<x<=0.62:\n",
    "        return 0.78\n",
    "    if 0.62<x<=2.10:\n",
    "        return 0.94\n",
    "    if x>2.10:\n",
    "        return 1"
   ]
  },
  {
   "cell_type": "code",
   "execution_count": 72,
   "id": "540bc97e",
   "metadata": {},
   "outputs": [],
   "source": [
    "# 3. Заводим 2-е переменные ,массивы....\n",
    "# создаем массивы . важен массив u в него сохраняются значения от -5 до 10 с шагом  50\n",
    "# оба массива нужны только для рисования\n",
    "# в одном независимая переменная u\n",
    "# в другом значения функции\n",
    "# для рисования на плоскости нужны 2 числа\n",
    "# одно независимая переменная  другое  значение функции\n",
    "# это все исключительно для рисования\n",
    "# (по сути это наши x,y)\n",
    "\n",
    "u = np.linspace (-5,10,50)\n",
    "v = np.linspace (-5,10,50)"
   ]
  },
  {
   "cell_type": "code",
   "execution_count": 73,
   "id": "30de74c5",
   "metadata": {},
   "outputs": [
    {
     "data": {
      "text/plain": [
       "array([-5.        , -4.69387755, -4.3877551 , -4.08163265, -3.7755102 ,\n",
       "       -3.46938776, -3.16326531, -2.85714286, -2.55102041, -2.24489796,\n",
       "       -1.93877551, -1.63265306, -1.32653061, -1.02040816, -0.71428571,\n",
       "       -0.40816327, -0.10204082,  0.20408163,  0.51020408,  0.81632653,\n",
       "        1.12244898,  1.42857143,  1.73469388,  2.04081633,  2.34693878,\n",
       "        2.65306122,  2.95918367,  3.26530612,  3.57142857,  3.87755102,\n",
       "        4.18367347,  4.48979592,  4.79591837,  5.10204082,  5.40816327,\n",
       "        5.71428571,  6.02040816,  6.32653061,  6.63265306,  6.93877551,\n",
       "        7.24489796,  7.55102041,  7.85714286,  8.16326531,  8.46938776,\n",
       "        8.7755102 ,  9.08163265,  9.3877551 ,  9.69387755, 10.        ])"
      ]
     },
     "execution_count": 73,
     "metadata": {},
     "output_type": "execute_result"
    }
   ],
   "source": [
    "u"
   ]
  },
  {
   "cell_type": "code",
   "execution_count": 74,
   "id": "6a827c95",
   "metadata": {},
   "outputs": [
    {
     "data": {
      "text/plain": [
       "array([-5.        , -4.69387755, -4.3877551 , -4.08163265, -3.7755102 ,\n",
       "       -3.46938776, -3.16326531, -2.85714286, -2.55102041, -2.24489796,\n",
       "       -1.93877551, -1.63265306, -1.32653061, -1.02040816, -0.71428571,\n",
       "       -0.40816327, -0.10204082,  0.20408163,  0.51020408,  0.81632653,\n",
       "        1.12244898,  1.42857143,  1.73469388,  2.04081633,  2.34693878,\n",
       "        2.65306122,  2.95918367,  3.26530612,  3.57142857,  3.87755102,\n",
       "        4.18367347,  4.48979592,  4.79591837,  5.10204082,  5.40816327,\n",
       "        5.71428571,  6.02040816,  6.32653061,  6.63265306,  6.93877551,\n",
       "        7.24489796,  7.55102041,  7.85714286,  8.16326531,  8.46938776,\n",
       "        8.7755102 ,  9.08163265,  9.3877551 ,  9.69387755, 10.        ])"
      ]
     },
     "execution_count": 74,
     "metadata": {},
     "output_type": "execute_result"
    }
   ],
   "source": [
    "v"
   ]
  },
  {
   "cell_type": "code",
   "execution_count": 75,
   "id": "792c4a5f",
   "metadata": {},
   "outputs": [],
   "source": [
    "# 4. цикл :рассчитываем значения функции F в точках из массива u. Рассчитанные значения сохраняем в массив v\n",
    "\n",
    "for i in range(u.shape[0]):\n",
    "    v[i] = F(u[i])\n"
   ]
  },
  {
   "cell_type": "code",
   "execution_count": 76,
   "id": "806ad804",
   "metadata": {},
   "outputs": [
    {
     "data": {
      "text/plain": [
       "array([0.  , 0.  , 0.  , 0.  , 0.  , 0.  , 0.  , 0.  , 0.  , 0.  , 0.  ,\n",
       "       0.  , 0.  , 0.  , 0.25, 0.37, 0.63, 0.63, 0.63, 0.94, 0.94, 0.94,\n",
       "       0.94, 0.94, 1.  , 1.  , 1.  , 1.  , 1.  , 1.  , 1.  , 1.  , 1.  ,\n",
       "       1.  , 1.  , 1.  , 1.  , 1.  , 1.  , 1.  , 1.  , 1.  , 1.  , 1.  ,\n",
       "       1.  , 1.  , 1.  , 1.  , 1.  , 1.  ])"
      ]
     },
     "execution_count": 76,
     "metadata": {},
     "output_type": "execute_result"
    }
   ],
   "source": [
    "v"
   ]
  },
  {
   "cell_type": "code",
   "execution_count": 77,
   "id": "6a8c4639",
   "metadata": {},
   "outputs": [
    {
     "data": {
      "text/plain": [
       "<matplotlib.collections.PathCollection at 0x1a15163a5e0>"
      ]
     },
     "execution_count": 77,
     "metadata": {},
     "output_type": "execute_result"
    },
    {
     "data": {
      "image/png": "[encoded data removed]",
      "text/plain": [
       "<Figure size 432x288 with 1 Axes>"
      ]
     },
     "metadata": {
      "needs_background": "light"
     },
     "output_type": "display_data"
    }
   ],
   "source": [
    "plt.scatter (u,v)"
   ]
  },
  {
   "cell_type": "code",
   "execution_count": 78,
   "id": "01cfba26",
   "metadata": {},
   "outputs": [
    {
     "data": {
      "text/plain": [
       "(0.26, 0.37)"
      ]
     },
     "execution_count": 78,
     "metadata": {},
     "output_type": "execute_result"
    }
   ],
   "source": [
    "# С какой вероятностью случайная величина примет значения из отрезков \n",
    "# [-0.5, 0.5],  [0, 3]?\n",
    "\n",
    "# данное правило может быть использовано только в случае интервала (a<=x<b), где a и b могут попасть в разрывы функции F\n",
    "\n",
    "F(0.5)-F(-0.5) , F(3)-F(0)\n"
   ]
  },
  {
   "cell_type": "code",
   "execution_count": 79,
   "id": "b4387bc4",
   "metadata": {},
   "outputs": [
    {
     "name": "stdout",
     "output_type": "stream",
     "text": [
      "Математическое ожидание равно:\n"
     ]
    },
    {
     "data": {
      "text/plain": [
       "(-0.054900000000000004, -0.054900000000000004)"
      ]
     },
     "execution_count": 79,
     "metadata": {},
     "output_type": "execute_result"
    }
   ],
   "source": [
    "# Найдите матожидание:\n",
    "# два способа:\n",
    "# а)\n",
    "M1 = np.sum(x*p)\n",
    "# b)\n",
    "M2 = x.dot(p)\n",
    "print(\"Математическое ожидание равно:\")\n",
    "M1, M2"
   ]
  },
  {
   "cell_type": "code",
   "execution_count": 80,
   "id": "a6087306",
   "metadata": {},
   "outputs": [
    {
     "name": "stdout",
     "output_type": "stream",
     "text": [
      "получим массив [-0.8751 -0.4851 -0.2251  0.6549  0.6749  2.1549]\n",
      "получим массив квадратов наших расстояний [0.76580001 0.23532201 0.05067001 0.42889401 0.45549001 4.64359401]\n",
      "Получим нашу дисперсию: 0.64869099\n",
      "Получим стандартное отклонение сл. величины 0.8054135521581444\n"
     ]
    }
   ],
   "source": [
    "# Найдите дисперсию и стандартное отклонение сл. величины\n",
    "# два способа:\n",
    "# а)Вначале получим массив, далее массив квадратов наших расстояний\n",
    "D = x - M1\n",
    "print(\"получим массив\",D)\n",
    "D1 = D*D\n",
    "print(\"получим массив квадратов наших расстояний\",D1)\n",
    "Di1 = np.sum(D1*p)\n",
    "print(\"Получим нашу дисперсию:\",Di1)\n",
    "deviation1 = math.sqrt(Di1)\n",
    "print(\"Получим стандартное отклонение сл. величины\",deviation1)"
   ]
  },
  {
   "cell_type": "code",
   "execution_count": 81,
   "id": "34eb0504",
   "metadata": {},
   "outputs": [
    {
     "name": "stdout",
     "output_type": "stream",
     "text": [
      "[0.76580001 0.23532201 0.05067001 0.42889401 0.45549001 4.64359401]\n",
      "Получим нашу дисперсию: 0.64869099\n",
      "Получим стандартное отклонение сл. величины 0.8054135521581444\n"
     ]
    }
   ],
   "source": [
    "# б) способ:\n",
    "# перемножаем по значениям и получим вектор:\n",
    "x_M = (x - M2)*(x - M2)\n",
    "print(x_M)\n",
    "\n",
    "Di2 = x_M.dot(p)\n",
    "print(\"Получим нашу дисперсию:\",Di2)\n",
    "\n",
    "deviation2 = math.sqrt(Di2)\n",
    "print(\"Получим стандартное отклонение сл. величины\",deviation2)\n"
   ]
  },
  {
   "cell_type": "code",
   "execution_count": null,
   "id": "de69a782",
   "metadata": {},
   "outputs": [],
   "source": []
  },
  {
   "cell_type": "code",
   "execution_count": null,
   "id": "42058385",
   "metadata": {},
   "outputs": [],
   "source": []
  },
  {
   "cell_type": "code",
   "execution_count": null,
   "id": "545b7b68",
   "metadata": {},
   "outputs": [],
   "source": []
  },
  {
   "cell_type": "code",
   "execution_count": null,
   "id": "38a57a38",
   "metadata": {},
   "outputs": [],
   "source": [
    "                                      # НЕПРЕРЫВНАЯ СЛУЧАЙНАЯ ВЕЛИЧИНА\n",
    "    \n",
    "#    Функция распределения непрерывной случайной величины задана кусочно:\n",
    "#                   0, если х <= -1\n",
    "#       F(x)  =    (х+1)**2/25, если -1 < x <= 4\n",
    "#                     1, если x > 4\n",
    "\n",
    "\n",
    "#запрограммируйте функцию\n",
    "#постройте график F(x)\n",
    "#с какой вероятностью сл. величина примет значения на отрезках [2.99, 3.01], [3.99-4.01]?\n"
   ]
  },
  {
   "cell_type": "code",
   "execution_count": 82,
   "id": "96e39f47",
   "metadata": {},
   "outputs": [],
   "source": [
    "# 1.  строим функцию с нашими интервалами:\n",
    "\n",
    "def F (x):\n",
    "    if x <= -1:\n",
    "        return 0\n",
    "    if -1<x<=4:\n",
    "        return (x+1)**2/25\n",
    "    if x>4:\n",
    "        return 1\n",
    "\n"
   ]
  },
  {
   "cell_type": "code",
   "execution_count": 83,
   "id": "e8ff4c08",
   "metadata": {},
   "outputs": [],
   "source": [
    "# 2. Заводим 2-е переменные,массивы, такая же логика,как было предствлено выше:\n",
    "\n",
    "u = np.linspace (-3,5, 50)\n",
    "v = np.linspace (-3,5, 50)"
   ]
  },
  {
   "cell_type": "code",
   "execution_count": 84,
   "id": "3201c588",
   "metadata": {},
   "outputs": [
    {
     "data": {
      "text/plain": [
       "array([-3.        , -2.83673469, -2.67346939, -2.51020408, -2.34693878,\n",
       "       -2.18367347, -2.02040816, -1.85714286, -1.69387755, -1.53061224,\n",
       "       -1.36734694, -1.20408163, -1.04081633, -0.87755102, -0.71428571,\n",
       "       -0.55102041, -0.3877551 , -0.2244898 , -0.06122449,  0.10204082,\n",
       "        0.26530612,  0.42857143,  0.59183673,  0.75510204,  0.91836735,\n",
       "        1.08163265,  1.24489796,  1.40816327,  1.57142857,  1.73469388,\n",
       "        1.89795918,  2.06122449,  2.2244898 ,  2.3877551 ,  2.55102041,\n",
       "        2.71428571,  2.87755102,  3.04081633,  3.20408163,  3.36734694,\n",
       "        3.53061224,  3.69387755,  3.85714286,  4.02040816,  4.18367347,\n",
       "        4.34693878,  4.51020408,  4.67346939,  4.83673469,  5.        ])"
      ]
     },
     "execution_count": 84,
     "metadata": {},
     "output_type": "execute_result"
    }
   ],
   "source": [
    "u"
   ]
  },
  {
   "cell_type": "code",
   "execution_count": 85,
   "id": "98aacbb2",
   "metadata": {},
   "outputs": [
    {
     "data": {
      "text/plain": [
       "array([-3.        , -2.83673469, -2.67346939, -2.51020408, -2.34693878,\n",
       "       -2.18367347, -2.02040816, -1.85714286, -1.69387755, -1.53061224,\n",
       "       -1.36734694, -1.20408163, -1.04081633, -0.87755102, -0.71428571,\n",
       "       -0.55102041, -0.3877551 , -0.2244898 , -0.06122449,  0.10204082,\n",
       "        0.26530612,  0.42857143,  0.59183673,  0.75510204,  0.91836735,\n",
       "        1.08163265,  1.24489796,  1.40816327,  1.57142857,  1.73469388,\n",
       "        1.89795918,  2.06122449,  2.2244898 ,  2.3877551 ,  2.55102041,\n",
       "        2.71428571,  2.87755102,  3.04081633,  3.20408163,  3.36734694,\n",
       "        3.53061224,  3.69387755,  3.85714286,  4.02040816,  4.18367347,\n",
       "        4.34693878,  4.51020408,  4.67346939,  4.83673469,  5.        ])"
      ]
     },
     "execution_count": 85,
     "metadata": {},
     "output_type": "execute_result"
    }
   ],
   "source": [
    "v"
   ]
  },
  {
   "cell_type": "code",
   "execution_count": 86,
   "id": "488640a6",
   "metadata": {},
   "outputs": [],
   "source": [
    "# 3.цикл :рассчитываем значения функции F в точках из массива u. Рассчитанные значения сохраняем в массив v\n",
    "for i in range(u.shape[0]):\n",
    "    v[i] = F(u[i])"
   ]
  },
  {
   "cell_type": "code",
   "execution_count": 87,
   "id": "54e8e218",
   "metadata": {},
   "outputs": [
    {
     "data": {
      "text/plain": [
       "1.0"
      ]
     },
     "execution_count": 87,
     "metadata": {},
     "output_type": "execute_result"
    }
   ],
   "source": [
    "v[i]"
   ]
  },
  {
   "cell_type": "code",
   "execution_count": 88,
   "id": "85f02fcb",
   "metadata": {},
   "outputs": [
    {
     "data": {
      "text/plain": [
       "[<matplotlib.lines.Line2D at 0x1a1516a57c0>]"
      ]
     },
     "execution_count": 88,
     "metadata": {},
     "output_type": "execute_result"
    },
    {
     "data": {
      "image/png": "[encoded data removed]",
      "text/plain": [
       "<Figure size 432x288 with 1 Axes>"
      ]
     },
     "metadata": {
      "needs_background": "light"
     },
     "output_type": "display_data"
    }
   ],
   "source": [
    "plt.plot(u,v)"
   ]
  },
  {
   "cell_type": "code",
   "execution_count": 89,
   "id": "2eed1e60",
   "metadata": {},
   "outputs": [
    {
     "name": "stdout",
     "output_type": "stream",
     "text": [
      "вероятностью сл. величина примет значения на [2.99, 3.01]= 0.00639999999999985\n",
      "вероятностью сл. величина примет значения на  [3.99-4.01]= 0.0039959999999998885\n"
     ]
    }
   ],
   "source": [
    "#с какой вероятностью сл. величина примет значения на отрезках [2.99, 3.01], [3.99-4.01]?\n",
    "\n",
    "n = F(3.01)-F(2.99)\n",
    "print(\"вероятностью сл. величина примет значения на [2.99, 3.01]=\",n)\n",
    "m = F(4.01) - F(3.99)\n",
    "print(\"вероятностью сл. величина примет значения на  [3.99-4.01]=\",m)"
   ]
  },
  {
   "cell_type": "code",
   "execution_count": null,
   "id": "e0899243",
   "metadata": {},
   "outputs": [],
   "source": []
  },
  {
   "cell_type": "code",
   "execution_count": 90,
   "id": "52bd1e35",
   "metadata": {},
   "outputs": [],
   "source": [
    "# 4. Нам надо найти производную от нашей функции (представленной выше) и дальше записываем нашу функцию:\n",
    "\n",
    "def F (x):\n",
    "    if x <= -1:\n",
    "        return 0\n",
    "    if -1<x<=4:\n",
    "        return (x+1)*2/25\n",
    "    if x>4:\n",
    "        return 0"
   ]
  },
  {
   "cell_type": "code",
   "execution_count": 91,
   "id": "a34c25b6",
   "metadata": {},
   "outputs": [],
   "source": [
    "#5. Заводим 2-е переменные,массивы, такая же логика,как было предствлено выше:\n",
    "u = np.linspace (-3,5, 50)\n",
    "v = np.linspace (-3,5, 50)"
   ]
  },
  {
   "cell_type": "code",
   "execution_count": 92,
   "id": "7bd7d015",
   "metadata": {},
   "outputs": [],
   "source": [
    "#6.цикл :рассчитываем значения функции F в точках из массива u. Рассчитанные значения сохраняем в массив v\n",
    "\n",
    "for i in range(u.shape[0]):\n",
    "    v[i]=F(u[i])"
   ]
  },
  {
   "cell_type": "code",
   "execution_count": 93,
   "id": "da0f579d",
   "metadata": {},
   "outputs": [
    {
     "data": {
      "text/plain": [
       "<matplotlib.collections.PathCollection at 0x1a15170ee20>"
      ]
     },
     "execution_count": 93,
     "metadata": {},
     "output_type": "execute_result"
    },
    {
     "data": {
      "image/png": "[encoded data removed]",
      "text/plain": [
       "<Figure size 432x288 with 1 Axes>"
      ]
     },
     "metadata": {
      "needs_background": "light"
     },
     "output_type": "display_data"
    }
   ],
   "source": [
    "plt.scatter(u,v)"
   ]
  },
  {
   "cell_type": "code",
   "execution_count": null,
   "id": "a7c7002e",
   "metadata": {},
   "outputs": [],
   "source": []
  }
 ],
 "metadata": {
  "kernelspec": {
   "display_name": "Python 3 (ipykernel)",
   "language": "python",
   "name": "python3"
  },
  "language_info": {
   "codemirror_mode": {
    "name": "ipython",
    "version": 3
   },
   "file_extension": ".py",
   "mimetype": "text/x-python",
   "name": "python",
   "nbconvert_exporter": "python",
   "pygments_lexer": "ipython3",
   "version": "3.9.7"
  }
 },
 "nbformat": 4,
 "nbformat_minor": 5
}
