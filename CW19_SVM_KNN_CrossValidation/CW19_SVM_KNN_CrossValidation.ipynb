{
 "cells": [
  {
   "cell_type": "code",
   "execution_count": 9,
   "id": "b292e5df",
   "metadata": {},
   "outputs": [],
   "source": [
    "import pandas as pd\n",
    "from matplotlib import pyplot as plt\n",
    "import seaborn as sns\n",
    "%matplotlib inline\n",
    "import numpy as np\n",
    "from sklearn.metrics import confusion_matrix, precision_score, \\\n",
    "              recall_score, f1_score, precision_recall_curve, roc_curve, roc_auc_score, \\\n",
    "              auc, mean_squared_error\n",
    "import math"
   ]
  },
  {
   "cell_type": "markdown",
   "id": "bf164348",
   "metadata": {},
   "source": [
    "# scikit-learn"
   ]
  },
  {
   "cell_type": "markdown",
   "id": "ff570f5c",
   "metadata": {},
   "source": [
    "## SVM"
   ]
  },
  {
   "cell_type": "code",
   "execution_count": 10,
   "id": "0be06978",
   "metadata": {},
   "outputs": [],
   "source": [
    "from sklearn.svm import SVC, LinearSVC\n",
    "from sklearn import datasets\n",
    "from sklearn.preprocessing import StandardScaler"
   ]
  },
  {
   "cell_type": "code",
   "execution_count": 152,
   "id": "d151fe6e",
   "metadata": {},
   "outputs": [
    {
     "data": {
      "text/plain": [
       "LinearSVC()"
      ]
     },
     "execution_count": 152,
     "metadata": {},
     "output_type": "execute_result"
    }
   ],
   "source": [
    "#iris = datasets.load_iris()\n",
    "#X = iris['data'][:, 2:]\n",
    "#y = (iris['target'] == 2).astype(np.float32)\n",
    "\n",
    "#sc = StandardScaler()  # метод чувствителен к масштабированию\n",
    "#svm_c = LinearSVC()\n",
    "\n",
    "#X = sc.fit_transform (X)\n",
    "#svm_c.fit(X,y)\n"
   ]
  },
  {
   "cell_type": "code",
   "execution_count": 183,
   "id": "ddf73876",
   "metadata": {},
   "outputs": [],
   "source": [
    "#svm_c.predict([[5.5, 1.7]])"
   ]
  },
  {
   "cell_type": "code",
   "execution_count": 184,
   "id": "0757cd28",
   "metadata": {},
   "outputs": [],
   "source": [
    "#svm_c.score(X,y)"
   ]
  },
  {
   "cell_type": "code",
   "execution_count": null,
   "id": "9ce34c23",
   "metadata": {},
   "outputs": [],
   "source": []
  },
  {
   "cell_type": "code",
   "execution_count": 143,
   "id": "fe07f5f8",
   "metadata": {},
   "outputs": [],
   "source": [
    "# Рисовательная функция\n",
    "def plot_svc_decision_boundary(svm_clf, xmin, xmax):\n",
    "    w = svm_clf.coef_[0]\n",
    "    b = svm_clf.intercept_[0]\n",
    "\n",
    "    # At the decision boundary, w0*x0 + w1*x1 + b = 0\n",
    "    # => x1 = -w0/w1 * x0 - b/w1\n",
    "    x0 = np.linspace(xmin, xmax, 200)\n",
    "    decision_boundary = -w[0]/w[1] * x0 - b/w[1]\n",
    "\n",
    "    margin = 1/w[1]\n",
    "    gutter_up = decision_boundary + margin\n",
    "    gutter_down = decision_boundary - margin\n",
    "\n",
    "    svs = svm_clf.support_vectors_\n",
    "    plt.scatter(svs[:, 0], svs[:, 1], s=180, facecolors='#FFAAAA')\n",
    "    plt.plot(x0, decision_boundary, \"k-\", linewidth=2)\n",
    "    plt.plot(x0, gutter_up, \"k--\", linewidth=2)\n",
    "    plt.plot(x0, gutter_down, \"k--\", linewidth=2)"
   ]
  },
  {
   "cell_type": "code",
   "execution_count": null,
   "id": "cd5781a2",
   "metadata": {},
   "outputs": [],
   "source": []
  },
  {
   "cell_type": "code",
   "execution_count": 145,
   "id": "d8775435",
   "metadata": {},
   "outputs": [
    {
     "data": {
      "text/plain": [
       "(-2.0, 2.0, -2.0, 2.0)"
      ]
     },
     "execution_count": 145,
     "metadata": {},
     "output_type": "execute_result"
    },
    {
     "data": {
      "image/png": "[encoded data removed]",
      "text/plain": [
       "<Figure size 864x230.4 with 2 Axes>"
      ]
     },
     "metadata": {
      "needs_background": "light"
     },
     "output_type": "display_data"
    }
   ],
   "source": [
    "# Иллюстрация чувствительности к масштабу\n",
    "Xs = np.array([[1, 50], [5, 20], [3, 80], [5, 60]]).astype(np.float64)\n",
    "ys = np.array([0, 0, 1, 1])\n",
    "svm_clf = SVC(kernel=\"linear\", C=100)\n",
    "svm_clf.fit(Xs, ys)\n",
    "\n",
    "plt.figure(figsize=(12,3.2))\n",
    "plt.subplot(121)\n",
    "plt.plot(Xs[:, 0][ys==1], Xs[:, 1][ys==1], \"bo\")\n",
    "plt.plot(Xs[:, 0][ys==0], Xs[:, 1][ys==0], \"ms\")\n",
    "plot_svc_decision_boundary(svm_clf, 0, 6)\n",
    "plt.xlabel(\"$x_0$\", fontsize=20)\n",
    "plt.ylabel(\"$x_1$  \", fontsize=20, rotation=0)\n",
    "plt.title(\"Unscaled\", fontsize=16)\n",
    "plt.axis([0, 6, 0, 90])\n",
    "\n",
    "from sklearn.preprocessing import StandardScaler\n",
    "scaler = StandardScaler()\n",
    "X_scaled = scaler.fit_transform(Xs)\n",
    "svm_clf.fit(X_scaled, ys)\n",
    "\n",
    "plt.subplot(122)\n",
    "plt.plot(X_scaled[:, 0][ys==1], X_scaled[:, 1][ys==1], \"bo\")\n",
    "plt.plot(X_scaled[:, 0][ys==0], X_scaled[:, 1][ys==0], \"ms\")\n",
    "plot_svc_decision_boundary(svm_clf, -2, 2)\n",
    "plt.xlabel(\"$x_0$\", fontsize=20)\n",
    "plt.title(\"Scaled\", fontsize=16)\n",
    "plt.axis([-2, 2, -2, 2])\n",
    "\n"
   ]
  },
  {
   "cell_type": "code",
   "execution_count": 156,
   "id": "64c18ec4",
   "metadata": {},
   "outputs": [],
   "source": [
    "from sklearn.pipeline import Pipeline"
   ]
  },
  {
   "cell_type": "code",
   "execution_count": 187,
   "id": "5f1b3b3f",
   "metadata": {},
   "outputs": [],
   "source": [
    "df = pd.read_csv('churn-bigml-80.csv')\n",
    "test_df = pd.read_csv('churn-bigml-20.csv')"
   ]
  },
  {
   "cell_type": "code",
   "execution_count": 188,
   "id": "6444e8c2",
   "metadata": {},
   "outputs": [],
   "source": [
    "df['International plan'] = df['International plan'].map({'No':0, 'Yes':1})\n",
    "df['Voice mail plan'] = df['Voice mail plan'].map({'No':0, 'Yes':1})\n",
    "X = df.drop(['State', 'Churn'], axis = 1)\n",
    "Y = df['Churn']\n",
    "\n",
    "test_df['International plan'] = test_df['International plan'].map({'No':0, 'Yes':1})\n",
    "test_df['Voice mail plan'] = test_df['Voice mail plan'].map({'No':0, 'Yes':1})\n",
    "X_test = test_df.drop(['State', 'Churn'], axis = 1)\n",
    "Y_test = test_df['Churn']\n"
   ]
  },
  {
   "cell_type": "code",
   "execution_count": 209,
   "id": "ee0e44b2",
   "metadata": {},
   "outputs": [],
   "source": [
    "# в одном списке передаем два кортежа('scaler' и 'svc',где SVC это классификатор- с полимеальным ядром,степень ядра 3 и C)\n",
    "#pipe_svc = Pipeline ([('scaler', StandardScaler() ), \n",
    "#                     ('svc', SVC(kernel = 'poly', degree = 3, C = 10))])"
   ]
  },
  {
   "cell_type": "code",
   "execution_count": 210,
   "id": "92828fb5",
   "metadata": {},
   "outputs": [
    {
     "data": {
      "text/plain": [
       "Pipeline(steps=[('scaler', StandardScaler()),\n",
       "                ('svc', SVC(C=10, kernel='poly'))])"
      ]
     },
     "execution_count": 210,
     "metadata": {},
     "output_type": "execute_result"
    }
   ],
   "source": [
    "#pipe_svc.fit(X,Y)"
   ]
  },
  {
   "cell_type": "code",
   "execution_count": 211,
   "id": "8bd2572b",
   "metadata": {},
   "outputs": [],
   "source": [
    "#pipe_svc.score(X_test,Y_test)"
   ]
  },
  {
   "cell_type": "code",
   "execution_count": null,
   "id": "49f27751",
   "metadata": {},
   "outputs": [],
   "source": [
    "# запись без пайплайна"
   ]
  },
  {
   "cell_type": "code",
   "execution_count": null,
   "id": "75f60875",
   "metadata": {},
   "outputs": [],
   "source": []
  },
  {
   "cell_type": "markdown",
   "id": "b9decf6d",
   "metadata": {},
   "source": [
    "# sickit-learn"
   ]
  },
  {
   "cell_type": "markdown",
   "id": "4a22fd1b",
   "metadata": {},
   "source": [
    "## KNN"
   ]
  },
  {
   "cell_type": "code",
   "execution_count": 2,
   "id": "4ed28b2e",
   "metadata": {},
   "outputs": [],
   "source": [
    "from sklearn.neighbors import KNeighborsClassifier\n",
    "knn_clf = KNeighborsClassifier()"
   ]
  },
  {
   "cell_type": "code",
   "execution_count": 3,
   "id": "228f8504",
   "metadata": {},
   "outputs": [],
   "source": [
    "df = pd.read_csv('churn-bigml-80.csv')\n",
    "test_df = pd.read_csv('churn-bigml-20.csv')"
   ]
  },
  {
   "cell_type": "code",
   "execution_count": 4,
   "id": "dc3fde94",
   "metadata": {},
   "outputs": [],
   "source": [
    "df['International plan'] = df['International plan'].map({'No':0, 'Yes':1})\n",
    "df['Voice mail plan'] = df['Voice mail plan'].map({'No':0, 'Yes':1})\n",
    "X = df.drop(['State', 'Churn'], axis = 1)\n",
    "Y = df['Churn']\n",
    "\n",
    "test_df['International plan'] = test_df['International plan'].map({'No':0, 'Yes':1})\n",
    "test_df['Voice mail plan'] = test_df['Voice mail plan'].map({'No':0, 'Yes':1})\n",
    "X_test = test_df.drop(['State', 'Churn'], axis = 1)\n",
    "Y_test = test_df['Churn']\n"
   ]
  },
  {
   "cell_type": "code",
   "execution_count": 13,
   "id": "0e86a86b",
   "metadata": {},
   "outputs": [],
   "source": [
    "sc = StandardScaler()"
   ]
  },
  {
   "cell_type": "code",
   "execution_count": 14,
   "id": "dde61522",
   "metadata": {},
   "outputs": [
    {
     "data": {
      "text/plain": [
       "StandardScaler()"
      ]
     },
     "execution_count": 14,
     "metadata": {},
     "output_type": "execute_result"
    }
   ],
   "source": [
    "sc.fit(X)"
   ]
  },
  {
   "cell_type": "code",
   "execution_count": 15,
   "id": "fc7f1f7b",
   "metadata": {},
   "outputs": [],
   "source": [
    "X = sc.transform(X)\n",
    "X_test = sc.transform(X_test)"
   ]
  },
  {
   "cell_type": "code",
   "execution_count": 16,
   "id": "fc0a6bf8",
   "metadata": {},
   "outputs": [
    {
     "data": {
      "text/plain": [
       "KNeighborsClassifier()"
      ]
     },
     "execution_count": 16,
     "metadata": {},
     "output_type": "execute_result"
    }
   ],
   "source": [
    "knn_clf.fit(X, Y) "
   ]
  },
  {
   "cell_type": "code",
   "execution_count": 6,
   "id": "e1cafb3f",
   "metadata": {},
   "outputs": [
    {
     "data": {
      "text/plain": [
       "(0.8912228057014253, 0.8860569715142429)"
      ]
     },
     "execution_count": 6,
     "metadata": {},
     "output_type": "execute_result"
    }
   ],
   "source": [
    "knn_clf.score(X, Y), knn_clf.score(X_test, Y_test)"
   ]
  },
  {
   "cell_type": "code",
   "execution_count": 17,
   "id": "1cfb5068",
   "metadata": {},
   "outputs": [
    {
     "data": {
      "text/plain": [
       "(0.921980495123781, 0.896551724137931)"
      ]
     },
     "execution_count": 17,
     "metadata": {},
     "output_type": "execute_result"
    }
   ],
   "source": [
    "knn_clf.score(X, Y), knn_clf.score(X_test, Y_test)"
   ]
  },
  {
   "cell_type": "code",
   "execution_count": null,
   "id": "022af803",
   "metadata": {},
   "outputs": [],
   "source": [
    "# Что в данном примере сделано не правильно?"
   ]
  },
  {
   "cell_type": "code",
   "execution_count": null,
   "id": "2ed0404b",
   "metadata": {},
   "outputs": [],
   "source": []
  },
  {
   "cell_type": "markdown",
   "id": "91dce7aa",
   "metadata": {},
   "source": [
    "### Cross - Validation"
   ]
  },
  {
   "cell_type": "code",
   "execution_count": 18,
   "id": "2a4e682e",
   "metadata": {},
   "outputs": [],
   "source": [
    "from sklearn.tree import DecisionTreeClassifier"
   ]
  },
  {
   "cell_type": "code",
   "execution_count": 19,
   "id": "29033d37",
   "metadata": {},
   "outputs": [],
   "source": [
    "df = pd.read_csv('churn-bigml-80.csv')\n",
    "test_df = pd.read_csv('churn-bigml-20.csv')\n",
    "df['International plan'] = df['International plan'].map({'No':0, 'Yes':1})\n",
    "df['Voice mail plan'] = df['Voice mail plan'].map({'No':0, 'Yes':1})\n",
    "X = df.drop(['State', 'Churn'], axis = 1)\n",
    "Y = df['Churn']\n",
    "\n",
    "test_df['International plan'] = test_df['International plan'].map({'No':0, 'Yes':1})\n",
    "test_df['Voice mail plan'] = test_df['Voice mail plan'].map({'No':0, 'Yes':1})\n",
    "X_test = test_df.drop(['State', 'Churn'], axis = 1)\n",
    "Y_test = test_df['Churn']\n"
   ]
  },
  {
   "cell_type": "code",
   "execution_count": 20,
   "id": "8cbfe0a7",
   "metadata": {},
   "outputs": [],
   "source": [
    "clf = DecisionTreeClassifier(random_state = 42)"
   ]
  },
  {
   "cell_type": "code",
   "execution_count": 21,
   "id": "3d48a62d",
   "metadata": {},
   "outputs": [
    {
     "data": {
      "text/plain": [
       "DecisionTreeClassifier(random_state=42)"
      ]
     },
     "execution_count": 21,
     "metadata": {},
     "output_type": "execute_result"
    }
   ],
   "source": [
    "clf.fit(X,Y)"
   ]
  },
  {
   "cell_type": "code",
   "execution_count": 22,
   "id": "4a1c85a4",
   "metadata": {},
   "outputs": [
    {
     "data": {
      "text/plain": [
       "0.9130434782608695"
      ]
     },
     "execution_count": 22,
     "metadata": {},
     "output_type": "execute_result"
    }
   ],
   "source": [
    "clf.score(X_test,Y_test)"
   ]
  },
  {
   "cell_type": "code",
   "execution_count": null,
   "id": "65d6f5e6",
   "metadata": {},
   "outputs": [],
   "source": []
  },
  {
   "cell_type": "code",
   "execution_count": 24,
   "id": "8a2bea1b",
   "metadata": {},
   "outputs": [],
   "source": [
    "from sklearn.model_selection import cross_val_score, cross_val_predict"
   ]
  },
  {
   "cell_type": "code",
   "execution_count": 25,
   "id": "c6c30c75",
   "metadata": {},
   "outputs": [],
   "source": [
    "#передаем наш классификатор обученный, и наше множество,на котором учим.cv - то сколько разбиений мы хотим делать\n",
    "# scoring='roc_auc'\n",
    "score = cross_val_score(clf, X, Y, cv=5, scoring='roc_auc') #scoring='roc_auc'"
   ]
  },
  {
   "cell_type": "code",
   "execution_count": 26,
   "id": "17bd4056",
   "metadata": {},
   "outputs": [
    {
     "data": {
      "text/plain": [
       "array([0.9082397 , 0.89681051, 0.89868668, 0.90243902, 0.9043152 ])"
      ]
     },
     "execution_count": 26,
     "metadata": {},
     "output_type": "execute_result"
    }
   ],
   "source": [
    "# получили 5 оценок из множества X, Y\n",
    "score"
   ]
  },
  {
   "cell_type": "code",
   "execution_count": 27,
   "id": "12c5c6db",
   "metadata": {},
   "outputs": [
    {
     "data": {
      "text/plain": [
       "0.9020982215007975"
      ]
     },
     "execution_count": 27,
     "metadata": {},
     "output_type": "execute_result"
    }
   ],
   "source": [
    "score.mean()"
   ]
  },
  {
   "cell_type": "code",
   "execution_count": 67,
   "id": "7dc6f1d2",
   "metadata": {},
   "outputs": [],
   "source": [
    "# cross_val_predict(clf,X,Y)"
   ]
  },
  {
   "cell_type": "code",
   "execution_count": null,
   "id": "79ef9b89",
   "metadata": {},
   "outputs": [],
   "source": []
  },
  {
   "cell_type": "code",
   "execution_count": null,
   "id": "358e317a",
   "metadata": {},
   "outputs": [],
   "source": []
  },
  {
   "cell_type": "code",
   "execution_count": null,
   "id": "90bc7843",
   "metadata": {},
   "outputs": [],
   "source": []
  },
  {
   "cell_type": "code",
   "execution_count": null,
   "id": "837ff7ff",
   "metadata": {},
   "outputs": [],
   "source": []
  },
  {
   "cell_type": "code",
   "execution_count": null,
   "id": "3da2970f",
   "metadata": {},
   "outputs": [],
   "source": [
    "# Поиск гиперпараметров "
   ]
  },
  {
   "cell_type": "code",
   "execution_count": 28,
   "id": "c0d2cc0b",
   "metadata": {},
   "outputs": [],
   "source": [
    "from sklearn.model_selection import GridSearchCV"
   ]
  },
  {
   "cell_type": "code",
   "execution_count": 69,
   "id": "7e54900e",
   "metadata": {},
   "outputs": [],
   "source": [
    "# проведем настройку гиперпараметров для дерева и ближайших соседей"
   ]
  },
  {
   "cell_type": "code",
   "execution_count": 30,
   "id": "b0ba589f",
   "metadata": {},
   "outputs": [
    {
     "data": {
      "text/plain": [
       "KNeighborsClassifier()"
      ]
     },
     "execution_count": 30,
     "metadata": {},
     "output_type": "execute_result"
    }
   ],
   "source": [
    "tree = DecisionTreeClassifier()\n",
    "knn = KNeighborsClassifier()\n",
    "\n",
    "tree.fit(X, Y)\n",
    "knn.fit(X, Y)"
   ]
  },
  {
   "cell_type": "code",
   "execution_count": 128,
   "id": "251f73f4",
   "metadata": {},
   "outputs": [],
   "source": [
    "# Оценим точность"
   ]
  },
  {
   "cell_type": "code",
   "execution_count": 31,
   "id": "74f4b11c",
   "metadata": {},
   "outputs": [],
   "source": [
    "from sklearn.metrics import f1_score, roc_auc_score, accuracy_score"
   ]
  },
  {
   "cell_type": "code",
   "execution_count": 32,
   "id": "26a04732",
   "metadata": {},
   "outputs": [
    {
     "data": {
      "text/plain": [
       "(0.83605999263894, 0.9145427286356822)"
      ]
     },
     "execution_count": 32,
     "metadata": {},
     "output_type": "execute_result"
    }
   ],
   "source": [
    "tree_pred = tree.predict(X_test)\n",
    "roc_auc_score (Y_test, tree_pred), accuracy_score (Y_test, tree_pred)\n"
   ]
  },
  {
   "cell_type": "code",
   "execution_count": 33,
   "id": "3ea3bdb9",
   "metadata": {},
   "outputs": [
    {
     "data": {
      "text/plain": [
       "(0.6526683842473318, 0.8860569715142429)"
      ]
     },
     "execution_count": 33,
     "metadata": {},
     "output_type": "execute_result"
    }
   ],
   "source": [
    "knn_pred = knn.predict(X_test)\n",
    "roc_auc_score (Y_test, knn_pred), accuracy_score (Y_test, knn_pred)\n",
    "# accuracy_score - оцениваем точность попадания в класс\n",
    "# roc_auc_score - оцениваем площать под кривой"
   ]
  },
  {
   "cell_type": "code",
   "execution_count": 34,
   "id": "b0e10bfc",
   "metadata": {},
   "outputs": [],
   "source": [
    "# поиск для дерева\n",
    "# формируем словарь\n",
    "tree_params = {'max_depth': range(1,11), 'max_features': range(4,19)}"
   ]
  },
  {
   "cell_type": "code",
   "execution_count": 35,
   "id": "9ff6532b",
   "metadata": {},
   "outputs": [],
   "source": [
    "tree_grid = GridSearchCV(tree, tree_params,cv=5, verbose=True, )# scoring='roc_auc'"
   ]
  },
  {
   "cell_type": "code",
   "execution_count": 36,
   "id": "45536a10",
   "metadata": {},
   "outputs": [
    {
     "name": "stdout",
     "output_type": "stream",
     "text": [
      "Fitting 5 folds for each of 150 candidates, totalling 750 fits\n"
     ]
    },
    {
     "data": {
      "text/plain": [
       "GridSearchCV(cv=5, estimator=DecisionTreeClassifier(),\n",
       "             param_grid={'max_depth': range(1, 11),\n",
       "                         'max_features': range(4, 19)},\n",
       "             verbose=True)"
      ]
     },
     "execution_count": 36,
     "metadata": {},
     "output_type": "execute_result"
    }
   ],
   "source": [
    "tree_grid.fit(X, Y)"
   ]
  },
  {
   "cell_type": "code",
   "execution_count": 37,
   "id": "e344ab6f",
   "metadata": {},
   "outputs": [
    {
     "data": {
      "text/plain": [
       "{'max_depth': 7, 'max_features': 18}"
      ]
     },
     "execution_count": 37,
     "metadata": {},
     "output_type": "execute_result"
    }
   ],
   "source": [
    "tree_grid.best_params_"
   ]
  },
  {
   "cell_type": "code",
   "execution_count": 38,
   "id": "c93c4443",
   "metadata": {},
   "outputs": [
    {
     "data": {
      "text/plain": [
       "0.9373583208606503"
      ]
     },
     "execution_count": 38,
     "metadata": {},
     "output_type": "execute_result"
    }
   ],
   "source": [
    "tree_grid.best_score_"
   ]
  },
  {
   "cell_type": "code",
   "execution_count": 39,
   "id": "85efe2fb",
   "metadata": {},
   "outputs": [],
   "source": [
    "pred = tree_grid.predict(X_test)"
   ]
  },
  {
   "cell_type": "code",
   "execution_count": 40,
   "id": "150638c7",
   "metadata": {},
   "outputs": [
    {
     "data": {
      "text/plain": [
       "(0.8614464482885535, 0.9430284857571214)"
      ]
     },
     "execution_count": 40,
     "metadata": {},
     "output_type": "execute_result"
    }
   ],
   "source": [
    "roc_auc_score(Y_test, pred), accuracy_score(Y_test, pred)"
   ]
  },
  {
   "cell_type": "code",
   "execution_count": null,
   "id": "99750ddf",
   "metadata": {},
   "outputs": [],
   "source": [
    "# поиск для соседей"
   ]
  },
  {
   "cell_type": "code",
   "execution_count": 41,
   "id": "aec55854",
   "metadata": {},
   "outputs": [],
   "source": [
    "df = pd.read_csv('churn-bigml-80.csv')\n",
    "test_df = pd.read_csv('churn-bigml-20.csv')\n",
    "df['International plan'] = df['International plan'].map({'No':0, 'Yes':1})\n",
    "df['Voice mail plan'] = df['Voice mail plan'].map({'No':0, 'Yes':1})\n",
    "X = df.drop(['State', 'Churn'], axis = 1)\n",
    "Y = df['Churn']\n",
    "\n",
    "test_df['International plan'] = test_df['International plan'].map({'No':0, 'Yes':1})\n",
    "test_df['Voice mail plan'] = test_df['Voice mail plan'].map({'No':0, 'Yes':1})\n",
    "X_test = test_df.drop(['State', 'Churn'], axis = 1)\n",
    "Y_test = test_df['Churn']"
   ]
  },
  {
   "cell_type": "code",
   "execution_count": 46,
   "id": "5e630419",
   "metadata": {},
   "outputs": [],
   "source": [
    "sc.fit(X)\n",
    "X = sc.transform(X)\n",
    "X_test = sc.transform(X_test)"
   ]
  },
  {
   "cell_type": "code",
   "execution_count": 47,
   "id": "995a6dcf",
   "metadata": {},
   "outputs": [],
   "source": [
    "knn_params= {'n_neighbors':range(1,11)}"
   ]
  },
  {
   "cell_type": "code",
   "execution_count": 48,
   "id": "81751deb",
   "metadata": {},
   "outputs": [],
   "source": [
    "knn_grid = GridSearchCV(knn, knr_params,cv=5, verbose=True, )"
   ]
  },
  {
   "cell_type": "code",
   "execution_count": 49,
   "id": "d1f0aea2",
   "metadata": {},
   "outputs": [
    {
     "name": "stdout",
     "output_type": "stream",
     "text": [
      "Fitting 5 folds for each of 10 candidates, totalling 50 fits\n"
     ]
    },
    {
     "data": {
      "text/plain": [
       "GridSearchCV(cv=5, estimator=KNeighborsClassifier(),\n",
       "             param_grid={'n_neighbors': range(1, 11)}, verbose=True)"
      ]
     },
     "execution_count": 49,
     "metadata": {},
     "output_type": "execute_result"
    }
   ],
   "source": [
    "knn_grid.fit(X,Y)"
   ]
  },
  {
   "cell_type": "code",
   "execution_count": 51,
   "id": "d1e2b812",
   "metadata": {},
   "outputs": [
    {
     "data": {
      "text/plain": [
       "0.9351087771942985"
      ]
     },
     "execution_count": 51,
     "metadata": {},
     "output_type": "execute_result"
    }
   ],
   "source": [
    "knn_grid.score(X,Y)"
   ]
  },
  {
   "cell_type": "code",
   "execution_count": 52,
   "id": "4bb55f61",
   "metadata": {},
   "outputs": [],
   "source": [
    "pre = knn_grid.predict(X_test)"
   ]
  },
  {
   "cell_type": "code",
   "execution_count": 53,
   "id": "bdd63cba",
   "metadata": {},
   "outputs": [
    {
     "data": {
      "text/plain": [
       "(0.6895104895104895, 0.896551724137931)"
      ]
     },
     "execution_count": 53,
     "metadata": {},
     "output_type": "execute_result"
    }
   ],
   "source": [
    "roc_auc_score(Y_test, pre), accuracy_score(Y_test, pre)"
   ]
  },
  {
   "cell_type": "code",
   "execution_count": null,
   "id": "22c80ebc",
   "metadata": {},
   "outputs": [],
   "source": []
  }
 ],
 "metadata": {
  "kernelspec": {
   "display_name": "Python 3 (ipykernel)",
   "language": "python",
   "name": "python3"
  },
  "language_info": {
   "codemirror_mode": {
    "name": "ipython",
    "version": 3
   },
   "file_extension": ".py",
   "mimetype": "text/x-python",
   "name": "python",
   "nbconvert_exporter": "python",
   "pygments_lexer": "ipython3",
   "version": "3.9.7"
  }
 },
 "nbformat": 4,
 "nbformat_minor": 5
}
