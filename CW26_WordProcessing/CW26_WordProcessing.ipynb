{
 "cells": [
  {
   "cell_type": "markdown",
   "id": "b4be12f2",
   "metadata": {},
   "source": [
    "# Обработка текста"
   ]
  },
  {
   "cell_type": "code",
   "execution_count": 1,
   "id": "4fa76dec",
   "metadata": {},
   "outputs": [],
   "source": [
    "import pandas as pd\n",
    "import numpy as np"
   ]
  },
  {
   "cell_type": "code",
   "execution_count": 2,
   "id": "953065a1",
   "metadata": {},
   "outputs": [],
   "source": [
    "df = pd.read_csv('SPAM text message 20170820 - Data.csv')"
   ]
  },
  {
   "cell_type": "code",
   "execution_count": 3,
   "id": "df421cc4",
   "metadata": {},
   "outputs": [],
   "source": [
    "#df"
   ]
  },
  {
   "cell_type": "code",
   "execution_count": 4,
   "id": "6903adc0",
   "metadata": {},
   "outputs": [],
   "source": [
    "df['Category'] = df['Category'].map({'ham':0, 'spam':1})"
   ]
  },
  {
   "cell_type": "code",
   "execution_count": 5,
   "id": "3bf60afa",
   "metadata": {},
   "outputs": [],
   "source": [
    "#df.Category.value_counts()"
   ]
  },
  {
   "cell_type": "markdown",
   "id": "9a808f1c",
   "metadata": {},
   "source": [
    "### Отложим часть текстов и меток на потом "
   ]
  },
  {
   "cell_type": "code",
   "execution_count": 6,
   "id": "7705c854",
   "metadata": {},
   "outputs": [],
   "source": [
    "from sklearn.model_selection import train_test_split\n",
    "X_1, X_long_box, y_1, y_long_box = train_test_split(df.Message, df.Category, test_size = 0.1, random_state = 0, stratify = df.Category)"
   ]
  },
  {
   "cell_type": "code",
   "execution_count": 7,
   "id": "9a23e119",
   "metadata": {},
   "outputs": [],
   "source": [
    "# Осталосб для обучения и тестирования\n",
    "#X_1.shape, y_1.shape "
   ]
  },
  {
   "cell_type": "code",
   "execution_count": null,
   "id": "2e344ec7",
   "metadata": {},
   "outputs": [],
   "source": []
  },
  {
   "cell_type": "markdown",
   "id": "2d36c17e",
   "metadata": {},
   "source": [
    "## Подготовка текста\n"
   ]
  },
  {
   "cell_type": "code",
   "execution_count": 8,
   "id": "b66f17d4",
   "metadata": {},
   "outputs": [
    {
     "name": "stderr",
     "output_type": "stream",
     "text": [
      "[nltk_data] Downloading package stopwords to\n",
      "[nltk_data]     C:\\Users\\laptop\\AppData\\Roaming\\nltk_data...\n",
      "[nltk_data]   Unzipping corpora\\stopwords.zip.\n"
     ]
    }
   ],
   "source": [
    "import re\n",
    "import nltk\n",
    "nltk.download('stopwords')\n",
    "from nltk.corpus import stopwords\n",
    "from nltk.stem.porter import PorterStemmer\n"
   ]
  },
  {
   "cell_type": "code",
   "execution_count": 9,
   "id": "94b81d45",
   "metadata": {},
   "outputs": [
    {
     "data": {
      "text/plain": [
       "'Are you driving or training?'"
      ]
     },
     "execution_count": 9,
     "metadata": {},
     "output_type": "execute_result"
    }
   ],
   "source": [
    "# фиксируем строку\n",
    "letter = X_1.iloc[5]\n",
    "letter"
   ]
  },
  {
   "cell_type": "code",
   "execution_count": 10,
   "id": "c8c0cd25",
   "metadata": {},
   "outputs": [
    {
     "data": {
      "text/plain": [
       "'Are you driving or training '"
      ]
     },
     "execution_count": 10,
     "metadata": {},
     "output_type": "execute_result"
    }
   ],
   "source": [
    "# оставляем только латинские символы\n",
    "letter = re.sub('[^a-zA-Z]', ' ', letter)\n",
    "letter"
   ]
  },
  {
   "cell_type": "code",
   "execution_count": 11,
   "id": "0e7e83a0",
   "metadata": {},
   "outputs": [
    {
     "data": {
      "text/plain": [
       "'are you driving or training '"
      ]
     },
     "execution_count": 11,
     "metadata": {},
     "output_type": "execute_result"
    }
   ],
   "source": [
    "# Нижний регистр\n",
    "letter = letter.lower()\n",
    "letter"
   ]
  },
  {
   "cell_type": "code",
   "execution_count": 12,
   "id": "6f0ad964",
   "metadata": {},
   "outputs": [
    {
     "data": {
      "text/plain": [
       "['are', 'you', 'driving', 'or', 'training']"
      ]
     },
     "execution_count": 12,
     "metadata": {},
     "output_type": "execute_result"
    }
   ],
   "source": [
    "letter = letter.split()\n",
    "letter"
   ]
  },
  {
   "cell_type": "code",
   "execution_count": 14,
   "id": "06f0a529",
   "metadata": {},
   "outputs": [],
   "source": [
    "# Создаем стеммер и выкидываем стоп слова\n",
    "ps = PorterStemmer()\n",
    "sw = stopwords.words('english')\n",
    "#stopwords.remove('not')\n"
   ]
  },
  {
   "cell_type": "code",
   "execution_count": 15,
   "id": "f5f4757b",
   "metadata": {},
   "outputs": [],
   "source": [
    "#Удалим из нашего списка слов стоп слова и применим стеммер\n",
    "\n",
    "letter1=[]\n",
    "for word in letter:\n",
    "    if word not in sw:\n",
    "        stemmed = ps.stem(word)\n",
    "        letter1.append(stemmed)"
   ]
  },
  {
   "cell_type": "code",
   "execution_count": 16,
   "id": "03b927ba",
   "metadata": {},
   "outputs": [
    {
     "data": {
      "text/plain": [
       "['drive', 'train']"
      ]
     },
     "execution_count": 16,
     "metadata": {},
     "output_type": "execute_result"
    }
   ],
   "source": [
    " letter1 "
   ]
  },
  {
   "cell_type": "code",
   "execution_count": 17,
   "id": "463c0d68",
   "metadata": {},
   "outputs": [
    {
     "data": {
      "text/plain": [
       "'drive train'"
      ]
     },
     "execution_count": 17,
     "metadata": {},
     "output_type": "execute_result"
    }
   ],
   "source": [
    "' '.join(letter1)"
   ]
  },
  {
   "cell_type": "code",
   "execution_count": 18,
   "id": "6af41e36",
   "metadata": {},
   "outputs": [],
   "source": [
    "def prepare_letter (letter):\n",
    "    letter1 = []\n",
    "    \n",
    "    letter = re.sub('[^a-zA-Z]', ' ', letter)\n",
    "    letter = letter.lower()\n",
    "    letter = letter.split()\n",
    "    for word in letter:\n",
    "        if word not in sw:\n",
    "            stemmed = ps.stem(word)\n",
    "            letter1.append(stemmed)\n",
    "    \n",
    "    return ' '.join(letter1)\n",
    "    "
   ]
  },
  {
   "cell_type": "code",
   "execution_count": 19,
   "id": "4810f54e",
   "metadata": {
    "scrolled": true
   },
   "outputs": [],
   "source": [
    "# Создадим словарь всех имеющихся писем в подготовленном виде\n",
    "co = []\n",
    "for i in range(0, X_1.shape[0]):\n",
    "    co.append(prepare_letter(X_1.iloc[i]))"
   ]
  },
  {
   "cell_type": "code",
   "execution_count": 28,
   "id": "9544a112",
   "metadata": {},
   "outputs": [
    {
     "data": {
      "text/plain": [
       "5014"
      ]
     },
     "execution_count": 28,
     "metadata": {},
     "output_type": "execute_result"
    }
   ],
   "source": [
    "X_1.shape[0]"
   ]
  },
  {
   "cell_type": "code",
   "execution_count": 20,
   "id": "ba4f82c2",
   "metadata": {},
   "outputs": [],
   "source": [
    "from sklearn.feature_extraction.text import CountVectorizer\n",
    "\n",
    "# Векторизация нашего словаря с отбором 1500 наиболее часто встречающихся слов\n",
    "cv = CountVectorizer(max_features = 1500)\n",
    "\n",
    "X = cv.fit_transform(co).toarray()\n",
    "y = y_1.values"
   ]
  },
  {
   "cell_type": "code",
   "execution_count": 21,
   "id": "e7ced89b",
   "metadata": {},
   "outputs": [
    {
     "data": {
      "text/plain": [
       "(5014, 1500)"
      ]
     },
     "execution_count": 21,
     "metadata": {},
     "output_type": "execute_result"
    }
   ],
   "source": [
    "X.shape"
   ]
  },
  {
   "cell_type": "markdown",
   "id": "b673ee32",
   "metadata": {},
   "source": [
    "## Данные подготовленны для использования в моделях машинного обучения"
   ]
  },
  {
   "cell_type": "code",
   "execution_count": null,
   "id": "fd2ec24b",
   "metadata": {},
   "outputs": [],
   "source": []
  },
  {
   "cell_type": "markdown",
   "id": "bcccba2f",
   "metadata": {},
   "source": [
    "## Обучим классификатор"
   ]
  },
  {
   "cell_type": "code",
   "execution_count": 22,
   "id": "aa61fd60",
   "metadata": {},
   "outputs": [],
   "source": [
    "# Делим на тестовое и обучающее множество\n",
    "from sklearn.model_selection import train_test_split\n",
    "X_train, X_test, y_train, y_test = train_test_split(X, y, test_size = 0.2, random_state = 0, stratify = y)"
   ]
  },
  {
   "cell_type": "code",
   "execution_count": 23,
   "id": "98eb4724",
   "metadata": {},
   "outputs": [
    {
     "data": {
      "text/plain": [
       "(4011, 1500)"
      ]
     },
     "execution_count": 23,
     "metadata": {},
     "output_type": "execute_result"
    }
   ],
   "source": [
    "X_train.shape"
   ]
  },
  {
   "cell_type": "code",
   "execution_count": 29,
   "id": "7992d0ea",
   "metadata": {},
   "outputs": [
    {
     "data": {
      "text/plain": [
       "RandomForestClassifier()"
      ]
     },
     "execution_count": 29,
     "metadata": {},
     "output_type": "execute_result"
    }
   ],
   "source": [
    "# Не стесняясь берем случайный лес из коробки\n",
    "from sklearn.ensemble import RandomForestClassifier\n",
    "\n",
    "clf = RandomForestClassifier()\n",
    "clf.fit(X_train, y_train)"
   ]
  },
  {
   "cell_type": "code",
   "execution_count": 30,
   "id": "45b12a75",
   "metadata": {},
   "outputs": [],
   "source": [
    "y_pred = clf.predict(X_test)\n"
   ]
  },
  {
   "cell_type": "code",
   "execution_count": 31,
   "id": "7c186d03",
   "metadata": {},
   "outputs": [
    {
     "name": "stdout",
     "output_type": "stream",
     "text": [
      "[[867   2]\n",
      " [ 18 116]]\n"
     ]
    },
    {
     "data": {
      "text/plain": [
       "0.9800598205383848"
      ]
     },
     "execution_count": 31,
     "metadata": {},
     "output_type": "execute_result"
    }
   ],
   "source": [
    "#Посмотрим на матрицу неточностей проверочного множества\n",
    "from sklearn.metrics import confusion_matrix, accuracy_score\n",
    "cm = confusion_matrix(y_test, y_pred)\n",
    "print(cm)\n",
    "accuracy_score(y_test, y_pred)"
   ]
  },
  {
   "cell_type": "code",
   "execution_count": 196,
   "id": "5549238d",
   "metadata": {},
   "outputs": [],
   "source": [
    "# классификация единичного текста\n"
   ]
  },
  {
   "cell_type": "code",
   "execution_count": 32,
   "id": "dcf109bc",
   "metadata": {},
   "outputs": [],
   "source": [
    "text = X_long_box[1466]\n"
   ]
  },
  {
   "cell_type": "code",
   "execution_count": 33,
   "id": "ce8bc82a",
   "metadata": {},
   "outputs": [
    {
     "data": {
      "text/plain": [
       "'YOU 07801543489 are guaranteed the latests Nokia Phone, a 40GB iPod MP3 player or a £500 prize! Txt word:COLLECT to No:83355! TC-LLC NY-USA 150p/Mt msgrcvd18+'"
      ]
     },
     "execution_count": 33,
     "metadata": {},
     "output_type": "execute_result"
    }
   ],
   "source": [
    "text"
   ]
  },
  {
   "cell_type": "code",
   "execution_count": 34,
   "id": "bca47431",
   "metadata": {},
   "outputs": [],
   "source": [
    "# для прогноза новый текст нужно преобразовать в вектор, предварительно почистив о стоп-слов\n",
    "v = prepare_letter(text)\n",
    "#print (v)\n",
    "vec = cv.transform([v])"
   ]
  },
  {
   "cell_type": "code",
   "execution_count": 35,
   "id": "7f095dab",
   "metadata": {},
   "outputs": [
    {
     "data": {
      "text/plain": [
       "array([1], dtype=int64)"
      ]
     },
     "execution_count": 35,
     "metadata": {},
     "output_type": "execute_result"
    }
   ],
   "source": [
    "clf.predict(vec)"
   ]
  },
  {
   "cell_type": "code",
   "execution_count": null,
   "id": "bf969f3b",
   "metadata": {},
   "outputs": [],
   "source": []
  },
  {
   "cell_type": "code",
   "execution_count": 36,
   "id": "f866b68d",
   "metadata": {},
   "outputs": [
    {
     "name": "stdout",
     "output_type": "stream",
     "text": [
      "3639\n",
      "5468\n",
      "1469\n",
      "833\n",
      "962\n",
      "1765\n",
      "191\n",
      "2626\n",
      "1375\n",
      "4410\n",
      "3067\n",
      "1137\n",
      "2620\n",
      "3807\n",
      "2987\n",
      "67\n",
      "5004\n",
      "3709\n",
      "505\n",
      "4725\n",
      "4299\n",
      "4901\n",
      "3501\n",
      "1993\n",
      "5370\n",
      "4042\n",
      "4949\n",
      "1466\n",
      "3720\n",
      "5012\n",
      "5497\n",
      "3463\n",
      "4144\n",
      "4213\n",
      "4149\n",
      "117\n",
      "5112\n",
      "3560\n",
      "870\n",
      "3423\n",
      "5294\n",
      "1699\n",
      "648\n",
      "3755\n",
      "2071\n",
      "3419\n",
      "2113\n",
      "591\n",
      "5365\n",
      "471\n",
      "3483\n",
      "4930\n",
      "3571\n",
      "3991\n",
      "1544\n",
      "4450\n",
      "2094\n",
      "717\n",
      "3828\n",
      "1072\n",
      "529\n",
      "2729\n",
      "4198\n",
      "4896\n",
      "4473\n",
      "3111\n",
      "2670\n",
      "4199\n",
      "2770\n",
      "4527\n",
      "4967\n",
      "850\n",
      "4236\n",
      "2767\n",
      "592\n"
     ]
    }
   ],
   "source": [
    "for i in y_long_box.index:\n",
    "    if y_long_box[i] == 1:\n",
    "        print (i)"
   ]
  },
  {
   "cell_type": "markdown",
   "id": "b1d6f37f",
   "metadata": {},
   "source": [
    "## Сохранение модели"
   ]
  },
  {
   "cell_type": "code",
   "execution_count": 37,
   "id": "3464e5f6",
   "metadata": {},
   "outputs": [],
   "source": [
    "import pickle\n",
    "\n",
    "pkl_filename = \"forest_spam_model.pkl\" \n",
    "with open(pkl_filename, 'wb') as file: \n",
    "    pickle.dump(clf, file)"
   ]
  },
  {
   "cell_type": "code",
   "execution_count": 38,
   "id": "a340a3b7",
   "metadata": {},
   "outputs": [],
   "source": [
    "pkl_filename = \"vectorizer_spam_model.pkl\" \n",
    "with open(pkl_filename, 'wb') as file: \n",
    "    pickle.dump(cv, file)"
   ]
  },
  {
   "cell_type": "markdown",
   "id": "9af16f01",
   "metadata": {},
   "source": [
    "## Загрузка сохраненной модели"
   ]
  },
  {
   "cell_type": "code",
   "execution_count": 39,
   "id": "a9ef71c4",
   "metadata": {},
   "outputs": [],
   "source": [
    "pkl_filename = 'vectorizer_spam_model.pkl'\n",
    "with open(pkl_filename, 'rb') as file: \n",
    "    cv1 = pickle.load(file) \n"
   ]
  },
  {
   "cell_type": "code",
   "execution_count": 40,
   "id": "a3ee5eb6",
   "metadata": {},
   "outputs": [],
   "source": [
    "pkl_filename = 'forest_spam_model.pkl'\n",
    "with open(pkl_filename, 'rb') as file: \n",
    "    clf1 = pickle.load(file) \n"
   ]
  },
  {
   "cell_type": "code",
   "execution_count": 42,
   "id": "eea29c6c",
   "metadata": {},
   "outputs": [
    {
     "name": "stdout",
     "output_type": "stream",
     "text": [
      "guarante latest nokia phone gb ipod mp player prize txt word collect tc llc ny usa p mt msgrcvd\n"
     ]
    },
    {
     "data": {
      "text/plain": [
       "array([1], dtype=int64)"
      ]
     },
     "execution_count": 42,
     "metadata": {},
     "output_type": "execute_result"
    }
   ],
   "source": [
    "# для прогноза новый текст нужно преобразовать в вектор, предварительно почистив о стоп-слов\n",
    "v = prepare_letter(text)\n",
    "print (v)\n",
    "vec = cv1.transform([v])\n",
    "clf1.predict(vec)"
   ]
  },
  {
   "cell_type": "code",
   "execution_count": null,
   "id": "a777a252",
   "metadata": {},
   "outputs": [],
   "source": []
  },
  {
   "cell_type": "markdown",
   "id": "94d4bfac",
   "metadata": {},
   "source": [
    "## Пробуем класcифицировать нейросетью\n"
   ]
  },
  {
   "cell_type": "code",
   "execution_count": 43,
   "id": "f91d67b7",
   "metadata": {},
   "outputs": [],
   "source": [
    "from tensorflow.keras import models\n",
    "from tensorflow.keras import layers"
   ]
  },
  {
   "cell_type": "code",
   "execution_count": 44,
   "id": "df013e16",
   "metadata": {},
   "outputs": [
    {
     "data": {
      "text/plain": [
       "18"
      ]
     },
     "execution_count": 44,
     "metadata": {},
     "output_type": "execute_result"
    }
   ],
   "source": [
    "X.max()"
   ]
  },
  {
   "cell_type": "code",
   "execution_count": null,
   "id": "820c76ad",
   "metadata": {},
   "outputs": [],
   "source": []
  },
  {
   "cell_type": "code",
   "execution_count": 45,
   "id": "18dc8ba8",
   "metadata": {},
   "outputs": [],
   "source": [
    "from sklearn.preprocessing import StandardScaler"
   ]
  },
  {
   "cell_type": "code",
   "execution_count": 46,
   "id": "d44c734d",
   "metadata": {},
   "outputs": [],
   "source": [
    "SC = StandardScaler()\n",
    "# внимание обучаем и трансформируем тренировочное множество\n",
    "# а тестовое множество только трансформируем \n",
    "X_train = SC.fit_transform(X_train)\n",
    "X_test = SC.transform(X_test)"
   ]
  },
  {
   "cell_type": "code",
   "execution_count": 47,
   "id": "81aa4083",
   "metadata": {},
   "outputs": [],
   "source": [
    "model = models.Sequential()\n",
    "\n",
    "model.add(layers.Dense(256, activation=\"relu\", input_shape = (X_train.shape[1],)))\n",
    "model.add(layers.Dense(1, activation=\"sigmoid\",kernel_regularizer = regularizers.l2(0.001)))"
   ]
  },
  {
   "cell_type": "code",
   "execution_count": 48,
   "id": "4ed24aca",
   "metadata": {},
   "outputs": [],
   "source": [
    "# Компиляция модели\n",
    "model.compile(optimizer=\"adam\",\n",
    "              loss=\"binary_crossentropy\",\n",
    "              metrics=[\"accuracy\"])"
   ]
  },
  {
   "cell_type": "code",
   "execution_count": 49,
   "id": "ce78eb18",
   "metadata": {},
   "outputs": [
    {
     "name": "stdout",
     "output_type": "stream",
     "text": [
      "Epoch 1/75\n",
      "126/126 [==============================] - 2s 8ms/step - loss: 0.5090 - accuracy: 0.8963 - val_loss: 0.1138 - val_accuracy: 0.9701\n",
      "Epoch 2/75\n",
      "126/126 [==============================] - 1s 7ms/step - loss: 0.0393 - accuracy: 0.9853 - val_loss: 0.0565 - val_accuracy: 0.9831\n",
      "Epoch 3/75\n",
      "126/126 [==============================] - 1s 5ms/step - loss: 0.0154 - accuracy: 0.9953 - val_loss: 0.0559 - val_accuracy: 0.9850\n",
      "Epoch 4/75\n",
      "126/126 [==============================] - 1s 5ms/step - loss: 0.0113 - accuracy: 0.9973 - val_loss: 0.0557 - val_accuracy: 0.9860\n",
      "Epoch 5/75\n",
      "126/126 [==============================] - 1s 6ms/step - loss: 0.0094 - accuracy: 0.9980 - val_loss: 0.0562 - val_accuracy: 0.9870\n",
      "Epoch 6/75\n",
      "126/126 [==============================] - 1s 5ms/step - loss: 0.0080 - accuracy: 0.9983 - val_loss: 0.0561 - val_accuracy: 0.9870\n",
      "Epoch 7/75\n",
      "126/126 [==============================] - 1s 5ms/step - loss: 0.0070 - accuracy: 0.9985 - val_loss: 0.0579 - val_accuracy: 0.9860\n",
      "Epoch 8/75\n",
      "126/126 [==============================] - 1s 5ms/step - loss: 0.0067 - accuracy: 0.9985 - val_loss: 0.0575 - val_accuracy: 0.9860\n",
      "Epoch 9/75\n",
      "126/126 [==============================] - 1s 5ms/step - loss: 0.0059 - accuracy: 0.9990 - val_loss: 0.0583 - val_accuracy: 0.9860\n",
      "Epoch 10/75\n",
      "126/126 [==============================] - 1s 5ms/step - loss: 0.0056 - accuracy: 0.9993 - val_loss: 0.0589 - val_accuracy: 0.9870\n",
      "Epoch 11/75\n",
      "126/126 [==============================] - 1s 6ms/step - loss: 0.0053 - accuracy: 0.9993 - val_loss: 0.0591 - val_accuracy: 0.9870\n",
      "Epoch 12/75\n",
      "126/126 [==============================] - 1s 6ms/step - loss: 0.0048 - accuracy: 0.9993 - val_loss: 0.0607 - val_accuracy: 0.9870\n",
      "Epoch 13/75\n",
      "126/126 [==============================] - 1s 5ms/step - loss: 0.0047 - accuracy: 0.9993 - val_loss: 0.0602 - val_accuracy: 0.9850\n",
      "Epoch 14/75\n",
      "126/126 [==============================] - 1s 5ms/step - loss: 0.0045 - accuracy: 0.9993 - val_loss: 0.0612 - val_accuracy: 0.9850\n",
      "Epoch 15/75\n",
      "126/126 [==============================] - 1s 5ms/step - loss: 0.0044 - accuracy: 0.9993 - val_loss: 0.0629 - val_accuracy: 0.9850\n",
      "Epoch 16/75\n",
      "126/126 [==============================] - 1s 5ms/step - loss: 0.0041 - accuracy: 0.9993 - val_loss: 0.0629 - val_accuracy: 0.9850\n",
      "Epoch 17/75\n",
      "126/126 [==============================] - 1s 5ms/step - loss: 0.0039 - accuracy: 0.9993 - val_loss: 0.0628 - val_accuracy: 0.9840\n",
      "Epoch 18/75\n",
      "126/126 [==============================] - 1s 5ms/step - loss: 0.0038 - accuracy: 0.9993 - val_loss: 0.0655 - val_accuracy: 0.9850\n",
      "Epoch 19/75\n",
      "126/126 [==============================] - 1s 5ms/step - loss: 0.0038 - accuracy: 0.9993 - val_loss: 0.0645 - val_accuracy: 0.9850\n",
      "Epoch 20/75\n",
      "126/126 [==============================] - 1s 5ms/step - loss: 0.0035 - accuracy: 0.9993 - val_loss: 0.0650 - val_accuracy: 0.9840\n",
      "Epoch 21/75\n",
      "126/126 [==============================] - 1s 5ms/step - loss: 0.0035 - accuracy: 0.9993 - val_loss: 0.0672 - val_accuracy: 0.9850\n",
      "Epoch 22/75\n",
      "126/126 [==============================] - 1s 5ms/step - loss: 0.0032 - accuracy: 0.9990 - val_loss: 0.0679 - val_accuracy: 0.9850\n",
      "Epoch 23/75\n",
      "126/126 [==============================] - 1s 5ms/step - loss: 0.0035 - accuracy: 0.9993 - val_loss: 0.0671 - val_accuracy: 0.9840\n",
      "Epoch 24/75\n",
      "126/126 [==============================] - 1s 5ms/step - loss: 0.0034 - accuracy: 0.9993 - val_loss: 0.0679 - val_accuracy: 0.9840\n",
      "Epoch 25/75\n",
      "126/126 [==============================] - 1s 5ms/step - loss: 0.0033 - accuracy: 0.9993 - val_loss: 0.0685 - val_accuracy: 0.9850\n",
      "Epoch 26/75\n",
      "126/126 [==============================] - 1s 5ms/step - loss: 0.0031 - accuracy: 0.9990 - val_loss: 0.0696 - val_accuracy: 0.9850\n",
      "Epoch 27/75\n",
      "126/126 [==============================] - 1s 5ms/step - loss: 0.0031 - accuracy: 0.9993 - val_loss: 0.0742 - val_accuracy: 0.9850\n",
      "Epoch 28/75\n",
      "126/126 [==============================] - 1s 5ms/step - loss: 0.0034 - accuracy: 0.9993 - val_loss: 0.0728 - val_accuracy: 0.9850\n",
      "Epoch 29/75\n",
      "126/126 [==============================] - 1s 5ms/step - loss: 0.0034 - accuracy: 0.9990 - val_loss: 0.0711 - val_accuracy: 0.9850\n",
      "Epoch 30/75\n",
      "126/126 [==============================] - 1s 5ms/step - loss: 0.0030 - accuracy: 0.9993 - val_loss: 0.0718 - val_accuracy: 0.9850\n",
      "Epoch 31/75\n",
      "126/126 [==============================] - 1s 5ms/step - loss: 0.0032 - accuracy: 0.9990 - val_loss: 0.0736 - val_accuracy: 0.9850\n",
      "Epoch 32/75\n",
      "126/126 [==============================] - 1s 5ms/step - loss: 0.0030 - accuracy: 0.9990 - val_loss: 0.0766 - val_accuracy: 0.9850\n",
      "Epoch 33/75\n",
      "126/126 [==============================] - 1s 5ms/step - loss: 0.0032 - accuracy: 0.9990 - val_loss: 0.0739 - val_accuracy: 0.9850\n",
      "Epoch 34/75\n",
      "126/126 [==============================] - 1s 5ms/step - loss: 0.0031 - accuracy: 0.9990 - val_loss: 0.0749 - val_accuracy: 0.9850\n",
      "Epoch 35/75\n",
      "126/126 [==============================] - 1s 5ms/step - loss: 0.0032 - accuracy: 0.9993 - val_loss: 0.0741 - val_accuracy: 0.9840\n",
      "Epoch 36/75\n",
      "126/126 [==============================] - 1s 5ms/step - loss: 0.0033 - accuracy: 0.9993 - val_loss: 0.0769 - val_accuracy: 0.9840\n",
      "Epoch 37/75\n",
      "126/126 [==============================] - 1s 5ms/step - loss: 0.0028 - accuracy: 0.9990 - val_loss: 0.0798 - val_accuracy: 0.9840\n",
      "Epoch 38/75\n",
      "126/126 [==============================] - 1s 5ms/step - loss: 0.0030 - accuracy: 0.9990 - val_loss: 0.0803 - val_accuracy: 0.9831\n",
      "Epoch 39/75\n",
      "126/126 [==============================] - 1s 5ms/step - loss: 0.0036 - accuracy: 0.9993 - val_loss: 0.0760 - val_accuracy: 0.9831\n",
      "Epoch 40/75\n",
      "126/126 [==============================] - 1s 5ms/step - loss: 0.0032 - accuracy: 0.9993 - val_loss: 0.0768 - val_accuracy: 0.9831\n",
      "Epoch 41/75\n",
      "126/126 [==============================] - 1s 5ms/step - loss: 0.0025 - accuracy: 0.9995 - val_loss: 0.0831 - val_accuracy: 0.9821\n",
      "Epoch 42/75\n",
      "126/126 [==============================] - 1s 5ms/step - loss: 0.0029 - accuracy: 0.9990 - val_loss: 0.0878 - val_accuracy: 0.9831\n",
      "Epoch 43/75\n",
      "126/126 [==============================] - 1s 5ms/step - loss: 0.0031 - accuracy: 0.9993 - val_loss: 0.0849 - val_accuracy: 0.9831\n",
      "Epoch 44/75\n",
      "126/126 [==============================] - 1s 5ms/step - loss: 0.0034 - accuracy: 0.9993 - val_loss: 0.0863 - val_accuracy: 0.9821\n",
      "Epoch 45/75\n",
      "126/126 [==============================] - 1s 5ms/step - loss: 0.0032 - accuracy: 0.9993 - val_loss: 0.0844 - val_accuracy: 0.9831\n",
      "Epoch 46/75\n",
      "126/126 [==============================] - 1s 5ms/step - loss: 0.0033 - accuracy: 0.9993 - val_loss: 0.0857 - val_accuracy: 0.9831\n",
      "Epoch 47/75\n",
      "126/126 [==============================] - 1s 5ms/step - loss: 0.0034 - accuracy: 0.9995 - val_loss: 0.0839 - val_accuracy: 0.9821\n",
      "Epoch 48/75\n",
      "126/126 [==============================] - 1s 5ms/step - loss: 0.0032 - accuracy: 0.9993 - val_loss: 0.0907 - val_accuracy: 0.9831\n",
      "Epoch 49/75\n",
      "126/126 [==============================] - 1s 5ms/step - loss: 0.0034 - accuracy: 0.9990 - val_loss: 0.0918 - val_accuracy: 0.9831\n",
      "Epoch 50/75\n",
      "126/126 [==============================] - 1s 5ms/step - loss: 0.0033 - accuracy: 0.9993 - val_loss: 0.0908 - val_accuracy: 0.9811\n",
      "Epoch 51/75\n",
      "126/126 [==============================] - 1s 5ms/step - loss: 0.0031 - accuracy: 0.9993 - val_loss: 0.0908 - val_accuracy: 0.9791\n",
      "Epoch 52/75\n",
      "126/126 [==============================] - 1s 5ms/step - loss: 0.0032 - accuracy: 0.9990 - val_loss: 0.0920 - val_accuracy: 0.9811\n",
      "Epoch 53/75\n",
      "126/126 [==============================] - 1s 5ms/step - loss: 0.0028 - accuracy: 0.9990 - val_loss: 0.0902 - val_accuracy: 0.9811\n",
      "Epoch 54/75\n",
      "126/126 [==============================] - 1s 5ms/step - loss: 0.0032 - accuracy: 0.9990 - val_loss: 0.0924 - val_accuracy: 0.9801\n",
      "Epoch 55/75\n",
      "126/126 [==============================] - 1s 5ms/step - loss: 0.0039 - accuracy: 0.9993 - val_loss: 0.0918 - val_accuracy: 0.9801\n",
      "Epoch 56/75\n",
      "126/126 [==============================] - 1s 5ms/step - loss: 0.0035 - accuracy: 0.9993 - val_loss: 0.0948 - val_accuracy: 0.9801\n",
      "Epoch 57/75\n",
      "126/126 [==============================] - 1s 5ms/step - loss: 0.0033 - accuracy: 0.9993 - val_loss: 0.0936 - val_accuracy: 0.9801\n",
      "Epoch 58/75\n",
      "126/126 [==============================] - 1s 5ms/step - loss: 0.0031 - accuracy: 0.9993 - val_loss: 0.0957 - val_accuracy: 0.9811\n",
      "Epoch 59/75\n",
      "126/126 [==============================] - 1s 5ms/step - loss: 0.0032 - accuracy: 0.9993 - val_loss: 0.0955 - val_accuracy: 0.9801\n",
      "Epoch 60/75\n",
      "126/126 [==============================] - 1s 6ms/step - loss: 0.0034 - accuracy: 0.9990 - val_loss: 0.0961 - val_accuracy: 0.9801\n",
      "Epoch 61/75\n",
      "126/126 [==============================] - 1s 5ms/step - loss: 0.0034 - accuracy: 0.9990 - val_loss: 0.1023 - val_accuracy: 0.9781\n",
      "Epoch 62/75\n",
      "126/126 [==============================] - 1s 6ms/step - loss: 0.0035 - accuracy: 0.9993 - val_loss: 0.1037 - val_accuracy: 0.9781\n",
      "Epoch 63/75\n",
      "126/126 [==============================] - 1s 5ms/step - loss: 0.0034 - accuracy: 0.9993 - val_loss: 0.1015 - val_accuracy: 0.9791\n",
      "Epoch 64/75\n",
      "126/126 [==============================] - 1s 5ms/step - loss: 0.0032 - accuracy: 0.9993 - val_loss: 0.1037 - val_accuracy: 0.9781\n",
      "Epoch 65/75\n",
      "126/126 [==============================] - 1s 5ms/step - loss: 0.0032 - accuracy: 0.9990 - val_loss: 0.1077 - val_accuracy: 0.9771\n",
      "Epoch 66/75\n",
      "126/126 [==============================] - 1s 5ms/step - loss: 0.0033 - accuracy: 0.9993 - val_loss: 0.1073 - val_accuracy: 0.9771\n",
      "Epoch 67/75\n",
      "126/126 [==============================] - 1s 5ms/step - loss: 0.0028 - accuracy: 0.9995 - val_loss: 0.1127 - val_accuracy: 0.9781\n",
      "Epoch 68/75\n",
      "126/126 [==============================] - 1s 5ms/step - loss: 0.0033 - accuracy: 0.9993 - val_loss: 0.1075 - val_accuracy: 0.9781\n",
      "Epoch 69/75\n",
      "126/126 [==============================] - 1s 5ms/step - loss: 0.0033 - accuracy: 0.9990 - val_loss: 0.1162 - val_accuracy: 0.9781\n",
      "Epoch 70/75\n",
      "126/126 [==============================] - 1s 5ms/step - loss: 0.0036 - accuracy: 0.9993 - val_loss: 0.1187 - val_accuracy: 0.9771\n",
      "Epoch 71/75\n",
      "126/126 [==============================] - 1s 6ms/step - loss: 0.0031 - accuracy: 0.9993 - val_loss: 0.1168 - val_accuracy: 0.9771\n",
      "Epoch 72/75\n",
      "126/126 [==============================] - 1s 5ms/step - loss: 0.0029 - accuracy: 0.9993 - val_loss: 0.1207 - val_accuracy: 0.9771\n",
      "Epoch 73/75\n",
      "126/126 [==============================] - 1s 5ms/step - loss: 0.0034 - accuracy: 0.9993 - val_loss: 0.1170 - val_accuracy: 0.9771\n",
      "Epoch 74/75\n",
      "126/126 [==============================] - 1s 5ms/step - loss: 0.0033 - accuracy: 0.9990 - val_loss: 0.1150 - val_accuracy: 0.9771\n",
      "Epoch 75/75\n",
      "126/126 [==============================] - 1s 5ms/step - loss: 0.0030 - accuracy: 0.9993 - val_loss: 0.1182 - val_accuracy: 0.9751\n"
     ]
    }
   ],
   "source": [
    "history = model.fit(X_train, y_train, validation_data = (X_test, y_test), epochs=75, batch_size=32)"
   ]
  },
  {
   "cell_type": "code",
   "execution_count": null,
   "id": "0a1f9cdd",
   "metadata": {},
   "outputs": [],
   "source": []
  },
  {
   "cell_type": "code",
   "execution_count": 50,
   "id": "f3387277",
   "metadata": {},
   "outputs": [],
   "source": [
    "from tensorflow.keras import regularizers\n",
    "#kernel_regularizer = regularizers.l2(0.001)"
   ]
  },
  {
   "cell_type": "code",
   "execution_count": null,
   "id": "5121352f",
   "metadata": {},
   "outputs": [],
   "source": []
  },
  {
   "cell_type": "markdown",
   "id": "07d367aa",
   "metadata": {},
   "source": [
    "## Сохранение модели keras"
   ]
  },
  {
   "cell_type": "code",
   "execution_count": 51,
   "id": "8c171305",
   "metadata": {},
   "outputs": [],
   "source": [
    "model.save('keras_model.h5')"
   ]
  },
  {
   "cell_type": "markdown",
   "id": "f775fdfc",
   "metadata": {},
   "source": [
    "## Загрузка готовой модели keras"
   ]
  },
  {
   "cell_type": "code",
   "execution_count": 52,
   "id": "0cac33d1",
   "metadata": {},
   "outputs": [],
   "source": [
    "m1 = models.load_model('keras_model.h5')"
   ]
  },
  {
   "cell_type": "code",
   "execution_count": 53,
   "id": "2dad46ab",
   "metadata": {},
   "outputs": [
    {
     "name": "stdout",
     "output_type": "stream",
     "text": [
      "Married local women looking for discreet action now! 5 real matches instantly to your phone. Text MATCH to 69969 Msg cost 150p 2 stop txt stop BCMSFWC1N3XX\n",
      "marri local women look discreet action real match instantli phone text match msg cost p stop txt stop bcmsfwc n xx\n"
     ]
    }
   ],
   "source": [
    "text = X_long_box[2767]\n",
    "print (text)\n",
    "v = prepare_letter(text)\n",
    "print (v)\n",
    "vec = cv1.transform([v]).toarray()\n",
    "vsc = SC.transform(vec)"
   ]
  },
  {
   "cell_type": "code",
   "execution_count": 54,
   "id": "e0c17028",
   "metadata": {},
   "outputs": [
    {
     "name": "stdout",
     "output_type": "stream",
     "text": [
      "1/1 [==============================] - 1s 1s/step\n"
     ]
    },
    {
     "data": {
      "text/plain": [
       "array([[1.]], dtype=float32)"
      ]
     },
     "execution_count": 54,
     "metadata": {},
     "output_type": "execute_result"
    }
   ],
   "source": [
    "m1.predict(vsc)"
   ]
  },
  {
   "cell_type": "code",
   "execution_count": null,
   "id": "737cfc49",
   "metadata": {},
   "outputs": [],
   "source": []
  },
  {
   "cell_type": "code",
   "execution_count": null,
   "id": "8612df97",
   "metadata": {},
   "outputs": [],
   "source": []
  },
  {
   "cell_type": "code",
   "execution_count": null,
   "id": "b5120b70",
   "metadata": {},
   "outputs": [],
   "source": []
  },
  {
   "cell_type": "code",
   "execution_count": null,
   "id": "c3974efc",
   "metadata": {},
   "outputs": [],
   "source": []
  }
 ],
 "metadata": {
  "kernelspec": {
   "display_name": "Python 3 (ipykernel)",
   "language": "python",
   "name": "python3"
  },
  "language_info": {
   "codemirror_mode": {
    "name": "ipython",
    "version": 3
   },
   "file_extension": ".py",
   "mimetype": "text/x-python",
   "name": "python",
   "nbconvert_exporter": "python",
   "pygments_lexer": "ipython3",
   "version": "3.9.7"
  }
 },
 "nbformat": 4,
 "nbformat_minor": 5
}
