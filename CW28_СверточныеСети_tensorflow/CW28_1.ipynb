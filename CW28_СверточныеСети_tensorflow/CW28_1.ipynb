{
 "cells": [
  {
   "cell_type": "code",
   "execution_count": null,
   "id": "42f6cc1d",
   "metadata": {
    "id": "42f6cc1d"
   },
   "outputs": [],
   "source": []
  },
  {
   "cell_type": "code",
   "execution_count": null,
   "id": "ae7f55b1",
   "metadata": {
    "id": "ae7f55b1"
   },
   "outputs": [],
   "source": []
  },
  {
   "cell_type": "code",
   "execution_count": 1,
   "id": "7f7c0530",
   "metadata": {
    "colab": {
     "base_uri": "https://localhost:8080/"
    },
    "id": "7f7c0530",
    "outputId": "601f0116-3ab2-47ab-c383-5c34e387b0bc"
   },
   "outputs": [
    {
     "name": "stdout",
     "output_type": "stream",
     "text": [
      "Downloading data from https://storage.googleapis.com/tensorflow/tf-keras-datasets/mnist.npz\n",
      "11493376/11490434 [==============================] - 0s 0us/step\n",
      "11501568/11490434 [==============================] - 0s 0us/step\n"
     ]
    }
   ],
   "source": [
    "from tensorflow.keras.datasets import mnist\n",
    "(train_images, train_labels), (test_images, test_labels) = mnist.load_data()"
   ]
  },
  {
   "cell_type": "code",
   "execution_count": 3,
   "id": "a755a8fc",
   "metadata": {
    "id": "a755a8fc"
   },
   "outputs": [],
   "source": [
    "# подготовка данных\n",
    "train_images = train_images.reshape((60000, 28 * 28))\n",
    "\n",
    "train_images = train_images.astype(\"float32\") / 255\n",
    "\n",
    "test_images = test_images.reshape((10000, 28 * 28))\n",
    "\n",
    "test_images = test_images.astype(\"float32\") / 255"
   ]
  },
  {
   "cell_type": "code",
   "execution_count": 4,
   "id": "66f93528",
   "metadata": {
    "colab": {
     "base_uri": "https://localhost:8080/"
    },
    "id": "66f93528",
    "outputId": "819d65fd-afd5-4fd7-b941-79b1b38bb0c5"
   },
   "outputs": [
    {
     "data": {
      "text/plain": [
       "array([5, 0, 4, ..., 5, 6, 8], dtype=uint8)"
      ]
     },
     "execution_count": 4,
     "metadata": {},
     "output_type": "execute_result"
    }
   ],
   "source": [
    "train_labels"
   ]
  },
  {
   "cell_type": "code",
   "execution_count": 5,
   "id": "8bca2403",
   "metadata": {
    "id": "8bca2403"
   },
   "outputs": [],
   "source": [
    "# Архитектура и модель\n",
    "import tensorflow as tf\n",
    "from tensorflow.keras import models\n",
    "from tensorflow.keras import layers\n",
    "\n",
    "model = models.Sequential()\n",
    "\n",
    "model.add(layers.Dense(256, activation=\"relu\", input_shape = (28*28,) ))\n",
    "model.add(layers.Dense(10, activation=\"softmax\"))\n",
    "\n",
    "# Компиляция модели\n",
    "model.compile(optimizer=tf.keras.optimizers.Adam(1e-3),\n",
    "              loss=\"sparse_categorical_crossentropy\",\n",
    "              metrics=[\"accuracy\"])"
   ]
  },
  {
   "cell_type": "code",
   "execution_count": 6,
   "id": "df4583f1",
   "metadata": {
    "colab": {
     "base_uri": "https://localhost:8080/"
    },
    "id": "df4583f1",
    "outputId": "dc2d540a-b87b-4a29-fe96-331be2494f15"
   },
   "outputs": [
    {
     "name": "stdout",
     "output_type": "stream",
     "text": [
      "Epoch 1/10\n",
      "469/469 [==============================] - 4s 7ms/step - loss: 0.3085 - accuracy: 0.9145 - val_loss: 0.1612 - val_accuracy: 0.9512\n",
      "Epoch 2/10\n",
      "469/469 [==============================] - 3s 6ms/step - loss: 0.1332 - accuracy: 0.9618 - val_loss: 0.1121 - val_accuracy: 0.9675\n",
      "Epoch 3/10\n",
      "469/469 [==============================] - 3s 7ms/step - loss: 0.0906 - accuracy: 0.9735 - val_loss: 0.0930 - val_accuracy: 0.9713\n",
      "Epoch 4/10\n",
      "469/469 [==============================] - 3s 6ms/step - loss: 0.0671 - accuracy: 0.9803 - val_loss: 0.0764 - val_accuracy: 0.9775\n",
      "Epoch 5/10\n",
      "469/469 [==============================] - 3s 6ms/step - loss: 0.0517 - accuracy: 0.9850 - val_loss: 0.0729 - val_accuracy: 0.9761\n",
      "Epoch 6/10\n",
      "469/469 [==============================] - 3s 6ms/step - loss: 0.0402 - accuracy: 0.9885 - val_loss: 0.0744 - val_accuracy: 0.9754\n",
      "Epoch 7/10\n",
      "469/469 [==============================] - 3s 6ms/step - loss: 0.0326 - accuracy: 0.9910 - val_loss: 0.0672 - val_accuracy: 0.9777\n",
      "Epoch 8/10\n",
      "469/469 [==============================] - 3s 7ms/step - loss: 0.0245 - accuracy: 0.9934 - val_loss: 0.0644 - val_accuracy: 0.9805\n",
      "Epoch 9/10\n",
      "469/469 [==============================] - 3s 6ms/step - loss: 0.0200 - accuracy: 0.9951 - val_loss: 0.0680 - val_accuracy: 0.9788\n",
      "Epoch 10/10\n",
      "469/469 [==============================] - 3s 7ms/step - loss: 0.0163 - accuracy: 0.9959 - val_loss: 0.0624 - val_accuracy: 0.9814\n"
     ]
    }
   ],
   "source": [
    "history = model.fit(train_images, train_labels, validation_data = (test_images, test_labels), \n",
    "                    epochs=10, batch_size=128)"
   ]
  },
  {
   "cell_type": "code",
   "execution_count": null,
   "id": "87f2a94d",
   "metadata": {
    "id": "87f2a94d"
   },
   "outputs": [],
   "source": []
  },
  {
   "cell_type": "code",
   "execution_count": null,
   "id": "c94a8266",
   "metadata": {
    "id": "c94a8266"
   },
   "outputs": [],
   "source": [
    "# Добавить слои"
   ]
  },
  {
   "cell_type": "code",
   "execution_count": null,
   "id": "4547409f",
   "metadata": {
    "id": "4547409f"
   },
   "outputs": [],
   "source": []
  },
  {
   "cell_type": "code",
   "execution_count": null,
   "id": "a54d00fc",
   "metadata": {
    "id": "a54d00fc"
   },
   "outputs": [],
   "source": [
    "# снизить количество нейронов"
   ]
  },
  {
   "cell_type": "code",
   "execution_count": null,
   "id": "6b1af4fd",
   "metadata": {
    "id": "6b1af4fd"
   },
   "outputs": [],
   "source": []
  },
  {
   "cell_type": "code",
   "execution_count": null,
   "id": "1491b68d",
   "metadata": {
    "id": "1491b68d"
   },
   "outputs": [],
   "source": [
    "# Добавить регуляризацию kernel_regularizer=regularizers.l2(0.002)"
   ]
  },
  {
   "cell_type": "code",
   "execution_count": null,
   "id": "6bb8ba2c",
   "metadata": {
    "id": "6bb8ba2c"
   },
   "outputs": [],
   "source": []
  },
  {
   "cell_type": "code",
   "execution_count": null,
   "id": "51e626eb",
   "metadata": {
    "id": "51e626eb"
   },
   "outputs": [],
   "source": [
    "# Добавить Dropout"
   ]
  },
  {
   "cell_type": "code",
   "execution_count": null,
   "id": "bc42502f",
   "metadata": {
    "id": "bc42502f"
   },
   "outputs": [],
   "source": []
  },
  {
   "cell_type": "code",
   "execution_count": null,
   "id": "a20a3494",
   "metadata": {
    "id": "a20a3494"
   },
   "outputs": [],
   "source": []
  },
  {
   "cell_type": "code",
   "execution_count": null,
   "id": "f7255078",
   "metadata": {
    "id": "f7255078"
   },
   "outputs": [],
   "source": []
  },
  {
   "cell_type": "code",
   "execution_count": null,
   "id": "a3699e8b",
   "metadata": {
    "id": "a3699e8b"
   },
   "outputs": [],
   "source": []
  },
  {
   "cell_type": "code",
   "execution_count": null,
   "id": "e5d0d40e",
   "metadata": {
    "id": "e5d0d40e"
   },
   "outputs": [],
   "source": []
  },
  {
   "cell_type": "code",
   "execution_count": null,
   "id": "cfac9186",
   "metadata": {
    "id": "cfac9186"
   },
   "outputs": [],
   "source": []
  },
  {
   "cell_type": "code",
   "execution_count": null,
   "id": "a69f4c08",
   "metadata": {
    "id": "a69f4c08"
   },
   "outputs": [],
   "source": []
  },
  {
   "cell_type": "code",
   "execution_count": null,
   "id": "a66e9980",
   "metadata": {
    "id": "a66e9980"
   },
   "outputs": [],
   "source": []
  },
  {
   "cell_type": "code",
   "execution_count": null,
   "id": "fd936018",
   "metadata": {
    "id": "fd936018"
   },
   "outputs": [],
   "source": []
  },
  {
   "cell_type": "code",
   "execution_count": 7,
   "id": "0ba8e792",
   "metadata": {
    "id": "0ba8e792"
   },
   "outputs": [],
   "source": [
    "import numpy as np"
   ]
  },
  {
   "cell_type": "code",
   "execution_count": 8,
   "id": "pyhg53sVSkFg",
   "metadata": {
    "id": "pyhg53sVSkFg"
   },
   "outputs": [],
   "source": [
    "(train_images, train_labels), (test_images, test_labels) = mnist.load_data()"
   ]
  },
  {
   "cell_type": "code",
   "execution_count": 9,
   "id": "mWUGXDqmSp_Y",
   "metadata": {
    "colab": {
     "base_uri": "https://localhost:8080/"
    },
    "id": "mWUGXDqmSp_Y",
    "outputId": "6232a836-bf5d-46b2-f857-12a55f3d8041"
   },
   "outputs": [
    {
     "data": {
      "text/plain": [
       "(60000, 28, 28)"
      ]
     },
     "execution_count": 9,
     "metadata": {},
     "output_type": "execute_result"
    }
   ],
   "source": [
    "train_images.shape"
   ]
  },
  {
   "cell_type": "code",
   "execution_count": 10,
   "id": "a34700e1",
   "metadata": {
    "id": "a34700e1"
   },
   "outputs": [],
   "source": [
    "train_images = np.expand_dims(train_images, axis = 3)"
   ]
  },
  {
   "cell_type": "code",
   "execution_count": 11,
   "id": "7eb38eaa",
   "metadata": {
    "colab": {
     "base_uri": "https://localhost:8080/"
    },
    "id": "7eb38eaa",
    "outputId": "6d90d94c-2572-471e-9e52-5a04503ba097",
    "scrolled": true
   },
   "outputs": [
    {
     "data": {
      "text/plain": [
       "(60000, 28, 28, 1)"
      ]
     },
     "execution_count": 11,
     "metadata": {},
     "output_type": "execute_result"
    }
   ],
   "source": [
    "train_images.shape"
   ]
  },
  {
   "cell_type": "code",
   "execution_count": 13,
   "id": "3f6ab9ad",
   "metadata": {
    "id": "3f6ab9ad"
   },
   "outputs": [],
   "source": [
    "test_images = np.expand_dims(test_images, axis = 3)"
   ]
  },
  {
   "cell_type": "code",
   "execution_count": 14,
   "id": "5ecd8432",
   "metadata": {
    "colab": {
     "base_uri": "https://localhost:8080/"
    },
    "id": "5ecd8432",
    "outputId": "46bbeb32-5bb5-4d57-e24d-019b94e5f775"
   },
   "outputs": [
    {
     "data": {
      "text/plain": [
       "(10000, 28, 28, 1)"
      ]
     },
     "execution_count": 14,
     "metadata": {},
     "output_type": "execute_result"
    }
   ],
   "source": [
    "test_images.shape"
   ]
  },
  {
   "cell_type": "code",
   "execution_count": 12,
   "id": "649497ce",
   "metadata": {
    "id": "649497ce"
   },
   "outputs": [],
   "source": [
    "train_images = train_images.astype(\"float32\") / 255\n",
    "test_images = test_images.astype(\"float32\") / 255"
   ]
  },
  {
   "cell_type": "code",
   "execution_count": null,
   "id": "a72d5d2f",
   "metadata": {
    "id": "a72d5d2f"
   },
   "outputs": [],
   "source": []
  },
  {
   "cell_type": "code",
   "execution_count": null,
   "id": "8412ada2",
   "metadata": {
    "id": "8412ada2"
   },
   "outputs": [],
   "source": []
  },
  {
   "cell_type": "code",
   "execution_count": 21,
   "id": "f8ea5d35",
   "metadata": {
    "id": "f8ea5d35"
   },
   "outputs": [],
   "source": [
    "Conv_model = models.Sequential()\n",
    "\n",
    "Conv_model.add(layers.Conv2D(32, (3,3), activation = 'relu', padding = 'same', input_shape = (28, 28,1)))\n",
    "Conv_model.add(layers.MaxPooling2D(2,2))\n",
    "Conv_model.add(layers.Conv2D(64, (3,3), activation = 'relu'))\n",
    "Conv_model.add(layers.MaxPooling2D(2,2))\n",
    "Conv_model.add(layers.Conv2D(64, (3,3), activation = 'relu'))\n"
   ]
  },
  {
   "cell_type": "code",
   "execution_count": 22,
   "id": "10cf31a2",
   "metadata": {
    "colab": {
     "base_uri": "https://localhost:8080/"
    },
    "id": "10cf31a2",
    "outputId": "d54d89df-8441-4933-972d-7b638c46a1a0"
   },
   "outputs": [
    {
     "name": "stdout",
     "output_type": "stream",
     "text": [
      "Model: \"sequential_2\"\n",
      "_________________________________________________________________\n",
      " Layer (type)                Output Shape              Param #   \n",
      "=================================================================\n",
      " conv2d_3 (Conv2D)           (None, 28, 28, 32)        320       \n",
      "                                                                 \n",
      " max_pooling2d_2 (MaxPooling  (None, 14, 14, 32)       0         \n",
      " 2D)                                                             \n",
      "                                                                 \n",
      " conv2d_4 (Conv2D)           (None, 12, 12, 64)        18496     \n",
      "                                                                 \n",
      " max_pooling2d_3 (MaxPooling  (None, 6, 6, 64)         0         \n",
      " 2D)                                                             \n",
      "                                                                 \n",
      " conv2d_5 (Conv2D)           (None, 4, 4, 64)          36928     \n",
      "                                                                 \n",
      "=================================================================\n",
      "Total params: 55,744\n",
      "Trainable params: 55,744\n",
      "Non-trainable params: 0\n",
      "_________________________________________________________________\n"
     ]
    }
   ],
   "source": [
    "Conv_model.summary()"
   ]
  },
  {
   "cell_type": "code",
   "execution_count": 17,
   "id": "1f1d599e",
   "metadata": {
    "id": "1f1d599e"
   },
   "outputs": [],
   "source": [
    "\n",
    "Conv_model.add(layers.Flatten())\n",
    "Conv_model.add(layers.Dense(64, activation = 'relu'))\n",
    "Conv_model.add(layers.Dense(10, activation = 'softmax'))"
   ]
  },
  {
   "cell_type": "code",
   "execution_count": null,
   "id": "3asdDlXiKjmR",
   "metadata": {
    "id": "3asdDlXiKjmR"
   },
   "outputs": [],
   "source": []
  },
  {
   "cell_type": "code",
   "execution_count": null,
   "id": "92e0af4d",
   "metadata": {
    "id": "92e0af4d"
   },
   "outputs": [],
   "source": []
  },
  {
   "cell_type": "code",
   "execution_count": 19,
   "id": "f8fd9ca1",
   "metadata": {
    "id": "f8fd9ca1"
   },
   "outputs": [],
   "source": [
    "# Компиляция модели\n",
    "Conv_model.compile(optimizer=\"adam\",\n",
    "              loss=\"sparse_categorical_crossentropy\",\n",
    "              metrics=[\"accuracy\"])"
   ]
  },
  {
   "cell_type": "code",
   "execution_count": 20,
   "id": "b6207046",
   "metadata": {
    "colab": {
     "base_uri": "https://localhost:8080/"
    },
    "collapsed": true,
    "id": "b6207046",
    "outputId": "c9d413d6-7bfe-4024-fa33-0f8948100128"
   },
   "outputs": [
    {
     "name": "stdout",
     "output_type": "stream",
     "text": [
      "Epoch 1/10\n",
      "469/469 [==============================] - 51s 107ms/step - loss: 0.2313 - accuracy: 0.9336 - val_loss: 0.0525 - val_accuracy: 0.9827\n",
      "Epoch 2/10\n",
      "469/469 [==============================] - 50s 106ms/step - loss: 0.0588 - accuracy: 0.9819 - val_loss: 0.0434 - val_accuracy: 0.9857\n",
      "Epoch 3/10\n",
      "469/469 [==============================] - 50s 106ms/step - loss: 0.0411 - accuracy: 0.9873 - val_loss: 0.0292 - val_accuracy: 0.9888\n",
      "Epoch 4/10\n",
      "469/469 [==============================] - 49s 105ms/step - loss: 0.0321 - accuracy: 0.9898 - val_loss: 0.0331 - val_accuracy: 0.9884\n",
      "Epoch 5/10\n",
      "469/469 [==============================] - 50s 106ms/step - loss: 0.0254 - accuracy: 0.9922 - val_loss: 0.0276 - val_accuracy: 0.9910\n",
      "Epoch 6/10\n",
      "469/469 [==============================] - 51s 109ms/step - loss: 0.0218 - accuracy: 0.9930 - val_loss: 0.0285 - val_accuracy: 0.9909\n",
      "Epoch 7/10\n",
      "469/469 [==============================] - 50s 106ms/step - loss: 0.0188 - accuracy: 0.9941 - val_loss: 0.0359 - val_accuracy: 0.9895\n",
      "Epoch 8/10\n",
      "469/469 [==============================] - 50s 106ms/step - loss: 0.0150 - accuracy: 0.9950 - val_loss: 0.0274 - val_accuracy: 0.9921\n",
      "Epoch 9/10\n",
      "469/469 [==============================] - 51s 108ms/step - loss: 0.0123 - accuracy: 0.9960 - val_loss: 0.0332 - val_accuracy: 0.9893\n",
      "Epoch 10/10\n",
      "469/469 [==============================] - 50s 107ms/step - loss: 0.0125 - accuracy: 0.9959 - val_loss: 0.0289 - val_accuracy: 0.9920\n"
     ]
    }
   ],
   "source": [
    "history = Conv_model.fit(train_images, train_labels, validation_data = (test_images, test_labels), epochs=10, batch_size=128)"
   ]
  },
  {
   "cell_type": "code",
   "execution_count": null,
   "id": "d7aa0267",
   "metadata": {
    "id": "d7aa0267"
   },
   "outputs": [],
   "source": []
  },
  {
   "cell_type": "code",
   "execution_count": null,
   "id": "e0d34121",
   "metadata": {
    "id": "e0d34121"
   },
   "outputs": [],
   "source": []
  },
  {
   "cell_type": "code",
   "execution_count": null,
   "id": "b1e683d9",
   "metadata": {
    "id": "b1e683d9"
   },
   "outputs": [],
   "source": [
    "# Важность пулинга\n",
    "\n",
    "Conv_model = models.Sequential()\n",
    "\n",
    "Conv_model.add(layers.Conv2D(32, (3,3), activation = 'relu', input_shape = (28, 28,1)))\n",
    "Conv_model.add(layers.Conv2D(64, (3,3), activation = 'relu'))\n",
    "Conv_model.add(layers.Conv2D(64, (3,3), activation = 'relu'))\n",
    "#Conv_model.summary()"
   ]
  },
  {
   "cell_type": "code",
   "execution_count": null,
   "id": "2779ba19",
   "metadata": {
    "id": "2779ba19"
   },
   "outputs": [],
   "source": []
  },
  {
   "cell_type": "code",
   "execution_count": null,
   "id": "71bb0172",
   "metadata": {
    "id": "71bb0172"
   },
   "outputs": [],
   "source": []
  }
 ],
 "metadata": {
  "colab": {
   "collapsed_sections": [],
   "name": "CW28.ipynb",
   "provenance": []
  },
  "kernelspec": {
   "display_name": "Python 3 (ipykernel)",
   "language": "python",
   "name": "python3"
  },
  "language_info": {
   "codemirror_mode": {
    "name": "ipython",
    "version": 3
   },
   "file_extension": ".py",
   "mimetype": "text/x-python",
   "name": "python",
   "nbconvert_exporter": "python",
   "pygments_lexer": "ipython3",
   "version": "3.9.7"
  }
 },
 "nbformat": 4,
 "nbformat_minor": 5
}
