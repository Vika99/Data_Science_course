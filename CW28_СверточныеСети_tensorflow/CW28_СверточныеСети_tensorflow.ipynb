{
 "cells": [
  {
   "cell_type": "code",
   "execution_count": null,
   "id": "42f6cc1d",
   "metadata": {},
   "outputs": [],
   "source": []
  },
  {
   "cell_type": "code",
   "execution_count": null,
   "id": "ae7f55b1",
   "metadata": {},
   "outputs": [],
   "source": []
  },
  {
   "cell_type": "code",
   "execution_count": 2,
   "id": "7f7c0530",
   "metadata": {},
   "outputs": [],
   "source": [
    "from tensorflow.keras.datasets import mnist\n",
    "(train_images, train_labels), (test_images, test_labels) = mnist.load_data()"
   ]
  },
  {
   "cell_type": "code",
   "execution_count": 3,
   "id": "a755a8fc",
   "metadata": {},
   "outputs": [],
   "source": [
    "# подготовка данных\n",
    "train_images = train_images.reshape((60000, 28 * 28))\n",
    "\n",
    "train_images = train_images.astype(\"float32\") / 255\n",
    "\n",
    "test_images = test_images.reshape((10000, 28 * 28))\n",
    "\n",
    "test_images = test_images.astype(\"float32\") / 255"
   ]
  },
  {
   "cell_type": "code",
   "execution_count": 4,
   "id": "66f93528",
   "metadata": {},
   "outputs": [
    {
     "data": {
      "text/plain": [
       "array([5, 0, 4, ..., 5, 6, 8], dtype=uint8)"
      ]
     },
     "execution_count": 4,
     "metadata": {},
     "output_type": "execute_result"
    }
   ],
   "source": [
    "train_labels"
   ]
  },
  {
   "cell_type": "code",
   "execution_count": 5,
   "id": "8bca2403",
   "metadata": {},
   "outputs": [],
   "source": [
    "# Архитектура и модель\n",
    "import tensorflow as tf\n",
    "from tensorflow.keras import models\n",
    "from tensorflow.keras import layers\n",
    "\n",
    "model = models.Sequential()\n",
    "\n",
    "model.add(layers.Dense(256, activation=\"relu\", input_shape = (28*28,)))\n",
    "\n",
    "model.add(layers.Dense(10, activation=\"softmax\"))\n",
    "\n",
    "# Компиляция модели\n",
    "model.compile(optimizer=tf.keras.optimizers.Adam(1e-3),\n",
    "              loss=\"sparse_categorical_crossentropy\",\n",
    "              metrics=[\"accuracy\"])"
   ]
  },
  {
   "cell_type": "code",
   "execution_count": 6,
   "id": "df4583f1",
   "metadata": {},
   "outputs": [
    {
     "name": "stdout",
     "output_type": "stream",
     "text": [
      "Epoch 1/10\n",
      "469/469 [==============================] - 5s 9ms/step - loss: 0.3116 - accuracy: 0.9131 - val_loss: 0.1619 - val_accuracy: 0.9535\n",
      "Epoch 2/10\n",
      "469/469 [==============================] - 4s 7ms/step - loss: 0.1357 - accuracy: 0.9614 - val_loss: 0.1088 - val_accuracy: 0.9679\n",
      "Epoch 3/10\n",
      "469/469 [==============================] - 3s 7ms/step - loss: 0.0931 - accuracy: 0.9733 - val_loss: 0.0890 - val_accuracy: 0.9728\n",
      "Epoch 4/10\n",
      "469/469 [==============================] - 3s 7ms/step - loss: 0.0692 - accuracy: 0.9804 - val_loss: 0.0811 - val_accuracy: 0.9756\n",
      "Epoch 5/10\n",
      "469/469 [==============================] - 4s 8ms/step - loss: 0.0539 - accuracy: 0.9840 - val_loss: 0.0777 - val_accuracy: 0.9751\n",
      "Epoch 6/10\n",
      "469/469 [==============================] - 3s 7ms/step - loss: 0.0418 - accuracy: 0.9880 - val_loss: 0.0741 - val_accuracy: 0.9760\n",
      "Epoch 7/10\n",
      "469/469 [==============================] - 3s 7ms/step - loss: 0.0325 - accuracy: 0.9911 - val_loss: 0.0673 - val_accuracy: 0.9796\n",
      "Epoch 8/10\n",
      "469/469 [==============================] - 3s 7ms/step - loss: 0.0266 - accuracy: 0.9931 - val_loss: 0.0649 - val_accuracy: 0.9791\n",
      "Epoch 9/10\n",
      "469/469 [==============================] - 3s 7ms/step - loss: 0.0206 - accuracy: 0.9949 - val_loss: 0.0659 - val_accuracy: 0.9796\n",
      "Epoch 10/10\n",
      "469/469 [==============================] - 4s 8ms/step - loss: 0.0171 - accuracy: 0.9959 - val_loss: 0.0729 - val_accuracy: 0.9781\n"
     ]
    }
   ],
   "source": [
    "history = model.fit(train_images, train_labels, validation_data = (test_images, test_labels), \n",
    "                    epochs=10, batch_size=128)"
   ]
  },
  {
   "cell_type": "code",
   "execution_count": null,
   "id": "c94a8266",
   "metadata": {},
   "outputs": [],
   "source": [
    "# Добавить слои"
   ]
  },
  {
   "cell_type": "markdown",
   "id": "fac0f607",
   "metadata": {},
   "source": [
    "# Сверточные сети"
   ]
  },
  {
   "cell_type": "code",
   "execution_count": null,
   "id": "6b1af4fd",
   "metadata": {},
   "outputs": [],
   "source": []
  },
  {
   "cell_type": "code",
   "execution_count": 7,
   "id": "0ba8e792",
   "metadata": {},
   "outputs": [],
   "source": [
    "import numpy as np"
   ]
  },
  {
   "cell_type": "code",
   "execution_count": 8,
   "id": "b64279a6",
   "metadata": {},
   "outputs": [],
   "source": [
    "(train_images, train_labels), (test_images, test_labels) = mnist.load_data()"
   ]
  },
  {
   "cell_type": "code",
   "execution_count": 9,
   "id": "323614c6",
   "metadata": {},
   "outputs": [
    {
     "data": {
      "text/plain": [
       "(60000, 28, 28)"
      ]
     },
     "execution_count": 9,
     "metadata": {},
     "output_type": "execute_result"
    }
   ],
   "source": [
    "train_images.shape"
   ]
  },
  {
   "cell_type": "code",
   "execution_count": 13,
   "id": "a34700e1",
   "metadata": {},
   "outputs": [],
   "source": []
  },
  {
   "cell_type": "code",
   "execution_count": 7,
   "id": "7eb38eaa",
   "metadata": {
    "scrolled": true
   },
   "outputs": [
    {
     "data": {
      "text/plain": [
       "(60000, 28, 28)"
      ]
     },
     "execution_count": 7,
     "metadata": {},
     "output_type": "execute_result"
    }
   ],
   "source": [
    "train_images.shape"
   ]
  },
  {
   "cell_type": "code",
   "execution_count": 10,
   "id": "2881988a",
   "metadata": {},
   "outputs": [],
   "source": [
    "train_images = np.expand_dims(train_images, axis = 3)\n",
    "# добавляем ось, у нас нулевая ось это 60000 изображений,первая-28 высота, вторая 28 - ширина, и третья ось - \n",
    "# и третья ось - это ось каналов., четвертый канал - толщина\n",
    "# и станет четырехмерный"
   ]
  },
  {
   "cell_type": "code",
   "execution_count": 11,
   "id": "6bd148b9",
   "metadata": {},
   "outputs": [
    {
     "data": {
      "text/plain": [
       "(60000, 28, 28, 1)"
      ]
     },
     "execution_count": 11,
     "metadata": {},
     "output_type": "execute_result"
    }
   ],
   "source": [
    "train_images.shape"
   ]
  },
  {
   "cell_type": "code",
   "execution_count": null,
   "id": "437dc832",
   "metadata": {},
   "outputs": [],
   "source": []
  },
  {
   "cell_type": "code",
   "execution_count": null,
   "id": "cc9f6422",
   "metadata": {},
   "outputs": [],
   "source": []
  },
  {
   "cell_type": "code",
   "execution_count": 12,
   "id": "3f6ab9ad",
   "metadata": {},
   "outputs": [],
   "source": [
    "test_images = np.expand_dims(test_images, axis = 3)"
   ]
  },
  {
   "cell_type": "code",
   "execution_count": 13,
   "id": "5ecd8432",
   "metadata": {},
   "outputs": [],
   "source": [
    "\n",
    "train_images = train_images.astype(\"float32\") / 255\n",
    "\n",
    "test_images = test_images.astype(\"float32\") / 255"
   ]
  },
  {
   "cell_type": "code",
   "execution_count": null,
   "id": "649497ce",
   "metadata": {},
   "outputs": [],
   "source": []
  },
  {
   "cell_type": "code",
   "execution_count": null,
   "id": "a72d5d2f",
   "metadata": {},
   "outputs": [],
   "source": []
  },
  {
   "cell_type": "code",
   "execution_count": null,
   "id": "8412ada2",
   "metadata": {},
   "outputs": [],
   "source": []
  },
  {
   "cell_type": "code",
   "execution_count": 14,
   "id": "f8ea5d35",
   "metadata": {},
   "outputs": [],
   "source": [
    "Conv_model = models.Sequential()\n",
    "\n",
    "Conv_model.add(layers.Conv2D(32, (3,3), activation = 'relu', padding = 'same', input_shape = (28, 28,1)))\n",
    "Conv_model.add(layers.MaxPooling2D(2,2))\n",
    "Conv_model.add(layers.Conv2D(64, (3,3), activation = 'relu'))\n",
    "Conv_model.add(layers.MaxPooling2D(2,2))\n",
    "Conv_model.add(layers.Conv2D(64, (3,3), activation = 'relu'))\n"
   ]
  },
  {
   "cell_type": "code",
   "execution_count": 15,
   "id": "10cf31a2",
   "metadata": {},
   "outputs": [
    {
     "name": "stdout",
     "output_type": "stream",
     "text": [
      "Model: \"sequential_1\"\n",
      "_________________________________________________________________\n",
      " Layer (type)                Output Shape              Param #   \n",
      "=================================================================\n",
      " conv2d (Conv2D)             (None, 26, 26, 32)        320       \n",
      "                                                                 \n",
      " max_pooling2d (MaxPooling2D  (None, 13, 13, 32)       0         \n",
      " )                                                               \n",
      "                                                                 \n",
      " conv2d_1 (Conv2D)           (None, 11, 11, 64)        18496     \n",
      "                                                                 \n",
      " max_pooling2d_1 (MaxPooling  (None, 5, 5, 64)         0         \n",
      " 2D)                                                             \n",
      "                                                                 \n",
      " conv2d_2 (Conv2D)           (None, 3, 3, 64)          36928     \n",
      "                                                                 \n",
      "=================================================================\n",
      "Total params: 55,744\n",
      "Trainable params: 55,744\n",
      "Non-trainable params: 0\n",
      "_________________________________________________________________\n"
     ]
    }
   ],
   "source": [
    "Conv_model.summary()"
   ]
  },
  {
   "cell_type": "code",
   "execution_count": 16,
   "id": "1f1d599e",
   "metadata": {},
   "outputs": [],
   "source": [
    "\n",
    "Conv_model.add(layers.Flatten())\n",
    "Conv_model.add(layers.Dense(64, activation = 'relu'))\n",
    "Conv_model.add(layers.Dense(10, activation = 'softmax'))"
   ]
  },
  {
   "cell_type": "code",
   "execution_count": null,
   "id": "92e0af4d",
   "metadata": {},
   "outputs": [],
   "source": []
  },
  {
   "cell_type": "code",
   "execution_count": 17,
   "id": "f8fd9ca1",
   "metadata": {},
   "outputs": [],
   "source": [
    "# Компиляция модели\n",
    "Conv_model.compile(optimizer=\"adam\",\n",
    "              loss=\"sparse_categorical_crossentropy\",\n",
    "              metrics=[\"accuracy\"])"
   ]
  },
  {
   "cell_type": "code",
   "execution_count": 18,
   "id": "b6207046",
   "metadata": {},
   "outputs": [
    {
     "name": "stdout",
     "output_type": "stream",
     "text": [
      "Epoch 1/10\n",
      "469/469 [==============================] - 63s 133ms/step - loss: 0.2467 - accuracy: 0.9251 - val_loss: 0.0564 - val_accuracy: 0.9814\n",
      "Epoch 2/10\n",
      "469/469 [==============================] - 64s 136ms/step - loss: 0.0604 - accuracy: 0.9808 - val_loss: 0.0457 - val_accuracy: 0.9848\n",
      "Epoch 3/10\n",
      "469/469 [==============================] - 72s 153ms/step - loss: 0.0425 - accuracy: 0.9867 - val_loss: 0.0330 - val_accuracy: 0.9886\n",
      "Epoch 4/10\n",
      "469/469 [==============================] - 74s 158ms/step - loss: 0.0329 - accuracy: 0.9895 - val_loss: 0.0449 - val_accuracy: 0.9861\n",
      "Epoch 5/10\n",
      "469/469 [==============================] - 72s 153ms/step - loss: 0.0269 - accuracy: 0.9915 - val_loss: 0.0277 - val_accuracy: 0.9910\n",
      "Epoch 6/10\n",
      "469/469 [==============================] - 72s 153ms/step - loss: 0.0226 - accuracy: 0.9926 - val_loss: 0.0274 - val_accuracy: 0.9909\n",
      "Epoch 7/10\n",
      "469/469 [==============================] - 74s 158ms/step - loss: 0.0192 - accuracy: 0.9935 - val_loss: 0.0271 - val_accuracy: 0.9902\n",
      "Epoch 8/10\n",
      "469/469 [==============================] - 73s 155ms/step - loss: 0.0167 - accuracy: 0.9946 - val_loss: 0.0277 - val_accuracy: 0.9908\n",
      "Epoch 9/10\n",
      "469/469 [==============================] - 71s 151ms/step - loss: 0.0143 - accuracy: 0.9954 - val_loss: 0.0249 - val_accuracy: 0.9924\n",
      "Epoch 10/10\n",
      "469/469 [==============================] - 71s 152ms/step - loss: 0.0119 - accuracy: 0.9963 - val_loss: 0.0324 - val_accuracy: 0.9902\n"
     ]
    }
   ],
   "source": [
    "history = Conv_model.fit(train_images, train_labels, validation_data = (test_images, test_labels), epochs=10, batch_size=128)"
   ]
  },
  {
   "cell_type": "code",
   "execution_count": null,
   "id": "d7aa0267",
   "metadata": {},
   "outputs": [],
   "source": []
  },
  {
   "cell_type": "code",
   "execution_count": null,
   "id": "e0d34121",
   "metadata": {},
   "outputs": [],
   "source": []
  },
  {
   "cell_type": "code",
   "execution_count": 35,
   "id": "b1e683d9",
   "metadata": {},
   "outputs": [],
   "source": [
    "# Важность пулинга\n",
    "\n",
    "Conv_model = models.Sequential()\n",
    "\n",
    "Conv_model.add(layers.Conv2D(32, (3,3), activation = 'relu', input_shape = (28, 28,1)))\n",
    "Conv_model.add(layers.Conv2D(64, (3,3), activation = 'relu'))\n",
    "Conv_model.add(layers.Conv2D(64, (3,3), activation = 'relu'))\n",
    "#Conv_model.summary()"
   ]
  },
  {
   "cell_type": "code",
   "execution_count": null,
   "id": "2779ba19",
   "metadata": {},
   "outputs": [],
   "source": []
  },
  {
   "cell_type": "code",
   "execution_count": null,
   "id": "71bb0172",
   "metadata": {},
   "outputs": [],
   "source": []
  }
 ],
 "metadata": {
  "kernelspec": {
   "display_name": "Python 3 (ipykernel)",
   "language": "python",
   "name": "python3"
  },
  "language_info": {
   "codemirror_mode": {
    "name": "ipython",
    "version": 3
   },
   "file_extension": ".py",
   "mimetype": "text/x-python",
   "name": "python",
   "nbconvert_exporter": "python",
   "pygments_lexer": "ipython3",
   "version": "3.9.7"
  }
 },
 "nbformat": 4,
 "nbformat_minor": 5
}
