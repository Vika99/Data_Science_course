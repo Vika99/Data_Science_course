{
  "nbformat": 4,
  "nbformat_minor": 0,
  "metadata": {
    "colab": {
      "provenance": [],
      "collapsed_sections": []
    },
    "kernelspec": {
      "name": "python3",
      "display_name": "Python 3"
    },
    "language_info": {
      "name": "python"
    }
  },
  "cells": [
    {
      "cell_type": "code",
      "execution_count": null,
      "metadata": {
        "id": "BOEavn0mdK_2"
      },
      "outputs": [],
      "source": [
        "from google.colab import drive\n",
        "from google.colab import files\n"
      ]
    },
    {
      "cell_type": "code",
      "source": [
        "!mkdir GD\n",
        "#ОЗНАЧАЕТ СОЗДАТЬ ДИРЕКТОРИЮ НА ГУГЛ ДИСК"
      ],
      "metadata": {
        "id": "wk1GVpcde2FA",
        "colab": {
          "base_uri": "https://localhost:8080/"
        },
        "outputId": "cfd63e85-e6cc-4db4-f028-7bf27cf9a1bf"
      },
      "execution_count": null,
      "outputs": [
        {
          "output_type": "stream",
          "name": "stdout",
          "text": [
            "mkdir: cannot create directory ‘GD’: File exists\n"
          ]
        }
      ]
    },
    {
      "cell_type": "code",
      "source": [
        "!ls"
      ],
      "metadata": {
        "colab": {
          "base_uri": "https://localhost:8080/"
        },
        "id": "s1GYo0DJfCJL",
        "outputId": "374f4263-3e55-42c0-fcc4-4e066e550a31"
      },
      "execution_count": null,
      "outputs": [
        {
          "output_type": "stream",
          "name": "stdout",
          "text": [
            "flights.csv  for_test.csv  GD  sample_data\n"
          ]
        }
      ]
    },
    {
      "cell_type": "code",
      "source": [
        "drive.mount('/GD',force_remount=True)\n",
        "# монтирует гугл диск наш"
      ],
      "metadata": {
        "colab": {
          "base_uri": "https://localhost:8080/"
        },
        "id": "8H-emAF7flHc",
        "outputId": "9de7b29d-18e5-4938-9888-86a75a9ae72e"
      },
      "execution_count": null,
      "outputs": [
        {
          "output_type": "stream",
          "name": "stdout",
          "text": [
            "Mounted at /GD\n"
          ]
        }
      ]
    },
    {
      "cell_type": "code",
      "source": [
        "!cp -r /GD/'My Drive'/flights.csv  .\n",
        "# означает с папки GD есть файл flights.csvи мы егооткрываем сейчас."
      ],
      "metadata": {
        "id": "70wu-j_7f3WI"
      },
      "execution_count": null,
      "outputs": []
    },
    {
      "cell_type": "code",
      "source": [
        "!cp -r /GD/'My Drive'/for_test.csv  ."
      ],
      "metadata": {
        "id": "KTispoB3f3de"
      },
      "execution_count": null,
      "outputs": []
    },
    {
      "cell_type": "code",
      "source": [
        "! ls"
      ],
      "metadata": {
        "colab": {
          "base_uri": "https://localhost:8080/"
        },
        "id": "CWpA1sQmhJtr",
        "outputId": "11226903-3eb8-47ea-c276-7f0f9c70f79a"
      },
      "execution_count": null,
      "outputs": [
        {
          "output_type": "stream",
          "name": "stdout",
          "text": [
            "flights.csv  for_test.csv  GD  sample_data\n"
          ]
        }
      ]
    },
    {
      "cell_type": "code",
      "source": [
        "import pandas as pd"
      ],
      "metadata": {
        "id": "M7D9K61ohJ3U"
      },
      "execution_count": null,
      "outputs": []
    },
    {
      "cell_type": "code",
      "source": [
        "from sklearn.preprocessing import OrdinalEncoder, OneHotEncoder"
      ],
      "metadata": {
        "id": "4rQMz69kiX9b"
      },
      "execution_count": null,
      "outputs": []
    },
    {
      "cell_type": "code",
      "source": [
        "df = pd.read_csv('flights.csv',index_col = 'id')"
      ],
      "metadata": {
        "id": "K7l7fGSniYCq"
      },
      "execution_count": null,
      "outputs": []
    },
    {
      "cell_type": "code",
      "source": [
        "Y = df.Delay\n",
        "X = df.drop(['Delay'], axis = 1)"
      ],
      "metadata": {
        "id": "F3hjPv86i_YG"
      },
      "execution_count": null,
      "outputs": []
    },
    {
      "cell_type": "code",
      "source": [
        "air_enc = OneHotEncoder(sparse = False)\n",
        "from_enc = OneHotEncoder(sparse = False)\n",
        "to_enc = OneHotEncoder(sparse = False)\n",
        "# где sparse = False будет возвращать не разряженную матрицу, а прямо массив\n",
        "#"
      ],
      "metadata": {
        "id": "Pu0doAUBjUQa"
      },
      "execution_count": null,
      "outputs": []
    },
    {
      "cell_type": "code",
      "source": [
        "airlines = air_enc.fit_transform(X.Airline.values.reshape(-1,1))\n",
        "fr = from_enc.fit_transform(X.AirportFrom.values.reshape(-1,1))\n",
        "to = to_enc.fit_transform(X.AirportTo.values.reshape(-1,1))\n",
        "#где reshape(-1,1) нужен чтобы добавить еще одно измерение, мы передаем матрицу с одним столбцом, это требование библиотеки sklearn для кодирования\n",
        "# и получаем 3 разряженные матрицы!"
      ],
      "metadata": {
        "id": "c352Z4abj3f9"
      },
      "execution_count": null,
      "outputs": []
    },
    {
      "cell_type": "code",
      "source": [
        "airlines.shape"
      ],
      "metadata": {
        "colab": {
          "base_uri": "https://localhost:8080/"
        },
        "id": "djPV9tnmjUc2",
        "outputId": "d4ac57f0-bd01-4228-f663-bb346ad52bfe"
      },
      "execution_count": null,
      "outputs": [
        {
          "output_type": "execute_result",
          "data": {
            "text/plain": [
              "(431506, 18)"
            ]
          },
          "metadata": {},
          "execution_count": 14
        }
      ]
    },
    {
      "cell_type": "code",
      "source": [
        "to.shape"
      ],
      "metadata": {
        "colab": {
          "base_uri": "https://localhost:8080/"
        },
        "id": "wVtVzU0tun7Z",
        "outputId": "25bd7ff4-5aab-4638-c24c-affb5d87fb86"
      },
      "execution_count": null,
      "outputs": [
        {
          "output_type": "execute_result",
          "data": {
            "text/plain": [
              "(431506, 293)"
            ]
          },
          "metadata": {},
          "execution_count": 15
        }
      ]
    },
    {
      "cell_type": "code",
      "source": [
        "fr.shape"
      ],
      "metadata": {
        "colab": {
          "base_uri": "https://localhost:8080/"
        },
        "id": "DhFMtV37uzEE",
        "outputId": "616c0ba2-a321-40f0-a72c-258954a86d02"
      },
      "execution_count": null,
      "outputs": [
        {
          "output_type": "execute_result",
          "data": {
            "text/plain": [
              "(431506, 293)"
            ]
          },
          "metadata": {},
          "execution_count": 16
        }
      ]
    },
    {
      "cell_type": "code",
      "source": [
        "# создадим фрэймы с преобразованными данными и сохраним индексы, например у нас аргументы: airlines - это матрица из 0 и 1,\n",
        "# columns=air_enc.get_feature_names_out() - выдай все имена, которые создал в виде списка\n",
        "# index = X.index передаем индекс исходного массива\n",
        "air_df = pd.DataFrame(airlines, columns=air_enc.get_feature_names_out(), index = X.index)\n",
        "fr_df = pd.DataFrame(fr, columns=from_enc.get_feature_names_out(), index = X.index)\n",
        "to_df = pd.DataFrame(to, columns=to_enc.get_feature_names_out(), index = X.index)"
      ],
      "metadata": {
        "id": "ewSETzA5uzH1"
      },
      "execution_count": null,
      "outputs": []
    },
    {
      "cell_type": "code",
      "source": [
        "to_df"
      ],
      "metadata": {
        "colab": {
          "base_uri": "https://localhost:8080/",
          "height": 519
        },
        "id": "sqVggam1xnNL",
        "outputId": "2295e83e-ea6b-426b-aa35-de072b2bf7a5"
      },
      "execution_count": null,
      "outputs": [
        {
          "output_type": "execute_result",
          "data": {
            "text/plain": [
              "        x0_ABE  x0_ABI  x0_ABQ  x0_ABR  x0_ABY  x0_ACT  x0_ACV  x0_ACY  \\\n",
              "id                                                                       \n",
              "298844     0.0     0.0     0.0     0.0     0.0     0.0     0.0     0.0   \n",
              "453222     0.0     0.0     0.0     0.0     0.0     0.0     0.0     0.0   \n",
              "270658     0.0     0.0     0.0     0.0     0.0     0.0     0.0     0.0   \n",
              "372442     0.0     0.0     0.0     0.0     0.0     0.0     0.0     0.0   \n",
              "328276     0.0     0.0     0.0     0.0     0.0     0.0     0.0     0.0   \n",
              "...        ...     ...     ...     ...     ...     ...     ...     ...   \n",
              "4898       0.0     0.0     0.0     0.0     0.0     0.0     0.0     0.0   \n",
              "90145      0.0     0.0     0.0     0.0     0.0     0.0     0.0     0.0   \n",
              "33644      0.0     0.0     0.0     0.0     0.0     0.0     0.0     0.0   \n",
              "376878     0.0     0.0     0.0     0.0     0.0     0.0     0.0     0.0   \n",
              "164167     0.0     0.0     0.0     0.0     0.0     0.0     0.0     0.0   \n",
              "\n",
              "        x0_ADK  x0_ADQ  ...  x0_TXK  x0_TYR  x0_TYS  x0_UTM  x0_VLD  x0_VPS  \\\n",
              "id                      ...                                                   \n",
              "298844     0.0     0.0  ...     0.0     0.0     0.0     0.0     0.0     0.0   \n",
              "453222     0.0     0.0  ...     0.0     0.0     0.0     0.0     0.0     0.0   \n",
              "270658     0.0     0.0  ...     0.0     0.0     0.0     0.0     0.0     0.0   \n",
              "372442     0.0     0.0  ...     0.0     0.0     0.0     0.0     0.0     0.0   \n",
              "328276     0.0     0.0  ...     0.0     0.0     0.0     0.0     0.0     0.0   \n",
              "...        ...     ...  ...     ...     ...     ...     ...     ...     ...   \n",
              "4898       0.0     0.0  ...     0.0     0.0     0.0     0.0     0.0     0.0   \n",
              "90145      0.0     0.0  ...     0.0     0.0     0.0     0.0     0.0     0.0   \n",
              "33644      0.0     0.0  ...     0.0     0.0     0.0     0.0     0.0     0.0   \n",
              "376878     0.0     0.0  ...     0.0     0.0     0.0     0.0     0.0     0.0   \n",
              "164167     0.0     0.0  ...     0.0     0.0     0.0     0.0     0.0     0.0   \n",
              "\n",
              "        x0_WRG  x0_XNA  x0_YAK  x0_YUM  \n",
              "id                                      \n",
              "298844     0.0     0.0     0.0     0.0  \n",
              "453222     0.0     0.0     0.0     0.0  \n",
              "270658     0.0     0.0     0.0     0.0  \n",
              "372442     0.0     0.0     0.0     0.0  \n",
              "328276     0.0     0.0     0.0     0.0  \n",
              "...        ...     ...     ...     ...  \n",
              "4898       0.0     0.0     0.0     0.0  \n",
              "90145      0.0     0.0     0.0     0.0  \n",
              "33644      0.0     0.0     0.0     0.0  \n",
              "376878     0.0     0.0     0.0     0.0  \n",
              "164167     0.0     0.0     0.0     0.0  \n",
              "\n",
              "[431506 rows x 293 columns]"
            ],
            "text/html": [
              "\n",
              "  <div id=\"df-649e9d3a-69a8-4f12-8847-97d521aecd8f\">\n",
              "    <div class=\"colab-df-container\">\n",
              "      <div>\n",
              "<style scoped>\n",
              "    .dataframe tbody tr th:only-of-type {\n",
              "        vertical-align: middle;\n",
              "    }\n",
              "\n",
              "    .dataframe tbody tr th {\n",
              "        vertical-align: top;\n",
              "    }\n",
              "\n",
              "    .dataframe thead th {\n",
              "        text-align: right;\n",
              "    }\n",
              "</style>\n",
              "<table border=\"1\" class=\"dataframe\">\n",
              "  <thead>\n",
              "    <tr style=\"text-align: right;\">\n",
              "      <th></th>\n",
              "      <th>x0_ABE</th>\n",
              "      <th>x0_ABI</th>\n",
              "      <th>x0_ABQ</th>\n",
              "      <th>x0_ABR</th>\n",
              "      <th>x0_ABY</th>\n",
              "      <th>x0_ACT</th>\n",
              "      <th>x0_ACV</th>\n",
              "      <th>x0_ACY</th>\n",
              "      <th>x0_ADK</th>\n",
              "      <th>x0_ADQ</th>\n",
              "      <th>...</th>\n",
              "      <th>x0_TXK</th>\n",
              "      <th>x0_TYR</th>\n",
              "      <th>x0_TYS</th>\n",
              "      <th>x0_UTM</th>\n",
              "      <th>x0_VLD</th>\n",
              "      <th>x0_VPS</th>\n",
              "      <th>x0_WRG</th>\n",
              "      <th>x0_XNA</th>\n",
              "      <th>x0_YAK</th>\n",
              "      <th>x0_YUM</th>\n",
              "    </tr>\n",
              "    <tr>\n",
              "      <th>id</th>\n",
              "      <th></th>\n",
              "      <th></th>\n",
              "      <th></th>\n",
              "      <th></th>\n",
              "      <th></th>\n",
              "      <th></th>\n",
              "      <th></th>\n",
              "      <th></th>\n",
              "      <th></th>\n",
              "      <th></th>\n",
              "      <th></th>\n",
              "      <th></th>\n",
              "      <th></th>\n",
              "      <th></th>\n",
              "      <th></th>\n",
              "      <th></th>\n",
              "      <th></th>\n",
              "      <th></th>\n",
              "      <th></th>\n",
              "      <th></th>\n",
              "      <th></th>\n",
              "    </tr>\n",
              "  </thead>\n",
              "  <tbody>\n",
              "    <tr>\n",
              "      <th>298844</th>\n",
              "      <td>0.0</td>\n",
              "      <td>0.0</td>\n",
              "      <td>0.0</td>\n",
              "      <td>0.0</td>\n",
              "      <td>0.0</td>\n",
              "      <td>0.0</td>\n",
              "      <td>0.0</td>\n",
              "      <td>0.0</td>\n",
              "      <td>0.0</td>\n",
              "      <td>0.0</td>\n",
              "      <td>...</td>\n",
              "      <td>0.0</td>\n",
              "      <td>0.0</td>\n",
              "      <td>0.0</td>\n",
              "      <td>0.0</td>\n",
              "      <td>0.0</td>\n",
              "      <td>0.0</td>\n",
              "      <td>0.0</td>\n",
              "      <td>0.0</td>\n",
              "      <td>0.0</td>\n",
              "      <td>0.0</td>\n",
              "    </tr>\n",
              "    <tr>\n",
              "      <th>453222</th>\n",
              "      <td>0.0</td>\n",
              "      <td>0.0</td>\n",
              "      <td>0.0</td>\n",
              "      <td>0.0</td>\n",
              "      <td>0.0</td>\n",
              "      <td>0.0</td>\n",
              "      <td>0.0</td>\n",
              "      <td>0.0</td>\n",
              "      <td>0.0</td>\n",
              "      <td>0.0</td>\n",
              "      <td>...</td>\n",
              "      <td>0.0</td>\n",
              "      <td>0.0</td>\n",
              "      <td>0.0</td>\n",
              "      <td>0.0</td>\n",
              "      <td>0.0</td>\n",
              "      <td>0.0</td>\n",
              "      <td>0.0</td>\n",
              "      <td>0.0</td>\n",
              "      <td>0.0</td>\n",
              "      <td>0.0</td>\n",
              "    </tr>\n",
              "    <tr>\n",
              "      <th>270658</th>\n",
              "      <td>0.0</td>\n",
              "      <td>0.0</td>\n",
              "      <td>0.0</td>\n",
              "      <td>0.0</td>\n",
              "      <td>0.0</td>\n",
              "      <td>0.0</td>\n",
              "      <td>0.0</td>\n",
              "      <td>0.0</td>\n",
              "      <td>0.0</td>\n",
              "      <td>0.0</td>\n",
              "      <td>...</td>\n",
              "      <td>0.0</td>\n",
              "      <td>0.0</td>\n",
              "      <td>0.0</td>\n",
              "      <td>0.0</td>\n",
              "      <td>0.0</td>\n",
              "      <td>0.0</td>\n",
              "      <td>0.0</td>\n",
              "      <td>0.0</td>\n",
              "      <td>0.0</td>\n",
              "      <td>0.0</td>\n",
              "    </tr>\n",
              "    <tr>\n",
              "      <th>372442</th>\n",
              "      <td>0.0</td>\n",
              "      <td>0.0</td>\n",
              "      <td>0.0</td>\n",
              "      <td>0.0</td>\n",
              "      <td>0.0</td>\n",
              "      <td>0.0</td>\n",
              "      <td>0.0</td>\n",
              "      <td>0.0</td>\n",
              "      <td>0.0</td>\n",
              "      <td>0.0</td>\n",
              "      <td>...</td>\n",
              "      <td>0.0</td>\n",
              "      <td>0.0</td>\n",
              "      <td>0.0</td>\n",
              "      <td>0.0</td>\n",
              "      <td>0.0</td>\n",
              "      <td>0.0</td>\n",
              "      <td>0.0</td>\n",
              "      <td>0.0</td>\n",
              "      <td>0.0</td>\n",
              "      <td>0.0</td>\n",
              "    </tr>\n",
              "    <tr>\n",
              "      <th>328276</th>\n",
              "      <td>0.0</td>\n",
              "      <td>0.0</td>\n",
              "      <td>0.0</td>\n",
              "      <td>0.0</td>\n",
              "      <td>0.0</td>\n",
              "      <td>0.0</td>\n",
              "      <td>0.0</td>\n",
              "      <td>0.0</td>\n",
              "      <td>0.0</td>\n",
              "      <td>0.0</td>\n",
              "      <td>...</td>\n",
              "      <td>0.0</td>\n",
              "      <td>0.0</td>\n",
              "      <td>0.0</td>\n",
              "      <td>0.0</td>\n",
              "      <td>0.0</td>\n",
              "      <td>0.0</td>\n",
              "      <td>0.0</td>\n",
              "      <td>0.0</td>\n",
              "      <td>0.0</td>\n",
              "      <td>0.0</td>\n",
              "    </tr>\n",
              "    <tr>\n",
              "      <th>...</th>\n",
              "      <td>...</td>\n",
              "      <td>...</td>\n",
              "      <td>...</td>\n",
              "      <td>...</td>\n",
              "      <td>...</td>\n",
              "      <td>...</td>\n",
              "      <td>...</td>\n",
              "      <td>...</td>\n",
              "      <td>...</td>\n",
              "      <td>...</td>\n",
              "      <td>...</td>\n",
              "      <td>...</td>\n",
              "      <td>...</td>\n",
              "      <td>...</td>\n",
              "      <td>...</td>\n",
              "      <td>...</td>\n",
              "      <td>...</td>\n",
              "      <td>...</td>\n",
              "      <td>...</td>\n",
              "      <td>...</td>\n",
              "      <td>...</td>\n",
              "    </tr>\n",
              "    <tr>\n",
              "      <th>4898</th>\n",
              "      <td>0.0</td>\n",
              "      <td>0.0</td>\n",
              "      <td>0.0</td>\n",
              "      <td>0.0</td>\n",
              "      <td>0.0</td>\n",
              "      <td>0.0</td>\n",
              "      <td>0.0</td>\n",
              "      <td>0.0</td>\n",
              "      <td>0.0</td>\n",
              "      <td>0.0</td>\n",
              "      <td>...</td>\n",
              "      <td>0.0</td>\n",
              "      <td>0.0</td>\n",
              "      <td>0.0</td>\n",
              "      <td>0.0</td>\n",
              "      <td>0.0</td>\n",
              "      <td>0.0</td>\n",
              "      <td>0.0</td>\n",
              "      <td>0.0</td>\n",
              "      <td>0.0</td>\n",
              "      <td>0.0</td>\n",
              "    </tr>\n",
              "    <tr>\n",
              "      <th>90145</th>\n",
              "      <td>0.0</td>\n",
              "      <td>0.0</td>\n",
              "      <td>0.0</td>\n",
              "      <td>0.0</td>\n",
              "      <td>0.0</td>\n",
              "      <td>0.0</td>\n",
              "      <td>0.0</td>\n",
              "      <td>0.0</td>\n",
              "      <td>0.0</td>\n",
              "      <td>0.0</td>\n",
              "      <td>...</td>\n",
              "      <td>0.0</td>\n",
              "      <td>0.0</td>\n",
              "      <td>0.0</td>\n",
              "      <td>0.0</td>\n",
              "      <td>0.0</td>\n",
              "      <td>0.0</td>\n",
              "      <td>0.0</td>\n",
              "      <td>0.0</td>\n",
              "      <td>0.0</td>\n",
              "      <td>0.0</td>\n",
              "    </tr>\n",
              "    <tr>\n",
              "      <th>33644</th>\n",
              "      <td>0.0</td>\n",
              "      <td>0.0</td>\n",
              "      <td>0.0</td>\n",
              "      <td>0.0</td>\n",
              "      <td>0.0</td>\n",
              "      <td>0.0</td>\n",
              "      <td>0.0</td>\n",
              "      <td>0.0</td>\n",
              "      <td>0.0</td>\n",
              "      <td>0.0</td>\n",
              "      <td>...</td>\n",
              "      <td>0.0</td>\n",
              "      <td>0.0</td>\n",
              "      <td>0.0</td>\n",
              "      <td>0.0</td>\n",
              "      <td>0.0</td>\n",
              "      <td>0.0</td>\n",
              "      <td>0.0</td>\n",
              "      <td>0.0</td>\n",
              "      <td>0.0</td>\n",
              "      <td>0.0</td>\n",
              "    </tr>\n",
              "    <tr>\n",
              "      <th>376878</th>\n",
              "      <td>0.0</td>\n",
              "      <td>0.0</td>\n",
              "      <td>0.0</td>\n",
              "      <td>0.0</td>\n",
              "      <td>0.0</td>\n",
              "      <td>0.0</td>\n",
              "      <td>0.0</td>\n",
              "      <td>0.0</td>\n",
              "      <td>0.0</td>\n",
              "      <td>0.0</td>\n",
              "      <td>...</td>\n",
              "      <td>0.0</td>\n",
              "      <td>0.0</td>\n",
              "      <td>0.0</td>\n",
              "      <td>0.0</td>\n",
              "      <td>0.0</td>\n",
              "      <td>0.0</td>\n",
              "      <td>0.0</td>\n",
              "      <td>0.0</td>\n",
              "      <td>0.0</td>\n",
              "      <td>0.0</td>\n",
              "    </tr>\n",
              "    <tr>\n",
              "      <th>164167</th>\n",
              "      <td>0.0</td>\n",
              "      <td>0.0</td>\n",
              "      <td>0.0</td>\n",
              "      <td>0.0</td>\n",
              "      <td>0.0</td>\n",
              "      <td>0.0</td>\n",
              "      <td>0.0</td>\n",
              "      <td>0.0</td>\n",
              "      <td>0.0</td>\n",
              "      <td>0.0</td>\n",
              "      <td>...</td>\n",
              "      <td>0.0</td>\n",
              "      <td>0.0</td>\n",
              "      <td>0.0</td>\n",
              "      <td>0.0</td>\n",
              "      <td>0.0</td>\n",
              "      <td>0.0</td>\n",
              "      <td>0.0</td>\n",
              "      <td>0.0</td>\n",
              "      <td>0.0</td>\n",
              "      <td>0.0</td>\n",
              "    </tr>\n",
              "  </tbody>\n",
              "</table>\n",
              "<p>431506 rows × 293 columns</p>\n",
              "</div>\n",
              "      <button class=\"colab-df-convert\" onclick=\"convertToInteractive('df-649e9d3a-69a8-4f12-8847-97d521aecd8f')\"\n",
              "              title=\"Convert this dataframe to an interactive table.\"\n",
              "              style=\"display:none;\">\n",
              "        \n",
              "  <svg xmlns=\"http://www.w3.org/2000/svg\" height=\"24px\"viewBox=\"0 0 24 24\"\n",
              "       width=\"24px\">\n",
              "    <path d=\"M0 0h24v24H0V0z\" fill=\"none\"/>\n",
              "    <path d=\"M18.56 5.44l.94 2.06.94-2.06 2.06-.94-2.06-.94-.94-2.06-.94 2.06-2.06.94zm-11 1L8.5 8.5l.94-2.06 2.06-.94-2.06-.94L8.5 2.5l-.94 2.06-2.06.94zm10 10l.94 2.06.94-2.06 2.06-.94-2.06-.94-.94-2.06-.94 2.06-2.06.94z\"/><path d=\"M17.41 7.96l-1.37-1.37c-.4-.4-.92-.59-1.43-.59-.52 0-1.04.2-1.43.59L10.3 9.45l-7.72 7.72c-.78.78-.78 2.05 0 2.83L4 21.41c.39.39.9.59 1.41.59.51 0 1.02-.2 1.41-.59l7.78-7.78 2.81-2.81c.8-.78.8-2.07 0-2.86zM5.41 20L4 18.59l7.72-7.72 1.47 1.35L5.41 20z\"/>\n",
              "  </svg>\n",
              "      </button>\n",
              "      \n",
              "  <style>\n",
              "    .colab-df-container {\n",
              "      display:flex;\n",
              "      flex-wrap:wrap;\n",
              "      gap: 12px;\n",
              "    }\n",
              "\n",
              "    .colab-df-convert {\n",
              "      background-color: #E8F0FE;\n",
              "      border: none;\n",
              "      border-radius: 50%;\n",
              "      cursor: pointer;\n",
              "      display: none;\n",
              "      fill: #1967D2;\n",
              "      height: 32px;\n",
              "      padding: 0 0 0 0;\n",
              "      width: 32px;\n",
              "    }\n",
              "\n",
              "    .colab-df-convert:hover {\n",
              "      background-color: #E2EBFA;\n",
              "      box-shadow: 0px 1px 2px rgba(60, 64, 67, 0.3), 0px 1px 3px 1px rgba(60, 64, 67, 0.15);\n",
              "      fill: #174EA6;\n",
              "    }\n",
              "\n",
              "    [theme=dark] .colab-df-convert {\n",
              "      background-color: #3B4455;\n",
              "      fill: #D2E3FC;\n",
              "    }\n",
              "\n",
              "    [theme=dark] .colab-df-convert:hover {\n",
              "      background-color: #434B5C;\n",
              "      box-shadow: 0px 1px 3px 1px rgba(0, 0, 0, 0.15);\n",
              "      filter: drop-shadow(0px 1px 2px rgba(0, 0, 0, 0.3));\n",
              "      fill: #FFFFFF;\n",
              "    }\n",
              "  </style>\n",
              "\n",
              "      <script>\n",
              "        const buttonEl =\n",
              "          document.querySelector('#df-649e9d3a-69a8-4f12-8847-97d521aecd8f button.colab-df-convert');\n",
              "        buttonEl.style.display =\n",
              "          google.colab.kernel.accessAllowed ? 'block' : 'none';\n",
              "\n",
              "        async function convertToInteractive(key) {\n",
              "          const element = document.querySelector('#df-649e9d3a-69a8-4f12-8847-97d521aecd8f');\n",
              "          const dataTable =\n",
              "            await google.colab.kernel.invokeFunction('convertToInteractive',\n",
              "                                                     [key], {});\n",
              "          if (!dataTable) return;\n",
              "\n",
              "          const docLinkHtml = 'Like what you see? Visit the ' +\n",
              "            '<a target=\"_blank\" href=https://colab.research.google.com/notebooks/data_table.ipynb>data table notebook</a>'\n",
              "            + ' to learn more about interactive tables.';\n",
              "          element.innerHTML = '';\n",
              "          dataTable['output_type'] = 'display_data';\n",
              "          await google.colab.output.renderOutput(dataTable, element);\n",
              "          const docLink = document.createElement('div');\n",
              "          docLink.innerHTML = docLinkHtml;\n",
              "          element.appendChild(docLink);\n",
              "        }\n",
              "      </script>\n",
              "    </div>\n",
              "  </div>\n",
              "  "
            ]
          },
          "metadata": {},
          "execution_count": 21
        }
      ]
    },
    {
      "cell_type": "code",
      "source": [
        "X = pd.concat([X, air_df, fr_df, to_df], axis=1)\n"
      ],
      "metadata": {
        "id": "IWlc-BXsxtJ2"
      },
      "execution_count": null,
      "outputs": []
    },
    {
      "cell_type": "code",
      "source": [
        "X"
      ],
      "metadata": {
        "colab": {
          "base_uri": "https://localhost:8080/",
          "height": 519
        },
        "id": "4YxJPwcAxtM-",
        "outputId": "8766413c-cd79-447e-a0a3-e965e1ca0eac"
      },
      "execution_count": null,
      "outputs": [
        {
          "output_type": "execute_result",
          "data": {
            "text/plain": [
              "       Airline  Flight AirportFrom AirportTo  DayOfWeek  Time  Length  x0_9E  \\\n",
              "id                                                                             \n",
              "298844      OO    6438         SFO       GEG          6   535     121    0.0   \n",
              "453222      AA    1486         LAS       DFW          1   495     160    0.0   \n",
              "270658      EV    5003         ATL       CHA          4   967      51    0.0   \n",
              "372442      OO    7010         DEN       MTJ          3   689      56    0.0   \n",
              "328276      EV    5180         DTW       ALB          7  1305      96    0.0   \n",
              "...        ...     ...         ...       ...        ...   ...     ...    ...   \n",
              "4898        AA    2287         TUL       DFW          3   595      75    0.0   \n",
              "90145       DL    2493         RIC       ATL          1   586     114    0.0   \n",
              "33644       DL    1159         ATL       SAT          4  1170     163    0.0   \n",
              "376878      CO    1877         PHL       IAH          3   920     230    0.0   \n",
              "164167      WN      42         PHX       HOU          5   750     150    0.0   \n",
              "\n",
              "        x0_AA  x0_AS  ...  x0_TXK  x0_TYR  x0_TYS  x0_UTM  x0_VLD  x0_VPS  \\\n",
              "id                    ...                                                   \n",
              "298844    0.0    0.0  ...     0.0     0.0     0.0     0.0     0.0     0.0   \n",
              "453222    1.0    0.0  ...     0.0     0.0     0.0     0.0     0.0     0.0   \n",
              "270658    0.0    0.0  ...     0.0     0.0     0.0     0.0     0.0     0.0   \n",
              "372442    0.0    0.0  ...     0.0     0.0     0.0     0.0     0.0     0.0   \n",
              "328276    0.0    0.0  ...     0.0     0.0     0.0     0.0     0.0     0.0   \n",
              "...       ...    ...  ...     ...     ...     ...     ...     ...     ...   \n",
              "4898      1.0    0.0  ...     0.0     0.0     0.0     0.0     0.0     0.0   \n",
              "90145     0.0    0.0  ...     0.0     0.0     0.0     0.0     0.0     0.0   \n",
              "33644     0.0    0.0  ...     0.0     0.0     0.0     0.0     0.0     0.0   \n",
              "376878    0.0    0.0  ...     0.0     0.0     0.0     0.0     0.0     0.0   \n",
              "164167    0.0    0.0  ...     0.0     0.0     0.0     0.0     0.0     0.0   \n",
              "\n",
              "        x0_WRG  x0_XNA  x0_YAK  x0_YUM  \n",
              "id                                      \n",
              "298844     0.0     0.0     0.0     0.0  \n",
              "453222     0.0     0.0     0.0     0.0  \n",
              "270658     0.0     0.0     0.0     0.0  \n",
              "372442     0.0     0.0     0.0     0.0  \n",
              "328276     0.0     0.0     0.0     0.0  \n",
              "...        ...     ...     ...     ...  \n",
              "4898       0.0     0.0     0.0     0.0  \n",
              "90145      0.0     0.0     0.0     0.0  \n",
              "33644      0.0     0.0     0.0     0.0  \n",
              "376878     0.0     0.0     0.0     0.0  \n",
              "164167     0.0     0.0     0.0     0.0  \n",
              "\n",
              "[431506 rows x 611 columns]"
            ],
            "text/html": [
              "\n",
              "  <div id=\"df-eb000e69-6afb-4c7c-b850-ebd724258d85\">\n",
              "    <div class=\"colab-df-container\">\n",
              "      <div>\n",
              "<style scoped>\n",
              "    .dataframe tbody tr th:only-of-type {\n",
              "        vertical-align: middle;\n",
              "    }\n",
              "\n",
              "    .dataframe tbody tr th {\n",
              "        vertical-align: top;\n",
              "    }\n",
              "\n",
              "    .dataframe thead th {\n",
              "        text-align: right;\n",
              "    }\n",
              "</style>\n",
              "<table border=\"1\" class=\"dataframe\">\n",
              "  <thead>\n",
              "    <tr style=\"text-align: right;\">\n",
              "      <th></th>\n",
              "      <th>Airline</th>\n",
              "      <th>Flight</th>\n",
              "      <th>AirportFrom</th>\n",
              "      <th>AirportTo</th>\n",
              "      <th>DayOfWeek</th>\n",
              "      <th>Time</th>\n",
              "      <th>Length</th>\n",
              "      <th>x0_9E</th>\n",
              "      <th>x0_AA</th>\n",
              "      <th>x0_AS</th>\n",
              "      <th>...</th>\n",
              "      <th>x0_TXK</th>\n",
              "      <th>x0_TYR</th>\n",
              "      <th>x0_TYS</th>\n",
              "      <th>x0_UTM</th>\n",
              "      <th>x0_VLD</th>\n",
              "      <th>x0_VPS</th>\n",
              "      <th>x0_WRG</th>\n",
              "      <th>x0_XNA</th>\n",
              "      <th>x0_YAK</th>\n",
              "      <th>x0_YUM</th>\n",
              "    </tr>\n",
              "    <tr>\n",
              "      <th>id</th>\n",
              "      <th></th>\n",
              "      <th></th>\n",
              "      <th></th>\n",
              "      <th></th>\n",
              "      <th></th>\n",
              "      <th></th>\n",
              "      <th></th>\n",
              "      <th></th>\n",
              "      <th></th>\n",
              "      <th></th>\n",
              "      <th></th>\n",
              "      <th></th>\n",
              "      <th></th>\n",
              "      <th></th>\n",
              "      <th></th>\n",
              "      <th></th>\n",
              "      <th></th>\n",
              "      <th></th>\n",
              "      <th></th>\n",
              "      <th></th>\n",
              "      <th></th>\n",
              "    </tr>\n",
              "  </thead>\n",
              "  <tbody>\n",
              "    <tr>\n",
              "      <th>298844</th>\n",
              "      <td>OO</td>\n",
              "      <td>6438</td>\n",
              "      <td>SFO</td>\n",
              "      <td>GEG</td>\n",
              "      <td>6</td>\n",
              "      <td>535</td>\n",
              "      <td>121</td>\n",
              "      <td>0.0</td>\n",
              "      <td>0.0</td>\n",
              "      <td>0.0</td>\n",
              "      <td>...</td>\n",
              "      <td>0.0</td>\n",
              "      <td>0.0</td>\n",
              "      <td>0.0</td>\n",
              "      <td>0.0</td>\n",
              "      <td>0.0</td>\n",
              "      <td>0.0</td>\n",
              "      <td>0.0</td>\n",
              "      <td>0.0</td>\n",
              "      <td>0.0</td>\n",
              "      <td>0.0</td>\n",
              "    </tr>\n",
              "    <tr>\n",
              "      <th>453222</th>\n",
              "      <td>AA</td>\n",
              "      <td>1486</td>\n",
              "      <td>LAS</td>\n",
              "      <td>DFW</td>\n",
              "      <td>1</td>\n",
              "      <td>495</td>\n",
              "      <td>160</td>\n",
              "      <td>0.0</td>\n",
              "      <td>1.0</td>\n",
              "      <td>0.0</td>\n",
              "      <td>...</td>\n",
              "      <td>0.0</td>\n",
              "      <td>0.0</td>\n",
              "      <td>0.0</td>\n",
              "      <td>0.0</td>\n",
              "      <td>0.0</td>\n",
              "      <td>0.0</td>\n",
              "      <td>0.0</td>\n",
              "      <td>0.0</td>\n",
              "      <td>0.0</td>\n",
              "      <td>0.0</td>\n",
              "    </tr>\n",
              "    <tr>\n",
              "      <th>270658</th>\n",
              "      <td>EV</td>\n",
              "      <td>5003</td>\n",
              "      <td>ATL</td>\n",
              "      <td>CHA</td>\n",
              "      <td>4</td>\n",
              "      <td>967</td>\n",
              "      <td>51</td>\n",
              "      <td>0.0</td>\n",
              "      <td>0.0</td>\n",
              "      <td>0.0</td>\n",
              "      <td>...</td>\n",
              "      <td>0.0</td>\n",
              "      <td>0.0</td>\n",
              "      <td>0.0</td>\n",
              "      <td>0.0</td>\n",
              "      <td>0.0</td>\n",
              "      <td>0.0</td>\n",
              "      <td>0.0</td>\n",
              "      <td>0.0</td>\n",
              "      <td>0.0</td>\n",
              "      <td>0.0</td>\n",
              "    </tr>\n",
              "    <tr>\n",
              "      <th>372442</th>\n",
              "      <td>OO</td>\n",
              "      <td>7010</td>\n",
              "      <td>DEN</td>\n",
              "      <td>MTJ</td>\n",
              "      <td>3</td>\n",
              "      <td>689</td>\n",
              "      <td>56</td>\n",
              "      <td>0.0</td>\n",
              "      <td>0.0</td>\n",
              "      <td>0.0</td>\n",
              "      <td>...</td>\n",
              "      <td>0.0</td>\n",
              "      <td>0.0</td>\n",
              "      <td>0.0</td>\n",
              "      <td>0.0</td>\n",
              "      <td>0.0</td>\n",
              "      <td>0.0</td>\n",
              "      <td>0.0</td>\n",
              "      <td>0.0</td>\n",
              "      <td>0.0</td>\n",
              "      <td>0.0</td>\n",
              "    </tr>\n",
              "    <tr>\n",
              "      <th>328276</th>\n",
              "      <td>EV</td>\n",
              "      <td>5180</td>\n",
              "      <td>DTW</td>\n",
              "      <td>ALB</td>\n",
              "      <td>7</td>\n",
              "      <td>1305</td>\n",
              "      <td>96</td>\n",
              "      <td>0.0</td>\n",
              "      <td>0.0</td>\n",
              "      <td>0.0</td>\n",
              "      <td>...</td>\n",
              "      <td>0.0</td>\n",
              "      <td>0.0</td>\n",
              "      <td>0.0</td>\n",
              "      <td>0.0</td>\n",
              "      <td>0.0</td>\n",
              "      <td>0.0</td>\n",
              "      <td>0.0</td>\n",
              "      <td>0.0</td>\n",
              "      <td>0.0</td>\n",
              "      <td>0.0</td>\n",
              "    </tr>\n",
              "    <tr>\n",
              "      <th>...</th>\n",
              "      <td>...</td>\n",
              "      <td>...</td>\n",
              "      <td>...</td>\n",
              "      <td>...</td>\n",
              "      <td>...</td>\n",
              "      <td>...</td>\n",
              "      <td>...</td>\n",
              "      <td>...</td>\n",
              "      <td>...</td>\n",
              "      <td>...</td>\n",
              "      <td>...</td>\n",
              "      <td>...</td>\n",
              "      <td>...</td>\n",
              "      <td>...</td>\n",
              "      <td>...</td>\n",
              "      <td>...</td>\n",
              "      <td>...</td>\n",
              "      <td>...</td>\n",
              "      <td>...</td>\n",
              "      <td>...</td>\n",
              "      <td>...</td>\n",
              "    </tr>\n",
              "    <tr>\n",
              "      <th>4898</th>\n",
              "      <td>AA</td>\n",
              "      <td>2287</td>\n",
              "      <td>TUL</td>\n",
              "      <td>DFW</td>\n",
              "      <td>3</td>\n",
              "      <td>595</td>\n",
              "      <td>75</td>\n",
              "      <td>0.0</td>\n",
              "      <td>1.0</td>\n",
              "      <td>0.0</td>\n",
              "      <td>...</td>\n",
              "      <td>0.0</td>\n",
              "      <td>0.0</td>\n",
              "      <td>0.0</td>\n",
              "      <td>0.0</td>\n",
              "      <td>0.0</td>\n",
              "      <td>0.0</td>\n",
              "      <td>0.0</td>\n",
              "      <td>0.0</td>\n",
              "      <td>0.0</td>\n",
              "      <td>0.0</td>\n",
              "    </tr>\n",
              "    <tr>\n",
              "      <th>90145</th>\n",
              "      <td>DL</td>\n",
              "      <td>2493</td>\n",
              "      <td>RIC</td>\n",
              "      <td>ATL</td>\n",
              "      <td>1</td>\n",
              "      <td>586</td>\n",
              "      <td>114</td>\n",
              "      <td>0.0</td>\n",
              "      <td>0.0</td>\n",
              "      <td>0.0</td>\n",
              "      <td>...</td>\n",
              "      <td>0.0</td>\n",
              "      <td>0.0</td>\n",
              "      <td>0.0</td>\n",
              "      <td>0.0</td>\n",
              "      <td>0.0</td>\n",
              "      <td>0.0</td>\n",
              "      <td>0.0</td>\n",
              "      <td>0.0</td>\n",
              "      <td>0.0</td>\n",
              "      <td>0.0</td>\n",
              "    </tr>\n",
              "    <tr>\n",
              "      <th>33644</th>\n",
              "      <td>DL</td>\n",
              "      <td>1159</td>\n",
              "      <td>ATL</td>\n",
              "      <td>SAT</td>\n",
              "      <td>4</td>\n",
              "      <td>1170</td>\n",
              "      <td>163</td>\n",
              "      <td>0.0</td>\n",
              "      <td>0.0</td>\n",
              "      <td>0.0</td>\n",
              "      <td>...</td>\n",
              "      <td>0.0</td>\n",
              "      <td>0.0</td>\n",
              "      <td>0.0</td>\n",
              "      <td>0.0</td>\n",
              "      <td>0.0</td>\n",
              "      <td>0.0</td>\n",
              "      <td>0.0</td>\n",
              "      <td>0.0</td>\n",
              "      <td>0.0</td>\n",
              "      <td>0.0</td>\n",
              "    </tr>\n",
              "    <tr>\n",
              "      <th>376878</th>\n",
              "      <td>CO</td>\n",
              "      <td>1877</td>\n",
              "      <td>PHL</td>\n",
              "      <td>IAH</td>\n",
              "      <td>3</td>\n",
              "      <td>920</td>\n",
              "      <td>230</td>\n",
              "      <td>0.0</td>\n",
              "      <td>0.0</td>\n",
              "      <td>0.0</td>\n",
              "      <td>...</td>\n",
              "      <td>0.0</td>\n",
              "      <td>0.0</td>\n",
              "      <td>0.0</td>\n",
              "      <td>0.0</td>\n",
              "      <td>0.0</td>\n",
              "      <td>0.0</td>\n",
              "      <td>0.0</td>\n",
              "      <td>0.0</td>\n",
              "      <td>0.0</td>\n",
              "      <td>0.0</td>\n",
              "    </tr>\n",
              "    <tr>\n",
              "      <th>164167</th>\n",
              "      <td>WN</td>\n",
              "      <td>42</td>\n",
              "      <td>PHX</td>\n",
              "      <td>HOU</td>\n",
              "      <td>5</td>\n",
              "      <td>750</td>\n",
              "      <td>150</td>\n",
              "      <td>0.0</td>\n",
              "      <td>0.0</td>\n",
              "      <td>0.0</td>\n",
              "      <td>...</td>\n",
              "      <td>0.0</td>\n",
              "      <td>0.0</td>\n",
              "      <td>0.0</td>\n",
              "      <td>0.0</td>\n",
              "      <td>0.0</td>\n",
              "      <td>0.0</td>\n",
              "      <td>0.0</td>\n",
              "      <td>0.0</td>\n",
              "      <td>0.0</td>\n",
              "      <td>0.0</td>\n",
              "    </tr>\n",
              "  </tbody>\n",
              "</table>\n",
              "<p>431506 rows × 611 columns</p>\n",
              "</div>\n",
              "      <button class=\"colab-df-convert\" onclick=\"convertToInteractive('df-eb000e69-6afb-4c7c-b850-ebd724258d85')\"\n",
              "              title=\"Convert this dataframe to an interactive table.\"\n",
              "              style=\"display:none;\">\n",
              "        \n",
              "  <svg xmlns=\"http://www.w3.org/2000/svg\" height=\"24px\"viewBox=\"0 0 24 24\"\n",
              "       width=\"24px\">\n",
              "    <path d=\"M0 0h24v24H0V0z\" fill=\"none\"/>\n",
              "    <path d=\"M18.56 5.44l.94 2.06.94-2.06 2.06-.94-2.06-.94-.94-2.06-.94 2.06-2.06.94zm-11 1L8.5 8.5l.94-2.06 2.06-.94-2.06-.94L8.5 2.5l-.94 2.06-2.06.94zm10 10l.94 2.06.94-2.06 2.06-.94-2.06-.94-.94-2.06-.94 2.06-2.06.94z\"/><path d=\"M17.41 7.96l-1.37-1.37c-.4-.4-.92-.59-1.43-.59-.52 0-1.04.2-1.43.59L10.3 9.45l-7.72 7.72c-.78.78-.78 2.05 0 2.83L4 21.41c.39.39.9.59 1.41.59.51 0 1.02-.2 1.41-.59l7.78-7.78 2.81-2.81c.8-.78.8-2.07 0-2.86zM5.41 20L4 18.59l7.72-7.72 1.47 1.35L5.41 20z\"/>\n",
              "  </svg>\n",
              "      </button>\n",
              "      \n",
              "  <style>\n",
              "    .colab-df-container {\n",
              "      display:flex;\n",
              "      flex-wrap:wrap;\n",
              "      gap: 12px;\n",
              "    }\n",
              "\n",
              "    .colab-df-convert {\n",
              "      background-color: #E8F0FE;\n",
              "      border: none;\n",
              "      border-radius: 50%;\n",
              "      cursor: pointer;\n",
              "      display: none;\n",
              "      fill: #1967D2;\n",
              "      height: 32px;\n",
              "      padding: 0 0 0 0;\n",
              "      width: 32px;\n",
              "    }\n",
              "\n",
              "    .colab-df-convert:hover {\n",
              "      background-color: #E2EBFA;\n",
              "      box-shadow: 0px 1px 2px rgba(60, 64, 67, 0.3), 0px 1px 3px 1px rgba(60, 64, 67, 0.15);\n",
              "      fill: #174EA6;\n",
              "    }\n",
              "\n",
              "    [theme=dark] .colab-df-convert {\n",
              "      background-color: #3B4455;\n",
              "      fill: #D2E3FC;\n",
              "    }\n",
              "\n",
              "    [theme=dark] .colab-df-convert:hover {\n",
              "      background-color: #434B5C;\n",
              "      box-shadow: 0px 1px 3px 1px rgba(0, 0, 0, 0.15);\n",
              "      filter: drop-shadow(0px 1px 2px rgba(0, 0, 0, 0.3));\n",
              "      fill: #FFFFFF;\n",
              "    }\n",
              "  </style>\n",
              "\n",
              "      <script>\n",
              "        const buttonEl =\n",
              "          document.querySelector('#df-eb000e69-6afb-4c7c-b850-ebd724258d85 button.colab-df-convert');\n",
              "        buttonEl.style.display =\n",
              "          google.colab.kernel.accessAllowed ? 'block' : 'none';\n",
              "\n",
              "        async function convertToInteractive(key) {\n",
              "          const element = document.querySelector('#df-eb000e69-6afb-4c7c-b850-ebd724258d85');\n",
              "          const dataTable =\n",
              "            await google.colab.kernel.invokeFunction('convertToInteractive',\n",
              "                                                     [key], {});\n",
              "          if (!dataTable) return;\n",
              "\n",
              "          const docLinkHtml = 'Like what you see? Visit the ' +\n",
              "            '<a target=\"_blank\" href=https://colab.research.google.com/notebooks/data_table.ipynb>data table notebook</a>'\n",
              "            + ' to learn more about interactive tables.';\n",
              "          element.innerHTML = '';\n",
              "          dataTable['output_type'] = 'display_data';\n",
              "          await google.colab.output.renderOutput(dataTable, element);\n",
              "          const docLink = document.createElement('div');\n",
              "          docLink.innerHTML = docLinkHtml;\n",
              "          element.appendChild(docLink);\n",
              "        }\n",
              "      </script>\n",
              "    </div>\n",
              "  </div>\n",
              "  "
            ]
          },
          "metadata": {},
          "execution_count": 23
        }
      ]
    },
    {
      "cell_type": "code",
      "source": [
        "X = X.drop(['Airline','AirportFrom','AirportTo'], axis = 1)"
      ],
      "metadata": {
        "id": "N975vKChyLkT"
      },
      "execution_count": null,
      "outputs": []
    },
    {
      "cell_type": "code",
      "source": [
        "from sklearn.preprocessing import StandardScaler\n",
        "from sklearn.model_selection import train_test_split"
      ],
      "metadata": {
        "id": "cMwgQgdtyLnv"
      },
      "execution_count": null,
      "outputs": []
    },
    {
      "cell_type": "code",
      "source": [
        "sc = StandardScaler()\n",
        "X = sc.fit_transform (X)"
      ],
      "metadata": {
        "id": "N2x0z2WTyWCN"
      },
      "execution_count": null,
      "outputs": []
    },
    {
      "cell_type": "code",
      "source": [
        "X_train, X_test, Y_train, Y_test = train_test_split(X, Y, test_size = 0.25)"
      ],
      "metadata": {
        "id": "htsu3aVDyWGG"
      },
      "execution_count": null,
      "outputs": []
    },
    {
      "cell_type": "code",
      "source": [
        "import tensorflow as tf\n",
        "from tensorflow.keras import models\n",
        "from tensorflow.keras import layers"
      ],
      "metadata": {
        "id": "f-rC2AxxzfYM"
      },
      "execution_count": null,
      "outputs": []
    },
    {
      "cell_type": "code",
      "source": [
        "model = models.Sequential()\n",
        "\n",
        "model.add(layers.Dense(512, activation=\"elu\"))\n",
        "model.add(layers.Dense(512, activation=\"elu\"))\n",
        "model.add(layers.Dense(1, activation=\"sigmoid\"))"
      ],
      "metadata": {
        "id": "F7ZpWuLxzfg-"
      },
      "execution_count": null,
      "outputs": []
    },
    {
      "cell_type": "code",
      "source": [
        "model.compile(optimizer=tf.keras.optimizers.RMSprop(0.0001),\n",
        "              loss=\"binary_crossentropy\",\n",
        "              metrics=[\"accuracy\"])"
      ],
      "metadata": {
        "id": "TzycSHgU2Jzi"
      },
      "execution_count": null,
      "outputs": []
    },
    {
      "cell_type": "code",
      "source": [
        "history = model.fit(X_train, Y_train, validation_data = (X_test, Y_test), epochs=10, batch_size=1024)"
      ],
      "metadata": {
        "colab": {
          "base_uri": "https://localhost:8080/"
        },
        "id": "A9pYJ6v22J3B",
        "outputId": "aabe2f85-a873-4e7d-b4f6-96e385096465"
      },
      "execution_count": null,
      "outputs": [
        {
          "output_type": "stream",
          "name": "stdout",
          "text": [
            "Epoch 1/10\n",
            "317/317 [==============================] - 34s 105ms/step - loss: 0.6401 - accuracy: 0.6370 - val_loss: 0.6330 - val_accuracy: 0.6431\n",
            "Epoch 2/10\n",
            "317/317 [==============================] - 29s 92ms/step - loss: 0.6303 - accuracy: 0.6452 - val_loss: 0.6309 - val_accuracy: 0.6433\n",
            "Epoch 3/10\n",
            "317/317 [==============================] - 27s 84ms/step - loss: 0.6281 - accuracy: 0.6472 - val_loss: 0.6278 - val_accuracy: 0.6480\n",
            "Epoch 4/10\n",
            "317/317 [==============================] - 32s 103ms/step - loss: 0.6259 - accuracy: 0.6500 - val_loss: 0.6281 - val_accuracy: 0.6449\n",
            "Epoch 5/10\n",
            "317/317 [==============================] - 29s 92ms/step - loss: 0.6240 - accuracy: 0.6504 - val_loss: 0.6275 - val_accuracy: 0.6465\n",
            "Epoch 6/10\n",
            "317/317 [==============================] - 27s 86ms/step - loss: 0.6222 - accuracy: 0.6531 - val_loss: 0.6239 - val_accuracy: 0.6507\n",
            "Epoch 7/10\n",
            "317/317 [==============================] - 32s 100ms/step - loss: 0.6201 - accuracy: 0.6558 - val_loss: 0.6226 - val_accuracy: 0.6536\n",
            "Epoch 8/10\n",
            "317/317 [==============================] - 30s 94ms/step - loss: 0.6185 - accuracy: 0.6565 - val_loss: 0.6222 - val_accuracy: 0.6548\n",
            "Epoch 9/10\n",
            "317/317 [==============================] - 28s 89ms/step - loss: 0.6166 - accuracy: 0.6587 - val_loss: 0.6219 - val_accuracy: 0.6540\n",
            "Epoch 10/10\n",
            "317/317 [==============================] - 30s 95ms/step - loss: 0.6152 - accuracy: 0.6599 - val_loss: 0.6217 - val_accuracy: 0.6518\n"
          ]
        }
      ]
    },
    {
      "cell_type": "code",
      "source": [],
      "metadata": {
        "id": "V8o1Qjtu2ZL5"
      },
      "execution_count": null,
      "outputs": []
    },
    {
      "cell_type": "code",
      "source": [
        "# СОБИРАЕМ ОБРАБОТЧИК ТЕСТОВЫХ ДАННЫХ"
      ],
      "metadata": {
        "id": "9zw_Fr9e2ZQL"
      },
      "execution_count": null,
      "outputs": []
    },
    {
      "cell_type": "code",
      "source": [
        "def to_many_zeros(X_):\n",
        "    airlines = air_enc.transform(X_.Airline.values.reshape(-1,1))\n",
        "    fr = from_enc.transform(X_.AirportFrom.values.reshape(-1,1))\n",
        "    to = to_enc.transform(X_.AirportTo.values.reshape(-1,1))\n",
        "\n",
        "    print (fr.shape)\n",
        "    \n",
        "    air_df = pd.DataFrame(airlines, columns=air_enc.get_feature_names_out(), index = X_.index)\n",
        "    fr_df = pd.DataFrame(fr, columns=from_enc.get_feature_names_out(), index = X_.index)\n",
        "    to_df = pd.DataFrame(to, columns=to_enc.get_feature_names_out(), index = X_.index)\n",
        "\n",
        "    X_ = pd.concat([X_, air_df, fr_df, to_df], axis=1)\n",
        "    \n",
        "    return X_.drop(['Airline','AirportFrom','AirportTo'], axis = 1)"
      ],
      "metadata": {
        "id": "wy0GMafD2ZVi"
      },
      "execution_count": null,
      "outputs": []
    },
    {
      "cell_type": "code",
      "source": [
        "#ЧИТАЕМ ТЕСТОВЫЕ ДАННЫЕ\n",
        "tef = pd.read_csv('for_test.csv', index_col = 'id')\n"
      ],
      "metadata": {
        "id": "JTohWjpW2Zgn"
      },
      "execution_count": null,
      "outputs": []
    },
    {
      "cell_type": "code",
      "source": [
        "# ПРЕОБРАЗУЕМ ТЕСТОВЫЕ ДАННЫЕ \n",
        "X_test = to_many_zeros(tef)"
      ],
      "metadata": {
        "colab": {
          "base_uri": "https://localhost:8080/"
        },
        "id": "28eXto_Ozfma",
        "outputId": "dcc777ea-2a69-4093-f8b0-980426d9b205"
      },
      "execution_count": null,
      "outputs": [
        {
          "output_type": "stream",
          "name": "stdout",
          "text": [
            "(107877, 293)\n"
          ]
        }
      ]
    },
    {
      "cell_type": "code",
      "source": [
        "X_test.shape"
      ],
      "metadata": {
        "colab": {
          "base_uri": "https://localhost:8080/"
        },
        "id": "NwiydEwk5Owh",
        "outputId": "555551a6-d261-49a7-ef2f-d3c7cf995234"
      },
      "execution_count": null,
      "outputs": [
        {
          "output_type": "execute_result",
          "data": {
            "text/plain": [
              "(107877, 608)"
            ]
          },
          "metadata": {},
          "execution_count": 30
        }
      ]
    },
    {
      "cell_type": "code",
      "source": [
        "preds = (model.predict(X_test) > 0.5).astype(int)"
      ],
      "metadata": {
        "id": "KEyXyZRA5O0O"
      },
      "execution_count": null,
      "outputs": []
    },
    {
      "cell_type": "code",
      "source": [
        "preds"
      ],
      "metadata": {
        "colab": {
          "base_uri": "https://localhost:8080/"
        },
        "id": "ES4kr8Dh5dBg",
        "outputId": "6a7ee44f-31aa-4843-f093-3486f346d44c"
      },
      "execution_count": null,
      "outputs": [
        {
          "output_type": "execute_result",
          "data": {
            "text/plain": [
              "array([[0],\n",
              "       [0],\n",
              "       [0],\n",
              "       ...,\n",
              "       [1],\n",
              "       [1],\n",
              "       [0]])"
            ]
          },
          "metadata": {},
          "execution_count": 32
        }
      ]
    },
    {
      "cell_type": "code",
      "source": [
        "#оформляем результат\n",
        "answer = pd.DataFrame(preds, index = X_test.index, columns = ['ans'])"
      ],
      "metadata": {
        "id": "U9wDwQY35dGH"
      },
      "execution_count": null,
      "outputs": []
    },
    {
      "cell_type": "code",
      "source": [
        "answer"
      ],
      "metadata": {
        "colab": {
          "base_uri": "https://localhost:8080/",
          "height": 455
        },
        "id": "2GkCNJNJ5qep",
        "outputId": "f6dbc92f-e26a-4758-ab4c-f24d720f72db"
      },
      "execution_count": null,
      "outputs": [
        {
          "output_type": "execute_result",
          "data": {
            "text/plain": [
              "        ans\n",
              "id         \n",
              "26832     0\n",
              "150199    0\n",
              "347019    0\n",
              "92565     0\n",
              "398703    0\n",
              "...     ...\n",
              "62380     0\n",
              "247768    0\n",
              "474175    1\n",
              "372742    1\n",
              "256130    0\n",
              "\n",
              "[107877 rows x 1 columns]"
            ],
            "text/html": [
              "\n",
              "  <div id=\"df-b6d6ee4c-b46b-49f2-8c7d-b0ad4fdc9789\">\n",
              "    <div class=\"colab-df-container\">\n",
              "      <div>\n",
              "<style scoped>\n",
              "    .dataframe tbody tr th:only-of-type {\n",
              "        vertical-align: middle;\n",
              "    }\n",
              "\n",
              "    .dataframe tbody tr th {\n",
              "        vertical-align: top;\n",
              "    }\n",
              "\n",
              "    .dataframe thead th {\n",
              "        text-align: right;\n",
              "    }\n",
              "</style>\n",
              "<table border=\"1\" class=\"dataframe\">\n",
              "  <thead>\n",
              "    <tr style=\"text-align: right;\">\n",
              "      <th></th>\n",
              "      <th>ans</th>\n",
              "    </tr>\n",
              "    <tr>\n",
              "      <th>id</th>\n",
              "      <th></th>\n",
              "    </tr>\n",
              "  </thead>\n",
              "  <tbody>\n",
              "    <tr>\n",
              "      <th>26832</th>\n",
              "      <td>0</td>\n",
              "    </tr>\n",
              "    <tr>\n",
              "      <th>150199</th>\n",
              "      <td>0</td>\n",
              "    </tr>\n",
              "    <tr>\n",
              "      <th>347019</th>\n",
              "      <td>0</td>\n",
              "    </tr>\n",
              "    <tr>\n",
              "      <th>92565</th>\n",
              "      <td>0</td>\n",
              "    </tr>\n",
              "    <tr>\n",
              "      <th>398703</th>\n",
              "      <td>0</td>\n",
              "    </tr>\n",
              "    <tr>\n",
              "      <th>...</th>\n",
              "      <td>...</td>\n",
              "    </tr>\n",
              "    <tr>\n",
              "      <th>62380</th>\n",
              "      <td>0</td>\n",
              "    </tr>\n",
              "    <tr>\n",
              "      <th>247768</th>\n",
              "      <td>0</td>\n",
              "    </tr>\n",
              "    <tr>\n",
              "      <th>474175</th>\n",
              "      <td>1</td>\n",
              "    </tr>\n",
              "    <tr>\n",
              "      <th>372742</th>\n",
              "      <td>1</td>\n",
              "    </tr>\n",
              "    <tr>\n",
              "      <th>256130</th>\n",
              "      <td>0</td>\n",
              "    </tr>\n",
              "  </tbody>\n",
              "</table>\n",
              "<p>107877 rows × 1 columns</p>\n",
              "</div>\n",
              "      <button class=\"colab-df-convert\" onclick=\"convertToInteractive('df-b6d6ee4c-b46b-49f2-8c7d-b0ad4fdc9789')\"\n",
              "              title=\"Convert this dataframe to an interactive table.\"\n",
              "              style=\"display:none;\">\n",
              "        \n",
              "  <svg xmlns=\"http://www.w3.org/2000/svg\" height=\"24px\"viewBox=\"0 0 24 24\"\n",
              "       width=\"24px\">\n",
              "    <path d=\"M0 0h24v24H0V0z\" fill=\"none\"/>\n",
              "    <path d=\"M18.56 5.44l.94 2.06.94-2.06 2.06-.94-2.06-.94-.94-2.06-.94 2.06-2.06.94zm-11 1L8.5 8.5l.94-2.06 2.06-.94-2.06-.94L8.5 2.5l-.94 2.06-2.06.94zm10 10l.94 2.06.94-2.06 2.06-.94-2.06-.94-.94-2.06-.94 2.06-2.06.94z\"/><path d=\"M17.41 7.96l-1.37-1.37c-.4-.4-.92-.59-1.43-.59-.52 0-1.04.2-1.43.59L10.3 9.45l-7.72 7.72c-.78.78-.78 2.05 0 2.83L4 21.41c.39.39.9.59 1.41.59.51 0 1.02-.2 1.41-.59l7.78-7.78 2.81-2.81c.8-.78.8-2.07 0-2.86zM5.41 20L4 18.59l7.72-7.72 1.47 1.35L5.41 20z\"/>\n",
              "  </svg>\n",
              "      </button>\n",
              "      \n",
              "  <style>\n",
              "    .colab-df-container {\n",
              "      display:flex;\n",
              "      flex-wrap:wrap;\n",
              "      gap: 12px;\n",
              "    }\n",
              "\n",
              "    .colab-df-convert {\n",
              "      background-color: #E8F0FE;\n",
              "      border: none;\n",
              "      border-radius: 50%;\n",
              "      cursor: pointer;\n",
              "      display: none;\n",
              "      fill: #1967D2;\n",
              "      height: 32px;\n",
              "      padding: 0 0 0 0;\n",
              "      width: 32px;\n",
              "    }\n",
              "\n",
              "    .colab-df-convert:hover {\n",
              "      background-color: #E2EBFA;\n",
              "      box-shadow: 0px 1px 2px rgba(60, 64, 67, 0.3), 0px 1px 3px 1px rgba(60, 64, 67, 0.15);\n",
              "      fill: #174EA6;\n",
              "    }\n",
              "\n",
              "    [theme=dark] .colab-df-convert {\n",
              "      background-color: #3B4455;\n",
              "      fill: #D2E3FC;\n",
              "    }\n",
              "\n",
              "    [theme=dark] .colab-df-convert:hover {\n",
              "      background-color: #434B5C;\n",
              "      box-shadow: 0px 1px 3px 1px rgba(0, 0, 0, 0.15);\n",
              "      filter: drop-shadow(0px 1px 2px rgba(0, 0, 0, 0.3));\n",
              "      fill: #FFFFFF;\n",
              "    }\n",
              "  </style>\n",
              "\n",
              "      <script>\n",
              "        const buttonEl =\n",
              "          document.querySelector('#df-b6d6ee4c-b46b-49f2-8c7d-b0ad4fdc9789 button.colab-df-convert');\n",
              "        buttonEl.style.display =\n",
              "          google.colab.kernel.accessAllowed ? 'block' : 'none';\n",
              "\n",
              "        async function convertToInteractive(key) {\n",
              "          const element = document.querySelector('#df-b6d6ee4c-b46b-49f2-8c7d-b0ad4fdc9789');\n",
              "          const dataTable =\n",
              "            await google.colab.kernel.invokeFunction('convertToInteractive',\n",
              "                                                     [key], {});\n",
              "          if (!dataTable) return;\n",
              "\n",
              "          const docLinkHtml = 'Like what you see? Visit the ' +\n",
              "            '<a target=\"_blank\" href=https://colab.research.google.com/notebooks/data_table.ipynb>data table notebook</a>'\n",
              "            + ' to learn more about interactive tables.';\n",
              "          element.innerHTML = '';\n",
              "          dataTable['output_type'] = 'display_data';\n",
              "          await google.colab.output.renderOutput(dataTable, element);\n",
              "          const docLink = document.createElement('div');\n",
              "          docLink.innerHTML = docLinkHtml;\n",
              "          element.appendChild(docLink);\n",
              "        }\n",
              "      </script>\n",
              "    </div>\n",
              "  </div>\n",
              "  "
            ]
          },
          "metadata": {},
          "execution_count": 34
        }
      ]
    },
    {
      "cell_type": "code",
      "source": [
        "answer.to_csv('solution.csv')\n",
        "#сохраняем"
      ],
      "metadata": {
        "id": "r2c5tNyN5qiC"
      },
      "execution_count": null,
      "outputs": []
    },
    {
      "cell_type": "code",
      "source": [
        "!cp solution.csv /GD/'My Drive'/solution.csv"
      ],
      "metadata": {
        "id": "kysK3Pcq6uUi"
      },
      "execution_count": null,
      "outputs": []
    },
    {
      "cell_type": "code",
      "source": [
        "!ls"
      ],
      "metadata": {
        "colab": {
          "base_uri": "https://localhost:8080/"
        },
        "id": "PLKxEVVS6uaG",
        "outputId": "d45f688f-7a5b-4b92-8878-ea822e0b7156"
      },
      "execution_count": null,
      "outputs": [
        {
          "output_type": "stream",
          "name": "stdout",
          "text": [
            "flights.csv  for_test.csv  GD  sample_data  solution.csv\n"
          ]
        }
      ]
    }
  ]
}