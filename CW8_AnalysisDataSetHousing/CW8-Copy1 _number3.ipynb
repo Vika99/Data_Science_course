{
 "cells": [
  {
   "cell_type": "code",
   "execution_count": 1,
   "id": "d26ae8a8",
   "metadata": {},
   "outputs": [],
   "source": [
    "import os\n",
    "import tarfile\n",
    "from six.moves import urllib\n",
    "import pandas as pd\n",
    "%matplotlib inline\n",
    "import matplotlib.pyplot as plt"
   ]
  },
  {
   "cell_type": "markdown",
   "id": "1971f64f",
   "metadata": {},
   "source": [
    "Загрузка данных с Git и сохранение на в локальный файл"
   ]
  },
  {
   "cell_type": "code",
   "execution_count": 2,
   "id": "2bf428bc",
   "metadata": {},
   "outputs": [],
   "source": [
    "download_path = 'https://raw.githubusercontent.com/ageron/handson-ml/master/datasets/housing/housing.tgz'\n",
    "housing_path = 'datasets/housing/'"
   ]
  },
  {
   "cell_type": "code",
   "execution_count": 3,
   "id": "d4dc2322",
   "metadata": {},
   "outputs": [],
   "source": [
    "def fetch_housing_data (url = download_path, path_h = housing_path, file_name = 'housing.tgz'):\n",
    "    \n",
    "    if not os.path.isdir(path_h):\n",
    "        os.makedirs(path_h)\n",
    "        \n",
    "    tgz_path = os.path.join(path_h, file_name)\n",
    "    \n",
    "    urllib.request.urlretrieve (url, tgz_path)\n",
    "    \n",
    "    tarf = tarfile.open(tgz_path)\n",
    "    tarf.extractall(path = path_h)\n",
    "    tarf.close()    \n",
    "    "
   ]
  },
  {
   "cell_type": "code",
   "execution_count": 4,
   "id": "3b354170",
   "metadata": {},
   "outputs": [],
   "source": [
    "fetch_housing_data()"
   ]
  },
  {
   "cell_type": "markdown",
   "id": "829f3f92",
   "metadata": {},
   "source": [
    "Подъем файла с данными в память"
   ]
  },
  {
   "cell_type": "code",
   "execution_count": 5,
   "id": "b6ed4de5",
   "metadata": {},
   "outputs": [],
   "source": [
    "def load_to_pandas (file_path = housing_path, file_name = 'housing.csv'):\n",
    "    \n",
    "    full_path = os.path.join(file_path, file_name)\n",
    "    \n",
    "    return pd.read_csv(full_path)"
   ]
  },
  {
   "cell_type": "code",
   "execution_count": 6,
   "id": "0d160395",
   "metadata": {},
   "outputs": [],
   "source": [
    "hdf = load_to_pandas()"
   ]
  },
  {
   "cell_type": "markdown",
   "id": "ac905dbb",
   "metadata": {},
   "source": [
    "Осмотр данных "
   ]
  },
  {
   "cell_type": "code",
   "execution_count": 7,
   "id": "37f45e84",
   "metadata": {},
   "outputs": [],
   "source": [
    "#hdf.shape"
   ]
  },
  {
   "cell_type": "code",
   "execution_count": 8,
   "id": "407ad892",
   "metadata": {},
   "outputs": [],
   "source": [
    "#hdf.head(15)"
   ]
  },
  {
   "cell_type": "code",
   "execution_count": 9,
   "id": "6fdd5f70",
   "metadata": {},
   "outputs": [],
   "source": [
    "#hdf.info()"
   ]
  },
  {
   "cell_type": "code",
   "execution_count": 10,
   "id": "11a11da8",
   "metadata": {},
   "outputs": [],
   "source": [
    "#20640 - 20433"
   ]
  },
  {
   "cell_type": "code",
   "execution_count": 11,
   "id": "9e2da1e7",
   "metadata": {},
   "outputs": [],
   "source": [
    "#hdf['ocean_proximity'].value_counts()"
   ]
  },
  {
   "cell_type": "markdown",
   "id": "746e6c2e",
   "metadata": {},
   "source": [
    "Гистограммы"
   ]
  },
  {
   "cell_type": "code",
   "execution_count": 12,
   "id": "27c6837d",
   "metadata": {},
   "outputs": [],
   "source": [
    "# median_income, median_age, median_value, масштабы и хвосты\n",
    "#hdf.hist(bins = 50, figsize = (20,15))"
   ]
  },
  {
   "cell_type": "code",
   "execution_count": 13,
   "id": "7d7bc074",
   "metadata": {},
   "outputs": [],
   "source": [
    "#hdf['ocean_proximity'].hist()"
   ]
  },
  {
   "cell_type": "markdown",
   "id": "e9bf0619",
   "metadata": {},
   "source": [
    "Визуализация графических данных"
   ]
  },
  {
   "cell_type": "code",
   "execution_count": 14,
   "id": "f013c2a9",
   "metadata": {},
   "outputs": [],
   "source": [
    "#hdf.plot(kind='scatter', x='longitude', y = 'latitude')"
   ]
  },
  {
   "cell_type": "code",
   "execution_count": 15,
   "id": "096c7955",
   "metadata": {},
   "outputs": [],
   "source": [
    "#hdf.plot(kind='scatter', x='longitude', y = 'latitude', alpha = 0.05)"
   ]
  },
  {
   "cell_type": "code",
   "execution_count": 16,
   "id": "0e6b8bba",
   "metadata": {},
   "outputs": [],
   "source": [
    "#hdf.plot(kind='scatter', x='longitude', y = 'latitude', alpha = 0.4, label = \"population\", figsize = (10,7), \n",
    " #            c = 'median_house_value', cmap = 'jet', colorbar = True)"
   ]
  },
  {
   "cell_type": "code",
   "execution_count": null,
   "id": "55c76761",
   "metadata": {},
   "outputs": [],
   "source": []
  },
  {
   "cell_type": "code",
   "execution_count": null,
   "id": "6bca3be4",
   "metadata": {},
   "outputs": [],
   "source": []
  },
  {
   "cell_type": "markdown",
   "id": "76a98c49",
   "metadata": {},
   "source": [
    "Поиск зависимостей"
   ]
  },
  {
   "cell_type": "code",
   "execution_count": 17,
   "id": "90f0300b",
   "metadata": {},
   "outputs": [
    {
     "data": {
      "text/html": [
       "<div>\n",
       "<style scoped>\n",
       "    .dataframe tbody tr th:only-of-type {\n",
       "        vertical-align: middle;\n",
       "    }\n",
       "\n",
       "    .dataframe tbody tr th {\n",
       "        vertical-align: top;\n",
       "    }\n",
       "\n",
       "    .dataframe thead th {\n",
       "        text-align: right;\n",
       "    }\n",
       "</style>\n",
       "<table border=\"1\" class=\"dataframe\">\n",
       "  <thead>\n",
       "    <tr style=\"text-align: right;\">\n",
       "      <th></th>\n",
       "      <th>longitude</th>\n",
       "      <th>latitude</th>\n",
       "      <th>housing_median_age</th>\n",
       "      <th>total_rooms</th>\n",
       "      <th>total_bedrooms</th>\n",
       "      <th>population</th>\n",
       "      <th>households</th>\n",
       "      <th>median_income</th>\n",
       "      <th>median_house_value</th>\n",
       "    </tr>\n",
       "  </thead>\n",
       "  <tbody>\n",
       "    <tr>\n",
       "      <th>longitude</th>\n",
       "      <td>1.000000</td>\n",
       "      <td>-0.924664</td>\n",
       "      <td>-0.108197</td>\n",
       "      <td>0.044568</td>\n",
       "      <td>0.069608</td>\n",
       "      <td>0.099773</td>\n",
       "      <td>0.055310</td>\n",
       "      <td>-0.015176</td>\n",
       "      <td>-0.045967</td>\n",
       "    </tr>\n",
       "    <tr>\n",
       "      <th>latitude</th>\n",
       "      <td>-0.924664</td>\n",
       "      <td>1.000000</td>\n",
       "      <td>0.011173</td>\n",
       "      <td>-0.036100</td>\n",
       "      <td>-0.066983</td>\n",
       "      <td>-0.108785</td>\n",
       "      <td>-0.071035</td>\n",
       "      <td>-0.079809</td>\n",
       "      <td>-0.144160</td>\n",
       "    </tr>\n",
       "    <tr>\n",
       "      <th>housing_median_age</th>\n",
       "      <td>-0.108197</td>\n",
       "      <td>0.011173</td>\n",
       "      <td>1.000000</td>\n",
       "      <td>-0.361262</td>\n",
       "      <td>-0.320451</td>\n",
       "      <td>-0.296244</td>\n",
       "      <td>-0.302916</td>\n",
       "      <td>-0.119034</td>\n",
       "      <td>0.105623</td>\n",
       "    </tr>\n",
       "    <tr>\n",
       "      <th>total_rooms</th>\n",
       "      <td>0.044568</td>\n",
       "      <td>-0.036100</td>\n",
       "      <td>-0.361262</td>\n",
       "      <td>1.000000</td>\n",
       "      <td>0.930380</td>\n",
       "      <td>0.857126</td>\n",
       "      <td>0.918484</td>\n",
       "      <td>0.198050</td>\n",
       "      <td>0.134153</td>\n",
       "    </tr>\n",
       "    <tr>\n",
       "      <th>total_bedrooms</th>\n",
       "      <td>0.069608</td>\n",
       "      <td>-0.066983</td>\n",
       "      <td>-0.320451</td>\n",
       "      <td>0.930380</td>\n",
       "      <td>1.000000</td>\n",
       "      <td>0.877747</td>\n",
       "      <td>0.979728</td>\n",
       "      <td>-0.007723</td>\n",
       "      <td>0.049686</td>\n",
       "    </tr>\n",
       "    <tr>\n",
       "      <th>population</th>\n",
       "      <td>0.099773</td>\n",
       "      <td>-0.108785</td>\n",
       "      <td>-0.296244</td>\n",
       "      <td>0.857126</td>\n",
       "      <td>0.877747</td>\n",
       "      <td>1.000000</td>\n",
       "      <td>0.907222</td>\n",
       "      <td>0.004834</td>\n",
       "      <td>-0.024650</td>\n",
       "    </tr>\n",
       "    <tr>\n",
       "      <th>households</th>\n",
       "      <td>0.055310</td>\n",
       "      <td>-0.071035</td>\n",
       "      <td>-0.302916</td>\n",
       "      <td>0.918484</td>\n",
       "      <td>0.979728</td>\n",
       "      <td>0.907222</td>\n",
       "      <td>1.000000</td>\n",
       "      <td>0.013033</td>\n",
       "      <td>0.065843</td>\n",
       "    </tr>\n",
       "    <tr>\n",
       "      <th>median_income</th>\n",
       "      <td>-0.015176</td>\n",
       "      <td>-0.079809</td>\n",
       "      <td>-0.119034</td>\n",
       "      <td>0.198050</td>\n",
       "      <td>-0.007723</td>\n",
       "      <td>0.004834</td>\n",
       "      <td>0.013033</td>\n",
       "      <td>1.000000</td>\n",
       "      <td>0.688075</td>\n",
       "    </tr>\n",
       "    <tr>\n",
       "      <th>median_house_value</th>\n",
       "      <td>-0.045967</td>\n",
       "      <td>-0.144160</td>\n",
       "      <td>0.105623</td>\n",
       "      <td>0.134153</td>\n",
       "      <td>0.049686</td>\n",
       "      <td>-0.024650</td>\n",
       "      <td>0.065843</td>\n",
       "      <td>0.688075</td>\n",
       "      <td>1.000000</td>\n",
       "    </tr>\n",
       "  </tbody>\n",
       "</table>\n",
       "</div>"
      ],
      "text/plain": [
       "                    longitude  latitude  housing_median_age  total_rooms  \\\n",
       "longitude            1.000000 -0.924664           -0.108197     0.044568   \n",
       "latitude            -0.924664  1.000000            0.011173    -0.036100   \n",
       "housing_median_age  -0.108197  0.011173            1.000000    -0.361262   \n",
       "total_rooms          0.044568 -0.036100           -0.361262     1.000000   \n",
       "total_bedrooms       0.069608 -0.066983           -0.320451     0.930380   \n",
       "population           0.099773 -0.108785           -0.296244     0.857126   \n",
       "households           0.055310 -0.071035           -0.302916     0.918484   \n",
       "median_income       -0.015176 -0.079809           -0.119034     0.198050   \n",
       "median_house_value  -0.045967 -0.144160            0.105623     0.134153   \n",
       "\n",
       "                    total_bedrooms  population  households  median_income  \\\n",
       "longitude                 0.069608    0.099773    0.055310      -0.015176   \n",
       "latitude                 -0.066983   -0.108785   -0.071035      -0.079809   \n",
       "housing_median_age       -0.320451   -0.296244   -0.302916      -0.119034   \n",
       "total_rooms               0.930380    0.857126    0.918484       0.198050   \n",
       "total_bedrooms            1.000000    0.877747    0.979728      -0.007723   \n",
       "population                0.877747    1.000000    0.907222       0.004834   \n",
       "households                0.979728    0.907222    1.000000       0.013033   \n",
       "median_income            -0.007723    0.004834    0.013033       1.000000   \n",
       "median_house_value        0.049686   -0.024650    0.065843       0.688075   \n",
       "\n",
       "                    median_house_value  \n",
       "longitude                    -0.045967  \n",
       "latitude                     -0.144160  \n",
       "housing_median_age            0.105623  \n",
       "total_rooms                   0.134153  \n",
       "total_bedrooms                0.049686  \n",
       "population                   -0.024650  \n",
       "households                    0.065843  \n",
       "median_income                 0.688075  \n",
       "median_house_value            1.000000  "
      ]
     },
     "execution_count": 17,
     "metadata": {},
     "output_type": "execute_result"
    }
   ],
   "source": [
    "corr_M = hdf.corr()\n",
    "corr_M"
   ]
  },
  {
   "cell_type": "code",
   "execution_count": 19,
   "id": "6038d60c",
   "metadata": {},
   "outputs": [
    {
     "data": {
      "text/plain": [
       "longitude            -0.045967\n",
       "latitude             -0.144160\n",
       "housing_median_age    0.105623\n",
       "total_rooms           0.134153\n",
       "total_bedrooms        0.049686\n",
       "population           -0.024650\n",
       "households            0.065843\n",
       "median_income         0.688075\n",
       "median_house_value    1.000000\n",
       "Name: median_house_value, dtype: float64"
      ]
     },
     "execution_count": 19,
     "metadata": {},
     "output_type": "execute_result"
    }
   ],
   "source": [
    "corr_M['median_house_value']"
   ]
  },
  {
   "cell_type": "code",
   "execution_count": null,
   "id": "be9ca6fc",
   "metadata": {},
   "outputs": [],
   "source": []
  },
  {
   "cell_type": "markdown",
   "id": "eb20d345",
   "metadata": {},
   "source": [
    "Графическая матрица зависимостей"
   ]
  },
  {
   "cell_type": "code",
   "execution_count": 61,
   "id": "17972e38",
   "metadata": {},
   "outputs": [],
   "source": [
    "#from pandas.plotting import scatter_matrix"
   ]
  },
  {
   "cell_type": "code",
   "execution_count": 262,
   "id": "0636dafe",
   "metadata": {},
   "outputs": [],
   "source": [
    "#attributes = ['median_house_value', 'median_income', 'housing_median_age', 'total_rooms']"
   ]
  },
  {
   "cell_type": "code",
   "execution_count": 16,
   "id": "ab7ab02a",
   "metadata": {},
   "outputs": [],
   "source": [
    "#scatter_matrix(hdf[attributes], figsize = (12,8))"
   ]
  },
  {
   "cell_type": "code",
   "execution_count": 17,
   "id": "d80cd0aa",
   "metadata": {},
   "outputs": [],
   "source": [
    "#hdf.plot(kind='scatter', x='median_income', y = 'median_house_value', figsize = (12,8))"
   ]
  },
  {
   "cell_type": "code",
   "execution_count": 18,
   "id": "fdee656b",
   "metadata": {},
   "outputs": [],
   "source": [
    "#hdf"
   ]
  },
  {
   "cell_type": "markdown",
   "id": "5005b98c",
   "metadata": {},
   "source": [
    "Новые атрибуты\n"
   ]
  },
  {
   "cell_type": "code",
   "execution_count": 20,
   "id": "7a419a31",
   "metadata": {},
   "outputs": [],
   "source": [
    "hdf['rooms_per_house'] = hdf['total_rooms'] / hdf['households']\n",
    "hdf['bebrooms_per_room'] = hdf['total_bedrooms'] / hdf['total_rooms']\n",
    "hdf['population_per_house_hold'] = hdf['population'] / hdf['households']"
   ]
  },
  {
   "cell_type": "code",
   "execution_count": 21,
   "id": "2736997f",
   "metadata": {},
   "outputs": [],
   "source": [
    "corr_M = hdf.corr()"
   ]
  },
  {
   "cell_type": "code",
   "execution_count": 22,
   "id": "0349fbb7",
   "metadata": {},
   "outputs": [
    {
     "data": {
      "text/plain": [
       "longitude                   -0.045967\n",
       "latitude                    -0.144160\n",
       "housing_median_age           0.105623\n",
       "total_rooms                  0.134153\n",
       "total_bedrooms               0.049686\n",
       "population                  -0.024650\n",
       "households                   0.065843\n",
       "median_income                0.688075\n",
       "median_house_value           1.000000\n",
       "rooms_per_house              0.151948\n",
       "bebrooms_per_room           -0.255880\n",
       "population_per_house_hold   -0.023737\n",
       "Name: median_house_value, dtype: float64"
      ]
     },
     "execution_count": 22,
     "metadata": {},
     "output_type": "execute_result"
    }
   ],
   "source": [
    "corr_M['median_house_value']"
   ]
  },
  {
   "cell_type": "code",
   "execution_count": null,
   "id": "f9841779",
   "metadata": {},
   "outputs": [],
   "source": []
  },
  {
   "cell_type": "markdown",
   "id": "7a5f89b6",
   "metadata": {},
   "source": [
    "Обработка пустых значений"
   ]
  },
  {
   "cell_type": "code",
   "execution_count": 21,
   "id": "dfc67ebb",
   "metadata": {
    "scrolled": true
   },
   "outputs": [],
   "source": [
    "#hdf.dropna(subset = ['total_bedrooms'])"
   ]
  },
  {
   "cell_type": "code",
   "execution_count": 30,
   "id": "82e6d7ab",
   "metadata": {},
   "outputs": [
    {
     "data": {
      "text/html": [
       "<div>\n",
       "<style scoped>\n",
       "    .dataframe tbody tr th:only-of-type {\n",
       "        vertical-align: middle;\n",
       "    }\n",
       "\n",
       "    .dataframe tbody tr th {\n",
       "        vertical-align: top;\n",
       "    }\n",
       "\n",
       "    .dataframe thead th {\n",
       "        text-align: right;\n",
       "    }\n",
       "</style>\n",
       "<table border=\"1\" class=\"dataframe\">\n",
       "  <thead>\n",
       "    <tr style=\"text-align: right;\">\n",
       "      <th></th>\n",
       "      <th>longitude</th>\n",
       "      <th>latitude</th>\n",
       "      <th>housing_median_age</th>\n",
       "      <th>total_rooms</th>\n",
       "      <th>population</th>\n",
       "      <th>households</th>\n",
       "      <th>median_income</th>\n",
       "      <th>median_house_value</th>\n",
       "      <th>ocean_proximity</th>\n",
       "      <th>rooms_per_house</th>\n",
       "      <th>bebrooms_per_room</th>\n",
       "      <th>population_per_house_hold</th>\n",
       "    </tr>\n",
       "  </thead>\n",
       "  <tbody>\n",
       "    <tr>\n",
       "      <th>0</th>\n",
       "      <td>-122.23</td>\n",
       "      <td>37.88</td>\n",
       "      <td>41.0</td>\n",
       "      <td>880.0</td>\n",
       "      <td>322.0</td>\n",
       "      <td>126.0</td>\n",
       "      <td>8.3252</td>\n",
       "      <td>452600.0</td>\n",
       "      <td>NEAR BAY</td>\n",
       "      <td>6.984127</td>\n",
       "      <td>0.146591</td>\n",
       "      <td>2.555556</td>\n",
       "    </tr>\n",
       "    <tr>\n",
       "      <th>1</th>\n",
       "      <td>-122.22</td>\n",
       "      <td>37.86</td>\n",
       "      <td>21.0</td>\n",
       "      <td>7099.0</td>\n",
       "      <td>2401.0</td>\n",
       "      <td>1138.0</td>\n",
       "      <td>8.3014</td>\n",
       "      <td>358500.0</td>\n",
       "      <td>NEAR BAY</td>\n",
       "      <td>6.238137</td>\n",
       "      <td>0.155797</td>\n",
       "      <td>2.109842</td>\n",
       "    </tr>\n",
       "    <tr>\n",
       "      <th>2</th>\n",
       "      <td>-122.24</td>\n",
       "      <td>37.85</td>\n",
       "      <td>52.0</td>\n",
       "      <td>1467.0</td>\n",
       "      <td>496.0</td>\n",
       "      <td>177.0</td>\n",
       "      <td>7.2574</td>\n",
       "      <td>352100.0</td>\n",
       "      <td>NEAR BAY</td>\n",
       "      <td>8.288136</td>\n",
       "      <td>0.129516</td>\n",
       "      <td>2.802260</td>\n",
       "    </tr>\n",
       "    <tr>\n",
       "      <th>3</th>\n",
       "      <td>-122.25</td>\n",
       "      <td>37.85</td>\n",
       "      <td>52.0</td>\n",
       "      <td>1274.0</td>\n",
       "      <td>558.0</td>\n",
       "      <td>219.0</td>\n",
       "      <td>5.6431</td>\n",
       "      <td>341300.0</td>\n",
       "      <td>NEAR BAY</td>\n",
       "      <td>5.817352</td>\n",
       "      <td>0.184458</td>\n",
       "      <td>2.547945</td>\n",
       "    </tr>\n",
       "    <tr>\n",
       "      <th>4</th>\n",
       "      <td>-122.25</td>\n",
       "      <td>37.85</td>\n",
       "      <td>52.0</td>\n",
       "      <td>1627.0</td>\n",
       "      <td>565.0</td>\n",
       "      <td>259.0</td>\n",
       "      <td>3.8462</td>\n",
       "      <td>342200.0</td>\n",
       "      <td>NEAR BAY</td>\n",
       "      <td>6.281853</td>\n",
       "      <td>0.172096</td>\n",
       "      <td>2.181467</td>\n",
       "    </tr>\n",
       "    <tr>\n",
       "      <th>...</th>\n",
       "      <td>...</td>\n",
       "      <td>...</td>\n",
       "      <td>...</td>\n",
       "      <td>...</td>\n",
       "      <td>...</td>\n",
       "      <td>...</td>\n",
       "      <td>...</td>\n",
       "      <td>...</td>\n",
       "      <td>...</td>\n",
       "      <td>...</td>\n",
       "      <td>...</td>\n",
       "      <td>...</td>\n",
       "    </tr>\n",
       "    <tr>\n",
       "      <th>20635</th>\n",
       "      <td>-121.09</td>\n",
       "      <td>39.48</td>\n",
       "      <td>25.0</td>\n",
       "      <td>1665.0</td>\n",
       "      <td>845.0</td>\n",
       "      <td>330.0</td>\n",
       "      <td>1.5603</td>\n",
       "      <td>78100.0</td>\n",
       "      <td>INLAND</td>\n",
       "      <td>5.045455</td>\n",
       "      <td>0.224625</td>\n",
       "      <td>2.560606</td>\n",
       "    </tr>\n",
       "    <tr>\n",
       "      <th>20636</th>\n",
       "      <td>-121.21</td>\n",
       "      <td>39.49</td>\n",
       "      <td>18.0</td>\n",
       "      <td>697.0</td>\n",
       "      <td>356.0</td>\n",
       "      <td>114.0</td>\n",
       "      <td>2.5568</td>\n",
       "      <td>77100.0</td>\n",
       "      <td>INLAND</td>\n",
       "      <td>6.114035</td>\n",
       "      <td>0.215208</td>\n",
       "      <td>3.122807</td>\n",
       "    </tr>\n",
       "    <tr>\n",
       "      <th>20637</th>\n",
       "      <td>-121.22</td>\n",
       "      <td>39.43</td>\n",
       "      <td>17.0</td>\n",
       "      <td>2254.0</td>\n",
       "      <td>1007.0</td>\n",
       "      <td>433.0</td>\n",
       "      <td>1.7000</td>\n",
       "      <td>92300.0</td>\n",
       "      <td>INLAND</td>\n",
       "      <td>5.205543</td>\n",
       "      <td>0.215173</td>\n",
       "      <td>2.325635</td>\n",
       "    </tr>\n",
       "    <tr>\n",
       "      <th>20638</th>\n",
       "      <td>-121.32</td>\n",
       "      <td>39.43</td>\n",
       "      <td>18.0</td>\n",
       "      <td>1860.0</td>\n",
       "      <td>741.0</td>\n",
       "      <td>349.0</td>\n",
       "      <td>1.8672</td>\n",
       "      <td>84700.0</td>\n",
       "      <td>INLAND</td>\n",
       "      <td>5.329513</td>\n",
       "      <td>0.219892</td>\n",
       "      <td>2.123209</td>\n",
       "    </tr>\n",
       "    <tr>\n",
       "      <th>20639</th>\n",
       "      <td>-121.24</td>\n",
       "      <td>39.37</td>\n",
       "      <td>16.0</td>\n",
       "      <td>2785.0</td>\n",
       "      <td>1387.0</td>\n",
       "      <td>530.0</td>\n",
       "      <td>2.3886</td>\n",
       "      <td>89400.0</td>\n",
       "      <td>INLAND</td>\n",
       "      <td>5.254717</td>\n",
       "      <td>0.221185</td>\n",
       "      <td>2.616981</td>\n",
       "    </tr>\n",
       "  </tbody>\n",
       "</table>\n",
       "<p>20640 rows × 12 columns</p>\n",
       "</div>"
      ],
      "text/plain": [
       "       longitude  latitude  housing_median_age  total_rooms  population  \\\n",
       "0        -122.23     37.88                41.0        880.0       322.0   \n",
       "1        -122.22     37.86                21.0       7099.0      2401.0   \n",
       "2        -122.24     37.85                52.0       1467.0       496.0   \n",
       "3        -122.25     37.85                52.0       1274.0       558.0   \n",
       "4        -122.25     37.85                52.0       1627.0       565.0   \n",
       "...          ...       ...                 ...          ...         ...   \n",
       "20635    -121.09     39.48                25.0       1665.0       845.0   \n",
       "20636    -121.21     39.49                18.0        697.0       356.0   \n",
       "20637    -121.22     39.43                17.0       2254.0      1007.0   \n",
       "20638    -121.32     39.43                18.0       1860.0       741.0   \n",
       "20639    -121.24     39.37                16.0       2785.0      1387.0   \n",
       "\n",
       "       households  median_income  median_house_value ocean_proximity  \\\n",
       "0           126.0         8.3252            452600.0        NEAR BAY   \n",
       "1          1138.0         8.3014            358500.0        NEAR BAY   \n",
       "2           177.0         7.2574            352100.0        NEAR BAY   \n",
       "3           219.0         5.6431            341300.0        NEAR BAY   \n",
       "4           259.0         3.8462            342200.0        NEAR BAY   \n",
       "...           ...            ...                 ...             ...   \n",
       "20635       330.0         1.5603             78100.0          INLAND   \n",
       "20636       114.0         2.5568             77100.0          INLAND   \n",
       "20637       433.0         1.7000             92300.0          INLAND   \n",
       "20638       349.0         1.8672             84700.0          INLAND   \n",
       "20639       530.0         2.3886             89400.0          INLAND   \n",
       "\n",
       "       rooms_per_house  bebrooms_per_room  population_per_house_hold  \n",
       "0             6.984127           0.146591                   2.555556  \n",
       "1             6.238137           0.155797                   2.109842  \n",
       "2             8.288136           0.129516                   2.802260  \n",
       "3             5.817352           0.184458                   2.547945  \n",
       "4             6.281853           0.172096                   2.181467  \n",
       "...                ...                ...                        ...  \n",
       "20635         5.045455           0.224625                   2.560606  \n",
       "20636         6.114035           0.215208                   3.122807  \n",
       "20637         5.205543           0.215173                   2.325635  \n",
       "20638         5.329513           0.219892                   2.123209  \n",
       "20639         5.254717           0.221185                   2.616981  \n",
       "\n",
       "[20640 rows x 12 columns]"
      ]
     },
     "execution_count": 30,
     "metadata": {},
     "output_type": "execute_result"
    }
   ],
   "source": [
    "hdf.drop(['total_bedrooms'], axis = 1)\n"
   ]
  },
  {
   "cell_type": "code",
   "execution_count": 13,
   "id": "a2817f41",
   "metadata": {},
   "outputs": [],
   "source": [
    "#mediantb = hdf['total_bedrooms'].median()\n",
    "#hdf['total_bedrooms'].fillna(mediantb, inplace = True)\n",
    "\n",
    "#medianpbr = hdf['bebrooms_per_room'].median()\n",
    "#hdf['bebrooms_per_room'].fillna(medianpbr, inplace = True)\n"
   ]
  },
  {
   "cell_type": "code",
   "execution_count": null,
   "id": "031ff111",
   "metadata": {},
   "outputs": [],
   "source": []
  },
  {
   "cell_type": "code",
   "execution_count": null,
   "id": "65109033",
   "metadata": {},
   "outputs": [],
   "source": []
  },
  {
   "cell_type": "code",
   "execution_count": null,
   "id": "18fe5282",
   "metadata": {},
   "outputs": [],
   "source": [
    "# Отделение меток"
   ]
  },
  {
   "cell_type": "code",
   "execution_count": 31,
   "id": "4daadaee",
   "metadata": {},
   "outputs": [],
   "source": [
    "X = hdf.drop(['median_house_value'], axis = 1)"
   ]
  },
  {
   "cell_type": "code",
   "execution_count": 32,
   "id": "dc795f6a",
   "metadata": {},
   "outputs": [],
   "source": [
    "Y = hdf['median_house_value']"
   ]
  },
  {
   "cell_type": "code",
   "execution_count": 33,
   "id": "1a745f2f",
   "metadata": {},
   "outputs": [],
   "source": [
    "#X"
   ]
  },
  {
   "cell_type": "code",
   "execution_count": 34,
   "id": "7a5ef282",
   "metadata": {},
   "outputs": [],
   "source": [
    "#Y"
   ]
  },
  {
   "cell_type": "code",
   "execution_count": null,
   "id": "a1ccb936",
   "metadata": {},
   "outputs": [],
   "source": []
  },
  {
   "cell_type": "markdown",
   "id": "efc16291",
   "metadata": {},
   "source": [
    "Обработка категориальных признаков"
   ]
  },
  {
   "cell_type": "code",
   "execution_count": 35,
   "id": "e43af2c5",
   "metadata": {},
   "outputs": [],
   "source": [
    "h_cat_en, h_categories = X['ocean_proximity'].factorize()"
   ]
  },
  {
   "cell_type": "code",
   "execution_count": 36,
   "id": "cfaa3abe",
   "metadata": {},
   "outputs": [],
   "source": [
    "#h_cat_en"
   ]
  },
  {
   "cell_type": "code",
   "execution_count": 37,
   "id": "55b4f697",
   "metadata": {},
   "outputs": [],
   "source": [
    "#h_categories"
   ]
  },
  {
   "cell_type": "code",
   "execution_count": 38,
   "id": "493182e2",
   "metadata": {},
   "outputs": [],
   "source": [
    "from sklearn.preprocessing import OneHotEncoder"
   ]
  },
  {
   "cell_type": "code",
   "execution_count": 39,
   "id": "1f379069",
   "metadata": {},
   "outputs": [],
   "source": [
    "oh = OneHotEncoder()"
   ]
  },
  {
   "cell_type": "code",
   "execution_count": 40,
   "id": "2f2e7a98",
   "metadata": {},
   "outputs": [],
   "source": [
    "coded = oh.fit_transform(h_cat_en.reshape(-1,1))"
   ]
  },
  {
   "cell_type": "code",
   "execution_count": 41,
   "id": "0baa609f",
   "metadata": {},
   "outputs": [],
   "source": [
    "#coded"
   ]
  },
  {
   "cell_type": "code",
   "execution_count": null,
   "id": "ec3c6fae",
   "metadata": {},
   "outputs": [],
   "source": []
  },
  {
   "cell_type": "code",
   "execution_count": 42,
   "id": "eb20366b",
   "metadata": {},
   "outputs": [],
   "source": [
    "#coded.toarray()"
   ]
  },
  {
   "cell_type": "code",
   "execution_count": 43,
   "id": "9d589a6c",
   "metadata": {},
   "outputs": [],
   "source": [
    "proxy = pd.DataFrame(coded.toarray(), index = X.index, columns = ['1','2','3','4','5'])"
   ]
  },
  {
   "cell_type": "code",
   "execution_count": 44,
   "id": "8303d6a2",
   "metadata": {},
   "outputs": [],
   "source": [
    "#X"
   ]
  },
  {
   "cell_type": "code",
   "execution_count": 45,
   "id": "bb2125ae",
   "metadata": {},
   "outputs": [],
   "source": [
    "X = pd.concat([X, proxy], axis = 1)"
   ]
  },
  {
   "cell_type": "code",
   "execution_count": 46,
   "id": "f1b9b4e2",
   "metadata": {},
   "outputs": [],
   "source": [
    "#X"
   ]
  },
  {
   "cell_type": "code",
   "execution_count": 47,
   "id": "5d7d7006",
   "metadata": {},
   "outputs": [],
   "source": [
    "X = X.drop(['ocean_proximity'], axis = 1)"
   ]
  },
  {
   "cell_type": "code",
   "execution_count": 48,
   "id": "bd193aa2",
   "metadata": {},
   "outputs": [],
   "source": [
    "# масштабирование и стандартизация значений"
   ]
  },
  {
   "cell_type": "code",
   "execution_count": 49,
   "id": "09eb2502",
   "metadata": {},
   "outputs": [],
   "source": [
    "from sklearn.preprocessing import MinMaxScaler\n",
    "mms = MinMaxScaler()\n",
    "X = mms.fit_transform(X)"
   ]
  },
  {
   "cell_type": "code",
   "execution_count": 50,
   "id": "9e1e3d51",
   "metadata": {},
   "outputs": [],
   "source": [
    "from sklearn.preprocessing import StandardScaler\n",
    "mms = StandardScaler()\n",
    "X = mms.fit_transform(X)"
   ]
  },
  {
   "cell_type": "code",
   "execution_count": 51,
   "id": "a7b4ff36",
   "metadata": {},
   "outputs": [],
   "source": [
    "#X"
   ]
  },
  {
   "cell_type": "markdown",
   "id": "9e515684",
   "metadata": {},
   "source": [
    "Создание проверочного набора"
   ]
  },
  {
   "cell_type": "code",
   "execution_count": 52,
   "id": "68b38e4b",
   "metadata": {},
   "outputs": [],
   "source": [
    "from sklearn.model_selection import train_test_split\n",
    "\n",
    "X_train, X_test, Y_train,  Y_test =  train_test_split(X, Y, test_size = 0.2, random_state = 42)"
   ]
  },
  {
   "cell_type": "code",
   "execution_count": 53,
   "id": "23c9bc18",
   "metadata": {},
   "outputs": [
    {
     "data": {
      "text/plain": [
       "((16512, 16), (16512,))"
      ]
     },
     "execution_count": 53,
     "metadata": {},
     "output_type": "execute_result"
    }
   ],
   "source": [
    "X_train.shape, Y_train.shape"
   ]
  },
  {
   "cell_type": "code",
   "execution_count": null,
   "id": "209c7c46",
   "metadata": {},
   "outputs": [],
   "source": []
  },
  {
   "cell_type": "code",
   "execution_count": null,
   "id": "9fad1be0",
   "metadata": {},
   "outputs": [],
   "source": []
  },
  {
   "cell_type": "markdown",
   "id": "f1d521e6",
   "metadata": {},
   "source": [
    "READY to ROCK"
   ]
  },
  {
   "cell_type": "code",
   "execution_count": 54,
   "id": "19367667",
   "metadata": {},
   "outputs": [],
   "source": [
    "from sklearn.linear_model import LinearRegression\n",
    "linreg = LinearRegression()"
   ]
  },
  {
   "cell_type": "code",
   "execution_count": 55,
   "id": "faae30d1",
   "metadata": {},
   "outputs": [
    {
     "data": {
      "text/plain": [
       "LinearRegression()"
      ]
     },
     "execution_count": 55,
     "metadata": {},
     "output_type": "execute_result"
    }
   ],
   "source": [
    "linreg.fit(X_train, Y_train)"
   ]
  },
  {
   "cell_type": "code",
   "execution_count": 56,
   "id": "3d593fba",
   "metadata": {},
   "outputs": [],
   "source": [
    "someData = X_train[:6]\n",
    "someLabels = Y_train[:6]"
   ]
  },
  {
   "cell_type": "code",
   "execution_count": 57,
   "id": "457a5085",
   "metadata": {},
   "outputs": [],
   "source": [
    "# прогноз\n",
    "preds = linreg.predict(someData)"
   ]
  },
  {
   "cell_type": "code",
   "execution_count": null,
   "id": "40ed4236",
   "metadata": {},
   "outputs": [],
   "source": []
  },
  {
   "cell_type": "code",
   "execution_count": 58,
   "id": "f8deb839",
   "metadata": {},
   "outputs": [],
   "source": [
    "# Оценка на обучающем множестве"
   ]
  },
  {
   "cell_type": "code",
   "execution_count": 59,
   "id": "778fe467",
   "metadata": {},
   "outputs": [
    {
     "data": {
      "text/plain": [
       "array([181666.10584726, 290474.10584726, 244840.10584726, 146422.10584726,\n",
       "       163223.18592539, 316809.18592539])"
      ]
     },
     "execution_count": 59,
     "metadata": {},
     "output_type": "execute_result"
    }
   ],
   "source": [
    "preds"
   ]
  },
  {
   "cell_type": "code",
   "execution_count": 60,
   "id": "906d0be2",
   "metadata": {},
   "outputs": [
    {
     "data": {
      "text/plain": [
       "14196    103000.0\n",
       "8267     382100.0\n",
       "17445    172600.0\n",
       "14265     93400.0\n",
       "2271      96500.0\n",
       "17848    264800.0\n",
       "Name: median_house_value, dtype: float64"
      ]
     },
     "execution_count": 60,
     "metadata": {},
     "output_type": "execute_result"
    }
   ],
   "source": [
    "someLabels"
   ]
  },
  {
   "cell_type": "code",
   "execution_count": 61,
   "id": "9da89dd2",
   "metadata": {},
   "outputs": [
    {
     "data": {
      "text/plain": [
       "70439.78072370133"
      ]
     },
     "execution_count": 61,
     "metadata": {},
     "output_type": "execute_result"
    }
   ],
   "source": [
    "from sklearn.metrics import mean_squared_error\n",
    "import math\n",
    "mse = mean_squared_error(preds, someLabels)\n",
    "rmse = math.sqrt(mse)\n",
    "rmse"
   ]
  },
  {
   "cell_type": "code",
   "execution_count": null,
   "id": "bb124447",
   "metadata": {},
   "outputs": [],
   "source": []
  },
  {
   "cell_type": "markdown",
   "id": "0aa2459b",
   "metadata": {},
   "source": [
    "Дерево решений"
   ]
  },
  {
   "cell_type": "code",
   "execution_count": 62,
   "id": "699bc290",
   "metadata": {},
   "outputs": [],
   "source": [
    "from sklearn.tree import DecisionTreeRegressor\n",
    "tree = DecisionTreeRegressor()"
   ]
  },
  {
   "cell_type": "code",
   "execution_count": 63,
   "id": "6a164e66",
   "metadata": {},
   "outputs": [
    {
     "data": {
      "text/plain": [
       "DecisionTreeRegressor()"
      ]
     },
     "execution_count": 63,
     "metadata": {},
     "output_type": "execute_result"
    }
   ],
   "source": [
    "tree.fit(X_train, Y_train)"
   ]
  },
  {
   "cell_type": "code",
   "execution_count": 64,
   "id": "973d02d6",
   "metadata": {},
   "outputs": [],
   "source": [
    "preds = tree.predict (someData)"
   ]
  },
  {
   "cell_type": "code",
   "execution_count": 65,
   "id": "1a4e5927",
   "metadata": {},
   "outputs": [
    {
     "data": {
      "text/plain": [
       "array([103000., 382100., 172600.,  93400.,  96500., 264800.])"
      ]
     },
     "execution_count": 65,
     "metadata": {},
     "output_type": "execute_result"
    }
   ],
   "source": [
    "preds"
   ]
  },
  {
   "cell_type": "code",
   "execution_count": 66,
   "id": "238ba699",
   "metadata": {},
   "outputs": [
    {
     "data": {
      "text/plain": [
       "14196    103000.0\n",
       "8267     382100.0\n",
       "17445    172600.0\n",
       "14265     93400.0\n",
       "2271      96500.0\n",
       "17848    264800.0\n",
       "Name: median_house_value, dtype: float64"
      ]
     },
     "execution_count": 66,
     "metadata": {},
     "output_type": "execute_result"
    }
   ],
   "source": [
    "someLabels"
   ]
  },
  {
   "cell_type": "code",
   "execution_count": 67,
   "id": "7004b98a",
   "metadata": {},
   "outputs": [
    {
     "data": {
      "text/plain": [
       "0.0"
      ]
     },
     "execution_count": 67,
     "metadata": {},
     "output_type": "execute_result"
    }
   ],
   "source": [
    "from sklearn.metrics import mean_squared_error\n",
    "import math\n",
    "mse = mean_squared_error(preds, someLabels)\n",
    "rmse = math.sqrt(mse)\n",
    "rmse"
   ]
  },
  {
   "cell_type": "markdown",
   "id": "532d70fc",
   "metadata": {},
   "source": [
    "Случайный лес"
   ]
  },
  {
   "cell_type": "code",
   "execution_count": 68,
   "id": "e6a82902",
   "metadata": {},
   "outputs": [],
   "source": [
    "from sklearn.ensemble import RandomForestRegressor\n",
    "forest = RandomForestRegressor()"
   ]
  },
  {
   "cell_type": "code",
   "execution_count": 69,
   "id": "20325334",
   "metadata": {},
   "outputs": [
    {
     "data": {
      "text/plain": [
       "RandomForestRegressor()"
      ]
     },
     "execution_count": 69,
     "metadata": {},
     "output_type": "execute_result"
    }
   ],
   "source": [
    "forest.fit(X_train, Y_train)"
   ]
  },
  {
   "cell_type": "code",
   "execution_count": 70,
   "id": "23c1d430",
   "metadata": {},
   "outputs": [],
   "source": [
    "preds = forest.predict (someData)"
   ]
  },
  {
   "cell_type": "code",
   "execution_count": 71,
   "id": "a81518d9",
   "metadata": {},
   "outputs": [
    {
     "data": {
      "text/plain": [
       "array([107705.  , 382711.05, 188812.  ,  91548.  ,  96407.  , 280530.01])"
      ]
     },
     "execution_count": 71,
     "metadata": {},
     "output_type": "execute_result"
    }
   ],
   "source": [
    "preds"
   ]
  },
  {
   "cell_type": "code",
   "execution_count": 72,
   "id": "f738c9a4",
   "metadata": {},
   "outputs": [
    {
     "data": {
      "text/plain": [
       "14196    103000.0\n",
       "8267     382100.0\n",
       "17445    172600.0\n",
       "14265     93400.0\n",
       "2271      96500.0\n",
       "17848    264800.0\n",
       "Name: median_house_value, dtype: float64"
      ]
     },
     "execution_count": 72,
     "metadata": {},
     "output_type": "execute_result"
    }
   ],
   "source": [
    "someLabels"
   ]
  },
  {
   "cell_type": "code",
   "execution_count": 73,
   "id": "801bad20",
   "metadata": {},
   "outputs": [
    {
     "data": {
      "text/plain": [
       "9453.492464891835"
      ]
     },
     "execution_count": 73,
     "metadata": {},
     "output_type": "execute_result"
    }
   ],
   "source": [
    "from sklearn.metrics import mean_squared_error\n",
    "import math\n",
    "mse = mean_squared_error(preds, someLabels)\n",
    "rmse = math.sqrt(mse)\n",
    "rmse"
   ]
  },
  {
   "cell_type": "markdown",
   "id": "74072bf0",
   "metadata": {},
   "source": [
    "GRID SEARCH"
   ]
  },
  {
   "cell_type": "code",
   "execution_count": 74,
   "id": "cde01263",
   "metadata": {},
   "outputs": [],
   "source": [
    "from sklearn.model_selection import GridSearchCV\n",
    "\n",
    "param_grid = {'n_estimators': [3,10,30], 'max_features':[2,4,6,8]}\n",
    "\n",
    "forest_reg = forest = RandomForestRegressor()\n",
    "\n",
    "grid_search = GridSearchCV(forest_reg, param_grid, cv = 5, scoring = 'neg_mean_squared_error')"
   ]
  },
  {
   "cell_type": "code",
   "execution_count": 75,
   "id": "ab8a04e0",
   "metadata": {},
   "outputs": [
    {
     "data": {
      "text/plain": [
       "GridSearchCV(cv=5, estimator=RandomForestRegressor(),\n",
       "             param_grid={'max_features': [2, 4, 6, 8],\n",
       "                         'n_estimators': [3, 10, 30]},\n",
       "             scoring='neg_mean_squared_error')"
      ]
     },
     "execution_count": 75,
     "metadata": {},
     "output_type": "execute_result"
    }
   ],
   "source": [
    "grid_search.fit(X_train, Y_train)"
   ]
  },
  {
   "cell_type": "code",
   "execution_count": 76,
   "id": "7ace455d",
   "metadata": {},
   "outputs": [
    {
     "data": {
      "text/plain": [
       "{'max_features': 6, 'n_estimators': 30}"
      ]
     },
     "execution_count": 76,
     "metadata": {},
     "output_type": "execute_result"
    }
   ],
   "source": [
    "grid_search.best_params_"
   ]
  },
  {
   "cell_type": "code",
   "execution_count": 77,
   "id": "d817beac",
   "metadata": {},
   "outputs": [],
   "source": [
    "grid_forest = grid_search.best_estimator_"
   ]
  },
  {
   "cell_type": "code",
   "execution_count": 78,
   "id": "634d75a5",
   "metadata": {},
   "outputs": [],
   "source": [
    "preds = grid_forest.predict(someData)"
   ]
  },
  {
   "cell_type": "code",
   "execution_count": 79,
   "id": "2d88379a",
   "metadata": {},
   "outputs": [
    {
     "data": {
      "text/plain": [
       "array([108893.33333333, 370466.66666667, 196896.66666667,  95886.66666667,\n",
       "       102770.        , 276253.36666667])"
      ]
     },
     "execution_count": 79,
     "metadata": {},
     "output_type": "execute_result"
    }
   ],
   "source": [
    "preds"
   ]
  },
  {
   "cell_type": "code",
   "execution_count": 80,
   "id": "261eb9c9",
   "metadata": {},
   "outputs": [
    {
     "data": {
      "text/plain": [
       "14196    103000.0\n",
       "8267     382100.0\n",
       "17445    172600.0\n",
       "14265     93400.0\n",
       "2271      96500.0\n",
       "17848    264800.0\n",
       "Name: median_house_value, dtype: float64"
      ]
     },
     "execution_count": 80,
     "metadata": {},
     "output_type": "execute_result"
    }
   ],
   "source": [
    "someLabels"
   ]
  },
  {
   "cell_type": "code",
   "execution_count": 81,
   "id": "2a6eb005",
   "metadata": {},
   "outputs": [
    {
     "data": {
      "text/plain": [
       "12497.132020624798"
      ]
     },
     "execution_count": 81,
     "metadata": {},
     "output_type": "execute_result"
    }
   ],
   "source": [
    "from sklearn.metrics import mean_squared_error\n",
    "import math\n",
    "mse = mean_squared_error(preds, someLabels)\n",
    "rmse = math.sqrt(mse)\n",
    "rmse"
   ]
  },
  {
   "cell_type": "code",
   "execution_count": null,
   "id": "6afdbd14",
   "metadata": {},
   "outputs": [],
   "source": [
    "# изменить метод обработки пустых значений, как изменятся оценки(я удалила total bedrooms)\n",
    "# при линейной регрессии результат:rmse =  70439.78072370133\n",
    "# при дереве решений : rmse =  0\n",
    "# при случайном лесе :rmse = 9453.492464891835\n",
    "# при GRID SEARCH : rmse = 12497.132020624798\n",
    "#"
   ]
  },
  {
   "cell_type": "markdown",
   "id": "70ead2f0",
   "metadata": {},
   "source": [
    "Оценка на проверочном множестве"
   ]
  },
  {
   "cell_type": "code",
   "execution_count": 48,
   "id": "b196532b",
   "metadata": {},
   "outputs": [
    {
     "data": {
      "text/plain": [
       "69126.81294720496"
      ]
     },
     "execution_count": 48,
     "metadata": {},
     "output_type": "execute_result"
    }
   ],
   "source": [
    "# линейная регрессия\n",
    "Linpreds = linreg.predict(X_test)\n",
    "mse = mean_squared_error(Linpreds, Y_test)\n",
    "rmse = math.sqrt(mse)\n",
    "rmse"
   ]
  },
  {
   "cell_type": "code",
   "execution_count": 1,
   "id": "d0eb7fcc",
   "metadata": {},
   "outputs": [],
   "source": [
    "# Дерево решений\n"
   ]
  },
  {
   "cell_type": "code",
   "execution_count": 2,
   "id": "89e1156a",
   "metadata": {},
   "outputs": [],
   "source": [
    "# Случайный лес\n"
   ]
  },
  {
   "cell_type": "code",
   "execution_count": 3,
   "id": "06593e2d",
   "metadata": {},
   "outputs": [],
   "source": [
    "# Случайный лес + подгон гиперпараметров\n"
   ]
  },
  {
   "cell_type": "code",
   "execution_count": null,
   "id": "d0ef30c0",
   "metadata": {},
   "outputs": [],
   "source": []
  },
  {
   "cell_type": "markdown",
   "id": "21e84427",
   "metadata": {},
   "source": [
    "ДЗ \n",
    "1. Допишите в блоках сверху оценки на проверочном наборе для моделей: Дерево решений, Случайный лес, \n",
    "    Случайный лес после поиска гиперпараметров, по аналогии с оценками линейной модели.\n",
    "2. Попробуйте не добавлять новые признаки в набор данных - как изменятся оценки?\n",
    "3. Попробуйте изменить метод обработки пустых значений - как изменятся оценки?\n",
    "4. Попробуйте не применять масштабирование / нормирование данных - сработают ли модели?\n",
    " "
   ]
  },
  {
   "cell_type": "code",
   "execution_count": null,
   "id": "4cbfb7e1",
   "metadata": {},
   "outputs": [],
   "source": []
  }
 ],
 "metadata": {
  "kernelspec": {
   "display_name": "Python 3 (ipykernel)",
   "language": "python",
   "name": "python3"
  },
  "language_info": {
   "codemirror_mode": {
    "name": "ipython",
    "version": 3
   },
   "file_extension": ".py",
   "mimetype": "text/x-python",
   "name": "python",
   "nbconvert_exporter": "python",
   "pygments_lexer": "ipython3",
   "version": "3.9.7"
  }
 },
 "nbformat": 4,
 "nbformat_minor": 5
}
