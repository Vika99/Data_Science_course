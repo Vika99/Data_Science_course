{
 "cells": [
  {
   "cell_type": "code",
   "execution_count": 29,
   "id": "9bad219c",
   "metadata": {},
   "outputs": [],
   "source": [
    "class Stack ():\n",
    "    \n",
    "    def __init__(self):\n",
    "        self.body = []\n",
    "        self.count = 0\n",
    "        \n",
    "    def push(self,element):\n",
    "        self.body.append(element)\n",
    "        self.count +=1\n",
    "        \n",
    "    def pop(self):\n",
    "        \n",
    "        if self.count > 0:\n",
    "            self.count -=1\n",
    "            return self.body.pop()\n",
    "        else:\n",
    "            return 'empty'\n",
    "        \n",
    "    def getCount (self):\n",
    "        return self.count\n",
    "\n"
   ]
  },
  {
   "cell_type": "code",
   "execution_count": 62,
   "id": "b58aa0ce",
   "metadata": {},
   "outputs": [],
   "source": [
    "class Queue ():\n",
    "    \n",
    "    def __init__(self):\n",
    "        self.body = []\n",
    "        self.count = 0\n",
    "        \n",
    "    def push(self,element):\n",
    "        self.body.append(element)\n",
    "        self.count +=1\n",
    "        \n",
    "    def pop(self):\n",
    "        \n",
    "        if self.count > 0:\n",
    "            self.count -=1\n",
    "            \n",
    "            b = self.body[0]\n",
    "            self.body = self.body[1:]\n",
    "            \n",
    "            return b\n",
    "        else:\n",
    "            return 'empty'\n",
    "        \n",
    "    def getCount (self):\n",
    "        return self.count\n"
   ]
  },
  {
   "cell_type": "code",
   "execution_count": null,
   "id": "15c0382d",
   "metadata": {},
   "outputs": [],
   "source": []
  },
  {
   "cell_type": "code",
   "execution_count": 63,
   "id": "921dcd8f",
   "metadata": {},
   "outputs": [],
   "source": [
    "aa = Queue()"
   ]
  },
  {
   "cell_type": "code",
   "execution_count": 64,
   "id": "3afd1a03",
   "metadata": {},
   "outputs": [],
   "source": [
    "aa.push(25)"
   ]
  },
  {
   "cell_type": "code",
   "execution_count": 65,
   "id": "9c500217",
   "metadata": {},
   "outputs": [
    {
     "data": {
      "text/plain": [
       "1"
      ]
     },
     "execution_count": 65,
     "metadata": {},
     "output_type": "execute_result"
    }
   ],
   "source": [
    "aa.getCount()"
   ]
  },
  {
   "cell_type": "code",
   "execution_count": 66,
   "id": "7aeebeb5",
   "metadata": {},
   "outputs": [],
   "source": [
    "for i in range (22):\n",
    "    aa.push(i)"
   ]
  },
  {
   "cell_type": "code",
   "execution_count": 67,
   "id": "9b466967",
   "metadata": {
    "collapsed": true
   },
   "outputs": [
    {
     "name": "stdout",
     "output_type": "stream",
     "text": [
      "25\n",
      "0\n",
      "1\n",
      "2\n",
      "3\n",
      "4\n",
      "5\n",
      "6\n",
      "7\n",
      "8\n",
      "9\n",
      "10\n",
      "11\n",
      "12\n",
      "13\n",
      "14\n",
      "15\n",
      "16\n",
      "17\n",
      "18\n",
      "19\n",
      "20\n",
      "21\n"
     ]
    }
   ],
   "source": [
    "l = aa.getCount()\n",
    "for i in range(aa.getCount()):\n",
    "    print(aa.pop())"
   ]
  },
  {
   "cell_type": "code",
   "execution_count": 48,
   "id": "8b8580a4",
   "metadata": {},
   "outputs": [],
   "source": [
    "aa = [2,3,4,5,6,7,8]"
   ]
  },
  {
   "cell_type": "code",
   "execution_count": 4,
   "id": "62611137",
   "metadata": {},
   "outputs": [
    {
     "data": {
      "text/plain": [
       "7"
      ]
     },
     "execution_count": 4,
     "metadata": {},
     "output_type": "execute_result"
    }
   ],
   "source": [
    "aa.pop()"
   ]
  },
  {
   "cell_type": "code",
   "execution_count": 3,
   "id": "2d439e5d",
   "metadata": {},
   "outputs": [
    {
     "data": {
      "text/plain": [
       "[2, 3, 4, 5, 6, 7]"
      ]
     },
     "execution_count": 3,
     "metadata": {},
     "output_type": "execute_result"
    }
   ],
   "source": [
    "aa"
   ]
  },
  {
   "attachments": {
    "image.png": {
     "image/png": "[encoded data removed]"
    }
   },
   "cell_type": "markdown",
   "id": "22ca9df1",
   "metadata": {},
   "source": [
    "![image.png](attachment:image.png)"
   ]
  },
  {
   "cell_type": "code",
   "execution_count": 150,
   "id": "aaa06c79",
   "metadata": {},
   "outputs": [
    {
     "data": {
      "text/plain": [
       "[1, 0, 2, 3, 6, 7, 4, 8, 9, 10]"
      ]
     },
     "execution_count": 150,
     "metadata": {},
     "output_type": "execute_result"
    }
   ],
   "source": [
    "trace"
   ]
  },
  {
   "cell_type": "code",
   "execution_count": 148,
   "id": "fe187148",
   "metadata": {},
   "outputs": [],
   "source": [
    "\n",
    "s=[]\n",
    "s.append([1,2,3])\n",
    "s.append([0,4,5])\n",
    "s.append([0])\n",
    "s.append([0,6,7])\n",
    "s.append([1,8,9,10])\n",
    "s.append([1])\n",
    "s.append([3])\n",
    "s.append([3])\n",
    "s.append([4])\n",
    "s.append([4])\n",
    "s.append([4])\n"
   ]
  },
  {
   "cell_type": "code",
   "execution_count": 90,
   "id": "69ba1425",
   "metadata": {},
   "outputs": [
    {
     "data": {
      "text/plain": [
       "[[1, 2, 3],\n",
       " [0, 4, 5],\n",
       " [0],\n",
       " [0, 6, 7],\n",
       " [1, 8, 9, 10],\n",
       " [1],\n",
       " [3],\n",
       " [3],\n",
       " [4],\n",
       " [4],\n",
       " [4]]"
      ]
     },
     "execution_count": 90,
     "metadata": {},
     "output_type": "execute_result"
    }
   ],
   "source": [
    "s"
   ]
  },
  {
   "cell_type": "code",
   "execution_count": 114,
   "id": "2a53d8f9",
   "metadata": {},
   "outputs": [],
   "source": [
    "start = 8\n",
    "D = [None] * 11\n",
    "D[start] = 0\n",
    "Q = [start]\n",
    "Qstart = 0\n",
    "while Qstart < len(Q):\n",
    "    u = Q[Qstart]\n",
    "    Qstart += 1 \n",
    "    for v in s[u]: \n",
    "        if D[v] is None: \n",
    "            D[v] = D[u] + 1 \n",
    "            Q.append(v)"
   ]
  },
  {
   "cell_type": "code",
   "execution_count": 115,
   "id": "f8e581b0",
   "metadata": {},
   "outputs": [
    {
     "data": {
      "text/plain": [
       "[3, 2, 4, 4, 1, 3, 5, 5, 0, 2, 2]"
      ]
     },
     "execution_count": 115,
     "metadata": {},
     "output_type": "execute_result"
    }
   ],
   "source": [
    "D"
   ]
  },
  {
   "cell_type": "code",
   "execution_count": 106,
   "id": "dd01065c",
   "metadata": {},
   "outputs": [
    {
     "data": {
      "text/plain": [
       "[2, 1, 3, 3, 2, 0, 4, 4, 3, 3, 3]"
      ]
     },
     "execution_count": 106,
     "metadata": {},
     "output_type": "execute_result"
    }
   ],
   "source": [
    "D"
   ]
  },
  {
   "cell_type": "code",
   "execution_count": 145,
   "id": "ad468df2",
   "metadata": {},
   "outputs": [],
   "source": [
    "start = 5\n",
    "D = [None] * 11\n",
    "D[start] = 0\n",
    "Q = Stack()\n",
    "Q.push(start)\n",
    "trace = [start]\n",
    "while Q.getCount()>0:\n",
    "    u = Q.pop()\n",
    "    for v in s[u]: \n",
    "        if D[v] is None: \n",
    "            D[v] = D[u] + 1 \n",
    "            Q.push(v)\n",
    "            trace.append(v)"
   ]
  },
  {
   "cell_type": "code",
   "execution_count": 142,
   "id": "4b78a6f4",
   "metadata": {},
   "outputs": [
    {
     "data": {
      "text/plain": [
       "[5, 1, 0, 4, 8, 9, 10, 2, 3, 6, 7]"
      ]
     },
     "execution_count": 142,
     "metadata": {},
     "output_type": "execute_result"
    }
   ],
   "source": [
    "trace"
   ]
  },
  {
   "cell_type": "code",
   "execution_count": 76,
   "id": "af6c1a31",
   "metadata": {},
   "outputs": [],
   "source": [
    "import numpy as np\n",
    "graph = np.zeros((11,11))"
   ]
  },
  {
   "cell_type": "code",
   "execution_count": 77,
   "id": "0afb829b",
   "metadata": {},
   "outputs": [],
   "source": [
    "graph[0,1] = graph[0,2] = graph[0,3] = 1 "
   ]
  },
  {
   "cell_type": "code",
   "execution_count": 78,
   "id": "bf6a4de8",
   "metadata": {},
   "outputs": [],
   "source": [
    "graph[1,0] = graph[1,4] = graph[1,5] = 1 "
   ]
  },
  {
   "cell_type": "code",
   "execution_count": 79,
   "id": "ef6b08a0",
   "metadata": {},
   "outputs": [],
   "source": [
    "graph[2,0] = 1 "
   ]
  },
  {
   "cell_type": "code",
   "execution_count": 80,
   "id": "f6056974",
   "metadata": {},
   "outputs": [],
   "source": [
    "graph[3,0] = graph[3,6]= graph[3,7] = 1 "
   ]
  },
  {
   "cell_type": "code",
   "execution_count": 81,
   "id": "505c8065",
   "metadata": {},
   "outputs": [],
   "source": [
    "graph[4,1] = graph[4,8]= graph[4,9] = graph[4,10] = 1 "
   ]
  },
  {
   "cell_type": "code",
   "execution_count": 82,
   "id": "660f8305",
   "metadata": {},
   "outputs": [],
   "source": [
    "graph[5,1] = 1 "
   ]
  },
  {
   "cell_type": "code",
   "execution_count": 83,
   "id": "f02ef0bd",
   "metadata": {},
   "outputs": [],
   "source": [
    "graph[6,3] = 1 "
   ]
  },
  {
   "cell_type": "code",
   "execution_count": 84,
   "id": "0c79c79c",
   "metadata": {},
   "outputs": [],
   "source": [
    "graph[7,3] = 1"
   ]
  },
  {
   "cell_type": "code",
   "execution_count": 85,
   "id": "1f1eb54b",
   "metadata": {},
   "outputs": [],
   "source": [
    "graph[8,4] = graph[9,4] = graph[10,4] = 1"
   ]
  },
  {
   "cell_type": "code",
   "execution_count": 86,
   "id": "1f7ca77b",
   "metadata": {},
   "outputs": [
    {
     "data": {
      "text/plain": [
       "array([[0., 1., 1., 1., 0., 0., 0., 0., 0., 0., 0.],\n",
       "       [1., 0., 0., 0., 1., 1., 0., 0., 0., 0., 0.],\n",
       "       [1., 0., 0., 0., 0., 0., 0., 0., 0., 0., 0.],\n",
       "       [1., 0., 0., 0., 0., 0., 1., 1., 0., 0., 0.],\n",
       "       [0., 1., 0., 0., 0., 0., 0., 0., 1., 1., 1.],\n",
       "       [0., 1., 0., 0., 0., 0., 0., 0., 0., 0., 0.],\n",
       "       [0., 0., 0., 1., 0., 0., 0., 0., 0., 0., 0.],\n",
       "       [0., 0., 0., 1., 0., 0., 0., 0., 0., 0., 0.],\n",
       "       [0., 0., 0., 0., 1., 0., 0., 0., 0., 0., 0.],\n",
       "       [0., 0., 0., 0., 1., 0., 0., 0., 0., 0., 0.],\n",
       "       [0., 0., 0., 0., 1., 0., 0., 0., 0., 0., 0.]])"
      ]
     },
     "execution_count": 86,
     "metadata": {},
     "output_type": "execute_result"
    }
   ],
   "source": [
    "graph"
   ]
  },
  {
   "cell_type": "code",
   "execution_count": null,
   "id": "e166724d",
   "metadata": {},
   "outputs": [],
   "source": []
  },
  {
   "cell_type": "code",
   "execution_count": null,
   "id": "934fb1d0",
   "metadata": {},
   "outputs": [],
   "source": []
  },
  {
   "cell_type": "code",
   "execution_count": 126,
   "id": "606e2f3f",
   "metadata": {},
   "outputs": [],
   "source": [
    "n=10"
   ]
  },
  {
   "cell_type": "code",
   "execution_count": 149,
   "id": "e23211cc",
   "metadata": {},
   "outputs": [],
   "source": [
    "visited = [False] * (n + 1)\n",
    "prev = [None] * (n + 1)\n",
    "trace = []\n",
    "\n",
    "def dfs(start, visited, prev, g):\n",
    "    visited[start] = True\n",
    "    for u in g[start]:\n",
    "        if not visited[u]:\n",
    "            prev[u] = start \n",
    "            trace.append(u)\n",
    "            dfs(u, visited, prev, g)\n",
    "\n",
    "dfs(5,visited, prev, s)"
   ]
  },
  {
   "cell_type": "code",
   "execution_count": 130,
   "id": "37367d6e",
   "metadata": {},
   "outputs": [
    {
     "data": {
      "text/plain": [
       "[None, 0, 0, 0, 1, 1, 3, 3, 4, 4, 4]"
      ]
     },
     "execution_count": 130,
     "metadata": {},
     "output_type": "execute_result"
    }
   ],
   "source": [
    "prev"
   ]
  },
  {
   "cell_type": "code",
   "execution_count": 134,
   "id": "8c18f613",
   "metadata": {},
   "outputs": [
    {
     "data": {
      "text/plain": [
       "[1, 4, 8, 9, 10, 5, 2, 3, 6, 7]"
      ]
     },
     "execution_count": 134,
     "metadata": {},
     "output_type": "execute_result"
    }
   ],
   "source": [
    "trace"
   ]
  },
  {
   "cell_type": "code",
   "execution_count": null,
   "id": "ed075a33",
   "metadata": {},
   "outputs": [],
   "source": []
  },
  {
   "cell_type": "code",
   "execution_count": 45,
   "id": "b81b09bd",
   "metadata": {},
   "outputs": [
    {
     "name": "stdout",
     "output_type": "stream",
     "text": [
      "4 6\n",
      "0 1 1\n",
      "0 2 2\n",
      "0 3 1\n",
      "1 3 1\n",
      "1 2 3\n",
      "2 3 4\n"
     ]
    }
   ],
   "source": [
    "N, M = map(int, input().split())\n",
    "Edges = []\n",
    "for i in range(M):\n",
    "    start, end, weight = map(int, input().split())\n",
    "    Edges.append([weight, start, end])\n",
    "Edges.sort(key=lambda item: item[0])\n",
    "Comp = [i for i in range(N)]\n",
    "Ans = 0\n",
    "bones = []\n"
   ]
  },
  {
   "cell_type": "code",
   "execution_count": 46,
   "id": "ef1bbd35",
   "metadata": {},
   "outputs": [
    {
     "data": {
      "text/plain": [
       "[[1, 0, 1], [1, 0, 3], [1, 1, 3], [2, 0, 2], [3, 1, 2], [4, 2, 3]]"
      ]
     },
     "execution_count": 46,
     "metadata": {},
     "output_type": "execute_result"
    }
   ],
   "source": [
    "Edges"
   ]
  },
  {
   "cell_type": "code",
   "execution_count": 49,
   "id": "4aa7ae9e",
   "metadata": {},
   "outputs": [
    {
     "data": {
      "text/plain": [
       "4"
      ]
     },
     "execution_count": 49,
     "metadata": {},
     "output_type": "execute_result"
    }
   ],
   "source": [
    "Ans"
   ]
  },
  {
   "cell_type": "code",
   "execution_count": 37,
   "id": "b5eab866",
   "metadata": {},
   "outputs": [
    {
     "data": {
      "text/plain": [
       "[0, 1, 2, 3]"
      ]
     },
     "execution_count": 37,
     "metadata": {},
     "output_type": "execute_result"
    }
   ],
   "source": [
    "Comp"
   ]
  },
  {
   "cell_type": "code",
   "execution_count": 47,
   "id": "06ca4b56",
   "metadata": {},
   "outputs": [],
   "source": [
    "for weight, start, end in Edges:\n",
    "    if Comp[start] != Comp[end]:\n",
    "        Ans += weight\n",
    "        a = Comp[start]\n",
    "        b = Comp[end]\n",
    "        bones.append([start,end])        \n",
    "        for i in range(N):\n",
    "            if Comp[i] == b:\n",
    "                Comp[i] = a"
   ]
  },
  {
   "cell_type": "code",
   "execution_count": 30,
   "id": "ea49ec30",
   "metadata": {},
   "outputs": [
    {
     "data": {
      "text/plain": [
       "(0, 3)"
      ]
     },
     "execution_count": 30,
     "metadata": {},
     "output_type": "execute_result"
    }
   ],
   "source": [
    "start, end"
   ]
  },
  {
   "cell_type": "code",
   "execution_count": 48,
   "id": "907f3dbf",
   "metadata": {},
   "outputs": [
    {
     "data": {
      "text/plain": [
       "[[0, 1], [0, 3], [0, 2]]"
      ]
     },
     "execution_count": 48,
     "metadata": {},
     "output_type": "execute_result"
    }
   ],
   "source": [
    "bones"
   ]
  },
  {
   "cell_type": "code",
   "execution_count": null,
   "id": "50f8ec81",
   "metadata": {},
   "outputs": [],
   "source": []
  }
 ],
 "metadata": {
  "kernelspec": {
   "display_name": "Python 3 (ipykernel)",
   "language": "python",
   "name": "python3"
  },
  "language_info": {
   "codemirror_mode": {
    "name": "ipython",
    "version": 3
   },
   "file_extension": ".py",
   "mimetype": "text/x-python",
   "name": "python",
   "nbconvert_exporter": "python",
   "pygments_lexer": "ipython3",
   "version": "3.9.7"
  }
 },
 "nbformat": 4,
 "nbformat_minor": 5
}
