{
 "cells": [
  {
   "cell_type": "code",
   "execution_count": 123,
   "id": "ad61ed9f",
   "metadata": {},
   "outputs": [],
   "source": [
    "#ДЕЛАЕМ ДЛЯ ЕВРО ДОЛЛАР\n",
    "import pandas as pd"
   ]
  },
  {
   "cell_type": "code",
   "execution_count": 124,
   "id": "1ec2290b",
   "metadata": {},
   "outputs": [],
   "source": [
    "EUR = pd.read_csv('EURUSD_M5_202201030005_202208081305.csv', sep = '\\t')\n",
    "#  sep = '\\t' - разделитель столбиков "
   ]
  },
  {
   "cell_type": "code",
   "execution_count": 125,
   "id": "b0f668cc",
   "metadata": {},
   "outputs": [
    {
     "data": {
      "text/html": [
       "<div>\n",
       "<style scoped>\n",
       "    .dataframe tbody tr th:only-of-type {\n",
       "        vertical-align: middle;\n",
       "    }\n",
       "\n",
       "    .dataframe tbody tr th {\n",
       "        vertical-align: top;\n",
       "    }\n",
       "\n",
       "    .dataframe thead th {\n",
       "        text-align: right;\n",
       "    }\n",
       "</style>\n",
       "<table border=\"1\" class=\"dataframe\">\n",
       "  <thead>\n",
       "    <tr style=\"text-align: right;\">\n",
       "      <th></th>\n",
       "      <th>&lt;DATE&gt;</th>\n",
       "      <th>&lt;TIME&gt;</th>\n",
       "      <th>&lt;OPEN&gt;</th>\n",
       "      <th>&lt;HIGH&gt;</th>\n",
       "      <th>&lt;LOW&gt;</th>\n",
       "      <th>&lt;CLOSE&gt;</th>\n",
       "      <th>&lt;TICKVOL&gt;</th>\n",
       "      <th>&lt;VOL&gt;</th>\n",
       "      <th>&lt;SPREAD&gt;</th>\n",
       "    </tr>\n",
       "  </thead>\n",
       "  <tbody>\n",
       "    <tr>\n",
       "      <th>0</th>\n",
       "      <td>2022.01.03</td>\n",
       "      <td>00:05:00</td>\n",
       "      <td>1.13693</td>\n",
       "      <td>1.13693</td>\n",
       "      <td>1.13645</td>\n",
       "      <td>1.13674</td>\n",
       "      <td>49</td>\n",
       "      <td>0</td>\n",
       "      <td>31</td>\n",
       "    </tr>\n",
       "    <tr>\n",
       "      <th>1</th>\n",
       "      <td>2022.01.03</td>\n",
       "      <td>00:10:00</td>\n",
       "      <td>1.13674</td>\n",
       "      <td>1.13729</td>\n",
       "      <td>1.13669</td>\n",
       "      <td>1.13713</td>\n",
       "      <td>49</td>\n",
       "      <td>0</td>\n",
       "      <td>22</td>\n",
       "    </tr>\n",
       "    <tr>\n",
       "      <th>2</th>\n",
       "      <td>2022.01.03</td>\n",
       "      <td>00:15:00</td>\n",
       "      <td>1.13708</td>\n",
       "      <td>1.13723</td>\n",
       "      <td>1.13699</td>\n",
       "      <td>1.13719</td>\n",
       "      <td>43</td>\n",
       "      <td>0</td>\n",
       "      <td>37</td>\n",
       "    </tr>\n",
       "    <tr>\n",
       "      <th>3</th>\n",
       "      <td>2022.01.03</td>\n",
       "      <td>00:20:00</td>\n",
       "      <td>1.13689</td>\n",
       "      <td>1.13709</td>\n",
       "      <td>1.13688</td>\n",
       "      <td>1.13708</td>\n",
       "      <td>26</td>\n",
       "      <td>0</td>\n",
       "      <td>61</td>\n",
       "    </tr>\n",
       "    <tr>\n",
       "      <th>4</th>\n",
       "      <td>2022.01.03</td>\n",
       "      <td>00:25:00</td>\n",
       "      <td>1.13707</td>\n",
       "      <td>1.13717</td>\n",
       "      <td>1.13692</td>\n",
       "      <td>1.13708</td>\n",
       "      <td>35</td>\n",
       "      <td>0</td>\n",
       "      <td>65</td>\n",
       "    </tr>\n",
       "    <tr>\n",
       "      <th>...</th>\n",
       "      <td>...</td>\n",
       "      <td>...</td>\n",
       "      <td>...</td>\n",
       "      <td>...</td>\n",
       "      <td>...</td>\n",
       "      <td>...</td>\n",
       "      <td>...</td>\n",
       "      <td>...</td>\n",
       "      <td>...</td>\n",
       "    </tr>\n",
       "    <tr>\n",
       "      <th>44736</th>\n",
       "      <td>2022.08.08</td>\n",
       "      <td>12:45:00</td>\n",
       "      <td>1.01790</td>\n",
       "      <td>1.01823</td>\n",
       "      <td>1.01786</td>\n",
       "      <td>1.01798</td>\n",
       "      <td>393</td>\n",
       "      <td>0</td>\n",
       "      <td>0</td>\n",
       "    </tr>\n",
       "    <tr>\n",
       "      <th>44737</th>\n",
       "      <td>2022.08.08</td>\n",
       "      <td>12:50:00</td>\n",
       "      <td>1.01800</td>\n",
       "      <td>1.01859</td>\n",
       "      <td>1.01788</td>\n",
       "      <td>1.01848</td>\n",
       "      <td>377</td>\n",
       "      <td>0</td>\n",
       "      <td>0</td>\n",
       "    </tr>\n",
       "    <tr>\n",
       "      <th>44738</th>\n",
       "      <td>2022.08.08</td>\n",
       "      <td>12:55:00</td>\n",
       "      <td>1.01848</td>\n",
       "      <td>1.01892</td>\n",
       "      <td>1.01843</td>\n",
       "      <td>1.01876</td>\n",
       "      <td>437</td>\n",
       "      <td>0</td>\n",
       "      <td>0</td>\n",
       "    </tr>\n",
       "    <tr>\n",
       "      <th>44739</th>\n",
       "      <td>2022.08.08</td>\n",
       "      <td>13:00:00</td>\n",
       "      <td>1.01877</td>\n",
       "      <td>1.01902</td>\n",
       "      <td>1.01861</td>\n",
       "      <td>1.01864</td>\n",
       "      <td>344</td>\n",
       "      <td>0</td>\n",
       "      <td>0</td>\n",
       "    </tr>\n",
       "    <tr>\n",
       "      <th>44740</th>\n",
       "      <td>2022.08.08</td>\n",
       "      <td>13:05:00</td>\n",
       "      <td>1.01864</td>\n",
       "      <td>1.01881</td>\n",
       "      <td>1.01851</td>\n",
       "      <td>1.01865</td>\n",
       "      <td>262</td>\n",
       "      <td>0</td>\n",
       "      <td>0</td>\n",
       "    </tr>\n",
       "  </tbody>\n",
       "</table>\n",
       "<p>44741 rows × 9 columns</p>\n",
       "</div>"
      ],
      "text/plain": [
       "           <DATE>    <TIME>   <OPEN>   <HIGH>    <LOW>  <CLOSE>  <TICKVOL>  \\\n",
       "0      2022.01.03  00:05:00  1.13693  1.13693  1.13645  1.13674         49   \n",
       "1      2022.01.03  00:10:00  1.13674  1.13729  1.13669  1.13713         49   \n",
       "2      2022.01.03  00:15:00  1.13708  1.13723  1.13699  1.13719         43   \n",
       "3      2022.01.03  00:20:00  1.13689  1.13709  1.13688  1.13708         26   \n",
       "4      2022.01.03  00:25:00  1.13707  1.13717  1.13692  1.13708         35   \n",
       "...           ...       ...      ...      ...      ...      ...        ...   \n",
       "44736  2022.08.08  12:45:00  1.01790  1.01823  1.01786  1.01798        393   \n",
       "44737  2022.08.08  12:50:00  1.01800  1.01859  1.01788  1.01848        377   \n",
       "44738  2022.08.08  12:55:00  1.01848  1.01892  1.01843  1.01876        437   \n",
       "44739  2022.08.08  13:00:00  1.01877  1.01902  1.01861  1.01864        344   \n",
       "44740  2022.08.08  13:05:00  1.01864  1.01881  1.01851  1.01865        262   \n",
       "\n",
       "       <VOL>  <SPREAD>  \n",
       "0          0        31  \n",
       "1          0        22  \n",
       "2          0        37  \n",
       "3          0        61  \n",
       "4          0        65  \n",
       "...      ...       ...  \n",
       "44736      0         0  \n",
       "44737      0         0  \n",
       "44738      0         0  \n",
       "44739      0         0  \n",
       "44740      0         0  \n",
       "\n",
       "[44741 rows x 9 columns]"
      ]
     },
     "execution_count": 125,
     "metadata": {},
     "output_type": "execute_result"
    }
   ],
   "source": [
    "EUR"
   ]
  },
  {
   "cell_type": "code",
   "execution_count": 126,
   "id": "2290fb20",
   "metadata": {},
   "outputs": [],
   "source": [
    "JPY = pd.read_csv('USDJPY_M5_202201030005_202208081310.csv', sep = '\\t')\n",
    "CHF = pd.read_csv('USDCHF_M5_202201030005_202208081310.csv', sep = '\\t')\n",
    "GBP = pd.read_csv('USDCHF_M5_202201030005_202208081310.csv', sep = '\\t')\n",
    "#  sep = '\\t' - разделитель столбиков "
   ]
  },
  {
   "cell_type": "code",
   "execution_count": 127,
   "id": "7802bd1f",
   "metadata": {},
   "outputs": [],
   "source": [
    "EUR['DT']= EUR['<DATE>']+ EUR['<TIME>']"
   ]
  },
  {
   "cell_type": "code",
   "execution_count": 128,
   "id": "6ef0ecd9",
   "metadata": {},
   "outputs": [],
   "source": [
    "CHF['DT']= CHF['<DATE>']+ CHF['<TIME>']"
   ]
  },
  {
   "cell_type": "code",
   "execution_count": 129,
   "id": "d64b451f",
   "metadata": {},
   "outputs": [],
   "source": [
    "GBP['DT']= GBP['<DATE>']+ GBP['<TIME>']"
   ]
  },
  {
   "cell_type": "code",
   "execution_count": 130,
   "id": "88fcd313",
   "metadata": {},
   "outputs": [],
   "source": [
    "JPY['DT']= JPY['<DATE>']+ JPY['<TIME>']"
   ]
  },
  {
   "cell_type": "code",
   "execution_count": 131,
   "id": "be2e5c32",
   "metadata": {},
   "outputs": [],
   "source": [
    "EUR = EUR.drop(['<DATE>','<TIME>','<VOL>','<SPREAD>'],axis = 1)"
   ]
  },
  {
   "cell_type": "code",
   "execution_count": 132,
   "id": "81f40bb4",
   "metadata": {},
   "outputs": [],
   "source": [
    "CHF = CHF.drop(['<DATE>','<TIME>','<VOL>','<SPREAD>'],axis = 1)"
   ]
  },
  {
   "cell_type": "code",
   "execution_count": 133,
   "id": "c3457bb5",
   "metadata": {},
   "outputs": [],
   "source": [
    "GBP = GBP.drop(['<DATE>','<TIME>','<VOL>','<SPREAD>'],axis = 1)"
   ]
  },
  {
   "cell_type": "code",
   "execution_count": 134,
   "id": "aa8d94ff",
   "metadata": {},
   "outputs": [],
   "source": [
    "JPY = JPY.drop(['<DATE>','<TIME>','<VOL>','<SPREAD>'],axis = 1)"
   ]
  },
  {
   "cell_type": "code",
   "execution_count": 135,
   "id": "2e389c4b",
   "metadata": {},
   "outputs": [],
   "source": [
    "JPY = JPY.rename(columns = {'<OPEN>':'o_j','<HIGH>':'h_j','<LOW>':'l_j','<CLOSE>':'c_j','<TICKVOL>':'vol_j' })\n",
    "GBP = GBP.rename(columns = {'<OPEN>':'o_g','<HIGH>':'h_g','<LOW>':'l_g','<CLOSE>':'c_g','<TICKVOL>':'vol_g' })\n",
    "CHF = CHF.rename(columns = {'<OPEN>':'o_c','<HIGH>':'h_c','<LOW>':'l_c','<CLOSE>':'c_c','<TICKVOL>':'vol_c' })\n",
    "EUR = EUR.rename(columns = {'<OPEN>':'o_e','<HIGH>':'h_e','<LOW>':'l_e','<CLOSE>':'c_e','<TICKVOL>':'vol_e' })"
   ]
  },
  {
   "cell_type": "code",
   "execution_count": 136,
   "id": "81f6ad32",
   "metadata": {},
   "outputs": [],
   "source": [
    "data = EUR.merge(right = GBP, how = 'left',on = 'DT' )"
   ]
  },
  {
   "cell_type": "code",
   "execution_count": 137,
   "id": "1d79ed1e",
   "metadata": {},
   "outputs": [],
   "source": [
    "data = data.merge(right = CHF, how = 'left',on = 'DT' )"
   ]
  },
  {
   "cell_type": "code",
   "execution_count": 138,
   "id": "39414915",
   "metadata": {},
   "outputs": [],
   "source": [
    "data = data.merge(right = JPY, how = 'left',on = 'DT' )"
   ]
  },
  {
   "cell_type": "code",
   "execution_count": 139,
   "id": "c47eefe8",
   "metadata": {},
   "outputs": [
    {
     "data": {
      "text/html": [
       "<div>\n",
       "<style scoped>\n",
       "    .dataframe tbody tr th:only-of-type {\n",
       "        vertical-align: middle;\n",
       "    }\n",
       "\n",
       "    .dataframe tbody tr th {\n",
       "        vertical-align: top;\n",
       "    }\n",
       "\n",
       "    .dataframe thead th {\n",
       "        text-align: right;\n",
       "    }\n",
       "</style>\n",
       "<table border=\"1\" class=\"dataframe\">\n",
       "  <thead>\n",
       "    <tr style=\"text-align: right;\">\n",
       "      <th></th>\n",
       "      <th>o_e</th>\n",
       "      <th>h_e</th>\n",
       "      <th>l_e</th>\n",
       "      <th>c_e</th>\n",
       "      <th>vol_e</th>\n",
       "      <th>DT</th>\n",
       "      <th>o_g</th>\n",
       "      <th>h_g</th>\n",
       "      <th>l_g</th>\n",
       "      <th>c_g</th>\n",
       "      <th>...</th>\n",
       "      <th>o_c</th>\n",
       "      <th>h_c</th>\n",
       "      <th>l_c</th>\n",
       "      <th>c_c</th>\n",
       "      <th>vol_c</th>\n",
       "      <th>o_j</th>\n",
       "      <th>h_j</th>\n",
       "      <th>l_j</th>\n",
       "      <th>c_j</th>\n",
       "      <th>vol_j</th>\n",
       "    </tr>\n",
       "  </thead>\n",
       "  <tbody>\n",
       "    <tr>\n",
       "      <th>0</th>\n",
       "      <td>1.13693</td>\n",
       "      <td>1.13693</td>\n",
       "      <td>1.13645</td>\n",
       "      <td>1.13674</td>\n",
       "      <td>49</td>\n",
       "      <td>2022.01.0300:05:00</td>\n",
       "      <td>0.91106</td>\n",
       "      <td>0.91164</td>\n",
       "      <td>0.91099</td>\n",
       "      <td>0.91164</td>\n",
       "      <td>...</td>\n",
       "      <td>0.91106</td>\n",
       "      <td>0.91164</td>\n",
       "      <td>0.91099</td>\n",
       "      <td>0.91164</td>\n",
       "      <td>14.0</td>\n",
       "      <td>115.058</td>\n",
       "      <td>115.076</td>\n",
       "      <td>115.022</td>\n",
       "      <td>115.032</td>\n",
       "      <td>26.0</td>\n",
       "    </tr>\n",
       "    <tr>\n",
       "      <th>1</th>\n",
       "      <td>1.13674</td>\n",
       "      <td>1.13729</td>\n",
       "      <td>1.13669</td>\n",
       "      <td>1.13713</td>\n",
       "      <td>49</td>\n",
       "      <td>2022.01.0300:10:00</td>\n",
       "      <td>0.91163</td>\n",
       "      <td>0.91164</td>\n",
       "      <td>0.91105</td>\n",
       "      <td>0.91108</td>\n",
       "      <td>...</td>\n",
       "      <td>0.91163</td>\n",
       "      <td>0.91164</td>\n",
       "      <td>0.91105</td>\n",
       "      <td>0.91108</td>\n",
       "      <td>42.0</td>\n",
       "      <td>115.033</td>\n",
       "      <td>115.058</td>\n",
       "      <td>115.022</td>\n",
       "      <td>115.058</td>\n",
       "      <td>38.0</td>\n",
       "    </tr>\n",
       "    <tr>\n",
       "      <th>2</th>\n",
       "      <td>1.13708</td>\n",
       "      <td>1.13723</td>\n",
       "      <td>1.13699</td>\n",
       "      <td>1.13719</td>\n",
       "      <td>43</td>\n",
       "      <td>2022.01.0300:15:00</td>\n",
       "      <td>0.91108</td>\n",
       "      <td>0.91158</td>\n",
       "      <td>0.91097</td>\n",
       "      <td>0.91105</td>\n",
       "      <td>...</td>\n",
       "      <td>0.91108</td>\n",
       "      <td>0.91158</td>\n",
       "      <td>0.91097</td>\n",
       "      <td>0.91105</td>\n",
       "      <td>42.0</td>\n",
       "      <td>115.058</td>\n",
       "      <td>115.111</td>\n",
       "      <td>115.031</td>\n",
       "      <td>115.111</td>\n",
       "      <td>52.0</td>\n",
       "    </tr>\n",
       "    <tr>\n",
       "      <th>3</th>\n",
       "      <td>1.13689</td>\n",
       "      <td>1.13709</td>\n",
       "      <td>1.13688</td>\n",
       "      <td>1.13708</td>\n",
       "      <td>26</td>\n",
       "      <td>2022.01.0300:20:00</td>\n",
       "      <td>0.91159</td>\n",
       "      <td>0.91159</td>\n",
       "      <td>0.91091</td>\n",
       "      <td>0.91119</td>\n",
       "      <td>...</td>\n",
       "      <td>0.91159</td>\n",
       "      <td>0.91159</td>\n",
       "      <td>0.91091</td>\n",
       "      <td>0.91119</td>\n",
       "      <td>40.0</td>\n",
       "      <td>115.093</td>\n",
       "      <td>115.113</td>\n",
       "      <td>115.051</td>\n",
       "      <td>115.113</td>\n",
       "      <td>12.0</td>\n",
       "    </tr>\n",
       "    <tr>\n",
       "      <th>4</th>\n",
       "      <td>1.13707</td>\n",
       "      <td>1.13717</td>\n",
       "      <td>1.13692</td>\n",
       "      <td>1.13708</td>\n",
       "      <td>35</td>\n",
       "      <td>2022.01.0300:25:00</td>\n",
       "      <td>0.90981</td>\n",
       "      <td>0.91131</td>\n",
       "      <td>0.90981</td>\n",
       "      <td>0.91119</td>\n",
       "      <td>...</td>\n",
       "      <td>0.90981</td>\n",
       "      <td>0.91131</td>\n",
       "      <td>0.90981</td>\n",
       "      <td>0.91119</td>\n",
       "      <td>7.0</td>\n",
       "      <td>115.093</td>\n",
       "      <td>115.113</td>\n",
       "      <td>115.080</td>\n",
       "      <td>115.092</td>\n",
       "      <td>12.0</td>\n",
       "    </tr>\n",
       "    <tr>\n",
       "      <th>...</th>\n",
       "      <td>...</td>\n",
       "      <td>...</td>\n",
       "      <td>...</td>\n",
       "      <td>...</td>\n",
       "      <td>...</td>\n",
       "      <td>...</td>\n",
       "      <td>...</td>\n",
       "      <td>...</td>\n",
       "      <td>...</td>\n",
       "      <td>...</td>\n",
       "      <td>...</td>\n",
       "      <td>...</td>\n",
       "      <td>...</td>\n",
       "      <td>...</td>\n",
       "      <td>...</td>\n",
       "      <td>...</td>\n",
       "      <td>...</td>\n",
       "      <td>...</td>\n",
       "      <td>...</td>\n",
       "      <td>...</td>\n",
       "      <td>...</td>\n",
       "    </tr>\n",
       "    <tr>\n",
       "      <th>44736</th>\n",
       "      <td>1.01790</td>\n",
       "      <td>1.01823</td>\n",
       "      <td>1.01786</td>\n",
       "      <td>1.01798</td>\n",
       "      <td>393</td>\n",
       "      <td>2022.08.0812:45:00</td>\n",
       "      <td>0.95890</td>\n",
       "      <td>0.95908</td>\n",
       "      <td>0.95877</td>\n",
       "      <td>0.95906</td>\n",
       "      <td>...</td>\n",
       "      <td>0.95890</td>\n",
       "      <td>0.95908</td>\n",
       "      <td>0.95877</td>\n",
       "      <td>0.95906</td>\n",
       "      <td>212.0</td>\n",
       "      <td>135.066</td>\n",
       "      <td>135.068</td>\n",
       "      <td>135.012</td>\n",
       "      <td>135.038</td>\n",
       "      <td>888.0</td>\n",
       "    </tr>\n",
       "    <tr>\n",
       "      <th>44737</th>\n",
       "      <td>1.01800</td>\n",
       "      <td>1.01859</td>\n",
       "      <td>1.01788</td>\n",
       "      <td>1.01848</td>\n",
       "      <td>377</td>\n",
       "      <td>2022.08.0812:50:00</td>\n",
       "      <td>0.95906</td>\n",
       "      <td>0.95918</td>\n",
       "      <td>0.95895</td>\n",
       "      <td>0.95904</td>\n",
       "      <td>...</td>\n",
       "      <td>0.95906</td>\n",
       "      <td>0.95918</td>\n",
       "      <td>0.95895</td>\n",
       "      <td>0.95904</td>\n",
       "      <td>223.0</td>\n",
       "      <td>135.039</td>\n",
       "      <td>135.087</td>\n",
       "      <td>135.027</td>\n",
       "      <td>135.055</td>\n",
       "      <td>1019.0</td>\n",
       "    </tr>\n",
       "    <tr>\n",
       "      <th>44738</th>\n",
       "      <td>1.01848</td>\n",
       "      <td>1.01892</td>\n",
       "      <td>1.01843</td>\n",
       "      <td>1.01876</td>\n",
       "      <td>437</td>\n",
       "      <td>2022.08.0812:55:00</td>\n",
       "      <td>0.95905</td>\n",
       "      <td>0.95906</td>\n",
       "      <td>0.95862</td>\n",
       "      <td>0.95864</td>\n",
       "      <td>...</td>\n",
       "      <td>0.95905</td>\n",
       "      <td>0.95906</td>\n",
       "      <td>0.95862</td>\n",
       "      <td>0.95864</td>\n",
       "      <td>198.0</td>\n",
       "      <td>135.055</td>\n",
       "      <td>135.065</td>\n",
       "      <td>135.004</td>\n",
       "      <td>135.014</td>\n",
       "      <td>879.0</td>\n",
       "    </tr>\n",
       "    <tr>\n",
       "      <th>44739</th>\n",
       "      <td>1.01877</td>\n",
       "      <td>1.01902</td>\n",
       "      <td>1.01861</td>\n",
       "      <td>1.01864</td>\n",
       "      <td>344</td>\n",
       "      <td>2022.08.0813:00:00</td>\n",
       "      <td>0.95863</td>\n",
       "      <td>0.95869</td>\n",
       "      <td>0.95827</td>\n",
       "      <td>0.95863</td>\n",
       "      <td>...</td>\n",
       "      <td>0.95863</td>\n",
       "      <td>0.95869</td>\n",
       "      <td>0.95827</td>\n",
       "      <td>0.95863</td>\n",
       "      <td>258.0</td>\n",
       "      <td>135.014</td>\n",
       "      <td>135.068</td>\n",
       "      <td>134.997</td>\n",
       "      <td>135.066</td>\n",
       "      <td>957.0</td>\n",
       "    </tr>\n",
       "    <tr>\n",
       "      <th>44740</th>\n",
       "      <td>1.01864</td>\n",
       "      <td>1.01881</td>\n",
       "      <td>1.01851</td>\n",
       "      <td>1.01865</td>\n",
       "      <td>262</td>\n",
       "      <td>2022.08.0813:05:00</td>\n",
       "      <td>0.95863</td>\n",
       "      <td>0.95865</td>\n",
       "      <td>0.95794</td>\n",
       "      <td>0.95795</td>\n",
       "      <td>...</td>\n",
       "      <td>0.95863</td>\n",
       "      <td>0.95865</td>\n",
       "      <td>0.95794</td>\n",
       "      <td>0.95795</td>\n",
       "      <td>230.0</td>\n",
       "      <td>135.067</td>\n",
       "      <td>135.073</td>\n",
       "      <td>134.936</td>\n",
       "      <td>134.975</td>\n",
       "      <td>910.0</td>\n",
       "    </tr>\n",
       "  </tbody>\n",
       "</table>\n",
       "<p>44741 rows × 21 columns</p>\n",
       "</div>"
      ],
      "text/plain": [
       "           o_e      h_e      l_e      c_e  vol_e                  DT      o_g  \\\n",
       "0      1.13693  1.13693  1.13645  1.13674     49  2022.01.0300:05:00  0.91106   \n",
       "1      1.13674  1.13729  1.13669  1.13713     49  2022.01.0300:10:00  0.91163   \n",
       "2      1.13708  1.13723  1.13699  1.13719     43  2022.01.0300:15:00  0.91108   \n",
       "3      1.13689  1.13709  1.13688  1.13708     26  2022.01.0300:20:00  0.91159   \n",
       "4      1.13707  1.13717  1.13692  1.13708     35  2022.01.0300:25:00  0.90981   \n",
       "...        ...      ...      ...      ...    ...                 ...      ...   \n",
       "44736  1.01790  1.01823  1.01786  1.01798    393  2022.08.0812:45:00  0.95890   \n",
       "44737  1.01800  1.01859  1.01788  1.01848    377  2022.08.0812:50:00  0.95906   \n",
       "44738  1.01848  1.01892  1.01843  1.01876    437  2022.08.0812:55:00  0.95905   \n",
       "44739  1.01877  1.01902  1.01861  1.01864    344  2022.08.0813:00:00  0.95863   \n",
       "44740  1.01864  1.01881  1.01851  1.01865    262  2022.08.0813:05:00  0.95863   \n",
       "\n",
       "           h_g      l_g      c_g  ...      o_c      h_c      l_c      c_c  \\\n",
       "0      0.91164  0.91099  0.91164  ...  0.91106  0.91164  0.91099  0.91164   \n",
       "1      0.91164  0.91105  0.91108  ...  0.91163  0.91164  0.91105  0.91108   \n",
       "2      0.91158  0.91097  0.91105  ...  0.91108  0.91158  0.91097  0.91105   \n",
       "3      0.91159  0.91091  0.91119  ...  0.91159  0.91159  0.91091  0.91119   \n",
       "4      0.91131  0.90981  0.91119  ...  0.90981  0.91131  0.90981  0.91119   \n",
       "...        ...      ...      ...  ...      ...      ...      ...      ...   \n",
       "44736  0.95908  0.95877  0.95906  ...  0.95890  0.95908  0.95877  0.95906   \n",
       "44737  0.95918  0.95895  0.95904  ...  0.95906  0.95918  0.95895  0.95904   \n",
       "44738  0.95906  0.95862  0.95864  ...  0.95905  0.95906  0.95862  0.95864   \n",
       "44739  0.95869  0.95827  0.95863  ...  0.95863  0.95869  0.95827  0.95863   \n",
       "44740  0.95865  0.95794  0.95795  ...  0.95863  0.95865  0.95794  0.95795   \n",
       "\n",
       "       vol_c      o_j      h_j      l_j      c_j   vol_j  \n",
       "0       14.0  115.058  115.076  115.022  115.032    26.0  \n",
       "1       42.0  115.033  115.058  115.022  115.058    38.0  \n",
       "2       42.0  115.058  115.111  115.031  115.111    52.0  \n",
       "3       40.0  115.093  115.113  115.051  115.113    12.0  \n",
       "4        7.0  115.093  115.113  115.080  115.092    12.0  \n",
       "...      ...      ...      ...      ...      ...     ...  \n",
       "44736  212.0  135.066  135.068  135.012  135.038   888.0  \n",
       "44737  223.0  135.039  135.087  135.027  135.055  1019.0  \n",
       "44738  198.0  135.055  135.065  135.004  135.014   879.0  \n",
       "44739  258.0  135.014  135.068  134.997  135.066   957.0  \n",
       "44740  230.0  135.067  135.073  134.936  134.975   910.0  \n",
       "\n",
       "[44741 rows x 21 columns]"
      ]
     },
     "execution_count": 139,
     "metadata": {},
     "output_type": "execute_result"
    }
   ],
   "source": [
    "data"
   ]
  },
  {
   "cell_type": "code",
   "execution_count": 140,
   "id": "bcd2b0d4",
   "metadata": {},
   "outputs": [
    {
     "data": {
      "text/plain": [
       "((44728, 6), (44741, 6))"
      ]
     },
     "execution_count": 140,
     "metadata": {},
     "output_type": "execute_result"
    }
   ],
   "source": [
    "CHF.shape, EUR.shape"
   ]
  },
  {
   "cell_type": "code",
   "execution_count": 141,
   "id": "4b73f013",
   "metadata": {},
   "outputs": [
    {
     "name": "stdout",
     "output_type": "stream",
     "text": [
      "<class 'pandas.core.frame.DataFrame'>\n",
      "Int64Index: 44741 entries, 0 to 44740\n",
      "Data columns (total 21 columns):\n",
      " #   Column  Non-Null Count  Dtype  \n",
      "---  ------  --------------  -----  \n",
      " 0   o_e     44741 non-null  float64\n",
      " 1   h_e     44741 non-null  float64\n",
      " 2   l_e     44741 non-null  float64\n",
      " 3   c_e     44741 non-null  float64\n",
      " 4   vol_e   44741 non-null  int64  \n",
      " 5   DT      44741 non-null  object \n",
      " 6   o_g     44727 non-null  float64\n",
      " 7   h_g     44727 non-null  float64\n",
      " 8   l_g     44727 non-null  float64\n",
      " 9   c_g     44727 non-null  float64\n",
      " 10  vol_g   44727 non-null  float64\n",
      " 11  o_c     44727 non-null  float64\n",
      " 12  h_c     44727 non-null  float64\n",
      " 13  l_c     44727 non-null  float64\n",
      " 14  c_c     44727 non-null  float64\n",
      " 15  vol_c   44727 non-null  float64\n",
      " 16  o_j     44738 non-null  float64\n",
      " 17  h_j     44738 non-null  float64\n",
      " 18  l_j     44738 non-null  float64\n",
      " 19  c_j     44738 non-null  float64\n",
      " 20  vol_j   44738 non-null  float64\n",
      "dtypes: float64(19), int64(1), object(1)\n",
      "memory usage: 7.5+ MB\n"
     ]
    }
   ],
   "source": [
    "data.info()"
   ]
  },
  {
   "cell_type": "code",
   "execution_count": 142,
   "id": "31f7f8ef",
   "metadata": {},
   "outputs": [],
   "source": [
    "data = data.drop(['DT'], axis = 1)"
   ]
  },
  {
   "cell_type": "code",
   "execution_count": 143,
   "id": "4ceb33a9",
   "metadata": {},
   "outputs": [],
   "source": [
    "data.dropna(inplace = True)"
   ]
  },
  {
   "cell_type": "code",
   "execution_count": 144,
   "id": "5fec1f7c",
   "metadata": {},
   "outputs": [
    {
     "data": {
      "text/html": [
       "<div>\n",
       "<style scoped>\n",
       "    .dataframe tbody tr th:only-of-type {\n",
       "        vertical-align: middle;\n",
       "    }\n",
       "\n",
       "    .dataframe tbody tr th {\n",
       "        vertical-align: top;\n",
       "    }\n",
       "\n",
       "    .dataframe thead th {\n",
       "        text-align: right;\n",
       "    }\n",
       "</style>\n",
       "<table border=\"1\" class=\"dataframe\">\n",
       "  <thead>\n",
       "    <tr style=\"text-align: right;\">\n",
       "      <th></th>\n",
       "      <th>o_e</th>\n",
       "      <th>h_e</th>\n",
       "      <th>l_e</th>\n",
       "      <th>c_e</th>\n",
       "      <th>vol_e</th>\n",
       "      <th>o_g</th>\n",
       "      <th>h_g</th>\n",
       "      <th>l_g</th>\n",
       "      <th>c_g</th>\n",
       "      <th>vol_g</th>\n",
       "      <th>o_c</th>\n",
       "      <th>h_c</th>\n",
       "      <th>l_c</th>\n",
       "      <th>c_c</th>\n",
       "      <th>vol_c</th>\n",
       "      <th>o_j</th>\n",
       "      <th>h_j</th>\n",
       "      <th>l_j</th>\n",
       "      <th>c_j</th>\n",
       "      <th>vol_j</th>\n",
       "    </tr>\n",
       "  </thead>\n",
       "  <tbody>\n",
       "    <tr>\n",
       "      <th>0</th>\n",
       "      <td>1.13693</td>\n",
       "      <td>1.13693</td>\n",
       "      <td>1.13645</td>\n",
       "      <td>1.13674</td>\n",
       "      <td>49</td>\n",
       "      <td>0.91106</td>\n",
       "      <td>0.91164</td>\n",
       "      <td>0.91099</td>\n",
       "      <td>0.91164</td>\n",
       "      <td>14.0</td>\n",
       "      <td>0.91106</td>\n",
       "      <td>0.91164</td>\n",
       "      <td>0.91099</td>\n",
       "      <td>0.91164</td>\n",
       "      <td>14.0</td>\n",
       "      <td>115.058</td>\n",
       "      <td>115.076</td>\n",
       "      <td>115.022</td>\n",
       "      <td>115.032</td>\n",
       "      <td>26.0</td>\n",
       "    </tr>\n",
       "    <tr>\n",
       "      <th>1</th>\n",
       "      <td>1.13674</td>\n",
       "      <td>1.13729</td>\n",
       "      <td>1.13669</td>\n",
       "      <td>1.13713</td>\n",
       "      <td>49</td>\n",
       "      <td>0.91163</td>\n",
       "      <td>0.91164</td>\n",
       "      <td>0.91105</td>\n",
       "      <td>0.91108</td>\n",
       "      <td>42.0</td>\n",
       "      <td>0.91163</td>\n",
       "      <td>0.91164</td>\n",
       "      <td>0.91105</td>\n",
       "      <td>0.91108</td>\n",
       "      <td>42.0</td>\n",
       "      <td>115.033</td>\n",
       "      <td>115.058</td>\n",
       "      <td>115.022</td>\n",
       "      <td>115.058</td>\n",
       "      <td>38.0</td>\n",
       "    </tr>\n",
       "    <tr>\n",
       "      <th>2</th>\n",
       "      <td>1.13708</td>\n",
       "      <td>1.13723</td>\n",
       "      <td>1.13699</td>\n",
       "      <td>1.13719</td>\n",
       "      <td>43</td>\n",
       "      <td>0.91108</td>\n",
       "      <td>0.91158</td>\n",
       "      <td>0.91097</td>\n",
       "      <td>0.91105</td>\n",
       "      <td>42.0</td>\n",
       "      <td>0.91108</td>\n",
       "      <td>0.91158</td>\n",
       "      <td>0.91097</td>\n",
       "      <td>0.91105</td>\n",
       "      <td>42.0</td>\n",
       "      <td>115.058</td>\n",
       "      <td>115.111</td>\n",
       "      <td>115.031</td>\n",
       "      <td>115.111</td>\n",
       "      <td>52.0</td>\n",
       "    </tr>\n",
       "    <tr>\n",
       "      <th>3</th>\n",
       "      <td>1.13689</td>\n",
       "      <td>1.13709</td>\n",
       "      <td>1.13688</td>\n",
       "      <td>1.13708</td>\n",
       "      <td>26</td>\n",
       "      <td>0.91159</td>\n",
       "      <td>0.91159</td>\n",
       "      <td>0.91091</td>\n",
       "      <td>0.91119</td>\n",
       "      <td>40.0</td>\n",
       "      <td>0.91159</td>\n",
       "      <td>0.91159</td>\n",
       "      <td>0.91091</td>\n",
       "      <td>0.91119</td>\n",
       "      <td>40.0</td>\n",
       "      <td>115.093</td>\n",
       "      <td>115.113</td>\n",
       "      <td>115.051</td>\n",
       "      <td>115.113</td>\n",
       "      <td>12.0</td>\n",
       "    </tr>\n",
       "    <tr>\n",
       "      <th>4</th>\n",
       "      <td>1.13707</td>\n",
       "      <td>1.13717</td>\n",
       "      <td>1.13692</td>\n",
       "      <td>1.13708</td>\n",
       "      <td>35</td>\n",
       "      <td>0.90981</td>\n",
       "      <td>0.91131</td>\n",
       "      <td>0.90981</td>\n",
       "      <td>0.91119</td>\n",
       "      <td>7.0</td>\n",
       "      <td>0.90981</td>\n",
       "      <td>0.91131</td>\n",
       "      <td>0.90981</td>\n",
       "      <td>0.91119</td>\n",
       "      <td>7.0</td>\n",
       "      <td>115.093</td>\n",
       "      <td>115.113</td>\n",
       "      <td>115.080</td>\n",
       "      <td>115.092</td>\n",
       "      <td>12.0</td>\n",
       "    </tr>\n",
       "    <tr>\n",
       "      <th>...</th>\n",
       "      <td>...</td>\n",
       "      <td>...</td>\n",
       "      <td>...</td>\n",
       "      <td>...</td>\n",
       "      <td>...</td>\n",
       "      <td>...</td>\n",
       "      <td>...</td>\n",
       "      <td>...</td>\n",
       "      <td>...</td>\n",
       "      <td>...</td>\n",
       "      <td>...</td>\n",
       "      <td>...</td>\n",
       "      <td>...</td>\n",
       "      <td>...</td>\n",
       "      <td>...</td>\n",
       "      <td>...</td>\n",
       "      <td>...</td>\n",
       "      <td>...</td>\n",
       "      <td>...</td>\n",
       "      <td>...</td>\n",
       "    </tr>\n",
       "    <tr>\n",
       "      <th>44736</th>\n",
       "      <td>1.01790</td>\n",
       "      <td>1.01823</td>\n",
       "      <td>1.01786</td>\n",
       "      <td>1.01798</td>\n",
       "      <td>393</td>\n",
       "      <td>0.95890</td>\n",
       "      <td>0.95908</td>\n",
       "      <td>0.95877</td>\n",
       "      <td>0.95906</td>\n",
       "      <td>212.0</td>\n",
       "      <td>0.95890</td>\n",
       "      <td>0.95908</td>\n",
       "      <td>0.95877</td>\n",
       "      <td>0.95906</td>\n",
       "      <td>212.0</td>\n",
       "      <td>135.066</td>\n",
       "      <td>135.068</td>\n",
       "      <td>135.012</td>\n",
       "      <td>135.038</td>\n",
       "      <td>888.0</td>\n",
       "    </tr>\n",
       "    <tr>\n",
       "      <th>44737</th>\n",
       "      <td>1.01800</td>\n",
       "      <td>1.01859</td>\n",
       "      <td>1.01788</td>\n",
       "      <td>1.01848</td>\n",
       "      <td>377</td>\n",
       "      <td>0.95906</td>\n",
       "      <td>0.95918</td>\n",
       "      <td>0.95895</td>\n",
       "      <td>0.95904</td>\n",
       "      <td>223.0</td>\n",
       "      <td>0.95906</td>\n",
       "      <td>0.95918</td>\n",
       "      <td>0.95895</td>\n",
       "      <td>0.95904</td>\n",
       "      <td>223.0</td>\n",
       "      <td>135.039</td>\n",
       "      <td>135.087</td>\n",
       "      <td>135.027</td>\n",
       "      <td>135.055</td>\n",
       "      <td>1019.0</td>\n",
       "    </tr>\n",
       "    <tr>\n",
       "      <th>44738</th>\n",
       "      <td>1.01848</td>\n",
       "      <td>1.01892</td>\n",
       "      <td>1.01843</td>\n",
       "      <td>1.01876</td>\n",
       "      <td>437</td>\n",
       "      <td>0.95905</td>\n",
       "      <td>0.95906</td>\n",
       "      <td>0.95862</td>\n",
       "      <td>0.95864</td>\n",
       "      <td>198.0</td>\n",
       "      <td>0.95905</td>\n",
       "      <td>0.95906</td>\n",
       "      <td>0.95862</td>\n",
       "      <td>0.95864</td>\n",
       "      <td>198.0</td>\n",
       "      <td>135.055</td>\n",
       "      <td>135.065</td>\n",
       "      <td>135.004</td>\n",
       "      <td>135.014</td>\n",
       "      <td>879.0</td>\n",
       "    </tr>\n",
       "    <tr>\n",
       "      <th>44739</th>\n",
       "      <td>1.01877</td>\n",
       "      <td>1.01902</td>\n",
       "      <td>1.01861</td>\n",
       "      <td>1.01864</td>\n",
       "      <td>344</td>\n",
       "      <td>0.95863</td>\n",
       "      <td>0.95869</td>\n",
       "      <td>0.95827</td>\n",
       "      <td>0.95863</td>\n",
       "      <td>258.0</td>\n",
       "      <td>0.95863</td>\n",
       "      <td>0.95869</td>\n",
       "      <td>0.95827</td>\n",
       "      <td>0.95863</td>\n",
       "      <td>258.0</td>\n",
       "      <td>135.014</td>\n",
       "      <td>135.068</td>\n",
       "      <td>134.997</td>\n",
       "      <td>135.066</td>\n",
       "      <td>957.0</td>\n",
       "    </tr>\n",
       "    <tr>\n",
       "      <th>44740</th>\n",
       "      <td>1.01864</td>\n",
       "      <td>1.01881</td>\n",
       "      <td>1.01851</td>\n",
       "      <td>1.01865</td>\n",
       "      <td>262</td>\n",
       "      <td>0.95863</td>\n",
       "      <td>0.95865</td>\n",
       "      <td>0.95794</td>\n",
       "      <td>0.95795</td>\n",
       "      <td>230.0</td>\n",
       "      <td>0.95863</td>\n",
       "      <td>0.95865</td>\n",
       "      <td>0.95794</td>\n",
       "      <td>0.95795</td>\n",
       "      <td>230.0</td>\n",
       "      <td>135.067</td>\n",
       "      <td>135.073</td>\n",
       "      <td>134.936</td>\n",
       "      <td>134.975</td>\n",
       "      <td>910.0</td>\n",
       "    </tr>\n",
       "  </tbody>\n",
       "</table>\n",
       "<p>44725 rows × 20 columns</p>\n",
       "</div>"
      ],
      "text/plain": [
       "           o_e      h_e      l_e      c_e  vol_e      o_g      h_g      l_g  \\\n",
       "0      1.13693  1.13693  1.13645  1.13674     49  0.91106  0.91164  0.91099   \n",
       "1      1.13674  1.13729  1.13669  1.13713     49  0.91163  0.91164  0.91105   \n",
       "2      1.13708  1.13723  1.13699  1.13719     43  0.91108  0.91158  0.91097   \n",
       "3      1.13689  1.13709  1.13688  1.13708     26  0.91159  0.91159  0.91091   \n",
       "4      1.13707  1.13717  1.13692  1.13708     35  0.90981  0.91131  0.90981   \n",
       "...        ...      ...      ...      ...    ...      ...      ...      ...   \n",
       "44736  1.01790  1.01823  1.01786  1.01798    393  0.95890  0.95908  0.95877   \n",
       "44737  1.01800  1.01859  1.01788  1.01848    377  0.95906  0.95918  0.95895   \n",
       "44738  1.01848  1.01892  1.01843  1.01876    437  0.95905  0.95906  0.95862   \n",
       "44739  1.01877  1.01902  1.01861  1.01864    344  0.95863  0.95869  0.95827   \n",
       "44740  1.01864  1.01881  1.01851  1.01865    262  0.95863  0.95865  0.95794   \n",
       "\n",
       "           c_g  vol_g      o_c      h_c      l_c      c_c  vol_c      o_j  \\\n",
       "0      0.91164   14.0  0.91106  0.91164  0.91099  0.91164   14.0  115.058   \n",
       "1      0.91108   42.0  0.91163  0.91164  0.91105  0.91108   42.0  115.033   \n",
       "2      0.91105   42.0  0.91108  0.91158  0.91097  0.91105   42.0  115.058   \n",
       "3      0.91119   40.0  0.91159  0.91159  0.91091  0.91119   40.0  115.093   \n",
       "4      0.91119    7.0  0.90981  0.91131  0.90981  0.91119    7.0  115.093   \n",
       "...        ...    ...      ...      ...      ...      ...    ...      ...   \n",
       "44736  0.95906  212.0  0.95890  0.95908  0.95877  0.95906  212.0  135.066   \n",
       "44737  0.95904  223.0  0.95906  0.95918  0.95895  0.95904  223.0  135.039   \n",
       "44738  0.95864  198.0  0.95905  0.95906  0.95862  0.95864  198.0  135.055   \n",
       "44739  0.95863  258.0  0.95863  0.95869  0.95827  0.95863  258.0  135.014   \n",
       "44740  0.95795  230.0  0.95863  0.95865  0.95794  0.95795  230.0  135.067   \n",
       "\n",
       "           h_j      l_j      c_j   vol_j  \n",
       "0      115.076  115.022  115.032    26.0  \n",
       "1      115.058  115.022  115.058    38.0  \n",
       "2      115.111  115.031  115.111    52.0  \n",
       "3      115.113  115.051  115.113    12.0  \n",
       "4      115.113  115.080  115.092    12.0  \n",
       "...        ...      ...      ...     ...  \n",
       "44736  135.068  135.012  135.038   888.0  \n",
       "44737  135.087  135.027  135.055  1019.0  \n",
       "44738  135.065  135.004  135.014   879.0  \n",
       "44739  135.068  134.997  135.066   957.0  \n",
       "44740  135.073  134.936  134.975   910.0  \n",
       "\n",
       "[44725 rows x 20 columns]"
      ]
     },
     "execution_count": 144,
     "metadata": {},
     "output_type": "execute_result"
    }
   ],
   "source": [
    "data"
   ]
  },
  {
   "cell_type": "code",
   "execution_count": 145,
   "id": "38351572",
   "metadata": {},
   "outputs": [],
   "source": []
  },
  {
   "cell_type": "code",
   "execution_count": null,
   "id": "dab06073",
   "metadata": {},
   "outputs": [],
   "source": []
  },
  {
   "cell_type": "code",
   "execution_count": null,
   "id": "82640903",
   "metadata": {},
   "outputs": [],
   "source": []
  },
  {
   "cell_type": "code",
   "execution_count": 146,
   "id": "f38f5835",
   "metadata": {},
   "outputs": [
    {
     "data": {
      "text/plain": [
       "[<matplotlib.lines.Line2D at 0x194122be8b0>]"
      ]
     },
     "execution_count": 146,
     "metadata": {},
     "output_type": "execute_result"
    },
    {
     "data": {
      "image/png": "[encoded data removed]",
      "text/plain": [
       "<Figure size 432x288 with 1 Axes>"
      ]
     },
     "metadata": {
      "needs_background": "light"
     },
     "output_type": "display_data"
    }
   ],
   "source": [
    "from matplotlib import pyplot as plt\n",
    "plt.plot(range(len(Y)), Y)\n",
    "plt.plot(range(len(Y)), pr)"
   ]
  },
  {
   "cell_type": "code",
   "execution_count": 147,
   "id": "ee67bbc7",
   "metadata": {},
   "outputs": [],
   "source": [
    "from sklearn.linear_model import LinearRegression"
   ]
  },
  {
   "cell_type": "code",
   "execution_count": 148,
   "id": "b7fe8619",
   "metadata": {},
   "outputs": [],
   "source": [
    "import numpy as np"
   ]
  },
  {
   "cell_type": "code",
   "execution_count": null,
   "id": "a51f2df6",
   "metadata": {},
   "outputs": [],
   "source": [
    "Y = data.c_e\n"
   ]
  },
  {
   "cell_type": "code",
   "execution_count": 149,
   "id": "c8920e94",
   "metadata": {},
   "outputs": [],
   "source": [
    "X = np.arange(Y.shape[0]).reshape(-1,1)"
   ]
  },
  {
   "cell_type": "code",
   "execution_count": 150,
   "id": "6e77ea4d",
   "metadata": {},
   "outputs": [
    {
     "data": {
      "text/plain": [
       "array([[    0],\n",
       "       [    1],\n",
       "       [    2],\n",
       "       ...,\n",
       "       [44722],\n",
       "       [44723],\n",
       "       [44724]])"
      ]
     },
     "execution_count": 150,
     "metadata": {},
     "output_type": "execute_result"
    }
   ],
   "source": [
    "X"
   ]
  },
  {
   "cell_type": "code",
   "execution_count": 151,
   "id": "28d6ac2f",
   "metadata": {},
   "outputs": [
    {
     "data": {
      "text/plain": [
       "44725"
      ]
     },
     "execution_count": 151,
     "metadata": {},
     "output_type": "execute_result"
    }
   ],
   "source": [
    "Y.shape[0]"
   ]
  },
  {
   "cell_type": "code",
   "execution_count": 152,
   "id": "1c4ab672",
   "metadata": {},
   "outputs": [],
   "source": [
    "reg = LinearRegression()"
   ]
  },
  {
   "cell_type": "code",
   "execution_count": 153,
   "id": "b927c3fa",
   "metadata": {},
   "outputs": [
    {
     "data": {
      "text/plain": [
       "LinearRegression()"
      ]
     },
     "execution_count": 153,
     "metadata": {},
     "output_type": "execute_result"
    }
   ],
   "source": [
    "reg.fit(X,Y)"
   ]
  },
  {
   "cell_type": "code",
   "execution_count": 154,
   "id": "17a693f7",
   "metadata": {},
   "outputs": [],
   "source": [
    "pr = reg.predict(X)"
   ]
  },
  {
   "cell_type": "code",
   "execution_count": 155,
   "id": "28a559f7",
   "metadata": {},
   "outputs": [],
   "source": [
    "from sklearn.metrics import mean_absolute_error"
   ]
  },
  {
   "cell_type": "code",
   "execution_count": 156,
   "id": "c48ddb48",
   "metadata": {},
   "outputs": [
    {
     "data": {
      "text/plain": [
       "0.010411672277401795"
      ]
     },
     "execution_count": 156,
     "metadata": {},
     "output_type": "execute_result"
    }
   ],
   "source": [
    "mean_absolute_error(Y,pr)"
   ]
  },
  {
   "cell_type": "markdown",
   "id": "944f5a09",
   "metadata": {},
   "source": [
    "# ОБУЧЕНИЕ НС "
   ]
  },
  {
   "cell_type": "code",
   "execution_count": 157,
   "id": "84fe1db8",
   "metadata": {},
   "outputs": [],
   "source": [
    "#формируем последовательность"
   ]
  },
  {
   "cell_type": "code",
   "execution_count": 158,
   "id": "08391acc",
   "metadata": {},
   "outputs": [],
   "source": [
    "X = data.to_numpy()"
   ]
  },
  {
   "cell_type": "code",
   "execution_count": 159,
   "id": "3dd88b40",
   "metadata": {},
   "outputs": [
    {
     "data": {
      "text/plain": [
       "array([[  1.13693,   1.13693,   1.13645, ..., 115.022  , 115.032  ,\n",
       "         26.     ],\n",
       "       [  1.13674,   1.13729,   1.13669, ..., 115.022  , 115.058  ,\n",
       "         38.     ],\n",
       "       [  1.13708,   1.13723,   1.13699, ..., 115.031  , 115.111  ,\n",
       "         52.     ],\n",
       "       ...,\n",
       "       [  1.01848,   1.01892,   1.01843, ..., 135.004  , 135.014  ,\n",
       "        879.     ],\n",
       "       [  1.01877,   1.01902,   1.01861, ..., 134.997  , 135.066  ,\n",
       "        957.     ],\n",
       "       [  1.01864,   1.01881,   1.01851, ..., 134.936  , 134.975  ,\n",
       "        910.     ]])"
      ]
     },
     "execution_count": 159,
     "metadata": {},
     "output_type": "execute_result"
    }
   ],
   "source": [
    "X"
   ]
  },
  {
   "cell_type": "code",
   "execution_count": 160,
   "id": "1084526e",
   "metadata": {},
   "outputs": [],
   "source": [
    "\n",
    "sequence_length = 120\n",
    "delay = 120\n",
    "batch_size = 256"
   ]
  },
  {
   "cell_type": "code",
   "execution_count": 161,
   "id": "eb382a52",
   "metadata": {},
   "outputs": [
    {
     "name": "stdout",
     "output_type": "stream",
     "text": [
      "num_train_samples: 38016\n",
      "num_val_samples: 6709\n"
     ]
    }
   ],
   "source": [
    "num_train_samples = int(0.85 * data.shape[0])\n",
    "num_val_samples = data.shape[0] - num_train_samples\n",
    "\n",
    "print(\"num_train_samples:\", num_train_samples)\n",
    "print(\"num_val_samples:\", num_val_samples)"
   ]
  },
  {
   "cell_type": "code",
   "execution_count": 173,
   "id": "829547a3",
   "metadata": {},
   "outputs": [],
   "source": [
    "Y = data.c_e\n"
   ]
  },
  {
   "cell_type": "code",
   "execution_count": 174,
   "id": "59120022",
   "metadata": {},
   "outputs": [],
   "source": [
    "# нормируем X \n",
    "mean = X[:num_train_samples].mean(axis = 0)\n",
    "X -= mean\n",
    "std = X[:num_train_samples].std(axis = 0)\n",
    "X /= std"
   ]
  },
  {
   "cell_type": "code",
   "execution_count": 175,
   "id": "4b8397c7",
   "metadata": {},
   "outputs": [
    {
     "data": {
      "text/plain": [
       "array([[ 1.34021782,  1.33421117,  1.33191799, ..., -1.0998234 ,\n",
       "        -1.1009915 , -1.33027079],\n",
       "       [ 1.3345464 ,  1.34496483,  1.33907613, ..., -1.0998234 ,\n",
       "        -1.0975611 , -1.28996096],\n",
       "       [ 1.34469527,  1.34317255,  1.34802381, ..., -1.09863472,\n",
       "        -1.09056836, -1.24293283],\n",
       "       ...,\n",
       "       [-2.19547014, -2.19089838, -2.18809814, ...,  1.53931395,\n",
       "         1.53540303,  1.53508593],\n",
       "       [-2.18681374, -2.18791126, -2.18272954, ...,  1.53838942,\n",
       "         1.54226383,  1.79709979],\n",
       "       [-2.1906942 , -2.19418422, -2.1857121 , ...,  1.5303328 ,\n",
       "         1.53025743,  1.63921965]])"
      ]
     },
     "execution_count": 175,
     "metadata": {},
     "output_type": "execute_result"
    }
   ],
   "source": [
    "X"
   ]
  },
  {
   "cell_type": "code",
   "execution_count": null,
   "id": "57a9369f",
   "metadata": {},
   "outputs": [],
   "source": []
  },
  {
   "cell_type": "code",
   "execution_count": null,
   "id": "060091b0",
   "metadata": {},
   "outputs": [],
   "source": []
  },
  {
   "cell_type": "code",
   "execution_count": 176,
   "id": "bc9dc6cd",
   "metadata": {},
   "outputs": [],
   "source": [
    "import numpy as np\n",
    "from tensorflow import keras"
   ]
  },
  {
   "cell_type": "code",
   "execution_count": 177,
   "id": "592087f2",
   "metadata": {},
   "outputs": [],
   "source": [
    "# Формируем последовательности для реккуретных сетей.\n",
    "train_dataset = keras.utils.timeseries_dataset_from_array(\n",
    "    X[:-delay],\n",
    "    targets=Y[delay:],\n",
    "    sequence_length=sequence_length,\n",
    "    shuffle=False,\n",
    "    batch_size=batch_size,\n",
    "    start_index=0,\n",
    "    end_index=num_train_samples)\n",
    "\n",
    "val_dataset = keras.utils.timeseries_dataset_from_array(\n",
    "    X[:-delay],\n",
    "    targets=Y[delay:],\n",
    "    sequence_length=sequence_length,\n",
    "    shuffle=False,\n",
    "    batch_size=batch_size,\n",
    "    start_index=num_train_samples)"
   ]
  },
  {
   "cell_type": "code",
   "execution_count": 178,
   "id": "d0375a1d",
   "metadata": {},
   "outputs": [
    {
     "name": "stdout",
     "output_type": "stream",
     "text": [
      "samples shape: (256, 120, 20)\n",
      "targets shape: (256,)\n"
     ]
    }
   ],
   "source": [
    "# бэтч(пакет) состоящий из 256 последовательностей,где каждая последовательность состоит из 120 элементов и каждая\n",
    "#    последовательноть из 120 элементов содержит 20 переменных,которые мы выше объединяли\n",
    "for samples, targets in train_dataset:\n",
    "    print(\"samples shape:\", samples.shape)\n",
    "    print(\"targets shape:\", targets.shape)\n",
    "    break"
   ]
  },
  {
   "cell_type": "code",
   "execution_count": 179,
   "id": "01363303",
   "metadata": {},
   "outputs": [
    {
     "data": {
      "text/plain": [
       "<tf.Tensor: shape=(120, 20), dtype=float64, numpy=\n",
       "array([[ 1.3345464 ,  1.34496483,  1.33907613, ..., -1.0998234 ,\n",
       "        -1.0975611 , -1.28996096],\n",
       "       [ 1.34469527,  1.34317255,  1.34802381, ..., -1.09863472,\n",
       "        -1.09056836, -1.24293283],\n",
       "       [ 1.33902384,  1.33899057,  1.34474299, ..., -1.0959932 ,\n",
       "        -1.09030448, -1.37729892],\n",
       "       ...,\n",
       "       [ 1.24350504,  1.27685831,  1.24900285, ..., -1.067729  ,\n",
       "        -1.06681944, -0.56102496],\n",
       "       [ 1.27633963,  1.27028663,  1.25705576, ..., -1.06654031,\n",
       "        -1.06721525, -0.60805309],\n",
       "       [ 1.25365391,  1.25953297,  1.24900285, ..., -1.07116296,\n",
       "        -1.07209698, -0.54087005]])>"
      ]
     },
     "execution_count": 179,
     "metadata": {},
     "output_type": "execute_result"
    }
   ],
   "source": [
    "samples[1]"
   ]
  },
  {
   "cell_type": "code",
   "execution_count": 180,
   "id": "05d7ee85",
   "metadata": {},
   "outputs": [
    {
     "data": {
      "text/plain": [
       "<tf.Tensor: shape=(120, 20), dtype=float64, numpy=\n",
       "array([[ 1.34021782,  1.33421117,  1.33191799, ..., -1.0998234 ,\n",
       "        -1.1009915 , -1.33027079],\n",
       "       [ 1.3345464 ,  1.34496483,  1.33907613, ..., -1.0998234 ,\n",
       "        -1.0975611 , -1.28996096],\n",
       "       [ 1.34469527,  1.34317255,  1.34802381, ..., -1.09863472,\n",
       "        -1.09056836, -1.24293283],\n",
       "       ...,\n",
       "       [ 1.25066895,  1.24459733,  1.2466168 , ..., -1.06376672,\n",
       "        -1.06615974, -1.1824681 ],\n",
       "       [ 1.24350504,  1.27685831,  1.24900285, ..., -1.067729  ,\n",
       "        -1.06681944, -0.56102496],\n",
       "       [ 1.27633963,  1.27028663,  1.25705576, ..., -1.06654031,\n",
       "        -1.06721525, -0.60805309]])>"
      ]
     },
     "execution_count": 180,
     "metadata": {},
     "output_type": "execute_result"
    }
   ],
   "source": [
    "samples[0]"
   ]
  },
  {
   "cell_type": "code",
   "execution_count": 181,
   "id": "64240f43",
   "metadata": {},
   "outputs": [
    {
     "data": {
      "text/plain": [
       "<tf.Tensor: shape=(256,), dtype=float64, numpy=\n",
       "array([1.13387, 1.13423, 1.13442, 1.1336 , 1.13369, 1.13388, 1.13366,\n",
       "       1.13396, 1.13435, 1.13434, 1.13468, 1.13462, 1.13484, 1.13561,\n",
       "       1.13549, 1.13502, 1.13392, 1.13443, 1.13481, 1.1348 , 1.13497,\n",
       "       1.13545, 1.13518, 1.1358 , 1.13565, 1.13578, 1.13571, 1.1356 ,\n",
       "       1.13557, 1.13554, 1.13529, 1.13518, 1.13576, 1.13546, 1.13551,\n",
       "       1.13548, 1.13527, 1.13576, 1.13637, 1.13627, 1.13605, 1.13604,\n",
       "       1.13594, 1.13586, 1.13554, 1.13556, 1.13557, 1.13515, 1.13508,\n",
       "       1.13555, 1.13527, 1.13527, 1.13539, 1.13506, 1.13499, 1.13511,\n",
       "       1.13486, 1.13527, 1.13585, 1.13546, 1.13517, 1.13554, 1.1355 ,\n",
       "       1.13547, 1.13628, 1.13531, 1.13498, 1.13522, 1.13496, 1.13485,\n",
       "       1.13504, 1.13479, 1.13457, 1.13381, 1.13354, 1.13291, 1.13261,\n",
       "       1.13257, 1.13271, 1.13238, 1.13173, 1.13092, 1.13062, 1.13063,\n",
       "       1.13088, 1.13046, 1.13049, 1.1304 , 1.12959, 1.12954, 1.12988,\n",
       "       1.12999, 1.12955, 1.12924, 1.12918, 1.12941, 1.12914, 1.12964,\n",
       "       1.12933, 1.12921, 1.12927, 1.12928, 1.12931, 1.12866, 1.12902,\n",
       "       1.12851, 1.12888, 1.12884, 1.12875, 1.12845, 1.12835, 1.12838,\n",
       "       1.12816, 1.12823, 1.12837, 1.12846, 1.12825, 1.12854, 1.12837,\n",
       "       1.1286 , 1.12849, 1.12877, 1.1288 , 1.12904, 1.12909, 1.12915,\n",
       "       1.1294 , 1.12964, 1.12948, 1.12947, 1.12948, 1.12938, 1.12963,\n",
       "       1.12984, 1.12971, 1.12976, 1.12979, 1.12986, 1.12974, 1.12956,\n",
       "       1.12972, 1.12988, 1.1297 , 1.1298 , 1.12971, 1.12962, 1.12978,\n",
       "       1.12961, 1.12966, 1.12988, 1.12986, 1.12964, 1.12967, 1.12956,\n",
       "       1.12963, 1.12956, 1.12962, 1.12962, 1.12957, 1.12959, 1.12969,\n",
       "       1.12972, 1.12987, 1.12976, 1.1298 , 1.12974, 1.12971, 1.12932,\n",
       "       1.12926, 1.12923, 1.12927, 1.12932, 1.12931, 1.12955, 1.12935,\n",
       "       1.12938, 1.12951, 1.12942, 1.12938, 1.12961, 1.12963, 1.12973,\n",
       "       1.12981, 1.1298 , 1.12988, 1.12991, 1.12964, 1.12985, 1.12983,\n",
       "       1.1298 , 1.13016, 1.13048, 1.13057, 1.13063, 1.13067, 1.13056,\n",
       "       1.13038, 1.13043, 1.13045, 1.13045, 1.13045, 1.13042, 1.13055,\n",
       "       1.13069, 1.13067, 1.13082, 1.13078, 1.13059, 1.13059, 1.13053,\n",
       "       1.13042, 1.13044, 1.13035, 1.1306 , 1.13066, 1.13063, 1.13058,\n",
       "       1.13056, 1.13049, 1.13063, 1.13064, 1.13082, 1.13087, 1.13092,\n",
       "       1.13079, 1.13076, 1.13023, 1.13025, 1.13013, 1.13004, 1.12992,\n",
       "       1.1296 , 1.12993, 1.13015, 1.13005, 1.13013, 1.1299 , 1.12987,\n",
       "       1.12978, 1.12983, 1.13005, 1.13007, 1.12998, 1.12992, 1.13   ,\n",
       "       1.13012, 1.13046, 1.13026, 1.13023, 1.13009, 1.13007, 1.13008,\n",
       "       1.13036, 1.13053, 1.13045, 1.13038])>"
      ]
     },
     "execution_count": 181,
     "metadata": {},
     "output_type": "execute_result"
    }
   ],
   "source": [
    "targets"
   ]
  },
  {
   "cell_type": "code",
   "execution_count": 182,
   "id": "2b3d44b4",
   "metadata": {},
   "outputs": [
    {
     "data": {
      "text/plain": [
       "<tf.Tensor: shape=(120,), dtype=float64, numpy=\n",
       "array([1.33455876, 1.34619972, 1.34799063, 1.34470729, 1.34470729,\n",
       "       1.34619972, 1.35008003, 1.35157246, 1.34948306, 1.34888609,\n",
       "       1.35008003, 1.3656013 , 1.3593331 , 1.3485876 , 1.34619972,\n",
       "       1.34142394, 1.34918457, 1.34679669, 1.35246792, 1.34918457,\n",
       "       1.33933454, 1.34351334, 1.350677  , 1.35127398, 1.35694521,\n",
       "       1.3444088 , 1.33873757, 1.33575271, 1.33187239, 1.31814204,\n",
       "       1.3190375 , 1.31993295, 1.31844052, 1.32202235, 1.3190375 ,\n",
       "       1.32500721, 1.32441024, 1.32172387, 1.32649964, 1.32620116,\n",
       "       1.32082841, 1.31456021, 1.30859049, 1.30590411, 1.29874045,\n",
       "       1.30799352, 1.30888897, 1.29963591, 1.28023432, 1.28232373,\n",
       "       1.28530859, 1.27904038, 1.28112978, 1.28112978, 1.26769792,\n",
       "       1.27993584, 1.27098126, 1.26501154, 1.26083274, 1.26501154,\n",
       "       1.26889186, 1.26560851, 1.26202668, 1.26202668, 1.26471306,\n",
       "       1.26262365, 1.26053425, 1.27187672, 1.27963735, 1.28023432,\n",
       "       1.27724947, 1.26829489, 1.2721752 , 1.2721752 , 1.27456309,\n",
       "       1.27068277, 1.27814492, 1.27396612, 1.27426461, 1.27187672,\n",
       "       1.26650397, 1.25128119, 1.25456453, 1.25486302, 1.25247513,\n",
       "       1.2530721 , 1.2488933 , 1.24978876, 1.24322207, 1.24381904,\n",
       "       1.24590844, 1.25426605, 1.25426605, 1.25217665, 1.2468039 ,\n",
       "       1.25665394, 1.25247513, 1.25337059, 1.2596388 , 1.2530721 ,\n",
       "       1.25635545, 1.26411608, 1.26471306, 1.26292214, 1.27127975,\n",
       "       1.26531003, 1.2617282 , 1.26232517, 1.26680246, 1.26531003,\n",
       "       1.25754939, 1.25695242, 1.24232661, 1.24352055, 1.24083418,\n",
       "       1.25187816, 1.25038573, 1.24352055, 1.27665249, 1.25337059])>"
      ]
     },
     "execution_count": 182,
     "metadata": {},
     "output_type": "execute_result"
    }
   ],
   "source": [
    "samples[0,:,3]"
   ]
  },
  {
   "cell_type": "code",
   "execution_count": 183,
   "id": "00236b5c",
   "metadata": {},
   "outputs": [],
   "source": [
    "from tensorflow.keras import layers\n",
    "inputs = keras.Input(shape=(sequence_length, X.shape[-1]))\n",
    "\n",
    "x = layers.LSTM(32, return_sequences=True)(inputs) #recurrent_dropout=0.25\n",
    "\n",
    "\n",
    "\n",
    "# ДОБАВЛЯЕМ ЕЩЕ ОДИН СЛОЙ РЕКУРЕНТНЫЙ!!!! И НАДО ЧТОБЫ ПЕРВЫЙ ВОЗВРАЩАЛ ИМЕННО ПОСЛЕДОВАТЕЛЬНОСТИ(т.е. возвращать все свои внутренние состояния,\n",
    "#) для этого пишем return_sequences=True\n",
    "#,мы это делаем, ЧТОБЫ ЗАРАБОТАЛ СЛЕД.СЛОЙ и да.наша модель стала двухслойной и будет помедленее учиться.\n",
    "#\n",
    "\n",
    "\n",
    "x = layers.LSTM(32, )(x)\n",
    "\n",
    "#x = layers.Dropout(0.5)(x)\n",
    "outputs = layers.Dense(1)(x)\n",
    "\n",
    "model = keras.Model(inputs, outputs)\n",
    "\n",
    "callbacks = [\n",
    "    keras.callbacks.ModelCheckpoint(\"forex_lstm.h5\",\n",
    "                                    save_best_only=True)\n",
    "]\n",
    "model.compile(optimizer=\"rmsprop\", loss=\"mse\", metrics=[\"mae\"])\n"
   ]
  },
  {
   "cell_type": "code",
   "execution_count": 184,
   "id": "7654f8e5",
   "metadata": {
    "scrolled": false
   },
   "outputs": [
    {
     "name": "stdout",
     "output_type": "stream",
     "text": [
      "Epoch 1/20\n",
      "149/149 [==============================] - 69s 364ms/step - loss: 0.0304 - mae: 0.0934 - val_loss: 0.0128 - val_mae: 0.1088\n",
      "Epoch 2/20\n",
      "149/149 [==============================] - 48s 285ms/step - loss: 0.0035 - mae: 0.0475 - val_loss: 0.0047 - val_mae: 0.0646\n",
      "Epoch 3/20\n",
      "149/149 [==============================] - 48s 287ms/step - loss: 0.0017 - mae: 0.0354 - val_loss: 0.0012 - val_mae: 0.0314\n",
      "Epoch 4/20\n",
      "149/149 [==============================] - 50s 299ms/step - loss: 0.0010 - mae: 0.0278 - val_loss: 6.0092e-04 - val_mae: 0.0221\n",
      "Epoch 5/20\n",
      "149/149 [==============================] - 49s 291ms/step - loss: 6.9690e-04 - mae: 0.0219 - val_loss: 7.2364e-04 - val_mae: 0.0253\n",
      "Epoch 6/20\n",
      "149/149 [==============================] - 52s 310ms/step - loss: 5.2480e-04 - mae: 0.0189 - val_loss: 5.1142e-04 - val_mae: 0.0211\n",
      "Epoch 7/20\n",
      "149/149 [==============================] - 50s 302ms/step - loss: 4.1087e-04 - mae: 0.0170 - val_loss: 4.2153e-04 - val_mae: 0.0190\n",
      "Epoch 8/20\n",
      "149/149 [==============================] - 49s 293ms/step - loss: 3.3608e-04 - mae: 0.0149 - val_loss: 3.4812e-04 - val_mae: 0.0169\n",
      "Epoch 9/20\n",
      "149/149 [==============================] - 49s 289ms/step - loss: 2.7382e-04 - mae: 0.0130 - val_loss: 3.7064e-04 - val_mae: 0.0175\n",
      "Epoch 10/20\n",
      "149/149 [==============================] - 49s 290ms/step - loss: 2.4019e-04 - mae: 0.0131 - val_loss: 3.4741e-04 - val_mae: 0.0173\n",
      "Epoch 11/20\n",
      "149/149 [==============================] - 49s 289ms/step - loss: 4.9609e-04 - mae: 0.0120 - val_loss: 2.6229e-04 - val_mae: 0.0149\n",
      "Epoch 12/20\n",
      "149/149 [==============================] - 49s 292ms/step - loss: 1.9764e-04 - mae: 0.0120 - val_loss: 1.9870e-04 - val_mae: 0.0129\n",
      "Epoch 13/20\n",
      "149/149 [==============================] - 48s 288ms/step - loss: 1.7857e-04 - mae: 0.0112 - val_loss: 1.6595e-04 - val_mae: 0.0116\n",
      "Epoch 14/20\n",
      "149/149 [==============================] - 48s 280ms/step - loss: 1.6443e-04 - mae: 0.0107 - val_loss: 1.4789e-04 - val_mae: 0.0109\n",
      "Epoch 15/20\n",
      "149/149 [==============================] - 47s 278ms/step - loss: 1.5321e-04 - mae: 0.0104 - val_loss: 1.3713e-04 - val_mae: 0.0105\n",
      "Epoch 16/20\n",
      "149/149 [==============================] - 48s 278ms/step - loss: 1.4431e-04 - mae: 0.0102 - val_loss: 1.3294e-04 - val_mae: 0.0104\n",
      "Epoch 17/20\n",
      "149/149 [==============================] - 48s 287ms/step - loss: 1.3648e-04 - mae: 0.0100 - val_loss: 1.3255e-04 - val_mae: 0.0104\n",
      "Epoch 18/20\n",
      "149/149 [==============================] - 56s 336ms/step - loss: 1.2832e-04 - mae: 0.0098 - val_loss: 1.3607e-04 - val_mae: 0.0106\n",
      "Epoch 19/20\n",
      "149/149 [==============================] - 51s 307ms/step - loss: 1.2067e-04 - mae: 0.0096 - val_loss: 1.4262e-04 - val_mae: 0.0109\n",
      "Epoch 20/20\n",
      "149/149 [==============================] - 48s 285ms/step - loss: 1.1473e-04 - mae: 0.0094 - val_loss: 1.4869e-04 - val_mae: 0.0112\n"
     ]
    }
   ],
   "source": [
    "# ВЫШЕ MAE = mean_absolute_error(Y,pr) = 0.010411672277401795 НАМ ХОЧЕТСЯ ЧТОБЫ ИЗ КОДА НИЖЕ ВЫШЛО МЕНЬШЕ MAE!\n",
    "#\n",
    "history = model.fit(train_dataset,\n",
    "                    epochs=20,\n",
    "                    validation_data=val_dataset,\n",
    "                    callbacks=callbacks)"
   ]
  },
  {
   "cell_type": "code",
   "execution_count": null,
   "id": "053ff35e",
   "metadata": {},
   "outputs": [],
   "source": []
  },
  {
   "cell_type": "markdown",
   "id": "9162af0b",
   "metadata": {},
   "source": [
    "# Прогноз"
   ]
  },
  {
   "cell_type": "code",
   "execution_count": 185,
   "id": "67d13aaf",
   "metadata": {},
   "outputs": [
    {
     "name": "stdout",
     "output_type": "stream",
     "text": [
      "26/26 [==============================] - 9s 85ms/step\n"
     ]
    }
   ],
   "source": [
    "pred = model.predict(val_dataset)"
   ]
  },
  {
   "cell_type": "code",
   "execution_count": 186,
   "id": "739624b3",
   "metadata": {},
   "outputs": [
    {
     "data": {
      "text/plain": [
       "(6470, 1)"
      ]
     },
     "execution_count": 186,
     "metadata": {},
     "output_type": "execute_result"
    }
   ],
   "source": [
    "pred.shape"
   ]
  },
  {
   "cell_type": "code",
   "execution_count": 191,
   "id": "efc8dc7f",
   "metadata": {},
   "outputs": [
    {
     "data": {
      "text/plain": [
       "(6470,)"
      ]
     },
     "execution_count": 191,
     "metadata": {},
     "output_type": "execute_result"
    }
   ],
   "source": [
    "Y[-6470:].shape"
   ]
  },
  {
   "cell_type": "code",
   "execution_count": 194,
   "id": "28b61d4a",
   "metadata": {},
   "outputs": [
    {
     "data": {
      "text/plain": [
       "38259    1.01818\n",
       "38260    1.01819\n",
       "38261    1.01815\n",
       "38262    1.01819\n",
       "38263    1.01820\n",
       "          ...   \n",
       "44736    1.01798\n",
       "44737    1.01848\n",
       "44738    1.01876\n",
       "44739    1.01864\n",
       "44740    1.01865\n",
       "Name: c_e, Length: 6470, dtype: float64"
      ]
     },
     "execution_count": 194,
     "metadata": {},
     "output_type": "execute_result"
    }
   ],
   "source": [
    "Y[-6470:]"
   ]
  },
  {
   "cell_type": "code",
   "execution_count": 195,
   "id": "0564fd8f",
   "metadata": {},
   "outputs": [
    {
     "data": {
      "text/plain": [
       "[<matplotlib.lines.Line2D at 0x19437a64850>]"
      ]
     },
     "execution_count": 195,
     "metadata": {},
     "output_type": "execute_result"
    },
    {
     "data": {
      "image/png": "[encoded data removed]",
      "text/plain": [
       "<Figure size 432x288 with 1 Axes>"
      ]
     },
     "metadata": {
      "needs_background": "light"
     },
     "output_type": "display_data"
    }
   ],
   "source": [
    "plt.plot(range(6470), Y[-6470:])\n",
    "plt.plot(range(6470), pred)"
   ]
  },
  {
   "cell_type": "code",
   "execution_count": null,
   "id": "b19ab1b4",
   "metadata": {},
   "outputs": [],
   "source": []
  },
  {
   "cell_type": "code",
   "execution_count": null,
   "id": "4ab74a5b",
   "metadata": {},
   "outputs": [],
   "source": []
  }
 ],
 "metadata": {
  "kernelspec": {
   "display_name": "Python 3 (ipykernel)",
   "language": "python",
   "name": "python3"
  },
  "language_info": {
   "codemirror_mode": {
    "name": "ipython",
    "version": 3
   },
   "file_extension": ".py",
   "mimetype": "text/x-python",
   "name": "python",
   "nbconvert_exporter": "python",
   "pygments_lexer": "ipython3",
   "version": "3.9.7"
  }
 },
 "nbformat": 4,
 "nbformat_minor": 5
}
