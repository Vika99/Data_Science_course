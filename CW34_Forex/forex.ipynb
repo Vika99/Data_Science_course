{
 "cells": [
  {
   "cell_type": "code",
   "execution_count": 1,
   "id": "7b647dd0",
   "metadata": {},
   "outputs": [],
   "source": [
    "import pandas as pd"
   ]
  },
  {
   "cell_type": "code",
   "execution_count": 2,
   "id": "6f4f3680",
   "metadata": {},
   "outputs": [],
   "source": [
    "df = pd.read_csv('EURUSD_M5_202201030005_202208081305.csv', sep = '\\t')"
   ]
  },
  {
   "cell_type": "code",
   "execution_count": 3,
   "id": "23a63cb8",
   "metadata": {},
   "outputs": [],
   "source": [
    "gbp = pd.read_csv('GBPUSD_M5_202201030005_202208081305.csv', sep = '\\t')"
   ]
  },
  {
   "cell_type": "code",
   "execution_count": 4,
   "id": "3b9e9291",
   "metadata": {},
   "outputs": [],
   "source": [
    "CHF = pd.read_csv('USDCHF_M5_202201030005_202208081310.csv', sep = '\\t')"
   ]
  },
  {
   "cell_type": "code",
   "execution_count": 5,
   "id": "6ea5b6c7",
   "metadata": {},
   "outputs": [],
   "source": [
    "JPY = pd.read_csv('USDJPY_M5_202201030005_202208081310.csv', sep = '\\t')"
   ]
  },
  {
   "cell_type": "code",
   "execution_count": 6,
   "id": "4335afcf",
   "metadata": {},
   "outputs": [],
   "source": [
    "JPY['DT'] = JPY['<DATE>'] + JPY['<TIME>']\n",
    "CHF['DT'] = CHF['<DATE>'] + CHF['<TIME>']\n",
    "gbp['DT'] = gbp['<DATE>'] + gbp['<TIME>']\n",
    "df['DT'] = df['<DATE>'] + df['<TIME>']"
   ]
  },
  {
   "cell_type": "code",
   "execution_count": 7,
   "id": "823eeaad",
   "metadata": {},
   "outputs": [],
   "source": [
    "JPY = JPY.drop(['<DATE>','<TIME>','<VOL>', '<SPREAD>'], axis = 1)"
   ]
  },
  {
   "cell_type": "code",
   "execution_count": 8,
   "id": "aee48ff7",
   "metadata": {},
   "outputs": [],
   "source": [
    "gbp = gbp.drop(['<DATE>','<TIME>','<VOL>', '<SPREAD>'], axis = 1)"
   ]
  },
  {
   "cell_type": "code",
   "execution_count": 4,
   "id": "4771bce5",
   "metadata": {},
   "outputs": [],
   "source": [
    "df = df.drop(['<DATE>','<TIME>','<VOL>', '<SPREAD>'], axis = 1)"
   ]
  },
  {
   "cell_type": "code",
   "execution_count": 10,
   "id": "a9f4def2",
   "metadata": {},
   "outputs": [],
   "source": [
    "CHF = CHF.drop(['<DATE>','<TIME>','<VOL>', '<SPREAD>'], axis = 1)"
   ]
  },
  {
   "cell_type": "code",
   "execution_count": 11,
   "id": "c3710388",
   "metadata": {},
   "outputs": [],
   "source": [
    "CHF = CHF.rename(columns = {'<OPEN>':'o_ch','<HIGH>':'h_ch','<LOW>':'l_ch','<CLOSE>':'c_ch','<TICKVOL>':'vol_ch' })"
   ]
  },
  {
   "cell_type": "code",
   "execution_count": 12,
   "id": "12072ff9",
   "metadata": {},
   "outputs": [],
   "source": [
    "JPY = JPY.rename(columns = {'<OPEN>':'o_j','<HIGH>':'h_j','<LOW>':'l_j','<CLOSE>':'c_j','<TICKVOL>':'vol_j' })\n",
    "gbp = gbp.rename(columns = {'<OPEN>':'o_g','<HIGH>':'h_g','<LOW>':'l_g','<CLOSE>':'c_g','<TICKVOL>':'vol_g' })\n",
    "df = df.rename(columns = {'<OPEN>':'o_e','<HIGH>':'h_e','<LOW>':'l_e','<CLOSE>':'c_e','<TICKVOL>':'vol_e' })"
   ]
  },
  {
   "cell_type": "code",
   "execution_count": 13,
   "id": "08ddcfef",
   "metadata": {},
   "outputs": [],
   "source": [
    "df = df.merge(right = JPY, how = 'left', on = 'DT')"
   ]
  },
  {
   "cell_type": "code",
   "execution_count": 14,
   "id": "f4a7bb5e",
   "metadata": {},
   "outputs": [],
   "source": [
    "df = df.merge(right = gbp, how = 'left', on = 'DT')"
   ]
  },
  {
   "cell_type": "code",
   "execution_count": 15,
   "id": "3f3604aa",
   "metadata": {},
   "outputs": [],
   "source": [
    "df = df.merge(right = CHF, how = 'left', on = 'DT')"
   ]
  },
  {
   "cell_type": "code",
   "execution_count": 39,
   "id": "1f128739",
   "metadata": {},
   "outputs": [],
   "source": [
    "df.dropna(inplace = True)"
   ]
  },
  {
   "cell_type": "code",
   "execution_count": 5,
   "id": "9e72cb3f",
   "metadata": {
    "scrolled": true
   },
   "outputs": [
    {
     "data": {
      "text/html": [
       "<div>\n",
       "<style scoped>\n",
       "    .dataframe tbody tr th:only-of-type {\n",
       "        vertical-align: middle;\n",
       "    }\n",
       "\n",
       "    .dataframe tbody tr th {\n",
       "        vertical-align: top;\n",
       "    }\n",
       "\n",
       "    .dataframe thead th {\n",
       "        text-align: right;\n",
       "    }\n",
       "</style>\n",
       "<table border=\"1\" class=\"dataframe\">\n",
       "  <thead>\n",
       "    <tr style=\"text-align: right;\">\n",
       "      <th></th>\n",
       "      <th>&lt;OPEN&gt;</th>\n",
       "      <th>&lt;HIGH&gt;</th>\n",
       "      <th>&lt;LOW&gt;</th>\n",
       "      <th>&lt;CLOSE&gt;</th>\n",
       "      <th>&lt;TICKVOL&gt;</th>\n",
       "    </tr>\n",
       "  </thead>\n",
       "  <tbody>\n",
       "    <tr>\n",
       "      <th>0</th>\n",
       "      <td>1.13693</td>\n",
       "      <td>1.13693</td>\n",
       "      <td>1.13645</td>\n",
       "      <td>1.13674</td>\n",
       "      <td>49</td>\n",
       "    </tr>\n",
       "    <tr>\n",
       "      <th>1</th>\n",
       "      <td>1.13674</td>\n",
       "      <td>1.13729</td>\n",
       "      <td>1.13669</td>\n",
       "      <td>1.13713</td>\n",
       "      <td>49</td>\n",
       "    </tr>\n",
       "    <tr>\n",
       "      <th>2</th>\n",
       "      <td>1.13708</td>\n",
       "      <td>1.13723</td>\n",
       "      <td>1.13699</td>\n",
       "      <td>1.13719</td>\n",
       "      <td>43</td>\n",
       "    </tr>\n",
       "    <tr>\n",
       "      <th>3</th>\n",
       "      <td>1.13689</td>\n",
       "      <td>1.13709</td>\n",
       "      <td>1.13688</td>\n",
       "      <td>1.13708</td>\n",
       "      <td>26</td>\n",
       "    </tr>\n",
       "    <tr>\n",
       "      <th>4</th>\n",
       "      <td>1.13707</td>\n",
       "      <td>1.13717</td>\n",
       "      <td>1.13692</td>\n",
       "      <td>1.13708</td>\n",
       "      <td>35</td>\n",
       "    </tr>\n",
       "    <tr>\n",
       "      <th>...</th>\n",
       "      <td>...</td>\n",
       "      <td>...</td>\n",
       "      <td>...</td>\n",
       "      <td>...</td>\n",
       "      <td>...</td>\n",
       "    </tr>\n",
       "    <tr>\n",
       "      <th>44736</th>\n",
       "      <td>1.01790</td>\n",
       "      <td>1.01823</td>\n",
       "      <td>1.01786</td>\n",
       "      <td>1.01798</td>\n",
       "      <td>393</td>\n",
       "    </tr>\n",
       "    <tr>\n",
       "      <th>44737</th>\n",
       "      <td>1.01800</td>\n",
       "      <td>1.01859</td>\n",
       "      <td>1.01788</td>\n",
       "      <td>1.01848</td>\n",
       "      <td>377</td>\n",
       "    </tr>\n",
       "    <tr>\n",
       "      <th>44738</th>\n",
       "      <td>1.01848</td>\n",
       "      <td>1.01892</td>\n",
       "      <td>1.01843</td>\n",
       "      <td>1.01876</td>\n",
       "      <td>437</td>\n",
       "    </tr>\n",
       "    <tr>\n",
       "      <th>44739</th>\n",
       "      <td>1.01877</td>\n",
       "      <td>1.01902</td>\n",
       "      <td>1.01861</td>\n",
       "      <td>1.01864</td>\n",
       "      <td>344</td>\n",
       "    </tr>\n",
       "    <tr>\n",
       "      <th>44740</th>\n",
       "      <td>1.01864</td>\n",
       "      <td>1.01881</td>\n",
       "      <td>1.01851</td>\n",
       "      <td>1.01865</td>\n",
       "      <td>262</td>\n",
       "    </tr>\n",
       "  </tbody>\n",
       "</table>\n",
       "<p>44741 rows × 5 columns</p>\n",
       "</div>"
      ],
      "text/plain": [
       "        <OPEN>   <HIGH>    <LOW>  <CLOSE>  <TICKVOL>\n",
       "0      1.13693  1.13693  1.13645  1.13674         49\n",
       "1      1.13674  1.13729  1.13669  1.13713         49\n",
       "2      1.13708  1.13723  1.13699  1.13719         43\n",
       "3      1.13689  1.13709  1.13688  1.13708         26\n",
       "4      1.13707  1.13717  1.13692  1.13708         35\n",
       "...        ...      ...      ...      ...        ...\n",
       "44736  1.01790  1.01823  1.01786  1.01798        393\n",
       "44737  1.01800  1.01859  1.01788  1.01848        377\n",
       "44738  1.01848  1.01892  1.01843  1.01876        437\n",
       "44739  1.01877  1.01902  1.01861  1.01864        344\n",
       "44740  1.01864  1.01881  1.01851  1.01865        262\n",
       "\n",
       "[44741 rows x 5 columns]"
      ]
     },
     "execution_count": 5,
     "metadata": {},
     "output_type": "execute_result"
    }
   ],
   "source": [
    "df"
   ]
  },
  {
   "cell_type": "code",
   "execution_count": 6,
   "id": "7cd0a9e5",
   "metadata": {},
   "outputs": [],
   "source": [
    "Y = df['<CLOSE>']"
   ]
  },
  {
   "cell_type": "code",
   "execution_count": 43,
   "id": "95b63014",
   "metadata": {},
   "outputs": [
    {
     "data": {
      "text/plain": [
       "[<matplotlib.lines.Line2D at 0x7f84b80b8ac0>]"
      ]
     },
     "execution_count": 43,
     "metadata": {},
     "output_type": "execute_result"
    },
    {
     "data": {
      "image/png": "[encoded data removed]",
      "text/plain": [
       "<Figure size 432x288 with 1 Axes>"
      ]
     },
     "metadata": {
      "needs_background": "light"
     },
     "output_type": "display_data"
    }
   ],
   "source": [
    "from matplotlib import pyplot as plt\n",
    "plt.plot(range(len(Y)), Y)\n",
    "#plt.plot(range(2880), Y[:2880])"
   ]
  },
  {
   "cell_type": "code",
   "execution_count": 28,
   "id": "bfda3a3a",
   "metadata": {},
   "outputs": [],
   "source": [
    "df = df.drop(['DT'], axis = 1)"
   ]
  },
  {
   "cell_type": "code",
   "execution_count": 7,
   "id": "d613aa0e",
   "metadata": {},
   "outputs": [
    {
     "name": "stdout",
     "output_type": "stream",
     "text": [
      "num_train_samples: 33555\n",
      "num_val_samples: 6711\n",
      "num_test_samples: 4475\n"
     ]
    }
   ],
   "source": [
    "# Определим количество обучающих, тестовых и проверочных примеров\n",
    "num_train_samples = int(0.75 * df.shape[0])\n",
    "num_val_samples = int(0.15 * df.shape[0])\n",
    "num_test_samples = df.shape[0] - num_train_samples - num_val_samples\n",
    "print(\"num_train_samples:\", num_train_samples)\n",
    "print(\"num_val_samples:\", num_val_samples)\n",
    "print(\"num_test_samples:\", num_test_samples)"
   ]
  },
  {
   "cell_type": "code",
   "execution_count": 8,
   "id": "a4b0349c",
   "metadata": {},
   "outputs": [],
   "source": [
    "X = df.to_numpy()"
   ]
  },
  {
   "cell_type": "code",
   "execution_count": 46,
   "id": "2a853040",
   "metadata": {},
   "outputs": [
    {
     "data": {
      "text/plain": [
       "array([[  1.13693,   1.13693,   1.13645,   1.13674,  49.     ],\n",
       "       [  1.13674,   1.13729,   1.13669,   1.13713,  49.     ],\n",
       "       [  1.13708,   1.13723,   1.13699,   1.13719,  43.     ],\n",
       "       ...,\n",
       "       [  1.01848,   1.01892,   1.01843,   1.01876, 437.     ],\n",
       "       [  1.01877,   1.01902,   1.01861,   1.01864, 344.     ],\n",
       "       [  1.01864,   1.01881,   1.01851,   1.01865, 262.     ]])"
      ]
     },
     "execution_count": 46,
     "metadata": {},
     "output_type": "execute_result"
    }
   ],
   "source": [
    "X"
   ]
  },
  {
   "cell_type": "code",
   "execution_count": 135,
   "id": "6f4c06f0",
   "metadata": {},
   "outputs": [],
   "source": [
    "mean = X[:num_train_samples].mean(axis=0)\n",
    "X -= mean\n",
    "std = X[:num_train_samples].std(axis=0)\n",
    "X /= std"
   ]
  },
  {
   "cell_type": "code",
   "execution_count": 9,
   "id": "2b1e9bec",
   "metadata": {},
   "outputs": [],
   "source": [
    "#sampling_rate = 6\n",
    "sequence_length = 24\n",
    "delay = 24\n",
    "batch_size = 256"
   ]
  },
  {
   "cell_type": "code",
   "execution_count": 10,
   "id": "3f7e67fd",
   "metadata": {},
   "outputs": [
    {
     "data": {
      "text/plain": [
       "(44741, 5)"
      ]
     },
     "execution_count": 10,
     "metadata": {},
     "output_type": "execute_result"
    }
   ],
   "source": [
    "X.shape"
   ]
  },
  {
   "cell_type": "code",
   "execution_count": 11,
   "id": "83c2cb88",
   "metadata": {},
   "outputs": [
    {
     "name": "stderr",
     "output_type": "stream",
     "text": [
      "2022-08-11 21:15:00.865299: W tensorflow/stream_executor/platform/default/dso_loader.cc:64] Could not load dynamic library 'libcudart.so.11.0'; dlerror: libcudart.so.11.0: cannot open shared object file: No such file or directory\n",
      "2022-08-11 21:15:00.865317: I tensorflow/stream_executor/cuda/cudart_stub.cc:29] Ignore above cudart dlerror if you do not have a GPU set up on your machine.\n"
     ]
    }
   ],
   "source": [
    "import numpy as np\n",
    "from tensorflow import keras"
   ]
  },
  {
   "cell_type": "code",
   "execution_count": 12,
   "id": "b74c8e7b",
   "metadata": {},
   "outputs": [
    {
     "name": "stderr",
     "output_type": "stream",
     "text": [
      "2022-08-11 21:15:05.493008: W tensorflow/stream_executor/platform/default/dso_loader.cc:64] Could not load dynamic library 'libcuda.so.1'; dlerror: libcuda.so.1: cannot open shared object file: No such file or directory\n",
      "2022-08-11 21:15:05.493030: W tensorflow/stream_executor/cuda/cuda_driver.cc:269] failed call to cuInit: UNKNOWN ERROR (303)\n",
      "2022-08-11 21:15:05.493045: I tensorflow/stream_executor/cuda/cuda_diagnostics.cc:156] kernel driver does not appear to be running on this host (sergey-home): /proc/driver/nvidia/version does not exist\n",
      "2022-08-11 21:15:05.493249: I tensorflow/core/platform/cpu_feature_guard.cc:151] This TensorFlow binary is optimized with oneAPI Deep Neural Network Library (oneDNN) to use the following CPU instructions in performance-critical operations:  AVX2 FMA\n",
      "To enable them in other operations, rebuild TensorFlow with the appropriate compiler flags.\n"
     ]
    }
   ],
   "source": [
    "train_dataset = keras.utils.timeseries_dataset_from_array(\n",
    "    X[:-delay],\n",
    "    targets=Y[delay:],\n",
    "    sequence_length=sequence_length,\n",
    "    shuffle=False,\n",
    "    batch_size=batch_size,\n",
    "    start_index=0,\n",
    "    end_index=num_train_samples)\n",
    "\n",
    "val_dataset = keras.utils.timeseries_dataset_from_array(\n",
    "    X[:-delay],\n",
    "    targets=Y[delay:],\n",
    "    sequence_length=sequence_length,\n",
    "    shuffle=False,\n",
    "    batch_size=batch_size,\n",
    "    start_index=num_train_samples,\n",
    "    end_index=num_train_samples + num_val_samples)\n",
    "\n",
    "test_dataset = keras.utils.timeseries_dataset_from_array(\n",
    "    X[:-delay],\n",
    "    targets=Y[delay:],\n",
    "    sequence_length=sequence_length,\n",
    "    shuffle=False,\n",
    "    batch_size=batch_size,\n",
    "    start_index=num_train_samples + num_val_samples)"
   ]
  },
  {
   "cell_type": "code",
   "execution_count": 13,
   "id": "5c019bd9",
   "metadata": {},
   "outputs": [
    {
     "name": "stdout",
     "output_type": "stream",
     "text": [
      "samples shape: (256, 24, 5)\n",
      "targets shape: (256,)\n"
     ]
    }
   ],
   "source": [
    "for samples, targets in train_dataset:\n",
    "    print(\"samples shape:\", samples.shape)\n",
    "    print(\"targets shape:\", targets.shape)\n",
    "    break"
   ]
  },
  {
   "cell_type": "code",
   "execution_count": 14,
   "id": "bda1aca5",
   "metadata": {},
   "outputs": [
    {
     "data": {
      "text/plain": [
       "<tf.Tensor: shape=(24, 5), dtype=float64, numpy=\n",
       "array([[  1.13693,   1.13693,   1.13645,   1.13674,  49.     ],\n",
       "       [  1.13674,   1.13729,   1.13669,   1.13713,  49.     ],\n",
       "       [  1.13708,   1.13723,   1.13699,   1.13719,  43.     ],\n",
       "       [  1.13689,   1.13709,   1.13688,   1.13708,  26.     ],\n",
       "       [  1.13707,   1.13717,   1.13692,   1.13708,  35.     ],\n",
       "       [  1.13705,   1.13726,   1.13699,   1.13713,  74.     ],\n",
       "       [  1.13723,   1.13734,   1.13711,   1.13726,  41.     ],\n",
       "       [  1.13726,   1.13732,   1.13721,   1.13731,  31.     ],\n",
       "       [  1.13731,   1.13739,   1.1372 ,   1.13724,  76.     ],\n",
       "       [  1.13723,   1.13742,   1.13721,   1.13722,  95.     ],\n",
       "       [  1.13721,   1.13727,   1.13718,   1.13726,  52.     ],\n",
       "       [  1.13725,   1.13778,   1.13717,   1.13778, 306.     ],\n",
       "       [  1.13775,   1.13775,   1.13724,   1.13757, 175.     ],\n",
       "       [  1.13754,   1.13757,   1.13719,   1.13721, 131.     ],\n",
       "       [  1.13726,   1.13758,   1.13707,   1.13713, 134.     ],\n",
       "       [  1.13714,   1.13715,   1.1369 ,   1.13697,  66.     ],\n",
       "       [  1.13701,   1.13729,   1.13698,   1.13723,  78.     ],\n",
       "       [  1.13726,   1.13726,   1.13688,   1.13715,  65.     ],\n",
       "       [  1.13715,   1.13734,   1.13714,   1.13734,  56.     ],\n",
       "       [  1.13734,   1.13734,   1.13715,   1.13723,  92.     ],\n",
       "       [  1.13726,   1.13726,   1.1369 ,   1.1369 ,  95.     ],\n",
       "       [  1.1369 ,   1.13705,   1.13687,   1.13704,  73.     ],\n",
       "       [  1.13703,   1.13728,   1.13695,   1.13728,  74.     ],\n",
       "       [  1.13728,   1.13735,   1.13726,   1.1373 ,  62.     ]])>"
      ]
     },
     "execution_count": 14,
     "metadata": {},
     "output_type": "execute_result"
    }
   ],
   "source": [
    "samples[0]       "
   ]
  },
  {
   "cell_type": "code",
   "execution_count": 15,
   "id": "90a0f3de",
   "metadata": {},
   "outputs": [
    {
     "data": {
      "text/plain": [
       "<tf.Tensor: shape=(24, 5), dtype=float64, numpy=\n",
       "array([[  1.13674,   1.13729,   1.13669,   1.13713,  49.     ],\n",
       "       [  1.13708,   1.13723,   1.13699,   1.13719,  43.     ],\n",
       "       [  1.13689,   1.13709,   1.13688,   1.13708,  26.     ],\n",
       "       [  1.13707,   1.13717,   1.13692,   1.13708,  35.     ],\n",
       "       [  1.13705,   1.13726,   1.13699,   1.13713,  74.     ],\n",
       "       [  1.13723,   1.13734,   1.13711,   1.13726,  41.     ],\n",
       "       [  1.13726,   1.13732,   1.13721,   1.13731,  31.     ],\n",
       "       [  1.13731,   1.13739,   1.1372 ,   1.13724,  76.     ],\n",
       "       [  1.13723,   1.13742,   1.13721,   1.13722,  95.     ],\n",
       "       [  1.13721,   1.13727,   1.13718,   1.13726,  52.     ],\n",
       "       [  1.13725,   1.13778,   1.13717,   1.13778, 306.     ],\n",
       "       [  1.13775,   1.13775,   1.13724,   1.13757, 175.     ],\n",
       "       [  1.13754,   1.13757,   1.13719,   1.13721, 131.     ],\n",
       "       [  1.13726,   1.13758,   1.13707,   1.13713, 134.     ],\n",
       "       [  1.13714,   1.13715,   1.1369 ,   1.13697,  66.     ],\n",
       "       [  1.13701,   1.13729,   1.13698,   1.13723,  78.     ],\n",
       "       [  1.13726,   1.13726,   1.13688,   1.13715,  65.     ],\n",
       "       [  1.13715,   1.13734,   1.13714,   1.13734,  56.     ],\n",
       "       [  1.13734,   1.13734,   1.13715,   1.13723,  92.     ],\n",
       "       [  1.13726,   1.13726,   1.1369 ,   1.1369 ,  95.     ],\n",
       "       [  1.1369 ,   1.13705,   1.13687,   1.13704,  73.     ],\n",
       "       [  1.13703,   1.13728,   1.13695,   1.13728,  74.     ],\n",
       "       [  1.13728,   1.13735,   1.13726,   1.1373 ,  62.     ],\n",
       "       [  1.13727,   1.13759,   1.13725,   1.13749,  73.     ]])>"
      ]
     },
     "execution_count": 15,
     "metadata": {},
     "output_type": "execute_result"
    }
   ],
   "source": [
    "samples[1] "
   ]
  },
  {
   "cell_type": "code",
   "execution_count": 20,
   "id": "be8f45dd",
   "metadata": {},
   "outputs": [
    {
     "name": "stdout",
     "output_type": "stream",
     "text": [
      "Epoch 1/5\n",
      "131/131 [==============================] - 6s 30ms/step - loss: 0.0081 - mae: 0.0514 - val_loss: 0.0021 - val_mae: 0.0410\n",
      "Epoch 2/5\n",
      "131/131 [==============================] - 3s 26ms/step - loss: 0.0013 - mae: 0.0341 - val_loss: 0.0015 - val_mae: 0.0335\n",
      "Epoch 3/5\n",
      "131/131 [==============================] - 3s 25ms/step - loss: 8.3424e-04 - mae: 0.0261 - val_loss: 0.0011 - val_mae: 0.0267\n",
      "Epoch 4/5\n",
      "131/131 [==============================] - 3s 26ms/step - loss: 6.0959e-04 - mae: 0.0211 - val_loss: 8.8290e-04 - val_mae: 0.0222\n",
      "Epoch 5/5\n",
      "131/131 [==============================] - 4s 27ms/step - loss: 4.7416e-04 - mae: 0.0185 - val_loss: 7.6342e-04 - val_mae: 0.0199\n"
     ]
    }
   ],
   "source": [
    "from tensorflow.keras import layers\n",
    "inputs = keras.Input(shape=(sequence_length, X.shape[-1]))\n",
    "\n",
    "x = layers.LSTM(32, return_sequences = True)(inputs) #recurrent_dropout=0.25\n",
    "x = layers.LSTM(32, )(x)\n",
    "\n",
    "#x = layers.Dropout(0.5)(x)\n",
    "outputs = layers.Dense(1)(x)\n",
    "\n",
    "model = keras.Model(inputs, outputs)\n",
    "\n",
    "callbacks = [\n",
    "    keras.callbacks.ModelCheckpoint(\"forex_lstm.h5\",\n",
    "                                    save_best_only=True)\n",
    "]\n",
    "model.compile(optimizer=\"rmsprop\", loss=\"mse\", metrics=[\"mae\"])\n",
    "history = model.fit(train_dataset,\n",
    "                    epochs=5,\n",
    "                    validation_data=val_dataset,\n",
    "                    callbacks=callbacks)"
   ]
  },
  {
   "cell_type": "code",
   "execution_count": 66,
   "id": "a2226b54",
   "metadata": {},
   "outputs": [
    {
     "name": "stdout",
     "output_type": "stream",
     "text": [
      "Epoch 1/50\n",
      "131/131 [==============================] - 3s 21ms/step - loss: 3.1831e-04 - mae: 0.0146 - val_loss: 6.0315e-04 - val_mae: 0.0173\n",
      "Epoch 2/50\n",
      "131/131 [==============================] - 3s 21ms/step - loss: 2.6998e-04 - mae: 0.0134 - val_loss: 5.9079e-04 - val_mae: 0.0172\n",
      "Epoch 3/50\n",
      "131/131 [==============================] - 3s 21ms/step - loss: 2.3206e-04 - mae: 0.0122 - val_loss: 5.7060e-04 - val_mae: 0.0170\n",
      "Epoch 4/50\n",
      "131/131 [==============================] - 3s 21ms/step - loss: 2.0988e-04 - mae: 0.0113 - val_loss: 5.5937e-04 - val_mae: 0.0169\n",
      "Epoch 5/50\n",
      "131/131 [==============================] - 3s 21ms/step - loss: 1.9746e-04 - mae: 0.0108 - val_loss: 5.4769e-04 - val_mae: 0.0168\n",
      "Epoch 6/50\n",
      "131/131 [==============================] - 3s 21ms/step - loss: 1.8882e-04 - mae: 0.0103 - val_loss: 5.3655e-04 - val_mae: 0.0167\n",
      "Epoch 7/50\n",
      "131/131 [==============================] - 3s 22ms/step - loss: 1.8261e-04 - mae: 0.0099 - val_loss: 5.2998e-04 - val_mae: 0.0166\n",
      "Epoch 8/50\n",
      "131/131 [==============================] - 3s 21ms/step - loss: 1.7766e-04 - mae: 0.0096 - val_loss: 5.3461e-04 - val_mae: 0.0167\n",
      "Epoch 9/50\n",
      "131/131 [==============================] - 3s 21ms/step - loss: 1.7295e-04 - mae: 0.0093 - val_loss: 5.3485e-04 - val_mae: 0.0167\n",
      "Epoch 10/50\n",
      "131/131 [==============================] - 3s 22ms/step - loss: 1.7278e-04 - mae: 0.0095 - val_loss: 4.6194e-04 - val_mae: 0.0162\n",
      "Epoch 11/50\n",
      "131/131 [==============================] - 3s 23ms/step - loss: 1.7597e-04 - mae: 0.0096 - val_loss: 4.5782e-04 - val_mae: 0.0162\n",
      "Epoch 12/50\n",
      "131/131 [==============================] - 3s 21ms/step - loss: 1.7106e-04 - mae: 0.0094 - val_loss: 4.5206e-04 - val_mae: 0.0162\n",
      "Epoch 13/50\n",
      "131/131 [==============================] - 3s 21ms/step - loss: 1.6849e-04 - mae: 0.0093 - val_loss: 4.4871e-04 - val_mae: 0.0162\n",
      "Epoch 14/50\n",
      "131/131 [==============================] - 3s 21ms/step - loss: 1.6691e-04 - mae: 0.0092 - val_loss: 4.4445e-04 - val_mae: 0.0162\n",
      "Epoch 15/50\n",
      "131/131 [==============================] - 3s 22ms/step - loss: 1.6563e-04 - mae: 0.0092 - val_loss: 4.4176e-04 - val_mae: 0.0162\n",
      "Epoch 16/50\n",
      "131/131 [==============================] - 3s 21ms/step - loss: 1.6435e-04 - mae: 0.0091 - val_loss: 4.4011e-04 - val_mae: 0.0163\n",
      "Epoch 17/50\n",
      "131/131 [==============================] - 3s 21ms/step - loss: 1.6302e-04 - mae: 0.0090 - val_loss: 4.3903e-04 - val_mae: 0.0163\n",
      "Epoch 18/50\n",
      "131/131 [==============================] - 3s 21ms/step - loss: 1.6177e-04 - mae: 0.0089 - val_loss: 4.3830e-04 - val_mae: 0.0163\n",
      "Epoch 19/50\n",
      "131/131 [==============================] - 3s 22ms/step - loss: 1.6051e-04 - mae: 0.0088 - val_loss: 4.3782e-04 - val_mae: 0.0163\n",
      "Epoch 20/50\n",
      "131/131 [==============================] - 3s 21ms/step - loss: 1.5929e-04 - mae: 0.0087 - val_loss: 4.3765e-04 - val_mae: 0.0163\n",
      "Epoch 21/50\n",
      "131/131 [==============================] - 3s 21ms/step - loss: 1.5804e-04 - mae: 0.0086 - val_loss: 4.3788e-04 - val_mae: 0.0163\n",
      "Epoch 22/50\n",
      "131/131 [==============================] - 3s 21ms/step - loss: 1.5667e-04 - mae: 0.0083 - val_loss: 4.3842e-04 - val_mae: 0.0163\n",
      "Epoch 23/50\n",
      "131/131 [==============================] - 3s 21ms/step - loss: 1.5136e-04 - mae: 0.0080 - val_loss: 4.5263e-04 - val_mae: 0.0162\n",
      "Epoch 24/50\n",
      "131/131 [==============================] - 3s 21ms/step - loss: 1.4962e-04 - mae: 0.0081 - val_loss: 4.4496e-04 - val_mae: 0.0162\n",
      "Epoch 25/50\n",
      "131/131 [==============================] - 3s 21ms/step - loss: 1.5029e-04 - mae: 0.0081 - val_loss: 4.5040e-04 - val_mae: 0.0162\n",
      "Epoch 26/50\n",
      "131/131 [==============================] - 3s 22ms/step - loss: 1.4758e-04 - mae: 0.0081 - val_loss: 4.4854e-04 - val_mae: 0.0162\n",
      "Epoch 27/50\n",
      "131/131 [==============================] - 3s 23ms/step - loss: 1.4410e-04 - mae: 0.0080 - val_loss: 4.6759e-04 - val_mae: 0.0162\n",
      "Epoch 28/50\n",
      "131/131 [==============================] - 3s 21ms/step - loss: 1.4013e-04 - mae: 0.0080 - val_loss: 4.9562e-04 - val_mae: 0.0164\n",
      "Epoch 29/50\n",
      "131/131 [==============================] - 3s 22ms/step - loss: 1.3689e-04 - mae: 0.0079 - val_loss: 5.0344e-04 - val_mae: 0.0164\n",
      "Epoch 30/50\n",
      "131/131 [==============================] - 3s 21ms/step - loss: 1.3565e-04 - mae: 0.0078 - val_loss: 5.0259e-04 - val_mae: 0.0164\n",
      "Epoch 31/50\n",
      "131/131 [==============================] - 3s 21ms/step - loss: 1.3534e-04 - mae: 0.0078 - val_loss: 4.8635e-04 - val_mae: 0.0163\n",
      "Epoch 32/50\n",
      "131/131 [==============================] - 3s 22ms/step - loss: 1.3713e-04 - mae: 0.0076 - val_loss: 4.6056e-04 - val_mae: 0.0162\n",
      "Epoch 33/50\n",
      "131/131 [==============================] - 3s 21ms/step - loss: 1.4058e-04 - mae: 0.0076 - val_loss: 4.5336e-04 - val_mae: 0.0162\n",
      "Epoch 34/50\n",
      "131/131 [==============================] - 3s 21ms/step - loss: 1.4126e-04 - mae: 0.0075 - val_loss: 4.5181e-04 - val_mae: 0.0162\n",
      "Epoch 35/50\n",
      "131/131 [==============================] - 3s 21ms/step - loss: 1.4103e-04 - mae: 0.0075 - val_loss: 4.4980e-04 - val_mae: 0.0162\n",
      "Epoch 36/50\n",
      "131/131 [==============================] - 3s 21ms/step - loss: 1.4082e-04 - mae: 0.0075 - val_loss: 4.4848e-04 - val_mae: 0.0162\n",
      "Epoch 37/50\n",
      "131/131 [==============================] - 3s 23ms/step - loss: 1.3980e-04 - mae: 0.0075 - val_loss: 4.4839e-04 - val_mae: 0.0162\n",
      "Epoch 38/50\n",
      "131/131 [==============================] - 3s 22ms/step - loss: 1.4101e-04 - mae: 0.0076 - val_loss: 4.4050e-04 - val_mae: 0.0162\n",
      "Epoch 39/50\n",
      "131/131 [==============================] - 3s 22ms/step - loss: 1.4238e-04 - mae: 0.0076 - val_loss: 4.3771e-04 - val_mae: 0.0163\n",
      "Epoch 40/50\n",
      "131/131 [==============================] - 3s 22ms/step - loss: 1.4333e-04 - mae: 0.0077 - val_loss: 4.3524e-04 - val_mae: 0.0163\n",
      "Epoch 41/50\n",
      "131/131 [==============================] - 3s 22ms/step - loss: 1.4345e-04 - mae: 0.0077 - val_loss: 4.3319e-04 - val_mae: 0.0163\n",
      "Epoch 42/50\n",
      "131/131 [==============================] - 3s 22ms/step - loss: 1.4342e-04 - mae: 0.0077 - val_loss: 4.3171e-04 - val_mae: 0.0163\n",
      "Epoch 43/50\n",
      "131/131 [==============================] - 3s 23ms/step - loss: 1.4334e-04 - mae: 0.0077 - val_loss: 4.3077e-04 - val_mae: 0.0163\n",
      "Epoch 44/50\n",
      "131/131 [==============================] - 3s 21ms/step - loss: 1.4320e-04 - mae: 0.0077 - val_loss: 4.3019e-04 - val_mae: 0.0164\n",
      "Epoch 45/50\n",
      "131/131 [==============================] - 3s 21ms/step - loss: 1.4302e-04 - mae: 0.0077 - val_loss: 4.2986e-04 - val_mae: 0.0164\n",
      "Epoch 46/50\n",
      "131/131 [==============================] - 3s 21ms/step - loss: 1.4279e-04 - mae: 0.0077 - val_loss: 4.2967e-04 - val_mae: 0.0164\n",
      "Epoch 47/50\n",
      "131/131 [==============================] - 3s 21ms/step - loss: 1.4255e-04 - mae: 0.0077 - val_loss: 4.2957e-04 - val_mae: 0.0164\n",
      "Epoch 48/50\n",
      "131/131 [==============================] - 3s 21ms/step - loss: 1.4230e-04 - mae: 0.0077 - val_loss: 4.2952e-04 - val_mae: 0.0164\n",
      "Epoch 49/50\n",
      "131/131 [==============================] - 3s 21ms/step - loss: 1.4204e-04 - mae: 0.0076 - val_loss: 4.2949e-04 - val_mae: 0.0164\n",
      "Epoch 50/50\n",
      "131/131 [==============================] - 3s 21ms/step - loss: 1.4179e-04 - mae: 0.0076 - val_loss: 4.2948e-04 - val_mae: 0.0164\n"
     ]
    }
   ],
   "source": [
    "history = model.fit(train_dataset,\n",
    "                    epochs=50,\n",
    "                    validation_data=val_dataset,\n",
    "                    callbacks=callbacks)"
   ]
  },
  {
   "cell_type": "code",
   "execution_count": null,
   "id": "3cf98fa1",
   "metadata": {},
   "outputs": [],
   "source": []
  },
  {
   "cell_type": "code",
   "execution_count": 16,
   "id": "acab8876",
   "metadata": {},
   "outputs": [],
   "source": [
    "last_seq = X[-sequence_length:]\n",
    "    "
   ]
  },
  {
   "cell_type": "code",
   "execution_count": 17,
   "id": "7ed7ff67",
   "metadata": {},
   "outputs": [
    {
     "data": {
      "text/plain": [
       "array([[  1.02032,   1.02034,   1.01948,   1.01948, 328.     ],\n",
       "       [  1.01948,   1.01957,   1.01894,   1.01902, 666.     ],\n",
       "       [  1.01902,   1.01948,   1.01887,   1.01889, 420.     ],\n",
       "       [  1.01889,   1.01929,   1.01872,   1.01904, 471.     ],\n",
       "       [  1.01904,   1.0192 ,   1.01868,   1.01872, 350.     ],\n",
       "       [  1.01872,   1.01874,   1.01832,   1.01858, 447.     ],\n",
       "       [  1.01858,   1.01903,   1.01858,   1.01889, 508.     ],\n",
       "       [  1.01889,   1.01928,   1.01864,   1.01871, 481.     ],\n",
       "       [  1.0187 ,   1.01879,   1.01842,   1.0187 , 433.     ],\n",
       "       [  1.01871,   1.01939,   1.01865,   1.01921, 439.     ],\n",
       "       [  1.0192 ,   1.0192 ,   1.01816,   1.01817, 383.     ],\n",
       "       [  1.01816,   1.01838,   1.01812,   1.01819, 364.     ],\n",
       "       [  1.01819,   1.01825,   1.01782,   1.01803, 375.     ],\n",
       "       [  1.01802,   1.01829,   1.01729,   1.01792, 544.     ],\n",
       "       [  1.01792,   1.01794,   1.01751,   1.01758, 448.     ],\n",
       "       [  1.01758,   1.01811,   1.01753,   1.01807, 499.     ],\n",
       "       [  1.01807,   1.01838,   1.01782,   1.01797, 467.     ],\n",
       "       [  1.01799,   1.01819,   1.01766,   1.01813, 471.     ],\n",
       "       [  1.01813,   1.01813,   1.01771,   1.0179 , 393.     ],\n",
       "       [  1.0179 ,   1.01823,   1.01786,   1.01798, 393.     ],\n",
       "       [  1.018  ,   1.01859,   1.01788,   1.01848, 377.     ],\n",
       "       [  1.01848,   1.01892,   1.01843,   1.01876, 437.     ],\n",
       "       [  1.01877,   1.01902,   1.01861,   1.01864, 344.     ],\n",
       "       [  1.01864,   1.01881,   1.01851,   1.01865, 262.     ]])"
      ]
     },
     "execution_count": 17,
     "metadata": {},
     "output_type": "execute_result"
    }
   ],
   "source": [
    "last_seq"
   ]
  },
  {
   "cell_type": "code",
   "execution_count": null,
   "id": "ec8edd3c",
   "metadata": {},
   "outputs": [],
   "source": []
  },
  {
   "cell_type": "code",
   "execution_count": null,
   "id": "2c171c59",
   "metadata": {},
   "outputs": [],
   "source": []
  },
  {
   "cell_type": "code",
   "execution_count": 18,
   "id": "d332ce8c",
   "metadata": {},
   "outputs": [],
   "source": [
    "last_seq = np.expand_dims(last_seq, axis=0)"
   ]
  },
  {
   "cell_type": "code",
   "execution_count": 21,
   "id": "9a26d742",
   "metadata": {},
   "outputs": [
    {
     "data": {
      "text/plain": [
       "array([[1.0551816]], dtype=float32)"
      ]
     },
     "execution_count": 21,
     "metadata": {},
     "output_type": "execute_result"
    }
   ],
   "source": [
    "model.predict(last_seq)"
   ]
  },
  {
   "cell_type": "code",
   "execution_count": 157,
   "id": "ad6b1e6d",
   "metadata": {},
   "outputs": [
    {
     "data": {
      "text/plain": [
       "(1, 120, 20)"
      ]
     },
     "execution_count": 157,
     "metadata": {},
     "output_type": "execute_result"
    }
   ],
   "source": [
    "last_seq.shape"
   ]
  },
  {
   "cell_type": "code",
   "execution_count": 61,
   "id": "84ef9560",
   "metadata": {},
   "outputs": [],
   "source": [
    "pred = model.predict(test_dataset)"
   ]
  },
  {
   "cell_type": "code",
   "execution_count": null,
   "id": "2889154d",
   "metadata": {},
   "outputs": [],
   "source": []
  },
  {
   "cell_type": "code",
   "execution_count": 64,
   "id": "47af327b",
   "metadata": {},
   "outputs": [
    {
     "data": {
      "text/plain": [
       "[<matplotlib.lines.Line2D at 0x7f84aa57e580>]"
      ]
     },
     "execution_count": 64,
     "metadata": {},
     "output_type": "execute_result"
    },
    {
     "data": {
      "image/png": "[encoded data removed]",
      "text/plain": [
       "<Figure size 432x288 with 1 Axes>"
      ]
     },
     "metadata": {
      "needs_background": "light"
     },
     "output_type": "display_data"
    }
   ],
   "source": [
    "from matplotlib import pyplot as plt\n",
    "plt.plot(range(4428), Y[-4428:])\n",
    "plt.plot(range(4428), pred)"
   ]
  },
  {
   "cell_type": "code",
   "execution_count": 165,
   "id": "ffe0e088",
   "metadata": {},
   "outputs": [
    {
     "data": {
      "text/plain": [
       "((4473,), (4234, 1))"
      ]
     },
     "execution_count": 165,
     "metadata": {},
     "output_type": "execute_result"
    }
   ],
   "source": [
    "Y[num_train_samples + num_val_samples:].shape, pred.shape"
   ]
  },
  {
   "cell_type": "code",
   "execution_count": 166,
   "id": "e6d11c38",
   "metadata": {},
   "outputs": [
    {
     "data": {
      "text/plain": [
       "40494    1.01603\n",
       "40495    1.01624\n",
       "40496    1.01640\n",
       "40497    1.01679\n",
       "40498    1.01716\n",
       "          ...   \n",
       "44736    1.01790\n",
       "44737    1.01800\n",
       "44738    1.01848\n",
       "44739    1.01877\n",
       "44740    1.01864\n",
       "Name: o_e, Length: 4234, dtype: float64"
      ]
     },
     "execution_count": 166,
     "metadata": {},
     "output_type": "execute_result"
    }
   ],
   "source": [
    "Y[-4234:]"
   ]
  },
  {
   "cell_type": "code",
   "execution_count": null,
   "id": "bdbfbabd",
   "metadata": {},
   "outputs": [],
   "source": []
  }
 ],
 "metadata": {
  "kernelspec": {
   "display_name": "Python 3 (ipykernel)",
   "language": "python",
   "name": "python3"
  },
  "language_info": {
   "codemirror_mode": {
    "name": "ipython",
    "version": 3
   },
   "file_extension": ".py",
   "mimetype": "text/x-python",
   "name": "python",
   "nbconvert_exporter": "python",
   "pygments_lexer": "ipython3",
   "version": "3.9.7"
  }
 },
 "nbformat": 4,
 "nbformat_minor": 5
}
