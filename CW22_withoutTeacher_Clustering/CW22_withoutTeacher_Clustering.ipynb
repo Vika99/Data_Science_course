{
 "cells": [
  {
   "cell_type": "code",
   "execution_count": 1,
   "id": "b292e5df",
   "metadata": {},
   "outputs": [],
   "source": [
    "import pandas as pd\n",
    "from matplotlib import pyplot as plt\n",
    "import seaborn as sns\n",
    "%matplotlib inline\n",
    "import numpy as np\n",
    "from sklearn.metrics import confusion_matrix, precision_score, \\\n",
    "              recall_score, f1_score, precision_recall_curve, roc_curve, roc_auc_score, \\\n",
    "              auc, mean_squared_error, accuracy_score\n",
    "import math\n",
    "plt.rcParams[\"figure.figsize\"] = (12,6)\n",
    "from sklearn.model_selection import cross_val_score"
   ]
  },
  {
   "cell_type": "markdown",
   "id": "bf164348",
   "metadata": {},
   "source": [
    "# SK-learn"
   ]
  },
  {
   "cell_type": "markdown",
   "id": "ff570f5c",
   "metadata": {},
   "source": [
    "## Выделение признаков"
   ]
  },
  {
   "cell_type": "code",
   "execution_count": 22,
   "id": "1888f2d4",
   "metadata": {},
   "outputs": [
    {
     "name": "stdout",
     "output_type": "stream",
     "text": [
      "[1. 0. 1. 1. 0. 0. 1.]\n",
      "[0. 1. 1. 0. 1. 0. 1.]\n",
      "[1. 1. 1. 1. 1. 2. 2.]\n"
     ]
    }
   ],
   "source": [
    "# bag of words\n",
    "#texts представляет собой 3 предложения\n",
    "texts = [['i', 'have', 'a', 'cat'],\n",
    "         ['he', 'have', 'a', 'dog'],\n",
    "         ['he', 'and', 'i', 'have', 'a', 'cat', 'and', 'a', 'dog']]\n",
    "# corpus - это список всех слов,которые есть в нашем предложении.\n",
    "corpus = texts[0] + texts[1] + texts[2]\n",
    "\n",
    "#создаем set чтобы удалить повторы из выше нашего множества(словаря) и получаем словарь всех слов,которые попадают в наш словарь.\n",
    "#у каждого слова есть номер(номер ячейки)\n",
    "dictionary = list(enumerate(set(corpus)))\n",
    "\n",
    "def vectorize(text):\n",
    "    # vector - формируем вектор пустой длины нашего словаря и далее заполняем вектор теми словами,которые есть в предложении\n",
    "    # т.е. на те места, которые соответсвуют нашим словам,устанавливаются нужные значения.\n",
    "    # i, word - так как i наш номер(индекс в словаре), word - само наше слово.\n",
    "    vector = np.zeros(len(dictionary))\n",
    "    for i, word in dictionary:\n",
    "        num = 0\n",
    "        for w in text:\n",
    "            if w == word:\n",
    "                num += 1\n",
    "        if num:\n",
    "            vector[i] = num\n",
    "    return vector\n",
    "\n",
    "for t in texts:\n",
    "    print(vectorize(t))\n",
    "    \n",
    "#ПРЕДЛОЖЕНИЕ КОДИРУЕТСЯ ВЕКТОРОМ"
   ]
  },
  {
   "cell_type": "code",
   "execution_count": 21,
   "id": "589e3fa0",
   "metadata": {},
   "outputs": [
    {
     "data": {
      "text/plain": [
       "{'a', 'and', 'cat', 'dog', 'have', 'he', 'i'}"
      ]
     },
     "execution_count": 21,
     "metadata": {},
     "output_type": "execute_result"
    }
   ],
   "source": [
    "set(corpus)"
   ]
  },
  {
   "cell_type": "code",
   "execution_count": 20,
   "id": "15560b88",
   "metadata": {},
   "outputs": [
    {
     "data": {
      "text/plain": [
       "[(0, 'i'),\n",
       " (1, 'he'),\n",
       " (2, 'have'),\n",
       " (3, 'cat'),\n",
       " (4, 'dog'),\n",
       " (5, 'and'),\n",
       " (6, 'a')]"
      ]
     },
     "execution_count": 20,
     "metadata": {},
     "output_type": "execute_result"
    }
   ],
   "source": [
    "dictionary"
   ]
  },
  {
   "cell_type": "code",
   "execution_count": 18,
   "id": "d132830d",
   "metadata": {},
   "outputs": [
    {
     "data": {
      "text/plain": [
       "['i',\n",
       " 'have',\n",
       " 'a',\n",
       " 'cat',\n",
       " 'he',\n",
       " 'have',\n",
       " 'a',\n",
       " 'dog',\n",
       " 'he',\n",
       " 'and',\n",
       " 'i',\n",
       " 'have',\n",
       " 'a',\n",
       " 'cat',\n",
       " 'and',\n",
       " 'a',\n",
       " 'dog']"
      ]
     },
     "execution_count": 18,
     "metadata": {},
     "output_type": "execute_result"
    }
   ],
   "source": [
    "corpus"
   ]
  },
  {
   "cell_type": "code",
   "execution_count": null,
   "id": "a8752470",
   "metadata": {},
   "outputs": [],
   "source": []
  },
  {
   "cell_type": "code",
   "execution_count": 23,
   "id": "98282f82",
   "metadata": {},
   "outputs": [
    {
     "data": {
      "text/plain": [
       "{'no': 2, 'have': 1, 'cows': 0}"
      ]
     },
     "execution_count": 23,
     "metadata": {},
     "output_type": "execute_result"
    }
   ],
   "source": [
    "from sklearn.feature_extraction.text import CountVectorizer\n",
    "# CountVectorizer использует стоп-слова\n",
    "#ngram_range=(1,1) - В данном случае обозначает, что можно использовать для оптимизации набор из одного слова.\n",
    "vect = CountVectorizer(ngram_range=(1,1)) \n",
    "\n",
    "vect.fit_transform(['no i have cows', 'i have no cows']).toarray()\n",
    "#vect.vocabulary_\n",
    "\n",
    "#vect = CountVectorizer(ngram_range=(1,2)) \n",
    "\n",
    "#vect.fit_transform(['no i have cows', 'i have no cows']).toarray()\n",
    "\n",
    "vect.vocabulary_\n"
   ]
  },
  {
   "cell_type": "code",
   "execution_count": 24,
   "id": "6ce325eb",
   "metadata": {},
   "outputs": [],
   "source": [
    "from scipy.spatial.distance import euclidean\n",
    "# analyzer='char_wb' говорит анализируй посимвольно и можно пробелы использовать...\n",
    "vect = CountVectorizer(ngram_range=(3,3), analyzer='char_wb') \n",
    "\n",
    "n1, n2, n3, n4 = vect.fit_transform(['иванов', 'петров', 'петренко', 'смит']).toarray()\n",
    "# euclidean возвращает евклидово расстояние между нашими словами\n",
    "#euclidean(n1, n2)"
   ]
  },
  {
   "cell_type": "code",
   "execution_count": 25,
   "id": "45841d11",
   "metadata": {},
   "outputs": [
    {
     "data": {
      "text/plain": [
       "3.1622776601683795"
      ]
     },
     "execution_count": 25,
     "metadata": {},
     "output_type": "execute_result"
    }
   ],
   "source": [
    "euclidean(n1, n2)"
   ]
  },
  {
   "cell_type": "code",
   "execution_count": 8,
   "id": "a4283634",
   "metadata": {},
   "outputs": [
    {
     "name": "stdout",
     "output_type": "stream",
     "text": [
      "Downloading data from https://storage.googleapis.com/tensorflow/keras-applications/resnet/resnet50_weights_tf_dim_ordering_tf_kernels_notop.h5\n",
      "94765736/94765736 [==============================] - 214s 2us/step\n",
      "1/1 [==============================] - 2s 2s/step\n"
     ]
    }
   ],
   "source": [
    "from tensorflow.keras.applications.resnet50 import ResNet50\n",
    "from tensorflow.keras.preprocessing import image\n",
    "from scipy.misc import face\n",
    "import numpy as np\n",
    "\n",
    "resnet_settings = {'include_top': False, 'weights': 'imagenet'}\n",
    "resnet = ResNet50(**resnet_settings)\n",
    "\n",
    "img = image.array_to_img(face())\n",
    "# какой милый енот! \n",
    "img = img.resize((224, 224))\n",
    "# в реальной жизни может понадобиться внимательнее относиться к ресайзу\n",
    "x = image.img_to_array(img)\n",
    "x = np.expand_dims(x, axis=0)\n",
    "# нужно дополнительное измерение, т.к. модель рассчитана на работу с массивом изображений\n",
    "\n",
    "features = resnet.predict(x/255)"
   ]
  },
  {
   "cell_type": "code",
   "execution_count": 9,
   "id": "2aad89e4",
   "metadata": {},
   "outputs": [
    {
     "data": {
      "image/png": "[encoded data removed]",
      "text/plain": [
       "<PIL.Image.Image image mode=RGB size=224x224 at 0x28F13272E20>"
      ]
     },
     "execution_count": 9,
     "metadata": {},
     "output_type": "execute_result"
    }
   ],
   "source": [
    "img"
   ]
  },
  {
   "cell_type": "markdown",
   "id": "47dcc555",
   "metadata": {},
   "source": [
    "## обработка признаков"
   ]
  },
  {
   "cell_type": "code",
   "execution_count": 26,
   "id": "d834d45b",
   "metadata": {},
   "outputs": [],
   "source": [
    "#проекция на окружность для часов\n",
    "\n",
    "def make_harmonic_features(value, period=24):\n",
    "    value *= 2 * np.pi / period\n",
    "    return np.cos(value), np.sin(value)"
   ]
  },
  {
   "cell_type": "code",
   "execution_count": 27,
   "id": "a6ed1cfb",
   "metadata": {},
   "outputs": [
    {
     "data": {
      "text/plain": [
       "0.5176380902050424"
      ]
     },
     "execution_count": 27,
     "metadata": {},
     "output_type": "execute_result"
    }
   ],
   "source": [
    "euclidean(make_harmonic_features(23), make_harmonic_features(1))"
   ]
  },
  {
   "cell_type": "code",
   "execution_count": null,
   "id": "babc6e1a",
   "metadata": {},
   "outputs": [],
   "source": []
  },
  {
   "cell_type": "code",
   "execution_count": null,
   "id": "d8b9b3e9",
   "metadata": {},
   "outputs": [],
   "source": []
  },
  {
   "cell_type": "code",
   "execution_count": null,
   "id": "4d402914",
   "metadata": {},
   "outputs": [],
   "source": []
  },
  {
   "cell_type": "code",
   "execution_count": 7,
   "id": "28366b67",
   "metadata": {},
   "outputs": [
    {
     "name": "stdout",
     "output_type": "stream",
     "text": [
      "Collecting tensorflow\n",
      "  Downloading tensorflow-2.9.1-cp39-cp39-win_amd64.whl (444.0 MB)\n",
      "Collecting keras-preprocessing>=1.1.1\n",
      "  Using cached Keras_Preprocessing-1.1.2-py2.py3-none-any.whl (42 kB)\n",
      "Requirement already satisfied: wrapt>=1.11.0 in c:\\users\\laptop\\anaconda3\\lib\\site-packages (from tensorflow) (1.12.1)\n",
      "Collecting grpcio<2.0,>=1.24.3\n",
      "  Downloading grpcio-1.46.3-cp39-cp39-win_amd64.whl (3.5 MB)\n",
      "Collecting keras<2.10.0,>=2.9.0rc0\n",
      "  Downloading keras-2.9.0-py2.py3-none-any.whl (1.6 MB)\n",
      "Requirement already satisfied: typing-extensions>=3.6.6 in c:\\users\\laptop\\anaconda3\\lib\\site-packages (from tensorflow) (3.10.0.2)\n",
      "Collecting termcolor>=1.1.0\n",
      "  Using cached termcolor-1.1.0.tar.gz (3.9 kB)\n",
      "Collecting libclang>=13.0.0\n",
      "  Downloading libclang-14.0.1-py2.py3-none-win_amd64.whl (14.2 MB)\n",
      "Collecting astunparse>=1.6.0\n",
      "  Using cached astunparse-1.6.3-py2.py3-none-any.whl (12 kB)\n",
      "Collecting gast<=0.4.0,>=0.2.1\n",
      "  Downloading gast-0.4.0-py3-none-any.whl (9.8 kB)\n",
      "Collecting absl-py>=1.0.0\n",
      "  Downloading absl_py-1.1.0-py3-none-any.whl (123 kB)\n",
      "Collecting tensorboard<2.10,>=2.9\n",
      "  Downloading tensorboard-2.9.1-py3-none-any.whl (5.8 MB)\n",
      "Requirement already satisfied: packaging in c:\\users\\laptop\\anaconda3\\lib\\site-packages (from tensorflow) (21.0)\n",
      "Requirement already satisfied: numpy>=1.20 in c:\\users\\laptop\\anaconda3\\lib\\site-packages (from tensorflow) (1.20.3)\n",
      "Requirement already satisfied: h5py>=2.9.0 in c:\\users\\laptop\\anaconda3\\lib\\site-packages (from tensorflow) (3.2.1)\n",
      "Requirement already satisfied: setuptools in c:\\users\\laptop\\anaconda3\\lib\\site-packages (from tensorflow) (58.0.4)\n",
      "Collecting google-pasta>=0.1.1\n",
      "  Using cached google_pasta-0.2.0-py3-none-any.whl (57 kB)\n",
      "Collecting opt-einsum>=2.3.2\n",
      "  Using cached opt_einsum-3.3.0-py3-none-any.whl (65 kB)\n",
      "Collecting protobuf<3.20,>=3.9.2\n",
      "  Downloading protobuf-3.19.4-cp39-cp39-win_amd64.whl (895 kB)\n",
      "Collecting flatbuffers<2,>=1.12\n",
      "  Downloading flatbuffers-1.12-py2.py3-none-any.whl (15 kB)\n",
      "Collecting tensorflow-io-gcs-filesystem>=0.23.1\n",
      "  Downloading tensorflow_io_gcs_filesystem-0.26.0-cp39-cp39-win_amd64.whl (1.5 MB)\n",
      "Requirement already satisfied: six>=1.12.0 in c:\\users\\laptop\\anaconda3\\lib\\site-packages (from tensorflow) (1.16.0)\n",
      "Collecting tensorflow-estimator<2.10.0,>=2.9.0rc0\n",
      "  Downloading tensorflow_estimator-2.9.0-py2.py3-none-any.whl (438 kB)\n",
      "Requirement already satisfied: wheel<1.0,>=0.23.0 in c:\\users\\laptop\\anaconda3\\lib\\site-packages (from astunparse>=1.6.0->tensorflow) (0.37.0)\n",
      "Collecting google-auth-oauthlib<0.5,>=0.4.1\n",
      "  Downloading google_auth_oauthlib-0.4.6-py2.py3-none-any.whl (18 kB)\n",
      "Requirement already satisfied: werkzeug>=1.0.1 in c:\\users\\laptop\\anaconda3\\lib\\site-packages (from tensorboard<2.10,>=2.9->tensorflow) (2.0.2)\n",
      "Collecting tensorboard-plugin-wit>=1.6.0\n",
      "  Downloading tensorboard_plugin_wit-1.8.1-py3-none-any.whl (781 kB)\n",
      "Collecting google-auth<3,>=1.6.3\n",
      "  Downloading google_auth-2.8.0-py2.py3-none-any.whl (164 kB)\n",
      "Collecting tensorboard-data-server<0.7.0,>=0.6.0\n",
      "  Downloading tensorboard_data_server-0.6.1-py3-none-any.whl (2.4 kB)\n",
      "Collecting markdown>=2.6.8\n",
      "  Downloading Markdown-3.3.7-py3-none-any.whl (97 kB)\n",
      "Requirement already satisfied: requests<3,>=2.21.0 in c:\\users\\laptop\\anaconda3\\lib\\site-packages (from tensorboard<2.10,>=2.9->tensorflow) (2.26.0)\n",
      "Collecting pyasn1-modules>=0.2.1\n",
      "  Using cached pyasn1_modules-0.2.8-py2.py3-none-any.whl (155 kB)\n",
      "Collecting rsa<5,>=3.1.4\n",
      "  Downloading rsa-4.8-py3-none-any.whl (39 kB)\n",
      "Collecting cachetools<6.0,>=2.0.0\n",
      "  Downloading cachetools-5.2.0-py3-none-any.whl (9.3 kB)\n",
      "Collecting requests-oauthlib>=0.7.0\n",
      "  Downloading requests_oauthlib-1.3.1-py2.py3-none-any.whl (23 kB)\n",
      "Requirement already satisfied: importlib-metadata>=4.4 in c:\\users\\laptop\\anaconda3\\lib\\site-packages (from markdown>=2.6.8->tensorboard<2.10,>=2.9->tensorflow) (4.8.1)\n",
      "Requirement already satisfied: zipp>=0.5 in c:\\users\\laptop\\anaconda3\\lib\\site-packages (from importlib-metadata>=4.4->markdown>=2.6.8->tensorboard<2.10,>=2.9->tensorflow) (3.6.0)\n",
      "Collecting pyasn1<0.5.0,>=0.4.6\n",
      "  Using cached pyasn1-0.4.8-py2.py3-none-any.whl (77 kB)\n",
      "Requirement already satisfied: certifi>=2017.4.17 in c:\\users\\laptop\\anaconda3\\lib\\site-packages (from requests<3,>=2.21.0->tensorboard<2.10,>=2.9->tensorflow) (2021.10.8)\n",
      "Requirement already satisfied: idna<4,>=2.5 in c:\\users\\laptop\\anaconda3\\lib\\site-packages (from requests<3,>=2.21.0->tensorboard<2.10,>=2.9->tensorflow) (3.2)\n",
      "Requirement already satisfied: urllib3<1.27,>=1.21.1 in c:\\users\\laptop\\anaconda3\\lib\\site-packages (from requests<3,>=2.21.0->tensorboard<2.10,>=2.9->tensorflow) (1.26.7)\n",
      "Requirement already satisfied: charset-normalizer~=2.0.0 in c:\\users\\laptop\\anaconda3\\lib\\site-packages (from requests<3,>=2.21.0->tensorboard<2.10,>=2.9->tensorflow) (2.0.4)\n",
      "Collecting oauthlib>=3.0.0\n",
      "  Downloading oauthlib-3.2.0-py3-none-any.whl (151 kB)\n",
      "Requirement already satisfied: pyparsing>=2.0.2 in c:\\users\\laptop\\anaconda3\\lib\\site-packages (from packaging->tensorflow) (3.0.4)\n",
      "Building wheels for collected packages: termcolor\n",
      "  Building wheel for termcolor (setup.py): started\n",
      "  Building wheel for termcolor (setup.py): finished with status 'done'\n",
      "  Created wheel for termcolor: filename=termcolor-1.1.0-py3-none-any.whl size=4847 sha256=b948cbbb7acb637f430b85827b81528fe26e5400e4143de8bae5b79f94d34905\n",
      "  Stored in directory: c:\\users\\laptop\\appdata\\local\\pip\\cache\\wheels\\b6\\0d\\90\\0d1bbd99855f99cb2f6c2e5ff96f8023fad8ec367695f7d72d\n",
      "Successfully built termcolor\n",
      "Installing collected packages: pyasn1, rsa, pyasn1-modules, oauthlib, cachetools, requests-oauthlib, google-auth, tensorboard-plugin-wit, tensorboard-data-server, protobuf, markdown, grpcio, google-auth-oauthlib, absl-py, termcolor, tensorflow-io-gcs-filesystem, tensorflow-estimator, tensorboard, opt-einsum, libclang, keras-preprocessing, keras, google-pasta, gast, flatbuffers, astunparse, tensorflow\n",
      "Successfully installed absl-py-1.1.0 astunparse-1.6.3 cachetools-5.2.0 flatbuffers-1.12 gast-0.4.0 google-auth-2.8.0 google-auth-oauthlib-0.4.6 google-pasta-0.2.0 grpcio-1.46.3 keras-2.9.0 keras-preprocessing-1.1.2 libclang-14.0.1 markdown-3.3.7 oauthlib-3.2.0 opt-einsum-3.3.0 protobuf-3.19.4 pyasn1-0.4.8 pyasn1-modules-0.2.8 requests-oauthlib-1.3.1 rsa-4.8 tensorboard-2.9.1 tensorboard-data-server-0.6.1 tensorboard-plugin-wit-1.8.1 tensorflow-2.9.1 tensorflow-estimator-2.9.0 tensorflow-io-gcs-filesystem-0.26.0 termcolor-1.1.0\n"
     ]
    }
   ],
   "source": [
    "!pip install tensorflow"
   ]
  },
  {
   "cell_type": "code",
   "execution_count": null,
   "id": "42c3f820",
   "metadata": {},
   "outputs": [],
   "source": []
  },
  {
   "cell_type": "code",
   "execution_count": null,
   "id": "e8881f4d",
   "metadata": {},
   "outputs": [],
   "source": []
  },
  {
   "cell_type": "code",
   "execution_count": null,
   "id": "83bed34e",
   "metadata": {},
   "outputs": [],
   "source": []
  },
  {
   "cell_type": "markdown",
   "id": "282a98c7",
   "metadata": {},
   "source": [
    "## Отбор признаков"
   ]
  },
  {
   "cell_type": "code",
   "execution_count": 10,
   "id": "b5f97e1e",
   "metadata": {},
   "outputs": [
    {
     "data": {
      "text/plain": [
       "(100, 20)"
      ]
     },
     "execution_count": 10,
     "metadata": {},
     "output_type": "execute_result"
    }
   ],
   "source": [
    "# границы дисперсии\n",
    "from sklearn.feature_selection import VarianceThreshold\n",
    "from sklearn.datasets import make_classification\n",
    "x_data_generated, y_data_generated = make_classification()\n",
    "\n",
    "x_data_generated.shape\n",
    "\n",
    "#– пример,как установить порог дисперсии и выкинуть ненужные признаки.\n",
    "#что имеет низкую вариацию,выкидываем(дисперсия ниже 0.9 например.)\n",
    "# и далее уже по оставшимся признакам анализируем."
   ]
  },
  {
   "cell_type": "code",
   "execution_count": 11,
   "id": "97b52e86",
   "metadata": {},
   "outputs": [
    {
     "data": {
      "text/plain": [
       "(100, 19)"
      ]
     },
     "execution_count": 11,
     "metadata": {},
     "output_type": "execute_result"
    }
   ],
   "source": [
    "X = VarianceThreshold(0.7).fit_transform(x_data_generated)\n",
    "#  VarianceThreshold(0.7).fit_transform(x_data_generated).shape\n"
   ]
  },
  {
   "cell_type": "code",
   "execution_count": null,
   "id": "53a60578",
   "metadata": {},
   "outputs": [],
   "source": [
    "X.shape"
   ]
  },
  {
   "cell_type": "code",
   "execution_count": 12,
   "id": "1d17802a",
   "metadata": {},
   "outputs": [
    {
     "data": {
      "text/plain": [
       "-0.18957820903402128"
      ]
     },
     "execution_count": 12,
     "metadata": {},
     "output_type": "execute_result"
    }
   ],
   "source": [
    "# Отбор по влиянию на целевую переменную\n",
    "from sklearn.feature_selection import SelectKBest, f_classif\n",
    "\n",
    "x_data_kbest = SelectKBest(f_classif, k=5).fit_transform(x_data_generated, y_data_generated)\n",
    "x_data_varth = VarianceThreshold(.9).fit_transform(x_data_generated)\n",
    "\n",
    "from sklearn.linear_model import LogisticRegression\n",
    "\n",
    "from sklearn.model_selection import cross_val_score\n",
    "\n",
    "cross_val_score(LogisticRegression(), x_data_generated, y_data_generated, scoring='neg_log_loss').mean()"
   ]
  },
  {
   "cell_type": "code",
   "execution_count": 13,
   "id": "b2c42295",
   "metadata": {},
   "outputs": [
    {
     "data": {
      "text/plain": [
       "-0.13682087087932765"
      ]
     },
     "execution_count": 13,
     "metadata": {},
     "output_type": "execute_result"
    }
   ],
   "source": [
    "cross_val_score(LogisticRegression(), x_data_kbest, y_data_generated, scoring='neg_log_loss').mean()"
   ]
  },
  {
   "cell_type": "code",
   "execution_count": 14,
   "id": "871acefd",
   "metadata": {},
   "outputs": [
    {
     "data": {
      "text/plain": [
       "-0.1608364791141705"
      ]
     },
     "execution_count": 14,
     "metadata": {},
     "output_type": "execute_result"
    }
   ],
   "source": [
    "cross_val_score(LogisticRegression(), x_data_varth, y_data_generated, scoring='neg_log_loss').mean()"
   ]
  },
  {
   "cell_type": "code",
   "execution_count": null,
   "id": "f6973a7a",
   "metadata": {},
   "outputs": [],
   "source": []
  },
  {
   "cell_type": "code",
   "execution_count": 74,
   "id": "c238c522",
   "metadata": {},
   "outputs": [],
   "source": [
    "# Отбор с помощью моделей"
   ]
  },
  {
   "cell_type": "code",
   "execution_count": 15,
   "id": "123ec680",
   "metadata": {},
   "outputs": [
    {
     "data": {
      "text/plain": [
       "RandomForestClassifier(bootstrap=False, max_features=0.6, max_leaf_nodes=16,\n",
       "                       max_samples=1, n_estimators=500, n_jobs=-1,\n",
       "                       random_state=42)"
      ]
     },
     "execution_count": 15,
     "metadata": {},
     "output_type": "execute_result"
    }
   ],
   "source": [
    "from sklearn.ensemble import RandomForestClassifier\n",
    "rnd_clf = RandomForestClassifier(n_estimators=500,\n",
    "                                 max_leaf_nodes = 16, \n",
    "                                 bootstrap=False, max_features=0.6,\n",
    "                                 max_samples=1,\n",
    "                                 n_jobs=-1, random_state=42)\n",
    "rnd_clf.fit(x_data_generated, y_data_generated)"
   ]
  },
  {
   "cell_type": "code",
   "execution_count": 16,
   "id": "0dd86546",
   "metadata": {},
   "outputs": [
    {
     "data": {
      "text/plain": [
       "array([3.28060581e-02, 1.09894842e-01, 1.36000000e-03, 9.46666667e-04,\n",
       "       1.50187512e-02, 1.61437681e-03, 8.86345811e-04, 7.64356025e-01,\n",
       "       1.51388235e-03, 3.80498934e-02, 8.93423203e-03, 1.20000000e-03,\n",
       "       7.48145218e-03, 2.08078204e-03, 1.34605128e-03, 6.58973408e-04,\n",
       "       1.31839317e-03, 1.18666667e-03, 1.10648829e-03, 8.24011950e-03])"
      ]
     },
     "execution_count": 16,
     "metadata": {},
     "output_type": "execute_result"
    }
   ],
   "source": [
    "#вероятность влияние значений! смотрим как значения влияют на целевую переменную\n",
    "rnd_clf.feature_importances_"
   ]
  },
  {
   "cell_type": "code",
   "execution_count": null,
   "id": "69eda513",
   "metadata": {},
   "outputs": [],
   "source": []
  },
  {
   "cell_type": "code",
   "execution_count": 28,
   "id": "bf1f11e5",
   "metadata": {},
   "outputs": [
    {
     "data": {
      "text/plain": [
       "SequentialFeatureSelector(estimator=LogisticRegression(),\n",
       "                          n_features_to_select=3, n_jobs=-1,\n",
       "                          scoring='neg_log_loss')"
      ]
     },
     "execution_count": 28,
     "metadata": {},
     "output_type": "execute_result"
    }
   ],
   "source": [
    "# Перебор\n",
    "from sklearn.feature_selection import SequentialFeatureSelector\n",
    "selector = SequentialFeatureSelector(LogisticRegression(), scoring='neg_log_loss', n_features_to_select=3, n_jobs=-1)\n",
    "#передаем прогнозатор(LogisticRegression), n_features_to_select=3 - перебирает все множества по 3 фичи и выдаст 3 признака,которые оптимальны для решения задачи\n",
    "# в нашем примере для логистической регрессии.\n",
    "selector.fit(x_data_generated, y_data_generated)\n",
    "\n"
   ]
  },
  {
   "cell_type": "code",
   "execution_count": 29,
   "id": "5cf781a4",
   "metadata": {},
   "outputs": [
    {
     "data": {
      "text/plain": [
       "array([[ 0.40175201, -2.85806929,  2.5122225 ],\n",
       "       [ 1.02530284,  1.14201596,  0.85779585],\n",
       "       [ 0.28399183, -1.4804467 , -0.85808298],\n",
       "       [-0.08438431, -0.69296194,  1.27969611],\n",
       "       [ 0.29637665,  0.394094  , -0.75026139],\n",
       "       [ 0.1180695 ,  0.08230351, -1.27289709],\n",
       "       [-1.91043454, -1.29973901, -0.96088848],\n",
       "       [-1.13215341, -0.56736143, -0.8920552 ],\n",
       "       [ 1.23717374, -0.56022832,  0.87403553],\n",
       "       [-2.09156509, -0.92293175, -1.00142231],\n",
       "       [ 0.92615961, -1.77958439, -0.38937935],\n",
       "       [ 1.34773811,  0.32309028, -0.20475689],\n",
       "       [ 0.01663806,  0.04600938, -1.17798225],\n",
       "       [ 1.38176031,  0.62451493,  0.49455629],\n",
       "       [-0.1197803 ,  0.91311208,  1.24444922],\n",
       "       [-1.31268016, -0.96275002, -0.88318438],\n",
       "       [ 0.06976516,  0.58640092,  1.45084244],\n",
       "       [-0.3933514 ,  1.51494443,  0.16625958],\n",
       "       [ 0.20073067, -1.15727362, -1.18408216],\n",
       "       [-1.51413611,  0.12141107, -1.00809843],\n",
       "       [ 0.3145397 ,  1.58256949, -0.97803651],\n",
       "       [-0.25470514, -0.41387275,  0.75421661],\n",
       "       [-0.04090644,  1.82039976,  0.88766703],\n",
       "       [-0.05923267,  0.58020545,  1.37314245],\n",
       "       [ 2.12040775, -1.04515823,  0.55645538],\n",
       "       [-1.97482175,  2.19705006, -0.89385352],\n",
       "       [ 1.70811744,  0.08066079,  0.2311612 ],\n",
       "       [ 1.68561371,  1.0391205 ,  0.3584279 ],\n",
       "       [-0.02991455, -0.65299171, -1.18873185],\n",
       "       [ 0.03218765,  0.48608908,  1.44959769],\n",
       "       [-0.2789775 , -1.14291708,  0.50895506],\n",
       "       [-1.37916326,  0.02329408, -0.97687274],\n",
       "       [-0.6730915 ,  0.68635737, -0.085968  ],\n",
       "       [ 2.62848174, -0.23090978,  1.86378837],\n",
       "       [ 0.02063468, -1.13640651, -1.49538745],\n",
       "       [ 0.38479303, -1.1397484 , -1.01926052],\n",
       "       [ 0.62231551, -0.22524893, -0.45747815],\n",
       "       [-2.98836345,  0.02489291, -1.16438233],\n",
       "       [-0.19861415, -2.17772325, -1.25370283],\n",
       "       [ 2.24714416, -0.94792062,  1.29885756],\n",
       "       [-0.01600199, -1.35964511, -0.95340603],\n",
       "       [ 2.13198979, -0.40558805,  1.6470605 ],\n",
       "       [-0.05672837, -0.35714846,  1.40617251],\n",
       "       [ 1.25325064,  0.66489859, -0.24838289],\n",
       "       [-0.11542026,  0.54005485,  1.23032198],\n",
       "       [-0.63089074, -0.12651425, -1.5891629 ],\n",
       "       [ 1.79326031,  0.91477644,  0.15875572],\n",
       "       [-0.18393065,  1.15526141,  1.2403104 ],\n",
       "       [-1.45623442,  0.86304901, -0.79133947],\n",
       "       [ 1.8160334 , -1.13707181,  1.05533798],\n",
       "       [ 1.70353241,  1.37380331,  1.53999039],\n",
       "       [-0.48896128, -0.20909746,  0.40279954],\n",
       "       [-1.410935  ,  0.12788577, -1.03305424],\n",
       "       [-1.52233869, -0.40202369, -0.86207685],\n",
       "       [-0.5087168 ,  1.08531356,  0.46028872],\n",
       "       [ 2.32320829, -0.47051152,  1.1236134 ],\n",
       "       [ 0.98038   , -1.37212501,  1.17811975],\n",
       "       [-3.35446568, -0.90043564, -1.14315318],\n",
       "       [-0.1440485 , -2.52707375, -0.83292772],\n",
       "       [ 0.38284051,  0.54495745, -0.80186875],\n",
       "       [-1.34677609,  1.02259702, -0.93724362],\n",
       "       [-0.87835913, -1.6769307 , -0.98733003],\n",
       "       [ 0.18353612,  1.69723319, -1.78055002],\n",
       "       [-1.18515399,  0.03178977, -0.88924593],\n",
       "       [ 0.34224005,  0.10552131, -1.09679252],\n",
       "       [-0.22832432, -1.8065726 ,  0.90751053],\n",
       "       [-0.58298071,  0.27934449, -0.1181916 ],\n",
       "       [-0.02555837,  0.41999733, -1.12598824],\n",
       "       [-3.46966083, -0.85391894, -0.93172009],\n",
       "       [ 1.71136152, -0.7478755 ,  0.75297459],\n",
       "       [ 1.73136639,  0.98331329,  0.57152849],\n",
       "       [-1.9804031 , -1.72202153, -1.2643704 ],\n",
       "       [-2.38368081, -1.03589203, -1.18102989],\n",
       "       [ 0.51782703, -0.16351808, -0.77575499],\n",
       "       [-0.05010103,  0.87295526,  1.38636484],\n",
       "       [-1.79531283, -0.63745012, -0.96807661],\n",
       "       [ 2.3523477 , -0.95998019,  1.51055799],\n",
       "       [-0.18299263, -0.51794595, -1.02459849],\n",
       "       [ 0.97762418, -1.53974139, -0.27585364],\n",
       "       [-0.35658684, -1.04395618,  0.42995228],\n",
       "       [-0.09912773,  0.08080425,  0.98498078],\n",
       "       [ 0.26798001,  1.34396077, -0.37417022],\n",
       "       [-0.16914783,  1.6621329 ,  0.78476376],\n",
       "       [-1.10508576, -1.73245854, -0.93367721],\n",
       "       [-0.24705866, -0.74964506, -1.29630462],\n",
       "       [ 2.4340531 ,  0.70144904,  2.5188622 ],\n",
       "       [-0.38967513, -0.78431499,  0.82999971],\n",
       "       [-2.5772057 , -0.49422188, -0.99223792],\n",
       "       [-1.27811645,  0.23203089, -1.20140114],\n",
       "       [ 0.53715627, -1.27508007, -1.01666337],\n",
       "       [ 0.06432323,  0.38280775,  1.28636136],\n",
       "       [ 2.62375311, -0.13119297,  1.20545229],\n",
       "       [ 0.12042356, -0.00379168, -1.47985526],\n",
       "       [-2.28327106,  0.56633262, -1.09152009],\n",
       "       [ 1.67200618,  0.75390944,  0.8070463 ],\n",
       "       [ 1.47221017, -0.31603594,  1.4269279 ],\n",
       "       [ 0.63906704, -0.40945763, -0.86048584],\n",
       "       [ 0.03530133,  1.93839832,  1.5558933 ],\n",
       "       [-2.40887686,  0.78644841, -0.83298711],\n",
       "       [-0.43294791, -0.37700907, -1.43735463]])"
      ]
     },
     "execution_count": 29,
     "metadata": {},
     "output_type": "execute_result"
    }
   ],
   "source": [
    "selector.transform(x_data_generated)"
   ]
  },
  {
   "cell_type": "markdown",
   "id": "a9cde2d9",
   "metadata": {},
   "source": [
    "# CLUSTERING"
   ]
  },
  {
   "cell_type": "markdown",
   "id": "16442cbd",
   "metadata": {},
   "source": [
    "## K-means"
   ]
  },
  {
   "cell_type": "code",
   "execution_count": 30,
   "id": "19ba404a",
   "metadata": {},
   "outputs": [
    {
     "data": {
      "image/png": "[encoded data removed]",
      "text/plain": [
       "<Figure size 504x360 with 1 Axes>"
      ]
     },
     "metadata": {
      "needs_background": "light"
     },
     "output_type": "display_data"
    }
   ],
   "source": [
    "# генерация данных\n",
    "X = np.zeros((150, 2))\n",
    "\n",
    "np.random.seed(seed=42)\n",
    "X[:50, 0] = np.random.normal(loc=0.0, scale=.3, size=50)\n",
    "X[:50, 1] = np.random.normal(loc=0.0, scale=.3, size=50)\n",
    "\n",
    "X[50:100, 0] = np.random.normal(loc=2.0, scale=.5, size=50)\n",
    "X[50:100, 1] = np.random.normal(loc=-1.0, scale=.2, size=50)\n",
    "\n",
    "X[100:150, 0] = np.random.normal(loc=-1.0, scale=.2, size=50)\n",
    "X[100:150, 1] = np.random.normal(loc=2.0, scale=.5, size=50)\n",
    "\n",
    "plt.figure(figsize=(7, 5))\n",
    "plt.plot(X[:, 0], X[:, 1], 'bo');"
   ]
  },
  {
   "cell_type": "code",
   "execution_count": 35,
   "id": "192cda49",
   "metadata": {},
   "outputs": [],
   "source": [
    "# В scipy есть функция, которая считает расстояния\n",
    "# между парами точек из двух массивов, подающихся ей на вход\n",
    "from scipy.spatial.distance import cdist\n",
    "\n",
    "# сгенерим три случайные центроиды \n",
    "np.random.seed(seed=42)\n",
    "centroids = np.random.normal(loc=0.0, scale=1., size=6)\n",
    "centroids = centroids.reshape((3, 2))\n",
    "\n",
    "cent_history = []\n",
    "cent_history.append(centroids)\n",
    "\n",
    "for i in range(3):\n",
    "    # Считаем расстояния от наблюдений до центроид\n",
    "    distances = cdist(X, centroids)\n",
    "    # Смотрим, до какой центроиде каждой точке ближе всего\n",
    "    labels = distances.argmin(axis=1)\n",
    "\n",
    "    # Положим в каждую новую центроиду геометрический центр её точек\n",
    "    centroids = centroids.copy()\n",
    "    centroids[0, :] = np.mean(X[labels == 0, :], axis=0)\n",
    "    centroids[1, :] = np.mean(X[labels == 1, :], axis=0)\n",
    "    centroids[2, :] = np.mean(X[labels == 2, :], axis=0)\n",
    "    \n",
    "\n",
    "    cent_history.append(centroids)"
   ]
  },
  {
   "cell_type": "code",
   "execution_count": null,
   "id": "af69a823",
   "metadata": {},
   "outputs": [],
   "source": []
  },
  {
   "cell_type": "code",
   "execution_count": 36,
   "id": "c456ebc2",
   "metadata": {},
   "outputs": [
    {
     "data": {
      "image/png": "[encoded data removed]",
      "text/plain": [
       "<Figure size 576x576 with 4 Axes>"
      ]
     },
     "metadata": {
      "needs_background": "light"
     },
     "output_type": "display_data"
    }
   ],
   "source": [
    "plt.figure(figsize=(8, 8))\n",
    "for i in range(4):\n",
    "    distances = cdist(X, cent_history[i])\n",
    "    labels = distances.argmin(axis=1)\n",
    "\n",
    "    plt.subplot(2, 2, i + 1)\n",
    "    plt.plot(X[labels == 0, 0], X[labels == 0, 1], 'bo', label='cluster #1')\n",
    "    plt.plot(X[labels == 1, 0], X[labels == 1, 1], 'co', label='cluster #2')\n",
    "    plt.plot(X[labels == 2, 0], X[labels == 2, 1], 'mo', label='cluster #3')\n",
    "    plt.plot(cent_history[i][:, 0], cent_history[i][:, 1], 'rX')\n",
    "    plt.legend(loc=0)\n",
    "    plt.title('Step {:}'.format(i + 1));"
   ]
  },
  {
   "cell_type": "code",
   "execution_count": 31,
   "id": "0de13591",
   "metadata": {},
   "outputs": [
    {
     "name": "stderr",
     "output_type": "stream",
     "text": [
      "C:\\Users\\laptop\\anaconda3\\lib\\site-packages\\sklearn\\cluster\\_kmeans.py:881: UserWarning: KMeans is known to have a memory leak on Windows with MKL, when there are less chunks than available threads. You can avoid it by setting the environment variable OMP_NUM_THREADS=1.\n",
      "  warnings.warn(\n"
     ]
    },
    {
     "data": {
      "image/png": "[encoded data removed]",
      "text/plain": [
       "<Figure size 864x432 with 1 Axes>"
      ]
     },
     "metadata": {
      "needs_background": "light"
     },
     "output_type": "display_data"
    }
   ],
   "source": [
    "from sklearn.cluster import KMeans\n",
    " #Методом локтя определите оптимальное количество кластеров (наш график)\n",
    "inertia = []\n",
    "for k in range(1, 8):\n",
    "    kmeans = KMeans(n_clusters=k, random_state=1).fit(X)\n",
    "    inertia.append(np.sqrt(kmeans.inertia_))\n",
    "\n",
    "plt.plot(range(1, 8), inertia, marker='s');\n",
    "plt.xlabel('$k$')\n",
    "plt.ylabel('$J(C_k)$');"
   ]
  },
  {
   "cell_type": "code",
   "execution_count": 32,
   "id": "1eb18482",
   "metadata": {},
   "outputs": [
    {
     "data": {
      "text/plain": [
       "array([0, 0, 0, 0, 0, 0, 0, 0, 0, 0, 0, 0, 0, 0, 0, 0, 0, 0, 0, 0, 0, 0,\n",
       "       0, 0, 0, 0, 0, 0, 0, 0, 0, 0, 0, 0, 0, 0, 0, 0, 0, 0, 0, 0, 0, 0,\n",
       "       0, 0, 0, 0, 0, 0, 1, 1, 1, 1, 1, 1, 1, 1, 1, 1, 1, 1, 1, 1, 1, 1,\n",
       "       1, 1, 1, 1, 1, 1, 1, 1, 1, 1, 1, 1, 1, 1, 1, 1, 1, 1, 1, 1, 1, 1,\n",
       "       1, 1, 1, 1, 1, 1, 1, 1, 1, 1, 1, 1, 2, 2, 2, 2, 2, 2, 2, 2, 2, 2,\n",
       "       2, 2, 0, 2, 2, 2, 2, 2, 2, 2, 2, 2, 2, 2, 2, 2, 2, 2, 2, 2, 2, 2,\n",
       "       2, 2, 2, 2, 2, 2, 2, 2, 2, 2, 2, 2, 2, 2, 2, 2, 2, 2])"
      ]
     },
     "execution_count": 32,
     "metadata": {},
     "output_type": "execute_result"
    }
   ],
   "source": [
    "kmeans = KMeans(n_clusters=3, random_state=1).fit(X)\n",
    "kmeans.predict(X)"
   ]
  },
  {
   "cell_type": "code",
   "execution_count": 33,
   "id": "4984d821",
   "metadata": {},
   "outputs": [
    {
     "data": {
      "text/plain": [
       "array([0])"
      ]
     },
     "execution_count": 33,
     "metadata": {},
     "output_type": "execute_result"
    }
   ],
   "source": [
    "#Предсказываем единственный элемент\n",
    "\n",
    "kmeans.predict([[0,0]])\n",
    "# ответ array([0]) - точка попадает в нулевой кластер(рисунок выше)"
   ]
  },
  {
   "cell_type": "code",
   "execution_count": 34,
   "id": "84da3b3c",
   "metadata": {},
   "outputs": [
    {
     "data": {
      "text/plain": [
       "array([1])"
      ]
     },
     "execution_count": 34,
     "metadata": {},
     "output_type": "execute_result"
    }
   ],
   "source": [
    "#Предсказываем единственный элемент\n",
    "\n",
    "kmeans.predict([[2,-1]])\n",
    "# ответ array([1]) - точка попадает в 1-й кластер(рисунок выше)"
   ]
  },
  {
   "cell_type": "code",
   "execution_count": null,
   "id": "e25f2abd",
   "metadata": {},
   "outputs": [],
   "source": []
  },
  {
   "cell_type": "markdown",
   "id": "98c37384",
   "metadata": {},
   "source": [
    "## Иерархическая кластеризация"
   ]
  },
  {
   "cell_type": "code",
   "execution_count": 37,
   "id": "bfd058cf",
   "metadata": {},
   "outputs": [],
   "source": [
    "# генерация данных\n",
    "X = np.zeros((15, 2))\n",
    "\n",
    "np.random.seed(seed=42)\n",
    "X[:5, 0] = np.random.normal(loc=0.0, scale=.3, size=5)\n",
    "X[:5, 1] = np.random.normal(loc=0.0, scale=.3, size=5)\n",
    "\n",
    "X[5:10, 0] = np.random.normal(loc=2.0, scale=.5, size=5)\n",
    "X[5:10, 1] = np.random.normal(loc=-1.0, scale=.2, size=5)\n",
    "\n",
    "X[10:15, 0] = np.random.normal(loc=-1.0, scale=.2, size=5)\n",
    "X[10:15, 1] = np.random.normal(loc=2.0, scale=.5, size=5)\n"
   ]
  },
  {
   "cell_type": "code",
   "execution_count": 38,
   "id": "6045ff68",
   "metadata": {},
   "outputs": [
    {
     "data": {
      "image/png": "[encoded data removed]",
      "text/plain": [
       "<Figure size 504x360 with 1 Axes>"
      ]
     },
     "metadata": {
      "needs_background": "light"
     },
     "output_type": "display_data"
    }
   ],
   "source": [
    "plt.figure(figsize=(7, 5))\n",
    "plt.plot(X[:, 0], X[:, 1], 'bo');"
   ]
  },
  {
   "cell_type": "code",
   "execution_count": 39,
   "id": "187789aa",
   "metadata": {
    "scrolled": true
   },
   "outputs": [
    {
     "data": {
      "image/png": "[encoded data removed]",
      "text/plain": [
       "<Figure size 720x360 with 1 Axes>"
      ]
     },
     "metadata": {
      "needs_background": "light"
     },
     "output_type": "display_data"
    }
   ],
   "source": [
    "# Построение дерева иерархий\n",
    "from scipy.cluster import hierarchy\n",
    "from scipy.spatial.distance import pdist\n",
    "\n",
    "distance_mat = pdist(X) # pdist посчитает нам верхний треугольник матрицы попарных расстояний\n",
    "\n",
    "Z = hierarchy.linkage(distance_mat, 'single') # linkage — реализация агломеративного алгоритма\n",
    "plt.figure(figsize=(10, 5))\n",
    "dn = hierarchy.dendrogram(Z, color_threshold=0.5)"
   ]
  },
  {
   "cell_type": "code",
   "execution_count": 118,
   "id": "10a2f734",
   "metadata": {},
   "outputs": [],
   "source": [
    "from sklearn.cluster import AgglomerativeClustering"
   ]
  },
  {
   "cell_type": "code",
   "execution_count": 119,
   "id": "09d5d5d4",
   "metadata": {},
   "outputs": [],
   "source": [
    "agg = AgglomerativeClustering(n_clusters = 3)"
   ]
  },
  {
   "cell_type": "code",
   "execution_count": 202,
   "id": "27c942ba",
   "metadata": {},
   "outputs": [],
   "source": [
    "#agg.fit_predict(X)"
   ]
  },
  {
   "cell_type": "code",
   "execution_count": null,
   "id": "50d44e4f",
   "metadata": {},
   "outputs": [],
   "source": []
  },
  {
   "cell_type": "code",
   "execution_count": 129,
   "id": "8033c57f",
   "metadata": {},
   "outputs": [],
   "source": [
    "# Метрики\n",
    "# from sklearn import metrics\n",
    "# metrics.silhouette_score(X, agg.labels_)"
   ]
  },
  {
   "cell_type": "code",
   "execution_count": null,
   "id": "ada9f805",
   "metadata": {},
   "outputs": [],
   "source": []
  },
  {
   "cell_type": "code",
   "execution_count": null,
   "id": "99b3c5ee",
   "metadata": {},
   "outputs": [],
   "source": []
  },
  {
   "cell_type": "markdown",
   "id": "f73e110c",
   "metadata": {},
   "source": [
    "# Снижение размерности"
   ]
  },
  {
   "cell_type": "code",
   "execution_count": 4,
   "id": "d21f63b1",
   "metadata": {},
   "outputs": [],
   "source": [
    "from sklearn import datasets\n",
    "\n",
    "\n",
    "iris = datasets.load_iris()\n",
    "X = iris.data\n",
    "y = iris.target\n"
   ]
  },
  {
   "cell_type": "code",
   "execution_count": 5,
   "id": "ef98a2cc",
   "metadata": {},
   "outputs": [],
   "source": [
    "from sklearn.tree import DecisionTreeClassifier\n",
    "from sklearn.model_selection import train_test_split\n",
    "from sklearn.metrics import accuracy_score, roc_auc_score\n",
    "\n",
    "# Выделим из наших данных валидационную выборку\n",
    "X_train, X_test, y_train, y_test = train_test_split(X, y, test_size=.3, \n",
    "                                                    stratify=y, \n",
    "                                                    random_state=42)\n",
    "# Для примера возьмём неглубокое дерево решений\n",
    "clf = DecisionTreeClassifier(max_depth=2, random_state=42)\n",
    "clf.fit(X_train, y_train)\n",
    "preds = clf.predict(X_test)\n",
    "#print('Accuracy: ',accuracy_score(y_test,preds))"
   ]
  },
  {
   "cell_type": "code",
   "execution_count": 8,
   "id": "7ffa1ee4",
   "metadata": {},
   "outputs": [],
   "source": [
    "# Понизим размерность с 4 до 2\n",
    "from sklearn.decomposition import PCA\n",
    "pca = PCA(n_components=2)\n",
    "X_centered = X - X.mean(axis=0)\n",
    "pca.fit(X_centered)\n",
    "X_pca = pca.transform(X_centered)\n",
    "\n",
    "# И нарисуем получившиеся точки в нашем новом пространстве\n",
    "#plt.plot(X_pca[y == 0, 0], X_pca[y == 0, 1], 'bo', label='Setosa')\n",
    "#plt.plot(X_pca[y == 1, 0], X_pca[y == 1, 1], 'go', label='Versicolour')\n",
    "#plt.plot(X_pca[y == 2, 0], X_pca[y == 2, 1], 'ro', label='Virginica')\n",
    "#plt.legend(loc=0);"
   ]
  },
  {
   "cell_type": "code",
   "execution_count": 165,
   "id": "6dff55d9",
   "metadata": {},
   "outputs": [],
   "source": [
    "# Повторим классификацию деревом по построенному преобразованию данных\n",
    "X_train, X_test, y_train, y_test = train_test_split(X_pca, y, test_size=.3, \n",
    "                                                    stratify=y, \n",
    "                                                    random_state=42)\n",
    "\n",
    "clf = DecisionTreeClassifier(max_depth=2, random_state=42)\n",
    "clf.fit(X_train, y_train)\n",
    "preds = clf.predict(X_test)\n",
    "#print('Accuracy: ',accuracy_score(y_test,preds))"
   ]
  },
  {
   "cell_type": "code",
   "execution_count": 166,
   "id": "86ea8827",
   "metadata": {},
   "outputs": [
    {
     "data": {
      "text/plain": [
       "array([0.92461872, 0.05306648])"
      ]
     },
     "execution_count": 166,
     "metadata": {},
     "output_type": "execute_result"
    }
   ],
   "source": [
    "pca.explained_variance_ratio_"
   ]
  },
  {
   "cell_type": "code",
   "execution_count": null,
   "id": "5741ae1a",
   "metadata": {},
   "outputs": [],
   "source": []
  },
  {
   "cell_type": "code",
   "execution_count": 9,
   "id": "bc7ae964",
   "metadata": {},
   "outputs": [],
   "source": [
    "digits = datasets.load_digits()\n",
    "X = digits.data\n",
    "y = digits.target"
   ]
  },
  {
   "cell_type": "code",
   "execution_count": 10,
   "id": "55509682",
   "metadata": {},
   "outputs": [],
   "source": [
    "#plt.imshow(X[598].reshape((8,8)))"
   ]
  },
  {
   "cell_type": "code",
   "execution_count": 14,
   "id": "277bbc82",
   "metadata": {},
   "outputs": [],
   "source": [
    "pca = PCA(n_components=2)\n",
    "X_reduced = pca.fit_transform(X)\n",
    "\n",
    "#plt.figure(figsize=(12,10))\n",
    "#plt.scatter(X_reduced[:, 0], X_reduced[:, 1], c=y, \n",
    "#            edgecolor='none', alpha=0.7, s=40,\n",
    "#            cmap=plt.cm.get_cmap('nipy_spectral', 10))\n",
    "#plt.colorbar();\n",
    "\n"
   ]
  },
  {
   "cell_type": "code",
   "execution_count": 200,
   "id": "59df0d44",
   "metadata": {},
   "outputs": [],
   "source": [
    "var = pca.explained_variance_ratio_\n",
    "#var.sum()"
   ]
  },
  {
   "cell_type": "code",
   "execution_count": null,
   "id": "9a252a6d",
   "metadata": {},
   "outputs": [],
   "source": []
  },
  {
   "cell_type": "code",
   "execution_count": 13,
   "id": "f928e7e2",
   "metadata": {},
   "outputs": [],
   "source": [
    "# TSNE\n",
    "from sklearn.manifold import TSNE\n",
    "tsne = TSNE(random_state=17)\n",
    "\n",
    "#X_tsne = tsne.fit_transform(X)\n",
    "\n",
    "#plt.figure(figsize=(12,10))\n",
    "#plt.scatter(X_tsne[:, 0], X_tsne[:, 1], c=y, \n",
    "#            edgecolor='none', alpha=0.7, s=40,\n",
    "#            cmap=plt.cm.get_cmap('nipy_spectral', 10))\n",
    "#plt.colorbar();\n"
   ]
  },
  {
   "cell_type": "code",
   "execution_count": null,
   "id": "4f591e08",
   "metadata": {},
   "outputs": [],
   "source": []
  },
  {
   "cell_type": "code",
   "execution_count": 187,
   "id": "b7911cc4",
   "metadata": {},
   "outputs": [],
   "source": [
    "#Как всегда возьмем дерево.\n",
    "#и обучим на результате трансформации t-SNE\n",
    "X_train, X_test, y_train, y_test = train_test_split(X_tsne, y, test_size=.3, \n",
    "                                                    stratify=y, \n",
    "                                                    random_state=42)\n",
    "\n",
    "clf = DecisionTreeClassifier(max_depth=9, random_state=42)\n",
    "clf.fit(X_train, y_train)\n",
    "preds = clf.predict(X_test)"
   ]
  },
  {
   "cell_type": "code",
   "execution_count": 195,
   "id": "8a81114b",
   "metadata": {},
   "outputs": [],
   "source": [
    "#print('Accuracy: ',accuracy_score(y_test,preds))"
   ]
  },
  {
   "cell_type": "code",
   "execution_count": null,
   "id": "892de3e9",
   "metadata": {},
   "outputs": [],
   "source": [
    "# теперь посчитаем без tSNE но по 64 признакам"
   ]
  },
  {
   "cell_type": "code",
   "execution_count": 189,
   "id": "b5a94733",
   "metadata": {},
   "outputs": [],
   "source": [
    "X_train, X_test, y_train, y_test = train_test_split(X, y, test_size=.3, \n",
    "                                                    stratify=y, \n",
    "                                                    random_state=42)\n",
    "\n",
    "clf = DecisionTreeClassifier(max_depth=9, random_state=42)\n",
    "clf.fit(X_train, y_train)\n",
    "preds = clf.predict(X_test)"
   ]
  },
  {
   "cell_type": "code",
   "execution_count": 192,
   "id": "44ee6fba",
   "metadata": {},
   "outputs": [],
   "source": [
    "#print('Accuracy: ',accuracy_score(y_test,preds))"
   ]
  },
  {
   "cell_type": "code",
   "execution_count": null,
   "id": "1100fdaa",
   "metadata": {},
   "outputs": [],
   "source": []
  },
  {
   "cell_type": "code",
   "execution_count": null,
   "id": "261d6136",
   "metadata": {},
   "outputs": [],
   "source": []
  },
  {
   "cell_type": "code",
   "execution_count": null,
   "id": "6e4c7949",
   "metadata": {},
   "outputs": [],
   "source": []
  },
  {
   "cell_type": "code",
   "execution_count": null,
   "id": "b4e2d6c8",
   "metadata": {},
   "outputs": [],
   "source": []
  },
  {
   "cell_type": "code",
   "execution_count": null,
   "id": "fa7500df",
   "metadata": {},
   "outputs": [],
   "source": []
  }
 ],
 "metadata": {
  "kernelspec": {
   "display_name": "Python 3 (ipykernel)",
   "language": "python",
   "name": "python3"
  },
  "language_info": {
   "codemirror_mode": {
    "name": "ipython",
    "version": 3
   },
   "file_extension": ".py",
   "mimetype": "text/x-python",
   "name": "python",
   "nbconvert_exporter": "python",
   "pygments_lexer": "ipython3",
   "version": "3.9.7"
  }
 },
 "nbformat": 4,
 "nbformat_minor": 5
}
