{
 "cells": [
  {
   "cell_type": "code",
   "execution_count": 56,
   "id": "9cd8c90e",
   "metadata": {},
   "outputs": [],
   "source": [
    "import numpy as np\n",
    "from matplotlib import pyplot as plt\n",
    "\n",
    "\n"
   ]
  },
  {
   "cell_type": "code",
   "execution_count": 57,
   "id": "8ff907f2",
   "metadata": {},
   "outputs": [],
   "source": [
    "def get_addition (A,i,j):\n",
    "    A_i = np.delete(A,i,axis = 0)\n",
    "    A_ij = np.delete(A_i,j,axis = 1)\n",
    "    return A_ij"
   ]
  },
  {
   "cell_type": "code",
   "execution_count": 58,
   "id": "fb5ce41c",
   "metadata": {},
   "outputs": [],
   "source": [
    "#создаем матрицу из генерации случайных чисел(передаем миним,макс. число и размер матрицы)\n",
    "A = np.random.randint(-5,8, (3,3))"
   ]
  },
  {
   "cell_type": "code",
   "execution_count": 59,
   "id": "8c87792d",
   "metadata": {},
   "outputs": [
    {
     "data": {
      "text/plain": [
       "array([[ 2,  4, -5],\n",
       "       [ 4, -4, -2],\n",
       "       [-4,  1,  0]])"
      ]
     },
     "execution_count": 59,
     "metadata": {},
     "output_type": "execute_result"
    }
   ],
   "source": [
    "A"
   ]
  },
  {
   "cell_type": "code",
   "execution_count": 60,
   "id": "19ab7dfb",
   "metadata": {},
   "outputs": [
    {
     "data": {
      "text/plain": [
       "array([[ 2, -5],\n",
       "       [-4,  0]])"
      ]
     },
     "execution_count": 60,
     "metadata": {},
     "output_type": "execute_result"
    }
   ],
   "source": [
    "get_addition(A,1,1)"
   ]
  },
  {
   "cell_type": "code",
   "execution_count": null,
   "id": "4d34369f",
   "metadata": {},
   "outputs": [],
   "source": []
  },
  {
   "cell_type": "code",
   "execution_count": 62,
   "id": "b7c83839",
   "metadata": {},
   "outputs": [],
   "source": [
    "# Рисовалка векторов палочек\n",
    "#ПРИНИМАЕТ КОРТЕЖ ИЗ ВЕКТОРО\n",
    "def plot_v (*vecs):\n",
    "    for v in vecs:\n",
    "        # ТОЧКИ БЕРЕМ ОТ НУЛЯ ДО 10\n",
    "        x = np.linspace(0,v[0],10)\n",
    "        y = v[1]/v[0] * x\n",
    "        plt.plot(x,y)\n",
    "    plt.show()    \n"
   ]
  },
  {
   "cell_type": "code",
   "execution_count": 64,
   "id": "b15a8a91",
   "metadata": {},
   "outputs": [],
   "source": [
    "A = np.array([[2, 1], [0, 2]])"
   ]
  },
  {
   "cell_type": "code",
   "execution_count": 65,
   "id": "15f383fe",
   "metadata": {},
   "outputs": [],
   "source": [
    "v = np.array([1,3])"
   ]
  },
  {
   "cell_type": "code",
   "execution_count": 66,
   "id": "2f2f1fec",
   "metadata": {},
   "outputs": [
    {
     "data": {
      "text/plain": [
       "array([5, 6])"
      ]
     },
     "execution_count": 66,
     "metadata": {},
     "output_type": "execute_result"
    }
   ],
   "source": [
    "v_o = A@v\n",
    "v_o"
   ]
  },
  {
   "cell_type": "code",
   "execution_count": 67,
   "id": "5663947b",
   "metadata": {},
   "outputs": [
    {
     "data": {
      "image/png": "[encoded data removed]",
      "text/plain": [
       "<Figure size 432x288 with 1 Axes>"
      ]
     },
     "metadata": {
      "needs_background": "light"
     },
     "output_type": "display_data"
    },
    {
     "data": {
      "image/png": "[encoded data removed]",
      "text/plain": [
       "<Figure size 432x288 with 1 Axes>"
      ]
     },
     "metadata": {
      "needs_background": "light"
     },
     "output_type": "display_data"
    }
   ],
   "source": [
    "plot_v(v)\n",
    "plot_v(v,A@v)"
   ]
  },
  {
   "cell_type": "code",
   "execution_count": null,
   "id": "af7f9079",
   "metadata": {},
   "outputs": [],
   "source": []
  },
  {
   "cell_type": "code",
   "execution_count": 19,
   "id": "9743a197",
   "metadata": {},
   "outputs": [],
   "source": [
    "# Упражнение 1\n",
    "A = np.array([[-1,-3],[1,2]])\n",
    "m = np.array([4, 10])"
   ]
  },
  {
   "cell_type": "code",
   "execution_count": 20,
   "id": "4be40c8b",
   "metadata": {},
   "outputs": [
    {
     "data": {
      "text/plain": [
       "array([-34,  24])"
      ]
     },
     "execution_count": 20,
     "metadata": {},
     "output_type": "execute_result"
    }
   ],
   "source": [
    "v1 = A@m\n",
    "v1"
   ]
  },
  {
   "cell_type": "code",
   "execution_count": 22,
   "id": "c2ac1790",
   "metadata": {},
   "outputs": [
    {
     "data": {
      "image/png": "[encoded data removed]",
      "text/plain": [
       "<Figure size 432x288 with 1 Axes>"
      ]
     },
     "metadata": {
      "needs_background": "light"
     },
     "output_type": "display_data"
    }
   ],
   "source": [
    "plot_v(m,v1)"
   ]
  },
  {
   "cell_type": "code",
   "execution_count": 25,
   "id": "0e9eb842",
   "metadata": {},
   "outputs": [
    {
     "data": {
      "text/plain": [
       "array([[ 2.,  3.],\n",
       "       [-1., -1.]])"
      ]
     },
     "execution_count": 25,
     "metadata": {},
     "output_type": "execute_result"
    }
   ],
   "source": [
    "#проверка:\n",
    "A1 = np.linalg.inv(A)\n",
    "A1\n"
   ]
  },
  {
   "cell_type": "code",
   "execution_count": 26,
   "id": "6c50f629",
   "metadata": {},
   "outputs": [
    {
     "data": {
      "text/plain": [
       "array([ 4., 10.])"
      ]
     },
     "execution_count": 26,
     "metadata": {},
     "output_type": "execute_result"
    }
   ],
   "source": [
    "v2 = A1@v1\n",
    "v2"
   ]
  },
  {
   "cell_type": "code",
   "execution_count": 27,
   "id": "d6fee342",
   "metadata": {},
   "outputs": [],
   "source": [
    "#последовательное применение операторов\n",
    "A = np.array([[4,5,-3],[1,-1, -1],[7,4,0]])\n",
    "B = np.array([[3,1,0],[2,-4, -5],[0,2,1]])\n",
    "v = np.array([3,-4, 5])"
   ]
  },
  {
   "cell_type": "code",
   "execution_count": 33,
   "id": "17361fbb",
   "metadata": {},
   "outputs": [
    {
     "data": {
      "text/plain": [
       "array([-23,   2,   5])"
      ]
     },
     "execution_count": 33,
     "metadata": {},
     "output_type": "execute_result"
    }
   ],
   "source": [
    "v1 = A@v\n",
    "v1"
   ]
  },
  {
   "cell_type": "code",
   "execution_count": 34,
   "id": "7a7c0a24",
   "metadata": {},
   "outputs": [
    {
     "data": {
      "text/plain": [
       "array([-67, -79,   9])"
      ]
     },
     "execution_count": 34,
     "metadata": {},
     "output_type": "execute_result"
    }
   ],
   "source": [
    "v2 = B@v1\n",
    "v2"
   ]
  },
  {
   "cell_type": "code",
   "execution_count": 36,
   "id": "e802bccf",
   "metadata": {},
   "outputs": [],
   "source": [
    "C = B @ A"
   ]
  },
  {
   "cell_type": "code",
   "execution_count": 37,
   "id": "70bde595",
   "metadata": {},
   "outputs": [
    {
     "data": {
      "text/plain": [
       "array([[ 13,  14, -10],\n",
       "       [-31,  -6,  -2],\n",
       "       [  9,   2,  -2]])"
      ]
     },
     "execution_count": 37,
     "metadata": {},
     "output_type": "execute_result"
    }
   ],
   "source": [
    "C"
   ]
  },
  {
   "cell_type": "code",
   "execution_count": 38,
   "id": "7a0aa373",
   "metadata": {},
   "outputs": [
    {
     "data": {
      "text/plain": [
       "array([-67, -79,   9])"
      ]
     },
     "execution_count": 38,
     "metadata": {},
     "output_type": "execute_result"
    }
   ],
   "source": [
    "C @ v"
   ]
  },
  {
   "cell_type": "code",
   "execution_count": 40,
   "id": "288bc1f4",
   "metadata": {},
   "outputs": [
    {
     "data": {
      "text/plain": [
       "array([-67, -79,   9])"
      ]
     },
     "execution_count": 40,
     "metadata": {},
     "output_type": "execute_result"
    }
   ],
   "source": [
    "B @ A @ v"
   ]
  },
  {
   "cell_type": "code",
   "execution_count": 68,
   "id": "5b7c0e2a",
   "metadata": {},
   "outputs": [],
   "source": [
    "# переход к новому базису\n",
    "# A -МАТРИЦА ОПЕРАТОРА\n",
    "A = np.array([[1, 0], [0, 2]])\n",
    "# T - матрица перехода\n",
    "T = np.array([[-2, -1], [5, 2]])"
   ]
  },
  {
   "cell_type": "code",
   "execution_count": 42,
   "id": "c04d32c7",
   "metadata": {},
   "outputs": [],
   "source": [
    "T_ = np.linalg.inv(T)"
   ]
  },
  {
   "cell_type": "code",
   "execution_count": 43,
   "id": "907417b2",
   "metadata": {},
   "outputs": [],
   "source": [
    "AA = T_ @ A @ T"
   ]
  },
  {
   "cell_type": "code",
   "execution_count": 44,
   "id": "bc1fdbe8",
   "metadata": {},
   "outputs": [
    {
     "data": {
      "text/plain": [
       "array([[  6.,   2.],\n",
       "       [-10.,  -3.]])"
      ]
     },
     "execution_count": 44,
     "metadata": {},
     "output_type": "execute_result"
    }
   ],
   "source": [
    "AA"
   ]
  },
  {
   "cell_type": "code",
   "execution_count": null,
   "id": "c7d8307d",
   "metadata": {},
   "outputs": [],
   "source": []
  },
  {
   "cell_type": "code",
   "execution_count": null,
   "id": "68c5f32a",
   "metadata": {},
   "outputs": [],
   "source": []
  },
  {
   "cell_type": "code",
   "execution_count": 69,
   "id": "511a3fe8",
   "metadata": {},
   "outputs": [],
   "source": [
    "# собственные числа и собственные векторы\n",
    "A = np.array([[-1, -6], [2, 6]])\n",
    "u = np.array([2, -1])"
   ]
  },
  {
   "cell_type": "code",
   "execution_count": 70,
   "id": "c0b7bb03",
   "metadata": {},
   "outputs": [],
   "source": [
    "v = A @ u"
   ]
  },
  {
   "cell_type": "code",
   "execution_count": 71,
   "id": "83218ea4",
   "metadata": {},
   "outputs": [
    {
     "data": {
      "text/plain": [
       "array([ 4, -2])"
      ]
     },
     "execution_count": 71,
     "metadata": {},
     "output_type": "execute_result"
    }
   ],
   "source": [
    "v"
   ]
  },
  {
   "cell_type": "code",
   "execution_count": 72,
   "id": "a4992315",
   "metadata": {},
   "outputs": [
    {
     "data": {
      "text/plain": [
       "array([ 4, -2])"
      ]
     },
     "execution_count": 72,
     "metadata": {},
     "output_type": "execute_result"
    }
   ],
   "source": [
    "2 * u"
   ]
  },
  {
   "cell_type": "code",
   "execution_count": null,
   "id": "8b9e220e",
   "metadata": {},
   "outputs": [],
   "source": [
    "# каноническое разложение"
   ]
  },
  {
   "cell_type": "code",
   "execution_count": 82,
   "id": "c82d7344",
   "metadata": {},
   "outputs": [],
   "source": [
    "A = np.array([[-1, -6], [2, 6]])"
   ]
  },
  {
   "cell_type": "code",
   "execution_count": 83,
   "id": "940b0e46",
   "metadata": {},
   "outputs": [
    {
     "data": {
      "text/plain": [
       "(array([2., 3.]),\n",
       " array([[-0.89442719,  0.83205029],\n",
       "        [ 0.4472136 , -0.5547002 ]]))"
      ]
     },
     "execution_count": 83,
     "metadata": {},
     "output_type": "execute_result"
    }
   ],
   "source": [
    "np.linalg.eig(A)\n",
    "# нам вернется два массива,один содержит собственные числа, второй координаты\n",
    "#"
   ]
  },
  {
   "cell_type": "code",
   "execution_count": 84,
   "id": "058b4a02",
   "metadata": {},
   "outputs": [],
   "source": [
    "# Наша диагональная матрица с собственными числами,которые мы получили выше\n",
    "# array([2., 3.])\n",
    "D = np.array([[2,0],[0,3]])"
   ]
  },
  {
   "cell_type": "code",
   "execution_count": 85,
   "id": "61f40901",
   "metadata": {},
   "outputs": [],
   "source": [
    "# _, :пропуск означает,что мы пропускаем наши значения собственные и берем только координаты\n",
    "_,U = np.linalg.eig(A)"
   ]
  },
  {
   "cell_type": "code",
   "execution_count": 86,
   "id": "81fdcae4",
   "metadata": {},
   "outputs": [
    {
     "data": {
      "text/plain": [
       "array([[-0.89442719,  0.83205029],\n",
       "       [ 0.4472136 , -0.5547002 ]])"
      ]
     },
     "execution_count": 86,
     "metadata": {},
     "output_type": "execute_result"
    }
   ],
   "source": [
    "U"
   ]
  },
  {
   "cell_type": "code",
   "execution_count": 87,
   "id": "ae3d50f2",
   "metadata": {},
   "outputs": [],
   "source": [
    "U_ = np.linalg.inv(U)"
   ]
  },
  {
   "cell_type": "code",
   "execution_count": 88,
   "id": "121d7cff",
   "metadata": {},
   "outputs": [
    {
     "data": {
      "text/plain": [
       "array([[-1, -6],\n",
       "       [ 2,  6]])"
      ]
     },
     "execution_count": 88,
     "metadata": {},
     "output_type": "execute_result"
    }
   ],
   "source": [
    "A"
   ]
  },
  {
   "cell_type": "code",
   "execution_count": 90,
   "id": "efdbfcc3",
   "metadata": {},
   "outputs": [
    {
     "data": {
      "text/plain": [
       "array([[-1., -6.],\n",
       "       [ 2.,  6.]])"
      ]
     },
     "execution_count": 90,
     "metadata": {},
     "output_type": "execute_result"
    }
   ],
   "source": [
    "# мы проверям по формуле и видим, что правило каноническое разложение работает A = U@D@U_\n",
    "U@D@U_"
   ]
  },
  {
   "cell_type": "code",
   "execution_count": null,
   "id": "5b2b46d6",
   "metadata": {},
   "outputs": [],
   "source": []
  },
  {
   "cell_type": "code",
   "execution_count": 91,
   "id": "4329e3f5",
   "metadata": {},
   "outputs": [],
   "source": [
    "# svd разложение\n",
    "# полный массив для анализа\n",
    "data = np.array([[2,4], [0,3], [-2,4], [-5, 1], [-6,1], [-2,-1], \\\n",
    "                [5,5], [5,2], [5,3], [4,1], [3,-1], [2, -3], [-2,-3]])\n",
    "\n",
    "# разделил для рисования\n",
    "set1 = np.array([[2,4], [0,3], [-2,4], [-5, 1], [-6,1], [-2,-1]]) \n",
    "set2 = np.array([[5,5], [5,2], [5,3], [4,1], [3,-1], [2, -3], [-2,-3]])                 "
   ]
  },
  {
   "cell_type": "code",
   "execution_count": 94,
   "id": "1560458b",
   "metadata": {},
   "outputs": [
    {
     "data": {
      "text/plain": [
       "array([[ 2,  0, -2, -5, -6, -2,  5,  5,  5,  4,  3,  2, -2],\n",
       "       [ 4,  3,  4,  1,  1, -1,  5,  2,  3,  1, -1, -3, -3]])"
      ]
     },
     "execution_count": 94,
     "metadata": {},
     "output_type": "execute_result"
    }
   ],
   "source": [
    "# Чтобы точки нарисовать мы транспонируем матрицу\n",
    "data.T"
   ]
  },
  {
   "cell_type": "code",
   "execution_count": 96,
   "id": "2a25fb50",
   "metadata": {},
   "outputs": [
    {
     "name": "stdout",
     "output_type": "stream",
     "text": [
      "[ 2  0 -2 -5 -6 -2  5  5  5  4  3  2 -2]\n",
      "[ 4  3  4  1  1 -1  5  2  3  1 -1 -3 -3]\n"
     ]
    }
   ],
   "source": [
    "x = data.T[0]\n",
    "y = data.T[1]\n",
    "print(x)\n",
    "print(y)"
   ]
  },
  {
   "cell_type": "code",
   "execution_count": 108,
   "id": "4886ca33",
   "metadata": {},
   "outputs": [
    {
     "name": "stdout",
     "output_type": "stream",
     "text": [
      "[ 2  0 -2 -5 -6 -2]\n",
      "[ 4  3  4  1  1 -1]\n",
      "[ 5  5  5  4  3  2 -2]\n",
      "[ 5  2  3  1 -1 -3 -3]\n"
     ]
    }
   ],
   "source": [
    "x1 = set1.T[0]\n",
    "y1 = set1.T[1]\n",
    "\n",
    "x2 = set2.T[0]\n",
    "y2 = set2.T[1]\n",
    "print(x1)\n",
    "print(y1)\n",
    "print(x2)\n",
    "print(y2)"
   ]
  },
  {
   "cell_type": "code",
   "execution_count": 98,
   "id": "7b6e0177",
   "metadata": {},
   "outputs": [
    {
     "data": {
      "image/png": "[encoded data removed]",
      "text/plain": [
       "<Figure size 432x288 with 1 Axes>"
      ]
     },
     "metadata": {
      "needs_background": "light"
     },
     "output_type": "display_data"
    }
   ],
   "source": [
    "plt.scatter(x1,y1)\n",
    "plt.scatter(x2,y2)\n",
    "plt.show()"
   ]
  },
  {
   "cell_type": "code",
   "execution_count": 156,
   "id": "a9e7161e",
   "metadata": {},
   "outputs": [],
   "source": [
    "# Собственно разложение"
   ]
  },
  {
   "cell_type": "code",
   "execution_count": 100,
   "id": "80a9fc65",
   "metadata": {},
   "outputs": [],
   "source": [
    "U , S, vt = np.linalg.svd(data)"
   ]
  },
  {
   "cell_type": "code",
   "execution_count": 102,
   "id": "12fa86e0",
   "metadata": {},
   "outputs": [
    {
     "data": {
      "text/plain": [
       "(13, 13)"
      ]
     },
     "execution_count": 102,
     "metadata": {},
     "output_type": "execute_result"
    }
   ],
   "source": [
    "U.shape\n",
    "# размер должен быть m X m,  в нашем случае 13 на 13, так как матрица data имеет размер 13 на 2"
   ]
  },
  {
   "cell_type": "code",
   "execution_count": 104,
   "id": "49b80f90",
   "metadata": {},
   "outputs": [
    {
     "data": {
      "text/plain": [
       "array([14.11227513,  9.15662005])"
      ]
     },
     "execution_count": 104,
     "metadata": {},
     "output_type": "execute_result"
    }
   ],
   "source": [
    "# S  Это наши сингулярные числа\n",
    "S"
   ]
  },
  {
   "cell_type": "code",
   "execution_count": 106,
   "id": "86dfcd2a",
   "metadata": {},
   "outputs": [
    {
     "data": {
      "text/plain": [
       "(2, 2)"
      ]
     },
     "execution_count": 106,
     "metadata": {},
     "output_type": "execute_result"
    }
   ],
   "source": [
    "#vt размер должен быть n X n  в нашем случае 2 на 2, так как матрица data имеет размер 13 на 2\n",
    "vt.shape"
   ]
  },
  {
   "cell_type": "code",
   "execution_count": 107,
   "id": "623d4914",
   "metadata": {},
   "outputs": [
    {
     "data": {
      "image/png": "[encoded data removed]",
      "text/plain": [
       "<Figure size 432x288 with 1 Axes>"
      ]
     },
     "metadata": {
      "needs_background": "light"
     },
     "output_type": "display_data"
    }
   ],
   "source": [
    "plt.scatter(x1,y1)\n",
    "plt.scatter(x2,y2)\n",
    "\n",
    "for v in vt:\n",
    "    u = np.linspace(-v[0],v[0],10)\n",
    "    w = v[1]/v[0] * u\n",
    "    plt.plot(u,w)\n"
   ]
  },
  {
   "cell_type": "code",
   "execution_count": null,
   "id": "fd772561",
   "metadata": {},
   "outputs": [],
   "source": []
  },
  {
   "cell_type": "code",
   "execution_count": null,
   "id": "e88caf01",
   "metadata": {},
   "outputs": [],
   "source": []
  },
  {
   "cell_type": "code",
   "execution_count": null,
   "id": "2a1fc699",
   "metadata": {},
   "outputs": [],
   "source": []
  },
  {
   "cell_type": "code",
   "execution_count": null,
   "id": "f27db1f4",
   "metadata": {},
   "outputs": [],
   "source": []
  }
 ],
 "metadata": {
  "kernelspec": {
   "display_name": "Python 3 (ipykernel)",
   "language": "python",
   "name": "python3"
  },
  "language_info": {
   "codemirror_mode": {
    "name": "ipython",
    "version": 3
   },
   "file_extension": ".py",
   "mimetype": "text/x-python",
   "name": "python",
   "nbconvert_exporter": "python",
   "pygments_lexer": "ipython3",
   "version": "3.9.7"
  }
 },
 "nbformat": 4,
 "nbformat_minor": 5
}
