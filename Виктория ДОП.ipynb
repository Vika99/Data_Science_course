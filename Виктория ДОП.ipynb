{
 "cells": [
  {
   "cell_type": "code",
   "execution_count": 4,
   "id": "826376b3",
   "metadata": {},
   "outputs": [],
   "source": [
    "# Дана вот такая стркутура данных.\n",
    "# Посчитай количество двоек\n",
    "arr = [[0, 4], [9, 6, 8], [], [3, 3, 9, 2, 7, 0, 6, 1, 0], [6, 0, 1, 2, 2, 0, 0, 7], [], [2], [4, 2, 5, 1], [8, 2, 2]]"
   ]
  },
  {
   "cell_type": "code",
   "execution_count": 5,
   "id": "7a8d6c36",
   "metadata": {},
   "outputs": [
    {
     "data": {
      "text/plain": [
       "list"
      ]
     },
     "execution_count": 5,
     "metadata": {},
     "output_type": "execute_result"
    }
   ],
   "source": [
    "type(arr)"
   ]
  },
  {
   "cell_type": "code",
   "execution_count": 7,
   "id": "c946119f",
   "metadata": {},
   "outputs": [
    {
     "name": "stdout",
     "output_type": "stream",
     "text": [
      "7\n"
     ]
    }
   ],
   "source": [
    "count = 0\n",
    "for i in range(len(arr)):\n",
    "    for j in range(len(arr[i])):\n",
    "        if arr[i][j] == 2:\n",
    "            count +=1\n",
    "            \n",
    "print(count)\n",
    "    "
   ]
  },
  {
   "cell_type": "markdown",
   "id": "c785d1c3",
   "metadata": {},
   "source": [
    "# вариат 2,так как у нас лист,можем позволить следующее:"
   ]
  },
  {
   "cell_type": "code",
   "execution_count": 8,
   "id": "e867a432",
   "metadata": {},
   "outputs": [
    {
     "name": "stdout",
     "output_type": "stream",
     "text": [
      "7\n"
     ]
    }
   ],
   "source": [
    "count = 0\n",
    "\n",
    "for sub_list in arr:\n",
    "    for digit in sub_list:\n",
    "        if digit == 2:\n",
    "            count +=1\n",
    "print(count)"
   ]
  },
  {
   "cell_type": "code",
   "execution_count": null,
   "id": "2064894c",
   "metadata": {},
   "outputs": [],
   "source": []
  }
 ],
 "metadata": {
  "kernelspec": {
   "display_name": "Python 3 (ipykernel)",
   "language": "python",
   "name": "python3"
  },
  "language_info": {
   "codemirror_mode": {
    "name": "ipython",
    "version": 3
   },
   "file_extension": ".py",
   "mimetype": "text/x-python",
   "name": "python",
   "nbconvert_exporter": "python",
   "pygments_lexer": "ipython3",
   "version": "3.9.7"
  }
 },
 "nbformat": 4,
 "nbformat_minor": 5
}
