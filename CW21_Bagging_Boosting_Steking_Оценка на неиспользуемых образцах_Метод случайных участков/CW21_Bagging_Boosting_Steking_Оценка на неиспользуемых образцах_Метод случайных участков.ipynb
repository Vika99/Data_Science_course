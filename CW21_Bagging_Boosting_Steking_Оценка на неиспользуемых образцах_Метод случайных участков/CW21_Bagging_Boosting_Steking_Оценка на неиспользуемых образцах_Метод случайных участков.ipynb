{
 "cells": [
  {
   "cell_type": "code",
   "execution_count": 1,
   "id": "b292e5df",
   "metadata": {},
   "outputs": [],
   "source": [
    "import pandas as pd\n",
    "from matplotlib import pyplot as plt\n",
    "import seaborn as sns\n",
    "%matplotlib inline\n",
    "import numpy as np\n",
    "from sklearn.metrics import confusion_matrix, precision_score, \\\n",
    "              recall_score, f1_score, precision_recall_curve, roc_curve, roc_auc_score, \\\n",
    "              auc, mean_squared_error, accuracy_score\n",
    "import math\n",
    "plt.rcParams[\"figure.figsize\"] = (12,6)\n",
    "from sklearn.model_selection import cross_val_score"
   ]
  },
  {
   "cell_type": "markdown",
   "id": "bf164348",
   "metadata": {},
   "source": [
    "# SK-learn"
   ]
  },
  {
   "cell_type": "markdown",
   "id": "ff570f5c",
   "metadata": {},
   "source": [
    "## Bagging"
   ]
  },
  {
   "cell_type": "code",
   "execution_count": 2,
   "id": "24a4fbc6",
   "metadata": {},
   "outputs": [],
   "source": [
    "from sklearn.model_selection import train_test_split\n",
    "from sklearn.datasets import make_moons\n",
    "\n",
    "# параметр noise отвечает за рассеянность класса\n",
    "\n",
    "X, y = make_moons(n_samples=500, noise=0.30, random_state=42)\n",
    "X_train, X_test, y_train, y_test = train_test_split(X, y, random_state=42)"
   ]
  },
  {
   "cell_type": "code",
   "execution_count": 3,
   "id": "5d47bc58",
   "metadata": {},
   "outputs": [
    {
     "data": {
      "image/png": "[encoded data removed]",
      "text/plain": [
       "<Figure size 864x432 with 1 Axes>"
      ]
     },
     "metadata": {
      "needs_background": "light"
     },
     "output_type": "display_data"
    }
   ],
   "source": [
    "plt.scatter(X[y==0, 0], X[y==0, 1], color = (0,1,0))\n",
    "plt.scatter(X[y==1, 0], X[y==1, 1], color = (1,0,0));\n",
    "\n"
   ]
  },
  {
   "cell_type": "code",
   "execution_count": 5,
   "id": "d8daf757",
   "metadata": {},
   "outputs": [],
   "source": [
    "from sklearn.ensemble import BaggingClassifier\n",
    "from sklearn.tree import DecisionTreeClassifier\n",
    "from sklearn.svm import SVC\n",
    "# Параметр max_samples важный в ансамбле и говорит о количестве элементов на котором будет учиться(в нашем примере дерево)\n",
    "# bootstrap=True выборка с возвращением(повторением)\n",
    "# n_jobs=-1 загрузка ядер процессора ,-1 система сама понимает сколько надо использовать\n",
    "# n_estimators - количество прогнозаторов\n",
    "bag_clf = BaggingClassifier(\n",
    "    DecisionTreeClassifier(random_state=42), n_estimators=500,\n",
    "    max_samples=100, bootstrap=True, n_jobs=-1, random_state=42)\n",
    "bag_clf.fit(X_train, y_train)\n",
    "y_pred = bag_clf.predict(X_test)"
   ]
  },
  {
   "cell_type": "code",
   "execution_count": 6,
   "id": "da395503",
   "metadata": {},
   "outputs": [
    {
     "name": "stdout",
     "output_type": "stream",
     "text": [
      "0.904\n"
     ]
    }
   ],
   "source": [
    "print(accuracy_score(y_test, y_pred))"
   ]
  },
  {
   "cell_type": "code",
   "execution_count": 7,
   "id": "9f85ad3e",
   "metadata": {},
   "outputs": [
    {
     "name": "stdout",
     "output_type": "stream",
     "text": [
      "0.856\n"
     ]
    }
   ],
   "source": [
    "tree_clf = DecisionTreeClassifier(random_state=42)\n",
    "tree_clf.fit(X_train, y_train)\n",
    "y_pred_tree = tree_clf.predict(X_test)\n",
    "print(accuracy_score(y_test, y_pred_tree))"
   ]
  },
  {
   "cell_type": "markdown",
   "id": "ee786067",
   "metadata": {},
   "source": [
    "## Оценка на неиспользуемых образцах"
   ]
  },
  {
   "cell_type": "code",
   "execution_count": 8,
   "id": "addad43a",
   "metadata": {},
   "outputs": [],
   "source": [
    "df = pd.read_csv('churn-bigml-80.csv')\n",
    "test_df = pd.read_csv('churn-bigml-20.csv')"
   ]
  },
  {
   "cell_type": "code",
   "execution_count": 9,
   "id": "b4353c90",
   "metadata": {},
   "outputs": [],
   "source": [
    "df['International plan'] = df['International plan'].map({'No':0, 'Yes':1})\n",
    "df['Voice mail plan'] = df['Voice mail plan'].map({'No':0, 'Yes':1})\n",
    "X = df.drop(['State', 'Churn'], axis = 1)\n",
    "Y = df['Churn']\n",
    "\n",
    "test_df['International plan'] = test_df['International plan'].map({'No':0, 'Yes':1})\n",
    "test_df['Voice mail plan'] = test_df['Voice mail plan'].map({'No':0, 'Yes':1})\n",
    "X_test = test_df.drop(['State', 'Churn'], axis = 1)\n",
    "Y_test = test_df['Churn']\n"
   ]
  },
  {
   "cell_type": "code",
   "execution_count": 10,
   "id": "ee9c4bf0",
   "metadata": {},
   "outputs": [
    {
     "data": {
      "text/plain": [
       "BaggingClassifier(base_estimator=DecisionTreeClassifier(random_state=42),\n",
       "                  max_samples=0.3, n_estimators=500, n_jobs=-1, oob_score=True,\n",
       "                  random_state=42)"
      ]
     },
     "execution_count": 10,
     "metadata": {},
     "output_type": "execute_result"
    }
   ],
   "source": [
    "bag_clf = BaggingClassifier(\n",
    "    DecisionTreeClassifier(random_state=42), n_estimators=500,\n",
    "    max_samples=0.3, bootstrap=True, oob_score = True, n_jobs=-1, random_state=42)\n",
    "bag_clf.fit(X, Y)"
   ]
  },
  {
   "cell_type": "code",
   "execution_count": 12,
   "id": "c884031a",
   "metadata": {},
   "outputs": [
    {
     "data": {
      "text/plain": [
       "0.9508627156789198"
      ]
     },
     "execution_count": 12,
     "metadata": {},
     "output_type": "execute_result"
    }
   ],
   "source": [
    "bag_clf.oob_score_"
   ]
  },
  {
   "cell_type": "code",
   "execution_count": 13,
   "id": "a2e1d273",
   "metadata": {},
   "outputs": [
    {
     "data": {
      "text/plain": [
       "0.9550224887556222"
      ]
     },
     "execution_count": 13,
     "metadata": {},
     "output_type": "execute_result"
    }
   ],
   "source": [
    "pred = bag_clf.predict(X_test)\n",
    "accuracy_score (Y_test, pred)"
   ]
  },
  {
   "cell_type": "markdown",
   "id": "6109cce0",
   "metadata": {},
   "source": [
    "## Метод случайных участков"
   ]
  },
  {
   "cell_type": "code",
   "execution_count": 14,
   "id": "43a526fb",
   "metadata": {},
   "outputs": [
    {
     "data": {
      "text/plain": [
       "BaggingClassifier(base_estimator=DecisionTreeClassifier(random_state=42),\n",
       "                  bootstrap_features=True, max_features=0.6, max_samples=0.3,\n",
       "                  n_estimators=500, n_jobs=-1, oob_score=True, random_state=42)"
      ]
     },
     "execution_count": 14,
     "metadata": {},
     "output_type": "execute_result"
    }
   ],
   "source": [
    "bag_clf = BaggingClassifier(\n",
    "    DecisionTreeClassifier(random_state=42), n_estimators=500,\n",
    "    max_samples=0.3, bootstrap=True, oob_score = True, n_jobs=-1, random_state=42,\n",
    "    bootstrap_features = True, max_features = 0.6)\n",
    "\n",
    "\n",
    "bag_clf.fit(X, Y)\n"
   ]
  },
  {
   "cell_type": "code",
   "execution_count": 15,
   "id": "73381968",
   "metadata": {},
   "outputs": [
    {
     "data": {
      "text/plain": [
       "0.8840960240060015"
      ]
     },
     "execution_count": 15,
     "metadata": {},
     "output_type": "execute_result"
    }
   ],
   "source": [
    "bag_clf.oob_score_"
   ]
  },
  {
   "cell_type": "markdown",
   "id": "bf2453e4",
   "metadata": {},
   "source": [
    "## Метод случайных подпространств"
   ]
  },
  {
   "cell_type": "code",
   "execution_count": 30,
   "id": "a221da4d",
   "metadata": {},
   "outputs": [
    {
     "data": {
      "text/plain": [
       "BaggingClassifier(base_estimator=DecisionTreeClassifier(random_state=42),\n",
       "                  bootstrap=False, bootstrap_features=True, max_features=0.6,\n",
       "                  n_estimators=500, n_jobs=-1, random_state=42)"
      ]
     },
     "execution_count": 30,
     "metadata": {},
     "output_type": "execute_result"
    }
   ],
   "source": [
    "bag_clf = BaggingClassifier(\n",
    "    DecisionTreeClassifier(random_state=42), n_estimators=500,\n",
    "    max_samples=1.0, bootstrap=False, n_jobs=-1, random_state=42,\n",
    "    bootstrap_features = True, max_features = 0.6)\n",
    "\n",
    "bag_clf.fit(X, Y)\n"
   ]
  },
  {
   "cell_type": "code",
   "execution_count": 16,
   "id": "0536ba31",
   "metadata": {},
   "outputs": [
    {
     "data": {
      "text/plain": [
       "0.8950524737631185"
      ]
     },
     "execution_count": 16,
     "metadata": {},
     "output_type": "execute_result"
    }
   ],
   "source": [
    "pred = bag_clf.predict(X_test)\n",
    "accuracy_score (Y_test, pred)"
   ]
  },
  {
   "cell_type": "code",
   "execution_count": null,
   "id": "05e0841c",
   "metadata": {},
   "outputs": [],
   "source": []
  },
  {
   "cell_type": "code",
   "execution_count": null,
   "id": "f16cd73a",
   "metadata": {},
   "outputs": [],
   "source": []
  },
  {
   "cell_type": "code",
   "execution_count": null,
   "id": "637a64ed",
   "metadata": {},
   "outputs": [],
   "source": []
  },
  {
   "cell_type": "markdown",
   "id": "cc87b7d6",
   "metadata": {},
   "source": [
    "## Случайный лес"
   ]
  },
  {
   "cell_type": "code",
   "execution_count": 19,
   "id": "d0adbefa",
   "metadata": {},
   "outputs": [],
   "source": [
    "from sklearn.ensemble import RandomForestClassifier\n",
    "\n",
    "rnd_clf = RandomForestClassifier(n_estimators=500,\n",
    "                                 max_leaf_nodes = 16, \n",
    "                                 n_jobs=-1, random_state=42)\n",
    "rnd_clf.fit(X, Y)\n",
    "\n",
    "y_pred_rf = rnd_clf.predict(X_test)"
   ]
  },
  {
   "cell_type": "code",
   "execution_count": 20,
   "id": "695de67c",
   "metadata": {},
   "outputs": [
    {
     "name": "stdout",
     "output_type": "stream",
     "text": [
      "0.9220389805097451\n"
     ]
    }
   ],
   "source": [
    "print(accuracy_score(Y_test, y_pred_rf))"
   ]
  },
  {
   "cell_type": "code",
   "execution_count": 50,
   "id": "1e8a6f86",
   "metadata": {},
   "outputs": [],
   "source": [
    "# Метод подпространств\n",
    "rnd_clf = RandomForestClassifier(n_estimators=500,\n",
    "                                 max_leaf_nodes = 16, \n",
    "                                 bootstrap=False, max_features=0.6,\n",
    "                                 max_samples=1,\n",
    "                                 n_jobs=-1, random_state=42)\n",
    "#rnd_clf.fit(X, Y)"
   ]
  },
  {
   "cell_type": "code",
   "execution_count": 47,
   "id": "a3153e1e",
   "metadata": {},
   "outputs": [
    {
     "name": "stdout",
     "output_type": "stream",
     "text": [
      "0.9565217391304348\n"
     ]
    }
   ],
   "source": [
    "#y_pred_rf = rnd_clf.predict(X_test)\n",
    "#print(accuracy_score(Y_test, y_pred_rf))"
   ]
  },
  {
   "cell_type": "code",
   "execution_count": 21,
   "id": "bdf425b0",
   "metadata": {},
   "outputs": [
    {
     "name": "stdout",
     "output_type": "stream",
     "text": [
      "Account length 0.008240627695349497\n",
      "Area code 0.0009663491139222093\n",
      "International plan 0.12951915904871464\n",
      "Voice mail plan 0.025386142063919724\n",
      "Number vmail messages 0.029785509259198005\n",
      "Total day minutes 0.1780335053267436\n",
      "Total day calls 0.00889762489063886\n",
      "Total day charge 0.18686230808275212\n",
      "Total eve minutes 0.05452832086739277\n",
      "Total eve calls 0.006842112133060145\n",
      "Total eve charge 0.053620204875747916\n",
      "Total night minutes 0.017707845272428205\n",
      "Total night calls 0.008192311322670122\n",
      "Total night charge 0.017660863426316856\n",
      "Total intl minutes 0.03522095920906843\n",
      "Total intl calls 0.045428530928535014\n",
      "Total intl charge 0.03565411493036498\n",
      "Customer service calls 0.15745351155317705\n"
     ]
    }
   ],
   "source": [
    "# BONUS Значимость признаков\n",
    "for name, score in zip(X.columns.tolist(), rnd_clf.feature_importances_):\n",
    "    print(name, score)"
   ]
  },
  {
   "cell_type": "code",
   "execution_count": null,
   "id": "61cc356d",
   "metadata": {},
   "outputs": [],
   "source": []
  },
  {
   "cell_type": "markdown",
   "id": "f6832b73",
   "metadata": {},
   "source": [
    "## BOOSTING"
   ]
  },
  {
   "cell_type": "code",
   "execution_count": 25,
   "id": "7fdf5917",
   "metadata": {},
   "outputs": [
    {
     "data": {
      "text/plain": [
       "AdaBoostClassifier(base_estimator=DecisionTreeClassifier(max_depth=1),\n",
       "                   learning_rate=0.5, n_estimators=200, random_state=42)"
      ]
     },
     "execution_count": 25,
     "metadata": {},
     "output_type": "execute_result"
    }
   ],
   "source": [
    "# ADA BOOST\n",
    "\n",
    "from sklearn.ensemble import AdaBoostClassifier\n",
    "\n",
    "ada_clf = AdaBoostClassifier(\n",
    "    DecisionTreeClassifier(max_depth=1), n_estimators=200,\n",
    "    learning_rate=0.5, random_state=42)\n",
    "ada_clf.fit(X, Y)\n",
    "#algorithm=\"SAMME.R\""
   ]
  },
  {
   "cell_type": "code",
   "execution_count": 26,
   "id": "c4aae7f0",
   "metadata": {},
   "outputs": [
    {
     "name": "stdout",
     "output_type": "stream",
     "text": [
      "0.8905547226386806\n"
     ]
    }
   ],
   "source": [
    "y_pred_rf = ada_clf.predict(X_test)\n",
    "print(accuracy_score(Y_test, y_pred_rf))"
   ]
  },
  {
   "cell_type": "code",
   "execution_count": null,
   "id": "284d07dd",
   "metadata": {},
   "outputs": [],
   "source": []
  },
  {
   "cell_type": "code",
   "execution_count": 27,
   "id": "95d68c87",
   "metadata": {},
   "outputs": [],
   "source": [
    "# GradientBoosting\n",
    "# сгенерируем данные\n",
    "np.random.seed(42)\n",
    "X = np.random.rand(100, 1) - 0.5\n",
    "y = 3*X[:, 0]**2 + 0.05 * np.random.randn(100)"
   ]
  },
  {
   "cell_type": "code",
   "execution_count": 28,
   "id": "04993124",
   "metadata": {},
   "outputs": [
    {
     "data": {
      "text/plain": [
       "DecisionTreeRegressor(max_depth=2, random_state=42)"
      ]
     },
     "execution_count": 28,
     "metadata": {},
     "output_type": "execute_result"
    }
   ],
   "source": [
    "from sklearn.tree import DecisionTreeRegressor\n",
    "\n",
    "tree_reg1 = DecisionTreeRegressor(max_depth=2, random_state=42)\n",
    "tree_reg1.fit(X, y)"
   ]
  },
  {
   "cell_type": "code",
   "execution_count": 77,
   "id": "5e4d2e4a",
   "metadata": {},
   "outputs": [
    {
     "data": {
      "text/plain": [
       "DecisionTreeRegressor(max_depth=2, random_state=42)"
      ]
     },
     "execution_count": 77,
     "metadata": {},
     "output_type": "execute_result"
    }
   ],
   "source": [
    "y2 = y - tree_reg1.predict(X)\n",
    "tree_reg2 = DecisionTreeRegressor(max_depth=2, random_state=42)\n",
    "tree_reg2.fit(X, y2)"
   ]
  },
  {
   "cell_type": "code",
   "execution_count": 78,
   "id": "9c1d5f6e",
   "metadata": {},
   "outputs": [
    {
     "data": {
      "text/plain": [
       "DecisionTreeRegressor(max_depth=2, random_state=42)"
      ]
     },
     "execution_count": 78,
     "metadata": {},
     "output_type": "execute_result"
    }
   ],
   "source": [
    "y3 = y2 - tree_reg2.predict(X)\n",
    "tree_reg3 = DecisionTreeRegressor(max_depth=2, random_state=42)\n",
    "tree_reg3.fit(X, y3)"
   ]
  },
  {
   "cell_type": "code",
   "execution_count": 79,
   "id": "9c6fcc5b",
   "metadata": {},
   "outputs": [],
   "source": [
    "X_new = np.array([[0.8]])"
   ]
  },
  {
   "cell_type": "code",
   "execution_count": 81,
   "id": "b849fa15",
   "metadata": {},
   "outputs": [
    {
     "data": {
      "text/plain": [
       "array([0.75026781])"
      ]
     },
     "execution_count": 81,
     "metadata": {},
     "output_type": "execute_result"
    }
   ],
   "source": [
    "y_pred = sum(tree.predict(X_new) for tree in (tree_reg1, tree_reg2, tree_reg3))\n",
    "y_pred"
   ]
  },
  {
   "cell_type": "code",
   "execution_count": null,
   "id": "bad7c8c3",
   "metadata": {},
   "outputs": [],
   "source": []
  },
  {
   "cell_type": "code",
   "execution_count": 29,
   "id": "839681c7",
   "metadata": {},
   "outputs": [],
   "source": [
    "# Вернемся к отлюченцам\n",
    "df = pd.read_csv('churn-bigml-80.csv')\n",
    "test_df = pd.read_csv('churn-bigml-20.csv')\n",
    "df['International plan'] = df['International plan'].map({'No':0, 'Yes':1})\n",
    "df['Voice mail plan'] = df['Voice mail plan'].map({'No':0, 'Yes':1})\n",
    "X = df.drop(['State', 'Churn'], axis = 1)\n",
    "Y = df['Churn']\n",
    "\n",
    "test_df['International plan'] = test_df['International plan'].map({'No':0, 'Yes':1})\n",
    "test_df['Voice mail plan'] = test_df['Voice mail plan'].map({'No':0, 'Yes':1})\n",
    "X_test = test_df.drop(['State', 'Churn'], axis = 1)\n",
    "Y_test = test_df['Churn']\n"
   ]
  },
  {
   "cell_type": "code",
   "execution_count": 30,
   "id": "0fb4f169",
   "metadata": {},
   "outputs": [],
   "source": [
    "from sklearn.ensemble import GradientBoostingClassifier"
   ]
  },
  {
   "cell_type": "code",
   "execution_count": 33,
   "id": "7f784e5b",
   "metadata": {},
   "outputs": [
    {
     "data": {
      "text/plain": [
       "GradientBoostingClassifier(max_depth=1, n_estimators=200, random_state=15)"
      ]
     },
     "execution_count": 33,
     "metadata": {},
     "output_type": "execute_result"
    }
   ],
   "source": [
    "gbc = GradientBoostingClassifier(n_estimators = 200,\n",
    "                                max_depth = 1,\n",
    "                                random_state = 15)\n",
    "gbc.fit(X,Y)"
   ]
  },
  {
   "cell_type": "code",
   "execution_count": 34,
   "id": "e80ff9a7",
   "metadata": {},
   "outputs": [
    {
     "data": {
      "text/plain": [
       "0.8860569715142429"
      ]
     },
     "execution_count": 34,
     "metadata": {},
     "output_type": "execute_result"
    }
   ],
   "source": [
    "pred = gbc.predict(X_test)\n",
    "accuracy_score(Y_test, pred)"
   ]
  },
  {
   "cell_type": "code",
   "execution_count": 35,
   "id": "62817013",
   "metadata": {},
   "outputs": [
    {
     "data": {
      "text/plain": [
       "array([0.33027523, 0.46956522, 0.29906542, 0.48275862, 0.45762712])"
      ]
     },
     "execution_count": 35,
     "metadata": {},
     "output_type": "execute_result"
    }
   ],
   "source": [
    "cross_val_score (gbc, X,Y, cv = 5, scoring = 'f1' )"
   ]
  },
  {
   "cell_type": "code",
   "execution_count": 38,
   "id": "8d3357b7",
   "metadata": {},
   "outputs": [
    {
     "name": "stdout",
     "output_type": "stream",
     "text": [
      "Collecting xgboost\n",
      "  Downloading xgboost-1.6.1-py3-none-win_amd64.whl (125.4 MB)\n",
      "Requirement already satisfied: numpy in c:\\users\\laptop\\anaconda3\\lib\\site-packages (from xgboost) (1.20.3)\n",
      "Requirement already satisfied: scipy in c:\\users\\laptop\\anaconda3\\lib\\site-packages (from xgboost) (1.7.1)\n",
      "Installing collected packages: xgboost\n",
      "Successfully installed xgboost-1.6.1\n"
     ]
    }
   ],
   "source": [
    "!pip install xgboost"
   ]
  },
  {
   "cell_type": "code",
   "execution_count": 39,
   "id": "af711fcb",
   "metadata": {},
   "outputs": [],
   "source": [
    "import xgboost as gb"
   ]
  },
  {
   "cell_type": "markdown",
   "id": "193223f5",
   "metadata": {},
   "source": [
    "## Практика \n",
    "### пишем вместе либо стекинг, либо тюним gbc "
   ]
  },
  {
   "cell_type": "markdown",
   "id": "8f5ae9d9",
   "metadata": {},
   "source": [
    "1. DS California - (наш датасет,так как много данных там). regression.\n",
    "2. Список используемых моделей:\n",
    "    а)KNN\n",
    "    b)SGDRegressor\n",
    "    c)DecisionTreeRegressor\n",
    "    d)GBR\n",
    "3. LinearRegression :Промежуточный датасет,обученные модели будем через него прогонять.\n",
    "4.Придумать структуру,название полей для промежуточного датасета.(пункта 3)\n",
    "    "
   ]
  },
  {
   "cell_type": "markdown",
   "id": "92eafade",
   "metadata": {},
   "source": [
    "## 1. Починить пробелы (null)\n",
    "## 2.Делим данные на 3 части, \n",
    "## где 20% это проверка финальная\n",
    "## 80% оставшихся делим 50 на 50.(объявить каку-то тестовую,каку-то обученную)\n",
    "## 3. Обучить классификатор.\n",
    "## 4.Сформировать промежуточный датасет\n",
    "## 5.Обучить верхний классификатор\n",
    "\n"
   ]
  },
  {
   "cell_type": "markdown",
   "id": "95ba92ac",
   "metadata": {},
   "source": [
    "Напоминаю, мы пошагово реализовываем стекинг.\n",
    "Идея стекинга в том, чтобы обучить топовый классификатор на прогнозах классификаторов первого уровня.\n",
    "Мы с вами выбрали 4 классификатора первого уровня и последний топовый svr.\n",
    "Мы с вами выбрали набор данных housing.\n",
    "\n",
    "Данные мы предобработали (убрали пропуски, стандартизировали), разделили на 3 части, обучили базовые модели, создали датасет для обучения регрессора верхнего уровня и обучили этот регрессор.\n",
    "\n",
    "Нам осталось только написать функцию прогнозирования, которая будет сперва прогнозировать моделями первого уровня и на основании этих прогнозов получать окончательный прогноз моделью верхнего уровня (топовой моделью). \n",
    "\n",
    "И выполнить оценку точности! ))\n"
   ]
  },
  {
   "cell_type": "code",
   "execution_count": 186,
   "id": "1240348d",
   "metadata": {},
   "outputs": [],
   "source": [
    "from sklearn.tree import DecisionTreeRegressor\n",
    "from sklearn.neighbors import KNeighborsRegressor\n",
    "from sklearn.ensemble import GradientBoostingRegressor\n",
    "from sklearn.linear_model import SGDRegressor,LinearRegression"
   ]
  },
  {
   "cell_type": "code",
   "execution_count": 187,
   "id": "5ba3146a",
   "metadata": {},
   "outputs": [],
   "source": [
    "# CW18\n",
    "df = pd.read_csv('housing.csv')"
   ]
  },
  {
   "cell_type": "code",
   "execution_count": 188,
   "id": "6e8d3f2c",
   "metadata": {},
   "outputs": [],
   "source": [
    "medianit = df['total_bedrooms'].median()\n",
    "df['total_bedrooms'].fillna(medianit, inplace = True)"
   ]
  },
  {
   "cell_type": "code",
   "execution_count": 189,
   "id": "cd34c036",
   "metadata": {},
   "outputs": [
    {
     "name": "stdout",
     "output_type": "stream",
     "text": [
      "<class 'pandas.core.frame.DataFrame'>\n",
      "RangeIndex: 20640 entries, 0 to 20639\n",
      "Data columns (total 10 columns):\n",
      " #   Column              Non-Null Count  Dtype  \n",
      "---  ------              --------------  -----  \n",
      " 0   longitude           20640 non-null  float64\n",
      " 1   latitude            20640 non-null  float64\n",
      " 2   housing_median_age  20640 non-null  float64\n",
      " 3   total_rooms         20640 non-null  float64\n",
      " 4   total_bedrooms      20640 non-null  float64\n",
      " 5   population          20640 non-null  float64\n",
      " 6   households          20640 non-null  float64\n",
      " 7   median_income       20640 non-null  float64\n",
      " 8   median_house_value  20640 non-null  float64\n",
      " 9   ocean_proximity     20640 non-null  object \n",
      "dtypes: float64(9), object(1)\n",
      "memory usage: 1.6+ MB\n"
     ]
    }
   ],
   "source": [
    "df.info()"
   ]
  },
  {
   "cell_type": "code",
   "execution_count": 190,
   "id": "1ab24368",
   "metadata": {},
   "outputs": [],
   "source": [
    "df = pd.get_dummies(df)"
   ]
  },
  {
   "cell_type": "code",
   "execution_count": 191,
   "id": "1ea981b6",
   "metadata": {},
   "outputs": [
    {
     "data": {
      "text/html": [
       "<div>\n",
       "<style scoped>\n",
       "    .dataframe tbody tr th:only-of-type {\n",
       "        vertical-align: middle;\n",
       "    }\n",
       "\n",
       "    .dataframe tbody tr th {\n",
       "        vertical-align: top;\n",
       "    }\n",
       "\n",
       "    .dataframe thead th {\n",
       "        text-align: right;\n",
       "    }\n",
       "</style>\n",
       "<table border=\"1\" class=\"dataframe\">\n",
       "  <thead>\n",
       "    <tr style=\"text-align: right;\">\n",
       "      <th></th>\n",
       "      <th>longitude</th>\n",
       "      <th>latitude</th>\n",
       "      <th>housing_median_age</th>\n",
       "      <th>total_rooms</th>\n",
       "      <th>total_bedrooms</th>\n",
       "      <th>population</th>\n",
       "      <th>households</th>\n",
       "      <th>median_income</th>\n",
       "      <th>median_house_value</th>\n",
       "      <th>ocean_proximity_&lt;1H OCEAN</th>\n",
       "      <th>ocean_proximity_INLAND</th>\n",
       "      <th>ocean_proximity_ISLAND</th>\n",
       "      <th>ocean_proximity_NEAR BAY</th>\n",
       "      <th>ocean_proximity_NEAR OCEAN</th>\n",
       "    </tr>\n",
       "  </thead>\n",
       "  <tbody>\n",
       "    <tr>\n",
       "      <th>0</th>\n",
       "      <td>-122.23</td>\n",
       "      <td>37.88</td>\n",
       "      <td>41.0</td>\n",
       "      <td>880.0</td>\n",
       "      <td>129.0</td>\n",
       "      <td>322.0</td>\n",
       "      <td>126.0</td>\n",
       "      <td>8.3252</td>\n",
       "      <td>452600.0</td>\n",
       "      <td>0</td>\n",
       "      <td>0</td>\n",
       "      <td>0</td>\n",
       "      <td>1</td>\n",
       "      <td>0</td>\n",
       "    </tr>\n",
       "    <tr>\n",
       "      <th>1</th>\n",
       "      <td>-122.22</td>\n",
       "      <td>37.86</td>\n",
       "      <td>21.0</td>\n",
       "      <td>7099.0</td>\n",
       "      <td>1106.0</td>\n",
       "      <td>2401.0</td>\n",
       "      <td>1138.0</td>\n",
       "      <td>8.3014</td>\n",
       "      <td>358500.0</td>\n",
       "      <td>0</td>\n",
       "      <td>0</td>\n",
       "      <td>0</td>\n",
       "      <td>1</td>\n",
       "      <td>0</td>\n",
       "    </tr>\n",
       "    <tr>\n",
       "      <th>2</th>\n",
       "      <td>-122.24</td>\n",
       "      <td>37.85</td>\n",
       "      <td>52.0</td>\n",
       "      <td>1467.0</td>\n",
       "      <td>190.0</td>\n",
       "      <td>496.0</td>\n",
       "      <td>177.0</td>\n",
       "      <td>7.2574</td>\n",
       "      <td>352100.0</td>\n",
       "      <td>0</td>\n",
       "      <td>0</td>\n",
       "      <td>0</td>\n",
       "      <td>1</td>\n",
       "      <td>0</td>\n",
       "    </tr>\n",
       "    <tr>\n",
       "      <th>3</th>\n",
       "      <td>-122.25</td>\n",
       "      <td>37.85</td>\n",
       "      <td>52.0</td>\n",
       "      <td>1274.0</td>\n",
       "      <td>235.0</td>\n",
       "      <td>558.0</td>\n",
       "      <td>219.0</td>\n",
       "      <td>5.6431</td>\n",
       "      <td>341300.0</td>\n",
       "      <td>0</td>\n",
       "      <td>0</td>\n",
       "      <td>0</td>\n",
       "      <td>1</td>\n",
       "      <td>0</td>\n",
       "    </tr>\n",
       "    <tr>\n",
       "      <th>4</th>\n",
       "      <td>-122.25</td>\n",
       "      <td>37.85</td>\n",
       "      <td>52.0</td>\n",
       "      <td>1627.0</td>\n",
       "      <td>280.0</td>\n",
       "      <td>565.0</td>\n",
       "      <td>259.0</td>\n",
       "      <td>3.8462</td>\n",
       "      <td>342200.0</td>\n",
       "      <td>0</td>\n",
       "      <td>0</td>\n",
       "      <td>0</td>\n",
       "      <td>1</td>\n",
       "      <td>0</td>\n",
       "    </tr>\n",
       "    <tr>\n",
       "      <th>...</th>\n",
       "      <td>...</td>\n",
       "      <td>...</td>\n",
       "      <td>...</td>\n",
       "      <td>...</td>\n",
       "      <td>...</td>\n",
       "      <td>...</td>\n",
       "      <td>...</td>\n",
       "      <td>...</td>\n",
       "      <td>...</td>\n",
       "      <td>...</td>\n",
       "      <td>...</td>\n",
       "      <td>...</td>\n",
       "      <td>...</td>\n",
       "      <td>...</td>\n",
       "    </tr>\n",
       "    <tr>\n",
       "      <th>20635</th>\n",
       "      <td>-121.09</td>\n",
       "      <td>39.48</td>\n",
       "      <td>25.0</td>\n",
       "      <td>1665.0</td>\n",
       "      <td>374.0</td>\n",
       "      <td>845.0</td>\n",
       "      <td>330.0</td>\n",
       "      <td>1.5603</td>\n",
       "      <td>78100.0</td>\n",
       "      <td>0</td>\n",
       "      <td>1</td>\n",
       "      <td>0</td>\n",
       "      <td>0</td>\n",
       "      <td>0</td>\n",
       "    </tr>\n",
       "    <tr>\n",
       "      <th>20636</th>\n",
       "      <td>-121.21</td>\n",
       "      <td>39.49</td>\n",
       "      <td>18.0</td>\n",
       "      <td>697.0</td>\n",
       "      <td>150.0</td>\n",
       "      <td>356.0</td>\n",
       "      <td>114.0</td>\n",
       "      <td>2.5568</td>\n",
       "      <td>77100.0</td>\n",
       "      <td>0</td>\n",
       "      <td>1</td>\n",
       "      <td>0</td>\n",
       "      <td>0</td>\n",
       "      <td>0</td>\n",
       "    </tr>\n",
       "    <tr>\n",
       "      <th>20637</th>\n",
       "      <td>-121.22</td>\n",
       "      <td>39.43</td>\n",
       "      <td>17.0</td>\n",
       "      <td>2254.0</td>\n",
       "      <td>485.0</td>\n",
       "      <td>1007.0</td>\n",
       "      <td>433.0</td>\n",
       "      <td>1.7000</td>\n",
       "      <td>92300.0</td>\n",
       "      <td>0</td>\n",
       "      <td>1</td>\n",
       "      <td>0</td>\n",
       "      <td>0</td>\n",
       "      <td>0</td>\n",
       "    </tr>\n",
       "    <tr>\n",
       "      <th>20638</th>\n",
       "      <td>-121.32</td>\n",
       "      <td>39.43</td>\n",
       "      <td>18.0</td>\n",
       "      <td>1860.0</td>\n",
       "      <td>409.0</td>\n",
       "      <td>741.0</td>\n",
       "      <td>349.0</td>\n",
       "      <td>1.8672</td>\n",
       "      <td>84700.0</td>\n",
       "      <td>0</td>\n",
       "      <td>1</td>\n",
       "      <td>0</td>\n",
       "      <td>0</td>\n",
       "      <td>0</td>\n",
       "    </tr>\n",
       "    <tr>\n",
       "      <th>20639</th>\n",
       "      <td>-121.24</td>\n",
       "      <td>39.37</td>\n",
       "      <td>16.0</td>\n",
       "      <td>2785.0</td>\n",
       "      <td>616.0</td>\n",
       "      <td>1387.0</td>\n",
       "      <td>530.0</td>\n",
       "      <td>2.3886</td>\n",
       "      <td>89400.0</td>\n",
       "      <td>0</td>\n",
       "      <td>1</td>\n",
       "      <td>0</td>\n",
       "      <td>0</td>\n",
       "      <td>0</td>\n",
       "    </tr>\n",
       "  </tbody>\n",
       "</table>\n",
       "<p>20640 rows × 14 columns</p>\n",
       "</div>"
      ],
      "text/plain": [
       "       longitude  latitude  housing_median_age  total_rooms  total_bedrooms  \\\n",
       "0        -122.23     37.88                41.0        880.0           129.0   \n",
       "1        -122.22     37.86                21.0       7099.0          1106.0   \n",
       "2        -122.24     37.85                52.0       1467.0           190.0   \n",
       "3        -122.25     37.85                52.0       1274.0           235.0   \n",
       "4        -122.25     37.85                52.0       1627.0           280.0   \n",
       "...          ...       ...                 ...          ...             ...   \n",
       "20635    -121.09     39.48                25.0       1665.0           374.0   \n",
       "20636    -121.21     39.49                18.0        697.0           150.0   \n",
       "20637    -121.22     39.43                17.0       2254.0           485.0   \n",
       "20638    -121.32     39.43                18.0       1860.0           409.0   \n",
       "20639    -121.24     39.37                16.0       2785.0           616.0   \n",
       "\n",
       "       population  households  median_income  median_house_value  \\\n",
       "0           322.0       126.0         8.3252            452600.0   \n",
       "1          2401.0      1138.0         8.3014            358500.0   \n",
       "2           496.0       177.0         7.2574            352100.0   \n",
       "3           558.0       219.0         5.6431            341300.0   \n",
       "4           565.0       259.0         3.8462            342200.0   \n",
       "...           ...         ...            ...                 ...   \n",
       "20635       845.0       330.0         1.5603             78100.0   \n",
       "20636       356.0       114.0         2.5568             77100.0   \n",
       "20637      1007.0       433.0         1.7000             92300.0   \n",
       "20638       741.0       349.0         1.8672             84700.0   \n",
       "20639      1387.0       530.0         2.3886             89400.0   \n",
       "\n",
       "       ocean_proximity_<1H OCEAN  ocean_proximity_INLAND  \\\n",
       "0                              0                       0   \n",
       "1                              0                       0   \n",
       "2                              0                       0   \n",
       "3                              0                       0   \n",
       "4                              0                       0   \n",
       "...                          ...                     ...   \n",
       "20635                          0                       1   \n",
       "20636                          0                       1   \n",
       "20637                          0                       1   \n",
       "20638                          0                       1   \n",
       "20639                          0                       1   \n",
       "\n",
       "       ocean_proximity_ISLAND  ocean_proximity_NEAR BAY  \\\n",
       "0                           0                         1   \n",
       "1                           0                         1   \n",
       "2                           0                         1   \n",
       "3                           0                         1   \n",
       "4                           0                         1   \n",
       "...                       ...                       ...   \n",
       "20635                       0                         0   \n",
       "20636                       0                         0   \n",
       "20637                       0                         0   \n",
       "20638                       0                         0   \n",
       "20639                       0                         0   \n",
       "\n",
       "       ocean_proximity_NEAR OCEAN  \n",
       "0                               0  \n",
       "1                               0  \n",
       "2                               0  \n",
       "3                               0  \n",
       "4                               0  \n",
       "...                           ...  \n",
       "20635                           0  \n",
       "20636                           0  \n",
       "20637                           0  \n",
       "20638                           0  \n",
       "20639                           0  \n",
       "\n",
       "[20640 rows x 14 columns]"
      ]
     },
     "execution_count": 191,
     "metadata": {},
     "output_type": "execute_result"
    }
   ],
   "source": [
    "df"
   ]
  },
  {
   "cell_type": "code",
   "execution_count": 192,
   "id": "d26a5f3d",
   "metadata": {},
   "outputs": [],
   "source": [
    "from sklearn.preprocessing import StandardScaler"
   ]
  },
  {
   "cell_type": "code",
   "execution_count": 193,
   "id": "55b29030",
   "metadata": {},
   "outputs": [],
   "source": [
    "sc = StandardScaler()\n",
    "X = sc.fit_transform(X)"
   ]
  },
  {
   "cell_type": "code",
   "execution_count": 194,
   "id": "c252edfe",
   "metadata": {},
   "outputs": [],
   "source": [
    "X = df.drop(['median_house_value'],axis = 1)\n",
    "Y = df['median_house_value']"
   ]
  },
  {
   "cell_type": "code",
   "execution_count": 195,
   "id": "7ee3bab4",
   "metadata": {},
   "outputs": [],
   "source": [
    "X_train, X_test, Y_train,  Y_test = train_test_split(X, Y, test_size = 0.2, random_state = 5)"
   ]
  },
  {
   "cell_type": "code",
   "execution_count": 196,
   "id": "80cf8d4b",
   "metadata": {},
   "outputs": [],
   "source": [
    "# и теперь снова наш X_train(80%) делим пополам 50 на 50 , test_size = 0.5\n",
    "# на t1 обучаем базовые классификаторы, а на t2  обучаем тестовые классификаторы\n",
    "X_t1, X_t2, Y_t1,  Y_t2 = train_test_split(X_train, Y_train, test_size = 0.5, random_state = 5)"
   ]
  },
  {
   "cell_type": "code",
   "execution_count": null,
   "id": "ff12c202",
   "metadata": {},
   "outputs": [],
   "source": []
  },
  {
   "cell_type": "code",
   "execution_count": null,
   "id": "bf53a54a",
   "metadata": {},
   "outputs": [],
   "source": []
  },
  {
   "cell_type": "code",
   "execution_count": 197,
   "id": "330c721d",
   "metadata": {},
   "outputs": [],
   "source": [
    "mid_data= pd.DataFrame(columns=['KNN','L','DTR','GBR'])"
   ]
  },
  {
   "cell_type": "code",
   "execution_count": 198,
   "id": "eaa9ebab",
   "metadata": {},
   "outputs": [
    {
     "data": {
      "text/html": [
       "<div>\n",
       "<style scoped>\n",
       "    .dataframe tbody tr th:only-of-type {\n",
       "        vertical-align: middle;\n",
       "    }\n",
       "\n",
       "    .dataframe tbody tr th {\n",
       "        vertical-align: top;\n",
       "    }\n",
       "\n",
       "    .dataframe thead th {\n",
       "        text-align: right;\n",
       "    }\n",
       "</style>\n",
       "<table border=\"1\" class=\"dataframe\">\n",
       "  <thead>\n",
       "    <tr style=\"text-align: right;\">\n",
       "      <th></th>\n",
       "      <th>KNN</th>\n",
       "      <th>L</th>\n",
       "      <th>DTR</th>\n",
       "      <th>GBR</th>\n",
       "    </tr>\n",
       "  </thead>\n",
       "  <tbody>\n",
       "  </tbody>\n",
       "</table>\n",
       "</div>"
      ],
      "text/plain": [
       "Empty DataFrame\n",
       "Columns: [KNN, L, DTR, GBR]\n",
       "Index: []"
      ]
     },
     "execution_count": 198,
     "metadata": {},
     "output_type": "execute_result"
    }
   ],
   "source": [
    "mid_data"
   ]
  },
  {
   "cell_type": "code",
   "execution_count": 199,
   "id": "f64b42c0",
   "metadata": {},
   "outputs": [
    {
     "data": {
      "text/plain": [
       "LinearRegression()"
      ]
     },
     "execution_count": 199,
     "metadata": {},
     "output_type": "execute_result"
    }
   ],
   "source": [
    "# Time for traing\n",
    "\n",
    "L_reg=LinearRegression()\n",
    "L_reg.fit(X_t1,Y_t1)"
   ]
  },
  {
   "cell_type": "code",
   "execution_count": 200,
   "id": "d080bb68",
   "metadata": {},
   "outputs": [
    {
     "data": {
      "text/plain": [
       "KNeighborsRegressor()"
      ]
     },
     "execution_count": 200,
     "metadata": {},
     "output_type": "execute_result"
    }
   ],
   "source": [
    "knn_reg = KNeighborsRegressor()\n",
    "knn_reg.fit(X_t1, Y_t1)"
   ]
  },
  {
   "cell_type": "code",
   "execution_count": 201,
   "id": "85fd8ec6",
   "metadata": {},
   "outputs": [
    {
     "data": {
      "text/plain": [
       "GradientBoostingRegressor()"
      ]
     },
     "execution_count": 201,
     "metadata": {},
     "output_type": "execute_result"
    }
   ],
   "source": [
    "grad_reg = GradientBoostingRegressor()\n",
    "grad_reg.fit(X_t1,Y_t1)"
   ]
  },
  {
   "cell_type": "code",
   "execution_count": 202,
   "id": "5adccd37",
   "metadata": {},
   "outputs": [
    {
     "data": {
      "text/plain": [
       "DecisionTreeRegressor()"
      ]
     },
     "execution_count": 202,
     "metadata": {},
     "output_type": "execute_result"
    }
   ],
   "source": [
    "DTR_reg = DecisionTreeRegressor() \n",
    "DTR_reg.fit(X_t1, Y_t1)"
   ]
  },
  {
   "cell_type": "code",
   "execution_count": 203,
   "id": "2afc3fed",
   "metadata": {},
   "outputs": [],
   "source": [
    "mid_data['L'] = L_reg.predict(X_t2)\n",
    "mid_data['KNN'] = knn_reg.predict(X_t2)\n",
    "mid_data['DTR'] = DTR_reg.predict(X_t2)\n",
    "mid_data['GBR'] = grad_reg.predict(X_t2)"
   ]
  },
  {
   "cell_type": "code",
   "execution_count": 204,
   "id": "cdb7a005",
   "metadata": {},
   "outputs": [
    {
     "data": {
      "text/html": [
       "<div>\n",
       "<style scoped>\n",
       "    .dataframe tbody tr th:only-of-type {\n",
       "        vertical-align: middle;\n",
       "    }\n",
       "\n",
       "    .dataframe tbody tr th {\n",
       "        vertical-align: top;\n",
       "    }\n",
       "\n",
       "    .dataframe thead th {\n",
       "        text-align: right;\n",
       "    }\n",
       "</style>\n",
       "<table border=\"1\" class=\"dataframe\">\n",
       "  <thead>\n",
       "    <tr style=\"text-align: right;\">\n",
       "      <th></th>\n",
       "      <th>KNN</th>\n",
       "      <th>L</th>\n",
       "      <th>DTR</th>\n",
       "      <th>GBR</th>\n",
       "    </tr>\n",
       "  </thead>\n",
       "  <tbody>\n",
       "    <tr>\n",
       "      <th>0</th>\n",
       "      <td>129220.0</td>\n",
       "      <td>104056.991021</td>\n",
       "      <td>140700.0</td>\n",
       "      <td>113659.220133</td>\n",
       "    </tr>\n",
       "    <tr>\n",
       "      <th>1</th>\n",
       "      <td>500001.0</td>\n",
       "      <td>664681.651535</td>\n",
       "      <td>500001.0</td>\n",
       "      <td>514378.161605</td>\n",
       "    </tr>\n",
       "    <tr>\n",
       "      <th>2</th>\n",
       "      <td>159360.0</td>\n",
       "      <td>231011.927003</td>\n",
       "      <td>191100.0</td>\n",
       "      <td>217120.154332</td>\n",
       "    </tr>\n",
       "    <tr>\n",
       "      <th>3</th>\n",
       "      <td>269080.2</td>\n",
       "      <td>112917.494491</td>\n",
       "      <td>200000.0</td>\n",
       "      <td>115849.764956</td>\n",
       "    </tr>\n",
       "    <tr>\n",
       "      <th>4</th>\n",
       "      <td>191420.0</td>\n",
       "      <td>129347.943121</td>\n",
       "      <td>87900.0</td>\n",
       "      <td>113436.910655</td>\n",
       "    </tr>\n",
       "    <tr>\n",
       "      <th>...</th>\n",
       "      <td>...</td>\n",
       "      <td>...</td>\n",
       "      <td>...</td>\n",
       "      <td>...</td>\n",
       "    </tr>\n",
       "    <tr>\n",
       "      <th>8251</th>\n",
       "      <td>187820.0</td>\n",
       "      <td>149168.057204</td>\n",
       "      <td>157900.0</td>\n",
       "      <td>171107.922227</td>\n",
       "    </tr>\n",
       "    <tr>\n",
       "      <th>8252</th>\n",
       "      <td>365980.2</td>\n",
       "      <td>394875.558462</td>\n",
       "      <td>500001.0</td>\n",
       "      <td>461452.762584</td>\n",
       "    </tr>\n",
       "    <tr>\n",
       "      <th>8253</th>\n",
       "      <td>102040.0</td>\n",
       "      <td>176242.482562</td>\n",
       "      <td>118600.0</td>\n",
       "      <td>191472.632094</td>\n",
       "    </tr>\n",
       "    <tr>\n",
       "      <th>8254</th>\n",
       "      <td>279100.2</td>\n",
       "      <td>206578.009721</td>\n",
       "      <td>230800.0</td>\n",
       "      <td>212538.085326</td>\n",
       "    </tr>\n",
       "    <tr>\n",
       "      <th>8255</th>\n",
       "      <td>325280.2</td>\n",
       "      <td>135138.510153</td>\n",
       "      <td>60400.0</td>\n",
       "      <td>149907.582429</td>\n",
       "    </tr>\n",
       "  </tbody>\n",
       "</table>\n",
       "<p>8256 rows × 4 columns</p>\n",
       "</div>"
      ],
      "text/plain": [
       "           KNN              L       DTR            GBR\n",
       "0     129220.0  104056.991021  140700.0  113659.220133\n",
       "1     500001.0  664681.651535  500001.0  514378.161605\n",
       "2     159360.0  231011.927003  191100.0  217120.154332\n",
       "3     269080.2  112917.494491  200000.0  115849.764956\n",
       "4     191420.0  129347.943121   87900.0  113436.910655\n",
       "...        ...            ...       ...            ...\n",
       "8251  187820.0  149168.057204  157900.0  171107.922227\n",
       "8252  365980.2  394875.558462  500001.0  461452.762584\n",
       "8253  102040.0  176242.482562  118600.0  191472.632094\n",
       "8254  279100.2  206578.009721  230800.0  212538.085326\n",
       "8255  325280.2  135138.510153   60400.0  149907.582429\n",
       "\n",
       "[8256 rows x 4 columns]"
      ]
     },
     "execution_count": 204,
     "metadata": {},
     "output_type": "execute_result"
    }
   ],
   "source": [
    "mid_data"
   ]
  },
  {
   "cell_type": "code",
   "execution_count": 205,
   "id": "7b64cd9f",
   "metadata": {},
   "outputs": [],
   "source": [
    "from sklearn.svm import SVR\n",
    "from sklearn.pipeline import make_pipeline\n",
    "from sklearn.preprocessing import StandardScaler"
   ]
  },
  {
   "cell_type": "code",
   "execution_count": 206,
   "id": "ea298d44",
   "metadata": {},
   "outputs": [
    {
     "data": {
      "text/plain": [
       "Pipeline(steps=[('standardscaler', StandardScaler()), ('svr', SVR())])"
      ]
     },
     "execution_count": 206,
     "metadata": {},
     "output_type": "execute_result"
    }
   ],
   "source": [
    "#  в обучении регрессора верхнего уровня обязательно сделаем масштабирование( выше мы сделали только для нижнего уровня регрессора)\n",
    "pipe_svr = make_pipeline(StandardScaler(), SVR())\n",
    "pipe_svr.fit(mid_data, Y_t2)"
   ]
  },
  {
   "cell_type": "code",
   "execution_count": null,
   "id": "4acc9475",
   "metadata": {},
   "outputs": [],
   "source": []
  },
  {
   "cell_type": "code",
   "execution_count": 207,
   "id": "a8e5c1c8",
   "metadata": {},
   "outputs": [],
   "source": [
    "mid_data_2= pd.DataFrame(columns=['KNN','L','DTR','GBR'])\n",
    "mid_data_2['L'] = L_reg.predict(X_t1)\n",
    "mid_data_2['KNN'] = knn_reg.predict(X_t1)\n",
    "mid_data_2['DTR'] = DTR_reg.predict(X_t1)\n",
    "mid_data_2['GBR'] = grad_reg.predict(X_t1)"
   ]
  },
  {
   "cell_type": "code",
   "execution_count": null,
   "id": "c6834f9a",
   "metadata": {},
   "outputs": [],
   "source": []
  },
  {
   "cell_type": "code",
   "execution_count": 213,
   "id": "7b6d2b83",
   "metadata": {},
   "outputs": [
    {
     "data": {
      "text/plain": [
       "SVR()"
      ]
     },
     "execution_count": 213,
     "metadata": {},
     "output_type": "execute_result"
    }
   ],
   "source": [
    "# снова необходимо масштабирование!\n",
    "sc2 = StandardScaler()\n",
    "mid_data_2_=sc2.fit_transform(mid_data)\n",
    "svr = SVR()\n",
    "svr.fit(mid_data_2_,Y_t2)"
   ]
  },
  {
   "cell_type": "code",
   "execution_count": null,
   "id": "40886d09",
   "metadata": {},
   "outputs": [],
   "source": []
  },
  {
   "cell_type": "code",
   "execution_count": 214,
   "id": "866c602b",
   "metadata": {},
   "outputs": [],
   "source": [
    "def ST_pred(X,scaler):\n",
    "    mid_data_2= pd.DataFrame(columns=['KNN','L','DTR','GBR'])\n",
    "    mid_data_2['L'] = L_reg.predict(X)\n",
    "    mid_data_2['KNN'] = knn_reg.predict(X)\n",
    "    mid_data_2['DTR'] = DTR_reg.predict(X)\n",
    "    mid_data_2['GBR'] = grad_reg.predict(X)\n",
    "    \n",
    "    return svr.predict(scaler.transform(mid_data_2))\n",
    "# scaler.transform необходимо сделать для масштабирования"
   ]
  },
  {
   "cell_type": "code",
   "execution_count": 215,
   "id": "5db7a1a5",
   "metadata": {},
   "outputs": [],
   "source": [
    "pred = ST_pred(X_t1,sc2)"
   ]
  },
  {
   "cell_type": "code",
   "execution_count": null,
   "id": "7244d8f6",
   "metadata": {},
   "outputs": [],
   "source": [
    "# У НАС РЕГРЕССИЯ, ЗНАЧИТ ВЫБИРАЕМ МЕТРИКУ math.sqrt(mean_squared_error)"
   ]
  },
  {
   "cell_type": "code",
   "execution_count": 216,
   "id": "86e03c3e",
   "metadata": {},
   "outputs": [],
   "source": [
    "from sklearn.metrics import mean_squared_error"
   ]
  },
  {
   "cell_type": "code",
   "execution_count": 217,
   "id": "b9536bd8",
   "metadata": {},
   "outputs": [
    {
     "data": {
      "text/plain": [
       "117960.06244195721"
      ]
     },
     "execution_count": 217,
     "metadata": {},
     "output_type": "execute_result"
    }
   ],
   "source": [
    "math.sqrt(mean_squared_error(Y_t1,pred))"
   ]
  },
  {
   "cell_type": "code",
   "execution_count": null,
   "id": "63c0ce21",
   "metadata": {},
   "outputs": [],
   "source": []
  },
  {
   "cell_type": "code",
   "execution_count": null,
   "id": "2bf067bf",
   "metadata": {},
   "outputs": [],
   "source": []
  },
  {
   "cell_type": "code",
   "execution_count": 127,
   "id": "b68decb2",
   "metadata": {},
   "outputs": [
    {
     "name": "stdout",
     "output_type": "stream",
     "text": [
      "KNN: 500001.0\n",
      "L: 664681.6515351268\n",
      "DTR: 500001.0\n",
      "GBR: 514378.16160474974\n"
     ]
    }
   ],
   "source": [
    "#for name, values in mid_data.iteritems():\n",
    "#        print('{name}: {value}'.format(name=name, value=values[1]))"
   ]
  },
  {
   "cell_type": "markdown",
   "id": "7427e69a",
   "metadata": {},
   "source": [
    "# Вариант номер 2 через класс StackingRegressor"
   ]
  },
  {
   "cell_type": "code",
   "execution_count": 218,
   "id": "5e961919",
   "metadata": {},
   "outputs": [],
   "source": [
    "from sklearn.ensemble import StackingRegressor\n",
    "\n",
    "estimators = [('tr', DecisionTreeRegressor()),('knn',KNeighborsRegressor()),('gdb', GradientBoostingRegressor()),('l', LinearRegression()) ]\n"
   ]
  },
  {
   "cell_type": "code",
   "execution_count": 219,
   "id": "99ed23b2",
   "metadata": {},
   "outputs": [],
   "source": [
    "stakreg = StackingRegressor(estimators=estimators, final_estimator=make_pipeline(StandardScaler(),SVR()))\n"
   ]
  },
  {
   "cell_type": "code",
   "execution_count": 221,
   "id": "c17a02ae",
   "metadata": {},
   "outputs": [],
   "source": [
    "fitstakreg = stakreg.fit(X_train,Y_train)\n"
   ]
  },
  {
   "cell_type": "code",
   "execution_count": 222,
   "id": "ce8eebf6",
   "metadata": {},
   "outputs": [],
   "source": [
    "y_fitstakreg= stakreg.predict(X_test)"
   ]
  },
  {
   "cell_type": "code",
   "execution_count": 223,
   "id": "d267e6fe",
   "metadata": {},
   "outputs": [
    {
     "data": {
      "text/plain": [
       "14219833596.705233"
      ]
     },
     "execution_count": 223,
     "metadata": {},
     "output_type": "execute_result"
    }
   ],
   "source": [
    "mean_squared_error(Y_test,y_fitstakreg)"
   ]
  },
  {
   "cell_type": "code",
   "execution_count": null,
   "id": "dd01d3fb",
   "metadata": {},
   "outputs": [],
   "source": []
  },
  {
   "cell_type": "code",
   "execution_count": null,
   "id": "34901567",
   "metadata": {},
   "outputs": [],
   "source": []
  },
  {
   "cell_type": "code",
   "execution_count": null,
   "id": "f1a752f0",
   "metadata": {},
   "outputs": [],
   "source": []
  },
  {
   "cell_type": "markdown",
   "id": "a4bbab23",
   "metadata": {},
   "source": [
    "Доброго дня.\n",
    "\n",
    "Вопросы для обдумывания.\n",
    "Если вы обучили пять разных моделей на одних и тех же обучающих данных, и все модели дают точность 95%, можно ли как то скомбинировать модели модели чтобы в итоге повысить точность? Если да то как? Если нет то почему?\n",
    "В чем разница между классификаторами с мягким и жестким голосованием.\n",
    "Можно ли ускорить обучение ансамблевой модели с беггингом распределив обучение на множество серверов? Тот же вопрос про случайные леса. Тот же вопрос про бустинги.\n",
    "Как можно использовать оценку на неиспользуемых образцах при использовании бутстрэпа?\n",
    "Если Ваш ансамбль ada-boost недообучился на обучающих данных, какие гипер параметры вы должны подстраивать и каким образом?\n",
    "\n",
    "Присылайте ответы.\n",
    "\n",
    "\n",
    "\n",
    "Для желающий допилить работу в группе.\n",
    "\n",
    "Напоминаю, мы пошагово реализовываем стекинг.\n",
    "Идея стекинга в том, чтобы обучить топовый классификатор на прогнозах классификаторов первого уровня.\n",
    "Мы с вами выбрали 4 классификатора первого уровня и последний топовый svr.\n",
    "Мы с вами выбрали набор данных housing.\n",
    "\n",
    "Данные мы предобработали (убрали пропуски, стандартизировали), разделили на 3 части, обучили базовые модели, создали датасет для обучения регрессора верхнего уровня и обучили этот регрессор.\n",
    "\n",
    "Нам осталось только написать функцию прогнозирования, которая будет сперва прогнозировать моделями первого уровня и на основании этих прогнозов получать окончательный прогноз моделью верхнего уровня (топовой моделью). \n",
    "\n",
    "И выполнить оценку точности! ))\n",
    "\n",
    "P.S. в обучении регрессора верхнего уровня мы кое что забыли - что мы забыли?\n",
    "P.P.S. то что мы забыли должно входить в функцию прогнозирования. )))\n"
   ]
  },
  {
   "cell_type": "code",
   "execution_count": null,
   "id": "a5f96756",
   "metadata": {},
   "outputs": [],
   "source": []
  }
 ],
 "metadata": {
  "kernelspec": {
   "display_name": "Python 3 (ipykernel)",
   "language": "python",
   "name": "python3"
  },
  "language_info": {
   "codemirror_mode": {
    "name": "ipython",
    "version": 3
   },
   "file_extension": ".py",
   "mimetype": "text/x-python",
   "name": "python",
   "nbconvert_exporter": "python",
   "pygments_lexer": "ipython3",
   "version": "3.9.7"
  }
 },
 "nbformat": 4,
 "nbformat_minor": 5
}
