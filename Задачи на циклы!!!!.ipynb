{
 "cells": [
  {
   "cell_type": "code",
   "execution_count": 1,
   "id": "b327e7fb",
   "metadata": {},
   "outputs": [],
   "source": [
    "import numpy as np"
   ]
  },
  {
   "cell_type": "markdown",
   "id": "e93b35e9",
   "metadata": {},
   "source": [
    "# 1. Напиши функцию, которая принимает матрицу и вектор, далее прибавляет вектор к каждой строке матрицы и возвращает результат.\n",
    "Обязательно проверь размерности."
   ]
  },
  {
   "cell_type": "code",
   "execution_count": 13,
   "id": "190e649d",
   "metadata": {},
   "outputs": [],
   "source": [
    "def add_vector (x,y):\n",
    "    \n",
    "# проверяем размерность assert len(x.shape) \n",
    "    assert len(x.shape) == 2,'axis not 2'\n",
    "#если размер (количество) столбцов массива (x) не равен размеру (количеству) столбцов вектора (y),тогда 'dif shapes, try again'\n",
    "    if x.shape[1] != y.shape[1]:\n",
    "        return 'dif shapes, try again'\n",
    "    \n",
    "    x = x.copy()\n",
    "# проходимся по всем значениям строк x.shape[0] и всем значениям столбцов x.shape[1] и суммируем массив и вектор\n",
    "    for i in range(x.shape[0]):\n",
    "        for j in range(x.shape[1]):\n",
    "            return x + y"
   ]
  },
  {
   "cell_type": "code",
   "execution_count": 22,
   "id": "e6be5e90",
   "metadata": {},
   "outputs": [
    {
     "data": {
      "text/plain": [
       "array([[ 21,  42,  63],\n",
       "       [ 54,  75,  96],\n",
       "       [ 87, 108, 129],\n",
       "       [ 15,  26,  37]])"
      ]
     },
     "execution_count": 22,
     "metadata": {},
     "output_type": "execute_result"
    }
   ],
   "source": [
    "add_vector(matrix,vector)"
   ]
  },
  {
   "cell_type": "code",
   "execution_count": 20,
   "id": "34ff4947",
   "metadata": {},
   "outputs": [],
   "source": [
    "vector = np.array([[10, 20, 30]])\n",
    "matrix = np.array([[11, 22, 33],\n",
    "                   [44, 55, 66],\n",
    "                   [77, 88, 99],\n",
    "                    [5,6,7]])\n"
   ]
  },
  {
   "cell_type": "code",
   "execution_count": 3,
   "id": "61f9c337",
   "metadata": {},
   "outputs": [
    {
     "data": {
      "text/plain": [
       "3"
      ]
     },
     "execution_count": 3,
     "metadata": {},
     "output_type": "execute_result"
    }
   ],
   "source": [
    "vector.shape[1]"
   ]
  },
  {
   "cell_type": "code",
   "execution_count": 21,
   "id": "7e676591",
   "metadata": {},
   "outputs": [
    {
     "data": {
      "text/plain": [
       "3"
      ]
     },
     "execution_count": 21,
     "metadata": {},
     "output_type": "execute_result"
    }
   ],
   "source": [
    "matrix.shape[1]"
   ]
  },
  {
   "cell_type": "code",
   "execution_count": null,
   "id": "0e2e7e69",
   "metadata": {},
   "outputs": [],
   "source": []
  },
  {
   "cell_type": "code",
   "execution_count": null,
   "id": "3f55afd5",
   "metadata": {},
   "outputs": [],
   "source": []
  },
  {
   "cell_type": "markdown",
   "id": "7faf0bda",
   "metadata": {},
   "source": [
    "# 2. Напиши функцию алгебраического умножения матриц.\n",
    "# Напомню матрицы умножаются строка нa столбец."
   ]
  },
  {
   "cell_type": "markdown",
   "id": "c853763b",
   "metadata": {},
   "source": [
    "произведения A·B и B·A можно определить только в том случае, когда число столбцов A совпадает с числом строк B, а число строк A совпадает с числом столбцов B. При этом обе матрицы A·B и B·A будут квадратными, но порядки их будут разными."
   ]
  },
  {
   "cell_type": "markdown",
   "id": "28410ce4",
   "metadata": {},
   "source": [
    "# вариант 1"
   ]
  },
  {
   "cell_type": "code",
   "execution_count": 29,
   "id": "b633c2b1",
   "metadata": {},
   "outputs": [],
   "source": [
    "def matrix_multiplication(x,y):\n",
    "    \n",
    "# проверяем размерность assert len(x.shape) \n",
    "    assert len(x.shape) == 2,'axis not 2'\n",
    "#если число столбцов массива (x) не равен числу строк массива (y),тогда 'dif shapes, try again'\n",
    "    if x.shape[1] != y.shape[0]:\n",
    "        return 'still dif shapes, try again'\n",
    "#если число строк массива (x) не равен числу столбцов массива (y),тогда 'dif shapes, try again'      \n",
    "    if x.shape[0] != y.shape[1]:\n",
    "        return 'still dif shapes, try again'\n",
    "    return x @ y"
   ]
  },
  {
   "cell_type": "code",
   "execution_count": 25,
   "id": "6372b06f",
   "metadata": {},
   "outputs": [
    {
     "data": {
      "text/plain": [
       "array([[ 2585,  4092,  4785],\n",
       "       [ 6452, 11418, 13794],\n",
       "       [ 1925,  7062,  8943]])"
      ]
     },
     "execution_count": 25,
     "metadata": {},
     "output_type": "execute_result"
    }
   ],
   "source": [
    "matrix_multiplication(A,B)"
   ]
  },
  {
   "cell_type": "code",
   "execution_count": null,
   "id": "90ddb217",
   "metadata": {},
   "outputs": [],
   "source": []
  },
  {
   "cell_type": "code",
   "execution_count": 33,
   "id": "7c3a6bb6",
   "metadata": {},
   "outputs": [],
   "source": [
    "A = np.array([[11, 22, 30],\n",
    "                   [80, 70, 66],\n",
    "                   [77, 88, 6]])\n",
    "B = np.array([[11, 22, 33],\n",
    "                   [7, 55, 66],\n",
    "                   [77, 88, 99]])\n"
   ]
  },
  {
   "cell_type": "code",
   "execution_count": 18,
   "id": "49dbba36",
   "metadata": {},
   "outputs": [
    {
     "data": {
      "text/plain": [
       "(3, 3)"
      ]
     },
     "execution_count": 18,
     "metadata": {},
     "output_type": "execute_result"
    }
   ],
   "source": [
    "A.shape"
   ]
  },
  {
   "cell_type": "code",
   "execution_count": 19,
   "id": "0ce40840",
   "metadata": {},
   "outputs": [
    {
     "data": {
      "text/plain": [
       "(3, 3)"
      ]
     },
     "execution_count": 19,
     "metadata": {},
     "output_type": "execute_result"
    }
   ],
   "source": [
    "B.shape"
   ]
  },
  {
   "cell_type": "markdown",
   "id": "d4ff6d2b",
   "metadata": {},
   "source": [
    "# вариант 2"
   ]
  },
  {
   "cell_type": "code",
   "execution_count": 37,
   "id": "0e736501",
   "metadata": {},
   "outputs": [],
   "source": [
    "def matrix_multiplication_2(x,y):\n",
    "    assert len(x.shape) == 2,'axis not 2'\n",
    "#если число столбцов массива (x) не равен числу строк массива (y),тогда 'dif shapes, try again'\n",
    "    if x.shape[1] != y.shape[0]:\n",
    "        return 'still dif shapes, try again'\n",
    "#если число строк массива (x) не равен числу столбцов массива (y),тогда 'dif shapes, try again'     \n",
    "        return 'still dif shapes, try again'\n",
    "    return np.dot(x,y)"
   ]
  },
  {
   "cell_type": "code",
   "execution_count": 38,
   "id": "64d71452",
   "metadata": {},
   "outputs": [
    {
     "data": {
      "text/plain": [
       "array([[ 2585,  4092,  4785],\n",
       "       [ 6452, 11418, 13794],\n",
       "       [ 1925,  7062,  8943]])"
      ]
     },
     "execution_count": 38,
     "metadata": {},
     "output_type": "execute_result"
    }
   ],
   "source": [
    "matrix_multiplication_2(A,B)"
   ]
  },
  {
   "cell_type": "code",
   "execution_count": null,
   "id": "60c3552b",
   "metadata": {},
   "outputs": [],
   "source": []
  },
  {
   "cell_type": "markdown",
   "id": "ad037951",
   "metadata": {},
   "source": [
    "# вариант 3"
   ]
  },
  {
   "cell_type": "code",
   "execution_count": 70,
   "id": "977ef0af",
   "metadata": {},
   "outputs": [],
   "source": [
    "def matrix_multiplication_3(x,y):\n",
    "    assert len(x.shape) == 2,'axis not 2'\n",
    "#если число столбцов массива (x) не равен числу строк массива (y),тогда 'dif shapes, try again'\n",
    "    if x.shape[1] != y.shape[0]:\n",
    "        return 'still dif shapes, try again'\n",
    "#если число строк массива (x) не равен числу столбцов массива (y),тогда 'dif shapes, try again'     \n",
    "        return 'still dif shapes, try again'\n",
    "    res = [[0 for x in range(3)] for y in range(3)]\n",
    "# explicit for loops\n",
    "    for i in range(len(x)):\n",
    "        for j in range(len(y[0])):\n",
    "            for k in range(len(y)):\n",
    "                res[i][j] += x[i][k] * y[k][j]\n",
    " \n",
    "    print (res)"
   ]
  },
  {
   "cell_type": "code",
   "execution_count": 71,
   "id": "1209a383",
   "metadata": {},
   "outputs": [
    {
     "name": "stdout",
     "output_type": "stream",
     "text": [
      "[[2585, 4092, 4785], [6452, 11418, 13794], [1925, 7062, 8943]]\n"
     ]
    }
   ],
   "source": [
    "matrix_multiplication_3(x,y)"
   ]
  },
  {
   "cell_type": "code",
   "execution_count": null,
   "id": "9323734b",
   "metadata": {},
   "outputs": [],
   "source": []
  },
  {
   "cell_type": "code",
   "execution_count": 57,
   "id": "e39086ba",
   "metadata": {},
   "outputs": [],
   "source": [
    "x = np.array([[11, 22, 30],\n",
    "                   [80, 70, 66],\n",
    "                   [77, 88, 6]])"
   ]
  },
  {
   "cell_type": "code",
   "execution_count": 51,
   "id": "156b3836",
   "metadata": {},
   "outputs": [
    {
     "name": "stdout",
     "output_type": "stream",
     "text": [
      "3\n",
      "3\n",
      "3\n"
     ]
    }
   ],
   "source": [
    "for i in range(len(x)):\n",
    "    print (len(x))"
   ]
  },
  {
   "cell_type": "code",
   "execution_count": 58,
   "id": "d91c9778",
   "metadata": {},
   "outputs": [],
   "source": [
    "y = np.array([[11, 22, 33],\n",
    "                   [7, 55, 66],\n",
    "                   [77, 88, 99]])\n"
   ]
  },
  {
   "cell_type": "code",
   "execution_count": 47,
   "id": "50bb4fe9",
   "metadata": {},
   "outputs": [
    {
     "name": "stdout",
     "output_type": "stream",
     "text": [
      "[11 22 33]\n",
      "[11 22 33]\n",
      "[11 22 33]\n"
     ]
    }
   ],
   "source": [
    "for j in range(len(y[0])):\n",
    "    print (y[0])"
   ]
  },
  {
   "cell_type": "code",
   "execution_count": 50,
   "id": "f2a4b076",
   "metadata": {},
   "outputs": [
    {
     "name": "stdout",
     "output_type": "stream",
     "text": [
      "3\n"
     ]
    }
   ],
   "source": [
    " print (len(y[0]))"
   ]
  },
  {
   "cell_type": "code",
   "execution_count": 53,
   "id": "8ddc04e9",
   "metadata": {},
   "outputs": [],
   "source": [
    "res = [[0 for x in range(3)] for y in range(3)]"
   ]
  },
  {
   "cell_type": "code",
   "execution_count": 54,
   "id": "7783f866",
   "metadata": {},
   "outputs": [
    {
     "data": {
      "text/plain": [
       "[[0, 0, 0], [0, 0, 0], [0, 0, 0]]"
      ]
     },
     "execution_count": 54,
     "metadata": {},
     "output_type": "execute_result"
    }
   ],
   "source": [
    "res"
   ]
  },
  {
   "cell_type": "code",
   "execution_count": null,
   "id": "6f018a4f",
   "metadata": {},
   "outputs": [],
   "source": []
  }
 ],
 "metadata": {
  "kernelspec": {
   "display_name": "Python 3 (ipykernel)",
   "language": "python",
   "name": "python3"
  },
  "language_info": {
   "codemirror_mode": {
    "name": "ipython",
    "version": 3
   },
   "file_extension": ".py",
   "mimetype": "text/x-python",
   "name": "python",
   "nbconvert_exporter": "python",
   "pygments_lexer": "ipython3",
   "version": "3.9.7"
  }
 },
 "nbformat": 4,
 "nbformat_minor": 5
}
