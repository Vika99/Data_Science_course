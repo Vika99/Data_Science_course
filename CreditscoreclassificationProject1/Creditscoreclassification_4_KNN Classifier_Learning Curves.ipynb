{
 "cells": [
  {
   "cell_type": "code",
   "execution_count": null,
   "id": "a1bea8cb",
   "metadata": {},
   "outputs": [],
   "source": []
  },
  {
   "cell_type": "code",
   "execution_count": null,
   "id": "22fe329d",
   "metadata": {},
   "outputs": [],
   "source": []
  },
  {
   "cell_type": "code",
   "execution_count": 7,
   "id": "7a7abf99",
   "metadata": {},
   "outputs": [],
   "source": [
    "import pandas as pd\n",
    "import pipes as pp\n",
    "from matplotlib import pyplot as plt\n",
    "import seaborn as sns\n",
    "%matplotlib inline\n",
    "import numpy as np\n",
    "from sklearn.metrics import confusion_matrix, precision_score, \\\n",
    "              recall_score, f1_score, precision_recall_curve, roc_curve, roc_auc_score, \\\n",
    "              auc, mean_squared_error\n",
    "from sklearn.metrics import confusion_matrix, precision_score, \\\n",
    "              recall_score, f1_score, precision_recall_curve, roc_curve, roc_auc_score, \\\n",
    "              auc, mean_squared_error, accuracy_score"
   ]
  },
  {
   "cell_type": "markdown",
   "id": "a395908e",
   "metadata": {},
   "source": [
    "# 1.We review the information. Preparing data for processing format"
   ]
  },
  {
   "cell_type": "code",
   "execution_count": 32,
   "id": "bba9469f",
   "metadata": {},
   "outputs": [],
   "source": [
    "df = pd.read_csv('train.csv')\n",
    "\n",
    "df = df.drop(['CustomerID','ID','Name','TypeofLoan','SSN'], axis = 1)"
   ]
  },
  {
   "cell_type": "code",
   "execution_count": 33,
   "id": "f862f2d0",
   "metadata": {},
   "outputs": [],
   "source": [
    "df = pp.myPipe.transform(df)"
   ]
  },
  {
   "cell_type": "code",
   "execution_count": 34,
   "id": "b3ade464",
   "metadata": {},
   "outputs": [
    {
     "data": {
      "text/html": [
       "<div>\n",
       "<style scoped>\n",
       "    .dataframe tbody tr th:only-of-type {\n",
       "        vertical-align: middle;\n",
       "    }\n",
       "\n",
       "    .dataframe tbody tr th {\n",
       "        vertical-align: top;\n",
       "    }\n",
       "\n",
       "    .dataframe thead th {\n",
       "        text-align: right;\n",
       "    }\n",
       "</style>\n",
       "<table border=\"1\" class=\"dataframe\">\n",
       "  <thead>\n",
       "    <tr style=\"text-align: right;\">\n",
       "      <th></th>\n",
       "      <th>Month</th>\n",
       "      <th>Age</th>\n",
       "      <th>AnnualIncome</th>\n",
       "      <th>MonthlyInhandSalary</th>\n",
       "      <th>NumBankAccounts</th>\n",
       "      <th>NumCreditCard</th>\n",
       "      <th>InterestRate</th>\n",
       "      <th>NumofLoan</th>\n",
       "      <th>Delayfromduedate</th>\n",
       "      <th>NumofDelayedPayment</th>\n",
       "      <th>...</th>\n",
       "      <th>Occupation_Scientist</th>\n",
       "      <th>Occupation_Teacher</th>\n",
       "      <th>Occupation_Writer</th>\n",
       "      <th>1</th>\n",
       "      <th>2</th>\n",
       "      <th>3</th>\n",
       "      <th>4</th>\n",
       "      <th>5</th>\n",
       "      <th>6</th>\n",
       "      <th>7</th>\n",
       "    </tr>\n",
       "  </thead>\n",
       "  <tbody>\n",
       "    <tr>\n",
       "      <th>0</th>\n",
       "      <td>0.0</td>\n",
       "      <td>23.0</td>\n",
       "      <td>19114.12</td>\n",
       "      <td>1824.843333</td>\n",
       "      <td>3</td>\n",
       "      <td>4</td>\n",
       "      <td>3</td>\n",
       "      <td>4.0</td>\n",
       "      <td>3</td>\n",
       "      <td>7.0</td>\n",
       "      <td>...</td>\n",
       "      <td>1</td>\n",
       "      <td>0</td>\n",
       "      <td>0</td>\n",
       "      <td>1.0</td>\n",
       "      <td>0.0</td>\n",
       "      <td>0.0</td>\n",
       "      <td>0.0</td>\n",
       "      <td>0.0</td>\n",
       "      <td>0.0</td>\n",
       "      <td>0.0</td>\n",
       "    </tr>\n",
       "    <tr>\n",
       "      <th>1</th>\n",
       "      <td>1.0</td>\n",
       "      <td>23.0</td>\n",
       "      <td>19114.12</td>\n",
       "      <td>0.000000</td>\n",
       "      <td>3</td>\n",
       "      <td>4</td>\n",
       "      <td>3</td>\n",
       "      <td>4.0</td>\n",
       "      <td>-1</td>\n",
       "      <td>0.0</td>\n",
       "      <td>...</td>\n",
       "      <td>1</td>\n",
       "      <td>0</td>\n",
       "      <td>0</td>\n",
       "      <td>0.0</td>\n",
       "      <td>1.0</td>\n",
       "      <td>0.0</td>\n",
       "      <td>0.0</td>\n",
       "      <td>0.0</td>\n",
       "      <td>0.0</td>\n",
       "      <td>0.0</td>\n",
       "    </tr>\n",
       "    <tr>\n",
       "      <th>2</th>\n",
       "      <td>2.0</td>\n",
       "      <td>0.0</td>\n",
       "      <td>19114.12</td>\n",
       "      <td>0.000000</td>\n",
       "      <td>3</td>\n",
       "      <td>4</td>\n",
       "      <td>3</td>\n",
       "      <td>4.0</td>\n",
       "      <td>3</td>\n",
       "      <td>7.0</td>\n",
       "      <td>...</td>\n",
       "      <td>1</td>\n",
       "      <td>0</td>\n",
       "      <td>0</td>\n",
       "      <td>0.0</td>\n",
       "      <td>0.0</td>\n",
       "      <td>1.0</td>\n",
       "      <td>0.0</td>\n",
       "      <td>0.0</td>\n",
       "      <td>0.0</td>\n",
       "      <td>0.0</td>\n",
       "    </tr>\n",
       "    <tr>\n",
       "      <th>3</th>\n",
       "      <td>3.0</td>\n",
       "      <td>23.0</td>\n",
       "      <td>19114.12</td>\n",
       "      <td>0.000000</td>\n",
       "      <td>3</td>\n",
       "      <td>4</td>\n",
       "      <td>3</td>\n",
       "      <td>4.0</td>\n",
       "      <td>5</td>\n",
       "      <td>4.0</td>\n",
       "      <td>...</td>\n",
       "      <td>1</td>\n",
       "      <td>0</td>\n",
       "      <td>0</td>\n",
       "      <td>0.0</td>\n",
       "      <td>0.0</td>\n",
       "      <td>0.0</td>\n",
       "      <td>1.0</td>\n",
       "      <td>0.0</td>\n",
       "      <td>0.0</td>\n",
       "      <td>0.0</td>\n",
       "    </tr>\n",
       "    <tr>\n",
       "      <th>4</th>\n",
       "      <td>4.0</td>\n",
       "      <td>23.0</td>\n",
       "      <td>19114.12</td>\n",
       "      <td>1824.843333</td>\n",
       "      <td>3</td>\n",
       "      <td>4</td>\n",
       "      <td>3</td>\n",
       "      <td>4.0</td>\n",
       "      <td>6</td>\n",
       "      <td>0.0</td>\n",
       "      <td>...</td>\n",
       "      <td>1</td>\n",
       "      <td>0</td>\n",
       "      <td>0</td>\n",
       "      <td>0.0</td>\n",
       "      <td>0.0</td>\n",
       "      <td>0.0</td>\n",
       "      <td>0.0</td>\n",
       "      <td>1.0</td>\n",
       "      <td>0.0</td>\n",
       "      <td>0.0</td>\n",
       "    </tr>\n",
       "    <tr>\n",
       "      <th>...</th>\n",
       "      <td>...</td>\n",
       "      <td>...</td>\n",
       "      <td>...</td>\n",
       "      <td>...</td>\n",
       "      <td>...</td>\n",
       "      <td>...</td>\n",
       "      <td>...</td>\n",
       "      <td>...</td>\n",
       "      <td>...</td>\n",
       "      <td>...</td>\n",
       "      <td>...</td>\n",
       "      <td>...</td>\n",
       "      <td>...</td>\n",
       "      <td>...</td>\n",
       "      <td>...</td>\n",
       "      <td>...</td>\n",
       "      <td>...</td>\n",
       "      <td>...</td>\n",
       "      <td>...</td>\n",
       "      <td>...</td>\n",
       "      <td>...</td>\n",
       "    </tr>\n",
       "    <tr>\n",
       "      <th>99995</th>\n",
       "      <td>3.0</td>\n",
       "      <td>25.0</td>\n",
       "      <td>39628.99</td>\n",
       "      <td>3359.415833</td>\n",
       "      <td>4</td>\n",
       "      <td>6</td>\n",
       "      <td>7</td>\n",
       "      <td>2.0</td>\n",
       "      <td>23</td>\n",
       "      <td>7.0</td>\n",
       "      <td>...</td>\n",
       "      <td>0</td>\n",
       "      <td>0</td>\n",
       "      <td>0</td>\n",
       "      <td>0.0</td>\n",
       "      <td>0.0</td>\n",
       "      <td>0.0</td>\n",
       "      <td>0.0</td>\n",
       "      <td>0.0</td>\n",
       "      <td>0.0</td>\n",
       "      <td>1.0</td>\n",
       "    </tr>\n",
       "    <tr>\n",
       "      <th>99996</th>\n",
       "      <td>4.0</td>\n",
       "      <td>25.0</td>\n",
       "      <td>39628.99</td>\n",
       "      <td>3359.415833</td>\n",
       "      <td>4</td>\n",
       "      <td>6</td>\n",
       "      <td>7</td>\n",
       "      <td>2.0</td>\n",
       "      <td>18</td>\n",
       "      <td>7.0</td>\n",
       "      <td>...</td>\n",
       "      <td>0</td>\n",
       "      <td>0</td>\n",
       "      <td>0</td>\n",
       "      <td>0.0</td>\n",
       "      <td>0.0</td>\n",
       "      <td>0.0</td>\n",
       "      <td>0.0</td>\n",
       "      <td>1.0</td>\n",
       "      <td>0.0</td>\n",
       "      <td>0.0</td>\n",
       "    </tr>\n",
       "    <tr>\n",
       "      <th>99997</th>\n",
       "      <td>5.0</td>\n",
       "      <td>25.0</td>\n",
       "      <td>39628.99</td>\n",
       "      <td>3359.415833</td>\n",
       "      <td>4</td>\n",
       "      <td>6</td>\n",
       "      <td>5729</td>\n",
       "      <td>2.0</td>\n",
       "      <td>27</td>\n",
       "      <td>6.0</td>\n",
       "      <td>...</td>\n",
       "      <td>0</td>\n",
       "      <td>0</td>\n",
       "      <td>0</td>\n",
       "      <td>0.0</td>\n",
       "      <td>0.0</td>\n",
       "      <td>0.0</td>\n",
       "      <td>0.0</td>\n",
       "      <td>0.0</td>\n",
       "      <td>0.0</td>\n",
       "      <td>1.0</td>\n",
       "    </tr>\n",
       "    <tr>\n",
       "      <th>99998</th>\n",
       "      <td>6.0</td>\n",
       "      <td>25.0</td>\n",
       "      <td>39628.99</td>\n",
       "      <td>3359.415833</td>\n",
       "      <td>4</td>\n",
       "      <td>6</td>\n",
       "      <td>7</td>\n",
       "      <td>2.0</td>\n",
       "      <td>20</td>\n",
       "      <td>0.0</td>\n",
       "      <td>...</td>\n",
       "      <td>0</td>\n",
       "      <td>0</td>\n",
       "      <td>0</td>\n",
       "      <td>0.0</td>\n",
       "      <td>1.0</td>\n",
       "      <td>0.0</td>\n",
       "      <td>0.0</td>\n",
       "      <td>0.0</td>\n",
       "      <td>0.0</td>\n",
       "      <td>0.0</td>\n",
       "    </tr>\n",
       "    <tr>\n",
       "      <th>99999</th>\n",
       "      <td>0.0</td>\n",
       "      <td>25.0</td>\n",
       "      <td>39628.99</td>\n",
       "      <td>3359.415833</td>\n",
       "      <td>4</td>\n",
       "      <td>6</td>\n",
       "      <td>7</td>\n",
       "      <td>2.0</td>\n",
       "      <td>18</td>\n",
       "      <td>6.0</td>\n",
       "      <td>...</td>\n",
       "      <td>0</td>\n",
       "      <td>0</td>\n",
       "      <td>0</td>\n",
       "      <td>0.0</td>\n",
       "      <td>0.0</td>\n",
       "      <td>0.0</td>\n",
       "      <td>0.0</td>\n",
       "      <td>0.0</td>\n",
       "      <td>1.0</td>\n",
       "      <td>0.0</td>\n",
       "    </tr>\n",
       "  </tbody>\n",
       "</table>\n",
       "<p>100000 rows × 45 columns</p>\n",
       "</div>"
      ],
      "text/plain": [
       "       Month   Age  AnnualIncome  MonthlyInhandSalary  NumBankAccounts  \\\n",
       "0        0.0  23.0      19114.12          1824.843333                3   \n",
       "1        1.0  23.0      19114.12             0.000000                3   \n",
       "2        2.0   0.0      19114.12             0.000000                3   \n",
       "3        3.0  23.0      19114.12             0.000000                3   \n",
       "4        4.0  23.0      19114.12          1824.843333                3   \n",
       "...      ...   ...           ...                  ...              ...   \n",
       "99995    3.0  25.0      39628.99          3359.415833                4   \n",
       "99996    4.0  25.0      39628.99          3359.415833                4   \n",
       "99997    5.0  25.0      39628.99          3359.415833                4   \n",
       "99998    6.0  25.0      39628.99          3359.415833                4   \n",
       "99999    0.0  25.0      39628.99          3359.415833                4   \n",
       "\n",
       "       NumCreditCard  InterestRate  NumofLoan  Delayfromduedate  \\\n",
       "0                  4             3        4.0                 3   \n",
       "1                  4             3        4.0                -1   \n",
       "2                  4             3        4.0                 3   \n",
       "3                  4             3        4.0                 5   \n",
       "4                  4             3        4.0                 6   \n",
       "...              ...           ...        ...               ...   \n",
       "99995              6             7        2.0                23   \n",
       "99996              6             7        2.0                18   \n",
       "99997              6          5729        2.0                27   \n",
       "99998              6             7        2.0                20   \n",
       "99999              6             7        2.0                18   \n",
       "\n",
       "       NumofDelayedPayment  ...  Occupation_Scientist  Occupation_Teacher  \\\n",
       "0                      7.0  ...                     1                   0   \n",
       "1                      0.0  ...                     1                   0   \n",
       "2                      7.0  ...                     1                   0   \n",
       "3                      4.0  ...                     1                   0   \n",
       "4                      0.0  ...                     1                   0   \n",
       "...                    ...  ...                   ...                 ...   \n",
       "99995                  7.0  ...                     0                   0   \n",
       "99996                  7.0  ...                     0                   0   \n",
       "99997                  6.0  ...                     0                   0   \n",
       "99998                  0.0  ...                     0                   0   \n",
       "99999                  6.0  ...                     0                   0   \n",
       "\n",
       "       Occupation_Writer    1    2    3    4    5    6    7  \n",
       "0                      0  1.0  0.0  0.0  0.0  0.0  0.0  0.0  \n",
       "1                      0  0.0  1.0  0.0  0.0  0.0  0.0  0.0  \n",
       "2                      0  0.0  0.0  1.0  0.0  0.0  0.0  0.0  \n",
       "3                      0  0.0  0.0  0.0  1.0  0.0  0.0  0.0  \n",
       "4                      0  0.0  0.0  0.0  0.0  1.0  0.0  0.0  \n",
       "...                  ...  ...  ...  ...  ...  ...  ...  ...  \n",
       "99995                  0  0.0  0.0  0.0  0.0  0.0  0.0  1.0  \n",
       "99996                  0  0.0  0.0  0.0  0.0  1.0  0.0  0.0  \n",
       "99997                  0  0.0  0.0  0.0  0.0  0.0  0.0  1.0  \n",
       "99998                  0  0.0  1.0  0.0  0.0  0.0  0.0  0.0  \n",
       "99999                  0  0.0  0.0  0.0  0.0  0.0  1.0  0.0  \n",
       "\n",
       "[100000 rows x 45 columns]"
      ]
     },
     "execution_count": 34,
     "metadata": {},
     "output_type": "execute_result"
    }
   ],
   "source": [
    "df"
   ]
  },
  {
   "cell_type": "code",
   "execution_count": 35,
   "id": "d3084b41",
   "metadata": {},
   "outputs": [],
   "source": [
    "X = df.drop(['CreditScore','PaymentBehaviour'], axis = 1)"
   ]
  },
  {
   "cell_type": "code",
   "execution_count": 36,
   "id": "1b821076",
   "metadata": {},
   "outputs": [],
   "source": [
    "Y = df['CreditScore']"
   ]
  },
  {
   "cell_type": "markdown",
   "id": "3beb0e4a",
   "metadata": {},
   "source": [
    "# scaling and standardization of values"
   ]
  },
  {
   "cell_type": "code",
   "execution_count": 37,
   "id": "96fa2378",
   "metadata": {},
   "outputs": [],
   "source": [
    "from sklearn.preprocessing import StandardScaler\n",
    "mms = StandardScaler()\n",
    "X = mms.fit_transform(X)\n",
    "\n",
    "#from sklearn.preprocessing import MinMaxScaler\n",
    "#mms = MinMaxScaler()\n",
    "#X = mms.fit_transform(X)"
   ]
  },
  {
   "cell_type": "raw",
   "id": "6069621d",
   "metadata": {},
   "source": [
    "Standardize features by removing the mean and scaling to unit variance.\n",
    "Standardization of a dataset is a common requirement for many machine learning estimators: \n",
    "they might behave badly if the individual features do not more or less look like standard normally distributed data.\n",
    "\n",
    "Method fit_transform:Fits transformer to X and y with optional parameters fit_params and returns a transformed version of X."
   ]
  },
  {
   "cell_type": "markdown",
   "id": "9933e994",
   "metadata": {},
   "source": [
    "# Создание проверочного набора (Create a validation set)"
   ]
  },
  {
   "cell_type": "code",
   "execution_count": 40,
   "id": "3e57917c",
   "metadata": {},
   "outputs": [],
   "source": [
    "from sklearn.model_selection import train_test_split\n",
    "\n",
    "X_train, X_test, Y_train,  Y_test = train_test_split(X, Y, test_size = 0.5, random_state = 0)"
   ]
  },
  {
   "cell_type": "code",
   "execution_count": 41,
   "id": "34368668",
   "metadata": {},
   "outputs": [
    {
     "data": {
      "text/plain": [
       "((50000, 43), (50000,))"
      ]
     },
     "execution_count": 41,
     "metadata": {},
     "output_type": "execute_result"
    }
   ],
   "source": [
    "X_train.shape, Y_train.shape"
   ]
  },
  {
   "cell_type": "raw",
   "id": "4097e04b",
   "metadata": {},
   "source": [
    "The train_test_split function of the sklearn. model_selection package in Python \n",
    "splits arrays or matrices into random subsets for train and test data, respectively."
   ]
  },
  {
   "cell_type": "markdown",
   "id": "79eb3527",
   "metadata": {},
   "source": [
    "# a. ML With Teacher"
   ]
  },
  {
   "cell_type": "code",
   "execution_count": null,
   "id": "2b480c94",
   "metadata": {},
   "outputs": [],
   "source": []
  },
  {
   "cell_type": "markdown",
   "id": "1f59c3cf",
   "metadata": {},
   "source": [
    "# sickit-learn KNN Classifier based on k-nearest neighbors.\n",
    "\n",
    "#The target is predicted by local interpolation of the targets associated of the nearest neighbors in the training set."
   ]
  },
  {
   "cell_type": "raw",
   "id": "159b0c47",
   "metadata": {},
   "source": [
    "Classifier implementing the k-nearest neighbors vote.\n",
    "\n",
    "sc = StandardScaler():\n",
    "Standardize features by removing the mean and scaling to unit variance.\n",
    "Standardization of a dataset is a common requirement for many machine learning estimators: \n",
    "they might behave badly if the individual features do not more or less look like standard normally distributed data.\n",
    "\n",
    "\n",
    "method transform: Perform standardization by centering and scaling.\n",
    "\n",
    "method fit: Fit the model using X as training data and y as target values.\n",
    "\n",
    "method score: Returns the mean accuracy on the given test data and labels.\n"
   ]
  },
  {
   "cell_type": "code",
   "execution_count": null,
   "id": "69603348",
   "metadata": {},
   "outputs": [],
   "source": []
  },
  {
   "cell_type": "code",
   "execution_count": 42,
   "id": "b9d1b2d7",
   "metadata": {},
   "outputs": [],
   "source": [
    "from sklearn.neighbors import KNeighborsClassifier\n",
    "knn_cl = KNeighborsClassifier(n_neighbors=3, weights='uniform', algorithm='auto', leaf_size=30, p=2, metric='minkowski', metric_params=None, n_jobs=None)"
   ]
  },
  {
   "cell_type": "code",
   "execution_count": 43,
   "id": "9c917fbb",
   "metadata": {},
   "outputs": [],
   "source": [
    "# place for dataset X,Y again:\n",
    "\n",
    "from sklearn.model_selection import train_test_split\n",
    "X_train, X_test, Y_train,  Y_test =  train_test_split(X, Y, test_size = 0.2, random_state = 0)"
   ]
  },
  {
   "cell_type": "code",
   "execution_count": 44,
   "id": "30693b1f",
   "metadata": {},
   "outputs": [],
   "source": [
    "sc = StandardScaler()"
   ]
  },
  {
   "cell_type": "code",
   "execution_count": 45,
   "id": "becf395c",
   "metadata": {},
   "outputs": [
    {
     "data": {
      "text/plain": [
       "StandardScaler()"
      ]
     },
     "execution_count": 45,
     "metadata": {},
     "output_type": "execute_result"
    }
   ],
   "source": [
    "sc.fit(X_train)"
   ]
  },
  {
   "cell_type": "code",
   "execution_count": 46,
   "id": "6948ad87",
   "metadata": {},
   "outputs": [],
   "source": [
    "X_train = sc.transform(X_train)\n",
    "X_test = sc.transform(X_test)"
   ]
  },
  {
   "cell_type": "code",
   "execution_count": 47,
   "id": "dcc5555e",
   "metadata": {},
   "outputs": [
    {
     "data": {
      "text/plain": [
       "KNeighborsClassifier(n_neighbors=3)"
      ]
     },
     "execution_count": 47,
     "metadata": {},
     "output_type": "execute_result"
    }
   ],
   "source": [
    "knn_cl.fit(X_train, Y_train) "
   ]
  },
  {
   "cell_type": "code",
   "execution_count": 48,
   "id": "6cd721f3",
   "metadata": {},
   "outputs": [
    {
     "data": {
      "text/plain": [
       "(0.8609625, 0.7551)"
      ]
     },
     "execution_count": 48,
     "metadata": {},
     "output_type": "execute_result"
    }
   ],
   "source": [
    "knn_cl.score(X_train, Y_train), knn_cl.score(X_test, Y_test)"
   ]
  },
  {
   "cell_type": "code",
   "execution_count": null,
   "id": "b4cc1ec0",
   "metadata": {},
   "outputs": [],
   "source": []
  },
  {
   "cell_type": "code",
   "execution_count": null,
   "id": "1ac2417d",
   "metadata": {},
   "outputs": [],
   "source": []
  },
  {
   "cell_type": "markdown",
   "id": "7486cedb",
   "metadata": {},
   "source": [
    "# Кривые обучения (Learning Curves)"
   ]
  },
  {
   "cell_type": "markdown",
   "id": "ad2de922",
   "metadata": {},
   "source": [
    "# Learning Curves! Attention :we have to go through dataset from the beginning to see how it is working"
   ]
  },
  {
   "cell_type": "raw",
   "id": "f8cb5727",
   "metadata": {},
   "source": [
    "Learning curve.\n",
    "\n",
    "Determines cross-validated training and test scores for different training set sizes.\n",
    "\n",
    "A cross-validation generator splits the whole dataset k times in training and test data. \n",
    "Subsets of the training set with varying sizes will be used to train the estimator and\n",
    "a score for each training subset size and the test set will be computed. \n",
    "Afterwards, the scores will be averaged over all k runs for each training subset size."
   ]
  },
  {
   "cell_type": "code",
   "execution_count": 49,
   "id": "cb13153c",
   "metadata": {},
   "outputs": [],
   "source": [
    "from sklearn.tree import DecisionTreeClassifier\n",
    "# Передаем какую-то модель и полное наше множество.\n",
    "# we pass model and our complete set (X,Y).\n",
    "# Передаем какую-то модель и полное наше множество.\n",
    "def plot_lc_cl (X, Y, depth):\n",
    "    X_t, X_v, Y_t, Y_v = train_test_split(X, Y, test_size = 0.2, random_state = 5)\n",
    "#списки заводим для накопления ошибок (значения метрик accracy) \n",
    "    acc_t, acc_v = [], [] \n",
    "#    (1, len(X_t)) - это значит мы идем от первого элемента до конца длины нашего множества.\n",
    "    for m in depth:\n",
    "        model = DecisionTreeClassifier(max_depth = m)\n",
    "#        срез это фактически первый элемент и на нем обучаем данные и так по одному идет\n",
    "        model.fit (X_t, Y_t)\n",
    "        pred_t = model.predict(X_t)\n",
    "        pred_v = model.predict(X_v)\n",
    "        \n",
    "        acc_t.append(accuracy_score(Y_t, pred_t))\n",
    "        acc_v.append(accuracy_score(Y_v, pred_v))\n",
    "    plt.plot(acc_t, 'r--^',label='Training Accuracy')\n",
    "    plt.plot(acc_v, 'b-o',label='Test Accuracy')\n",
    "    plt.grid()"
   ]
  },
  {
   "cell_type": "code",
   "execution_count": 50,
   "id": "7aeae6ed",
   "metadata": {},
   "outputs": [
    {
     "data": {
      "text/plain": [
       "Text(0, 0.5, 'Model accuracy')"
      ]
     },
     "execution_count": 50,
     "metadata": {},
     "output_type": "execute_result"
    },
    {
     "data": {
      "image/png": "[encoded data removed]",
      "text/plain": [
       "<Figure size 432x288 with 1 Axes>"
      ]
     },
     "metadata": {
      "needs_background": "light"
     },
     "output_type": "display_data"
    }
   ],
   "source": [
    "# по оси y откладывается величина точности, по X, количество примеров,по которым учится модель, синяя линия это проверочная ,красная train обучающая\n",
    "plot_lc_cl(X,Y,np.array(range(2,20,1)))\n",
    "plt.title('Learning Curve')\n",
    "plt.xlabel('Training Data Size')\n",
    "plt.ylabel('Model accuracy')\n"
   ]
  },
  {
   "cell_type": "code",
   "execution_count": null,
   "id": "7298aed9",
   "metadata": {},
   "outputs": [],
   "source": []
  },
  {
   "cell_type": "code",
   "execution_count": null,
   "id": "a41744db",
   "metadata": {},
   "outputs": [],
   "source": []
  },
  {
   "cell_type": "code",
   "execution_count": null,
   "id": "f408feec",
   "metadata": {},
   "outputs": [],
   "source": []
  }
 ],
 "metadata": {
  "kernelspec": {
   "display_name": "Python 3 (ipykernel)",
   "language": "python",
   "name": "python3"
  },
  "language_info": {
   "codemirror_mode": {
    "name": "ipython",
    "version": 3
   },
   "file_extension": ".py",
   "mimetype": "text/x-python",
   "name": "python",
   "nbconvert_exporter": "python",
   "pygments_lexer": "ipython3",
   "version": "3.9.7"
  }
 },
 "nbformat": 4,
 "nbformat_minor": 5
}
