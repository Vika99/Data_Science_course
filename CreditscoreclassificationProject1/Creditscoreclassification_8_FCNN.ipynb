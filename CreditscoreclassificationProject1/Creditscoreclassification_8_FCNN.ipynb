{
 "cells": [
  {
   "cell_type": "code",
   "execution_count": 2,
   "id": "e0061676",
   "metadata": {},
   "outputs": [],
   "source": [
    "import pandas as pd\n",
    "import numpy as np\n",
    "import pipes as pp\n",
    "\n",
    "\n",
    "df = pd.read_csv('train.csv')\n",
    "\n",
    "df = df.drop(['CustomerID','ID','Name','TypeofLoan','SSN'], axis = 1)\n",
    "\n",
    "\n",
    "df = pp.myPipe.transform(df)\n",
    "\n",
    "X = df.drop(['CreditScore','PaymentBehaviour'], axis = 1)\n",
    "Y = df['CreditScore']\n",
    "\n",
    "\n",
    "\n",
    "X = X - X.mean()\n",
    "X = X/X.std()\n"
   ]
  },
  {
   "cell_type": "markdown",
   "id": "ff425b26",
   "metadata": {},
   "source": [
    "# Создание проверочного набора (Create a validation set)"
   ]
  },
  {
   "cell_type": "code",
   "execution_count": 3,
   "id": "1c5c6668",
   "metadata": {},
   "outputs": [],
   "source": [
    "from sklearn.model_selection import train_test_split\n",
    "\n",
    "X_train, X_test, Y_train,  Y_test = train_test_split(X, Y, test_size = 0.5, random_state = 0)"
   ]
  },
  {
   "cell_type": "code",
   "execution_count": 4,
   "id": "882378fe",
   "metadata": {},
   "outputs": [
    {
     "data": {
      "text/plain": [
       "((50000, 43), (50000,))"
      ]
     },
     "execution_count": 4,
     "metadata": {},
     "output_type": "execute_result"
    }
   ],
   "source": [
    "X_train.shape, Y_train.shape"
   ]
  },
  {
   "cell_type": "code",
   "execution_count": null,
   "id": "f68c8bdb",
   "metadata": {},
   "outputs": [],
   "source": []
  },
  {
   "cell_type": "code",
   "execution_count": 5,
   "id": "480ce6a7",
   "metadata": {},
   "outputs": [
    {
     "data": {
      "text/plain": [
       "43"
      ]
     },
     "execution_count": 5,
     "metadata": {},
     "output_type": "execute_result"
    }
   ],
   "source": [
    "X_train.shape[1]"
   ]
  },
  {
   "cell_type": "code",
   "execution_count": 6,
   "id": "95aec428",
   "metadata": {},
   "outputs": [],
   "source": [
    "import tensorflow as tf\n",
    "from tensorflow.keras import models\n",
    "from tensorflow.keras import layers\n",
    "\n",
    "model = models.Sequential()\n",
    "\n",
    "model.add(layers.Dense(256, activation=\"relu\", input_shape = (X_train.shape[1],),)) \n",
    "#model.add(layers.Dropout(0.4))\n",
    "\n",
    "model.add(layers.Dense(256, activation=\"relu\"))\n",
    "model.add(layers.Dense(256, activation=\"relu\"))\n",
    "\n",
    "model.add(layers.Dense(1, activation=\"sigmoid\"))\n",
    "\n",
    "# Компиляция модели\n",
    "model.compile(optimizer=tf.keras.optimizers.Adam(1e-3),\n",
    "              loss=\"binary_crossentropy\",\n",
    "              metrics=[\"accuracy\"])"
   ]
  },
  {
   "cell_type": "code",
   "execution_count": 7,
   "id": "27b95c7f",
   "metadata": {},
   "outputs": [
    {
     "name": "stdout",
     "output_type": "stream",
     "text": [
      "Epoch 1/150\n",
      "98/98 [==============================] - 3s 20ms/step - loss: 0.4832 - accuracy: 0.7747 - val_loss: 0.4666 - val_accuracy: 0.7912\n",
      "Epoch 2/150\n",
      "98/98 [==============================] - 2s 19ms/step - loss: 0.4478 - accuracy: 0.8023 - val_loss: 0.4525 - val_accuracy: 0.7992\n",
      "Epoch 3/150\n",
      "98/98 [==============================] - 2s 16ms/step - loss: 0.4356 - accuracy: 0.8086 - val_loss: 0.4506 - val_accuracy: 0.7970\n",
      "Epoch 4/150\n",
      "98/98 [==============================] - 2s 16ms/step - loss: 0.4279 - accuracy: 0.8114 - val_loss: 0.4530 - val_accuracy: 0.8037\n",
      "Epoch 5/150\n",
      "98/98 [==============================] - 2s 18ms/step - loss: 0.4211 - accuracy: 0.8149 - val_loss: 0.4438 - val_accuracy: 0.8019\n",
      "Epoch 6/150\n",
      "98/98 [==============================] - 2s 16ms/step - loss: 0.4158 - accuracy: 0.8174 - val_loss: 0.4456 - val_accuracy: 0.8038\n",
      "Epoch 7/150\n",
      "98/98 [==============================] - 2s 16ms/step - loss: 0.4104 - accuracy: 0.8203 - val_loss: 0.4442 - val_accuracy: 0.8034\n",
      "Epoch 8/150\n",
      "98/98 [==============================] - 2s 16ms/step - loss: 0.4060 - accuracy: 0.8207 - val_loss: 0.4503 - val_accuracy: 0.8032\n",
      "Epoch 9/150\n",
      "98/98 [==============================] - 2s 16ms/step - loss: 0.3998 - accuracy: 0.8249 - val_loss: 0.4495 - val_accuracy: 0.8007\n",
      "Epoch 10/150\n",
      "98/98 [==============================] - 2s 16ms/step - loss: 0.3942 - accuracy: 0.8260 - val_loss: 0.4531 - val_accuracy: 0.8010\n",
      "Epoch 11/150\n",
      "98/98 [==============================] - 2s 18ms/step - loss: 0.3889 - accuracy: 0.8284 - val_loss: 0.4587 - val_accuracy: 0.7960\n",
      "Epoch 12/150\n",
      "98/98 [==============================] - 2s 18ms/step - loss: 0.3818 - accuracy: 0.8320 - val_loss: 0.4659 - val_accuracy: 0.7959\n",
      "Epoch 13/150\n",
      "98/98 [==============================] - 2s 17ms/step - loss: 0.3754 - accuracy: 0.8337 - val_loss: 0.4733 - val_accuracy: 0.7956\n",
      "Epoch 14/150\n",
      "98/98 [==============================] - 2s 16ms/step - loss: 0.3680 - accuracy: 0.8379 - val_loss: 0.4734 - val_accuracy: 0.7970\n",
      "Epoch 15/150\n",
      "98/98 [==============================] - 2s 17ms/step - loss: 0.3589 - accuracy: 0.8418 - val_loss: 0.4893 - val_accuracy: 0.7941\n",
      "Epoch 16/150\n",
      "98/98 [==============================] - 2s 16ms/step - loss: 0.3489 - accuracy: 0.8454 - val_loss: 0.4924 - val_accuracy: 0.7914\n",
      "Epoch 17/150\n",
      "98/98 [==============================] - 2s 17ms/step - loss: 0.3438 - accuracy: 0.8478 - val_loss: 0.5008 - val_accuracy: 0.7922\n",
      "Epoch 18/150\n",
      "98/98 [==============================] - 2s 17ms/step - loss: 0.3344 - accuracy: 0.8525 - val_loss: 0.5023 - val_accuracy: 0.7886\n",
      "Epoch 19/150\n",
      "98/98 [==============================] - 2s 17ms/step - loss: 0.3249 - accuracy: 0.8572 - val_loss: 0.5251 - val_accuracy: 0.7870\n",
      "Epoch 20/150\n",
      "98/98 [==============================] - 2s 17ms/step - loss: 0.3128 - accuracy: 0.8623 - val_loss: 0.5428 - val_accuracy: 0.7896\n",
      "Epoch 21/150\n",
      "98/98 [==============================] - 2s 19ms/step - loss: 0.3049 - accuracy: 0.8664 - val_loss: 0.5333 - val_accuracy: 0.7815\n",
      "Epoch 22/150\n",
      "98/98 [==============================] - 2s 18ms/step - loss: 0.2961 - accuracy: 0.8696 - val_loss: 0.5505 - val_accuracy: 0.7804\n",
      "Epoch 23/150\n",
      "98/98 [==============================] - 2s 16ms/step - loss: 0.2889 - accuracy: 0.8731 - val_loss: 0.5710 - val_accuracy: 0.7819\n",
      "Epoch 24/150\n",
      "98/98 [==============================] - 2s 17ms/step - loss: 0.2734 - accuracy: 0.8805 - val_loss: 0.5845 - val_accuracy: 0.7719\n",
      "Epoch 25/150\n",
      "98/98 [==============================] - 2s 16ms/step - loss: 0.2624 - accuracy: 0.8864 - val_loss: 0.6102 - val_accuracy: 0.7732\n",
      "Epoch 26/150\n",
      "98/98 [==============================] - 2s 16ms/step - loss: 0.2545 - accuracy: 0.8893 - val_loss: 0.6227 - val_accuracy: 0.7777\n",
      "Epoch 27/150\n",
      "98/98 [==============================] - 2s 16ms/step - loss: 0.2421 - accuracy: 0.8956 - val_loss: 0.6422 - val_accuracy: 0.7787\n",
      "Epoch 28/150\n",
      "98/98 [==============================] - 2s 16ms/step - loss: 0.2351 - accuracy: 0.8984 - val_loss: 0.6633 - val_accuracy: 0.7646\n",
      "Epoch 29/150\n",
      "98/98 [==============================] - 2s 16ms/step - loss: 0.2249 - accuracy: 0.9042 - val_loss: 0.6938 - val_accuracy: 0.7705\n",
      "Epoch 30/150\n",
      "98/98 [==============================] - 2s 17ms/step - loss: 0.2178 - accuracy: 0.9075 - val_loss: 0.7057 - val_accuracy: 0.7746\n",
      "Epoch 31/150\n",
      "98/98 [==============================] - 2s 19ms/step - loss: 0.2061 - accuracy: 0.9121 - val_loss: 0.7441 - val_accuracy: 0.7659\n",
      "Epoch 32/150\n",
      "98/98 [==============================] - 2s 19ms/step - loss: 0.1941 - accuracy: 0.9186 - val_loss: 0.7618 - val_accuracy: 0.7662\n",
      "Epoch 33/150\n",
      "98/98 [==============================] - 2s 17ms/step - loss: 0.1855 - accuracy: 0.9218 - val_loss: 0.7906 - val_accuracy: 0.7686\n",
      "Epoch 34/150\n",
      "98/98 [==============================] - 2s 17ms/step - loss: 0.1829 - accuracy: 0.9232 - val_loss: 0.8164 - val_accuracy: 0.7686\n",
      "Epoch 35/150\n",
      "98/98 [==============================] - 2s 17ms/step - loss: 0.1753 - accuracy: 0.9263 - val_loss: 0.8299 - val_accuracy: 0.7678\n",
      "Epoch 36/150\n",
      "98/98 [==============================] - 2s 18ms/step - loss: 0.1662 - accuracy: 0.9301 - val_loss: 0.8405 - val_accuracy: 0.7584\n",
      "Epoch 37/150\n",
      "98/98 [==============================] - 2s 18ms/step - loss: 0.1602 - accuracy: 0.9331 - val_loss: 0.8796 - val_accuracy: 0.7639\n",
      "Epoch 38/150\n",
      "98/98 [==============================] - 2s 16ms/step - loss: 0.1435 - accuracy: 0.9419 - val_loss: 0.9080 - val_accuracy: 0.7542\n",
      "Epoch 39/150\n",
      "98/98 [==============================] - 2s 18ms/step - loss: 0.1383 - accuracy: 0.9429 - val_loss: 0.9582 - val_accuracy: 0.7645\n",
      "Epoch 40/150\n",
      "98/98 [==============================] - 2s 18ms/step - loss: 0.1341 - accuracy: 0.9458 - val_loss: 0.9850 - val_accuracy: 0.7652\n",
      "Epoch 41/150\n",
      "98/98 [==============================] - 2s 19ms/step - loss: 0.1260 - accuracy: 0.9502 - val_loss: 1.0424 - val_accuracy: 0.7651\n",
      "Epoch 42/150\n",
      "98/98 [==============================] - 2s 16ms/step - loss: 0.1264 - accuracy: 0.9497 - val_loss: 1.0301 - val_accuracy: 0.7578\n",
      "Epoch 43/150\n",
      "98/98 [==============================] - 2s 16ms/step - loss: 0.1141 - accuracy: 0.9556 - val_loss: 1.0675 - val_accuracy: 0.7609\n",
      "Epoch 44/150\n",
      "98/98 [==============================] - 2s 17ms/step - loss: 0.1097 - accuracy: 0.9567 - val_loss: 1.1034 - val_accuracy: 0.7616\n",
      "Epoch 45/150\n",
      "98/98 [==============================] - 2s 16ms/step - loss: 0.1042 - accuracy: 0.9598 - val_loss: 1.1318 - val_accuracy: 0.7588\n",
      "Epoch 46/150\n",
      "98/98 [==============================] - 2s 17ms/step - loss: 0.0995 - accuracy: 0.9618 - val_loss: 1.1786 - val_accuracy: 0.7603\n",
      "Epoch 47/150\n",
      "98/98 [==============================] - 2s 17ms/step - loss: 0.0966 - accuracy: 0.9625 - val_loss: 1.1700 - val_accuracy: 0.7584\n",
      "Epoch 48/150\n",
      "98/98 [==============================] - 2s 17ms/step - loss: 0.0917 - accuracy: 0.9672 - val_loss: 1.1974 - val_accuracy: 0.7616\n",
      "Epoch 49/150\n",
      "98/98 [==============================] - 2s 17ms/step - loss: 0.0841 - accuracy: 0.9694 - val_loss: 1.2302 - val_accuracy: 0.7596\n",
      "Epoch 50/150\n",
      "98/98 [==============================] - 2s 19ms/step - loss: 0.0835 - accuracy: 0.9694 - val_loss: 1.2654 - val_accuracy: 0.7611\n",
      "Epoch 51/150\n",
      "98/98 [==============================] - 2s 17ms/step - loss: 0.0766 - accuracy: 0.9727 - val_loss: 1.3069 - val_accuracy: 0.7634\n",
      "Epoch 52/150\n",
      "98/98 [==============================] - 2s 18ms/step - loss: 0.0709 - accuracy: 0.9751 - val_loss: 1.3441 - val_accuracy: 0.7627\n",
      "Epoch 53/150\n",
      "98/98 [==============================] - 2s 18ms/step - loss: 0.0715 - accuracy: 0.9741 - val_loss: 1.3588 - val_accuracy: 0.7556\n",
      "Epoch 54/150\n",
      "98/98 [==============================] - 2s 16ms/step - loss: 0.0690 - accuracy: 0.9755 - val_loss: 1.3846 - val_accuracy: 0.7531\n",
      "Epoch 55/150\n",
      "98/98 [==============================] - 2s 16ms/step - loss: 0.0620 - accuracy: 0.9789 - val_loss: 1.4470 - val_accuracy: 0.7612\n",
      "Epoch 56/150\n",
      "98/98 [==============================] - 2s 18ms/step - loss: 0.0661 - accuracy: 0.9771 - val_loss: 1.4470 - val_accuracy: 0.7547\n",
      "Epoch 57/150\n",
      "98/98 [==============================] - 2s 17ms/step - loss: 0.0816 - accuracy: 0.9699 - val_loss: 1.4758 - val_accuracy: 0.7619\n",
      "Epoch 58/150\n"
     ]
    },
    {
     "name": "stdout",
     "output_type": "stream",
     "text": [
      "98/98 [==============================] - 2s 16ms/step - loss: 0.0612 - accuracy: 0.9784 - val_loss: 1.4695 - val_accuracy: 0.7518\n",
      "Epoch 59/150\n",
      "98/98 [==============================] - 2s 18ms/step - loss: 0.0583 - accuracy: 0.9803 - val_loss: 1.5128 - val_accuracy: 0.7527\n",
      "Epoch 60/150\n",
      "98/98 [==============================] - 2s 17ms/step - loss: 0.0613 - accuracy: 0.9781 - val_loss: 1.4906 - val_accuracy: 0.7460\n",
      "Epoch 61/150\n",
      "98/98 [==============================] - 2s 16ms/step - loss: 0.0521 - accuracy: 0.9823 - val_loss: 1.5094 - val_accuracy: 0.7533\n",
      "Epoch 62/150\n",
      "98/98 [==============================] - 2s 16ms/step - loss: 0.0446 - accuracy: 0.9863 - val_loss: 1.5721 - val_accuracy: 0.7503\n",
      "Epoch 63/150\n",
      "98/98 [==============================] - 2s 16ms/step - loss: 0.0382 - accuracy: 0.9885 - val_loss: 1.6259 - val_accuracy: 0.7617\n",
      "Epoch 64/150\n",
      "98/98 [==============================] - 2s 16ms/step - loss: 0.0322 - accuracy: 0.9912 - val_loss: 1.6732 - val_accuracy: 0.7593\n",
      "Epoch 65/150\n",
      "98/98 [==============================] - 2s 16ms/step - loss: 0.0359 - accuracy: 0.9894 - val_loss: 1.6984 - val_accuracy: 0.7499\n",
      "Epoch 66/150\n",
      "98/98 [==============================] - 2s 16ms/step - loss: 0.0433 - accuracy: 0.9857 - val_loss: 1.7070 - val_accuracy: 0.7535\n",
      "Epoch 67/150\n",
      "98/98 [==============================] - 2s 16ms/step - loss: 0.0486 - accuracy: 0.9835 - val_loss: 1.7239 - val_accuracy: 0.7506\n",
      "Epoch 68/150\n",
      "98/98 [==============================] - 2s 16ms/step - loss: 0.0505 - accuracy: 0.9816 - val_loss: 1.6970 - val_accuracy: 0.7417\n",
      "Epoch 69/150\n",
      "98/98 [==============================] - 2s 18ms/step - loss: 0.0597 - accuracy: 0.9787 - val_loss: 1.7509 - val_accuracy: 0.7595\n",
      "Epoch 70/150\n",
      "98/98 [==============================] - 2s 18ms/step - loss: 0.0659 - accuracy: 0.9752 - val_loss: 1.7187 - val_accuracy: 0.7531\n",
      "Epoch 71/150\n",
      "98/98 [==============================] - 2s 17ms/step - loss: 0.0460 - accuracy: 0.9848 - val_loss: 1.7471 - val_accuracy: 0.7489\n",
      "Epoch 72/150\n",
      "98/98 [==============================] - 2s 17ms/step - loss: 0.0381 - accuracy: 0.9887 - val_loss: 1.7503 - val_accuracy: 0.7513\n",
      "Epoch 73/150\n",
      "98/98 [==============================] - 2s 17ms/step - loss: 0.0349 - accuracy: 0.9904 - val_loss: 1.7957 - val_accuracy: 0.7521\n",
      "Epoch 74/150\n",
      "98/98 [==============================] - 2s 16ms/step - loss: 0.0311 - accuracy: 0.9907 - val_loss: 1.8592 - val_accuracy: 0.7573\n",
      "Epoch 75/150\n",
      "98/98 [==============================] - 2s 18ms/step - loss: 0.0338 - accuracy: 0.9897 - val_loss: 1.8208 - val_accuracy: 0.7437\n",
      "Epoch 76/150\n",
      "98/98 [==============================] - 2s 18ms/step - loss: 0.0312 - accuracy: 0.9910 - val_loss: 1.8620 - val_accuracy: 0.7514\n",
      "Epoch 77/150\n",
      "98/98 [==============================] - 2s 18ms/step - loss: 0.0341 - accuracy: 0.9893 - val_loss: 1.9373 - val_accuracy: 0.7638\n",
      "Epoch 78/150\n",
      "98/98 [==============================] - 2s 19ms/step - loss: 0.0367 - accuracy: 0.9879 - val_loss: 1.8867 - val_accuracy: 0.7516\n",
      "Epoch 79/150\n",
      "98/98 [==============================] - 2s 18ms/step - loss: 0.0393 - accuracy: 0.9861 - val_loss: 1.9340 - val_accuracy: 0.7489\n",
      "Epoch 80/150\n",
      "98/98 [==============================] - 2s 16ms/step - loss: 0.0390 - accuracy: 0.9875 - val_loss: 1.8868 - val_accuracy: 0.7524\n",
      "Epoch 81/150\n",
      "98/98 [==============================] - 2s 17ms/step - loss: 0.0386 - accuracy: 0.9871 - val_loss: 1.9399 - val_accuracy: 0.7560\n",
      "Epoch 82/150\n",
      "98/98 [==============================] - 2s 17ms/step - loss: 0.0347 - accuracy: 0.9884 - val_loss: 1.9338 - val_accuracy: 0.7428\n",
      "Epoch 83/150\n",
      "98/98 [==============================] - 1s 15ms/step - loss: 0.0296 - accuracy: 0.9909 - val_loss: 1.9586 - val_accuracy: 0.7506\n",
      "Epoch 84/150\n",
      "98/98 [==============================] - 1s 15ms/step - loss: 0.0234 - accuracy: 0.9929 - val_loss: 2.0175 - val_accuracy: 0.7556\n",
      "Epoch 85/150\n",
      "98/98 [==============================] - 1s 15ms/step - loss: 0.0202 - accuracy: 0.9946 - val_loss: 2.0610 - val_accuracy: 0.7582\n",
      "Epoch 86/150\n",
      "98/98 [==============================] - 1s 15ms/step - loss: 0.0149 - accuracy: 0.9968 - val_loss: 2.0541 - val_accuracy: 0.7475\n",
      "Epoch 87/150\n",
      "98/98 [==============================] - 1s 15ms/step - loss: 0.0153 - accuracy: 0.9964 - val_loss: 2.1251 - val_accuracy: 0.7584\n",
      "Epoch 88/150\n",
      "98/98 [==============================] - 2s 17ms/step - loss: 0.0339 - accuracy: 0.9896 - val_loss: 2.1745 - val_accuracy: 0.7644\n",
      "Epoch 89/150\n",
      "98/98 [==============================] - 2s 19ms/step - loss: 0.0572 - accuracy: 0.9788 - val_loss: 2.0343 - val_accuracy: 0.7360\n",
      "Epoch 90/150\n",
      "98/98 [==============================] - 2s 16ms/step - loss: 0.0888 - accuracy: 0.9675 - val_loss: 1.9632 - val_accuracy: 0.7541\n",
      "Epoch 91/150\n",
      "98/98 [==============================] - 1s 15ms/step - loss: 0.0669 - accuracy: 0.9760 - val_loss: 1.9245 - val_accuracy: 0.7527\n",
      "Epoch 92/150\n",
      "98/98 [==============================] - 1s 15ms/step - loss: 0.0345 - accuracy: 0.9885 - val_loss: 1.9946 - val_accuracy: 0.7537\n",
      "Epoch 93/150\n",
      "98/98 [==============================] - 1s 15ms/step - loss: 0.0205 - accuracy: 0.9950 - val_loss: 2.0591 - val_accuracy: 0.7609\n",
      "Epoch 94/150\n",
      "98/98 [==============================] - 1s 15ms/step - loss: 0.0129 - accuracy: 0.9972 - val_loss: 2.0756 - val_accuracy: 0.7555\n",
      "Epoch 95/150\n",
      "98/98 [==============================] - 2s 17ms/step - loss: 0.0103 - accuracy: 0.9979 - val_loss: 2.1247 - val_accuracy: 0.7601\n",
      "Epoch 96/150\n",
      "98/98 [==============================] - 1s 15ms/step - loss: 0.0087 - accuracy: 0.9986 - val_loss: 2.1304 - val_accuracy: 0.7547\n",
      "Epoch 97/150\n",
      "98/98 [==============================] - 2s 18ms/step - loss: 0.0072 - accuracy: 0.9990 - val_loss: 2.1837 - val_accuracy: 0.7602\n",
      "Epoch 98/150\n",
      "98/98 [==============================] - 2s 21ms/step - loss: 0.0061 - accuracy: 0.9992 - val_loss: 2.1963 - val_accuracy: 0.7558\n",
      "Epoch 99/150\n",
      "98/98 [==============================] - 2s 22ms/step - loss: 0.0055 - accuracy: 0.9992 - val_loss: 2.2456 - val_accuracy: 0.7587\n",
      "Epoch 100/150\n",
      "98/98 [==============================] - 2s 20ms/step - loss: 0.0079 - accuracy: 0.9985 - val_loss: 2.2451 - val_accuracy: 0.7531\n",
      "Epoch 101/150\n",
      "98/98 [==============================] - 2s 17ms/step - loss: 0.0136 - accuracy: 0.9963 - val_loss: 2.2511 - val_accuracy: 0.7491\n",
      "Epoch 102/150\n",
      "98/98 [==============================] - 2s 18ms/step - loss: 0.0359 - accuracy: 0.9881 - val_loss: 2.1933 - val_accuracy: 0.7476\n",
      "Epoch 103/150\n",
      "98/98 [==============================] - 2s 17ms/step - loss: 0.1027 - accuracy: 0.9636 - val_loss: 2.0389 - val_accuracy: 0.7388\n",
      "Epoch 104/150\n",
      "98/98 [==============================] - 2s 17ms/step - loss: 0.0799 - accuracy: 0.9716 - val_loss: 2.0048 - val_accuracy: 0.7503\n",
      "Epoch 105/150\n",
      "98/98 [==============================] - 2s 16ms/step - loss: 0.0602 - accuracy: 0.9785 - val_loss: 2.0448 - val_accuracy: 0.7575\n",
      "Epoch 106/150\n",
      "98/98 [==============================] - 2s 18ms/step - loss: 0.0316 - accuracy: 0.9895 - val_loss: 2.0534 - val_accuracy: 0.7520\n",
      "Epoch 107/150\n",
      "98/98 [==============================] - 2s 18ms/step - loss: 0.0184 - accuracy: 0.9953 - val_loss: 2.1222 - val_accuracy: 0.7553\n",
      "Epoch 108/150\n",
      "98/98 [==============================] - 2s 18ms/step - loss: 0.0126 - accuracy: 0.9977 - val_loss: 2.1389 - val_accuracy: 0.7512\n",
      "Epoch 109/150\n",
      "98/98 [==============================] - 2s 16ms/step - loss: 0.0114 - accuracy: 0.9978 - val_loss: 2.1756 - val_accuracy: 0.7570\n",
      "Epoch 110/150\n",
      "98/98 [==============================] - 2s 16ms/step - loss: 0.0068 - accuracy: 0.9990 - val_loss: 2.2168 - val_accuracy: 0.7568\n",
      "Epoch 111/150\n",
      "98/98 [==============================] - 2s 17ms/step - loss: 0.0055 - accuracy: 0.9993 - val_loss: 2.2293 - val_accuracy: 0.7555\n",
      "Epoch 112/150\n",
      "98/98 [==============================] - 2s 16ms/step - loss: 0.0042 - accuracy: 0.9995 - val_loss: 2.3030 - val_accuracy: 0.7627\n",
      "Epoch 113/150\n",
      "98/98 [==============================] - 2s 16ms/step - loss: 0.0054 - accuracy: 0.9994 - val_loss: 2.2739 - val_accuracy: 0.7547\n",
      "Epoch 114/150\n",
      "98/98 [==============================] - 2s 17ms/step - loss: 0.0041 - accuracy: 0.9994 - val_loss: 2.3091 - val_accuracy: 0.7560\n",
      "Epoch 115/150\n"
     ]
    },
    {
     "name": "stdout",
     "output_type": "stream",
     "text": [
      "98/98 [==============================] - 2s 17ms/step - loss: 0.0044 - accuracy: 0.9993 - val_loss: 2.3124 - val_accuracy: 0.7509\n",
      "Epoch 116/150\n",
      "98/98 [==============================] - 2s 16ms/step - loss: 0.0035 - accuracy: 0.9994 - val_loss: 2.3832 - val_accuracy: 0.7628\n",
      "Epoch 117/150\n",
      "98/98 [==============================] - 2s 19ms/step - loss: 0.0032 - accuracy: 0.9996 - val_loss: 2.3527 - val_accuracy: 0.7510\n",
      "Epoch 118/150\n",
      "98/98 [==============================] - 2s 18ms/step - loss: 0.0047 - accuracy: 0.9992 - val_loss: 2.3899 - val_accuracy: 0.7583\n",
      "Epoch 119/150\n",
      "98/98 [==============================] - 1s 15ms/step - loss: 0.0059 - accuracy: 0.9987 - val_loss: 2.4000 - val_accuracy: 0.7545\n",
      "Epoch 120/150\n",
      "98/98 [==============================] - 1s 15ms/step - loss: 0.0598 - accuracy: 0.9804 - val_loss: 2.3195 - val_accuracy: 0.7501\n",
      "Epoch 121/150\n",
      "98/98 [==============================] - 2s 16ms/step - loss: 0.2035 - accuracy: 0.9368 - val_loss: 1.8237 - val_accuracy: 0.7605\n",
      "Epoch 122/150\n",
      "98/98 [==============================] - 2s 17ms/step - loss: 0.0873 - accuracy: 0.9673 - val_loss: 1.9183 - val_accuracy: 0.7575\n",
      "Epoch 123/150\n",
      "98/98 [==============================] - 2s 22ms/step - loss: 0.0332 - accuracy: 0.9890 - val_loss: 1.9770 - val_accuracy: 0.7486\n",
      "Epoch 124/150\n",
      "98/98 [==============================] - 2s 20ms/step - loss: 0.0131 - accuracy: 0.9975 - val_loss: 2.0497 - val_accuracy: 0.7547\n",
      "Epoch 125/150\n",
      "98/98 [==============================] - 2s 17ms/step - loss: 0.0075 - accuracy: 0.9993 - val_loss: 2.1001 - val_accuracy: 0.7584\n",
      "Epoch 126/150\n",
      "98/98 [==============================] - 2s 17ms/step - loss: 0.0055 - accuracy: 0.9995 - val_loss: 2.1436 - val_accuracy: 0.7568\n",
      "Epoch 127/150\n",
      "98/98 [==============================] - 2s 17ms/step - loss: 0.0041 - accuracy: 0.9996 - val_loss: 2.1829 - val_accuracy: 0.7566\n",
      "Epoch 128/150\n",
      "98/98 [==============================] - 2s 16ms/step - loss: 0.0036 - accuracy: 0.9996 - val_loss: 2.2017 - val_accuracy: 0.7545\n",
      "Epoch 129/150\n",
      "98/98 [==============================] - 2s 18ms/step - loss: 0.0035 - accuracy: 0.9997 - val_loss: 2.2390 - val_accuracy: 0.7586\n",
      "Epoch 130/150\n",
      "98/98 [==============================] - 2s 17ms/step - loss: 0.0032 - accuracy: 0.9997 - val_loss: 2.2763 - val_accuracy: 0.7568\n",
      "Epoch 131/150\n",
      "98/98 [==============================] - 2s 17ms/step - loss: 0.0029 - accuracy: 0.9997 - val_loss: 2.2845 - val_accuracy: 0.7576\n",
      "Epoch 132/150\n",
      "98/98 [==============================] - 2s 18ms/step - loss: 0.0034 - accuracy: 0.9996 - val_loss: 2.3162 - val_accuracy: 0.7590\n",
      "Epoch 133/150\n",
      "98/98 [==============================] - 2s 16ms/step - loss: 0.0031 - accuracy: 0.9996 - val_loss: 2.3477 - val_accuracy: 0.7609\n",
      "Epoch 134/150\n",
      "98/98 [==============================] - 2s 17ms/step - loss: 0.0037 - accuracy: 0.9996 - val_loss: 2.3487 - val_accuracy: 0.7556\n",
      "Epoch 135/150\n",
      "98/98 [==============================] - 2s 19ms/step - loss: 0.0065 - accuracy: 0.9987 - val_loss: 2.3659 - val_accuracy: 0.7593\n",
      "Epoch 136/150\n",
      "98/98 [==============================] - 2s 21ms/step - loss: 0.0413 - accuracy: 0.9867 - val_loss: 2.3047 - val_accuracy: 0.7534\n",
      "Epoch 137/150\n",
      "98/98 [==============================] - 2s 17ms/step - loss: 0.1386 - accuracy: 0.9539 - val_loss: 2.0155 - val_accuracy: 0.7545\n",
      "Epoch 138/150\n",
      "98/98 [==============================] - 2s 20ms/step - loss: 0.0870 - accuracy: 0.9691 - val_loss: 2.0064 - val_accuracy: 0.7544\n",
      "Epoch 139/150\n",
      "98/98 [==============================] - 2s 18ms/step - loss: 0.0371 - accuracy: 0.9877 - val_loss: 2.1041 - val_accuracy: 0.7634\n",
      "Epoch 140/150\n",
      "98/98 [==============================] - 2s 18ms/step - loss: 0.0235 - accuracy: 0.9930 - val_loss: 2.1292 - val_accuracy: 0.7558\n",
      "Epoch 141/150\n",
      "98/98 [==============================] - 2s 19ms/step - loss: 0.0102 - accuracy: 0.9980 - val_loss: 2.1735 - val_accuracy: 0.7603\n",
      "Epoch 142/150\n",
      "98/98 [==============================] - 2s 18ms/step - loss: 0.0059 - accuracy: 0.9993 - val_loss: 2.1928 - val_accuracy: 0.7552\n",
      "Epoch 143/150\n",
      "98/98 [==============================] - 2s 18ms/step - loss: 0.0051 - accuracy: 0.9994 - val_loss: 2.2667 - val_accuracy: 0.7598\n",
      "Epoch 144/150\n",
      "98/98 [==============================] - 2s 19ms/step - loss: 0.0036 - accuracy: 0.9997 - val_loss: 2.2572 - val_accuracy: 0.7576\n",
      "Epoch 145/150\n",
      "98/98 [==============================] - 2s 18ms/step - loss: 0.0028 - accuracy: 0.9996 - val_loss: 2.2815 - val_accuracy: 0.7559\n",
      "Epoch 146/150\n",
      "98/98 [==============================] - 2s 17ms/step - loss: 0.0040 - accuracy: 0.9995 - val_loss: 2.3053 - val_accuracy: 0.7574\n",
      "Epoch 147/150\n",
      "98/98 [==============================] - 2s 16ms/step - loss: 0.0024 - accuracy: 0.9997 - val_loss: 2.3555 - val_accuracy: 0.7605\n",
      "Epoch 148/150\n",
      "98/98 [==============================] - 2s 15ms/step - loss: 0.0024 - accuracy: 0.9997 - val_loss: 2.3782 - val_accuracy: 0.7589\n",
      "Epoch 149/150\n",
      "98/98 [==============================] - 2s 16ms/step - loss: 0.0021 - accuracy: 0.9998 - val_loss: 2.3801 - val_accuracy: 0.7566\n",
      "Epoch 150/150\n",
      "98/98 [==============================] - 2s 16ms/step - loss: 0.0022 - accuracy: 0.9997 - val_loss: 2.4135 - val_accuracy: 0.7607\n"
     ]
    }
   ],
   "source": [
    "history = model.fit(X_train, Y_train, validation_data = (X_test, Y_test), \n",
    "                    epochs=150, batch_size=512)"
   ]
  },
  {
   "cell_type": "code",
   "execution_count": 8,
   "id": "64ef489c",
   "metadata": {},
   "outputs": [],
   "source": [
    "from sklearn.metrics import confusion_matrix, f1_score"
   ]
  },
  {
   "cell_type": "code",
   "execution_count": 9,
   "id": "caa8466b",
   "metadata": {},
   "outputs": [
    {
     "name": "stdout",
     "output_type": "stream",
     "text": [
      "1563/1563 [==============================] - 3s 2ms/step\n"
     ]
    }
   ],
   "source": [
    "pr = model.predict(X_test)>0.5"
   ]
  },
  {
   "cell_type": "code",
   "execution_count": 10,
   "id": "7adc2678",
   "metadata": {},
   "outputs": [
    {
     "data": {
      "text/plain": [
       "0.5803781262057597"
      ]
     },
     "execution_count": 10,
     "metadata": {},
     "output_type": "execute_result"
    }
   ],
   "source": [
    "f1_score (Y_test, pr)"
   ]
  },
  {
   "cell_type": "code",
   "execution_count": 11,
   "id": "17c07d5f",
   "metadata": {},
   "outputs": [
    {
     "data": {
      "text/plain": [
       "array([[29764,  5664],\n",
       "       [ 6299,  8273]], dtype=int64)"
      ]
     },
     "execution_count": 11,
     "metadata": {},
     "output_type": "execute_result"
    }
   ],
   "source": [
    "confusion_matrix(Y_test, pr)"
   ]
  }
 ],
 "metadata": {
  "kernelspec": {
   "display_name": "Python 3 (ipykernel)",
   "language": "python",
   "name": "python3"
  },
  "language_info": {
   "codemirror_mode": {
    "name": "ipython",
    "version": 3
   },
   "file_extension": ".py",
   "mimetype": "text/x-python",
   "name": "python",
   "nbconvert_exporter": "python",
   "pygments_lexer": "ipython3",
   "version": "3.9.7"
  }
 },
 "nbformat": 4,
 "nbformat_minor": 5
}
