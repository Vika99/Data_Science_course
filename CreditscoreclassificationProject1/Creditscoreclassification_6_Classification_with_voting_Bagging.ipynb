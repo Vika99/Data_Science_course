{
 "cells": [
  {
   "cell_type": "code",
   "execution_count": null,
   "id": "a1bea8cb",
   "metadata": {},
   "outputs": [],
   "source": []
  },
  {
   "cell_type": "code",
   "execution_count": null,
   "id": "22fe329d",
   "metadata": {},
   "outputs": [],
   "source": []
  },
  {
   "cell_type": "code",
   "execution_count": 1,
   "id": "7a7abf99",
   "metadata": {},
   "outputs": [],
   "source": [
    "import pandas as pd\n",
    "import pipes as pp\n",
    "from matplotlib import pyplot as plt\n",
    "import seaborn as sns\n",
    "%matplotlib inline\n",
    "import numpy as np\n",
    "from sklearn.metrics import confusion_matrix, precision_score, \\\n",
    "              recall_score, f1_score, precision_recall_curve, roc_curve, roc_auc_score, \\\n",
    "              auc, mean_squared_error\n",
    "from sklearn.metrics import confusion_matrix, precision_score, \\\n",
    "              recall_score, f1_score, precision_recall_curve, roc_curve, roc_auc_score, \\\n",
    "              auc, mean_squared_error, accuracy_score"
   ]
  },
  {
   "cell_type": "markdown",
   "id": "a395908e",
   "metadata": {},
   "source": [
    "# 1.We review the information. Preparing data for processing format"
   ]
  },
  {
   "cell_type": "code",
   "execution_count": 2,
   "id": "a4d546ce",
   "metadata": {},
   "outputs": [],
   "source": [
    "df = pd.read_csv('train.csv')\n",
    "\n",
    "df = df.drop(['CustomerID','ID','Name','TypeofLoan','SSN'], axis = 1)"
   ]
  },
  {
   "cell_type": "code",
   "execution_count": 3,
   "id": "33756def",
   "metadata": {},
   "outputs": [],
   "source": [
    "df = pp.myPipe.transform(df)"
   ]
  },
  {
   "cell_type": "code",
   "execution_count": 4,
   "id": "994f54dd",
   "metadata": {},
   "outputs": [
    {
     "data": {
      "text/html": [
       "<div>\n",
       "<style scoped>\n",
       "    .dataframe tbody tr th:only-of-type {\n",
       "        vertical-align: middle;\n",
       "    }\n",
       "\n",
       "    .dataframe tbody tr th {\n",
       "        vertical-align: top;\n",
       "    }\n",
       "\n",
       "    .dataframe thead th {\n",
       "        text-align: right;\n",
       "    }\n",
       "</style>\n",
       "<table border=\"1\" class=\"dataframe\">\n",
       "  <thead>\n",
       "    <tr style=\"text-align: right;\">\n",
       "      <th></th>\n",
       "      <th>Month</th>\n",
       "      <th>Age</th>\n",
       "      <th>AnnualIncome</th>\n",
       "      <th>MonthlyInhandSalary</th>\n",
       "      <th>NumBankAccounts</th>\n",
       "      <th>NumCreditCard</th>\n",
       "      <th>InterestRate</th>\n",
       "      <th>NumofLoan</th>\n",
       "      <th>Delayfromduedate</th>\n",
       "      <th>NumofDelayedPayment</th>\n",
       "      <th>...</th>\n",
       "      <th>Occupation_Scientist</th>\n",
       "      <th>Occupation_Teacher</th>\n",
       "      <th>Occupation_Writer</th>\n",
       "      <th>1</th>\n",
       "      <th>2</th>\n",
       "      <th>3</th>\n",
       "      <th>4</th>\n",
       "      <th>5</th>\n",
       "      <th>6</th>\n",
       "      <th>7</th>\n",
       "    </tr>\n",
       "  </thead>\n",
       "  <tbody>\n",
       "    <tr>\n",
       "      <th>0</th>\n",
       "      <td>0.0</td>\n",
       "      <td>23.0</td>\n",
       "      <td>19114.12</td>\n",
       "      <td>1824.843333</td>\n",
       "      <td>3</td>\n",
       "      <td>4</td>\n",
       "      <td>3</td>\n",
       "      <td>4.0</td>\n",
       "      <td>3</td>\n",
       "      <td>7.0</td>\n",
       "      <td>...</td>\n",
       "      <td>1</td>\n",
       "      <td>0</td>\n",
       "      <td>0</td>\n",
       "      <td>1.0</td>\n",
       "      <td>0.0</td>\n",
       "      <td>0.0</td>\n",
       "      <td>0.0</td>\n",
       "      <td>0.0</td>\n",
       "      <td>0.0</td>\n",
       "      <td>0.0</td>\n",
       "    </tr>\n",
       "    <tr>\n",
       "      <th>1</th>\n",
       "      <td>1.0</td>\n",
       "      <td>23.0</td>\n",
       "      <td>19114.12</td>\n",
       "      <td>0.000000</td>\n",
       "      <td>3</td>\n",
       "      <td>4</td>\n",
       "      <td>3</td>\n",
       "      <td>4.0</td>\n",
       "      <td>-1</td>\n",
       "      <td>0.0</td>\n",
       "      <td>...</td>\n",
       "      <td>1</td>\n",
       "      <td>0</td>\n",
       "      <td>0</td>\n",
       "      <td>0.0</td>\n",
       "      <td>1.0</td>\n",
       "      <td>0.0</td>\n",
       "      <td>0.0</td>\n",
       "      <td>0.0</td>\n",
       "      <td>0.0</td>\n",
       "      <td>0.0</td>\n",
       "    </tr>\n",
       "    <tr>\n",
       "      <th>2</th>\n",
       "      <td>2.0</td>\n",
       "      <td>0.0</td>\n",
       "      <td>19114.12</td>\n",
       "      <td>0.000000</td>\n",
       "      <td>3</td>\n",
       "      <td>4</td>\n",
       "      <td>3</td>\n",
       "      <td>4.0</td>\n",
       "      <td>3</td>\n",
       "      <td>7.0</td>\n",
       "      <td>...</td>\n",
       "      <td>1</td>\n",
       "      <td>0</td>\n",
       "      <td>0</td>\n",
       "      <td>0.0</td>\n",
       "      <td>0.0</td>\n",
       "      <td>1.0</td>\n",
       "      <td>0.0</td>\n",
       "      <td>0.0</td>\n",
       "      <td>0.0</td>\n",
       "      <td>0.0</td>\n",
       "    </tr>\n",
       "    <tr>\n",
       "      <th>3</th>\n",
       "      <td>3.0</td>\n",
       "      <td>23.0</td>\n",
       "      <td>19114.12</td>\n",
       "      <td>0.000000</td>\n",
       "      <td>3</td>\n",
       "      <td>4</td>\n",
       "      <td>3</td>\n",
       "      <td>4.0</td>\n",
       "      <td>5</td>\n",
       "      <td>4.0</td>\n",
       "      <td>...</td>\n",
       "      <td>1</td>\n",
       "      <td>0</td>\n",
       "      <td>0</td>\n",
       "      <td>0.0</td>\n",
       "      <td>0.0</td>\n",
       "      <td>0.0</td>\n",
       "      <td>1.0</td>\n",
       "      <td>0.0</td>\n",
       "      <td>0.0</td>\n",
       "      <td>0.0</td>\n",
       "    </tr>\n",
       "    <tr>\n",
       "      <th>4</th>\n",
       "      <td>4.0</td>\n",
       "      <td>23.0</td>\n",
       "      <td>19114.12</td>\n",
       "      <td>1824.843333</td>\n",
       "      <td>3</td>\n",
       "      <td>4</td>\n",
       "      <td>3</td>\n",
       "      <td>4.0</td>\n",
       "      <td>6</td>\n",
       "      <td>0.0</td>\n",
       "      <td>...</td>\n",
       "      <td>1</td>\n",
       "      <td>0</td>\n",
       "      <td>0</td>\n",
       "      <td>0.0</td>\n",
       "      <td>0.0</td>\n",
       "      <td>0.0</td>\n",
       "      <td>0.0</td>\n",
       "      <td>1.0</td>\n",
       "      <td>0.0</td>\n",
       "      <td>0.0</td>\n",
       "    </tr>\n",
       "    <tr>\n",
       "      <th>...</th>\n",
       "      <td>...</td>\n",
       "      <td>...</td>\n",
       "      <td>...</td>\n",
       "      <td>...</td>\n",
       "      <td>...</td>\n",
       "      <td>...</td>\n",
       "      <td>...</td>\n",
       "      <td>...</td>\n",
       "      <td>...</td>\n",
       "      <td>...</td>\n",
       "      <td>...</td>\n",
       "      <td>...</td>\n",
       "      <td>...</td>\n",
       "      <td>...</td>\n",
       "      <td>...</td>\n",
       "      <td>...</td>\n",
       "      <td>...</td>\n",
       "      <td>...</td>\n",
       "      <td>...</td>\n",
       "      <td>...</td>\n",
       "      <td>...</td>\n",
       "    </tr>\n",
       "    <tr>\n",
       "      <th>99995</th>\n",
       "      <td>3.0</td>\n",
       "      <td>25.0</td>\n",
       "      <td>39628.99</td>\n",
       "      <td>3359.415833</td>\n",
       "      <td>4</td>\n",
       "      <td>6</td>\n",
       "      <td>7</td>\n",
       "      <td>2.0</td>\n",
       "      <td>23</td>\n",
       "      <td>7.0</td>\n",
       "      <td>...</td>\n",
       "      <td>0</td>\n",
       "      <td>0</td>\n",
       "      <td>0</td>\n",
       "      <td>0.0</td>\n",
       "      <td>0.0</td>\n",
       "      <td>0.0</td>\n",
       "      <td>0.0</td>\n",
       "      <td>0.0</td>\n",
       "      <td>0.0</td>\n",
       "      <td>1.0</td>\n",
       "    </tr>\n",
       "    <tr>\n",
       "      <th>99996</th>\n",
       "      <td>4.0</td>\n",
       "      <td>25.0</td>\n",
       "      <td>39628.99</td>\n",
       "      <td>3359.415833</td>\n",
       "      <td>4</td>\n",
       "      <td>6</td>\n",
       "      <td>7</td>\n",
       "      <td>2.0</td>\n",
       "      <td>18</td>\n",
       "      <td>7.0</td>\n",
       "      <td>...</td>\n",
       "      <td>0</td>\n",
       "      <td>0</td>\n",
       "      <td>0</td>\n",
       "      <td>0.0</td>\n",
       "      <td>0.0</td>\n",
       "      <td>0.0</td>\n",
       "      <td>0.0</td>\n",
       "      <td>1.0</td>\n",
       "      <td>0.0</td>\n",
       "      <td>0.0</td>\n",
       "    </tr>\n",
       "    <tr>\n",
       "      <th>99997</th>\n",
       "      <td>5.0</td>\n",
       "      <td>25.0</td>\n",
       "      <td>39628.99</td>\n",
       "      <td>3359.415833</td>\n",
       "      <td>4</td>\n",
       "      <td>6</td>\n",
       "      <td>5729</td>\n",
       "      <td>2.0</td>\n",
       "      <td>27</td>\n",
       "      <td>6.0</td>\n",
       "      <td>...</td>\n",
       "      <td>0</td>\n",
       "      <td>0</td>\n",
       "      <td>0</td>\n",
       "      <td>0.0</td>\n",
       "      <td>0.0</td>\n",
       "      <td>0.0</td>\n",
       "      <td>0.0</td>\n",
       "      <td>0.0</td>\n",
       "      <td>0.0</td>\n",
       "      <td>1.0</td>\n",
       "    </tr>\n",
       "    <tr>\n",
       "      <th>99998</th>\n",
       "      <td>6.0</td>\n",
       "      <td>25.0</td>\n",
       "      <td>39628.99</td>\n",
       "      <td>3359.415833</td>\n",
       "      <td>4</td>\n",
       "      <td>6</td>\n",
       "      <td>7</td>\n",
       "      <td>2.0</td>\n",
       "      <td>20</td>\n",
       "      <td>0.0</td>\n",
       "      <td>...</td>\n",
       "      <td>0</td>\n",
       "      <td>0</td>\n",
       "      <td>0</td>\n",
       "      <td>0.0</td>\n",
       "      <td>1.0</td>\n",
       "      <td>0.0</td>\n",
       "      <td>0.0</td>\n",
       "      <td>0.0</td>\n",
       "      <td>0.0</td>\n",
       "      <td>0.0</td>\n",
       "    </tr>\n",
       "    <tr>\n",
       "      <th>99999</th>\n",
       "      <td>0.0</td>\n",
       "      <td>25.0</td>\n",
       "      <td>39628.99</td>\n",
       "      <td>3359.415833</td>\n",
       "      <td>4</td>\n",
       "      <td>6</td>\n",
       "      <td>7</td>\n",
       "      <td>2.0</td>\n",
       "      <td>18</td>\n",
       "      <td>6.0</td>\n",
       "      <td>...</td>\n",
       "      <td>0</td>\n",
       "      <td>0</td>\n",
       "      <td>0</td>\n",
       "      <td>0.0</td>\n",
       "      <td>0.0</td>\n",
       "      <td>0.0</td>\n",
       "      <td>0.0</td>\n",
       "      <td>0.0</td>\n",
       "      <td>1.0</td>\n",
       "      <td>0.0</td>\n",
       "    </tr>\n",
       "  </tbody>\n",
       "</table>\n",
       "<p>100000 rows × 45 columns</p>\n",
       "</div>"
      ],
      "text/plain": [
       "       Month   Age  AnnualIncome  MonthlyInhandSalary  NumBankAccounts  \\\n",
       "0        0.0  23.0      19114.12          1824.843333                3   \n",
       "1        1.0  23.0      19114.12             0.000000                3   \n",
       "2        2.0   0.0      19114.12             0.000000                3   \n",
       "3        3.0  23.0      19114.12             0.000000                3   \n",
       "4        4.0  23.0      19114.12          1824.843333                3   \n",
       "...      ...   ...           ...                  ...              ...   \n",
       "99995    3.0  25.0      39628.99          3359.415833                4   \n",
       "99996    4.0  25.0      39628.99          3359.415833                4   \n",
       "99997    5.0  25.0      39628.99          3359.415833                4   \n",
       "99998    6.0  25.0      39628.99          3359.415833                4   \n",
       "99999    0.0  25.0      39628.99          3359.415833                4   \n",
       "\n",
       "       NumCreditCard  InterestRate  NumofLoan  Delayfromduedate  \\\n",
       "0                  4             3        4.0                 3   \n",
       "1                  4             3        4.0                -1   \n",
       "2                  4             3        4.0                 3   \n",
       "3                  4             3        4.0                 5   \n",
       "4                  4             3        4.0                 6   \n",
       "...              ...           ...        ...               ...   \n",
       "99995              6             7        2.0                23   \n",
       "99996              6             7        2.0                18   \n",
       "99997              6          5729        2.0                27   \n",
       "99998              6             7        2.0                20   \n",
       "99999              6             7        2.0                18   \n",
       "\n",
       "       NumofDelayedPayment  ...  Occupation_Scientist  Occupation_Teacher  \\\n",
       "0                      7.0  ...                     1                   0   \n",
       "1                      0.0  ...                     1                   0   \n",
       "2                      7.0  ...                     1                   0   \n",
       "3                      4.0  ...                     1                   0   \n",
       "4                      0.0  ...                     1                   0   \n",
       "...                    ...  ...                   ...                 ...   \n",
       "99995                  7.0  ...                     0                   0   \n",
       "99996                  7.0  ...                     0                   0   \n",
       "99997                  6.0  ...                     0                   0   \n",
       "99998                  0.0  ...                     0                   0   \n",
       "99999                  6.0  ...                     0                   0   \n",
       "\n",
       "       Occupation_Writer    1    2    3    4    5    6    7  \n",
       "0                      0  1.0  0.0  0.0  0.0  0.0  0.0  0.0  \n",
       "1                      0  0.0  1.0  0.0  0.0  0.0  0.0  0.0  \n",
       "2                      0  0.0  0.0  1.0  0.0  0.0  0.0  0.0  \n",
       "3                      0  0.0  0.0  0.0  1.0  0.0  0.0  0.0  \n",
       "4                      0  0.0  0.0  0.0  0.0  1.0  0.0  0.0  \n",
       "...                  ...  ...  ...  ...  ...  ...  ...  ...  \n",
       "99995                  0  0.0  0.0  0.0  0.0  0.0  0.0  1.0  \n",
       "99996                  0  0.0  0.0  0.0  0.0  1.0  0.0  0.0  \n",
       "99997                  0  0.0  0.0  0.0  0.0  0.0  0.0  1.0  \n",
       "99998                  0  0.0  1.0  0.0  0.0  0.0  0.0  0.0  \n",
       "99999                  0  0.0  0.0  0.0  0.0  0.0  1.0  0.0  \n",
       "\n",
       "[100000 rows x 45 columns]"
      ]
     },
     "execution_count": 4,
     "metadata": {},
     "output_type": "execute_result"
    }
   ],
   "source": [
    "df"
   ]
  },
  {
   "cell_type": "code",
   "execution_count": 5,
   "id": "667b3719",
   "metadata": {},
   "outputs": [],
   "source": [
    "X = df.drop(['CreditScore','PaymentBehaviour'], axis = 1)"
   ]
  },
  {
   "cell_type": "code",
   "execution_count": 6,
   "id": "22779af9",
   "metadata": {},
   "outputs": [],
   "source": [
    "Y = df['CreditScore']"
   ]
  },
  {
   "cell_type": "code",
   "execution_count": 7,
   "id": "49595f0e",
   "metadata": {},
   "outputs": [
    {
     "data": {
      "text/plain": [
       "0    71002\n",
       "1    28998\n",
       "Name: CreditScore, dtype: int64"
      ]
     },
     "execution_count": 7,
     "metadata": {},
     "output_type": "execute_result"
    }
   ],
   "source": [
    "Y.value_counts()"
   ]
  },
  {
   "cell_type": "markdown",
   "id": "213da451",
   "metadata": {},
   "source": [
    "# scaling and standardization of values"
   ]
  },
  {
   "cell_type": "code",
   "execution_count": 8,
   "id": "96fa2378",
   "metadata": {},
   "outputs": [],
   "source": [
    "from sklearn.preprocessing import StandardScaler\n",
    "mms = StandardScaler()\n",
    "X = mms.fit_transform(X)\n",
    "\n",
    "#from sklearn.preprocessing import MinMaxScaler\n",
    "#mms = MinMaxScaler()\n",
    "#X = mms.fit_transform(X)"
   ]
  },
  {
   "cell_type": "raw",
   "id": "6069621d",
   "metadata": {},
   "source": [
    "Standardize features by removing the mean and scaling to unit variance.\n",
    "Standardization of a dataset is a common requirement for many machine learning estimators: \n",
    "they might behave badly if the individual features do not more or less look like standard normally distributed data.\n",
    "\n",
    "Method fit_transform:Fits transformer to X and y with optional parameters fit_params and returns a transformed version of X."
   ]
  },
  {
   "cell_type": "markdown",
   "id": "9933e994",
   "metadata": {},
   "source": [
    "# Создание проверочного набора (Create a validation set)"
   ]
  },
  {
   "cell_type": "code",
   "execution_count": 11,
   "id": "3e57917c",
   "metadata": {},
   "outputs": [],
   "source": [
    "from sklearn.model_selection import train_test_split\n",
    "\n",
    "X_train, X_test, Y_train,  Y_test = train_test_split(X, Y, test_size = 0.5, random_state = 0)"
   ]
  },
  {
   "cell_type": "code",
   "execution_count": 12,
   "id": "76d74222",
   "metadata": {},
   "outputs": [
    {
     "data": {
      "text/plain": [
       "((50000, 43), (50000,))"
      ]
     },
     "execution_count": 12,
     "metadata": {},
     "output_type": "execute_result"
    }
   ],
   "source": [
    "X_train.shape, Y_train.shape"
   ]
  },
  {
   "cell_type": "code",
   "execution_count": 43,
   "id": "34368668",
   "metadata": {},
   "outputs": [
    {
     "data": {
      "text/plain": [
       "((55932, 43), (55932,))"
      ]
     },
     "execution_count": 43,
     "metadata": {},
     "output_type": "execute_result"
    }
   ],
   "source": [
    "#X_train.shape, Y_train.shape"
   ]
  },
  {
   "cell_type": "raw",
   "id": "4097e04b",
   "metadata": {},
   "source": [
    "The train_test_split function of the sklearn. model_selection package in Python \n",
    "splits arrays or matrices into random subsets for train and test data, respectively."
   ]
  },
  {
   "cell_type": "markdown",
   "id": "79eb3527",
   "metadata": {},
   "source": [
    "# a. ML With Teacher"
   ]
  },
  {
   "cell_type": "code",
   "execution_count": null,
   "id": "2b480c94",
   "metadata": {},
   "outputs": [],
   "source": []
  },
  {
   "cell_type": "code",
   "execution_count": null,
   "id": "45a1f4ac",
   "metadata": {},
   "outputs": [],
   "source": []
  },
  {
   "cell_type": "markdown",
   "id": "1e2a57f3",
   "metadata": {},
   "source": [
    "# Classification with voting"
   ]
  },
  {
   "cell_type": "raw",
   "id": "4f4e70c3",
   "metadata": {},
   "source": [
    "A Voting Classifier is a machine learning model that trains on an ensemble of numerous models \n",
    "and predicts an output (class) based on their highest probability of chosen class as the output.\n",
    "It simply aggregates the findings of each classifier passed into Voting Classifier \n",
    "and predicts the output class based on the highest majority of voting.\n",
    "The idea is instead of creating separate dedicated models and finding the accuracy for each them,\n",
    "we create a single model which trains by these models and predicts output based on their combined majority \n",
    "of voting for each output class."
   ]
  },
  {
   "cell_type": "raw",
   "id": "63dd7d31",
   "metadata": {},
   "source": [
    "Hard Voting: In hard voting, the predicted output class is a class with the highest majority of votes \n",
    "i.e the class which had the highest probability of being predicted by each of the classifiers. \n",
    "Suppose three classifiers predicted the output class(A, A, B), so here the majority predicted A as output. \n",
    "Hence A will be the final prediction."
   ]
  },
  {
   "cell_type": "markdown",
   "id": "87d7ef25",
   "metadata": {},
   "source": [
    "# Hard Voting"
   ]
  },
  {
   "cell_type": "code",
   "execution_count": 44,
   "id": "8e96110b",
   "metadata": {},
   "outputs": [],
   "source": [
    "#X_train, X_test, Y_train, Y_test = train_test_split(X, Y, random_state=0)"
   ]
  },
  {
   "cell_type": "code",
   "execution_count": 13,
   "id": "eb0aac85",
   "metadata": {},
   "outputs": [],
   "source": [
    "from sklearn.ensemble import RandomForestClassifier\n",
    "from sklearn.ensemble import VotingClassifier\n",
    "from sklearn.linear_model import LogisticRegression\n",
    "from sklearn.svm import SVC\n",
    "\n",
    "#Support vector machines (SVMs) \n",
    "#are a set of supervised learning methods used for classification, regression and outliers detection.\n",
    "\n",
    "\n",
    "# Жесткое голосование\n",
    "#Hard Voting\n",
    "log_reg = LogisticRegression(random_state = 0)\n",
    "rnd_clf = RandomForestClassifier(random_state = 0)\n",
    "svm_clf = SVC(random_state = 0)\n",
    "\n",
    "voting_clf = VotingClassifier(\n",
    "    estimators=[('lr', log_reg), ('rf', rnd_clf), ('svc', svm_clf)],\n",
    "    voting='hard')"
   ]
  },
  {
   "cell_type": "code",
   "execution_count": 14,
   "id": "b8e1e4ce",
   "metadata": {},
   "outputs": [
    {
     "data": {
      "text/plain": [
       "VotingClassifier(estimators=[('lr', LogisticRegression(random_state=0)),\n",
       "                             ('rf', RandomForestClassifier(random_state=0)),\n",
       "                             ('svc', SVC(random_state=0))])"
      ]
     },
     "execution_count": 14,
     "metadata": {},
     "output_type": "execute_result"
    }
   ],
   "source": [
    "voting_clf.fit(X_train, Y_train)"
   ]
  },
  {
   "cell_type": "code",
   "execution_count": null,
   "id": "624bbfa5",
   "metadata": {},
   "outputs": [],
   "source": [
    "#формируем кортеж из всех наших классификаторов, потом их перебираем,тренируем их,делаем предсказание на тестовом наборе и печататем\n",
    "#we form a tuple of all our classifiers , then iterate over them, train them, make a prediction on the test set and print them\n",
    "for clf in (log_reg, rnd_clf, svm_clf, voting_clf):\n",
    "    clf.fit(X_train, Y_train)\n",
    "    y_pred = clf.predict(X_test)\n",
    "print(clf.__class__.__name__, accuracy_score(Y_test, y_pred))"
   ]
  },
  {
   "cell_type": "raw",
   "id": "3faeb216",
   "metadata": {},
   "source": [
    "Soft Voting: In soft voting, the output class is the prediction based on the average \n",
    "of probability given to that class. Suppose given some input to three models, \n",
    "the prediction probability for class A = (0.30, 0.47, 0.53) and B = (0.20, 0.32, 0.40). \n",
    "So the average for class A is 0.4333 and B is 0.3067, the winner is clearly class A\n",
    "because it had the highest probability averaged by each classifier."
   ]
  },
  {
   "cell_type": "code",
   "execution_count": null,
   "id": "ccbeda42",
   "metadata": {},
   "outputs": [],
   "source": [
    "# Мягкое голосование,считаются вероятности и потом складываются. НО: ВАЖНО,регрессоры должны уметь выдавать вероятность\n",
    "#не все классификаторы умеют это делать.\n",
    "\n",
    "# Soft voting, probabilities are considered and then added up. BUT: IMPORTANT, regressors must be able to output the probability\n",
    "# not all classifiers can do this.\n",
    "\n",
    "log_reg = LogisticRegression()\n",
    "rnd_clf = RandomForestClassifier()\n",
    "svm_clf = SVC(probability=True)\n",
    "\n",
    "voting_clf = VotingClassifier(\n",
    "    estimators=[('lr', log_clf), ('rf', rnd_clf), ('svc', svm_clf)],\n",
    "    voting='soft')\n",
    "voting_clf.fit(X_train, Y_train)"
   ]
  },
  {
   "cell_type": "code",
   "execution_count": null,
   "id": "436754ac",
   "metadata": {},
   "outputs": [],
   "source": [
    "for clf in (log_reg, rnd_clf, svm_clf, voting_clf):\n",
    "    clf.fit(X_train, Y_train)\n",
    "    y_pred = clf.predict(X_test)\n",
    "print(clf.__class__.__name__, accuracy_score(Y_test, y_pred))"
   ]
  },
  {
   "cell_type": "code",
   "execution_count": null,
   "id": "4eb7fa23",
   "metadata": {},
   "outputs": [],
   "source": []
  },
  {
   "cell_type": "code",
   "execution_count": null,
   "id": "2641e988",
   "metadata": {},
   "outputs": [],
   "source": []
  },
  {
   "cell_type": "markdown",
   "id": "12e47cbf",
   "metadata": {},
   "source": [
    "# Bagging"
   ]
  },
  {
   "cell_type": "raw",
   "id": "f1391002",
   "metadata": {},
   "source": [
    "A Bagging classifier is an ensemble meta-estimator that fits base classifiers each on \n",
    "random subsets of the original dataset and then aggregate their individual predictions \n",
    "(either by voting or by averaging) to form a final prediction."
   ]
  },
  {
   "cell_type": "code",
   "execution_count": null,
   "id": "02e630b3",
   "metadata": {},
   "outputs": [],
   "source": [
    "X_train, X_test, Y_train, Y_test = train_test_split(X, Y, random_state=0)"
   ]
  },
  {
   "cell_type": "code",
   "execution_count": null,
   "id": "3da212d3",
   "metadata": {},
   "outputs": [],
   "source": [
    "from sklearn.ensemble import BaggingClassifier\n",
    "from sklearn.tree import DecisionTreeClassifier\n",
    "\n",
    "bag_clf = BaggingClassifier(\n",
    "    DecisionTreeClassifier(random_state=0), n_estimators=500,\n",
    "    max_samples=100, bootstrap=True, n_jobs=-1, random_state=0)\n",
    "bag_clf.fit(X_train, Y_train)\n",
    "y_pred = bag_clf.predict(X_test)"
   ]
  },
  {
   "cell_type": "code",
   "execution_count": null,
   "id": "0027c4a2",
   "metadata": {},
   "outputs": [],
   "source": [
    "print(accuracy_score(Y_test, y_pred))"
   ]
  },
  {
   "cell_type": "code",
   "execution_count": null,
   "id": "6dd16b44",
   "metadata": {},
   "outputs": [],
   "source": [
    "tree_clf = DecisionTreeClassifier(random_state=0)\n",
    "tree_clf.fit(X_train, Y_train)\n",
    "y_pred_tree = tree_clf.predict(X_test)\n",
    "print(accuracy_score(Y_test, y_pred_tree))"
   ]
  },
  {
   "cell_type": "code",
   "execution_count": null,
   "id": "cab21cd3",
   "metadata": {},
   "outputs": [],
   "source": []
  }
 ],
 "metadata": {
  "kernelspec": {
   "display_name": "Python 3 (ipykernel)",
   "language": "python",
   "name": "python3"
  },
  "language_info": {
   "codemirror_mode": {
    "name": "ipython",
    "version": 3
   },
   "file_extension": ".py",
   "mimetype": "text/x-python",
   "name": "python",
   "nbconvert_exporter": "python",
   "pygments_lexer": "ipython3",
   "version": "3.9.7"
  }
 },
 "nbformat": 4,
 "nbformat_minor": 5
}
