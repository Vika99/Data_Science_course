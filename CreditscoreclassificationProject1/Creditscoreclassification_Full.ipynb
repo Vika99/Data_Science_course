{
 "cells": [
  {
   "cell_type": "code",
   "execution_count": null,
   "id": "a1bea8cb",
   "metadata": {},
   "outputs": [],
   "source": []
  },
  {
   "cell_type": "raw",
   "id": "5d8b709d",
   "metadata": {},
   "source": [
    "# CHANGE VIKA THE DESCRIPTION \n",
    "About Dataset\n",
    "Problem Statement\n",
    "You are working as a data scientist in a global finance company. Over the years, the company has collected basic bank details and gathered a lot of credit-related information. The management wants to build an intelligent system to segregate the people into credit score brackets to reduce the manual efforts.\n",
    "\n",
    "Task\n",
    "Given a person’s credit-related information, build a machine learning model that can classify the credit score.\n",
    "\n"
   ]
  },
  {
   "cell_type": "code",
   "execution_count": null,
   "id": "22fe329d",
   "metadata": {},
   "outputs": [],
   "source": []
  },
  {
   "cell_type": "code",
   "execution_count": 259,
   "id": "7a7abf99",
   "metadata": {},
   "outputs": [],
   "source": [
    "import pandas as pd\n",
    "from matplotlib import pyplot as plt\n",
    "import seaborn as sns\n",
    "%matplotlib inline\n",
    "import numpy as np\n",
    "from sklearn.metrics import confusion_matrix, precision_score, \\\n",
    "              recall_score, f1_score, precision_recall_curve, roc_curve, roc_auc_score, \\\n",
    "              auc, mean_squared_error\n",
    "from sklearn.metrics import confusion_matrix, precision_score, \\\n",
    "              recall_score, f1_score, precision_recall_curve, roc_curve, roc_auc_score, \\\n",
    "              auc, mean_squared_error, accuracy_score"
   ]
  },
  {
   "cell_type": "markdown",
   "id": "a395908e",
   "metadata": {},
   "source": [
    "# 1.We review the information. Preparing data for processing format"
   ]
  },
  {
   "cell_type": "code",
   "execution_count": 692,
   "id": "9215f1ac",
   "metadata": {},
   "outputs": [],
   "source": [
    "# Загрузка данных / chunksize=None\n",
    "df = pd.read_csv('train.csv')"
   ]
  },
  {
   "cell_type": "code",
   "execution_count": 693,
   "id": "02c07c56",
   "metadata": {},
   "outputs": [
    {
     "data": {
      "text/html": [
       "<div>\n",
       "<style scoped>\n",
       "    .dataframe tbody tr th:only-of-type {\n",
       "        vertical-align: middle;\n",
       "    }\n",
       "\n",
       "    .dataframe tbody tr th {\n",
       "        vertical-align: top;\n",
       "    }\n",
       "\n",
       "    .dataframe thead th {\n",
       "        text-align: right;\n",
       "    }\n",
       "</style>\n",
       "<table border=\"1\" class=\"dataframe\">\n",
       "  <thead>\n",
       "    <tr style=\"text-align: right;\">\n",
       "      <th></th>\n",
       "      <th>ID</th>\n",
       "      <th>CustomerID</th>\n",
       "      <th>Month</th>\n",
       "      <th>Name</th>\n",
       "      <th>Age</th>\n",
       "      <th>SSN</th>\n",
       "      <th>Occupation</th>\n",
       "      <th>AnnualIncome</th>\n",
       "      <th>MonthlyInhandSalary</th>\n",
       "      <th>NumBankAccounts</th>\n",
       "      <th>...</th>\n",
       "      <th>CreditMix</th>\n",
       "      <th>OutstandingDebt</th>\n",
       "      <th>CreditUtilizationRatio</th>\n",
       "      <th>PaymentofMinAmount</th>\n",
       "      <th>TotalEMIpermonth</th>\n",
       "      <th>Amountinvestedmonthly</th>\n",
       "      <th>PaymentBehaviour</th>\n",
       "      <th>MonthlyBalance</th>\n",
       "      <th>CreditScore</th>\n",
       "      <th>CreditHistoryYears</th>\n",
       "    </tr>\n",
       "  </thead>\n",
       "  <tbody>\n",
       "    <tr>\n",
       "      <th>0</th>\n",
       "      <td>0x1602</td>\n",
       "      <td>CUS0xd40</td>\n",
       "      <td>January</td>\n",
       "      <td>Aaron Maashoh</td>\n",
       "      <td>23.0</td>\n",
       "      <td>821-00-0265</td>\n",
       "      <td>Scientist</td>\n",
       "      <td>19114.12</td>\n",
       "      <td>1824.843333</td>\n",
       "      <td>3</td>\n",
       "      <td>...</td>\n",
       "      <td>NaN</td>\n",
       "      <td>809.98</td>\n",
       "      <td>26.822620</td>\n",
       "      <td>No</td>\n",
       "      <td>49.574949</td>\n",
       "      <td>80.415295</td>\n",
       "      <td>HighspentSmallvaluepayments</td>\n",
       "      <td>312.494089</td>\n",
       "      <td>Good</td>\n",
       "      <td>22.0</td>\n",
       "    </tr>\n",
       "    <tr>\n",
       "      <th>1</th>\n",
       "      <td>0x1603</td>\n",
       "      <td>CUS0xd40</td>\n",
       "      <td>February</td>\n",
       "      <td>Aaron Maashoh</td>\n",
       "      <td>23.0</td>\n",
       "      <td>821-00-0265</td>\n",
       "      <td>Scientist</td>\n",
       "      <td>19114.12</td>\n",
       "      <td>NaN</td>\n",
       "      <td>3</td>\n",
       "      <td>...</td>\n",
       "      <td>Good</td>\n",
       "      <td>809.98</td>\n",
       "      <td>31.944960</td>\n",
       "      <td>No</td>\n",
       "      <td>49.574949</td>\n",
       "      <td>118.280222</td>\n",
       "      <td>LowspentLargevaluepayments</td>\n",
       "      <td>284.629163</td>\n",
       "      <td>Good</td>\n",
       "      <td>NaN</td>\n",
       "    </tr>\n",
       "    <tr>\n",
       "      <th>2</th>\n",
       "      <td>0x1604</td>\n",
       "      <td>CUS0xd40</td>\n",
       "      <td>March</td>\n",
       "      <td>Aaron Maashoh</td>\n",
       "      <td>NaN</td>\n",
       "      <td>821-00-0265</td>\n",
       "      <td>Scientist</td>\n",
       "      <td>19114.12</td>\n",
       "      <td>NaN</td>\n",
       "      <td>3</td>\n",
       "      <td>...</td>\n",
       "      <td>Good</td>\n",
       "      <td>809.98</td>\n",
       "      <td>28.609352</td>\n",
       "      <td>No</td>\n",
       "      <td>49.574949</td>\n",
       "      <td>81.699521</td>\n",
       "      <td>LowspentMediumvaluepayments</td>\n",
       "      <td>331.209863</td>\n",
       "      <td>Good</td>\n",
       "      <td>22.0</td>\n",
       "    </tr>\n",
       "    <tr>\n",
       "      <th>3</th>\n",
       "      <td>0x1605</td>\n",
       "      <td>CUS0xd40</td>\n",
       "      <td>April</td>\n",
       "      <td>Aaron Maashoh</td>\n",
       "      <td>23.0</td>\n",
       "      <td>821-00-0265</td>\n",
       "      <td>Scientist</td>\n",
       "      <td>19114.12</td>\n",
       "      <td>NaN</td>\n",
       "      <td>3</td>\n",
       "      <td>...</td>\n",
       "      <td>Good</td>\n",
       "      <td>809.98</td>\n",
       "      <td>31.377862</td>\n",
       "      <td>No</td>\n",
       "      <td>49.574949</td>\n",
       "      <td>199.458074</td>\n",
       "      <td>LowspentSmallvaluepayments</td>\n",
       "      <td>223.451310</td>\n",
       "      <td>Good</td>\n",
       "      <td>22.0</td>\n",
       "    </tr>\n",
       "    <tr>\n",
       "      <th>4</th>\n",
       "      <td>0x1606</td>\n",
       "      <td>CUS0xd40</td>\n",
       "      <td>May</td>\n",
       "      <td>Aaron Maashoh</td>\n",
       "      <td>23.0</td>\n",
       "      <td>821-00-0265</td>\n",
       "      <td>Scientist</td>\n",
       "      <td>19114.12</td>\n",
       "      <td>1824.843333</td>\n",
       "      <td>3</td>\n",
       "      <td>...</td>\n",
       "      <td>Good</td>\n",
       "      <td>809.98</td>\n",
       "      <td>24.797347</td>\n",
       "      <td>No</td>\n",
       "      <td>49.574949</td>\n",
       "      <td>41.420153</td>\n",
       "      <td>HighspentMediumvaluepayments</td>\n",
       "      <td>341.489231</td>\n",
       "      <td>Good</td>\n",
       "      <td>22.0</td>\n",
       "    </tr>\n",
       "  </tbody>\n",
       "</table>\n",
       "<p>5 rows × 28 columns</p>\n",
       "</div>"
      ],
      "text/plain": [
       "       ID CustomerID     Month           Name   Age          SSN Occupation  \\\n",
       "0  0x1602   CUS0xd40   January  Aaron Maashoh  23.0  821-00-0265  Scientist   \n",
       "1  0x1603   CUS0xd40  February  Aaron Maashoh  23.0  821-00-0265  Scientist   \n",
       "2  0x1604   CUS0xd40     March  Aaron Maashoh   NaN  821-00-0265  Scientist   \n",
       "3  0x1605   CUS0xd40     April  Aaron Maashoh  23.0  821-00-0265  Scientist   \n",
       "4  0x1606   CUS0xd40       May  Aaron Maashoh  23.0  821-00-0265  Scientist   \n",
       "\n",
       "   AnnualIncome  MonthlyInhandSalary  NumBankAccounts  ...  CreditMix  \\\n",
       "0      19114.12          1824.843333                3  ...        NaN   \n",
       "1      19114.12                  NaN                3  ...       Good   \n",
       "2      19114.12                  NaN                3  ...       Good   \n",
       "3      19114.12                  NaN                3  ...       Good   \n",
       "4      19114.12          1824.843333                3  ...       Good   \n",
       "\n",
       "   OutstandingDebt  CreditUtilizationRatio PaymentofMinAmount  \\\n",
       "0           809.98               26.822620                 No   \n",
       "1           809.98               31.944960                 No   \n",
       "2           809.98               28.609352                 No   \n",
       "3           809.98               31.377862                 No   \n",
       "4           809.98               24.797347                 No   \n",
       "\n",
       "   TotalEMIpermonth  Amountinvestedmonthly              PaymentBehaviour  \\\n",
       "0         49.574949              80.415295   HighspentSmallvaluepayments   \n",
       "1         49.574949             118.280222    LowspentLargevaluepayments   \n",
       "2         49.574949              81.699521   LowspentMediumvaluepayments   \n",
       "3         49.574949             199.458074    LowspentSmallvaluepayments   \n",
       "4         49.574949              41.420153  HighspentMediumvaluepayments   \n",
       "\n",
       "   MonthlyBalance CreditScore  CreditHistoryYears  \n",
       "0      312.494089        Good                22.0  \n",
       "1      284.629163        Good                 NaN  \n",
       "2      331.209863        Good                22.0  \n",
       "3      223.451310        Good                22.0  \n",
       "4      341.489231        Good                22.0  \n",
       "\n",
       "[5 rows x 28 columns]"
      ]
     },
     "execution_count": 693,
     "metadata": {},
     "output_type": "execute_result"
    }
   ],
   "source": [
    "df.head()"
   ]
  },
  {
   "cell_type": "code",
   "execution_count": null,
   "id": "c428e9a9",
   "metadata": {},
   "outputs": [],
   "source": []
  },
  {
   "cell_type": "code",
   "execution_count": null,
   "id": "d9d6ed4f",
   "metadata": {},
   "outputs": [],
   "source": []
  },
  {
   "cell_type": "code",
   "execution_count": 694,
   "id": "477eb19b",
   "metadata": {},
   "outputs": [],
   "source": [
    "#remove empty values\n",
    "df= df.fillna(0)"
   ]
  },
  {
   "cell_type": "code",
   "execution_count": 695,
   "id": "c94bd124",
   "metadata": {},
   "outputs": [
    {
     "data": {
      "text/plain": [
       "(100000, 28)"
      ]
     },
     "execution_count": 695,
     "metadata": {},
     "output_type": "execute_result"
    }
   ],
   "source": [
    "df.shape"
   ]
  },
  {
   "cell_type": "code",
   "execution_count": 696,
   "id": "4f0c4ad8",
   "metadata": {},
   "outputs": [
    {
     "name": "stdout",
     "output_type": "stream",
     "text": [
      "<class 'pandas.core.frame.DataFrame'>\n",
      "RangeIndex: 100000 entries, 0 to 99999\n",
      "Data columns (total 28 columns):\n",
      " #   Column                  Non-Null Count   Dtype  \n",
      "---  ------                  --------------   -----  \n",
      " 0   ID                      100000 non-null  object \n",
      " 1   CustomerID              100000 non-null  object \n",
      " 2   Month                   100000 non-null  object \n",
      " 3   Name                    100000 non-null  object \n",
      " 4   Age                     100000 non-null  float64\n",
      " 5   SSN                     100000 non-null  object \n",
      " 6   Occupation              100000 non-null  object \n",
      " 7   AnnualIncome            100000 non-null  float64\n",
      " 8   MonthlyInhandSalary     100000 non-null  float64\n",
      " 9   NumBankAccounts         100000 non-null  int64  \n",
      " 10  NumCreditCard           100000 non-null  int64  \n",
      " 11  InterestRate            100000 non-null  int64  \n",
      " 12  NumofLoan               100000 non-null  float64\n",
      " 13  TypeofLoan              100000 non-null  object \n",
      " 14  Delayfromduedate        100000 non-null  int64  \n",
      " 15  NumofDelayedPayment     100000 non-null  float64\n",
      " 16  ChangedCreditLimit      100000 non-null  float64\n",
      " 17  NumCreditInquiries      100000 non-null  float64\n",
      " 18  CreditMix               100000 non-null  object \n",
      " 19  OutstandingDebt         100000 non-null  float64\n",
      " 20  CreditUtilizationRatio  100000 non-null  float64\n",
      " 21  PaymentofMinAmount      100000 non-null  object \n",
      " 22  TotalEMIpermonth        100000 non-null  float64\n",
      " 23  Amountinvestedmonthly   100000 non-null  float64\n",
      " 24  PaymentBehaviour        100000 non-null  object \n",
      " 25  MonthlyBalance          100000 non-null  float64\n",
      " 26  CreditScore             100000 non-null  object \n",
      " 27  CreditHistoryYears      100000 non-null  float64\n",
      "dtypes: float64(13), int64(4), object(11)\n",
      "memory usage: 21.4+ MB\n"
     ]
    }
   ],
   "source": [
    "df.info()"
   ]
  },
  {
   "cell_type": "code",
   "execution_count": 697,
   "id": "5e83a5ae",
   "metadata": {},
   "outputs": [
    {
     "data": {
      "text/plain": [
       "Standard    53174\n",
       "Poor        28998\n",
       "Good        17828\n",
       "Name: CreditScore, dtype: int64"
      ]
     },
     "execution_count": 697,
     "metadata": {},
     "output_type": "execute_result"
    }
   ],
   "source": [
    "df['CreditScore'].value_counts()"
   ]
  },
  {
   "cell_type": "code",
   "execution_count": 698,
   "id": "16741e62",
   "metadata": {},
   "outputs": [
    {
     "data": {
      "text/plain": [
       "0                 9985\n",
       "Stevex              44\n",
       "Langep              44\n",
       "Jessicad            39\n",
       "Vaughanl            39\n",
       "                  ... \n",
       "Robin Pomeroyz       4\n",
       "Matt Scuffhamk       4\n",
       "Julieno              4\n",
       "Bavierq              4\n",
       "Timothyl             3\n",
       "Name: Name, Length: 10140, dtype: int64"
      ]
     },
     "execution_count": 698,
     "metadata": {},
     "output_type": "execute_result"
    }
   ],
   "source": [
    "df['Name'].value_counts()"
   ]
  },
  {
   "cell_type": "code",
   "execution_count": 699,
   "id": "0fa09c27",
   "metadata": {},
   "outputs": [
    {
     "data": {
      "text/plain": [
       "0               7062\n",
       "Lawyer          6575\n",
       "Architect       6355\n",
       "Engineer        6350\n",
       "Scientist       6299\n",
       "Mechanic        6291\n",
       "Accountant      6271\n",
       "Developer       6235\n",
       "MediaManager    6232\n",
       "Teacher         6215\n",
       "Entrepreneur    6174\n",
       "Doctor          6087\n",
       "Journalist      6085\n",
       "Manager         5973\n",
       "Musician        5911\n",
       "Writer          5885\n",
       "Name: Occupation, dtype: int64"
      ]
     },
     "execution_count": 699,
     "metadata": {},
     "output_type": "execute_result"
    }
   ],
   "source": [
    "df['Occupation'].value_counts()"
   ]
  },
  {
   "cell_type": "code",
   "execution_count": 700,
   "id": "93de62ee",
   "metadata": {},
   "outputs": [
    {
     "data": {
      "text/plain": [
       "LowspentSmallvaluepayments      25513\n",
       "HighspentMediumvaluepayments    17540\n",
       "LowspentMediumvaluepayments     13861\n",
       "HighspentLargevaluepayments     13721\n",
       "HighspentSmallvaluepayments     11340\n",
       "LowspentLargevaluepayments      10425\n",
       "0                                7600\n",
       "Name: PaymentBehaviour, dtype: int64"
      ]
     },
     "execution_count": 700,
     "metadata": {},
     "output_type": "execute_result"
    }
   ],
   "source": [
    "df['PaymentBehaviour'].value_counts()"
   ]
  },
  {
   "cell_type": "code",
   "execution_count": 701,
   "id": "70905b90",
   "metadata": {},
   "outputs": [
    {
     "data": {
      "text/html": [
       "<div>\n",
       "<style scoped>\n",
       "    .dataframe tbody tr th:only-of-type {\n",
       "        vertical-align: middle;\n",
       "    }\n",
       "\n",
       "    .dataframe tbody tr th {\n",
       "        vertical-align: top;\n",
       "    }\n",
       "\n",
       "    .dataframe thead th {\n",
       "        text-align: right;\n",
       "    }\n",
       "</style>\n",
       "<table border=\"1\" class=\"dataframe\">\n",
       "  <thead>\n",
       "    <tr style=\"text-align: right;\">\n",
       "      <th></th>\n",
       "      <th>ID</th>\n",
       "      <th>CustomerID</th>\n",
       "      <th>Month</th>\n",
       "      <th>Name</th>\n",
       "      <th>Age</th>\n",
       "      <th>SSN</th>\n",
       "      <th>Occupation</th>\n",
       "      <th>AnnualIncome</th>\n",
       "      <th>MonthlyInhandSalary</th>\n",
       "      <th>NumBankAccounts</th>\n",
       "      <th>...</th>\n",
       "      <th>CreditMix</th>\n",
       "      <th>OutstandingDebt</th>\n",
       "      <th>CreditUtilizationRatio</th>\n",
       "      <th>PaymentofMinAmount</th>\n",
       "      <th>TotalEMIpermonth</th>\n",
       "      <th>Amountinvestedmonthly</th>\n",
       "      <th>PaymentBehaviour</th>\n",
       "      <th>MonthlyBalance</th>\n",
       "      <th>CreditScore</th>\n",
       "      <th>CreditHistoryYears</th>\n",
       "    </tr>\n",
       "  </thead>\n",
       "  <tbody>\n",
       "    <tr>\n",
       "      <th>9376</th>\n",
       "      <td>0x4cf2</td>\n",
       "      <td>CUS0x3655</td>\n",
       "      <td>January</td>\n",
       "      <td>Ransdellw</td>\n",
       "      <td>29.0</td>\n",
       "      <td>512-00-8324</td>\n",
       "      <td>Lawyer</td>\n",
       "      <td>177907.720</td>\n",
       "      <td>14712.643330</td>\n",
       "      <td>0</td>\n",
       "      <td>...</td>\n",
       "      <td>Good</td>\n",
       "      <td>685.01</td>\n",
       "      <td>39.432897</td>\n",
       "      <td>No</td>\n",
       "      <td>0.000000</td>\n",
       "      <td>10000.000000</td>\n",
       "      <td>HighspentLargevaluepayments</td>\n",
       "      <td>1.602041e+03</td>\n",
       "      <td>Poor</td>\n",
       "      <td>30.0</td>\n",
       "    </tr>\n",
       "    <tr>\n",
       "      <th>7475</th>\n",
       "      <td>0x41cd</td>\n",
       "      <td>CUS0x6479</td>\n",
       "      <td>April</td>\n",
       "      <td>Oranw</td>\n",
       "      <td>33.0</td>\n",
       "      <td>219-01-0237</td>\n",
       "      <td>Accountant</td>\n",
       "      <td>177887.800</td>\n",
       "      <td>14828.983330</td>\n",
       "      <td>4</td>\n",
       "      <td>...</td>\n",
       "      <td>Good</td>\n",
       "      <td>925.47</td>\n",
       "      <td>44.783892</td>\n",
       "      <td>No</td>\n",
       "      <td>0.000000</td>\n",
       "      <td>146.609398</td>\n",
       "      <td>HighspentLargevaluepayments</td>\n",
       "      <td>1.576289e+03</td>\n",
       "      <td>Standard</td>\n",
       "      <td>26.0</td>\n",
       "    </tr>\n",
       "    <tr>\n",
       "      <th>33072</th>\n",
       "      <td>0xd7ca</td>\n",
       "      <td>CUS0x26fd</td>\n",
       "      <td>January</td>\n",
       "      <td>Lucianau</td>\n",
       "      <td>32.0</td>\n",
       "      <td>982-46-6532</td>\n",
       "      <td>Scientist</td>\n",
       "      <td>178328.880</td>\n",
       "      <td>14771.740000</td>\n",
       "      <td>4</td>\n",
       "      <td>...</td>\n",
       "      <td>0</td>\n",
       "      <td>708.22</td>\n",
       "      <td>40.541257</td>\n",
       "      <td>No</td>\n",
       "      <td>0.000000</td>\n",
       "      <td>149.965691</td>\n",
       "      <td>HighspentLargevaluepayments</td>\n",
       "      <td>1.567208e+03</td>\n",
       "      <td>Good</td>\n",
       "      <td>16.0</td>\n",
       "    </tr>\n",
       "    <tr>\n",
       "      <th>17029</th>\n",
       "      <td>0x79c7</td>\n",
       "      <td>CUS0x9f7a</td>\n",
       "      <td>June</td>\n",
       "      <td>Dave Clarkes</td>\n",
       "      <td>55.0</td>\n",
       "      <td>692-62-0934</td>\n",
       "      <td>Writer</td>\n",
       "      <td>178793.920</td>\n",
       "      <td>14642.493330</td>\n",
       "      <td>1</td>\n",
       "      <td>...</td>\n",
       "      <td>Good</td>\n",
       "      <td>1015.37</td>\n",
       "      <td>49.522324</td>\n",
       "      <td>No</td>\n",
       "      <td>0.000000</td>\n",
       "      <td>137.636169</td>\n",
       "      <td>HighspentLargevaluepayments</td>\n",
       "      <td>1.566613e+03</td>\n",
       "      <td>Good</td>\n",
       "      <td>21.0</td>\n",
       "    </tr>\n",
       "    <tr>\n",
       "      <th>15878</th>\n",
       "      <td>0x7308</td>\n",
       "      <td>CUS0xa05d</td>\n",
       "      <td>July</td>\n",
       "      <td>Donny Kwokh</td>\n",
       "      <td>30.0</td>\n",
       "      <td>445-30-2049</td>\n",
       "      <td>Scientist</td>\n",
       "      <td>177546.360</td>\n",
       "      <td>14813.530000</td>\n",
       "      <td>5</td>\n",
       "      <td>...</td>\n",
       "      <td>0</td>\n",
       "      <td>715.97</td>\n",
       "      <td>34.860662</td>\n",
       "      <td>No</td>\n",
       "      <td>50084.000000</td>\n",
       "      <td>157.218174</td>\n",
       "      <td>0</td>\n",
       "      <td>1.564135e+03</td>\n",
       "      <td>Standard</td>\n",
       "      <td>30.0</td>\n",
       "    </tr>\n",
       "    <tr>\n",
       "      <th>...</th>\n",
       "      <td>...</td>\n",
       "      <td>...</td>\n",
       "      <td>...</td>\n",
       "      <td>...</td>\n",
       "      <td>...</td>\n",
       "      <td>...</td>\n",
       "      <td>...</td>\n",
       "      <td>...</td>\n",
       "      <td>...</td>\n",
       "      <td>...</td>\n",
       "      <td>...</td>\n",
       "      <td>...</td>\n",
       "      <td>...</td>\n",
       "      <td>...</td>\n",
       "      <td>...</td>\n",
       "      <td>...</td>\n",
       "      <td>...</td>\n",
       "      <td>...</td>\n",
       "      <td>...</td>\n",
       "      <td>...</td>\n",
       "      <td>...</td>\n",
       "    </tr>\n",
       "    <tr>\n",
       "      <th>35570</th>\n",
       "      <td>0xe66c</td>\n",
       "      <td>CUS0x85e9</td>\n",
       "      <td>March</td>\n",
       "      <td>Anna Driveri</td>\n",
       "      <td>45.0</td>\n",
       "      <td>288-62-7562</td>\n",
       "      <td>0</td>\n",
       "      <td>20929.295</td>\n",
       "      <td>1704.107917</td>\n",
       "      <td>5</td>\n",
       "      <td>...</td>\n",
       "      <td>0</td>\n",
       "      <td>858.09</td>\n",
       "      <td>33.943626</td>\n",
       "      <td>No</td>\n",
       "      <td>13798.000000</td>\n",
       "      <td>220.304552</td>\n",
       "      <td>LowspentSmallvaluepayments</td>\n",
       "      <td>-3.330000e+26</td>\n",
       "      <td>Standard</td>\n",
       "      <td>21.0</td>\n",
       "    </tr>\n",
       "    <tr>\n",
       "      <th>75251</th>\n",
       "      <td>0x1ceed</td>\n",
       "      <td>CUS0x57f3</td>\n",
       "      <td>April</td>\n",
       "      <td>Kristen Haysq</td>\n",
       "      <td>29.0</td>\n",
       "      <td>577-85-0830</td>\n",
       "      <td>Mechanic</td>\n",
       "      <td>60904.590</td>\n",
       "      <td>0.000000</td>\n",
       "      <td>3</td>\n",
       "      <td>...</td>\n",
       "      <td>Standard</td>\n",
       "      <td>2441.47</td>\n",
       "      <td>29.878716</td>\n",
       "      <td>Yes</td>\n",
       "      <td>61.525140</td>\n",
       "      <td>394.893957</td>\n",
       "      <td>LowspentSmallvaluepayments</td>\n",
       "      <td>-3.330000e+26</td>\n",
       "      <td>Standard</td>\n",
       "      <td>12.0</td>\n",
       "    </tr>\n",
       "    <tr>\n",
       "      <th>38622</th>\n",
       "      <td>0xf84c</td>\n",
       "      <td>CUS0x2b77</td>\n",
       "      <td>July</td>\n",
       "      <td>Longstretho</td>\n",
       "      <td>21.0</td>\n",
       "      <td>006-36-0111</td>\n",
       "      <td>Doctor</td>\n",
       "      <td>15167.620</td>\n",
       "      <td>1471.968333</td>\n",
       "      <td>4</td>\n",
       "      <td>...</td>\n",
       "      <td>Good</td>\n",
       "      <td>847.03</td>\n",
       "      <td>28.541848</td>\n",
       "      <td>Yes</td>\n",
       "      <td>9.930809</td>\n",
       "      <td>128.875872</td>\n",
       "      <td>LowspentSmallvaluepayments</td>\n",
       "      <td>-3.330000e+26</td>\n",
       "      <td>Standard</td>\n",
       "      <td>0.0</td>\n",
       "    </tr>\n",
       "    <tr>\n",
       "      <th>29158</th>\n",
       "      <td>0xc0d8</td>\n",
       "      <td>CUS0x288d</td>\n",
       "      <td>July</td>\n",
       "      <td>Selamk</td>\n",
       "      <td>55.0</td>\n",
       "      <td>970-19-8342</td>\n",
       "      <td>Lawyer</td>\n",
       "      <td>30748.930</td>\n",
       "      <td>2572.410833</td>\n",
       "      <td>1</td>\n",
       "      <td>...</td>\n",
       "      <td>Good</td>\n",
       "      <td>860.97</td>\n",
       "      <td>40.634250</td>\n",
       "      <td>No</td>\n",
       "      <td>43.727774</td>\n",
       "      <td>79.071807</td>\n",
       "      <td>HighspentSmallvaluepayments</td>\n",
       "      <td>-3.330000e+26</td>\n",
       "      <td>Standard</td>\n",
       "      <td>19.0</td>\n",
       "    </tr>\n",
       "    <tr>\n",
       "      <th>82918</th>\n",
       "      <td>0x1fbd8</td>\n",
       "      <td>CUS0x41bf</td>\n",
       "      <td>July</td>\n",
       "      <td>Doeringq</td>\n",
       "      <td>44.0</td>\n",
       "      <td>693-64-7611</td>\n",
       "      <td>Journalist</td>\n",
       "      <td>61990.520</td>\n",
       "      <td>4900.876667</td>\n",
       "      <td>10</td>\n",
       "      <td>...</td>\n",
       "      <td>Bad</td>\n",
       "      <td>3618.91</td>\n",
       "      <td>37.718591</td>\n",
       "      <td>Yes</td>\n",
       "      <td>355.143396</td>\n",
       "      <td>194.283488</td>\n",
       "      <td>LowspentSmallvaluepayments</td>\n",
       "      <td>-3.330000e+26</td>\n",
       "      <td>Standard</td>\n",
       "      <td>13.0</td>\n",
       "    </tr>\n",
       "  </tbody>\n",
       "</table>\n",
       "<p>100000 rows × 28 columns</p>\n",
       "</div>"
      ],
      "text/plain": [
       "            ID CustomerID    Month           Name   Age          SSN  \\\n",
       "9376    0x4cf2  CUS0x3655  January      Ransdellw  29.0  512-00-8324   \n",
       "7475    0x41cd  CUS0x6479    April          Oranw  33.0  219-01-0237   \n",
       "33072   0xd7ca  CUS0x26fd  January       Lucianau  32.0  982-46-6532   \n",
       "17029   0x79c7  CUS0x9f7a     June   Dave Clarkes  55.0  692-62-0934   \n",
       "15878   0x7308  CUS0xa05d     July    Donny Kwokh  30.0  445-30-2049   \n",
       "...        ...        ...      ...            ...   ...          ...   \n",
       "35570   0xe66c  CUS0x85e9    March   Anna Driveri  45.0  288-62-7562   \n",
       "75251  0x1ceed  CUS0x57f3    April  Kristen Haysq  29.0  577-85-0830   \n",
       "38622   0xf84c  CUS0x2b77     July    Longstretho  21.0  006-36-0111   \n",
       "29158   0xc0d8  CUS0x288d     July         Selamk  55.0  970-19-8342   \n",
       "82918  0x1fbd8  CUS0x41bf     July       Doeringq  44.0  693-64-7611   \n",
       "\n",
       "       Occupation  AnnualIncome  MonthlyInhandSalary  NumBankAccounts  ...  \\\n",
       "9376       Lawyer    177907.720         14712.643330                0  ...   \n",
       "7475   Accountant    177887.800         14828.983330                4  ...   \n",
       "33072   Scientist    178328.880         14771.740000                4  ...   \n",
       "17029      Writer    178793.920         14642.493330                1  ...   \n",
       "15878   Scientist    177546.360         14813.530000                5  ...   \n",
       "...           ...           ...                  ...              ...  ...   \n",
       "35570           0     20929.295          1704.107917                5  ...   \n",
       "75251    Mechanic     60904.590             0.000000                3  ...   \n",
       "38622      Doctor     15167.620          1471.968333                4  ...   \n",
       "29158      Lawyer     30748.930          2572.410833                1  ...   \n",
       "82918  Journalist     61990.520          4900.876667               10  ...   \n",
       "\n",
       "       CreditMix  OutstandingDebt  CreditUtilizationRatio PaymentofMinAmount  \\\n",
       "9376        Good           685.01               39.432897                 No   \n",
       "7475        Good           925.47               44.783892                 No   \n",
       "33072          0           708.22               40.541257                 No   \n",
       "17029       Good          1015.37               49.522324                 No   \n",
       "15878          0           715.97               34.860662                 No   \n",
       "...          ...              ...                     ...                ...   \n",
       "35570          0           858.09               33.943626                 No   \n",
       "75251   Standard          2441.47               29.878716                Yes   \n",
       "38622       Good           847.03               28.541848                Yes   \n",
       "29158       Good           860.97               40.634250                 No   \n",
       "82918        Bad          3618.91               37.718591                Yes   \n",
       "\n",
       "       TotalEMIpermonth  Amountinvestedmonthly             PaymentBehaviour  \\\n",
       "9376           0.000000           10000.000000  HighspentLargevaluepayments   \n",
       "7475           0.000000             146.609398  HighspentLargevaluepayments   \n",
       "33072          0.000000             149.965691  HighspentLargevaluepayments   \n",
       "17029          0.000000             137.636169  HighspentLargevaluepayments   \n",
       "15878      50084.000000             157.218174                            0   \n",
       "...                 ...                    ...                          ...   \n",
       "35570      13798.000000             220.304552   LowspentSmallvaluepayments   \n",
       "75251         61.525140             394.893957   LowspentSmallvaluepayments   \n",
       "38622          9.930809             128.875872   LowspentSmallvaluepayments   \n",
       "29158         43.727774              79.071807  HighspentSmallvaluepayments   \n",
       "82918        355.143396             194.283488   LowspentSmallvaluepayments   \n",
       "\n",
       "       MonthlyBalance CreditScore  CreditHistoryYears  \n",
       "9376     1.602041e+03        Poor                30.0  \n",
       "7475     1.576289e+03    Standard                26.0  \n",
       "33072    1.567208e+03        Good                16.0  \n",
       "17029    1.566613e+03        Good                21.0  \n",
       "15878    1.564135e+03    Standard                30.0  \n",
       "...               ...         ...                 ...  \n",
       "35570   -3.330000e+26    Standard                21.0  \n",
       "75251   -3.330000e+26    Standard                12.0  \n",
       "38622   -3.330000e+26    Standard                 0.0  \n",
       "29158   -3.330000e+26    Standard                19.0  \n",
       "82918   -3.330000e+26    Standard                13.0  \n",
       "\n",
       "[100000 rows x 28 columns]"
      ]
     },
     "execution_count": 701,
     "metadata": {},
     "output_type": "execute_result"
    }
   ],
   "source": [
    "#сортировка\n",
    "df.sort_values('MonthlyBalance', ascending = False)"
   ]
  },
  {
   "cell_type": "code",
   "execution_count": null,
   "id": "8db66365",
   "metadata": {},
   "outputs": [],
   "source": []
  },
  {
   "cell_type": "markdown",
   "id": "ee07f1b8",
   "metadata": {},
   "source": [
    "# Statistical indicators"
   ]
  },
  {
   "cell_type": "code",
   "execution_count": 702,
   "id": "0293f246",
   "metadata": {},
   "outputs": [
    {
     "name": "stdout",
     "output_type": "stream",
     "text": [
      "Max value is: 24198062.0 \n",
      "Min value is: 7005.93\n",
      "range of variation = 24191056.07\n"
     ]
    }
   ],
   "source": [
    "# a)  размах вариации\n",
    "# range of variation\n",
    "# формула: R = Xmax - Xmin\n",
    "\n",
    "Xmax = df['AnnualIncome'].max()\n",
    "Xmin = df['AnnualIncome'].min()\n",
    "print(\"Max value is:\", Xmax,'\\n' \"Min value is:\",Xmin)\n",
    "R = Xmax - Xmin\n",
    "print(\"range of variation =\",R)"
   ]
  },
  {
   "cell_type": "code",
   "execution_count": 524,
   "id": "17c360f7",
   "metadata": {},
   "outputs": [
    {
     "name": "stdout",
     "output_type": "stream",
     "text": [
      "sample mean 179004.3129170701\n"
     ]
    }
   ],
   "source": [
    "# b) среднее по выборке\n",
    "# sample mean\n",
    "average  = df['AnnualIncome'].mean()\n",
    "average\n",
    "print(\"sample mean\",average)"
   ]
  },
  {
   "cell_type": "code",
   "execution_count": 525,
   "id": "aabf39f1",
   "metadata": {},
   "outputs": [
    {
     "name": "stdout",
     "output_type": "stream",
     "text": [
      "median =  37813.29\n"
     ]
    }
   ],
   "source": [
    "#   c)медиану\n",
    "# median\n",
    "median = df['AnnualIncome'].median()\n",
    "print(\"median = \",median)"
   ]
  },
  {
   "cell_type": "code",
   "execution_count": 527,
   "id": "42c21835",
   "metadata": {},
   "outputs": [
    {
     "name": "stdout",
     "output_type": "stream",
     "text": [
      "standartDeviation =  1445473.9743730049\n"
     ]
    }
   ],
   "source": [
    "#d)standartDeviation\n",
    "standartDeviation=df['AnnualIncome'].std()\n",
    "print('standartDeviation = ',standartDeviation)"
   ]
  },
  {
   "cell_type": "code",
   "execution_count": null,
   "id": "e99bbdbf",
   "metadata": {},
   "outputs": [],
   "source": [
    "#e) example of sample mean of AnnualIncome for occupation Lawyer\n",
    "average2 = df[(df['Occupation'] == 'Lawyer')]['AnnualIncome'].mean()\n",
    "average2\n",
    "print(\"sample mean  = \",average2)"
   ]
  },
  {
   "cell_type": "code",
   "execution_count": null,
   "id": "ca3760a5",
   "metadata": {},
   "outputs": [],
   "source": [
    "df['Age'].median()"
   ]
  },
  {
   "cell_type": "code",
   "execution_count": null,
   "id": "3a062a51",
   "metadata": {},
   "outputs": [],
   "source": [
    "df['Age'].std()"
   ]
  },
  {
   "cell_type": "code",
   "execution_count": null,
   "id": "2aed33da",
   "metadata": {},
   "outputs": [],
   "source": [
    "# skew  ассиметрия\n",
    "df['Age'].skew()"
   ]
  },
  {
   "cell_type": "code",
   "execution_count": null,
   "id": "e2ffbf04",
   "metadata": {},
   "outputs": [],
   "source": [
    "# Коэффициент эксцесса в теории вероятностей — мера остроты пика распределения случайной величины.\n",
    "# Kurtosis is a measure of the combined weight of a distribution's tails relative to the center of the distribution;\n",
    "df['Age'].kurt()"
   ]
  },
  {
   "cell_type": "code",
   "execution_count": null,
   "id": "fca77896",
   "metadata": {},
   "outputs": [],
   "source": []
  },
  {
   "cell_type": "markdown",
   "id": "27334afc",
   "metadata": {},
   "source": [
    "# Визуализация\n",
    "#1. признаки по одному"
   ]
  },
  {
   "cell_type": "code",
   "execution_count": 275,
   "id": "d798205c",
   "metadata": {},
   "outputs": [
    {
     "data": {
      "image/png": "[encoded data removed]",
      "text/plain": [
       "<Figure size 432x288 with 1 Axes>"
      ]
     },
     "metadata": {
      "needs_background": "light"
     },
     "output_type": "display_data"
    }
   ],
   "source": [
    "df['CreditScore'].hist();"
   ]
  },
  {
   "cell_type": "code",
   "execution_count": 276,
   "id": "627afa0b",
   "metadata": {},
   "outputs": [
    {
     "data": {
      "text/plain": [
       "array([[<AxesSubplot:title={'center':'Age'}>,\n",
       "        <AxesSubplot:title={'center':'AnnualIncome'}>,\n",
       "        <AxesSubplot:title={'center':'MonthlyInhandSalary'}>,\n",
       "        <AxesSubplot:title={'center':'NumBankAccounts'}>],\n",
       "       [<AxesSubplot:title={'center':'NumCreditCard'}>,\n",
       "        <AxesSubplot:title={'center':'InterestRate'}>,\n",
       "        <AxesSubplot:title={'center':'NumofLoan'}>,\n",
       "        <AxesSubplot:title={'center':'Delayfromduedate'}>],\n",
       "       [<AxesSubplot:title={'center':'NumofDelayedPayment'}>,\n",
       "        <AxesSubplot:title={'center':'ChangedCreditLimit'}>,\n",
       "        <AxesSubplot:title={'center':'NumCreditInquiries'}>,\n",
       "        <AxesSubplot:title={'center':'OutstandingDebt'}>],\n",
       "       [<AxesSubplot:title={'center':'CreditUtilizationRatio'}>,\n",
       "        <AxesSubplot:title={'center':'TotalEMIpermonth'}>,\n",
       "        <AxesSubplot:title={'center':'Amountinvestedmonthly'}>,\n",
       "        <AxesSubplot:title={'center':'MonthlyBalance'}>],\n",
       "       [<AxesSubplot:title={'center':'CreditHistoryYears'}>,\n",
       "        <AxesSubplot:>, <AxesSubplot:>, <AxesSubplot:>]], dtype=object)"
      ]
     },
     "execution_count": 276,
     "metadata": {},
     "output_type": "execute_result"
    },
    {
     "data": {
      "image/png": "[encoded data removed]",
      "text/plain": [
       "<Figure size 1440x1080 with 20 Axes>"
      ]
     },
     "metadata": {
      "needs_background": "light"
     },
     "output_type": "display_data"
    }
   ],
   "source": [
    "df.hist(bins = 50, figsize = (20,15))"
   ]
  },
  {
   "cell_type": "code",
   "execution_count": 277,
   "id": "fccc39df",
   "metadata": {},
   "outputs": [
    {
     "data": {
      "text/plain": [
       "count    100000.000000\n",
       "mean         16.344140\n",
       "std           9.459708\n",
       "min           0.000000\n",
       "25%           9.000000\n",
       "50%          17.000000\n",
       "75%          24.000000\n",
       "max          33.000000\n",
       "Name: CreditHistoryYears, dtype: float64"
      ]
     },
     "execution_count": 277,
     "metadata": {},
     "output_type": "execute_result"
    }
   ],
   "source": [
    "df.CreditHistoryYears.describe()"
   ]
  },
  {
   "cell_type": "code",
   "execution_count": 278,
   "id": "dc26f5b7",
   "metadata": {},
   "outputs": [],
   "source": [
    "df['CreditHistoryYears_Range'] = pd.cut(df.CreditHistoryYears , bins = [-1, 9, 17, 24, 33], labels = ['min', 'mid_min', 'mid_max', 'max'], \n",
    "                          include_lowest=False)"
   ]
  },
  {
   "cell_type": "code",
   "execution_count": 279,
   "id": "3d0d15c6",
   "metadata": {},
   "outputs": [
    {
     "data": {
      "text/plain": [
       "<AxesSubplot:xlabel='CreditHistoryYears_Range', ylabel='count'>"
      ]
     },
     "execution_count": 279,
     "metadata": {},
     "output_type": "execute_result"
    },
    {
     "data": {
      "image/png": "[encoded data removed]",
      "text/plain": [
       "<Figure size 432x288 with 1 Axes>"
      ]
     },
     "metadata": {
      "needs_background": "light"
     },
     "output_type": "display_data"
    }
   ],
   "source": [
    "sns.countplot(x = 'CreditHistoryYears_Range', hue = 'CreditScore', data = df)"
   ]
  },
  {
   "cell_type": "code",
   "execution_count": 280,
   "id": "4ff668ea",
   "metadata": {},
   "outputs": [
    {
     "data": {
      "text/plain": [
       "count    1.000000e+05\n",
       "mean    -2.997000e+22\n",
       "std      3.158989e+24\n",
       "min     -3.330000e+26\n",
       "25%      2.678714e+02\n",
       "50%      3.348066e+02\n",
       "75%      4.676706e+02\n",
       "max      1.602041e+03\n",
       "Name: MonthlyBalance, dtype: float64"
      ]
     },
     "execution_count": 280,
     "metadata": {},
     "output_type": "execute_result"
    }
   ],
   "source": [
    "df.MonthlyBalance.describe()"
   ]
  },
  {
   "cell_type": "code",
   "execution_count": 281,
   "id": "f43f76ab",
   "metadata": {},
   "outputs": [],
   "source": [
    "df['MonthlyBalance_Range'] = pd.cut(df.MonthlyBalance , bins = [-3.330000e+26, 2.678714e+02, 3.348066e+02, 4.676706e+02, 1.602041e+03], labels = ['min', 'mid_min', 'mid_max', 'max'], \n",
    "                          include_lowest=False)"
   ]
  },
  {
   "cell_type": "code",
   "execution_count": 282,
   "id": "01f9b2a6",
   "metadata": {},
   "outputs": [
    {
     "data": {
      "text/plain": [
       "<AxesSubplot:xlabel='MonthlyBalance_Range', ylabel='count'>"
      ]
     },
     "execution_count": 282,
     "metadata": {},
     "output_type": "execute_result"
    },
    {
     "data": {
      "image/png": "[encoded data removed]",
      "text/plain": [
       "<Figure size 432x288 with 1 Axes>"
      ]
     },
     "metadata": {
      "needs_background": "light"
     },
     "output_type": "display_data"
    }
   ],
   "source": [
    "sns.countplot(x = 'MonthlyBalance_Range', hue = 'CreditScore', data = df)"
   ]
  },
  {
   "cell_type": "code",
   "execution_count": 283,
   "id": "d13db68b",
   "metadata": {},
   "outputs": [
    {
     "data": {
      "text/plain": [
       "<AxesSubplot:xlabel='Occupation', ylabel='count'>"
      ]
     },
     "execution_count": 283,
     "metadata": {},
     "output_type": "execute_result"
    },
    {
     "data": {
      "image/png": "[encoded data removed]",
      "text/plain": [
       "<Figure size 1080x576 with 1 Axes>"
      ]
     },
     "metadata": {},
     "output_type": "display_data"
    }
   ],
   "source": [
    "sns.set(rc = {'figure.figsize':(15,8)})\n",
    "sns.countplot(x = 'Occupation', hue = 'CreditScore', data = df)\n"
   ]
  },
  {
   "cell_type": "code",
   "execution_count": null,
   "id": "552b797a",
   "metadata": {},
   "outputs": [],
   "source": []
  },
  {
   "cell_type": "code",
   "execution_count": 284,
   "id": "9dd30f79",
   "metadata": {},
   "outputs": [
    {
     "data": {
      "text/html": [
       "<div>\n",
       "<style scoped>\n",
       "    .dataframe tbody tr th:only-of-type {\n",
       "        vertical-align: middle;\n",
       "    }\n",
       "\n",
       "    .dataframe tbody tr th {\n",
       "        vertical-align: top;\n",
       "    }\n",
       "\n",
       "    .dataframe thead th {\n",
       "        text-align: right;\n",
       "    }\n",
       "</style>\n",
       "<table border=\"1\" class=\"dataframe\">\n",
       "  <thead>\n",
       "    <tr style=\"text-align: right;\">\n",
       "      <th></th>\n",
       "      <th>Age</th>\n",
       "      <th>AnnualIncome</th>\n",
       "      <th>MonthlyInhandSalary</th>\n",
       "      <th>NumBankAccounts</th>\n",
       "      <th>NumCreditCard</th>\n",
       "      <th>InterestRate</th>\n",
       "      <th>NumofLoan</th>\n",
       "      <th>Delayfromduedate</th>\n",
       "      <th>NumofDelayedPayment</th>\n",
       "      <th>ChangedCreditLimit</th>\n",
       "      <th>NumCreditInquiries</th>\n",
       "      <th>OutstandingDebt</th>\n",
       "      <th>CreditUtilizationRatio</th>\n",
       "      <th>TotalEMIpermonth</th>\n",
       "      <th>Amountinvestedmonthly</th>\n",
       "      <th>MonthlyBalance</th>\n",
       "      <th>CreditHistoryYears</th>\n",
       "    </tr>\n",
       "  </thead>\n",
       "  <tbody>\n",
       "    <tr>\n",
       "      <th>Age</th>\n",
       "      <td>1.000000</td>\n",
       "      <td>-0.000896</td>\n",
       "      <td>0.002664</td>\n",
       "      <td>0.001943</td>\n",
       "      <td>-0.001772</td>\n",
       "      <td>-0.005500</td>\n",
       "      <td>-0.001149</td>\n",
       "      <td>-0.009526</td>\n",
       "      <td>-0.001865</td>\n",
       "      <td>-0.002133</td>\n",
       "      <td>-0.002136</td>\n",
       "      <td>-0.002092</td>\n",
       "      <td>0.002886</td>\n",
       "      <td>0.000800</td>\n",
       "      <td>0.003412</td>\n",
       "      <td>0.001108</td>\n",
       "      <td>-0.000559</td>\n",
       "    </tr>\n",
       "    <tr>\n",
       "      <th>AnnualIncome</th>\n",
       "      <td>-0.000896</td>\n",
       "      <td>1.000000</td>\n",
       "      <td>0.025408</td>\n",
       "      <td>-0.004627</td>\n",
       "      <td>0.001250</td>\n",
       "      <td>-0.002903</td>\n",
       "      <td>0.001486</td>\n",
       "      <td>-0.010631</td>\n",
       "      <td>0.001045</td>\n",
       "      <td>0.000083</td>\n",
       "      <td>0.003159</td>\n",
       "      <td>-0.003706</td>\n",
       "      <td>0.010316</td>\n",
       "      <td>-0.000248</td>\n",
       "      <td>-0.005026</td>\n",
       "      <td>0.000818</td>\n",
       "      <td>-0.001909</td>\n",
       "    </tr>\n",
       "    <tr>\n",
       "      <th>MonthlyInhandSalary</th>\n",
       "      <td>0.002664</td>\n",
       "      <td>0.025408</td>\n",
       "      <td>1.000000</td>\n",
       "      <td>-0.010674</td>\n",
       "      <td>-0.005041</td>\n",
       "      <td>-0.004165</td>\n",
       "      <td>-0.005347</td>\n",
       "      <td>-0.202731</td>\n",
       "      <td>0.001439</td>\n",
       "      <td>-0.136940</td>\n",
       "      <td>-0.006778</td>\n",
       "      <td>-0.220670</td>\n",
       "      <td>0.143035</td>\n",
       "      <td>0.006158</td>\n",
       "      <td>0.049397</td>\n",
       "      <td>-0.001031</td>\n",
       "      <td>0.180914</td>\n",
       "    </tr>\n",
       "    <tr>\n",
       "      <th>NumBankAccounts</th>\n",
       "      <td>0.001943</td>\n",
       "      <td>-0.004627</td>\n",
       "      <td>-0.010674</td>\n",
       "      <td>1.000000</td>\n",
       "      <td>-0.002216</td>\n",
       "      <td>-0.003994</td>\n",
       "      <td>-0.000735</td>\n",
       "      <td>0.015966</td>\n",
       "      <td>-0.003518</td>\n",
       "      <td>0.007514</td>\n",
       "      <td>-0.001701</td>\n",
       "      <td>0.015548</td>\n",
       "      <td>-0.001365</td>\n",
       "      <td>-0.001433</td>\n",
       "      <td>0.003068</td>\n",
       "      <td>0.001058</td>\n",
       "      <td>-0.008035</td>\n",
       "    </tr>\n",
       "    <tr>\n",
       "      <th>NumCreditCard</th>\n",
       "      <td>-0.001772</td>\n",
       "      <td>0.001250</td>\n",
       "      <td>-0.005041</td>\n",
       "      <td>-0.002216</td>\n",
       "      <td>1.000000</td>\n",
       "      <td>-0.004007</td>\n",
       "      <td>0.001350</td>\n",
       "      <td>0.008715</td>\n",
       "      <td>0.004700</td>\n",
       "      <td>0.005915</td>\n",
       "      <td>-0.003528</td>\n",
       "      <td>0.005626</td>\n",
       "      <td>-0.003341</td>\n",
       "      <td>0.000768</td>\n",
       "      <td>-0.002163</td>\n",
       "      <td>0.001268</td>\n",
       "      <td>-0.002127</td>\n",
       "    </tr>\n",
       "    <tr>\n",
       "      <th>InterestRate</th>\n",
       "      <td>-0.005500</td>\n",
       "      <td>-0.002903</td>\n",
       "      <td>-0.004165</td>\n",
       "      <td>-0.003994</td>\n",
       "      <td>-0.004007</td>\n",
       "      <td>1.000000</td>\n",
       "      <td>0.000623</td>\n",
       "      <td>0.009805</td>\n",
       "      <td>0.002786</td>\n",
       "      <td>0.000276</td>\n",
       "      <td>-0.001663</td>\n",
       "      <td>0.010681</td>\n",
       "      <td>-0.000299</td>\n",
       "      <td>0.002524</td>\n",
       "      <td>-0.001044</td>\n",
       "      <td>0.001248</td>\n",
       "      <td>-0.007343</td>\n",
       "    </tr>\n",
       "    <tr>\n",
       "      <th>NumofLoan</th>\n",
       "      <td>-0.001149</td>\n",
       "      <td>0.001486</td>\n",
       "      <td>-0.005347</td>\n",
       "      <td>-0.000735</td>\n",
       "      <td>0.001350</td>\n",
       "      <td>0.000623</td>\n",
       "      <td>1.000000</td>\n",
       "      <td>0.012690</td>\n",
       "      <td>0.010202</td>\n",
       "      <td>0.014649</td>\n",
       "      <td>-0.000452</td>\n",
       "      <td>0.023929</td>\n",
       "      <td>-0.003949</td>\n",
       "      <td>0.001465</td>\n",
       "      <td>-0.001117</td>\n",
       "      <td>-0.000027</td>\n",
       "      <td>-0.020977</td>\n",
       "    </tr>\n",
       "    <tr>\n",
       "      <th>Delayfromduedate</th>\n",
       "      <td>-0.009526</td>\n",
       "      <td>-0.010631</td>\n",
       "      <td>-0.202731</td>\n",
       "      <td>0.015966</td>\n",
       "      <td>0.008715</td>\n",
       "      <td>0.009805</td>\n",
       "      <td>0.012690</td>\n",
       "      <td>1.000000</td>\n",
       "      <td>0.012159</td>\n",
       "      <td>0.284409</td>\n",
       "      <td>0.011415</td>\n",
       "      <td>0.571713</td>\n",
       "      <td>-0.063796</td>\n",
       "      <td>-0.003889</td>\n",
       "      <td>-0.012209</td>\n",
       "      <td>0.004442</td>\n",
       "      <td>-0.394198</td>\n",
       "    </tr>\n",
       "    <tr>\n",
       "      <th>NumofDelayedPayment</th>\n",
       "      <td>-0.001865</td>\n",
       "      <td>0.001045</td>\n",
       "      <td>0.001439</td>\n",
       "      <td>-0.003518</td>\n",
       "      <td>0.004700</td>\n",
       "      <td>0.002786</td>\n",
       "      <td>0.010202</td>\n",
       "      <td>0.012159</td>\n",
       "      <td>1.000000</td>\n",
       "      <td>0.006934</td>\n",
       "      <td>0.002505</td>\n",
       "      <td>0.009672</td>\n",
       "      <td>0.001109</td>\n",
       "      <td>0.001145</td>\n",
       "      <td>0.001384</td>\n",
       "      <td>0.000830</td>\n",
       "      <td>-0.007014</td>\n",
       "    </tr>\n",
       "    <tr>\n",
       "      <th>ChangedCreditLimit</th>\n",
       "      <td>-0.002133</td>\n",
       "      <td>0.000083</td>\n",
       "      <td>-0.136940</td>\n",
       "      <td>0.007514</td>\n",
       "      <td>0.005915</td>\n",
       "      <td>0.000276</td>\n",
       "      <td>0.014649</td>\n",
       "      <td>0.284409</td>\n",
       "      <td>0.006934</td>\n",
       "      <td>1.000000</td>\n",
       "      <td>0.006064</td>\n",
       "      <td>0.443653</td>\n",
       "      <td>-0.048217</td>\n",
       "      <td>-0.001103</td>\n",
       "      <td>-0.010735</td>\n",
       "      <td>-0.002401</td>\n",
       "      <td>-0.327302</td>\n",
       "    </tr>\n",
       "    <tr>\n",
       "      <th>NumCreditInquiries</th>\n",
       "      <td>-0.002136</td>\n",
       "      <td>0.003159</td>\n",
       "      <td>-0.006778</td>\n",
       "      <td>-0.001701</td>\n",
       "      <td>-0.003528</td>\n",
       "      <td>-0.001663</td>\n",
       "      <td>-0.000452</td>\n",
       "      <td>0.011415</td>\n",
       "      <td>0.002505</td>\n",
       "      <td>0.006064</td>\n",
       "      <td>1.000000</td>\n",
       "      <td>0.013288</td>\n",
       "      <td>0.000176</td>\n",
       "      <td>-0.006971</td>\n",
       "      <td>-0.000809</td>\n",
       "      <td>0.001019</td>\n",
       "      <td>-0.014466</td>\n",
       "    </tr>\n",
       "    <tr>\n",
       "      <th>OutstandingDebt</th>\n",
       "      <td>-0.002092</td>\n",
       "      <td>-0.003706</td>\n",
       "      <td>-0.220670</td>\n",
       "      <td>0.015548</td>\n",
       "      <td>0.005626</td>\n",
       "      <td>0.010681</td>\n",
       "      <td>0.023929</td>\n",
       "      <td>0.571713</td>\n",
       "      <td>0.009672</td>\n",
       "      <td>0.443653</td>\n",
       "      <td>0.013288</td>\n",
       "      <td>1.000000</td>\n",
       "      <td>-0.071165</td>\n",
       "      <td>-0.004856</td>\n",
       "      <td>-0.015529</td>\n",
       "      <td>0.001367</td>\n",
       "      <td>-0.501956</td>\n",
       "    </tr>\n",
       "    <tr>\n",
       "      <th>CreditUtilizationRatio</th>\n",
       "      <td>0.002886</td>\n",
       "      <td>0.010316</td>\n",
       "      <td>0.143035</td>\n",
       "      <td>-0.001365</td>\n",
       "      <td>-0.003341</td>\n",
       "      <td>-0.000299</td>\n",
       "      <td>-0.003949</td>\n",
       "      <td>-0.063796</td>\n",
       "      <td>0.001109</td>\n",
       "      <td>-0.048217</td>\n",
       "      <td>0.000176</td>\n",
       "      <td>-0.071165</td>\n",
       "      <td>1.000000</td>\n",
       "      <td>0.001389</td>\n",
       "      <td>0.004577</td>\n",
       "      <td>-0.004266</td>\n",
       "      <td>0.060863</td>\n",
       "    </tr>\n",
       "    <tr>\n",
       "      <th>TotalEMIpermonth</th>\n",
       "      <td>0.000800</td>\n",
       "      <td>-0.000248</td>\n",
       "      <td>0.006158</td>\n",
       "      <td>-0.001433</td>\n",
       "      <td>0.000768</td>\n",
       "      <td>0.002524</td>\n",
       "      <td>0.001465</td>\n",
       "      <td>-0.003889</td>\n",
       "      <td>0.001145</td>\n",
       "      <td>-0.001103</td>\n",
       "      <td>-0.006971</td>\n",
       "      <td>-0.004856</td>\n",
       "      <td>0.001389</td>\n",
       "      <td>1.000000</td>\n",
       "      <td>0.000261</td>\n",
       "      <td>-0.000259</td>\n",
       "      <td>0.004353</td>\n",
       "    </tr>\n",
       "    <tr>\n",
       "      <th>Amountinvestedmonthly</th>\n",
       "      <td>0.003412</td>\n",
       "      <td>-0.005026</td>\n",
       "      <td>0.049397</td>\n",
       "      <td>0.003068</td>\n",
       "      <td>-0.002163</td>\n",
       "      <td>-0.001044</td>\n",
       "      <td>-0.001117</td>\n",
       "      <td>-0.012209</td>\n",
       "      <td>0.001384</td>\n",
       "      <td>-0.010735</td>\n",
       "      <td>-0.000809</td>\n",
       "      <td>-0.015529</td>\n",
       "      <td>0.004577</td>\n",
       "      <td>0.000261</td>\n",
       "      <td>1.000000</td>\n",
       "      <td>0.001850</td>\n",
       "      <td>0.016496</td>\n",
       "    </tr>\n",
       "    <tr>\n",
       "      <th>MonthlyBalance</th>\n",
       "      <td>0.001108</td>\n",
       "      <td>0.000818</td>\n",
       "      <td>-0.001031</td>\n",
       "      <td>0.001058</td>\n",
       "      <td>0.001268</td>\n",
       "      <td>0.001248</td>\n",
       "      <td>-0.000027</td>\n",
       "      <td>0.004442</td>\n",
       "      <td>0.000830</td>\n",
       "      <td>-0.002401</td>\n",
       "      <td>0.001019</td>\n",
       "      <td>0.001367</td>\n",
       "      <td>-0.004266</td>\n",
       "      <td>-0.000259</td>\n",
       "      <td>0.001850</td>\n",
       "      <td>1.000000</td>\n",
       "      <td>-0.001215</td>\n",
       "    </tr>\n",
       "    <tr>\n",
       "      <th>CreditHistoryYears</th>\n",
       "      <td>-0.000559</td>\n",
       "      <td>-0.001909</td>\n",
       "      <td>0.180914</td>\n",
       "      <td>-0.008035</td>\n",
       "      <td>-0.002127</td>\n",
       "      <td>-0.007343</td>\n",
       "      <td>-0.020977</td>\n",
       "      <td>-0.394198</td>\n",
       "      <td>-0.007014</td>\n",
       "      <td>-0.327302</td>\n",
       "      <td>-0.014466</td>\n",
       "      <td>-0.501956</td>\n",
       "      <td>0.060863</td>\n",
       "      <td>0.004353</td>\n",
       "      <td>0.016496</td>\n",
       "      <td>-0.001215</td>\n",
       "      <td>1.000000</td>\n",
       "    </tr>\n",
       "  </tbody>\n",
       "</table>\n",
       "</div>"
      ],
      "text/plain": [
       "                             Age  AnnualIncome  MonthlyInhandSalary  \\\n",
       "Age                     1.000000     -0.000896             0.002664   \n",
       "AnnualIncome           -0.000896      1.000000             0.025408   \n",
       "MonthlyInhandSalary     0.002664      0.025408             1.000000   \n",
       "NumBankAccounts         0.001943     -0.004627            -0.010674   \n",
       "NumCreditCard          -0.001772      0.001250            -0.005041   \n",
       "InterestRate           -0.005500     -0.002903            -0.004165   \n",
       "NumofLoan              -0.001149      0.001486            -0.005347   \n",
       "Delayfromduedate       -0.009526     -0.010631            -0.202731   \n",
       "NumofDelayedPayment    -0.001865      0.001045             0.001439   \n",
       "ChangedCreditLimit     -0.002133      0.000083            -0.136940   \n",
       "NumCreditInquiries     -0.002136      0.003159            -0.006778   \n",
       "OutstandingDebt        -0.002092     -0.003706            -0.220670   \n",
       "CreditUtilizationRatio  0.002886      0.010316             0.143035   \n",
       "TotalEMIpermonth        0.000800     -0.000248             0.006158   \n",
       "Amountinvestedmonthly   0.003412     -0.005026             0.049397   \n",
       "MonthlyBalance          0.001108      0.000818            -0.001031   \n",
       "CreditHistoryYears     -0.000559     -0.001909             0.180914   \n",
       "\n",
       "                        NumBankAccounts  NumCreditCard  InterestRate  \\\n",
       "Age                            0.001943      -0.001772     -0.005500   \n",
       "AnnualIncome                  -0.004627       0.001250     -0.002903   \n",
       "MonthlyInhandSalary           -0.010674      -0.005041     -0.004165   \n",
       "NumBankAccounts                1.000000      -0.002216     -0.003994   \n",
       "NumCreditCard                 -0.002216       1.000000     -0.004007   \n",
       "InterestRate                  -0.003994      -0.004007      1.000000   \n",
       "NumofLoan                     -0.000735       0.001350      0.000623   \n",
       "Delayfromduedate               0.015966       0.008715      0.009805   \n",
       "NumofDelayedPayment           -0.003518       0.004700      0.002786   \n",
       "ChangedCreditLimit             0.007514       0.005915      0.000276   \n",
       "NumCreditInquiries            -0.001701      -0.003528     -0.001663   \n",
       "OutstandingDebt                0.015548       0.005626      0.010681   \n",
       "CreditUtilizationRatio        -0.001365      -0.003341     -0.000299   \n",
       "TotalEMIpermonth              -0.001433       0.000768      0.002524   \n",
       "Amountinvestedmonthly          0.003068      -0.002163     -0.001044   \n",
       "MonthlyBalance                 0.001058       0.001268      0.001248   \n",
       "CreditHistoryYears            -0.008035      -0.002127     -0.007343   \n",
       "\n",
       "                        NumofLoan  Delayfromduedate  NumofDelayedPayment  \\\n",
       "Age                     -0.001149         -0.009526            -0.001865   \n",
       "AnnualIncome             0.001486         -0.010631             0.001045   \n",
       "MonthlyInhandSalary     -0.005347         -0.202731             0.001439   \n",
       "NumBankAccounts         -0.000735          0.015966            -0.003518   \n",
       "NumCreditCard            0.001350          0.008715             0.004700   \n",
       "InterestRate             0.000623          0.009805             0.002786   \n",
       "NumofLoan                1.000000          0.012690             0.010202   \n",
       "Delayfromduedate         0.012690          1.000000             0.012159   \n",
       "NumofDelayedPayment      0.010202          0.012159             1.000000   \n",
       "ChangedCreditLimit       0.014649          0.284409             0.006934   \n",
       "NumCreditInquiries      -0.000452          0.011415             0.002505   \n",
       "OutstandingDebt          0.023929          0.571713             0.009672   \n",
       "CreditUtilizationRatio  -0.003949         -0.063796             0.001109   \n",
       "TotalEMIpermonth         0.001465         -0.003889             0.001145   \n",
       "Amountinvestedmonthly   -0.001117         -0.012209             0.001384   \n",
       "MonthlyBalance          -0.000027          0.004442             0.000830   \n",
       "CreditHistoryYears      -0.020977         -0.394198            -0.007014   \n",
       "\n",
       "                        ChangedCreditLimit  NumCreditInquiries  \\\n",
       "Age                              -0.002133           -0.002136   \n",
       "AnnualIncome                      0.000083            0.003159   \n",
       "MonthlyInhandSalary              -0.136940           -0.006778   \n",
       "NumBankAccounts                   0.007514           -0.001701   \n",
       "NumCreditCard                     0.005915           -0.003528   \n",
       "InterestRate                      0.000276           -0.001663   \n",
       "NumofLoan                         0.014649           -0.000452   \n",
       "Delayfromduedate                  0.284409            0.011415   \n",
       "NumofDelayedPayment               0.006934            0.002505   \n",
       "ChangedCreditLimit                1.000000            0.006064   \n",
       "NumCreditInquiries                0.006064            1.000000   \n",
       "OutstandingDebt                   0.443653            0.013288   \n",
       "CreditUtilizationRatio           -0.048217            0.000176   \n",
       "TotalEMIpermonth                 -0.001103           -0.006971   \n",
       "Amountinvestedmonthly            -0.010735           -0.000809   \n",
       "MonthlyBalance                   -0.002401            0.001019   \n",
       "CreditHistoryYears               -0.327302           -0.014466   \n",
       "\n",
       "                        OutstandingDebt  CreditUtilizationRatio  \\\n",
       "Age                           -0.002092                0.002886   \n",
       "AnnualIncome                  -0.003706                0.010316   \n",
       "MonthlyInhandSalary           -0.220670                0.143035   \n",
       "NumBankAccounts                0.015548               -0.001365   \n",
       "NumCreditCard                  0.005626               -0.003341   \n",
       "InterestRate                   0.010681               -0.000299   \n",
       "NumofLoan                      0.023929               -0.003949   \n",
       "Delayfromduedate               0.571713               -0.063796   \n",
       "NumofDelayedPayment            0.009672                0.001109   \n",
       "ChangedCreditLimit             0.443653               -0.048217   \n",
       "NumCreditInquiries             0.013288                0.000176   \n",
       "OutstandingDebt                1.000000               -0.071165   \n",
       "CreditUtilizationRatio        -0.071165                1.000000   \n",
       "TotalEMIpermonth              -0.004856                0.001389   \n",
       "Amountinvestedmonthly         -0.015529                0.004577   \n",
       "MonthlyBalance                 0.001367               -0.004266   \n",
       "CreditHistoryYears            -0.501956                0.060863   \n",
       "\n",
       "                        TotalEMIpermonth  Amountinvestedmonthly  \\\n",
       "Age                             0.000800               0.003412   \n",
       "AnnualIncome                   -0.000248              -0.005026   \n",
       "MonthlyInhandSalary             0.006158               0.049397   \n",
       "NumBankAccounts                -0.001433               0.003068   \n",
       "NumCreditCard                   0.000768              -0.002163   \n",
       "InterestRate                    0.002524              -0.001044   \n",
       "NumofLoan                       0.001465              -0.001117   \n",
       "Delayfromduedate               -0.003889              -0.012209   \n",
       "NumofDelayedPayment             0.001145               0.001384   \n",
       "ChangedCreditLimit             -0.001103              -0.010735   \n",
       "NumCreditInquiries             -0.006971              -0.000809   \n",
       "OutstandingDebt                -0.004856              -0.015529   \n",
       "CreditUtilizationRatio          0.001389               0.004577   \n",
       "TotalEMIpermonth                1.000000               0.000261   \n",
       "Amountinvestedmonthly           0.000261               1.000000   \n",
       "MonthlyBalance                 -0.000259               0.001850   \n",
       "CreditHistoryYears              0.004353               0.016496   \n",
       "\n",
       "                        MonthlyBalance  CreditHistoryYears  \n",
       "Age                           0.001108           -0.000559  \n",
       "AnnualIncome                  0.000818           -0.001909  \n",
       "MonthlyInhandSalary          -0.001031            0.180914  \n",
       "NumBankAccounts               0.001058           -0.008035  \n",
       "NumCreditCard                 0.001268           -0.002127  \n",
       "InterestRate                  0.001248           -0.007343  \n",
       "NumofLoan                    -0.000027           -0.020977  \n",
       "Delayfromduedate              0.004442           -0.394198  \n",
       "NumofDelayedPayment           0.000830           -0.007014  \n",
       "ChangedCreditLimit           -0.002401           -0.327302  \n",
       "NumCreditInquiries            0.001019           -0.014466  \n",
       "OutstandingDebt               0.001367           -0.501956  \n",
       "CreditUtilizationRatio       -0.004266            0.060863  \n",
       "TotalEMIpermonth             -0.000259            0.004353  \n",
       "Amountinvestedmonthly         0.001850            0.016496  \n",
       "MonthlyBalance                1.000000           -0.001215  \n",
       "CreditHistoryYears           -0.001215            1.000000  "
      ]
     },
     "execution_count": 284,
     "metadata": {},
     "output_type": "execute_result"
    }
   ],
   "source": [
    "corr_M = df.corr()\n",
    "corr_M"
   ]
  },
  {
   "cell_type": "code",
   "execution_count": null,
   "id": "10eabc00",
   "metadata": {},
   "outputs": [],
   "source": []
  },
  {
   "cell_type": "code",
   "execution_count": 285,
   "id": "3e63c837",
   "metadata": {},
   "outputs": [
    {
     "data": {
      "text/plain": [
       "<AxesSubplot:>"
      ]
     },
     "execution_count": 285,
     "metadata": {},
     "output_type": "execute_result"
    },
    {
     "data": {
      "image/png": "[encoded data removed]",
      "text/plain": [
       "<Figure size 1080x576 with 2 Axes>"
      ]
     },
     "metadata": {},
     "output_type": "display_data"
    }
   ],
   "source": [
    "sns.heatmap(df.corr())"
   ]
  },
  {
   "cell_type": "code",
   "execution_count": null,
   "id": "67bb4729",
   "metadata": {},
   "outputs": [],
   "source": []
  },
  {
   "cell_type": "markdown",
   "id": "ca28e353",
   "metadata": {},
   "source": [
    "#Handling Nulls values"
   ]
  },
  {
   "cell_type": "code",
   "execution_count": 286,
   "id": "35fbe332",
   "metadata": {},
   "outputs": [
    {
     "data": {
      "text/plain": [
       "January     12500\n",
       "February    12500\n",
       "March       12500\n",
       "April       12500\n",
       "May         12500\n",
       "June        12500\n",
       "July        12500\n",
       "August      12500\n",
       "Name: Month, dtype: int64"
      ]
     },
     "execution_count": 286,
     "metadata": {},
     "output_type": "execute_result"
    }
   ],
   "source": [
    "df['Month'].value_counts()"
   ]
  },
  {
   "cell_type": "code",
   "execution_count": 287,
   "id": "42c91cd3",
   "metadata": {},
   "outputs": [
    {
     "data": {
      "text/plain": [
       "Standard    53174\n",
       "Poor        28998\n",
       "Good        17828\n",
       "Name: CreditScore, dtype: int64"
      ]
     },
     "execution_count": 287,
     "metadata": {},
     "output_type": "execute_result"
    }
   ],
   "source": [
    "df['CreditScore'].value_counts()"
   ]
  },
  {
   "cell_type": "code",
   "execution_count": 288,
   "id": "d45d02bc",
   "metadata": {},
   "outputs": [
    {
     "data": {
      "text/plain": [
       "Standard    36479\n",
       "Good        24337\n",
       "0           20195\n",
       "Bad         18989\n",
       "Name: CreditMix, dtype: int64"
      ]
     },
     "execution_count": 288,
     "metadata": {},
     "output_type": "execute_result"
    }
   ],
   "source": [
    "df['CreditMix'].value_counts()\n"
   ]
  },
  {
   "cell_type": "code",
   "execution_count": 289,
   "id": "9edb6b0f",
   "metadata": {},
   "outputs": [
    {
     "data": {
      "text/plain": [
       "Yes    64333\n",
       "No     35667\n",
       "Name: PaymentofMinAmount, dtype: int64"
      ]
     },
     "execution_count": 289,
     "metadata": {},
     "output_type": "execute_result"
    }
   ],
   "source": [
    "df['PaymentofMinAmount'].value_counts()"
   ]
  },
  {
   "cell_type": "code",
   "execution_count": 703,
   "id": "507faac3",
   "metadata": {},
   "outputs": [],
   "source": [
    "df['Month'] = df['Month'].map({'January':0, 'February':1, 'March':2,'April':3, 'May':4, 'June':5,'July':6, 'Augusth':7})"
   ]
  },
  {
   "cell_type": "code",
   "execution_count": 731,
   "id": "ff972272",
   "metadata": {},
   "outputs": [],
   "source": [
    "#df['PaymentBehaviour'] = df['PaymentBehaviour'].map({'LowspentSmallvaluepayments':0, 'HighspentMediumvaluepayments':1, 'LowspentMediumvaluepayments':2,'HighspentLargevaluepayments':3, 'HighspentSmallvaluepayments':4, 'LowspentLargevaluepayments ':5})"
   ]
  },
  {
   "cell_type": "code",
   "execution_count": 705,
   "id": "faf4d06b",
   "metadata": {},
   "outputs": [],
   "source": [
    "df['CreditScore'] = df['CreditScore'].map({'Standard':0, 'Poor':1, 'Good':2})"
   ]
  },
  {
   "cell_type": "code",
   "execution_count": 706,
   "id": "d07feeca",
   "metadata": {},
   "outputs": [],
   "source": [
    "df['CreditMix'] = df['CreditMix'].map({'Standard':0, 'Good':1, 'Bad':2})"
   ]
  },
  {
   "cell_type": "code",
   "execution_count": 707,
   "id": "5ad2669c",
   "metadata": {},
   "outputs": [],
   "source": [
    "df['PaymentofMinAmount'] = df['PaymentofMinAmount'].map({'Yes':0, 'No':1})"
   ]
  },
  {
   "cell_type": "code",
   "execution_count": 708,
   "id": "56f17ba1",
   "metadata": {},
   "outputs": [
    {
     "data": {
      "text/html": [
       "<div>\n",
       "<style scoped>\n",
       "    .dataframe tbody tr th:only-of-type {\n",
       "        vertical-align: middle;\n",
       "    }\n",
       "\n",
       "    .dataframe tbody tr th {\n",
       "        vertical-align: top;\n",
       "    }\n",
       "\n",
       "    .dataframe thead th {\n",
       "        text-align: right;\n",
       "    }\n",
       "</style>\n",
       "<table border=\"1\" class=\"dataframe\">\n",
       "  <thead>\n",
       "    <tr style=\"text-align: right;\">\n",
       "      <th></th>\n",
       "      <th>ID</th>\n",
       "      <th>CustomerID</th>\n",
       "      <th>Month</th>\n",
       "      <th>Name</th>\n",
       "      <th>Age</th>\n",
       "      <th>SSN</th>\n",
       "      <th>Occupation</th>\n",
       "      <th>AnnualIncome</th>\n",
       "      <th>MonthlyInhandSalary</th>\n",
       "      <th>NumBankAccounts</th>\n",
       "      <th>...</th>\n",
       "      <th>CreditMix</th>\n",
       "      <th>OutstandingDebt</th>\n",
       "      <th>CreditUtilizationRatio</th>\n",
       "      <th>PaymentofMinAmount</th>\n",
       "      <th>TotalEMIpermonth</th>\n",
       "      <th>Amountinvestedmonthly</th>\n",
       "      <th>PaymentBehaviour</th>\n",
       "      <th>MonthlyBalance</th>\n",
       "      <th>CreditScore</th>\n",
       "      <th>CreditHistoryYears</th>\n",
       "    </tr>\n",
       "  </thead>\n",
       "  <tbody>\n",
       "    <tr>\n",
       "      <th>0</th>\n",
       "      <td>0x1602</td>\n",
       "      <td>CUS0xd40</td>\n",
       "      <td>0.0</td>\n",
       "      <td>Aaron Maashoh</td>\n",
       "      <td>23.0</td>\n",
       "      <td>821-00-0265</td>\n",
       "      <td>Scientist</td>\n",
       "      <td>19114.12</td>\n",
       "      <td>1824.843333</td>\n",
       "      <td>3</td>\n",
       "      <td>...</td>\n",
       "      <td>NaN</td>\n",
       "      <td>809.98</td>\n",
       "      <td>26.822620</td>\n",
       "      <td>1</td>\n",
       "      <td>49.574949</td>\n",
       "      <td>80.415295</td>\n",
       "      <td>HighspentSmallvaluepayments</td>\n",
       "      <td>312.494089</td>\n",
       "      <td>2</td>\n",
       "      <td>22.0</td>\n",
       "    </tr>\n",
       "    <tr>\n",
       "      <th>1</th>\n",
       "      <td>0x1603</td>\n",
       "      <td>CUS0xd40</td>\n",
       "      <td>1.0</td>\n",
       "      <td>Aaron Maashoh</td>\n",
       "      <td>23.0</td>\n",
       "      <td>821-00-0265</td>\n",
       "      <td>Scientist</td>\n",
       "      <td>19114.12</td>\n",
       "      <td>0.000000</td>\n",
       "      <td>3</td>\n",
       "      <td>...</td>\n",
       "      <td>1.0</td>\n",
       "      <td>809.98</td>\n",
       "      <td>31.944960</td>\n",
       "      <td>1</td>\n",
       "      <td>49.574949</td>\n",
       "      <td>118.280222</td>\n",
       "      <td>LowspentLargevaluepayments</td>\n",
       "      <td>284.629163</td>\n",
       "      <td>2</td>\n",
       "      <td>0.0</td>\n",
       "    </tr>\n",
       "    <tr>\n",
       "      <th>2</th>\n",
       "      <td>0x1604</td>\n",
       "      <td>CUS0xd40</td>\n",
       "      <td>2.0</td>\n",
       "      <td>Aaron Maashoh</td>\n",
       "      <td>0.0</td>\n",
       "      <td>821-00-0265</td>\n",
       "      <td>Scientist</td>\n",
       "      <td>19114.12</td>\n",
       "      <td>0.000000</td>\n",
       "      <td>3</td>\n",
       "      <td>...</td>\n",
       "      <td>1.0</td>\n",
       "      <td>809.98</td>\n",
       "      <td>28.609352</td>\n",
       "      <td>1</td>\n",
       "      <td>49.574949</td>\n",
       "      <td>81.699521</td>\n",
       "      <td>LowspentMediumvaluepayments</td>\n",
       "      <td>331.209863</td>\n",
       "      <td>2</td>\n",
       "      <td>22.0</td>\n",
       "    </tr>\n",
       "    <tr>\n",
       "      <th>3</th>\n",
       "      <td>0x1605</td>\n",
       "      <td>CUS0xd40</td>\n",
       "      <td>3.0</td>\n",
       "      <td>Aaron Maashoh</td>\n",
       "      <td>23.0</td>\n",
       "      <td>821-00-0265</td>\n",
       "      <td>Scientist</td>\n",
       "      <td>19114.12</td>\n",
       "      <td>0.000000</td>\n",
       "      <td>3</td>\n",
       "      <td>...</td>\n",
       "      <td>1.0</td>\n",
       "      <td>809.98</td>\n",
       "      <td>31.377862</td>\n",
       "      <td>1</td>\n",
       "      <td>49.574949</td>\n",
       "      <td>199.458074</td>\n",
       "      <td>LowspentSmallvaluepayments</td>\n",
       "      <td>223.451310</td>\n",
       "      <td>2</td>\n",
       "      <td>22.0</td>\n",
       "    </tr>\n",
       "    <tr>\n",
       "      <th>4</th>\n",
       "      <td>0x1606</td>\n",
       "      <td>CUS0xd40</td>\n",
       "      <td>4.0</td>\n",
       "      <td>Aaron Maashoh</td>\n",
       "      <td>23.0</td>\n",
       "      <td>821-00-0265</td>\n",
       "      <td>Scientist</td>\n",
       "      <td>19114.12</td>\n",
       "      <td>1824.843333</td>\n",
       "      <td>3</td>\n",
       "      <td>...</td>\n",
       "      <td>1.0</td>\n",
       "      <td>809.98</td>\n",
       "      <td>24.797347</td>\n",
       "      <td>1</td>\n",
       "      <td>49.574949</td>\n",
       "      <td>41.420153</td>\n",
       "      <td>HighspentMediumvaluepayments</td>\n",
       "      <td>341.489231</td>\n",
       "      <td>2</td>\n",
       "      <td>22.0</td>\n",
       "    </tr>\n",
       "  </tbody>\n",
       "</table>\n",
       "<p>5 rows × 28 columns</p>\n",
       "</div>"
      ],
      "text/plain": [
       "       ID CustomerID  Month           Name   Age          SSN Occupation  \\\n",
       "0  0x1602   CUS0xd40    0.0  Aaron Maashoh  23.0  821-00-0265  Scientist   \n",
       "1  0x1603   CUS0xd40    1.0  Aaron Maashoh  23.0  821-00-0265  Scientist   \n",
       "2  0x1604   CUS0xd40    2.0  Aaron Maashoh   0.0  821-00-0265  Scientist   \n",
       "3  0x1605   CUS0xd40    3.0  Aaron Maashoh  23.0  821-00-0265  Scientist   \n",
       "4  0x1606   CUS0xd40    4.0  Aaron Maashoh  23.0  821-00-0265  Scientist   \n",
       "\n",
       "   AnnualIncome  MonthlyInhandSalary  NumBankAccounts  ...  CreditMix  \\\n",
       "0      19114.12          1824.843333                3  ...        NaN   \n",
       "1      19114.12             0.000000                3  ...        1.0   \n",
       "2      19114.12             0.000000                3  ...        1.0   \n",
       "3      19114.12             0.000000                3  ...        1.0   \n",
       "4      19114.12          1824.843333                3  ...        1.0   \n",
       "\n",
       "   OutstandingDebt  CreditUtilizationRatio PaymentofMinAmount  \\\n",
       "0           809.98               26.822620                  1   \n",
       "1           809.98               31.944960                  1   \n",
       "2           809.98               28.609352                  1   \n",
       "3           809.98               31.377862                  1   \n",
       "4           809.98               24.797347                  1   \n",
       "\n",
       "   TotalEMIpermonth  Amountinvestedmonthly              PaymentBehaviour  \\\n",
       "0         49.574949              80.415295   HighspentSmallvaluepayments   \n",
       "1         49.574949             118.280222    LowspentLargevaluepayments   \n",
       "2         49.574949              81.699521   LowspentMediumvaluepayments   \n",
       "3         49.574949             199.458074    LowspentSmallvaluepayments   \n",
       "4         49.574949              41.420153  HighspentMediumvaluepayments   \n",
       "\n",
       "   MonthlyBalance  CreditScore  CreditHistoryYears  \n",
       "0      312.494089            2                22.0  \n",
       "1      284.629163            2                 0.0  \n",
       "2      331.209863            2                22.0  \n",
       "3      223.451310            2                22.0  \n",
       "4      341.489231            2                22.0  \n",
       "\n",
       "[5 rows x 28 columns]"
      ]
     },
     "execution_count": 708,
     "metadata": {},
     "output_type": "execute_result"
    }
   ],
   "source": [
    "df.head()\n"
   ]
  },
  {
   "cell_type": "code",
   "execution_count": 664,
   "id": "c87bedff",
   "metadata": {},
   "outputs": [
    {
     "data": {
      "text/html": [
       "<div>\n",
       "<style scoped>\n",
       "    .dataframe tbody tr th:only-of-type {\n",
       "        vertical-align: middle;\n",
       "    }\n",
       "\n",
       "    .dataframe tbody tr th {\n",
       "        vertical-align: top;\n",
       "    }\n",
       "\n",
       "    .dataframe thead tr th {\n",
       "        text-align: left;\n",
       "    }\n",
       "\n",
       "    .dataframe thead tr:last-of-type th {\n",
       "        text-align: right;\n",
       "    }\n",
       "</style>\n",
       "<table border=\"1\" class=\"dataframe\">\n",
       "  <thead>\n",
       "    <tr>\n",
       "      <th></th>\n",
       "      <th colspan=\"3\" halign=\"left\">NumofLoan</th>\n",
       "      <th colspan=\"3\" halign=\"left\">Age</th>\n",
       "    </tr>\n",
       "    <tr>\n",
       "      <th></th>\n",
       "      <th>std</th>\n",
       "      <th>amin</th>\n",
       "      <th>amax</th>\n",
       "      <th>std</th>\n",
       "      <th>amin</th>\n",
       "      <th>amax</th>\n",
       "    </tr>\n",
       "    <tr>\n",
       "      <th>CreditScore</th>\n",
       "      <th></th>\n",
       "      <th></th>\n",
       "      <th></th>\n",
       "      <th></th>\n",
       "      <th></th>\n",
       "      <th></th>\n",
       "    </tr>\n",
       "  </thead>\n",
       "  <tbody>\n",
       "    <tr>\n",
       "      <th>0</th>\n",
       "      <td>63.572078</td>\n",
       "      <td>-100.0</td>\n",
       "      <td>1496.0</td>\n",
       "      <td>679.809653</td>\n",
       "      <td>0.0</td>\n",
       "      <td>8698.0</td>\n",
       "    </tr>\n",
       "    <tr>\n",
       "      <th>1</th>\n",
       "      <td>59.428396</td>\n",
       "      <td>-100.0</td>\n",
       "      <td>1485.0</td>\n",
       "      <td>682.099219</td>\n",
       "      <td>0.0</td>\n",
       "      <td>8697.0</td>\n",
       "    </tr>\n",
       "    <tr>\n",
       "      <th>2</th>\n",
       "      <td>64.754130</td>\n",
       "      <td>-100.0</td>\n",
       "      <td>1459.0</td>\n",
       "      <td>698.811393</td>\n",
       "      <td>0.0</td>\n",
       "      <td>8655.0</td>\n",
       "    </tr>\n",
       "  </tbody>\n",
       "</table>\n",
       "</div>"
      ],
      "text/plain": [
       "             NumofLoan                        Age             \n",
       "                   std   amin    amax         std amin    amax\n",
       "CreditScore                                                   \n",
       "0            63.572078 -100.0  1496.0  679.809653  0.0  8698.0\n",
       "1            59.428396 -100.0  1485.0  682.099219  0.0  8697.0\n",
       "2            64.754130 -100.0  1459.0  698.811393  0.0  8655.0"
      ]
     },
     "execution_count": 664,
     "metadata": {},
     "output_type": "execute_result"
    }
   ],
   "source": [
    "it = df.groupby(['CreditScore'])[['NumofLoan','Age']].agg([np.std,np.min,np.max])\n",
    "it"
   ]
  },
  {
   "cell_type": "code",
   "execution_count": 297,
   "id": "8fa8440a",
   "metadata": {},
   "outputs": [],
   "source": [
    "#we can go through average value and save it to excel\n",
    "NumofLoans = df.groupby('CreditScore')['NumofLoan'].mean()\n",
    "AnnualIncome = df.groupby('CreditScore')['AnnualIncome'].mean()\n",
    "AnnualIncome.to_csv('AnnualIncome.csv')\n",
    "NumofLoans.to_csv('NumofLoans.csv')"
   ]
  },
  {
   "cell_type": "code",
   "execution_count": 298,
   "id": "85aeddfc",
   "metadata": {},
   "outputs": [],
   "source": [
    "AnnualIncome = pd.read_csv('AnnualIncome.csv')\n",
    "NumofLoans = pd.read_csv('NumofLoans.csv')"
   ]
  },
  {
   "cell_type": "code",
   "execution_count": 299,
   "id": "2ba06673",
   "metadata": {},
   "outputs": [
    {
     "data": {
      "text/html": [
       "<div>\n",
       "<style scoped>\n",
       "    .dataframe tbody tr th:only-of-type {\n",
       "        vertical-align: middle;\n",
       "    }\n",
       "\n",
       "    .dataframe tbody tr th {\n",
       "        vertical-align: top;\n",
       "    }\n",
       "\n",
       "    .dataframe thead th {\n",
       "        text-align: right;\n",
       "    }\n",
       "</style>\n",
       "<table border=\"1\" class=\"dataframe\">\n",
       "  <thead>\n",
       "    <tr style=\"text-align: right;\">\n",
       "      <th></th>\n",
       "      <th>CreditScore</th>\n",
       "      <th>NumofLoan</th>\n",
       "    </tr>\n",
       "  </thead>\n",
       "  <tbody>\n",
       "    <tr>\n",
       "      <th>0</th>\n",
       "      <td>0</td>\n",
       "      <td>2.982529</td>\n",
       "    </tr>\n",
       "    <tr>\n",
       "      <th>1</th>\n",
       "      <td>1</td>\n",
       "      <td>3.894889</td>\n",
       "    </tr>\n",
       "    <tr>\n",
       "      <th>2</th>\n",
       "      <td>2</td>\n",
       "      <td>1.848721</td>\n",
       "    </tr>\n",
       "  </tbody>\n",
       "</table>\n",
       "</div>"
      ],
      "text/plain": [
       "   CreditScore  NumofLoan\n",
       "0            0   2.982529\n",
       "1            1   3.894889\n",
       "2            2   1.848721"
      ]
     },
     "execution_count": 299,
     "metadata": {},
     "output_type": "execute_result"
    }
   ],
   "source": [
    "NumofLoans"
   ]
  },
  {
   "cell_type": "code",
   "execution_count": 300,
   "id": "1cafac60",
   "metadata": {},
   "outputs": [
    {
     "data": {
      "text/html": [
       "<div>\n",
       "<style scoped>\n",
       "    .dataframe tbody tr th:only-of-type {\n",
       "        vertical-align: middle;\n",
       "    }\n",
       "\n",
       "    .dataframe tbody tr th {\n",
       "        vertical-align: top;\n",
       "    }\n",
       "\n",
       "    .dataframe thead th {\n",
       "        text-align: right;\n",
       "    }\n",
       "</style>\n",
       "<table border=\"1\" class=\"dataframe\">\n",
       "  <thead>\n",
       "    <tr style=\"text-align: right;\">\n",
       "      <th></th>\n",
       "      <th>CreditScore</th>\n",
       "      <th>AnnualIncome</th>\n",
       "    </tr>\n",
       "  </thead>\n",
       "  <tbody>\n",
       "    <tr>\n",
       "      <th>0</th>\n",
       "      <td>0</td>\n",
       "      <td>185249.156458</td>\n",
       "    </tr>\n",
       "    <tr>\n",
       "      <th>1</th>\n",
       "      <td>1</td>\n",
       "      <td>154979.031698</td>\n",
       "    </tr>\n",
       "    <tr>\n",
       "      <th>2</th>\n",
       "      <td>2</td>\n",
       "      <td>184936.589810</td>\n",
       "    </tr>\n",
       "  </tbody>\n",
       "</table>\n",
       "</div>"
      ],
      "text/plain": [
       "   CreditScore   AnnualIncome\n",
       "0            0  185249.156458\n",
       "1            1  154979.031698\n",
       "2            2  184936.589810"
      ]
     },
     "execution_count": 300,
     "metadata": {},
     "output_type": "execute_result"
    }
   ],
   "source": [
    "AnnualIncome"
   ]
  },
  {
   "cell_type": "code",
   "execution_count": 301,
   "id": "34a9028e",
   "metadata": {},
   "outputs": [
    {
     "data": {
      "text/html": [
       "<div>\n",
       "<style scoped>\n",
       "    .dataframe tbody tr th:only-of-type {\n",
       "        vertical-align: middle;\n",
       "    }\n",
       "\n",
       "    .dataframe tbody tr th {\n",
       "        vertical-align: top;\n",
       "    }\n",
       "\n",
       "    .dataframe thead th {\n",
       "        text-align: right;\n",
       "    }\n",
       "</style>\n",
       "<table border=\"1\" class=\"dataframe\">\n",
       "  <thead>\n",
       "    <tr style=\"text-align: right;\">\n",
       "      <th></th>\n",
       "      <th>CreditScore</th>\n",
       "      <th>AnnualIncome</th>\n",
       "      <th>NumofLoan</th>\n",
       "    </tr>\n",
       "  </thead>\n",
       "  <tbody>\n",
       "    <tr>\n",
       "      <th>0</th>\n",
       "      <td>0</td>\n",
       "      <td>185249.156458</td>\n",
       "      <td>NaN</td>\n",
       "    </tr>\n",
       "    <tr>\n",
       "      <th>1</th>\n",
       "      <td>1</td>\n",
       "      <td>154979.031698</td>\n",
       "      <td>NaN</td>\n",
       "    </tr>\n",
       "    <tr>\n",
       "      <th>2</th>\n",
       "      <td>2</td>\n",
       "      <td>184936.589810</td>\n",
       "      <td>NaN</td>\n",
       "    </tr>\n",
       "    <tr>\n",
       "      <th>0</th>\n",
       "      <td>0</td>\n",
       "      <td>NaN</td>\n",
       "      <td>2.982529</td>\n",
       "    </tr>\n",
       "    <tr>\n",
       "      <th>1</th>\n",
       "      <td>1</td>\n",
       "      <td>NaN</td>\n",
       "      <td>3.894889</td>\n",
       "    </tr>\n",
       "    <tr>\n",
       "      <th>2</th>\n",
       "      <td>2</td>\n",
       "      <td>NaN</td>\n",
       "      <td>1.848721</td>\n",
       "    </tr>\n",
       "  </tbody>\n",
       "</table>\n",
       "</div>"
      ],
      "text/plain": [
       "   CreditScore   AnnualIncome  NumofLoan\n",
       "0            0  185249.156458        NaN\n",
       "1            1  154979.031698        NaN\n",
       "2            2  184936.589810        NaN\n",
       "0            0            NaN   2.982529\n",
       "1            1            NaN   3.894889\n",
       "2            2            NaN   1.848721"
      ]
     },
     "execution_count": 301,
     "metadata": {},
     "output_type": "execute_result"
    }
   ],
   "source": [
    "pd.concat([AnnualIncome,NumofLoans], axis = 0)"
   ]
  },
  {
   "cell_type": "code",
   "execution_count": null,
   "id": "b7993e80",
   "metadata": {},
   "outputs": [],
   "source": []
  },
  {
   "cell_type": "code",
   "execution_count": null,
   "id": "4fbac00a",
   "metadata": {},
   "outputs": [],
   "source": []
  },
  {
   "cell_type": "code",
   "execution_count": null,
   "id": "72448f34",
   "metadata": {},
   "outputs": [],
   "source": []
  },
  {
   "cell_type": "code",
   "execution_count": 302,
   "id": "7a7bf8bb",
   "metadata": {},
   "outputs": [
    {
     "data": {
      "text/html": [
       "<div>\n",
       "<style scoped>\n",
       "    .dataframe tbody tr th:only-of-type {\n",
       "        vertical-align: middle;\n",
       "    }\n",
       "\n",
       "    .dataframe tbody tr th {\n",
       "        vertical-align: top;\n",
       "    }\n",
       "\n",
       "    .dataframe thead tr th {\n",
       "        text-align: left;\n",
       "    }\n",
       "\n",
       "    .dataframe thead tr:last-of-type th {\n",
       "        text-align: right;\n",
       "    }\n",
       "</style>\n",
       "<table border=\"1\" class=\"dataframe\">\n",
       "  <thead>\n",
       "    <tr>\n",
       "      <th></th>\n",
       "      <th colspan=\"16\" halign=\"left\">sum</th>\n",
       "    </tr>\n",
       "    <tr>\n",
       "      <th>Occupation</th>\n",
       "      <th>0</th>\n",
       "      <th>Accountant</th>\n",
       "      <th>Architect</th>\n",
       "      <th>Developer</th>\n",
       "      <th>Doctor</th>\n",
       "      <th>Engineer</th>\n",
       "      <th>Entrepreneur</th>\n",
       "      <th>Journalist</th>\n",
       "      <th>Lawyer</th>\n",
       "      <th>Manager</th>\n",
       "      <th>Mechanic</th>\n",
       "      <th>MediaManager</th>\n",
       "      <th>Musician</th>\n",
       "      <th>Scientist</th>\n",
       "      <th>Teacher</th>\n",
       "      <th>Writer</th>\n",
       "    </tr>\n",
       "    <tr>\n",
       "      <th>CreditScore</th>\n",
       "      <th></th>\n",
       "      <th></th>\n",
       "      <th></th>\n",
       "      <th></th>\n",
       "      <th></th>\n",
       "      <th></th>\n",
       "      <th></th>\n",
       "      <th></th>\n",
       "      <th></th>\n",
       "      <th></th>\n",
       "      <th></th>\n",
       "      <th></th>\n",
       "      <th></th>\n",
       "      <th></th>\n",
       "      <th></th>\n",
       "      <th></th>\n",
       "    </tr>\n",
       "  </thead>\n",
       "  <tbody>\n",
       "    <tr>\n",
       "      <th>0</th>\n",
       "      <td>6.102205e+08</td>\n",
       "      <td>7.675722e+08</td>\n",
       "      <td>5.870624e+08</td>\n",
       "      <td>5.044027e+08</td>\n",
       "      <td>8.026657e+08</td>\n",
       "      <td>5.308767e+08</td>\n",
       "      <td>6.518218e+08</td>\n",
       "      <td>5.793642e+08</td>\n",
       "      <td>7.093799e+08</td>\n",
       "      <td>4.690010e+08</td>\n",
       "      <td>6.367604e+08</td>\n",
       "      <td>7.775625e+08</td>\n",
       "      <td>5.887608e+08</td>\n",
       "      <td>4.830778e+08</td>\n",
       "      <td>5.812762e+08</td>\n",
       "      <td>5.706339e+08</td>\n",
       "    </tr>\n",
       "    <tr>\n",
       "      <th>1</th>\n",
       "      <td>3.800856e+08</td>\n",
       "      <td>3.412786e+08</td>\n",
       "      <td>2.666538e+08</td>\n",
       "      <td>3.240557e+08</td>\n",
       "      <td>1.784188e+08</td>\n",
       "      <td>2.868445e+08</td>\n",
       "      <td>2.514133e+08</td>\n",
       "      <td>1.906541e+08</td>\n",
       "      <td>3.707894e+08</td>\n",
       "      <td>3.541694e+08</td>\n",
       "      <td>1.981707e+08</td>\n",
       "      <td>2.281506e+08</td>\n",
       "      <td>2.838337e+08</td>\n",
       "      <td>3.026418e+08</td>\n",
       "      <td>3.165611e+08</td>\n",
       "      <td>2.203608e+08</td>\n",
       "    </tr>\n",
       "    <tr>\n",
       "      <th>2</th>\n",
       "      <td>2.524413e+08</td>\n",
       "      <td>1.363875e+08</td>\n",
       "      <td>2.140226e+08</td>\n",
       "      <td>2.233524e+08</td>\n",
       "      <td>1.871652e+08</td>\n",
       "      <td>2.864222e+08</td>\n",
       "      <td>2.293916e+08</td>\n",
       "      <td>1.889488e+08</td>\n",
       "      <td>2.087928e+08</td>\n",
       "      <td>1.278129e+08</td>\n",
       "      <td>2.526769e+08</td>\n",
       "      <td>1.746055e+08</td>\n",
       "      <td>2.471921e+08</td>\n",
       "      <td>3.162252e+08</td>\n",
       "      <td>1.157026e+08</td>\n",
       "      <td>1.359098e+08</td>\n",
       "    </tr>\n",
       "  </tbody>\n",
       "</table>\n",
       "</div>"
      ],
      "text/plain": [
       "                      sum                                            \\\n",
       "Occupation              0    Accountant     Architect     Developer   \n",
       "CreditScore                                                           \n",
       "0            6.102205e+08  7.675722e+08  5.870624e+08  5.044027e+08   \n",
       "1            3.800856e+08  3.412786e+08  2.666538e+08  3.240557e+08   \n",
       "2            2.524413e+08  1.363875e+08  2.140226e+08  2.233524e+08   \n",
       "\n",
       "                                                                     \\\n",
       "Occupation         Doctor      Engineer  Entrepreneur    Journalist   \n",
       "CreditScore                                                           \n",
       "0            8.026657e+08  5.308767e+08  6.518218e+08  5.793642e+08   \n",
       "1            1.784188e+08  2.868445e+08  2.514133e+08  1.906541e+08   \n",
       "2            1.871652e+08  2.864222e+08  2.293916e+08  1.889488e+08   \n",
       "\n",
       "                                                                     \\\n",
       "Occupation         Lawyer       Manager      Mechanic  MediaManager   \n",
       "CreditScore                                                           \n",
       "0            7.093799e+08  4.690010e+08  6.367604e+08  7.775625e+08   \n",
       "1            3.707894e+08  3.541694e+08  1.981707e+08  2.281506e+08   \n",
       "2            2.087928e+08  1.278129e+08  2.526769e+08  1.746055e+08   \n",
       "\n",
       "                                                                     \n",
       "Occupation       Musician     Scientist       Teacher        Writer  \n",
       "CreditScore                                                          \n",
       "0            5.887608e+08  4.830778e+08  5.812762e+08  5.706339e+08  \n",
       "1            2.838337e+08  3.026418e+08  3.165611e+08  2.203608e+08  \n",
       "2            2.471921e+08  3.162252e+08  1.157026e+08  1.359098e+08  "
      ]
     },
     "execution_count": 302,
     "metadata": {},
     "output_type": "execute_result"
    }
   ],
   "source": [
    "#our CrossTable:(we can see how credit score estimates according to annualIncome and occupation of people)\n",
    "pd.crosstab([df.CreditScore], df.Occupation, values = df.AnnualIncome, aggfunc = [np.sum])"
   ]
  },
  {
   "cell_type": "code",
   "execution_count": null,
   "id": "87107dfc",
   "metadata": {},
   "outputs": [],
   "source": []
  },
  {
   "cell_type": "code",
   "execution_count": null,
   "id": "b25cc709",
   "metadata": {},
   "outputs": [],
   "source": []
  },
  {
   "cell_type": "code",
   "execution_count": 709,
   "id": "7fdb7867",
   "metadata": {},
   "outputs": [],
   "source": [
    "df = pd.get_dummies(df,columns=['Occupation'])"
   ]
  },
  {
   "cell_type": "code",
   "execution_count": 710,
   "id": "47a95b52",
   "metadata": {},
   "outputs": [
    {
     "data": {
      "text/html": [
       "<div>\n",
       "<style scoped>\n",
       "    .dataframe tbody tr th:only-of-type {\n",
       "        vertical-align: middle;\n",
       "    }\n",
       "\n",
       "    .dataframe tbody tr th {\n",
       "        vertical-align: top;\n",
       "    }\n",
       "\n",
       "    .dataframe thead th {\n",
       "        text-align: right;\n",
       "    }\n",
       "</style>\n",
       "<table border=\"1\" class=\"dataframe\">\n",
       "  <thead>\n",
       "    <tr style=\"text-align: right;\">\n",
       "      <th></th>\n",
       "      <th>ID</th>\n",
       "      <th>CustomerID</th>\n",
       "      <th>Month</th>\n",
       "      <th>Name</th>\n",
       "      <th>Age</th>\n",
       "      <th>SSN</th>\n",
       "      <th>AnnualIncome</th>\n",
       "      <th>MonthlyInhandSalary</th>\n",
       "      <th>NumBankAccounts</th>\n",
       "      <th>NumCreditCard</th>\n",
       "      <th>...</th>\n",
       "      <th>Occupation_Entrepreneur</th>\n",
       "      <th>Occupation_Journalist</th>\n",
       "      <th>Occupation_Lawyer</th>\n",
       "      <th>Occupation_Manager</th>\n",
       "      <th>Occupation_Mechanic</th>\n",
       "      <th>Occupation_MediaManager</th>\n",
       "      <th>Occupation_Musician</th>\n",
       "      <th>Occupation_Scientist</th>\n",
       "      <th>Occupation_Teacher</th>\n",
       "      <th>Occupation_Writer</th>\n",
       "    </tr>\n",
       "  </thead>\n",
       "  <tbody>\n",
       "    <tr>\n",
       "      <th>0</th>\n",
       "      <td>0x1602</td>\n",
       "      <td>CUS0xd40</td>\n",
       "      <td>0.0</td>\n",
       "      <td>Aaron Maashoh</td>\n",
       "      <td>23.0</td>\n",
       "      <td>821-00-0265</td>\n",
       "      <td>19114.12</td>\n",
       "      <td>1824.843333</td>\n",
       "      <td>3</td>\n",
       "      <td>4</td>\n",
       "      <td>...</td>\n",
       "      <td>0</td>\n",
       "      <td>0</td>\n",
       "      <td>0</td>\n",
       "      <td>0</td>\n",
       "      <td>0</td>\n",
       "      <td>0</td>\n",
       "      <td>0</td>\n",
       "      <td>1</td>\n",
       "      <td>0</td>\n",
       "      <td>0</td>\n",
       "    </tr>\n",
       "    <tr>\n",
       "      <th>1</th>\n",
       "      <td>0x1603</td>\n",
       "      <td>CUS0xd40</td>\n",
       "      <td>1.0</td>\n",
       "      <td>Aaron Maashoh</td>\n",
       "      <td>23.0</td>\n",
       "      <td>821-00-0265</td>\n",
       "      <td>19114.12</td>\n",
       "      <td>0.000000</td>\n",
       "      <td>3</td>\n",
       "      <td>4</td>\n",
       "      <td>...</td>\n",
       "      <td>0</td>\n",
       "      <td>0</td>\n",
       "      <td>0</td>\n",
       "      <td>0</td>\n",
       "      <td>0</td>\n",
       "      <td>0</td>\n",
       "      <td>0</td>\n",
       "      <td>1</td>\n",
       "      <td>0</td>\n",
       "      <td>0</td>\n",
       "    </tr>\n",
       "    <tr>\n",
       "      <th>2</th>\n",
       "      <td>0x1604</td>\n",
       "      <td>CUS0xd40</td>\n",
       "      <td>2.0</td>\n",
       "      <td>Aaron Maashoh</td>\n",
       "      <td>0.0</td>\n",
       "      <td>821-00-0265</td>\n",
       "      <td>19114.12</td>\n",
       "      <td>0.000000</td>\n",
       "      <td>3</td>\n",
       "      <td>4</td>\n",
       "      <td>...</td>\n",
       "      <td>0</td>\n",
       "      <td>0</td>\n",
       "      <td>0</td>\n",
       "      <td>0</td>\n",
       "      <td>0</td>\n",
       "      <td>0</td>\n",
       "      <td>0</td>\n",
       "      <td>1</td>\n",
       "      <td>0</td>\n",
       "      <td>0</td>\n",
       "    </tr>\n",
       "    <tr>\n",
       "      <th>3</th>\n",
       "      <td>0x1605</td>\n",
       "      <td>CUS0xd40</td>\n",
       "      <td>3.0</td>\n",
       "      <td>Aaron Maashoh</td>\n",
       "      <td>23.0</td>\n",
       "      <td>821-00-0265</td>\n",
       "      <td>19114.12</td>\n",
       "      <td>0.000000</td>\n",
       "      <td>3</td>\n",
       "      <td>4</td>\n",
       "      <td>...</td>\n",
       "      <td>0</td>\n",
       "      <td>0</td>\n",
       "      <td>0</td>\n",
       "      <td>0</td>\n",
       "      <td>0</td>\n",
       "      <td>0</td>\n",
       "      <td>0</td>\n",
       "      <td>1</td>\n",
       "      <td>0</td>\n",
       "      <td>0</td>\n",
       "    </tr>\n",
       "    <tr>\n",
       "      <th>4</th>\n",
       "      <td>0x1606</td>\n",
       "      <td>CUS0xd40</td>\n",
       "      <td>4.0</td>\n",
       "      <td>Aaron Maashoh</td>\n",
       "      <td>23.0</td>\n",
       "      <td>821-00-0265</td>\n",
       "      <td>19114.12</td>\n",
       "      <td>1824.843333</td>\n",
       "      <td>3</td>\n",
       "      <td>4</td>\n",
       "      <td>...</td>\n",
       "      <td>0</td>\n",
       "      <td>0</td>\n",
       "      <td>0</td>\n",
       "      <td>0</td>\n",
       "      <td>0</td>\n",
       "      <td>0</td>\n",
       "      <td>0</td>\n",
       "      <td>1</td>\n",
       "      <td>0</td>\n",
       "      <td>0</td>\n",
       "    </tr>\n",
       "  </tbody>\n",
       "</table>\n",
       "<p>5 rows × 43 columns</p>\n",
       "</div>"
      ],
      "text/plain": [
       "       ID CustomerID  Month           Name   Age          SSN  AnnualIncome  \\\n",
       "0  0x1602   CUS0xd40    0.0  Aaron Maashoh  23.0  821-00-0265      19114.12   \n",
       "1  0x1603   CUS0xd40    1.0  Aaron Maashoh  23.0  821-00-0265      19114.12   \n",
       "2  0x1604   CUS0xd40    2.0  Aaron Maashoh   0.0  821-00-0265      19114.12   \n",
       "3  0x1605   CUS0xd40    3.0  Aaron Maashoh  23.0  821-00-0265      19114.12   \n",
       "4  0x1606   CUS0xd40    4.0  Aaron Maashoh  23.0  821-00-0265      19114.12   \n",
       "\n",
       "   MonthlyInhandSalary  NumBankAccounts  NumCreditCard  ...  \\\n",
       "0          1824.843333                3              4  ...   \n",
       "1             0.000000                3              4  ...   \n",
       "2             0.000000                3              4  ...   \n",
       "3             0.000000                3              4  ...   \n",
       "4          1824.843333                3              4  ...   \n",
       "\n",
       "   Occupation_Entrepreneur  Occupation_Journalist Occupation_Lawyer  \\\n",
       "0                        0                      0                 0   \n",
       "1                        0                      0                 0   \n",
       "2                        0                      0                 0   \n",
       "3                        0                      0                 0   \n",
       "4                        0                      0                 0   \n",
       "\n",
       "   Occupation_Manager  Occupation_Mechanic  Occupation_MediaManager  \\\n",
       "0                   0                    0                        0   \n",
       "1                   0                    0                        0   \n",
       "2                   0                    0                        0   \n",
       "3                   0                    0                        0   \n",
       "4                   0                    0                        0   \n",
       "\n",
       "   Occupation_Musician  Occupation_Scientist  Occupation_Teacher  \\\n",
       "0                    0                     1                   0   \n",
       "1                    0                     1                   0   \n",
       "2                    0                     1                   0   \n",
       "3                    0                     1                   0   \n",
       "4                    0                     1                   0   \n",
       "\n",
       "   Occupation_Writer  \n",
       "0                  0  \n",
       "1                  0  \n",
       "2                  0  \n",
       "3                  0  \n",
       "4                  0  \n",
       "\n",
       "[5 rows x 43 columns]"
      ]
     },
     "execution_count": 710,
     "metadata": {},
     "output_type": "execute_result"
    }
   ],
   "source": [
    "df.head()"
   ]
  },
  {
   "cell_type": "code",
   "execution_count": 711,
   "id": "1afa501b",
   "metadata": {},
   "outputs": [],
   "source": [
    "df=df.dropna(axis=0)"
   ]
  },
  {
   "cell_type": "code",
   "execution_count": null,
   "id": "70e1a230",
   "metadata": {},
   "outputs": [],
   "source": []
  },
  {
   "cell_type": "code",
   "execution_count": null,
   "id": "5203cc96",
   "metadata": {},
   "outputs": [],
   "source": []
  },
  {
   "cell_type": "markdown",
   "id": "b3fe017c",
   "metadata": {},
   "source": [
    "# Отделение меток"
   ]
  },
  {
   "cell_type": "code",
   "execution_count": 712,
   "id": "70360548",
   "metadata": {},
   "outputs": [],
   "source": [
    "df=df.dropna(axis=0)"
   ]
  },
  {
   "cell_type": "code",
   "execution_count": 713,
   "id": "bb10e7b3",
   "metadata": {},
   "outputs": [
    {
     "data": {
      "text/html": [
       "<div>\n",
       "<style scoped>\n",
       "    .dataframe tbody tr th:only-of-type {\n",
       "        vertical-align: middle;\n",
       "    }\n",
       "\n",
       "    .dataframe tbody tr th {\n",
       "        vertical-align: top;\n",
       "    }\n",
       "\n",
       "    .dataframe thead th {\n",
       "        text-align: right;\n",
       "    }\n",
       "</style>\n",
       "<table border=\"1\" class=\"dataframe\">\n",
       "  <thead>\n",
       "    <tr style=\"text-align: right;\">\n",
       "      <th></th>\n",
       "      <th>Month</th>\n",
       "      <th>Age</th>\n",
       "      <th>AnnualIncome</th>\n",
       "      <th>MonthlyInhandSalary</th>\n",
       "      <th>NumBankAccounts</th>\n",
       "      <th>NumCreditCard</th>\n",
       "      <th>InterestRate</th>\n",
       "      <th>NumofLoan</th>\n",
       "      <th>Delayfromduedate</th>\n",
       "      <th>NumofDelayedPayment</th>\n",
       "      <th>...</th>\n",
       "      <th>Occupation_Entrepreneur</th>\n",
       "      <th>Occupation_Journalist</th>\n",
       "      <th>Occupation_Lawyer</th>\n",
       "      <th>Occupation_Manager</th>\n",
       "      <th>Occupation_Mechanic</th>\n",
       "      <th>Occupation_MediaManager</th>\n",
       "      <th>Occupation_Musician</th>\n",
       "      <th>Occupation_Scientist</th>\n",
       "      <th>Occupation_Teacher</th>\n",
       "      <th>Occupation_Writer</th>\n",
       "    </tr>\n",
       "  </thead>\n",
       "  <tbody>\n",
       "    <tr>\n",
       "      <th>1</th>\n",
       "      <td>1.0</td>\n",
       "      <td>23.0</td>\n",
       "      <td>19114.12</td>\n",
       "      <td>0.000000</td>\n",
       "      <td>3</td>\n",
       "      <td>4</td>\n",
       "      <td>3</td>\n",
       "      <td>4.0</td>\n",
       "      <td>-1</td>\n",
       "      <td>0.0</td>\n",
       "      <td>...</td>\n",
       "      <td>0</td>\n",
       "      <td>0</td>\n",
       "      <td>0</td>\n",
       "      <td>0</td>\n",
       "      <td>0</td>\n",
       "      <td>0</td>\n",
       "      <td>0</td>\n",
       "      <td>1</td>\n",
       "      <td>0</td>\n",
       "      <td>0</td>\n",
       "    </tr>\n",
       "    <tr>\n",
       "      <th>2</th>\n",
       "      <td>2.0</td>\n",
       "      <td>0.0</td>\n",
       "      <td>19114.12</td>\n",
       "      <td>0.000000</td>\n",
       "      <td>3</td>\n",
       "      <td>4</td>\n",
       "      <td>3</td>\n",
       "      <td>4.0</td>\n",
       "      <td>3</td>\n",
       "      <td>7.0</td>\n",
       "      <td>...</td>\n",
       "      <td>0</td>\n",
       "      <td>0</td>\n",
       "      <td>0</td>\n",
       "      <td>0</td>\n",
       "      <td>0</td>\n",
       "      <td>0</td>\n",
       "      <td>0</td>\n",
       "      <td>1</td>\n",
       "      <td>0</td>\n",
       "      <td>0</td>\n",
       "    </tr>\n",
       "    <tr>\n",
       "      <th>3</th>\n",
       "      <td>3.0</td>\n",
       "      <td>23.0</td>\n",
       "      <td>19114.12</td>\n",
       "      <td>0.000000</td>\n",
       "      <td>3</td>\n",
       "      <td>4</td>\n",
       "      <td>3</td>\n",
       "      <td>4.0</td>\n",
       "      <td>5</td>\n",
       "      <td>4.0</td>\n",
       "      <td>...</td>\n",
       "      <td>0</td>\n",
       "      <td>0</td>\n",
       "      <td>0</td>\n",
       "      <td>0</td>\n",
       "      <td>0</td>\n",
       "      <td>0</td>\n",
       "      <td>0</td>\n",
       "      <td>1</td>\n",
       "      <td>0</td>\n",
       "      <td>0</td>\n",
       "    </tr>\n",
       "    <tr>\n",
       "      <th>4</th>\n",
       "      <td>4.0</td>\n",
       "      <td>23.0</td>\n",
       "      <td>19114.12</td>\n",
       "      <td>1824.843333</td>\n",
       "      <td>3</td>\n",
       "      <td>4</td>\n",
       "      <td>3</td>\n",
       "      <td>4.0</td>\n",
       "      <td>6</td>\n",
       "      <td>0.0</td>\n",
       "      <td>...</td>\n",
       "      <td>0</td>\n",
       "      <td>0</td>\n",
       "      <td>0</td>\n",
       "      <td>0</td>\n",
       "      <td>0</td>\n",
       "      <td>0</td>\n",
       "      <td>0</td>\n",
       "      <td>1</td>\n",
       "      <td>0</td>\n",
       "      <td>0</td>\n",
       "    </tr>\n",
       "    <tr>\n",
       "      <th>5</th>\n",
       "      <td>5.0</td>\n",
       "      <td>23.0</td>\n",
       "      <td>19114.12</td>\n",
       "      <td>0.000000</td>\n",
       "      <td>3</td>\n",
       "      <td>4</td>\n",
       "      <td>3</td>\n",
       "      <td>4.0</td>\n",
       "      <td>8</td>\n",
       "      <td>4.0</td>\n",
       "      <td>...</td>\n",
       "      <td>0</td>\n",
       "      <td>0</td>\n",
       "      <td>0</td>\n",
       "      <td>0</td>\n",
       "      <td>0</td>\n",
       "      <td>0</td>\n",
       "      <td>0</td>\n",
       "      <td>1</td>\n",
       "      <td>0</td>\n",
       "      <td>0</td>\n",
       "    </tr>\n",
       "    <tr>\n",
       "      <th>...</th>\n",
       "      <td>...</td>\n",
       "      <td>...</td>\n",
       "      <td>...</td>\n",
       "      <td>...</td>\n",
       "      <td>...</td>\n",
       "      <td>...</td>\n",
       "      <td>...</td>\n",
       "      <td>...</td>\n",
       "      <td>...</td>\n",
       "      <td>...</td>\n",
       "      <td>...</td>\n",
       "      <td>...</td>\n",
       "      <td>...</td>\n",
       "      <td>...</td>\n",
       "      <td>...</td>\n",
       "      <td>...</td>\n",
       "      <td>...</td>\n",
       "      <td>...</td>\n",
       "      <td>...</td>\n",
       "      <td>...</td>\n",
       "      <td>...</td>\n",
       "    </tr>\n",
       "    <tr>\n",
       "      <th>99989</th>\n",
       "      <td>5.0</td>\n",
       "      <td>28.0</td>\n",
       "      <td>20002.88</td>\n",
       "      <td>1929.906667</td>\n",
       "      <td>10</td>\n",
       "      <td>8</td>\n",
       "      <td>29</td>\n",
       "      <td>5.0</td>\n",
       "      <td>33</td>\n",
       "      <td>25.0</td>\n",
       "      <td>...</td>\n",
       "      <td>0</td>\n",
       "      <td>0</td>\n",
       "      <td>0</td>\n",
       "      <td>0</td>\n",
       "      <td>0</td>\n",
       "      <td>0</td>\n",
       "      <td>0</td>\n",
       "      <td>0</td>\n",
       "      <td>0</td>\n",
       "      <td>0</td>\n",
       "    </tr>\n",
       "    <tr>\n",
       "      <th>99990</th>\n",
       "      <td>6.0</td>\n",
       "      <td>28.0</td>\n",
       "      <td>20002.88</td>\n",
       "      <td>1929.906667</td>\n",
       "      <td>10</td>\n",
       "      <td>8</td>\n",
       "      <td>29</td>\n",
       "      <td>5.0</td>\n",
       "      <td>33</td>\n",
       "      <td>26.0</td>\n",
       "      <td>...</td>\n",
       "      <td>0</td>\n",
       "      <td>0</td>\n",
       "      <td>0</td>\n",
       "      <td>0</td>\n",
       "      <td>0</td>\n",
       "      <td>0</td>\n",
       "      <td>0</td>\n",
       "      <td>0</td>\n",
       "      <td>0</td>\n",
       "      <td>0</td>\n",
       "    </tr>\n",
       "    <tr>\n",
       "      <th>99993</th>\n",
       "      <td>1.0</td>\n",
       "      <td>25.0</td>\n",
       "      <td>39628.99</td>\n",
       "      <td>3359.415833</td>\n",
       "      <td>4</td>\n",
       "      <td>6</td>\n",
       "      <td>7</td>\n",
       "      <td>2.0</td>\n",
       "      <td>23</td>\n",
       "      <td>0.0</td>\n",
       "      <td>...</td>\n",
       "      <td>0</td>\n",
       "      <td>0</td>\n",
       "      <td>0</td>\n",
       "      <td>0</td>\n",
       "      <td>1</td>\n",
       "      <td>0</td>\n",
       "      <td>0</td>\n",
       "      <td>0</td>\n",
       "      <td>0</td>\n",
       "      <td>0</td>\n",
       "    </tr>\n",
       "    <tr>\n",
       "      <th>99997</th>\n",
       "      <td>5.0</td>\n",
       "      <td>25.0</td>\n",
       "      <td>39628.99</td>\n",
       "      <td>3359.415833</td>\n",
       "      <td>4</td>\n",
       "      <td>6</td>\n",
       "      <td>5729</td>\n",
       "      <td>2.0</td>\n",
       "      <td>27</td>\n",
       "      <td>6.0</td>\n",
       "      <td>...</td>\n",
       "      <td>0</td>\n",
       "      <td>0</td>\n",
       "      <td>0</td>\n",
       "      <td>0</td>\n",
       "      <td>1</td>\n",
       "      <td>0</td>\n",
       "      <td>0</td>\n",
       "      <td>0</td>\n",
       "      <td>0</td>\n",
       "      <td>0</td>\n",
       "    </tr>\n",
       "    <tr>\n",
       "      <th>99998</th>\n",
       "      <td>6.0</td>\n",
       "      <td>25.0</td>\n",
       "      <td>39628.99</td>\n",
       "      <td>3359.415833</td>\n",
       "      <td>4</td>\n",
       "      <td>6</td>\n",
       "      <td>7</td>\n",
       "      <td>2.0</td>\n",
       "      <td>20</td>\n",
       "      <td>0.0</td>\n",
       "      <td>...</td>\n",
       "      <td>0</td>\n",
       "      <td>0</td>\n",
       "      <td>0</td>\n",
       "      <td>0</td>\n",
       "      <td>1</td>\n",
       "      <td>0</td>\n",
       "      <td>0</td>\n",
       "      <td>0</td>\n",
       "      <td>0</td>\n",
       "      <td>0</td>\n",
       "    </tr>\n",
       "  </tbody>\n",
       "</table>\n",
       "<p>69916 rows × 37 columns</p>\n",
       "</div>"
      ],
      "text/plain": [
       "       Month   Age  AnnualIncome  MonthlyInhandSalary  NumBankAccounts  \\\n",
       "1        1.0  23.0      19114.12             0.000000                3   \n",
       "2        2.0   0.0      19114.12             0.000000                3   \n",
       "3        3.0  23.0      19114.12             0.000000                3   \n",
       "4        4.0  23.0      19114.12          1824.843333                3   \n",
       "5        5.0  23.0      19114.12             0.000000                3   \n",
       "...      ...   ...           ...                  ...              ...   \n",
       "99989    5.0  28.0      20002.88          1929.906667               10   \n",
       "99990    6.0  28.0      20002.88          1929.906667               10   \n",
       "99993    1.0  25.0      39628.99          3359.415833                4   \n",
       "99997    5.0  25.0      39628.99          3359.415833                4   \n",
       "99998    6.0  25.0      39628.99          3359.415833                4   \n",
       "\n",
       "       NumCreditCard  InterestRate  NumofLoan  Delayfromduedate  \\\n",
       "1                  4             3        4.0                -1   \n",
       "2                  4             3        4.0                 3   \n",
       "3                  4             3        4.0                 5   \n",
       "4                  4             3        4.0                 6   \n",
       "5                  4             3        4.0                 8   \n",
       "...              ...           ...        ...               ...   \n",
       "99989              8            29        5.0                33   \n",
       "99990              8            29        5.0                33   \n",
       "99993              6             7        2.0                23   \n",
       "99997              6          5729        2.0                27   \n",
       "99998              6             7        2.0                20   \n",
       "\n",
       "       NumofDelayedPayment  ...  Occupation_Entrepreneur  \\\n",
       "1                      0.0  ...                        0   \n",
       "2                      7.0  ...                        0   \n",
       "3                      4.0  ...                        0   \n",
       "4                      0.0  ...                        0   \n",
       "5                      4.0  ...                        0   \n",
       "...                    ...  ...                      ...   \n",
       "99989                 25.0  ...                        0   \n",
       "99990                 26.0  ...                        0   \n",
       "99993                  0.0  ...                        0   \n",
       "99997                  6.0  ...                        0   \n",
       "99998                  0.0  ...                        0   \n",
       "\n",
       "       Occupation_Journalist  Occupation_Lawyer  Occupation_Manager  \\\n",
       "1                          0                  0                   0   \n",
       "2                          0                  0                   0   \n",
       "3                          0                  0                   0   \n",
       "4                          0                  0                   0   \n",
       "5                          0                  0                   0   \n",
       "...                      ...                ...                 ...   \n",
       "99989                      0                  0                   0   \n",
       "99990                      0                  0                   0   \n",
       "99993                      0                  0                   0   \n",
       "99997                      0                  0                   0   \n",
       "99998                      0                  0                   0   \n",
       "\n",
       "       Occupation_Mechanic  Occupation_MediaManager  Occupation_Musician  \\\n",
       "1                        0                        0                    0   \n",
       "2                        0                        0                    0   \n",
       "3                        0                        0                    0   \n",
       "4                        0                        0                    0   \n",
       "5                        0                        0                    0   \n",
       "...                    ...                      ...                  ...   \n",
       "99989                    0                        0                    0   \n",
       "99990                    0                        0                    0   \n",
       "99993                    1                        0                    0   \n",
       "99997                    1                        0                    0   \n",
       "99998                    1                        0                    0   \n",
       "\n",
       "       Occupation_Scientist Occupation_Teacher  Occupation_Writer  \n",
       "1                         1                  0                  0  \n",
       "2                         1                  0                  0  \n",
       "3                         1                  0                  0  \n",
       "4                         1                  0                  0  \n",
       "5                         1                  0                  0  \n",
       "...                     ...                ...                ...  \n",
       "99989                     0                  0                  0  \n",
       "99990                     0                  0                  0  \n",
       "99993                     0                  0                  0  \n",
       "99997                     0                  0                  0  \n",
       "99998                     0                  0                  0  \n",
       "\n",
       "[69916 rows x 37 columns]"
      ]
     },
     "execution_count": 713,
     "metadata": {},
     "output_type": "execute_result"
    }
   ],
   "source": [
    "X"
   ]
  },
  {
   "cell_type": "code",
   "execution_count": 734,
   "id": "2d09970d",
   "metadata": {},
   "outputs": [],
   "source": [
    "X = df.drop(['CustomerID','ID','Name','CreditScore','TypeofLoan','SSN'], axis = 1)"
   ]
  },
  {
   "cell_type": "markdown",
   "id": "eaf104f7",
   "metadata": {},
   "source": [
    "# Обработка категориальных признаков с помощью OneHotEncoder"
   ]
  },
  {
   "cell_type": "code",
   "execution_count": 715,
   "id": "a05a3408",
   "metadata": {},
   "outputs": [],
   "source": [
    "h_cat_en, h_categories = X['PaymentBehaviour'].factorize()"
   ]
  },
  {
   "cell_type": "code",
   "execution_count": 716,
   "id": "8241d785",
   "metadata": {},
   "outputs": [
    {
     "data": {
      "text/plain": [
       "array([0, 1, 2, ..., 1, 5, 0], dtype=int64)"
      ]
     },
     "execution_count": 716,
     "metadata": {},
     "output_type": "execute_result"
    }
   ],
   "source": [
    "h_cat_en"
   ]
  },
  {
   "cell_type": "code",
   "execution_count": 717,
   "id": "2baf9ab3",
   "metadata": {},
   "outputs": [
    {
     "data": {
      "text/plain": [
       "Index([  'LowspentLargevaluepayments',  'LowspentMediumvaluepayments',\n",
       "         'LowspentSmallvaluepayments', 'HighspentMediumvaluepayments',\n",
       "                                    0,  'HighspentLargevaluepayments',\n",
       "        'HighspentSmallvaluepayments'],\n",
       "      dtype='object')"
      ]
     },
     "execution_count": 717,
     "metadata": {},
     "output_type": "execute_result"
    }
   ],
   "source": [
    "h_categories"
   ]
  },
  {
   "cell_type": "code",
   "execution_count": 718,
   "id": "1d6e0423",
   "metadata": {},
   "outputs": [],
   "source": [
    "from sklearn.preprocessing import OneHotEncoder"
   ]
  },
  {
   "cell_type": "code",
   "execution_count": 719,
   "id": "9ea5f914",
   "metadata": {},
   "outputs": [],
   "source": [
    "oh = OneHotEncoder()"
   ]
  },
  {
   "cell_type": "code",
   "execution_count": 720,
   "id": "9e4f123b",
   "metadata": {},
   "outputs": [],
   "source": [
    "coded = oh.fit_transform(h_cat_en.reshape(-1,1))"
   ]
  },
  {
   "cell_type": "code",
   "execution_count": 721,
   "id": "d995a855",
   "metadata": {},
   "outputs": [
    {
     "data": {
      "text/plain": [
       "<69916x7 sparse matrix of type '<class 'numpy.float64'>'\n",
       "\twith 69916 stored elements in Compressed Sparse Row format>"
      ]
     },
     "execution_count": 721,
     "metadata": {},
     "output_type": "execute_result"
    }
   ],
   "source": [
    "coded"
   ]
  },
  {
   "cell_type": "code",
   "execution_count": 722,
   "id": "3e788f28",
   "metadata": {},
   "outputs": [],
   "source": [
    "proxy = pd.DataFrame(coded.toarray(), index = X.index, columns = ['1','2','3','4','5','6','7'])"
   ]
  },
  {
   "cell_type": "code",
   "execution_count": 723,
   "id": "c357ce2c",
   "metadata": {},
   "outputs": [],
   "source": [
    "X = pd.concat([X, proxy], axis = 1)"
   ]
  },
  {
   "cell_type": "code",
   "execution_count": 732,
   "id": "17fc5209",
   "metadata": {},
   "outputs": [],
   "source": [
    "X = df.drop(['PaymentBehaviour'], axis = 1)"
   ]
  },
  {
   "cell_type": "code",
   "execution_count": 725,
   "id": "9fc6a786",
   "metadata": {},
   "outputs": [],
   "source": [
    "X = pd.concat([X, proxy], axis = 1)"
   ]
  },
  {
   "cell_type": "code",
   "execution_count": 726,
   "id": "a61fcea1",
   "metadata": {},
   "outputs": [],
   "source": [
    "Y = df['CreditScore']"
   ]
  },
  {
   "cell_type": "code",
   "execution_count": 735,
   "id": "e5e6dbbb",
   "metadata": {},
   "outputs": [
    {
     "data": {
      "text/html": [
       "<div>\n",
       "<style scoped>\n",
       "    .dataframe tbody tr th:only-of-type {\n",
       "        vertical-align: middle;\n",
       "    }\n",
       "\n",
       "    .dataframe tbody tr th {\n",
       "        vertical-align: top;\n",
       "    }\n",
       "\n",
       "    .dataframe thead th {\n",
       "        text-align: right;\n",
       "    }\n",
       "</style>\n",
       "<table border=\"1\" class=\"dataframe\">\n",
       "  <thead>\n",
       "    <tr style=\"text-align: right;\">\n",
       "      <th></th>\n",
       "      <th>Month</th>\n",
       "      <th>Age</th>\n",
       "      <th>AnnualIncome</th>\n",
       "      <th>MonthlyInhandSalary</th>\n",
       "      <th>NumBankAccounts</th>\n",
       "      <th>NumCreditCard</th>\n",
       "      <th>InterestRate</th>\n",
       "      <th>NumofLoan</th>\n",
       "      <th>Delayfromduedate</th>\n",
       "      <th>NumofDelayedPayment</th>\n",
       "      <th>...</th>\n",
       "      <th>Occupation_Entrepreneur</th>\n",
       "      <th>Occupation_Journalist</th>\n",
       "      <th>Occupation_Lawyer</th>\n",
       "      <th>Occupation_Manager</th>\n",
       "      <th>Occupation_Mechanic</th>\n",
       "      <th>Occupation_MediaManager</th>\n",
       "      <th>Occupation_Musician</th>\n",
       "      <th>Occupation_Scientist</th>\n",
       "      <th>Occupation_Teacher</th>\n",
       "      <th>Occupation_Writer</th>\n",
       "    </tr>\n",
       "  </thead>\n",
       "  <tbody>\n",
       "    <tr>\n",
       "      <th>1</th>\n",
       "      <td>1.0</td>\n",
       "      <td>23.0</td>\n",
       "      <td>19114.12</td>\n",
       "      <td>0.000000</td>\n",
       "      <td>3</td>\n",
       "      <td>4</td>\n",
       "      <td>3</td>\n",
       "      <td>4.0</td>\n",
       "      <td>-1</td>\n",
       "      <td>0.0</td>\n",
       "      <td>...</td>\n",
       "      <td>0</td>\n",
       "      <td>0</td>\n",
       "      <td>0</td>\n",
       "      <td>0</td>\n",
       "      <td>0</td>\n",
       "      <td>0</td>\n",
       "      <td>0</td>\n",
       "      <td>1</td>\n",
       "      <td>0</td>\n",
       "      <td>0</td>\n",
       "    </tr>\n",
       "    <tr>\n",
       "      <th>2</th>\n",
       "      <td>2.0</td>\n",
       "      <td>0.0</td>\n",
       "      <td>19114.12</td>\n",
       "      <td>0.000000</td>\n",
       "      <td>3</td>\n",
       "      <td>4</td>\n",
       "      <td>3</td>\n",
       "      <td>4.0</td>\n",
       "      <td>3</td>\n",
       "      <td>7.0</td>\n",
       "      <td>...</td>\n",
       "      <td>0</td>\n",
       "      <td>0</td>\n",
       "      <td>0</td>\n",
       "      <td>0</td>\n",
       "      <td>0</td>\n",
       "      <td>0</td>\n",
       "      <td>0</td>\n",
       "      <td>1</td>\n",
       "      <td>0</td>\n",
       "      <td>0</td>\n",
       "    </tr>\n",
       "    <tr>\n",
       "      <th>3</th>\n",
       "      <td>3.0</td>\n",
       "      <td>23.0</td>\n",
       "      <td>19114.12</td>\n",
       "      <td>0.000000</td>\n",
       "      <td>3</td>\n",
       "      <td>4</td>\n",
       "      <td>3</td>\n",
       "      <td>4.0</td>\n",
       "      <td>5</td>\n",
       "      <td>4.0</td>\n",
       "      <td>...</td>\n",
       "      <td>0</td>\n",
       "      <td>0</td>\n",
       "      <td>0</td>\n",
       "      <td>0</td>\n",
       "      <td>0</td>\n",
       "      <td>0</td>\n",
       "      <td>0</td>\n",
       "      <td>1</td>\n",
       "      <td>0</td>\n",
       "      <td>0</td>\n",
       "    </tr>\n",
       "    <tr>\n",
       "      <th>4</th>\n",
       "      <td>4.0</td>\n",
       "      <td>23.0</td>\n",
       "      <td>19114.12</td>\n",
       "      <td>1824.843333</td>\n",
       "      <td>3</td>\n",
       "      <td>4</td>\n",
       "      <td>3</td>\n",
       "      <td>4.0</td>\n",
       "      <td>6</td>\n",
       "      <td>0.0</td>\n",
       "      <td>...</td>\n",
       "      <td>0</td>\n",
       "      <td>0</td>\n",
       "      <td>0</td>\n",
       "      <td>0</td>\n",
       "      <td>0</td>\n",
       "      <td>0</td>\n",
       "      <td>0</td>\n",
       "      <td>1</td>\n",
       "      <td>0</td>\n",
       "      <td>0</td>\n",
       "    </tr>\n",
       "    <tr>\n",
       "      <th>5</th>\n",
       "      <td>5.0</td>\n",
       "      <td>23.0</td>\n",
       "      <td>19114.12</td>\n",
       "      <td>0.000000</td>\n",
       "      <td>3</td>\n",
       "      <td>4</td>\n",
       "      <td>3</td>\n",
       "      <td>4.0</td>\n",
       "      <td>8</td>\n",
       "      <td>4.0</td>\n",
       "      <td>...</td>\n",
       "      <td>0</td>\n",
       "      <td>0</td>\n",
       "      <td>0</td>\n",
       "      <td>0</td>\n",
       "      <td>0</td>\n",
       "      <td>0</td>\n",
       "      <td>0</td>\n",
       "      <td>1</td>\n",
       "      <td>0</td>\n",
       "      <td>0</td>\n",
       "    </tr>\n",
       "    <tr>\n",
       "      <th>...</th>\n",
       "      <td>...</td>\n",
       "      <td>...</td>\n",
       "      <td>...</td>\n",
       "      <td>...</td>\n",
       "      <td>...</td>\n",
       "      <td>...</td>\n",
       "      <td>...</td>\n",
       "      <td>...</td>\n",
       "      <td>...</td>\n",
       "      <td>...</td>\n",
       "      <td>...</td>\n",
       "      <td>...</td>\n",
       "      <td>...</td>\n",
       "      <td>...</td>\n",
       "      <td>...</td>\n",
       "      <td>...</td>\n",
       "      <td>...</td>\n",
       "      <td>...</td>\n",
       "      <td>...</td>\n",
       "      <td>...</td>\n",
       "      <td>...</td>\n",
       "    </tr>\n",
       "    <tr>\n",
       "      <th>99989</th>\n",
       "      <td>5.0</td>\n",
       "      <td>28.0</td>\n",
       "      <td>20002.88</td>\n",
       "      <td>1929.906667</td>\n",
       "      <td>10</td>\n",
       "      <td>8</td>\n",
       "      <td>29</td>\n",
       "      <td>5.0</td>\n",
       "      <td>33</td>\n",
       "      <td>25.0</td>\n",
       "      <td>...</td>\n",
       "      <td>0</td>\n",
       "      <td>0</td>\n",
       "      <td>0</td>\n",
       "      <td>0</td>\n",
       "      <td>0</td>\n",
       "      <td>0</td>\n",
       "      <td>0</td>\n",
       "      <td>0</td>\n",
       "      <td>0</td>\n",
       "      <td>0</td>\n",
       "    </tr>\n",
       "    <tr>\n",
       "      <th>99990</th>\n",
       "      <td>6.0</td>\n",
       "      <td>28.0</td>\n",
       "      <td>20002.88</td>\n",
       "      <td>1929.906667</td>\n",
       "      <td>10</td>\n",
       "      <td>8</td>\n",
       "      <td>29</td>\n",
       "      <td>5.0</td>\n",
       "      <td>33</td>\n",
       "      <td>26.0</td>\n",
       "      <td>...</td>\n",
       "      <td>0</td>\n",
       "      <td>0</td>\n",
       "      <td>0</td>\n",
       "      <td>0</td>\n",
       "      <td>0</td>\n",
       "      <td>0</td>\n",
       "      <td>0</td>\n",
       "      <td>0</td>\n",
       "      <td>0</td>\n",
       "      <td>0</td>\n",
       "    </tr>\n",
       "    <tr>\n",
       "      <th>99993</th>\n",
       "      <td>1.0</td>\n",
       "      <td>25.0</td>\n",
       "      <td>39628.99</td>\n",
       "      <td>3359.415833</td>\n",
       "      <td>4</td>\n",
       "      <td>6</td>\n",
       "      <td>7</td>\n",
       "      <td>2.0</td>\n",
       "      <td>23</td>\n",
       "      <td>0.0</td>\n",
       "      <td>...</td>\n",
       "      <td>0</td>\n",
       "      <td>0</td>\n",
       "      <td>0</td>\n",
       "      <td>0</td>\n",
       "      <td>1</td>\n",
       "      <td>0</td>\n",
       "      <td>0</td>\n",
       "      <td>0</td>\n",
       "      <td>0</td>\n",
       "      <td>0</td>\n",
       "    </tr>\n",
       "    <tr>\n",
       "      <th>99997</th>\n",
       "      <td>5.0</td>\n",
       "      <td>25.0</td>\n",
       "      <td>39628.99</td>\n",
       "      <td>3359.415833</td>\n",
       "      <td>4</td>\n",
       "      <td>6</td>\n",
       "      <td>5729</td>\n",
       "      <td>2.0</td>\n",
       "      <td>27</td>\n",
       "      <td>6.0</td>\n",
       "      <td>...</td>\n",
       "      <td>0</td>\n",
       "      <td>0</td>\n",
       "      <td>0</td>\n",
       "      <td>0</td>\n",
       "      <td>1</td>\n",
       "      <td>0</td>\n",
       "      <td>0</td>\n",
       "      <td>0</td>\n",
       "      <td>0</td>\n",
       "      <td>0</td>\n",
       "    </tr>\n",
       "    <tr>\n",
       "      <th>99998</th>\n",
       "      <td>6.0</td>\n",
       "      <td>25.0</td>\n",
       "      <td>39628.99</td>\n",
       "      <td>3359.415833</td>\n",
       "      <td>4</td>\n",
       "      <td>6</td>\n",
       "      <td>7</td>\n",
       "      <td>2.0</td>\n",
       "      <td>20</td>\n",
       "      <td>0.0</td>\n",
       "      <td>...</td>\n",
       "      <td>0</td>\n",
       "      <td>0</td>\n",
       "      <td>0</td>\n",
       "      <td>0</td>\n",
       "      <td>1</td>\n",
       "      <td>0</td>\n",
       "      <td>0</td>\n",
       "      <td>0</td>\n",
       "      <td>0</td>\n",
       "      <td>0</td>\n",
       "    </tr>\n",
       "  </tbody>\n",
       "</table>\n",
       "<p>69916 rows × 36 columns</p>\n",
       "</div>"
      ],
      "text/plain": [
       "       Month   Age  AnnualIncome  MonthlyInhandSalary  NumBankAccounts  \\\n",
       "1        1.0  23.0      19114.12             0.000000                3   \n",
       "2        2.0   0.0      19114.12             0.000000                3   \n",
       "3        3.0  23.0      19114.12             0.000000                3   \n",
       "4        4.0  23.0      19114.12          1824.843333                3   \n",
       "5        5.0  23.0      19114.12             0.000000                3   \n",
       "...      ...   ...           ...                  ...              ...   \n",
       "99989    5.0  28.0      20002.88          1929.906667               10   \n",
       "99990    6.0  28.0      20002.88          1929.906667               10   \n",
       "99993    1.0  25.0      39628.99          3359.415833                4   \n",
       "99997    5.0  25.0      39628.99          3359.415833                4   \n",
       "99998    6.0  25.0      39628.99          3359.415833                4   \n",
       "\n",
       "       NumCreditCard  InterestRate  NumofLoan  Delayfromduedate  \\\n",
       "1                  4             3        4.0                -1   \n",
       "2                  4             3        4.0                 3   \n",
       "3                  4             3        4.0                 5   \n",
       "4                  4             3        4.0                 6   \n",
       "5                  4             3        4.0                 8   \n",
       "...              ...           ...        ...               ...   \n",
       "99989              8            29        5.0                33   \n",
       "99990              8            29        5.0                33   \n",
       "99993              6             7        2.0                23   \n",
       "99997              6          5729        2.0                27   \n",
       "99998              6             7        2.0                20   \n",
       "\n",
       "       NumofDelayedPayment  ...  Occupation_Entrepreneur  \\\n",
       "1                      0.0  ...                        0   \n",
       "2                      7.0  ...                        0   \n",
       "3                      4.0  ...                        0   \n",
       "4                      0.0  ...                        0   \n",
       "5                      4.0  ...                        0   \n",
       "...                    ...  ...                      ...   \n",
       "99989                 25.0  ...                        0   \n",
       "99990                 26.0  ...                        0   \n",
       "99993                  0.0  ...                        0   \n",
       "99997                  6.0  ...                        0   \n",
       "99998                  0.0  ...                        0   \n",
       "\n",
       "       Occupation_Journalist  Occupation_Lawyer  Occupation_Manager  \\\n",
       "1                          0                  0                   0   \n",
       "2                          0                  0                   0   \n",
       "3                          0                  0                   0   \n",
       "4                          0                  0                   0   \n",
       "5                          0                  0                   0   \n",
       "...                      ...                ...                 ...   \n",
       "99989                      0                  0                   0   \n",
       "99990                      0                  0                   0   \n",
       "99993                      0                  0                   0   \n",
       "99997                      0                  0                   0   \n",
       "99998                      0                  0                   0   \n",
       "\n",
       "       Occupation_Mechanic  Occupation_MediaManager  Occupation_Musician  \\\n",
       "1                        0                        0                    0   \n",
       "2                        0                        0                    0   \n",
       "3                        0                        0                    0   \n",
       "4                        0                        0                    0   \n",
       "5                        0                        0                    0   \n",
       "...                    ...                      ...                  ...   \n",
       "99989                    0                        0                    0   \n",
       "99990                    0                        0                    0   \n",
       "99993                    1                        0                    0   \n",
       "99997                    1                        0                    0   \n",
       "99998                    1                        0                    0   \n",
       "\n",
       "       Occupation_Scientist  Occupation_Teacher  Occupation_Writer  \n",
       "1                         1                   0                  0  \n",
       "2                         1                   0                  0  \n",
       "3                         1                   0                  0  \n",
       "4                         1                   0                  0  \n",
       "5                         1                   0                  0  \n",
       "...                     ...                 ...                ...  \n",
       "99989                     0                   0                  0  \n",
       "99990                     0                   0                  0  \n",
       "99993                     0                   0                  0  \n",
       "99997                     0                   0                  0  \n",
       "99998                     0                   0                  0  \n",
       "\n",
       "[69916 rows x 36 columns]"
      ]
     },
     "execution_count": 735,
     "metadata": {},
     "output_type": "execute_result"
    }
   ],
   "source": [
    "X"
   ]
  },
  {
   "cell_type": "markdown",
   "id": "51c2c547",
   "metadata": {},
   "source": [
    "# scaling and standardization of values"
   ]
  },
  {
   "cell_type": "code",
   "execution_count": 784,
   "id": "96fa2378",
   "metadata": {},
   "outputs": [],
   "source": [
    "from sklearn.preprocessing import StandardScaler\n",
    "mms = StandardScaler()\n",
    "X = mms.fit_transform(X)\n",
    "\n",
    "from sklearn.preprocessing import MinMaxScaler\n",
    "mms = MinMaxScaler()\n",
    "X = mms.fit_transform(X)"
   ]
  },
  {
   "cell_type": "raw",
   "id": "6069621d",
   "metadata": {},
   "source": [
    "Standardize features by removing the mean and scaling to unit variance.\n",
    "Standardization of a dataset is a common requirement for many machine learning estimators: \n",
    "they might behave badly if the individual features do not more or less look like standard normally distributed data.\n",
    "\n",
    "Method fit_transform:Fits transformer to X and y with optional parameters fit_params and returns a transformed version of X."
   ]
  },
  {
   "cell_type": "markdown",
   "id": "9933e994",
   "metadata": {},
   "source": [
    "# Создание проверочного набора (Create a validation set)"
   ]
  },
  {
   "cell_type": "code",
   "execution_count": 785,
   "id": "3e57917c",
   "metadata": {},
   "outputs": [],
   "source": [
    "from sklearn.model_selection import train_test_split\n",
    "\n",
    "X_train, X_test, Y_train,  Y_test = train_test_split(X, Y, test_size = 0.2, random_state = 0)"
   ]
  },
  {
   "cell_type": "code",
   "execution_count": 786,
   "id": "34368668",
   "metadata": {},
   "outputs": [
    {
     "data": {
      "text/plain": [
       "((55932, 36), (55932,))"
      ]
     },
     "execution_count": 786,
     "metadata": {},
     "output_type": "execute_result"
    }
   ],
   "source": [
    "X_train.shape, Y_train.shape"
   ]
  },
  {
   "cell_type": "raw",
   "id": "4097e04b",
   "metadata": {},
   "source": [
    "The train_test_split function of the sklearn. model_selection package in Python \n",
    "splits arrays or matrices into random subsets for train and test data, respectively."
   ]
  },
  {
   "cell_type": "markdown",
   "id": "79eb3527",
   "metadata": {},
   "source": [
    "# a. ML With Teacher"
   ]
  },
  {
   "cell_type": "code",
   "execution_count": null,
   "id": "2b480c94",
   "metadata": {},
   "outputs": [],
   "source": []
  },
  {
   "cell_type": "markdown",
   "id": "e3958a18",
   "metadata": {},
   "source": [
    "# Дерево решений ( decision tree)"
   ]
  },
  {
   "cell_type": "raw",
   "id": "d24aa090",
   "metadata": {},
   "source": [
    "Decision tree is a type of supervised learning algorithm that can be used for both regression and classification problems. \n",
    "The goal is to create a model that predicts the value of a target variable by learning simple decision rules inferred \n",
    "from the data features. A tree can be seen as a piecewise constant approximation.\n",
    "Method fit:Build a decision tree classifier from the training set (X_train, Y_train)."
   ]
  },
  {
   "cell_type": "code",
   "execution_count": 509,
   "id": "d69572bd",
   "metadata": {},
   "outputs": [],
   "source": [
    "from sklearn.tree import DecisionTreeClassifier"
   ]
  },
  {
   "cell_type": "code",
   "execution_count": 519,
   "id": "c270e645",
   "metadata": {},
   "outputs": [
    {
     "data": {
      "text/plain": [
       "DecisionTreeClassifier(max_depth=7, random_state=0)"
      ]
     },
     "execution_count": 519,
     "metadata": {},
     "output_type": "execute_result"
    }
   ],
   "source": [
    "tree_cl = DecisionTreeClassifier(max_depth=7, min_samples_split=2, min_samples_leaf=1,random_state=0)\n",
    "tree_cl.fit(X_train, Y_train)"
   ]
  },
  {
   "cell_type": "code",
   "execution_count": 520,
   "id": "0fb2862c",
   "metadata": {},
   "outputs": [
    {
     "data": {
      "text/plain": [
       "(0.7181779176201373, 0.726239004505471)"
      ]
     },
     "execution_count": 520,
     "metadata": {},
     "output_type": "execute_result"
    }
   ],
   "source": [
    "tree_cl.score(X_test,Y_test), tree_cl.score(X_train, Y_train)"
   ]
  },
  {
   "cell_type": "markdown",
   "id": "328d2fa1",
   "metadata": {},
   "source": [
    "# Cross - Validation with decision tree"
   ]
  },
  {
   "cell_type": "code",
   "execution_count": 741,
   "id": "4444144d",
   "metadata": {},
   "outputs": [],
   "source": [
    "from sklearn.model_selection import cross_val_score, cross_val_predict"
   ]
  },
  {
   "cell_type": "code",
   "execution_count": 746,
   "id": "037829e1",
   "metadata": {},
   "outputs": [],
   "source": [
    "#передаем наш классификатор обученный, и наше множество,на котором учим.cv - то сколько разбиений мы хотим делать\n",
    "# scoring='roc_auc'\n",
    "# we pass our trained classifier, and our set on which we learn. cv - how many partitions we want to do\n",
    "score = cross_val_score(tree_cl, X_train, Y_train, cv=5) "
   ]
  },
  {
   "cell_type": "code",
   "execution_count": 747,
   "id": "23f168ad",
   "metadata": {},
   "outputs": [
    {
     "data": {
      "text/plain": [
       "array([0.7173505 , 0.7164566 , 0.71920257, 0.71544788, 0.71401752])"
      ]
     },
     "execution_count": 747,
     "metadata": {},
     "output_type": "execute_result"
    }
   ],
   "source": [
    "# получили 5 оценок из множества X, Y\n",
    "#received 5 ratings from the set X, Y\n",
    "score"
   ]
  },
  {
   "cell_type": "code",
   "execution_count": 748,
   "id": "1a3baa7c",
   "metadata": {},
   "outputs": [
    {
     "data": {
      "text/plain": [
       "0.7164950150706683"
      ]
     },
     "execution_count": 748,
     "metadata": {},
     "output_type": "execute_result"
    }
   ],
   "source": [
    "score.mean()"
   ]
  },
  {
   "cell_type": "code",
   "execution_count": null,
   "id": "a76cb022",
   "metadata": {},
   "outputs": [],
   "source": []
  },
  {
   "cell_type": "raw",
   "id": "15244ac9",
   "metadata": {},
   "source": [
    "Export a decision tree in DOT format.\n",
    "This function (export_graphviz) generates a GraphViz representation of the decision tree, which is then written into out_file"
   ]
  },
  {
   "cell_type": "code",
   "execution_count": 87,
   "id": "8aebf810",
   "metadata": {},
   "outputs": [],
   "source": [
    "from sklearn.tree import export_graphviz"
   ]
  },
  {
   "cell_type": "code",
   "execution_count": null,
   "id": "db164ad7",
   "metadata": {},
   "outputs": [],
   "source": []
  },
  {
   "cell_type": "code",
   "execution_count": 95,
   "id": "454bf246",
   "metadata": {},
   "outputs": [],
   "source": [
    "export_graphviz (tree_cl, out_file = 'creditscore_tree.dot', max_depth=7, feature_names=None, class_names=None, label='all', filled=True, leaves_parallel=False, impurity=True, node_ids=False, proportion=False, rotate=False, rounded=True, special_characters=False, precision=3)\n",
    "\n",
    "# param rounded: When set to True, draw node boxes with rounded corners.\n",
    "# param filled:  When set to True, paint nodes to indicate majority class for classification,\n",
    "#                extremity of values for regression, or purity of node for multi-output."
   ]
  },
  {
   "cell_type": "code",
   "execution_count": 96,
   "id": "1d28a83d",
   "metadata": {},
   "outputs": [],
   "source": [
    "!dot -Tpng creditscore_tree.dot -o creditscore_tree.png"
   ]
  },
  {
   "cell_type": "code",
   "execution_count": null,
   "id": "fca68bb6",
   "metadata": {},
   "outputs": [],
   "source": []
  },
  {
   "cell_type": "markdown",
   "id": "dd46d539",
   "metadata": {},
   "source": [
    "# stochastic gradient descent (SGD) learning"
   ]
  },
  {
   "cell_type": "markdown",
   "id": "c9eb91eb",
   "metadata": {},
   "source": [
    "Stochastic Gradient Descent (SGD) is a simple yet efficient optimization algorithm used to find the values of parameters/coefficients of functions that minimize a cost function. In other words, it is used for discriminative learning of linear classifiers under convex loss functions such as SVM and Logistic regression."
   ]
  },
  {
   "cell_type": "code",
   "execution_count": 538,
   "id": "df3f751e",
   "metadata": {},
   "outputs": [],
   "source": [
    "from sklearn.linear_model import SGDClassifier\n",
    "SGDcl = SGDClassifier(max_iter=400,random_state=0)"
   ]
  },
  {
   "cell_type": "code",
   "execution_count": 539,
   "id": "0f849f2f",
   "metadata": {},
   "outputs": [
    {
     "data": {
      "text/plain": [
       "SGDClassifier(max_iter=400, random_state=0)"
      ]
     },
     "execution_count": 539,
     "metadata": {},
     "output_type": "execute_result"
    }
   ],
   "source": [
    "SGDcl.fit(X_train, Y_train)"
   ]
  },
  {
   "cell_type": "code",
   "execution_count": 540,
   "id": "2240f278",
   "metadata": {},
   "outputs": [
    {
     "data": {
      "text/plain": [
       "(0.6021882151029748, 0.6073625116212544)"
      ]
     },
     "execution_count": 540,
     "metadata": {},
     "output_type": "execute_result"
    }
   ],
   "source": [
    "SGDcl.score(X_test,Y_test), SGDcl.score(X_train, Y_train)"
   ]
  },
  {
   "cell_type": "code",
   "execution_count": 543,
   "id": "af6aa030",
   "metadata": {},
   "outputs": [
    {
     "data": {
      "text/plain": [
       "array([0, 1, 1, ..., 2, 0, 0], dtype=int64)"
      ]
     },
     "execution_count": 543,
     "metadata": {},
     "output_type": "execute_result"
    }
   ],
   "source": [
    "pred = SGDcl.predict(X_test)\n",
    "pred"
   ]
  },
  {
   "cell_type": "code",
   "execution_count": 549,
   "id": "094e9d00",
   "metadata": {},
   "outputs": [
    {
     "data": {
      "text/plain": [
       "(0.6021882151029748, 0.6021882151029748)"
      ]
     },
     "execution_count": 549,
     "metadata": {},
     "output_type": "execute_result"
    }
   ],
   "source": [
    "precision_score(Y_test, pred,average='micro'), recall_score(Y_test, pred,average='micro')\n",
    "#'micro':Calculate metrics globally by counting the total true positives, false negatives and false positives."
   ]
  },
  {
   "cell_type": "markdown",
   "id": "5503ffb8",
   "metadata": {},
   "source": [
    "method decision_function:\n",
    "Predict confidence scores for samples.\n",
    "The confidence score for a sample is proportional to the signed distance of that sample to the hyperplane."
   ]
  },
  {
   "cell_type": "code",
   "execution_count": 562,
   "id": "6c4fb00a",
   "metadata": {},
   "outputs": [],
   "source": [
    "Y_score = SGDcl.decision_function(X_train)\n",
    "pred2 = SGDcl.predict(X_train)"
   ]
  },
  {
   "cell_type": "code",
   "execution_count": 563,
   "id": "cec6af94",
   "metadata": {},
   "outputs": [
    {
     "data": {
      "text/plain": [
       "array([[ 1.11832621, -1.07857419, -2.09012118],\n",
       "       [-0.37564575, -2.02205923, -0.45217473],\n",
       "       [-0.54602071, -1.53067533, -0.28523223],\n",
       "       ...,\n",
       "       [-0.53061146, -1.70137674, -0.26474766],\n",
       "       [ 1.2230597 , -1.1310053 , -1.79025829],\n",
       "       [ 0.93709439, -1.16075418, -1.66274558]])"
      ]
     },
     "execution_count": 563,
     "metadata": {},
     "output_type": "execute_result"
    }
   ],
   "source": [
    "Y_score"
   ]
  },
  {
   "cell_type": "code",
   "execution_count": 564,
   "id": "2e8e1191",
   "metadata": {},
   "outputs": [
    {
     "data": {
      "text/plain": [
       "(55932, 3)"
      ]
     },
     "execution_count": 564,
     "metadata": {},
     "output_type": "execute_result"
    }
   ],
   "source": [
    "Y_score.shape"
   ]
  },
  {
   "cell_type": "code",
   "execution_count": 565,
   "id": "8dafa12a",
   "metadata": {},
   "outputs": [],
   "source": [
    "# мы фиксируем максим. и миним.значения у decision_function(X)\n",
    "# we are fixing max and min value \n",
    "ma = Y_score.max() \n",
    "mi = Y_score.min()"
   ]
  },
  {
   "cell_type": "code",
   "execution_count": 566,
   "id": "83cd2869",
   "metadata": {},
   "outputs": [],
   "source": [
    "#Получаем прогноз с помощью сравнения с барьером\n",
    "#We get a forecast using a comparison with a barrier\n",
    "predict = Y_score > 0"
   ]
  },
  {
   "cell_type": "code",
   "execution_count": 568,
   "id": "995c131e",
   "metadata": {},
   "outputs": [],
   "source": [
    "#precision_score(Y_train, predict), recall_score(Y_train, predict)"
   ]
  },
  {
   "cell_type": "code",
   "execution_count": 570,
   "id": "1aca2e03",
   "metadata": {},
   "outputs": [],
   "source": [
    "#confusion_matrix(Y_train,predict)"
   ]
  },
  {
   "cell_type": "markdown",
   "id": "d9378396",
   "metadata": {},
   "source": [
    "# CW 17 and 16 - WHY ? FINISH TOGHETHER WITH MATRIX"
   ]
  },
  {
   "cell_type": "code",
   "execution_count": null,
   "id": "a819f67a",
   "metadata": {},
   "outputs": [],
   "source": []
  },
  {
   "cell_type": "code",
   "execution_count": null,
   "id": "d2367d71",
   "metadata": {},
   "outputs": [],
   "source": []
  },
  {
   "cell_type": "code",
   "execution_count": null,
   "id": "f966dfd2",
   "metadata": {},
   "outputs": [],
   "source": []
  },
  {
   "cell_type": "markdown",
   "id": "99d3824c",
   "metadata": {},
   "source": [
    "# Отбор случайным лесом (Selection by random forest)"
   ]
  },
  {
   "cell_type": "raw",
   "id": "1c633236",
   "metadata": {},
   "source": [
    "A random forest classifier. A random forest is a meta estimator that fits a number of decision tree classifiers on various sub-samples of the dataset \n",
    "and uses averaging to improve the predictive accuracy and control over-fitting.\n",
    "\n",
    "method fit : Build a forest of trees from the training set (X_train, Y_train).\n",
    "attribute feature_importances_ : Feature importances are provided by the fitted attribute feature_importances_ \n",
    "                                 and they are computed as the mean and standard deviation of accumulation of the impurity decrease within each tree;\n"
   ]
  },
  {
   "cell_type": "code",
   "execution_count": 594,
   "id": "1a7237fe",
   "metadata": {},
   "outputs": [
    {
     "data": {
      "text/plain": [
       "array([6.30454033e-03, 3.61910082e-03, 1.07035174e-02, 6.34245805e-03,\n",
       "       4.76632064e-02, 6.20341819e-02, 1.51949582e-01, 3.45380669e-02,\n",
       "       6.85336802e-02, 2.63582274e-02, 3.55735315e-02, 6.68565797e-02,\n",
       "       1.93176777e-01, 1.77119482e-01, 9.63985400e-04, 5.97853329e-02,\n",
       "       5.78427752e-03, 1.92399272e-03, 0.00000000e+00, 3.47053985e-02,\n",
       "       5.31938678e-05, 8.66097481e-05, 8.07794394e-05, 9.59821153e-05,\n",
       "       1.06206976e-04, 1.02005973e-04, 1.23796346e-04, 1.30148892e-04,\n",
       "       1.27785370e-04, 9.85734000e-05, 1.34473221e-04, 1.16913760e-04,\n",
       "       1.14599089e-04, 1.14534299e-04, 1.15107109e-04, 1.62927851e-04,\n",
       "       3.66588452e-05, 4.75859863e-05, 7.56623832e-04, 1.58106214e-04,\n",
       "       4.37244488e-05, 3.04207272e-04, 5.05334315e-05, 3.47122398e-05,\n",
       "       4.68252476e-05, 8.56192476e-04, 1.21601082e-04, 3.66206853e-05,\n",
       "       3.16518724e-04, 6.97306586e-05, 3.83297352e-05, 6.51767117e-05,\n",
       "       8.50794517e-04, 1.22535692e-04, 4.32692883e-05, 2.50727185e-04,\n",
       "       4.99691635e-05])"
      ]
     },
     "execution_count": 594,
     "metadata": {},
     "output_type": "execute_result"
    }
   ],
   "source": [
    "from sklearn.ensemble import RandomForestClassifier\n",
    "randfor_cl = RandomForestClassifier(n_estimators=600, max_depth=6, min_samples_split=2, min_samples_leaf=1, random_state = 0)\n",
    "randfor_cl.fit(X_train, Y_train)\n",
    "randfor_cl.feature_importances_\n"
   ]
  },
  {
   "cell_type": "code",
   "execution_count": 595,
   "id": "a2d92582",
   "metadata": {},
   "outputs": [
    {
     "data": {
      "text/plain": [
       "(0.665903890160183, 0.6804512622470142)"
      ]
     },
     "execution_count": 595,
     "metadata": {},
     "output_type": "execute_result"
    }
   ],
   "source": [
    "randfor_cl.score(X_test,Y_test), randfor_cl.score(X_train, Y_train)"
   ]
  },
  {
   "cell_type": "markdown",
   "id": "09a40756",
   "metadata": {},
   "source": [
    "# Отбор признаков (feature selection)"
   ]
  },
  {
   "cell_type": "code",
   "execution_count": null,
   "id": "00b544a5",
   "metadata": {},
   "outputs": [],
   "source": [
    "#WE SHOULD DO IT BEFORE MINMAX SCALER!"
   ]
  },
  {
   "cell_type": "code",
   "execution_count": 609,
   "id": "e652faa6",
   "metadata": {},
   "outputs": [],
   "source": [
    "from sklearn.feature_selection import SelectKBest,chi2\n",
    "#специальные методики,оценивают, какие признаки хорошо влияют на зависимые переменные,какие плохо и т.д.(хи квадрат используем)\n",
    "#нужно передать количество признаков,которое мы хотим отобрать и критерий по которому будем отбирать(наш хи-квадрат)"
   ]
  },
  {
   "cell_type": "markdown",
   "id": "a25f809a",
   "metadata": {},
   "source": [
    "Selection using the chi function"
   ]
  },
  {
   "cell_type": "code",
   "execution_count": 738,
   "id": "76da5eec",
   "metadata": {},
   "outputs": [
    {
     "data": {
      "text/plain": [
       "SelectKBest(k=9, score_func=<function chi2 at 0x000001E8A3E68B80>)"
      ]
     },
     "execution_count": 738,
     "metadata": {},
     "output_type": "execute_result"
    }
   ],
   "source": [
    "#k - количество признаков\n",
    "Selector = SelectKBest(chi2, k=9)\n",
    "Selector.fit(X, Y)"
   ]
  },
  {
   "cell_type": "code",
   "execution_count": 739,
   "id": "c63b14c7",
   "metadata": {},
   "outputs": [
    {
     "data": {
      "text/plain": [
       "array([ True, False, False,  True, False, False, False, False,  True,\n",
       "       False,  True, False,  True,  True, False,  True, False, False,\n",
       "       False,  True, False, False, False, False, False, False, False,\n",
       "       False, False, False, False, False, False, False, False,  True])"
      ]
     },
     "execution_count": 739,
     "metadata": {},
     "output_type": "execute_result"
    }
   ],
   "source": [
    "#покажет признаки,которые он выбирает,что подходит нам и что нет,проверит степень влияния\n",
    "Selector.get_support()\n"
   ]
  },
  {
   "cell_type": "code",
   "execution_count": 740,
   "id": "9a7549fb",
   "metadata": {},
   "outputs": [
    {
     "ename": "AttributeError",
     "evalue": "'numpy.ndarray' object has no attribute 'columns'",
     "output_type": "error",
     "traceback": [
      "\u001b[1;31m---------------------------------------------------------------------------\u001b[0m",
      "\u001b[1;31mAttributeError\u001b[0m                            Traceback (most recent call last)",
      "\u001b[1;32m~\\AppData\\Local\\Temp/ipykernel_15136/3189601710.py\u001b[0m in \u001b[0;36m<module>\u001b[1;34m\u001b[0m\n\u001b[1;32m----> 1\u001b[1;33m \u001b[0mX\u001b[0m\u001b[1;33m.\u001b[0m\u001b[0mcolumns\u001b[0m\u001b[1;33m[\u001b[0m\u001b[0mSelector\u001b[0m\u001b[1;33m.\u001b[0m\u001b[0mget_support\u001b[0m\u001b[1;33m(\u001b[0m\u001b[1;33m)\u001b[0m\u001b[1;33m]\u001b[0m\u001b[1;33m.\u001b[0m\u001b[0mtolist\u001b[0m\u001b[1;33m(\u001b[0m\u001b[1;33m)\u001b[0m\u001b[1;33m\u001b[0m\u001b[1;33m\u001b[0m\u001b[0m\n\u001b[0m",
      "\u001b[1;31mAttributeError\u001b[0m: 'numpy.ndarray' object has no attribute 'columns'"
     ]
    }
   ],
   "source": [
    "X.columns[Selector.get_support()].tolist()"
   ]
  },
  {
   "cell_type": "code",
   "execution_count": null,
   "id": "fb4e1621",
   "metadata": {},
   "outputs": [],
   "source": [
    "drop_cols = X.columns[~Selector.get_support()].tolist()"
   ]
  },
  {
   "cell_type": "code",
   "execution_count": null,
   "id": "8dc19c0b",
   "metadata": {},
   "outputs": [],
   "source": [
    "drop_cols"
   ]
  },
  {
   "cell_type": "code",
   "execution_count": null,
   "id": "64c25893",
   "metadata": {},
   "outputs": [],
   "source": [
    "X_train = X.drop(drop_cols, axis = 1)"
   ]
  },
  {
   "cell_type": "markdown",
   "id": "b8544134",
   "metadata": {},
   "source": [
    "# CW18"
   ]
  },
  {
   "cell_type": "code",
   "execution_count": null,
   "id": "45a34c9d",
   "metadata": {},
   "outputs": [],
   "source": []
  },
  {
   "cell_type": "code",
   "execution_count": 606,
   "id": "8ce500bb",
   "metadata": {},
   "outputs": [
    {
     "ename": "AttributeError",
     "evalue": "'numpy.ndarray' object has no attribute 'columns'",
     "output_type": "error",
     "traceback": [
      "\u001b[1;31m---------------------------------------------------------------------------\u001b[0m",
      "\u001b[1;31mAttributeError\u001b[0m                            Traceback (most recent call last)",
      "\u001b[1;32m~\\AppData\\Local\\Temp/ipykernel_15136/3000461227.py\u001b[0m in \u001b[0;36m<module>\u001b[1;34m\u001b[0m\n\u001b[0;32m      1\u001b[0m \u001b[1;31m# create a figure to plot a bar, where x axis is features, and Y indicating the importance of each feature\u001b[0m\u001b[1;33m\u001b[0m\u001b[1;33m\u001b[0m\u001b[0m\n\u001b[0;32m      2\u001b[0m \u001b[0mplt\u001b[0m\u001b[1;33m.\u001b[0m\u001b[0mfigure\u001b[0m\u001b[1;33m(\u001b[0m\u001b[0mfigsize\u001b[0m\u001b[1;33m=\u001b[0m\u001b[1;33m(\u001b[0m\u001b[1;36m12\u001b[0m\u001b[1;33m,\u001b[0m\u001b[1;36m12\u001b[0m\u001b[1;33m)\u001b[0m\u001b[1;33m)\u001b[0m\u001b[1;33m\u001b[0m\u001b[1;33m\u001b[0m\u001b[0m\n\u001b[1;32m----> 3\u001b[1;33m \u001b[0mplt\u001b[0m\u001b[1;33m.\u001b[0m\u001b[0mbar\u001b[0m\u001b[1;33m(\u001b[0m\u001b[0mX\u001b[0m\u001b[1;33m.\u001b[0m\u001b[0mcolumns\u001b[0m\u001b[1;33m,\u001b[0m \u001b[0mrandfor_cl\u001b[0m\u001b[1;33m.\u001b[0m\u001b[0mfeature_importances_\u001b[0m\u001b[1;33m)\u001b[0m\u001b[1;33m\u001b[0m\u001b[1;33m\u001b[0m\u001b[0m\n\u001b[0m\u001b[0;32m      4\u001b[0m \u001b[0mplt\u001b[0m\u001b[1;33m.\u001b[0m\u001b[0mxticks\u001b[0m\u001b[1;33m(\u001b[0m\u001b[0mrotation\u001b[0m\u001b[1;33m=\u001b[0m\u001b[1;36m60\u001b[0m\u001b[1;33m)\u001b[0m\u001b[1;33m;\u001b[0m\u001b[1;33m\u001b[0m\u001b[1;33m\u001b[0m\u001b[0m\n",
      "\u001b[1;31mAttributeError\u001b[0m: 'numpy.ndarray' object has no attribute 'columns'"
     ]
    },
    {
     "data": {
      "text/plain": [
       "<Figure size 864x864 with 0 Axes>"
      ]
     },
     "metadata": {},
     "output_type": "display_data"
    }
   ],
   "source": [
    "# create a figure to plot a bar, where x axis is features, and Y indicating the importance of each feature\n",
    "plt.figure(figsize=(12,12))\n",
    "plt.bar(X.columns, randfor_cl.feature_importances_)\n",
    "plt.xticks(rotation=60);columns=df.columns"
   ]
  },
  {
   "cell_type": "code",
   "execution_count": null,
   "id": "9ab5cb11",
   "metadata": {},
   "outputs": [],
   "source": []
  },
  {
   "cell_type": "markdown",
   "id": "d91d1c7b",
   "metadata": {},
   "source": [
    "# Адаптивный бустинг (Adaptive boosting)"
   ]
  },
  {
   "cell_type": "raw",
   "id": "585c25e7",
   "metadata": {},
   "source": [
    "AdaBoost can be used to boost the performance of any machine learning algorithm. \n",
    "It is best used with weak learners. \n",
    "These are models that achieve accuracy just above random chance on a classification problem. \n",
    "\n",
    "\n",
    "method fit : Build a boosted classifier from the training set (X_train, Y_train).\n",
    "method predict: Predict classes for X.\n",
    "\n",
    "confusion matrix:\n",
    "It is a table that is used in classification problems to assess where errors in the model were made. The rows represent the actual classes the outcomes should have been. While the columns represent the predictions we have made.\n",
    "\n",
    "\n",
    "precision_score:\n",
    "The precision is the ratio tp / (tp + fp) where tp is the number of true positives and fp the number of false positives. The precision is intuitively the ability of the classifier not to label as positive a sample that is negative.\n",
    "The best value is 1 and the worst value is 0.\n",
    "\n",
    "recall_score:\n",
    "The recall is the ratio tp / (tp + fn) where tp is the number of true positives and fn the number of false negatives. The recall is intuitively the ability of the classifier to find all the positive samples.\n",
    "The best value is 1 and the worst value is 0.\n",
    "\n",
    "f1_score:\n",
    "The F1 score can be interpreted as a harmonic mean of the precision and recall, where an F1 score reaches its best value at 1 and worst score at 0. The relative contribution of precision and recall to the F1 score are equal."
   ]
  },
  {
   "cell_type": "code",
   "execution_count": 582,
   "id": "a8b90834",
   "metadata": {},
   "outputs": [],
   "source": [
    "from sklearn.ensemble import AdaBoostClassifier\n",
    "from sklearn import tree\n",
    "clf = tree.DecisionTreeClassifier()"
   ]
  },
  {
   "cell_type": "code",
   "execution_count": 586,
   "id": "459fa59b",
   "metadata": {},
   "outputs": [],
   "source": [
    "Ada_clf = AdaBoostClassifier(base_estimator = tree.DecisionTreeClassifier(max_depth = 7))"
   ]
  },
  {
   "cell_type": "code",
   "execution_count": 587,
   "id": "36ae9fd8",
   "metadata": {},
   "outputs": [
    {
     "data": {
      "text/plain": [
       "AdaBoostClassifier(base_estimator=DecisionTreeClassifier(max_depth=7))"
      ]
     },
     "execution_count": 587,
     "metadata": {},
     "output_type": "execute_result"
    }
   ],
   "source": [
    "Ada_clf.fit(X_train, Y_train)"
   ]
  },
  {
   "cell_type": "code",
   "execution_count": 588,
   "id": "6e0dadf1",
   "metadata": {},
   "outputs": [
    {
     "data": {
      "text/plain": [
       "(0.6609696796338673, 0.7761567617821641)"
      ]
     },
     "execution_count": 588,
     "metadata": {},
     "output_type": "execute_result"
    }
   ],
   "source": [
    "Ada_clf.score(X_test,Y_test), Ada_clf.score(X_train, Y_train)"
   ]
  },
  {
   "cell_type": "code",
   "execution_count": 589,
   "id": "26bb38b4",
   "metadata": {},
   "outputs": [],
   "source": [
    "pred = Ada_clf.predict(X_test)"
   ]
  },
  {
   "cell_type": "code",
   "execution_count": 590,
   "id": "de26b866",
   "metadata": {},
   "outputs": [
    {
     "data": {
      "text/plain": [
       "array([1, 1, 1, ..., 1, 2, 1], dtype=int64)"
      ]
     },
     "execution_count": 590,
     "metadata": {},
     "output_type": "execute_result"
    }
   ],
   "source": [
    "pred"
   ]
  },
  {
   "cell_type": "code",
   "execution_count": 591,
   "id": "89de1c18",
   "metadata": {},
   "outputs": [
    {
     "data": {
      "text/plain": [
       "array([[5899,  948,  583],\n",
       "       [1953, 2037,  103],\n",
       "       [1090,   64, 1307]], dtype=int64)"
      ]
     },
     "execution_count": 591,
     "metadata": {},
     "output_type": "execute_result"
    }
   ],
   "source": [
    "confusion_matrix(Y_test,pred)\n"
   ]
  },
  {
   "cell_type": "code",
   "execution_count": 592,
   "id": "89d7ec72",
   "metadata": {},
   "outputs": [
    {
     "name": "stderr",
     "output_type": "stream",
     "text": [
      "C:\\Users\\laptop\\anaconda3\\lib\\site-packages\\sklearn\\metrics\\_classification.py:1298: UserWarning: Note that pos_label (set to 'positive') is ignored when average != 'binary' (got 'micro'). You may use labels=[pos_label] to specify a single positive class.\n",
      "  warnings.warn(\"Note that pos_label (set to %r) is ignored when \"\n",
      "C:\\Users\\laptop\\anaconda3\\lib\\site-packages\\sklearn\\metrics\\_classification.py:1298: UserWarning: Note that pos_label (set to 'positive') is ignored when average != 'binary' (got 'micro'). You may use labels=[pos_label] to specify a single positive class.\n",
      "  warnings.warn(\"Note that pos_label (set to %r) is ignored when \"\n",
      "C:\\Users\\laptop\\anaconda3\\lib\\site-packages\\sklearn\\metrics\\_classification.py:1298: UserWarning: Note that pos_label (set to 'positive') is ignored when average != 'binary' (got 'micro'). You may use labels=[pos_label] to specify a single positive class.\n",
      "  warnings.warn(\"Note that pos_label (set to %r) is ignored when \"\n"
     ]
    },
    {
     "data": {
      "text/plain": [
       "(0.6609696796338673, 0.6609696796338673, 0.6609696796338673)"
      ]
     },
     "execution_count": 592,
     "metadata": {},
     "output_type": "execute_result"
    }
   ],
   "source": [
    "precision_score(Y_test,pred,pos_label='positive', average='micro'), recall_score(Y_test,pred,pos_label='positive', average='micro'), f1_score(Y_test,pred,pos_label='positive', average='micro') "
   ]
  },
  {
   "cell_type": "code",
   "execution_count": null,
   "id": "e2113c4f",
   "metadata": {},
   "outputs": [],
   "source": []
  },
  {
   "cell_type": "code",
   "execution_count": null,
   "id": "f207cc57",
   "metadata": {},
   "outputs": [],
   "source": []
  },
  {
   "cell_type": "markdown",
   "id": "1f59c3cf",
   "metadata": {},
   "source": [
    "# sickit-learn KNN Classifier based on k-nearest neighbors.\n",
    "\n",
    "#The target is predicted by local interpolation of the targets associated of the nearest neighbors in the training set."
   ]
  },
  {
   "cell_type": "raw",
   "id": "159b0c47",
   "metadata": {},
   "source": [
    "Classifier implementing the k-nearest neighbors vote.\n",
    "\n",
    "sc = StandardScaler():\n",
    "Standardize features by removing the mean and scaling to unit variance.\n",
    "Standardization of a dataset is a common requirement for many machine learning estimators: \n",
    "they might behave badly if the individual features do not more or less look like standard normally distributed data.\n",
    "\n",
    "\n",
    "method transform: Perform standardization by centering and scaling.\n",
    "\n",
    "method fit: Fit the model using X as training data and y as target values.\n",
    "\n",
    "method score: Returns the mean accuracy on the given test data and labels.\n"
   ]
  },
  {
   "cell_type": "code",
   "execution_count": null,
   "id": "69603348",
   "metadata": {},
   "outputs": [],
   "source": []
  },
  {
   "cell_type": "code",
   "execution_count": 760,
   "id": "b9d1b2d7",
   "metadata": {},
   "outputs": [],
   "source": [
    "from sklearn.neighbors import KNeighborsClassifier\n",
    "knn_cl = KNeighborsClassifier(n_neighbors=3, weights='uniform', algorithm='auto', leaf_size=30, p=2, metric='minkowski', metric_params=None, n_jobs=None)"
   ]
  },
  {
   "cell_type": "code",
   "execution_count": 761,
   "id": "9c917fbb",
   "metadata": {},
   "outputs": [],
   "source": [
    "# place for dataset X,Y again:\n",
    "\n",
    "from sklearn.model_selection import train_test_split\n",
    "X_train, X_test, Y_train,  Y_test =  train_test_split(X, Y, test_size = 0.2, random_state = 0)"
   ]
  },
  {
   "cell_type": "code",
   "execution_count": 762,
   "id": "30693b1f",
   "metadata": {},
   "outputs": [],
   "source": [
    "sc = StandardScaler()"
   ]
  },
  {
   "cell_type": "code",
   "execution_count": 763,
   "id": "becf395c",
   "metadata": {},
   "outputs": [
    {
     "data": {
      "text/plain": [
       "StandardScaler()"
      ]
     },
     "execution_count": 763,
     "metadata": {},
     "output_type": "execute_result"
    }
   ],
   "source": [
    "sc.fit(X_train)"
   ]
  },
  {
   "cell_type": "code",
   "execution_count": 764,
   "id": "6948ad87",
   "metadata": {},
   "outputs": [],
   "source": [
    "X_train = sc.transform(X_train)\n",
    "X_test = sc.transform(X_test)"
   ]
  },
  {
   "cell_type": "code",
   "execution_count": 765,
   "id": "dcc5555e",
   "metadata": {},
   "outputs": [
    {
     "data": {
      "text/plain": [
       "KNeighborsClassifier(n_neighbors=3)"
      ]
     },
     "execution_count": 765,
     "metadata": {},
     "output_type": "execute_result"
    }
   ],
   "source": [
    "knn_cl.fit(X_train, Y_train) "
   ]
  },
  {
   "cell_type": "code",
   "execution_count": 766,
   "id": "6cd721f3",
   "metadata": {},
   "outputs": [
    {
     "data": {
      "text/plain": [
       "(0.7927662161195738, 0.618850114416476)"
      ]
     },
     "execution_count": 766,
     "metadata": {},
     "output_type": "execute_result"
    }
   ],
   "source": [
    "knn_cl.score(X_train, Y_train), knn_cl.score(X_test, Y_test)"
   ]
  },
  {
   "cell_type": "code",
   "execution_count": null,
   "id": "b4cc1ec0",
   "metadata": {},
   "outputs": [],
   "source": []
  },
  {
   "cell_type": "markdown",
   "id": "c470a43e",
   "metadata": {},
   "source": [
    "# GridSearchCV "
   ]
  },
  {
   "cell_type": "markdown",
   "id": "69143ec1",
   "metadata": {},
   "source": [
    "GridSearchCV is the process of performing hyperparameter tuning in order to determine the optimal values for a given model. As mentioned above, the performance of a model significantly depends on the value of hyperparameters."
   ]
  },
  {
   "cell_type": "code",
   "execution_count": 767,
   "id": "3b0d4036",
   "metadata": {},
   "outputs": [],
   "source": [
    "from sklearn.model_selection import GridSearchCV"
   ]
  },
  {
   "cell_type": "code",
   "execution_count": 779,
   "id": "d4adfee8",
   "metadata": {},
   "outputs": [
    {
     "data": {
      "text/plain": [
       "KNeighborsClassifier(n_neighbors=3)"
      ]
     },
     "execution_count": 779,
     "metadata": {},
     "output_type": "execute_result"
    }
   ],
   "source": [
    "# Поиск гиперпараметров \n",
    "# проведем настройку гиперпараметров для дерева и ближайших соседей\n",
    "#we will adjust the hyperparameters for the tree and nearest neighbors;\n",
    "\n",
    "tree = DecisionTreeClassifier(max_depth=7, min_samples_split=2, min_samples_leaf=1,random_state=0)\n",
    "knn = KNeighborsClassifier(n_neighbors=3)\n",
    "\n",
    "tree.fit(X_train, Y_train)\n",
    "knn.fit(X_train, Y_train)"
   ]
  },
  {
   "cell_type": "code",
   "execution_count": 780,
   "id": "34a0d0db",
   "metadata": {},
   "outputs": [],
   "source": [
    "# Оценим точность\n",
    "#Estimate the accuracy\n",
    "from sklearn.metrics import f1_score, roc_auc_score, accuracy_score"
   ]
  },
  {
   "cell_type": "code",
   "execution_count": 783,
   "id": "9f605f5b",
   "metadata": {},
   "outputs": [
    {
     "ename": "ValueError",
     "evalue": "multi_class must be in ('ovo', 'ovr')",
     "output_type": "error",
     "traceback": [
      "\u001b[1;31m---------------------------------------------------------------------------\u001b[0m",
      "\u001b[1;31mValueError\u001b[0m                                Traceback (most recent call last)",
      "\u001b[1;32m~\\AppData\\Local\\Temp/ipykernel_15136/2597274600.py\u001b[0m in \u001b[0;36m<module>\u001b[1;34m\u001b[0m\n\u001b[0;32m      1\u001b[0m \u001b[0mtree_pred\u001b[0m \u001b[1;33m=\u001b[0m \u001b[0mtree\u001b[0m\u001b[1;33m.\u001b[0m\u001b[0mpredict\u001b[0m\u001b[1;33m(\u001b[0m\u001b[0mX_test\u001b[0m\u001b[1;33m)\u001b[0m\u001b[1;33m\u001b[0m\u001b[1;33m\u001b[0m\u001b[0m\n\u001b[1;32m----> 2\u001b[1;33m \u001b[0mroc_auc_score\u001b[0m \u001b[1;33m(\u001b[0m\u001b[0mY_test\u001b[0m\u001b[1;33m,\u001b[0m \u001b[0mtree_pred\u001b[0m\u001b[1;33m)\u001b[0m\u001b[1;31m# accuracy_score (Y_test, tree_pred,multi_class='ovr' )\u001b[0m\u001b[1;33m\u001b[0m\u001b[1;33m\u001b[0m\u001b[0m\n\u001b[0m",
      "\u001b[1;32m~\\anaconda3\\lib\\site-packages\\sklearn\\utils\\validation.py\u001b[0m in \u001b[0;36minner_f\u001b[1;34m(*args, **kwargs)\u001b[0m\n\u001b[0;32m     61\u001b[0m             \u001b[0mextra_args\u001b[0m \u001b[1;33m=\u001b[0m \u001b[0mlen\u001b[0m\u001b[1;33m(\u001b[0m\u001b[0margs\u001b[0m\u001b[1;33m)\u001b[0m \u001b[1;33m-\u001b[0m \u001b[0mlen\u001b[0m\u001b[1;33m(\u001b[0m\u001b[0mall_args\u001b[0m\u001b[1;33m)\u001b[0m\u001b[1;33m\u001b[0m\u001b[1;33m\u001b[0m\u001b[0m\n\u001b[0;32m     62\u001b[0m             \u001b[1;32mif\u001b[0m \u001b[0mextra_args\u001b[0m \u001b[1;33m<=\u001b[0m \u001b[1;36m0\u001b[0m\u001b[1;33m:\u001b[0m\u001b[1;33m\u001b[0m\u001b[1;33m\u001b[0m\u001b[0m\n\u001b[1;32m---> 63\u001b[1;33m                 \u001b[1;32mreturn\u001b[0m \u001b[0mf\u001b[0m\u001b[1;33m(\u001b[0m\u001b[1;33m*\u001b[0m\u001b[0margs\u001b[0m\u001b[1;33m,\u001b[0m \u001b[1;33m**\u001b[0m\u001b[0mkwargs\u001b[0m\u001b[1;33m)\u001b[0m\u001b[1;33m\u001b[0m\u001b[1;33m\u001b[0m\u001b[0m\n\u001b[0m\u001b[0;32m     64\u001b[0m \u001b[1;33m\u001b[0m\u001b[0m\n\u001b[0;32m     65\u001b[0m             \u001b[1;31m# extra_args > 0\u001b[0m\u001b[1;33m\u001b[0m\u001b[1;33m\u001b[0m\u001b[0m\n",
      "\u001b[1;32m~\\anaconda3\\lib\\site-packages\\sklearn\\metrics\\_ranking.py\u001b[0m in \u001b[0;36mroc_auc_score\u001b[1;34m(y_true, y_score, average, sample_weight, max_fpr, multi_class, labels)\u001b[0m\n\u001b[0;32m    534\u001b[0m                              \"instead\".format(max_fpr))\n\u001b[0;32m    535\u001b[0m         \u001b[1;32mif\u001b[0m \u001b[0mmulti_class\u001b[0m \u001b[1;33m==\u001b[0m \u001b[1;34m'raise'\u001b[0m\u001b[1;33m:\u001b[0m\u001b[1;33m\u001b[0m\u001b[1;33m\u001b[0m\u001b[0m\n\u001b[1;32m--> 536\u001b[1;33m             \u001b[1;32mraise\u001b[0m \u001b[0mValueError\u001b[0m\u001b[1;33m(\u001b[0m\u001b[1;34m\"multi_class must be in ('ovo', 'ovr')\"\u001b[0m\u001b[1;33m)\u001b[0m\u001b[1;33m\u001b[0m\u001b[1;33m\u001b[0m\u001b[0m\n\u001b[0m\u001b[0;32m    537\u001b[0m         return _multiclass_roc_auc_score(y_true, y_score, labels,\n\u001b[0;32m    538\u001b[0m                                          multi_class, average, sample_weight)\n",
      "\u001b[1;31mValueError\u001b[0m: multi_class must be in ('ovo', 'ovr')"
     ]
    }
   ],
   "source": [
    "tree_pred = tree.predict(X_test)\n",
    "roc_auc_score (Y_test, tree_pred)# accuracy_score (Y_test, tree_pred,multi_class='ovr' )"
   ]
  },
  {
   "cell_type": "code",
   "execution_count": null,
   "id": "2892ef5a",
   "metadata": {},
   "outputs": [],
   "source": [
    "knn_pred = knn.predict(X_test)\n",
    "roc_auc_score (Y_test, knn_pred), accuracy_score (Y_test, knn_pred)\n",
    "# accuracy_score - оцениваем точность попадания в класс\n",
    "# roc_auc_score - оцениваем площать под кривой"
   ]
  },
  {
   "cell_type": "code",
   "execution_count": null,
   "id": "de6f95ea",
   "metadata": {},
   "outputs": [],
   "source": [
    "# поиск для дерева\n",
    "# формируем словарь\n",
    "tree_params = {'max_depth': range(1,11), 'max_features': range(4,19)}"
   ]
  },
  {
   "cell_type": "code",
   "execution_count": null,
   "id": "dc124da0",
   "metadata": {},
   "outputs": [],
   "source": [
    "tree_grid = GridSearchCV(tree, tree_params,cv=5, verbose=True)"
   ]
  },
  {
   "cell_type": "code",
   "execution_count": null,
   "id": "fd4f73b7",
   "metadata": {},
   "outputs": [],
   "source": [
    "tree_grid.fit(X_train, Y_train)"
   ]
  },
  {
   "cell_type": "code",
   "execution_count": null,
   "id": "5cf9dcab",
   "metadata": {},
   "outputs": [],
   "source": [
    "tree_grid.best_params_"
   ]
  },
  {
   "cell_type": "code",
   "execution_count": null,
   "id": "1c6c0649",
   "metadata": {},
   "outputs": [],
   "source": [
    "tree_grid.best_score_"
   ]
  },
  {
   "cell_type": "code",
   "execution_count": null,
   "id": "f7bc4b14",
   "metadata": {},
   "outputs": [],
   "source": [
    "pred = tree_grid.predict(X_test)"
   ]
  },
  {
   "cell_type": "code",
   "execution_count": null,
   "id": "55e3ac34",
   "metadata": {},
   "outputs": [],
   "source": [
    "roc_auc_score(Y_test, pred), accuracy_score(Y_test, pred)"
   ]
  },
  {
   "cell_type": "code",
   "execution_count": null,
   "id": "1a6b713a",
   "metadata": {},
   "outputs": [],
   "source": []
  },
  {
   "cell_type": "code",
   "execution_count": null,
   "id": "7ef0b9f0",
   "metadata": {},
   "outputs": [],
   "source": []
  },
  {
   "cell_type": "code",
   "execution_count": null,
   "id": "2af74da5",
   "metadata": {},
   "outputs": [],
   "source": [
    "# поиск для соседей + место для датасета (cw19)"
   ]
  },
  {
   "cell_type": "code",
   "execution_count": null,
   "id": "ab261dfb",
   "metadata": {},
   "outputs": [],
   "source": [
    "sc.fit(X_train)\n",
    "X = sc.transform(X_train)\n",
    "X_test = sc.transform(X_test)"
   ]
  },
  {
   "cell_type": "code",
   "execution_count": null,
   "id": "3dc0958b",
   "metadata": {},
   "outputs": [],
   "source": [
    "knn_params= {'n_neighbors':range(1,11)}"
   ]
  },
  {
   "cell_type": "code",
   "execution_count": null,
   "id": "f3734e59",
   "metadata": {},
   "outputs": [],
   "source": [
    "knn_grid = GridSearchCV(knn, knr_params,cv=5, verbose=True)"
   ]
  },
  {
   "cell_type": "code",
   "execution_count": null,
   "id": "fbd4a315",
   "metadata": {},
   "outputs": [],
   "source": [
    "knn_grid.fit(X_train,Y_train)"
   ]
  },
  {
   "cell_type": "code",
   "execution_count": null,
   "id": "e708b5b5",
   "metadata": {},
   "outputs": [],
   "source": [
    "knn_grid.score(X_train,Y_train)"
   ]
  },
  {
   "cell_type": "code",
   "execution_count": null,
   "id": "fe7f3140",
   "metadata": {},
   "outputs": [],
   "source": [
    "pre = knn_grid.predict(X_test)"
   ]
  },
  {
   "cell_type": "code",
   "execution_count": null,
   "id": "dd6a6501",
   "metadata": {},
   "outputs": [],
   "source": [
    "roc_auc_score(Y_test, pre), accuracy_score(Y_test, pre)"
   ]
  },
  {
   "cell_type": "code",
   "execution_count": null,
   "id": "1ac2417d",
   "metadata": {},
   "outputs": [],
   "source": []
  },
  {
   "cell_type": "markdown",
   "id": "7486cedb",
   "metadata": {},
   "source": [
    "# Кривые обучения (Learning Curves)"
   ]
  },
  {
   "cell_type": "raw",
   "id": "f8cb5727",
   "metadata": {},
   "source": [
    "Learning curve.\n",
    "\n",
    "Determines cross-validated training and test scores for different training set sizes.\n",
    "\n",
    "A cross-validation generator splits the whole dataset k times in training and test data. \n",
    "Subsets of the training set with varying sizes will be used to train the estimator and\n",
    "a score for each training subset size and the test set will be computed. \n",
    "Afterwards, the scores will be averaged over all k runs for each training subset size."
   ]
  },
  {
   "cell_type": "code",
   "execution_count": 796,
   "id": "cb13153c",
   "metadata": {},
   "outputs": [],
   "source": [
    "# Передаем какую-то модель и полное наше множество.\n",
    "# we pass model and our complete set (X,Y).\n",
    "# Передаем какую-то модель и полное наше множество.\n",
    "def plot_lc_cl (X, Y, depth):\n",
    "    X_t, X_v, Y_t, Y_v = train_test_split(X, Y, test_size = 0.2, random_state = 5)\n",
    "#списки заводим для накопления ошибок (значения метрик accracy) \n",
    "    acc_t, acc_v = [], [] \n",
    "#    (1, len(X_t)) - это значит мы идем от первого элемента до конца длины нашего множества.\n",
    "    for m in depth:\n",
    "        model = DecisionTreeClassifier(max_depth = m)\n",
    "#        срез это фактически первый элемент и на нем обучаем данные и так по одному идет\n",
    "        model.fit (X_t, Y_t)\n",
    "        pred_t = model.predict(X_t)\n",
    "        pred_v = model.predict(X_v)\n",
    "        \n",
    "        acc_t.append(accuracy_score(Y_t, pred_t))\n",
    "        acc_v.append(accuracy_score(Y_v, pred_v))\n",
    "    plt.plot(acc_t, 'r--^',label='Training Accuracy')\n",
    "    plt.plot(acc_v, 'b-o',label='Test Accuracy')\n",
    "    plt.grid()"
   ]
  },
  {
   "cell_type": "code",
   "execution_count": 797,
   "id": "7aeae6ed",
   "metadata": {},
   "outputs": [
    {
     "data": {
      "text/plain": [
       "Text(0, 0.5, 'Model accuracy')"
      ]
     },
     "execution_count": 797,
     "metadata": {},
     "output_type": "execute_result"
    },
    {
     "data": {
      "image/png": "[encoded data removed]",
      "text/plain": [
       "<Figure size 1080x576 with 1 Axes>"
      ]
     },
     "metadata": {},
     "output_type": "display_data"
    }
   ],
   "source": [
    "# по оси y откладывается величина точности, по X, количество примеров,по которым учится модель, синяя линия это проверочная ,красная train обучающая\n",
    "plot_lc_cl(X,Y,np.array(range(2,20,1)))\n",
    "plt.title('Learning Curve')\n",
    "plt.xlabel('Training Data Size')\n",
    "plt.ylabel('Model accuracy')\n"
   ]
  },
  {
   "cell_type": "code",
   "execution_count": null,
   "id": "7298aed9",
   "metadata": {},
   "outputs": [],
   "source": []
  },
  {
   "cell_type": "code",
   "execution_count": null,
   "id": "a41744db",
   "metadata": {},
   "outputs": [],
   "source": []
  },
  {
   "cell_type": "code",
   "execution_count": null,
   "id": "f408feec",
   "metadata": {},
   "outputs": [],
   "source": []
  },
  {
   "cell_type": "code",
   "execution_count": null,
   "id": "45a1f4ac",
   "metadata": {},
   "outputs": [],
   "source": []
  },
  {
   "cell_type": "markdown",
   "id": "1e2a57f3",
   "metadata": {},
   "source": [
    "# Classification with voting"
   ]
  },
  {
   "cell_type": "raw",
   "id": "4f4e70c3",
   "metadata": {},
   "source": [
    "A Voting Classifier is a machine learning model that trains on an ensemble of numerous models \n",
    "and predicts an output (class) based on their highest probability of chosen class as the output.\n",
    "It simply aggregates the findings of each classifier passed into Voting Classifier \n",
    "and predicts the output class based on the highest majority of voting.\n",
    "The idea is instead of creating separate dedicated models and finding the accuracy for each them,\n",
    "we create a single model which trains by these models and predicts output based on their combined majority \n",
    "of voting for each output class."
   ]
  },
  {
   "cell_type": "raw",
   "id": "63dd7d31",
   "metadata": {},
   "source": [
    "Hard Voting: In hard voting, the predicted output class is a class with the highest majority of votes \n",
    "i.e the class which had the highest probability of being predicted by each of the classifiers. \n",
    "Suppose three classifiers predicted the output class(A, A, B), so here the majority predicted A as output. \n",
    "Hence A will be the final prediction."
   ]
  },
  {
   "cell_type": "markdown",
   "id": "87d7ef25",
   "metadata": {},
   "source": [
    "# Hard Voting"
   ]
  },
  {
   "cell_type": "code",
   "execution_count": 798,
   "id": "8e96110b",
   "metadata": {},
   "outputs": [],
   "source": [
    "X_train, X_test, Y_train, Y_test = train_test_split(X, Y, random_state=0)"
   ]
  },
  {
   "cell_type": "code",
   "execution_count": 799,
   "id": "eb0aac85",
   "metadata": {},
   "outputs": [],
   "source": [
    "from sklearn.ensemble import RandomForestClassifier\n",
    "from sklearn.ensemble import VotingClassifier\n",
    "from sklearn.linear_model import LogisticRegression\n",
    "from sklearn.svm import SVC\n",
    "\n",
    "#Support vector machines (SVMs) \n",
    "#are a set of supervised learning methods used for classification, regression and outliers detection.\n",
    "\n",
    "\n",
    "# Жесткое голосование\n",
    "#Hard Voting\n",
    "log_reg = LogisticRegression(random_state = 0)\n",
    "rnd_clf = RandomForestClassifier(random_state = 0)\n",
    "svm_clf = SVC(random_state = 0)\n",
    "\n",
    "voting_clf = VotingClassifier(\n",
    "    estimators=[('lr', log_reg), ('rf', rnd_clf), ('svc', svm_clf)],\n",
    "    voting='hard')"
   ]
  },
  {
   "cell_type": "code",
   "execution_count": null,
   "id": "b8e1e4ce",
   "metadata": {},
   "outputs": [
    {
     "name": "stderr",
     "output_type": "stream",
     "text": [
      "C:\\Users\\laptop\\anaconda3\\lib\\site-packages\\sklearn\\linear_model\\_logistic.py:763: ConvergenceWarning: lbfgs failed to converge (status=1):\n",
      "STOP: TOTAL NO. of ITERATIONS REACHED LIMIT.\n",
      "\n",
      "Increase the number of iterations (max_iter) or scale the data as shown in:\n",
      "    https://scikit-learn.org/stable/modules/preprocessing.html\n",
      "Please also refer to the documentation for alternative solver options:\n",
      "    https://scikit-learn.org/stable/modules/linear_model.html#logistic-regression\n",
      "  n_iter_i = _check_optimize_result(\n"
     ]
    }
   ],
   "source": [
    "voting_clf.fit(X_train, Y_train)"
   ]
  },
  {
   "cell_type": "code",
   "execution_count": null,
   "id": "624bbfa5",
   "metadata": {},
   "outputs": [],
   "source": [
    "#формируем кортеж из всех наших классификаторов, потом их перебираем,тренируем их,делаем предсказание на тестовом наборе и печататем\n",
    "#we form a tuple of all our classifiers , then iterate over them, train them, make a prediction on the test set and print them\n",
    "for clf in (log_reg, rnd_clf, svm_clf, voting_clf):\n",
    "    clf.fit(X_train, Y_train)\n",
    "    y_pred = clf.predict(X_test)\n",
    "print(clf.__class__.__name__, accuracy_score(Y_test, y_pred))"
   ]
  },
  {
   "cell_type": "raw",
   "id": "3faeb216",
   "metadata": {},
   "source": [
    "Soft Voting: In soft voting, the output class is the prediction based on the average \n",
    "of probability given to that class. Suppose given some input to three models, \n",
    "the prediction probability for class A = (0.30, 0.47, 0.53) and B = (0.20, 0.32, 0.40). \n",
    "So the average for class A is 0.4333 and B is 0.3067, the winner is clearly class A\n",
    "because it had the highest probability averaged by each classifier."
   ]
  },
  {
   "cell_type": "code",
   "execution_count": null,
   "id": "ccbeda42",
   "metadata": {},
   "outputs": [],
   "source": [
    "# Мягкое голосование,считаются вероятности и потом складываются. НО: ВАЖНО,регрессоры должны уметь выдавать вероятность\n",
    "#не все классификаторы умеют это делать.\n",
    "\n",
    "# Soft voting, probabilities are considered and then added up. BUT: IMPORTANT, regressors must be able to output the probability\n",
    "# not all classifiers can do this.\n",
    "\n",
    "log_reg = LogisticRegression()\n",
    "rnd_clf = RandomForestClassifier()\n",
    "svm_clf = SVC(probability=True)\n",
    "\n",
    "voting_clf = VotingClassifier(\n",
    "    estimators=[('lr', log_clf), ('rf', rnd_clf), ('svc', svm_clf)],\n",
    "    voting='soft')\n",
    "voting_clf.fit(X_train, Y_train)"
   ]
  },
  {
   "cell_type": "code",
   "execution_count": null,
   "id": "436754ac",
   "metadata": {},
   "outputs": [],
   "source": [
    "for clf in (log_reg, rnd_clf, svm_clf, voting_clf):\n",
    "    clf.fit(X_train, Y_train)\n",
    "    y_pred = clf.predict(X_test)\n",
    "print(clf.__class__.__name__, accuracy_score(Y_test, y_pred))"
   ]
  },
  {
   "cell_type": "code",
   "execution_count": null,
   "id": "4eb7fa23",
   "metadata": {},
   "outputs": [],
   "source": []
  },
  {
   "cell_type": "code",
   "execution_count": null,
   "id": "2641e988",
   "metadata": {},
   "outputs": [],
   "source": []
  },
  {
   "cell_type": "markdown",
   "id": "12e47cbf",
   "metadata": {},
   "source": [
    "# Bagging"
   ]
  },
  {
   "cell_type": "raw",
   "id": "f1391002",
   "metadata": {},
   "source": [
    "A Bagging classifier is an ensemble meta-estimator that fits base classifiers each on \n",
    "random subsets of the original dataset and then aggregate their individual predictions \n",
    "(either by voting or by averaging) to form a final prediction."
   ]
  },
  {
   "cell_type": "code",
   "execution_count": null,
   "id": "02e630b3",
   "metadata": {},
   "outputs": [],
   "source": [
    "X_train, X_test, Y_train, Y_test = train_test_split(X, Y, random_state=0)"
   ]
  },
  {
   "cell_type": "code",
   "execution_count": null,
   "id": "3da212d3",
   "metadata": {},
   "outputs": [],
   "source": [
    "from sklearn.ensemble import BaggingClassifier\n",
    "from sklearn.tree import DecisionTreeClassifier\n",
    "\n",
    "bag_clf = BaggingClassifier(\n",
    "    DecisionTreeClassifier(random_state=0), n_estimators=500,\n",
    "    max_samples=100, bootstrap=True, n_jobs=-1, random_state=0)\n",
    "bag_clf.fit(X_train, Y_train)\n",
    "y_pred = bag_clf.predict(X_test)"
   ]
  },
  {
   "cell_type": "code",
   "execution_count": null,
   "id": "0027c4a2",
   "metadata": {},
   "outputs": [],
   "source": [
    "print(accuracy_score(Y_test, y_pred))"
   ]
  },
  {
   "cell_type": "code",
   "execution_count": null,
   "id": "6dd16b44",
   "metadata": {},
   "outputs": [],
   "source": [
    "tree_clf = DecisionTreeClassifier(random_state=0)\n",
    "tree_clf.fit(X_train, Y_train)\n",
    "y_pred_tree = tree_clf.predict(X_test)\n",
    "print(accuracy_score(Y_test, y_pred_tree))"
   ]
  },
  {
   "cell_type": "code",
   "execution_count": null,
   "id": "cab21cd3",
   "metadata": {},
   "outputs": [],
   "source": []
  },
  {
   "cell_type": "markdown",
   "id": "3382419e",
   "metadata": {},
   "source": [
    "# Automatic parameter searches"
   ]
  },
  {
   "cell_type": "markdown",
   "id": "350ab5ba",
   "metadata": {},
   "source": [
    "\n",
    "RandomizedSearchCV randomly passes the set of hyperparameters and calculate the score and gives the best set of hyperparameters which gives the best score as an output."
   ]
  },
  {
   "cell_type": "code",
   "execution_count": 598,
   "id": "5905d409",
   "metadata": {},
   "outputs": [],
   "source": [
    "from sklearn.ensemble import RandomForestClassifier\n",
    "from sklearn.model_selection import RandomizedSearchCV\n",
    "from scipy.stats import randint"
   ]
  },
  {
   "cell_type": "code",
   "execution_count": 599,
   "id": "b54b8e61",
   "metadata": {},
   "outputs": [],
   "source": [
    "#ЗАДАЕМ 20 ПАРАМЕТРОВ \n",
    "# define the parameter space that will be searched over\n",
    "param_distributions = {'n_estimators': randint(1, 20),\n",
    "                        'max_depth': randint(5, 10)}"
   ]
  },
  {
   "cell_type": "code",
   "execution_count": 601,
   "id": "dfc0426a",
   "metadata": {},
   "outputs": [
    {
     "data": {
      "text/plain": [
       "{'max_depth': 9, 'n_estimators': 16}"
      ]
     },
     "execution_count": 601,
     "metadata": {},
     "output_type": "execute_result"
    }
   ],
   "source": [
    "# now create a searchCV object and fit it to the data\n",
    "search = RandomizedSearchCV(estimator=RandomForestClassifier(random_state=0),\n",
    "                             n_iter=5,\n",
    "                             param_distributions=param_distributions,\n",
    "                             random_state=0)\n",
    "\n",
    "search.fit(X_train, Y_train)\n",
    "search.best_params_"
   ]
  },
  {
   "cell_type": "code",
   "execution_count": 602,
   "id": "0a2ab6f2",
   "metadata": {},
   "outputs": [
    {
     "data": {
      "text/plain": [
       "0.6949370709382151"
      ]
     },
     "execution_count": 602,
     "metadata": {},
     "output_type": "execute_result"
    }
   ],
   "source": [
    "# the search object now acts like a normal random forest estimator\n",
    "# with max_depth=9 and n_estimators=16 -ABOVE\n",
    "search.score(X_test, Y_test)"
   ]
  },
  {
   "cell_type": "code",
   "execution_count": null,
   "id": "7717ab8d",
   "metadata": {},
   "outputs": [],
   "source": []
  }
 ],
 "metadata": {
  "kernelspec": {
   "display_name": "Python 3 (ipykernel)",
   "language": "python",
   "name": "python3"
  },
  "language_info": {
   "codemirror_mode": {
    "name": "ipython",
    "version": 3
   },
   "file_extension": ".py",
   "mimetype": "text/x-python",
   "name": "python",
   "nbconvert_exporter": "python",
   "pygments_lexer": "ipython3",
   "version": "3.9.7"
  }
 },
 "nbformat": 4,
 "nbformat_minor": 5
}
