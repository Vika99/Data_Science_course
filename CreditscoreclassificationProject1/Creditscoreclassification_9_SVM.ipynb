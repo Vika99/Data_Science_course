{
 "cells": [
  {
   "cell_type": "code",
   "execution_count": 2,
   "id": "6509a737",
   "metadata": {},
   "outputs": [],
   "source": [
    "from sklearn.model_selection import GridSearchCV\n",
    "import pandas as pd\n",
    "import numpy as np\n",
    "import pipes as pp\n",
    "from sklearn.svm import SVC   ### замена класса,меняем на другое дальше\n",
    "\n"
   ]
  },
  {
   "cell_type": "markdown",
   "id": "79aa9a4a",
   "metadata": {},
   "source": [
    "# 1.We review the information via transformer. Preparing data for processing format"
   ]
  },
  {
   "cell_type": "code",
   "execution_count": 3,
   "id": "cdd8b58b",
   "metadata": {},
   "outputs": [],
   "source": [
    "df = pd.read_csv('train.csv')\n",
    "\n",
    "df = df.drop(['CustomerID','ID','Name','TypeofLoan','SSN'], axis = 1)"
   ]
  },
  {
   "cell_type": "code",
   "execution_count": 4,
   "id": "c3c1d9e8",
   "metadata": {},
   "outputs": [],
   "source": [
    "df = pp.myPipe.transform(df)"
   ]
  },
  {
   "cell_type": "code",
   "execution_count": 5,
   "id": "c5ca98ee",
   "metadata": {},
   "outputs": [],
   "source": [
    "X = df.drop(['CreditScore','PaymentBehaviour'], axis = 1)"
   ]
  },
  {
   "cell_type": "code",
   "execution_count": 6,
   "id": "323590b9",
   "metadata": {},
   "outputs": [],
   "source": [
    "Y = df['CreditScore']"
   ]
  },
  {
   "cell_type": "code",
   "execution_count": null,
   "id": "967ec685",
   "metadata": {},
   "outputs": [],
   "source": []
  },
  {
   "cell_type": "code",
   "execution_count": 7,
   "id": "4898f400",
   "metadata": {},
   "outputs": [],
   "source": [
    "svm_clf = SVC()    ### замена класса"
   ]
  },
  {
   "cell_type": "code",
   "execution_count": 8,
   "id": "f27d1d5c",
   "metadata": {},
   "outputs": [],
   "source": [
    "from sklearn.preprocessing import StandardScaler"
   ]
  },
  {
   "cell_type": "code",
   "execution_count": 9,
   "id": "be425c6e",
   "metadata": {},
   "outputs": [],
   "source": [
    "sc = StandardScaler()"
   ]
  },
  {
   "cell_type": "code",
   "execution_count": 11,
   "id": "428aaff8",
   "metadata": {},
   "outputs": [],
   "source": [
    "X = sc.fit_transform(X)\n",
    "#X_t = sc.transform(X_t)"
   ]
  },
  {
   "cell_type": "code",
   "execution_count": null,
   "id": "c22a46f3",
   "metadata": {},
   "outputs": [],
   "source": []
  },
  {
   "cell_type": "code",
   "execution_count": 12,
   "id": "b4536858",
   "metadata": {},
   "outputs": [],
   "source": [
    "paramgrid = { 'kernel':['poly','rbf','linear'], 'C':[1,0.5]}   ## замена параметров"
   ]
  },
  {
   "cell_type": "code",
   "execution_count": 13,
   "id": "876a2235",
   "metadata": {},
   "outputs": [],
   "source": [
    "GS_cv = GridSearchCV(svm_clf,param_grid = paramgrid, cv = 3)\n",
    "# cv - количество разбиений"
   ]
  },
  {
   "cell_type": "code",
   "execution_count": null,
   "id": "0953a2b2",
   "metadata": {},
   "outputs": [],
   "source": [
    "GS_cv.fit(X,Y)"
   ]
  },
  {
   "cell_type": "code",
   "execution_count": 14,
   "id": "c91fccdc",
   "metadata": {},
   "outputs": [
    {
     "data": {
      "text/plain": [
       "{'max_depth': 13, 'max_features': 15, 'min_samples_split': 11}"
      ]
     },
     "execution_count": 14,
     "metadata": {},
     "output_type": "execute_result"
    }
   ],
   "source": [
    "GS_cv.best_params_"
   ]
  },
  {
   "cell_type": "code",
   "execution_count": 15,
   "id": "77c6fad7",
   "metadata": {},
   "outputs": [],
   "source": [
    "best_gs_tree=GS_cv.best_estimator_"
   ]
  },
  {
   "cell_type": "code",
   "execution_count": 16,
   "id": "ba4fe0da",
   "metadata": {},
   "outputs": [
    {
     "data": {
      "text/plain": [
       "0.9493763473975978"
      ]
     },
     "execution_count": 16,
     "metadata": {},
     "output_type": "execute_result"
    }
   ],
   "source": [
    "best_gs_tree.score(X_t,y_t)"
   ]
  },
  {
   "cell_type": "code",
   "execution_count": 17,
   "id": "c06d4b70",
   "metadata": {},
   "outputs": [
    {
     "data": {
      "text/plain": [
       "0.9602036495226363"
      ]
     },
     "execution_count": 17,
     "metadata": {},
     "output_type": "execute_result"
    }
   ],
   "source": [
    "best_gs_tree.score(X,y)"
   ]
  },
  {
   "cell_type": "code",
   "execution_count": 18,
   "id": "058db0e8",
   "metadata": {},
   "outputs": [],
   "source": [
    "from sklearn.metrics import f1_score\n",
    "pred = best_gs_tree.predict(X_t)\n",
    "f1_score = (y_t,pred)"
   ]
  },
  {
   "cell_type": "code",
   "execution_count": 20,
   "id": "bdc1921a",
   "metadata": {},
   "outputs": [],
   "source": [
    "from sklearn.model_selection import cross_val_score"
   ]
  },
  {
   "cell_type": "code",
   "execution_count": 21,
   "id": "fffc1d04",
   "metadata": {},
   "outputs": [],
   "source": [
    "cs = cross_val_score(best_gs_tree,X,y, cv= 5, scoring = 'f1')"
   ]
  },
  {
   "cell_type": "code",
   "execution_count": 22,
   "id": "7466323f",
   "metadata": {},
   "outputs": [
    {
     "data": {
      "text/plain": [
       "array([0.93975768, 0.94165536, 0.94159727, 0.94621953, 0.94366197])"
      ]
     },
     "execution_count": 22,
     "metadata": {},
     "output_type": "execute_result"
    }
   ],
   "source": [
    "cs"
   ]
  },
  {
   "cell_type": "code",
   "execution_count": 24,
   "id": "5ea3f7dc",
   "metadata": {},
   "outputs": [
    {
     "data": {
      "text/plain": [
       "0.9425783642998244"
      ]
     },
     "execution_count": 24,
     "metadata": {},
     "output_type": "execute_result"
    }
   ],
   "source": [
    "cs.mean()"
   ]
  },
  {
   "cell_type": "code",
   "execution_count": null,
   "id": "833d33db",
   "metadata": {},
   "outputs": [],
   "source": [
    "# как ускорить процесс с CVM\n",
    "# ЧТОБЫ НЕ УСНУТЬ НА КРОСС-ВАЛИДАЦИИ И ПОДБОРЕ ПАРАМЕТРОВ\n",
    "#"
   ]
  },
  {
   "cell_type": "markdown",
   "id": "bcf97a0c",
   "metadata": {},
   "source": [
    "# Ускоряем CVM, Cross-validation"
   ]
  },
  {
   "cell_type": "markdown",
   "id": "804a683d",
   "metadata": {},
   "source": [
    "# мы разбиваем наши элементы на 10 частей и получаем абсолютно нормальное распределение. и потом можно тренироваться с svn и должно быть намного быстрее, если выборка очень большая"
   ]
  },
  {
   "cell_type": "code",
   "execution_count": 7,
   "id": "60f9137f",
   "metadata": {},
   "outputs": [],
   "source": [
    "from sklearn.model_selection import StratifiedKFold"
   ]
  },
  {
   "cell_type": "code",
   "execution_count": 36,
   "id": "e4801fc2",
   "metadata": {},
   "outputs": [],
   "source": [
    "kFold = StratifiedKFold(n_splits=10)"
   ]
  },
  {
   "cell_type": "code",
   "execution_count": 37,
   "id": "4cd7230d",
   "metadata": {},
   "outputs": [],
   "source": [
    "iterator = kFold.split(X, y)"
   ]
  },
  {
   "cell_type": "code",
   "execution_count": 38,
   "id": "9133cf79",
   "metadata": {},
   "outputs": [
    {
     "data": {
      "text/plain": [
       "generator"
      ]
     },
     "execution_count": 38,
     "metadata": {},
     "output_type": "execute_result"
    }
   ],
   "source": [
    "type(iterator)"
   ]
  },
  {
   "cell_type": "code",
   "execution_count": 39,
   "id": "71e9a9d3",
   "metadata": {},
   "outputs": [],
   "source": [
    "_, subset = next(iterator)"
   ]
  },
  {
   "cell_type": "code",
   "execution_count": null,
   "id": "6c13a44e",
   "metadata": {},
   "outputs": [],
   "source": [
    "#если мы нажмем снова _, subset = next(iterator), мы получим наш следующий кусочек данных и снова можем прогонять"
   ]
  },
  {
   "cell_type": "code",
   "execution_count": 40,
   "id": "ecfbf28f",
   "metadata": {},
   "outputs": [
    {
     "data": {
      "text/plain": [
       "array([    0,     1,     2, ..., 10417, 10419, 10421])"
      ]
     },
     "execution_count": 40,
     "metadata": {},
     "output_type": "execute_result"
    }
   ],
   "source": [
    "subset"
   ]
  },
  {
   "cell_type": "code",
   "execution_count": 41,
   "id": "38b0e2d7",
   "metadata": {},
   "outputs": [
    {
     "data": {
      "text/plain": [
       "(10391,)"
      ]
     },
     "execution_count": 41,
     "metadata": {},
     "output_type": "execute_result"
    }
   ],
   "source": [
    "subset.shape"
   ]
  },
  {
   "cell_type": "code",
   "execution_count": 42,
   "id": "e0eb486b",
   "metadata": {},
   "outputs": [
    {
     "data": {
      "text/plain": [
       "(103904, 22)"
      ]
     },
     "execution_count": 42,
     "metadata": {},
     "output_type": "execute_result"
    }
   ],
   "source": [
    "X.shape"
   ]
  },
  {
   "cell_type": "code",
   "execution_count": 43,
   "id": "cea6e682",
   "metadata": {},
   "outputs": [],
   "source": [
    "X = X[subset]\n",
    "y = y[subset]"
   ]
  },
  {
   "cell_type": "code",
   "execution_count": 44,
   "id": "f26b66f6",
   "metadata": {},
   "outputs": [
    {
     "data": {
      "text/plain": [
       "(10391,)"
      ]
     },
     "execution_count": 44,
     "metadata": {},
     "output_type": "execute_result"
    }
   ],
   "source": [
    "y.shape"
   ]
  },
  {
   "cell_type": "code",
   "execution_count": 45,
   "id": "78f87ad9",
   "metadata": {},
   "outputs": [
    {
     "data": {
      "text/plain": [
       "(10391, 22)"
      ]
     },
     "execution_count": 45,
     "metadata": {},
     "output_type": "execute_result"
    }
   ],
   "source": [
    "X.shape"
   ]
  },
  {
   "cell_type": "code",
   "execution_count": null,
   "id": "1d3442b6",
   "metadata": {},
   "outputs": [],
   "source": []
  },
  {
   "cell_type": "code",
   "execution_count": 46,
   "id": "28477769",
   "metadata": {},
   "outputs": [],
   "source": [
    "paramgrid = [{ 'kernel':['rbf'], 'C':[1,0.5]},\n",
    "          { 'kernel':['poly'], 'degree':[3,4]} ]   ## замена параметров\n",
    "\n",
    "\n",
    "#в paramgrid можно передавать список из массивов"
   ]
  },
  {
   "cell_type": "code",
   "execution_count": 48,
   "id": "88bc5454",
   "metadata": {},
   "outputs": [],
   "source": [
    "GS_cv = GridSearchCV(svm_clf,param_grid = paramgrid, cv = 3)\n",
    "# cv - количество разбиений"
   ]
  },
  {
   "cell_type": "code",
   "execution_count": 49,
   "id": "82c75a3f",
   "metadata": {},
   "outputs": [
    {
     "data": {
      "text/plain": [
       "GridSearchCV(cv=3, estimator=SVC(),\n",
       "             param_grid=[{'C': [1, 0.5], 'kernel': ['rbf']},\n",
       "                         {'degree': [3, 4], 'kernel': ['poly']}])"
      ]
     },
     "execution_count": 49,
     "metadata": {},
     "output_type": "execute_result"
    }
   ],
   "source": [
    "GS_cv.fit(X,y)"
   ]
  },
  {
   "cell_type": "code",
   "execution_count": 50,
   "id": "593c6d7b",
   "metadata": {},
   "outputs": [
    {
     "data": {
      "text/plain": [
       "{'C': 1, 'kernel': 'rbf'}"
      ]
     },
     "execution_count": 50,
     "metadata": {},
     "output_type": "execute_result"
    }
   ],
   "source": [
    "GS_cv.best_params_"
   ]
  },
  {
   "cell_type": "code",
   "execution_count": 54,
   "id": "71a8d216",
   "metadata": {},
   "outputs": [],
   "source": [
    "best_gs_tree=GS_cv.best_estimator_"
   ]
  },
  {
   "cell_type": "code",
   "execution_count": 55,
   "id": "95d4386c",
   "metadata": {},
   "outputs": [
    {
     "data": {
      "text/plain": [
       "0.9402140437326764"
      ]
     },
     "execution_count": 55,
     "metadata": {},
     "output_type": "execute_result"
    }
   ],
   "source": [
    "best_gs_tree.score(X_t,y_t)"
   ]
  },
  {
   "cell_type": "code",
   "execution_count": 56,
   "id": "cf0d8b20",
   "metadata": {},
   "outputs": [
    {
     "data": {
      "text/plain": [
       "0.9501491675488404"
      ]
     },
     "execution_count": 56,
     "metadata": {},
     "output_type": "execute_result"
    }
   ],
   "source": [
    "best_gs_tree.score(X,y)"
   ]
  },
  {
   "cell_type": "code",
   "execution_count": 57,
   "id": "ae728ad1",
   "metadata": {},
   "outputs": [],
   "source": [
    "from sklearn.metrics import f1_score\n",
    "pred = best_gs_tree.predict(X_t)\n",
    "f1_score = (y_t,pred)"
   ]
  },
  {
   "cell_type": "code",
   "execution_count": null,
   "id": "871c4b24",
   "metadata": {},
   "outputs": [],
   "source": []
  },
  {
   "cell_type": "code",
   "execution_count": null,
   "id": "0e4b1707",
   "metadata": {},
   "outputs": [],
   "source": []
  },
  {
   "cell_type": "markdown",
   "id": "f17ec8b8",
   "metadata": {},
   "source": [
    "# cross validation on new X and y"
   ]
  },
  {
   "cell_type": "code",
   "execution_count": 58,
   "id": "dfb3ebfc",
   "metadata": {},
   "outputs": [],
   "source": [
    "from sklearn.model_selection import cross_val_score"
   ]
  },
  {
   "cell_type": "code",
   "execution_count": 59,
   "id": "aaf845e6",
   "metadata": {},
   "outputs": [],
   "source": [
    "cs = cross_val_score(best_gs_tree,X,y, cv= 5, scoring = 'f1')"
   ]
  },
  {
   "cell_type": "code",
   "execution_count": null,
   "id": "931a6c1b",
   "metadata": {},
   "outputs": [],
   "source": []
  },
  {
   "cell_type": "code",
   "execution_count": 60,
   "id": "d02723d2",
   "metadata": {},
   "outputs": [
    {
     "data": {
      "text/plain": [
       "array([0.92917847, 0.9216018 , 0.92359932, 0.93213685, 0.90960135])"
      ]
     },
     "execution_count": 60,
     "metadata": {},
     "output_type": "execute_result"
    }
   ],
   "source": [
    "cs"
   ]
  },
  {
   "cell_type": "code",
   "execution_count": null,
   "id": "166f5ef2",
   "metadata": {},
   "outputs": [],
   "source": []
  }
 ],
 "metadata": {
  "kernelspec": {
   "display_name": "Python 3 (ipykernel)",
   "language": "python",
   "name": "python3"
  },
  "language_info": {
   "codemirror_mode": {
    "name": "ipython",
    "version": 3
   },
   "file_extension": ".py",
   "mimetype": "text/x-python",
   "name": "python",
   "nbconvert_exporter": "python",
   "pygments_lexer": "ipython3",
   "version": "3.9.7"
  }
 },
 "nbformat": 4,
 "nbformat_minor": 5
}
